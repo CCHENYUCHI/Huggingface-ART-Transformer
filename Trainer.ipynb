{
 "cells": [
  {
   "cell_type": "markdown",
   "metadata": {},
   "source": [
    "## SLT Trainer"
   ]
  },
  {
   "cell_type": "markdown",
   "metadata": {},
   "source": [
    "#### DataLoader"
   ]
  },
  {
   "cell_type": "code",
   "execution_count": null,
   "metadata": {
    "collapsed": true,
    "jupyter": {
     "outputs_hidden": true
    },
    "scrolled": true
   },
   "outputs": [],
   "source": [
    "import sys\n",
    "sys.path.insert(0, './Dataloader')\n",
    "from SLT_dataloader import EEGROIDataset, SignalDataCollator, EEGROI_fft_Dataset, EEGROI_Power_Dataset\n",
    "\n",
    "# Usage example\n",
    "roi_folder = \"G:\\\\共用雲端硬碟\\\\CNElab_陳昱祺\\\\source localization\\\\test_data\\\\ROI\\\\Desikan_Kilianny_with_3pca\"\n",
    "eeg_folder = \"G:\\\\共用雲端硬碟\\\\CNElab_陳昱祺\\\\source localization\\\\test_data\\\\ROI\\\\Desikan_Kilianny_with_3pca\"\n",
    "group_file = \"./Dataloader/subject_groups.json\"\n",
    "# segment_file = \"G:\\\\共用雲端硬碟\\\\CNElab_陳昱祺\\\\source localization\\\\test_data\\\\RO\\I\\Desikan_Kilianny_with_3pca\\\\roi_removal_segment.txt\"\n",
    "\n",
    "# Create dataset\n",
    "train_dataset = EEGROI_fft_Dataset(roi_folder, eeg_folder, group_file, \"train_dataset\" )\n",
    "print(f\"\\n\\n================================================\\n\")\n",
    "print(f\"Total dataset size: {len(train_dataset)}\")\n",
    "print(f\"\\n================================================\\n\\n\")\n",
    "# Create dataset\n",
    "test_dataset = EEGROI_fft_Dataset(roi_folder, eeg_folder, group_file, \"test_eval\")\n",
    "print(f\"\\n================================================\\n\")\n",
    "print(f\"Total eval dataset size: {len(test_dataset)}\")"
   ]
  },
  {
   "cell_type": "markdown",
   "metadata": {},
   "source": [
    "### Simulate Dataset"
   ]
  },
  {
   "cell_type": "code",
   "execution_count": null,
   "metadata": {
    "collapsed": true,
    "jupyter": {
     "outputs_hidden": true
    }
   },
   "outputs": [],
   "source": [
    "import sys\n",
    "sys.path.insert(0, './Dataloader')\n",
    "from SLT_dataloader import EEGROIDataset, SignalDataCollator, EEGROI_fft_Dataset, EEGROI_Power_Dataset\n",
    "\n",
    "train_path = \"G:\\\\共用雲端硬碟\\CNElab_陳昱祺\\\\source localization\\\\simulate_data\\\\training_data\\\\\"    # dataset_seedsource_5000_1000000.0_20250402_065238\n",
    "test_path =   \"G:\\\\共用雲端硬碟\\\\CNElab_陳昱祺\\\\source localization\\\\test_data\\\\ROI\\\\Desikan_Kilianny_with_3pca\\\\\"\n",
    "group_file = \"./Dataloader/subject_groups.json\"\n",
    "\n",
    "# Create dataset\n",
    "train_dataset = EEGROI_Power_Dataset(train_path)\n",
    "print(f\"\\n\\n================================================\\n\")\n",
    "print(f\"Total dataset size: {len(train_dataset)}\")\n",
    "print(f\"\\n================================================\\n\\n\")\n",
    "# Create dataset\n",
    "test_dataset = EEGROI_fft_Dataset(test_path, test_path, group_file, \"train_dataset\")\n",
    "print(f\"\\n================================================\\n\")\n",
    "print(f\"Total eval dataset size: {len(test_dataset)}\")"
   ]
  },
  {
   "cell_type": "markdown",
   "metadata": {},
   "source": [
    "### Merge Dataset"
   ]
  },
  {
   "cell_type": "code",
   "execution_count": null,
   "metadata": {},
   "outputs": [],
   "source": [
    "import sys\n",
    "sys.path.insert(0, './Dataloader')\n",
    "from SLT_dataloader import EEGROIDataset, SignalDataCollator, EEGROI_fft_Dataset, EEGROI_Power_Dataset, EEGROI_Merge_Dataset\n",
    "\n",
    "data_path_1 = \"G:\\\\共用雲端硬碟\\\\CNElab_陳昱祺\\\\source localization\\\\simulate_data\\\\dataset_seedsource_2000_10_20250406_034254\\\\\"\n",
    "data_path_2 = \"G:\\\\共用雲端硬碟\\\\CNElab_陳昱祺\\\\source localization\\\\simulate_data\\\\dataset_seedsource_2000_1_20250406_034323\\\\\"\n",
    "data_path_3 = \"G:\\\\共用雲端硬碟\\\\CNElab_陳昱祺\\\\source localization\\\\simulate_data\\\\dataset_seedsource_2000_1000000.0_20250406_034224\\\\\"\n",
    "test_path = \"G:\\\\共用雲端硬碟\\\\CNElab_陳昱祺\\\\source localization\\\\test_data\\\\ROI\\\\Desikan_Kilianny_with_3pca\\\\\"\n",
    "group_file = \"./Dataloader/subject_groups.json\"\n",
    "\n",
    "dataset_1 = EEGROI_Power_Dataset(data_path_1)\n",
    "dataset_2 = EEGROI_Power_Dataset(data_path_2)\n",
    "dataset_3 = EEGROI_Power_Dataset(data_path_3)\n",
    "dataset_4 = EEGROI_fft_Dataset(test_path, test_path, group_file, \"train_dataset\")\n",
    "\n",
    "merge_dataset = EEGROI_Merge_Dataset([dataset_1, dataset_2, dataset_3, dataset_4])\n",
    "train_data_len = len(merge_dataset)\n",
    "print(f\"\\n\\n================================================\\n\")\n",
    "print(f\"Total dataset size: {train_data_len}\")\n",
    "print(f\"\\n================================================\\n\\n\")\n",
    "\n",
    "test_dataset = EEGROI_fft_Dataset(test_path, test_path, group_file, \"test_dataset_temp\")\n",
    "test_data_len = len(test_dataset)\n",
    "print(f\"\\n================================================\\n\")\n",
    "print(f\"Total eval dataset size: {test_data_len}\")"
   ]
  },
  {
   "cell_type": "markdown",
   "metadata": {},
   "source": [
    "### EEG Dataset"
   ]
  },
  {
   "cell_type": "code",
   "execution_count": 1,
   "metadata": {},
   "outputs": [
    {
     "name": "stdout",
     "output_type": "stream",
     "text": [
      "\n",
      "\n",
      "================================================\n",
      "\n",
      "Total dataset size: 78423\n",
      "\n",
      "================================================\n",
      "\n",
      "\n",
      "\n",
      "\n",
      "================================================\n",
      "\n",
      "Total dataset size: 17902\n",
      "\n",
      "================================================\n",
      "\n",
      "\n"
     ]
    }
   ],
   "source": [
    "import sys\n",
    "sys.path.insert(0, './Dataloader')\n",
    "from SLT_dataloader import RandonMaskDataCollator, RandonMaskEEGDataCollator, EEG_Dataset, EEGDatasetFromNPY, RandonMaskShuffleEEGDataCollator, TshingHwa_Dataset, EEGROI_Merge_Dataset\n",
    "from torch.utils.data import DataLoader, Dataset\n",
    "import torch\n",
    "\n",
    "train_data_path = f\"G:\\\\共用雲端硬碟\\\\CNElab_陳昱祺\\\\source localization\\\\test_data\\\\ROI\\\\EEG\\\\train_dataset.npy\"\n",
    "train_data_list = [train_data_path]\n",
    "train_2_dataset = EEGDatasetFromNPY(train_data_list)\n",
    "\n",
    "path = \"G:\\\\共用雲端硬碟\\\\CNElab_陳昱祺\\\\source localization\\\\test_data\\\\tshinghwa\\\\train_dataset.npy\"\n",
    "list = [path]\n",
    "train_1_dataset = TshingHwa_Dataset(list)\n",
    "\n",
    "train_merge_dataset = EEGROI_Merge_Dataset([train_1_dataset, train_2_dataset])\n",
    "train_data_len = len(train_merge_dataset)\n",
    "print(f\"\\n\\n================================================\\n\")\n",
    "print(f\"Total dataset size: {train_merge_dataset.__len__()}\")\n",
    "print(f\"\\n================================================\\n\\n\")\n",
    "\n",
    "test_data_path = f\"G:\\\\共用雲端硬碟\\\\CNElab_陳昱祺\\\\source localization\\\\test_data\\\\ROI\\\\EEG\\\\eval_dataset.npy\"\n",
    "test_data_list = [test_data_path]\n",
    "test_2_dataset = EEGDatasetFromNPY(test_data_list)\n",
    "\n",
    "path = \"G:\\\\共用雲端硬碟\\\\CNElab_陳昱祺\\\\source localization\\\\test_data\\\\tshinghwa\\\\test_dataset.npy\"\n",
    "list = [path]\n",
    "test_1_dataset = TshingHwa_Dataset(list)\n",
    "\n",
    "test_merge_dataset = EEGROI_Merge_Dataset([test_1_dataset, test_2_dataset])\n",
    "test_data_len = len(test_merge_dataset)\n",
    "print(f\"\\n\\n================================================\\n\")\n",
    "print(f\"Total dataset size: {test_merge_dataset.__len__()}\")\n",
    "print(f\"\\n================================================\\n\\n\")\n"
   ]
  },
  {
   "cell_type": "markdown",
   "metadata": {},
   "source": [
    "# Model"
   ]
  },
  {
   "cell_type": "code",
   "execution_count": 2,
   "metadata": {
    "scrolled": true
   },
   "outputs": [
    {
     "name": "stderr",
     "output_type": "stream",
     "text": [
      "wandb: Using wandb-core as the SDK backend.  Please refer to https://wandb.me/wandb-core for more information.\n",
      "wandb: Currently logged in as: richielp700 (richielp700-national-tsing-hua-university). Use `wandb login --relogin` to force relogin\n"
     ]
    },
    {
     "data": {
      "text/html": [
       "Tracking run with wandb version 0.19.1"
      ],
      "text/plain": [
       "<IPython.core.display.HTML object>"
      ]
     },
     "metadata": {},
     "output_type": "display_data"
    },
    {
     "data": {
      "text/html": [
       "Run data is saved locally in <code>g:\\共用雲端硬碟\\CNElab_陳昱祺\\multi-modal\\wandb\\run-20250517_042637-9srh1qxb</code>"
      ],
      "text/plain": [
       "<IPython.core.display.HTML object>"
      ]
     },
     "metadata": {},
     "output_type": "display_data"
    },
    {
     "data": {
      "text/html": [
       "Syncing run <strong><a href='https://wandb.ai/richielp700-national-tsing-hua-university/huggingface/runs/9srh1qxb' target=\"_blank\">channel shuffle EEG Channel Position Encoding without decoder</a></strong> to <a href='https://wandb.ai/richielp700-national-tsing-hua-university/huggingface' target=\"_blank\">Weights & Biases</a> (<a href='https://wandb.me/developer-guide' target=\"_blank\">docs</a>)<br>"
      ],
      "text/plain": [
       "<IPython.core.display.HTML object>"
      ]
     },
     "metadata": {},
     "output_type": "display_data"
    },
    {
     "data": {
      "text/html": [
       " View project at <a href='https://wandb.ai/richielp700-national-tsing-hua-university/huggingface' target=\"_blank\">https://wandb.ai/richielp700-national-tsing-hua-university/huggingface</a>"
      ],
      "text/plain": [
       "<IPython.core.display.HTML object>"
      ]
     },
     "metadata": {},
     "output_type": "display_data"
    },
    {
     "data": {
      "text/html": [
       " View run at <a href='https://wandb.ai/richielp700-national-tsing-hua-university/huggingface/runs/9srh1qxb' target=\"_blank\">https://wandb.ai/richielp700-national-tsing-hua-university/huggingface/runs/9srh1qxb</a>"
      ],
      "text/plain": [
       "<IPython.core.display.HTML object>"
      ]
     },
     "metadata": {},
     "output_type": "display_data"
    },
    {
     "data": {
      "application/vnd.jupyter.widget-view+json": {
       "model_id": "f975e475d4f041d78cc55f290c515d74",
       "version_major": 2,
       "version_minor": 0
      },
      "text/plain": [
       "  0%|          | 0/30700 [00:00<?, ?it/s]"
      ]
     },
     "metadata": {},
     "output_type": "display_data"
    },
    {
     "name": "stderr",
     "output_type": "stream",
     "text": [
      "Could not estimate the number of tokens of the input, floating-point operations will not be computed\n"
     ]
    },
    {
     "name": "stdout",
     "output_type": "stream",
     "text": [
      "{'loss': 1.0989, 'grad_norm': 0.14402402937412262, 'learning_rate': 0.0004999705485285178, 'epoch': 0.1}\n",
      "{'loss': 0.8001, 'grad_norm': 0.2487797886133194, 'learning_rate': 0.0004998822010531848, 'epoch': 0.2}\n",
      "{'loss': 0.6507, 'grad_norm': 0.25186392664909363, 'learning_rate': 0.0004997349783897062, 'epoch': 0.29}\n"
     ]
    },
    {
     "data": {
      "application/vnd.jupyter.widget-view+json": {
       "model_id": "cc86127532114a7db9c57360201ab36f",
       "version_major": 2,
       "version_minor": 0
      },
      "text/plain": [
       "  0%|          | 0/70 [00:00<?, ?it/s]"
      ]
     },
     "metadata": {},
     "output_type": "display_data"
    },
    {
     "name": "stdout",
     "output_type": "stream",
     "text": [
      "{'eval_loss': 0.360721230506897, 'eval_runtime': 28.8819, 'eval_samples_per_second': 619.834, 'eval_steps_per_second': 2.424, 'epoch': 0.33}\n",
      "{'loss': 0.5553, 'grad_norm': 0.23849014937877655, 'learning_rate': 0.0004995289152254744, 'epoch': 0.39}\n",
      "{'loss': 0.5031, 'grad_norm': 0.2638288140296936, 'learning_rate': 0.0004992640601113968, 'epoch': 0.49}\n",
      "{'loss': 0.4683, 'grad_norm': 0.2540479600429535, 'learning_rate': 0.000498940475450456, 'epoch': 0.59}\n"
     ]
    },
    {
     "data": {
      "application/vnd.jupyter.widget-view+json": {
       "model_id": "11e8765911c94076b1f8318fa858e187",
       "version_major": 2,
       "version_minor": 0
      },
      "text/plain": [
       "  0%|          | 0/70 [00:00<?, ?it/s]"
      ]
     },
     "metadata": {},
     "output_type": "display_data"
    },
    {
     "name": "stdout",
     "output_type": "stream",
     "text": [
      "{'eval_loss': 0.26104795932769775, 'eval_runtime': 22.3279, 'eval_samples_per_second': 801.777, 'eval_steps_per_second': 3.135, 'epoch': 0.66}\n",
      "{'loss': 0.4438, 'grad_norm': 0.2803760766983032, 'learning_rate': 0.0004985582374830074, 'epoch': 0.68}\n",
      "{'loss': 0.4282, 'grad_norm': 0.2683008909225464, 'learning_rate': 0.0004981174362688158, 'epoch': 0.78}\n",
      "{'loss': 0.4106, 'grad_norm': 0.3667033314704895, 'learning_rate': 0.0004976181756658363, 'epoch': 0.88}\n",
      "{'loss': 0.4074, 'grad_norm': 0.2542809545993805, 'learning_rate': 0.0004970605733057441, 'epoch': 0.98}\n"
     ]
    },
    {
     "data": {
      "application/vnd.jupyter.widget-view+json": {
       "model_id": "fde0ec174ae641c48aa4defcc9b2559e",
       "version_major": 2,
       "version_minor": 0
      },
      "text/plain": [
       "  0%|          | 0/70 [00:00<?, ?it/s]"
      ]
     },
     "metadata": {},
     "output_type": "display_data"
    },
    {
     "name": "stdout",
     "output_type": "stream",
     "text": [
      "{'eval_loss': 0.24547599256038666, 'eval_runtime': 24.5915, 'eval_samples_per_second': 727.975, 'eval_steps_per_second': 2.847, 'epoch': 1.0}\n",
      "{'loss': 0.3954, 'grad_norm': 0.24963513016700745, 'learning_rate': 0.0004964447605662193, 'epoch': 1.07}\n",
      "{'loss': 0.3913, 'grad_norm': 0.2695433497428894, 'learning_rate': 0.0004957708825399927, 'epoch': 1.17}\n",
      "{'loss': 0.3874, 'grad_norm': 0.3300803303718567, 'learning_rate': 0.00049503909800066, 'epoch': 1.27}\n"
     ]
    },
    {
     "data": {
      "application/vnd.jupyter.widget-view+json": {
       "model_id": "7f9bb06a1d7d44cca314d0c149642a42",
       "version_major": 2,
       "version_minor": 0
      },
      "text/plain": [
       "  0%|          | 0/70 [00:00<?, ?it/s]"
      ]
     },
     "metadata": {},
     "output_type": "display_data"
    },
    {
     "name": "stdout",
     "output_type": "stream",
     "text": [
      "{'eval_loss': 0.22643281519412994, 'eval_runtime': 22.7721, 'eval_samples_per_second': 786.137, 'eval_steps_per_second': 3.074, 'epoch': 1.33}\n",
      "{'loss': 0.3842, 'grad_norm': 0.23505368828773499, 'learning_rate': 0.000494249579365273, 'epoch': 1.37}\n",
      "{'loss': 0.3872, 'grad_norm': 0.23679834604263306, 'learning_rate': 0.0004934025126537163, 'epoch': 1.47}\n",
      "{'loss': 0.368, 'grad_norm': 0.1871933490037918, 'learning_rate': 0.0004924980974448791, 'epoch': 1.56}\n",
      "{'loss': 0.3608, 'grad_norm': 0.372588187456131, 'learning_rate': 0.0004915365468296307, 'epoch': 1.66}\n"
     ]
    },
    {
     "data": {
      "application/vnd.jupyter.widget-view+json": {
       "model_id": "7c7998f71d814cc99fb2d72c4221753b",
       "version_major": 2,
       "version_minor": 0
      },
      "text/plain": [
       "  0%|          | 0/70 [00:00<?, ?it/s]"
      ]
     },
     "metadata": {},
     "output_type": "display_data"
    },
    {
     "name": "stdout",
     "output_type": "stream",
     "text": [
      "{'eval_loss': 0.22608543932437897, 'eval_runtime': 22.7736, 'eval_samples_per_second': 786.086, 'eval_steps_per_second': 3.074, 'epoch': 1.66}\n",
      "{'loss': 0.3787, 'grad_norm': 0.1989993453025818, 'learning_rate': 0.0004905180873606156, 'epoch': 1.76}\n",
      "{'loss': 0.375, 'grad_norm': 0.21588116884231567, 'learning_rate': 0.0004894429589988739, 'epoch': 1.86}\n",
      "{'loss': 0.3595, 'grad_norm': 0.21580226719379425, 'learning_rate': 0.0004883114150573037, 'epoch': 1.95}\n"
     ]
    },
    {
     "data": {
      "application/vnd.jupyter.widget-view+json": {
       "model_id": "a55a187f4687444fb7d4c2b6026b59ad",
       "version_major": 2,
       "version_minor": 0
      },
      "text/plain": [
       "  0%|          | 0/70 [00:00<?, ?it/s]"
      ]
     },
     "metadata": {},
     "output_type": "display_data"
    },
    {
     "name": "stdout",
     "output_type": "stream",
     "text": [
      "{'eval_loss': 0.21594476699829102, 'eval_runtime': 22.4922, 'eval_samples_per_second': 795.922, 'eval_steps_per_second': 3.112, 'epoch': 1.99}\n",
      "{'loss': 0.3644, 'grad_norm': 0.22588801383972168, 'learning_rate': 0.00048712372214097804, 'epoch': 2.05}\n",
      "{'loss': 0.3523, 'grad_norm': 0.24950507283210754, 'learning_rate': 0.0004858801600843294, 'epoch': 2.15}\n",
      "{'loss': 0.3555, 'grad_norm': 0.3627186715602875, 'learning_rate': 0.0004845810218852175, 'epoch': 2.25}\n"
     ]
    },
    {
     "data": {
      "application/vnd.jupyter.widget-view+json": {
       "model_id": "41d0b14f76974702b5606ec55f727128",
       "version_major": 2,
       "version_minor": 0
      },
      "text/plain": [
       "  0%|          | 0/70 [00:00<?, ?it/s]"
      ]
     },
     "metadata": {},
     "output_type": "display_data"
    },
    {
     "name": "stdout",
     "output_type": "stream",
     "text": [
      "{'eval_loss': 0.22015054523944855, 'eval_runtime': 23.3976, 'eval_samples_per_second': 765.121, 'eval_steps_per_second': 2.992, 'epoch': 2.33}\n",
      "{'loss': 0.3542, 'grad_norm': 0.24914611876010895, 'learning_rate': 0.00048322661363589504, 'epoch': 2.35}\n",
      "{'loss': 0.3475, 'grad_norm': 0.27841344475746155, 'learning_rate': 0.0004818172544508897, 'epoch': 2.44}\n",
      "{'loss': 0.3546, 'grad_norm': 0.2564994692802429, 'learning_rate': 0.00048035327639181616, 'epoch': 2.54}\n",
      "{'loss': 0.3605, 'grad_norm': 0.23120713233947754, 'learning_rate': 0.0004788350243891387, 'epoch': 2.64}\n"
     ]
    },
    {
     "data": {
      "application/vnd.jupyter.widget-view+json": {
       "model_id": "d15e7db7bca940dfa89466f843918b25",
       "version_major": 2,
       "version_minor": 0
      },
      "text/plain": [
       "  0%|          | 0/70 [00:00<?, ?it/s]"
      ]
     },
     "metadata": {},
     "output_type": "display_data"
    },
    {
     "name": "stdout",
     "output_type": "stream",
     "text": [
      "{'eval_loss': 0.21510319411754608, 'eval_runtime': 22.6178, 'eval_samples_per_second': 791.501, 'eval_steps_per_second': 3.095, 'epoch': 2.66}\n",
      "{'loss': 0.3512, 'grad_norm': 0.17447404563426971, 'learning_rate': 0.00047726285616090216, 'epoch': 2.74}\n",
      "{'loss': 0.3358, 'grad_norm': 0.29370230436325073, 'learning_rate': 0.00047563714212844817, 'epoch': 2.83}\n",
      "{'loss': 0.3479, 'grad_norm': 0.20109930634498596, 'learning_rate': 0.00047395826532914057, 'epoch': 2.93}\n"
     ]
    },
    {
     "data": {
      "application/vnd.jupyter.widget-view+json": {
       "model_id": "bb3243e2c2e544e598afa3c9beaa2db6",
       "version_major": 2,
       "version_minor": 0
      },
      "text/plain": [
       "  0%|          | 0/70 [00:00<?, ?it/s]"
      ]
     },
     "metadata": {},
     "output_type": "display_data"
    },
    {
     "name": "stdout",
     "output_type": "stream",
     "text": [
      "{'eval_loss': 0.2117856740951538, 'eval_runtime': 22.7965, 'eval_samples_per_second': 785.296, 'eval_steps_per_second': 3.071, 'epoch': 2.99}\n",
      "{'loss': 0.3476, 'grad_norm': 0.171859472990036, 'learning_rate': 0.0004722266213261167, 'epoch': 3.03}\n",
      "{'loss': 0.3377, 'grad_norm': 0.23706527054309845, 'learning_rate': 0.00047044261811508836, 'epoch': 3.13}\n",
      "{'loss': 0.3466, 'grad_norm': 0.22117416560649872, 'learning_rate': 0.00046860667602821316, 'epoch': 3.22}\n",
      "{'loss': 0.344, 'grad_norm': 0.25192365050315857, 'learning_rate': 0.0004667192276350591, 'epoch': 3.32}\n"
     ]
    },
    {
     "data": {
      "application/vnd.jupyter.widget-view+json": {
       "model_id": "9f95a1abd6644b4ca714cc9c57bc78c6",
       "version_major": 2,
       "version_minor": 0
      },
      "text/plain": [
       "  0%|          | 0/70 [00:00<?, ?it/s]"
      ]
     },
     "metadata": {},
     "output_type": "display_data"
    },
    {
     "name": "stdout",
     "output_type": "stream",
     "text": [
      "{'eval_loss': 0.21426072716712952, 'eval_runtime': 23.4011, 'eval_samples_per_second': 765.007, 'eval_steps_per_second': 2.991, 'epoch': 3.32}\n",
      "{'loss': 0.3385, 'grad_norm': 0.2706815302371979, 'learning_rate': 0.00046478071764068655, 'epoch': 3.42}\n",
      "{'loss': 0.3308, 'grad_norm': 0.24614618718624115, 'learning_rate': 0.0004627916027808699, 'epoch': 3.52}\n",
      "{'loss': 0.3465, 'grad_norm': 0.2666940689086914, 'learning_rate': 0.00046075235171448575, 'epoch': 3.62}\n"
     ]
    },
    {
     "data": {
      "application/vnd.jupyter.widget-view+json": {
       "model_id": "42b44235ff6c445888c2a5727caf0b7a",
       "version_major": 2,
       "version_minor": 0
      },
      "text/plain": [
       "  0%|          | 0/70 [00:00<?, ?it/s]"
      ]
     },
     "metadata": {},
     "output_type": "display_data"
    },
    {
     "name": "stdout",
     "output_type": "stream",
     "text": [
      "{'eval_loss': 0.20424188673496246, 'eval_runtime': 23.1868, 'eval_samples_per_second': 772.076, 'eval_steps_per_second': 3.019, 'epoch': 3.65}\n",
      "{'loss': 0.3386, 'grad_norm': 0.23550768196582794, 'learning_rate': 0.00045866344491309107, 'epoch': 3.71}\n",
      "{'loss': 0.3381, 'grad_norm': 0.22916966676712036, 'learning_rate': 0.0004565253745477187, 'epoch': 3.81}\n",
      "{'loss': 0.3346, 'grad_norm': 0.1794818937778473, 'learning_rate': 0.0004543386443729157, 'epoch': 3.91}\n"
     ]
    },
    {
     "data": {
      "application/vnd.jupyter.widget-view+json": {
       "model_id": "c04c10d449754e0bb7111eaee25efb8f",
       "version_major": 2,
       "version_minor": 0
      },
      "text/plain": [
       "  0%|          | 0/70 [00:00<?, ?it/s]"
      ]
     },
     "metadata": {},
     "output_type": "display_data"
    },
    {
     "name": "stdout",
     "output_type": "stream",
     "text": [
      "{'eval_loss': 0.21105018258094788, 'eval_runtime': 22.7526, 'eval_samples_per_second': 786.81, 'eval_steps_per_second': 3.077, 'epoch': 3.99}\n",
      "{'loss': 0.3347, 'grad_norm': 0.3222557306289673, 'learning_rate': 0.00045210376960805304, 'epoch': 4.01}\n",
      "{'loss': 0.3338, 'grad_norm': 0.513568639755249, 'learning_rate': 0.0004498212768159341, 'epoch': 4.1}\n",
      "{'loss': 0.3351, 'grad_norm': 0.20163457095623016, 'learning_rate': 0.0004474917037787298, 'epoch': 4.2}\n",
      "{'loss': 0.3335, 'grad_norm': 0.35376113653182983, 'learning_rate': 0.0004451155993712711, 'epoch': 4.3}\n"
     ]
    },
    {
     "data": {
      "application/vnd.jupyter.widget-view+json": {
       "model_id": "613651c709ba43b3b59f5b03a8b20bec",
       "version_major": 2,
       "version_minor": 0
      },
      "text/plain": [
       "  0%|          | 0/70 [00:00<?, ?it/s]"
      ]
     },
     "metadata": {},
     "output_type": "display_data"
    },
    {
     "name": "stdout",
     "output_type": "stream",
     "text": [
      "{'eval_loss': 0.2038932591676712, 'eval_runtime': 23.0711, 'eval_samples_per_second': 775.95, 'eval_steps_per_second': 3.034, 'epoch': 4.32}\n",
      "{'loss': 0.328, 'grad_norm': 0.4827389717102051, 'learning_rate': 0.0004426935234317276, 'epoch': 4.4}\n",
      "{'loss': 0.3249, 'grad_norm': 0.17180471122264862, 'learning_rate': 0.000440226046629703, 'epoch': 4.5}\n",
      "{'loss': 0.3313, 'grad_norm': 0.3460977375507355, 'learning_rate': 0.00043771375033177864, 'epoch': 4.59}\n"
     ]
    },
    {
     "data": {
      "application/vnd.jupyter.widget-view+json": {
       "model_id": "34b1a7b61ccc4ff1b5b32a4193eee019",
       "version_major": 2,
       "version_minor": 0
      },
      "text/plain": [
       "  0%|          | 0/70 [00:00<?, ?it/s]"
      ]
     },
     "metadata": {},
     "output_type": "display_data"
    },
    {
     "name": "stdout",
     "output_type": "stream",
     "text": [
      "{'eval_loss': 0.19949902594089508, 'eval_runtime': 22.6155, 'eval_samples_per_second': 791.581, 'eval_steps_per_second': 3.095, 'epoch': 4.65}\n",
      "{'loss': 0.3347, 'grad_norm': 0.3100338280200958, 'learning_rate': 0.0004351572264645366, 'epoch': 4.69}\n",
      "{'loss': 0.3268, 'grad_norm': 0.2758147418498993, 'learning_rate': 0.00043255707737509507, 'epoch': 4.79}\n",
      "{'loss': 0.3299, 'grad_norm': 0.1777745485305786, 'learning_rate': 0.0004299139156891883, 'epoch': 4.89}\n",
      "{'loss': 0.3221, 'grad_norm': 0.23423387110233307, 'learning_rate': 0.00042722836416682423, 'epoch': 4.98}\n"
     ]
    },
    {
     "data": {
      "application/vnd.jupyter.widget-view+json": {
       "model_id": "11af7d693bff4754a6341d2abe486f53",
       "version_major": 2,
       "version_minor": 0
      },
      "text/plain": [
       "  0%|          | 0/70 [00:00<?, ?it/s]"
      ]
     },
     "metadata": {},
     "output_type": "display_data"
    },
    {
     "name": "stdout",
     "output_type": "stream",
     "text": [
      "{'eval_loss': 0.20348991453647614, 'eval_runtime': 22.7422, 'eval_samples_per_second': 787.172, 'eval_steps_per_second': 3.078, 'epoch': 4.98}\n",
      "{'loss': 0.3386, 'grad_norm': 0.12193400412797928, 'learning_rate': 0.0004245010555555554, 'epoch': 5.08}\n",
      "{'loss': 0.3278, 'grad_norm': 0.2423650473356247, 'learning_rate': 0.0004217326324413962, 'epoch': 5.18}\n",
      "{'loss': 0.3254, 'grad_norm': 0.2052278071641922, 'learning_rate': 0.0004189237470974219, 'epoch': 5.28}\n"
     ]
    },
    {
     "data": {
      "application/vnd.jupyter.widget-view+json": {
       "model_id": "131a5d8532d745908bba18d2243cc22f",
       "version_major": 2,
       "version_minor": 0
      },
      "text/plain": [
       "  0%|          | 0/70 [00:00<?, ?it/s]"
      ]
     },
     "metadata": {},
     "output_type": "display_data"
    },
    {
     "name": "stdout",
     "output_type": "stream",
     "text": [
      "{'eval_loss': 0.19856782257556915, 'eval_runtime': 23.1641, 'eval_samples_per_second': 772.832, 'eval_steps_per_second': 3.022, 'epoch': 5.32}\n",
      "{'loss': 0.3371, 'grad_norm': 0.26648467779159546, 'learning_rate': 0.0004160750613300851, 'epoch': 5.37}\n",
      "{'loss': 0.3224, 'grad_norm': 0.20758786797523499, 'learning_rate': 0.0004131872463232872, 'epoch': 5.47}\n",
      "{'loss': 0.3158, 'grad_norm': 0.2102019190788269, 'learning_rate': 0.0004102609824802385, 'epoch': 5.57}\n"
     ]
    },
    {
     "data": {
      "application/vnd.jupyter.widget-view+json": {
       "model_id": "d3eaeee2e80a4e9d948f2b6349af85a3",
       "version_major": 2,
       "version_minor": 0
      },
      "text/plain": [
       "  0%|          | 0/70 [00:00<?, ?it/s]"
      ]
     },
     "metadata": {},
     "output_type": "display_data"
    },
    {
     "name": "stdout",
     "output_type": "stream",
     "text": [
      "{'eval_loss': 0.19695615768432617, 'eval_runtime': 23.157, 'eval_samples_per_second': 773.071, 'eval_steps_per_second': 3.023, 'epoch': 5.65}\n",
      "{'loss': 0.3203, 'grad_norm': 0.21712134778499603, 'learning_rate': 0.00040729695926314816, 'epoch': 5.67}\n",
      "{'loss': 0.3215, 'grad_norm': 0.2922392785549164, 'learning_rate': 0.000404295875030778, 'epoch': 5.77}\n",
      "{'loss': 0.323, 'grad_norm': 0.1913384646177292, 'learning_rate': 0.0004012584368739017, 'epoch': 5.86}\n",
      "{'loss': 0.3276, 'grad_norm': 0.33935168385505676, 'learning_rate': 0.00039818536044870513, 'epoch': 5.96}\n"
     ]
    },
    {
     "data": {
      "application/vnd.jupyter.widget-view+json": {
       "model_id": "d2c103676a514ce198555351c271c3ef",
       "version_major": 2,
       "version_minor": 0
      },
      "text/plain": [
       "  0%|          | 0/70 [00:00<?, ?it/s]"
      ]
     },
     "metadata": {},
     "output_type": "display_data"
    },
    {
     "name": "stdout",
     "output_type": "stream",
     "text": [
      "{'eval_loss': 0.20047153532505035, 'eval_runtime': 22.9085, 'eval_samples_per_second': 781.456, 'eval_steps_per_second': 3.056, 'epoch': 5.98}\n",
      "{'loss': 0.328, 'grad_norm': 0.23649755120277405, 'learning_rate': 0.00039507736980817, 'epoch': 6.06}\n",
      "{'loss': 0.3223, 'grad_norm': 0.1778242290019989, 'learning_rate': 0.0003919351972314781, 'epoch': 6.16}\n",
      "{'loss': 0.314, 'grad_norm': 0.2426350712776184, 'learning_rate': 0.0003887595830514774, 'epoch': 6.25}\n"
     ]
    },
    {
     "data": {
      "application/vnd.jupyter.widget-view+json": {
       "model_id": "968c7907a0dd435197797598b7c0de1f",
       "version_major": 2,
       "version_minor": 0
      },
      "text/plain": [
       "  0%|          | 0/70 [00:00<?, ?it/s]"
      ]
     },
     "metadata": {},
     "output_type": "display_data"
    },
    {
     "name": "stdout",
     "output_type": "stream",
     "text": [
      "{'eval_loss': 0.2031385898590088, 'eval_runtime': 23.141, 'eval_samples_per_second': 773.606, 'eval_steps_per_second': 3.025, 'epoch': 6.31}\n",
      "{'loss': 0.3152, 'grad_norm': 0.192374587059021, 'learning_rate': 0.00038555127548025193, 'epoch': 6.35}\n",
      "{'loss': 0.3171, 'grad_norm': 0.22651070356369019, 'learning_rate': 0.0003823110304328331, 'epoch': 6.45}\n",
      "{'loss': 0.3231, 'grad_norm': 0.1985033005475998, 'learning_rate': 0.0003790396113490977, 'epoch': 6.55}\n",
      "{'loss': 0.3109, 'grad_norm': 0.4248107969760895, 'learning_rate': 0.00037573778901389264, 'epoch': 6.64}\n"
     ]
    },
    {
     "data": {
      "application/vnd.jupyter.widget-view+json": {
       "model_id": "a6cdb942eada40f88d5caf8d807e791e",
       "version_major": 2,
       "version_minor": 0
      },
      "text/plain": [
       "  0%|          | 0/70 [00:00<?, ?it/s]"
      ]
     },
     "metadata": {},
     "output_type": "display_data"
    },
    {
     "name": "stdout",
     "output_type": "stream",
     "text": [
      "{'eval_loss': 0.1982518881559372, 'eval_runtime': 23.509, 'eval_samples_per_second': 761.496, 'eval_steps_per_second': 2.978, 'epoch': 6.64}\n",
      "{'loss': 0.3321, 'grad_norm': 0.20280875265598297, 'learning_rate': 0.00037240634137542856, 'epoch': 6.74}\n",
      "{'loss': 0.3172, 'grad_norm': 0.21884918212890625, 'learning_rate': 0.0003690460533619865, 'epoch': 6.84}\n",
      "{'loss': 0.321, 'grad_norm': 0.20545323193073273, 'learning_rate': 0.00036565771669697935, 'epoch': 6.94}\n"
     ]
    },
    {
     "data": {
      "application/vnd.jupyter.widget-view+json": {
       "model_id": "c87a187e4d0d4df0a3f0fc32d485eccf",
       "version_major": 2,
       "version_minor": 0
      },
      "text/plain": [
       "  0%|          | 0/70 [00:00<?, ?it/s]"
      ]
     },
     "metadata": {},
     "output_type": "display_data"
    },
    {
     "name": "stdout",
     "output_type": "stream",
     "text": [
      "{'eval_loss': 0.19492921233177185, 'eval_runtime': 23.136, 'eval_samples_per_second': 773.773, 'eval_steps_per_second': 3.026, 'epoch': 6.98}\n",
      "{'loss': 0.3187, 'grad_norm': 0.24048247933387756, 'learning_rate': 0.0003622421297124122, 'epoch': 7.04}\n",
      "{'loss': 0.3228, 'grad_norm': 0.1568707823753357, 'learning_rate': 0.0003588000971607864, 'epoch': 7.13}\n",
      "{'loss': 0.312, 'grad_norm': 0.24614860117435455, 'learning_rate': 0.0003553324300254904, 'epoch': 7.23}\n"
     ]
    },
    {
     "data": {
      "application/vnd.jupyter.widget-view+json": {
       "model_id": "424076398ce44b07a75fa9175914a484",
       "version_major": 2,
       "version_minor": 0
      },
      "text/plain": [
       "  0%|          | 0/70 [00:00<?, ?it/s]"
      ]
     },
     "metadata": {},
     "output_type": "display_data"
    },
    {
     "name": "stdout",
     "output_type": "stream",
     "text": [
      "{'eval_loss': 0.19514474272727966, 'eval_runtime': 22.7563, 'eval_samples_per_second': 786.685, 'eval_steps_per_second': 3.076, 'epoch': 7.31}\n",
      "{'loss': 0.3222, 'grad_norm': 0.29978910088539124, 'learning_rate': 0.00035183994532972206, 'epoch': 7.33}\n",
      "{'loss': 0.3126, 'grad_norm': 0.20195817947387695, 'learning_rate': 0.00034832346594398884, 'epoch': 7.43}\n",
      "{'loss': 0.3246, 'grad_norm': 0.274831622838974, 'learning_rate': 0.00034478382039222934, 'epoch': 7.52}\n",
      "{'loss': 0.3061, 'grad_norm': 0.2919963002204895, 'learning_rate': 0.00034122184265660395, 'epoch': 7.62}\n"
     ]
    },
    {
     "data": {
      "application/vnd.jupyter.widget-view+json": {
       "model_id": "640a184fd6c0448b948f9be87ed641c1",
       "version_major": 2,
       "version_minor": 0
      },
      "text/plain": [
       "  0%|          | 0/70 [00:00<?, ?it/s]"
      ]
     },
     "metadata": {},
     "output_type": "display_data"
    },
    {
     "name": "stdout",
     "output_type": "stream",
     "text": [
      "{'eval_loss': 0.19576402008533478, 'eval_runtime': 22.9358, 'eval_samples_per_second': 780.526, 'eval_steps_per_second': 3.052, 'epoch': 7.64}\n",
      "{'loss': 0.312, 'grad_norm': 0.24564532935619354, 'learning_rate': 0.0003376383719809981, 'epoch': 7.72}\n",
      "{'loss': 0.3193, 'grad_norm': 0.17888951301574707, 'learning_rate': 0.00033403425267328717, 'epoch': 7.82}\n",
      "{'loss': 0.3141, 'grad_norm': 0.12493520230054855, 'learning_rate': 0.00033041033390640714, 'epoch': 7.92}\n"
     ]
    },
    {
     "data": {
      "application/vnd.jupyter.widget-view+json": {
       "model_id": "e706d8dae4ee4f76a2ab7b64871ad332",
       "version_major": 2,
       "version_minor": 0
      },
      "text/plain": [
       "  0%|          | 0/70 [00:00<?, ?it/s]"
      ]
     },
     "metadata": {},
     "output_type": "display_data"
    },
    {
     "name": "stdout",
     "output_type": "stream",
     "text": [
      "{'eval_loss': 0.1955185979604721, 'eval_runtime': 22.9966, 'eval_samples_per_second': 778.463, 'eval_steps_per_second': 3.044, 'epoch': 7.97}\n",
      "{'loss': 0.3254, 'grad_norm': 0.25687065720558167, 'learning_rate': 0.00032676746951827983, 'epoch': 8.01}\n",
      "{'loss': 0.3055, 'grad_norm': 0.21982860565185547, 'learning_rate': 0.00032310651781063837, 'epoch': 8.11}\n",
      "{'loss': 0.3154, 'grad_norm': 0.2716750204563141, 'learning_rate': 0.0003194283413468012, 'epoch': 8.21}\n",
      "{'loss': 0.3088, 'grad_norm': 0.4512903690338135, 'learning_rate': 0.00031573380674844225, 'epoch': 8.31}\n"
     ]
    },
    {
     "data": {
      "application/vnd.jupyter.widget-view+json": {
       "model_id": "75890242489b43ee85918fb812cfdda2",
       "version_major": 2,
       "version_minor": 0
      },
      "text/plain": [
       "  0%|          | 0/70 [00:00<?, ?it/s]"
      ]
     },
     "metadata": {},
     "output_type": "display_data"
    },
    {
     "name": "stdout",
     "output_type": "stream",
     "text": [
      "{'eval_loss': 0.19348740577697754, 'eval_runtime': 22.1604, 'eval_samples_per_second': 807.837, 'eval_steps_per_second': 3.159, 'epoch': 8.31}\n",
      "{'loss': 0.2961, 'grad_norm': 0.17791900038719177, 'learning_rate': 0.0003120237844914043, 'epoch': 8.4}\n",
      "{'loss': 0.3055, 'grad_norm': 0.15878799557685852, 'learning_rate': 0.0003082991487006052, 'epoch': 8.5}\n",
      "{'loss': 0.306, 'grad_norm': 0.1484222114086151, 'learning_rate': 0.0003045607769440829, 'epoch': 8.6}\n"
     ]
    },
    {
     "data": {
      "application/vnd.jupyter.widget-view+json": {
       "model_id": "b8240c7b288a49dc951bcbbe9b0cf0e7",
       "version_major": 2,
       "version_minor": 0
      },
      "text/plain": [
       "  0%|          | 0/70 [00:00<?, ?it/s]"
      ]
     },
     "metadata": {},
     "output_type": "display_data"
    },
    {
     "name": "stdout",
     "output_type": "stream",
     "text": [
      "{'eval_loss': 0.1917506456375122, 'eval_runtime': 21.8392, 'eval_samples_per_second': 819.72, 'eval_steps_per_second': 3.205, 'epoch': 8.64}\n",
      "{'loss': 0.3053, 'grad_norm': 0.18063360452651978, 'learning_rate': 0.000300809550026231, 'epoch': 8.7}\n",
      "{'loss': 0.3001, 'grad_norm': 0.31813231110572815, 'learning_rate': 0.00029704635178027014, 'epoch': 8.79}\n",
      "{'loss': 0.3059, 'grad_norm': 0.22243310511112213, 'learning_rate': 0.00029327206886000686, 'epoch': 8.89}\n"
     ]
    },
    {
     "data": {
      "application/vnd.jupyter.widget-view+json": {
       "model_id": "ed7af03bec2e4250b46962bbe062b584",
       "version_major": 2,
       "version_minor": 0
      },
      "text/plain": [
       "  0%|          | 0/70 [00:00<?, ?it/s]"
      ]
     },
     "metadata": {},
     "output_type": "display_data"
    },
    {
     "name": "stdout",
     "output_type": "stream",
     "text": [
      "{'eval_loss': 0.1989772915840149, 'eval_runtime': 21.567, 'eval_samples_per_second': 830.065, 'eval_steps_per_second': 3.246, 'epoch': 8.97}\n",
      "{'loss': 0.312, 'grad_norm': 0.17213135957717896, 'learning_rate': 0.0002894875905309275, 'epoch': 8.99}\n",
      "{'loss': 0.3069, 'grad_norm': 0.17560850083827972, 'learning_rate': 0.0002856938084606768, 'epoch': 9.09}\n",
      "{'loss': 0.311, 'grad_norm': 0.16606643795967102, 'learning_rate': 0.00028189161650897044, 'epoch': 9.19}\n",
      "{'loss': 0.297, 'grad_norm': 0.24980078637599945, 'learning_rate': 0.000278081910516991, 'epoch': 9.28}\n"
     ]
    },
    {
     "data": {
      "application/vnd.jupyter.widget-view+json": {
       "model_id": "adeb2b3b354549d09a80bb734092aa82",
       "version_major": 2,
       "version_minor": 0
      },
      "text/plain": [
       "  0%|          | 0/70 [00:00<?, ?it/s]"
      ]
     },
     "metadata": {},
     "output_type": "display_data"
    },
    {
     "name": "stdout",
     "output_type": "stream",
     "text": [
      "{'eval_loss': 0.18709474802017212, 'eval_runtime': 21.2831, 'eval_samples_per_second': 841.137, 'eval_steps_per_second': 3.289, 'epoch': 9.3}\n",
      "{'loss': 0.3123, 'grad_norm': 0.22372497618198395, 'learning_rate': 0.00027426558809631746, 'epoch': 9.38}\n",
      "{'loss': 0.3009, 'grad_norm': 0.2526648938655853, 'learning_rate': 0.0002704435484174375, 'epoch': 9.48}\n",
      "{'loss': 0.303, 'grad_norm': 0.2192842811346054, 'learning_rate': 0.00026661669199789167, 'epoch': 9.58}\n"
     ]
    },
    {
     "data": {
      "application/vnd.jupyter.widget-view+json": {
       "model_id": "7de3fc88aafd412b864f3b154048c517",
       "version_major": 2,
       "version_minor": 0
      },
      "text/plain": [
       "  0%|          | 0/70 [00:00<?, ?it/s]"
      ]
     },
     "metadata": {},
     "output_type": "display_data"
    },
    {
     "name": "stdout",
     "output_type": "stream",
     "text": [
      "{'eval_loss': 0.19256485998630524, 'eval_runtime': 22.9613, 'eval_samples_per_second': 779.66, 'eval_steps_per_second': 3.049, 'epoch': 9.64}\n",
      "{'loss': 0.3055, 'grad_norm': 0.24644719064235687, 'learning_rate': 0.00026278592049010203, 'epoch': 9.67}\n",
      "{'loss': 0.3091, 'grad_norm': 0.2233719378709793, 'learning_rate': 0.0002589521364689308, 'epoch': 9.77}\n",
      "{'loss': 0.2988, 'grad_norm': 0.24163250625133514, 'learning_rate': 0.0002551162432190242, 'epoch': 9.87}\n",
      "{'loss': 0.2969, 'grad_norm': 0.22264829277992249, 'learning_rate': 0.00025127914452198756, 'epoch': 9.97}\n"
     ]
    },
    {
     "data": {
      "application/vnd.jupyter.widget-view+json": {
       "model_id": "7a90bb90b2f04881a826446df4a14f75",
       "version_major": 2,
       "version_minor": 0
      },
      "text/plain": [
       "  0%|          | 0/70 [00:00<?, ?it/s]"
      ]
     },
     "metadata": {},
     "output_type": "display_data"
    },
    {
     "name": "stdout",
     "output_type": "stream",
     "text": [
      "{'eval_loss': 0.19287073612213135, 'eval_runtime': 22.0544, 'eval_samples_per_second': 811.721, 'eval_steps_per_second': 3.174, 'epoch': 9.97}\n",
      "{'loss': 0.2988, 'grad_norm': 0.24456527829170227, 'learning_rate': 0.0002474417444434436, 'epoch': 10.07}\n",
      "{'loss': 0.2994, 'grad_norm': 0.1887815296649933, 'learning_rate': 0.0002436049471200242, 'epoch': 10.16}\n",
      "{'loss': 0.3004, 'grad_norm': 0.1973450779914856, 'learning_rate': 0.0002397696565463449, 'epoch': 10.26}\n"
     ]
    },
    {
     "data": {
      "application/vnd.jupyter.widget-view+json": {
       "model_id": "9bdaf2774d2e4bcca61c0d5ec987ddbd",
       "version_major": 2,
       "version_minor": 0
      },
      "text/plain": [
       "  0%|          | 0/70 [00:00<?, ?it/s]"
      ]
     },
     "metadata": {},
     "output_type": "display_data"
    },
    {
     "name": "stdout",
     "output_type": "stream",
     "text": [
      "{'eval_loss': 0.19365710020065308, 'eval_runtime': 24.55, 'eval_samples_per_second': 729.207, 'eval_steps_per_second': 2.851, 'epoch': 10.3}\n",
      "{'loss': 0.2989, 'grad_norm': 0.18220745027065277, 'learning_rate': 0.0002359367763620135, 'epoch': 10.36}\n",
      "{'loss': 0.299, 'grad_norm': 0.17198292911052704, 'learning_rate': 0.00023210720963872145, 'epoch': 10.46}\n",
      "{'loss': 0.2916, 'grad_norm': 0.14297787845134735, 'learning_rate': 0.00022828185866746988, 'epoch': 10.55}\n"
     ]
    },
    {
     "data": {
      "application/vnd.jupyter.widget-view+json": {
       "model_id": "cac01437a5ab4067a86c6390b5d3650c",
       "version_major": 2,
       "version_minor": 0
      },
      "text/plain": [
       "  0%|          | 0/70 [00:00<?, ?it/s]"
      ]
     },
     "metadata": {},
     "output_type": "display_data"
    },
    {
     "name": "stdout",
     "output_type": "stream",
     "text": [
      "{'eval_loss': 0.18624773621559143, 'eval_runtime': 21.4468, 'eval_samples_per_second': 834.716, 'eval_steps_per_second': 3.264, 'epoch': 10.63}\n",
      "{'loss': 0.2995, 'grad_norm': 0.20661713182926178, 'learning_rate': 0.00022446162474597912, 'epoch': 10.65}\n",
      "{'loss': 0.2965, 'grad_norm': 0.6137090921401978, 'learning_rate': 0.00022064740796633232, 'epoch': 10.75}\n",
      "{'loss': 0.2923, 'grad_norm': 0.15822336077690125, 'learning_rate': 0.00021684010700290316, 'epoch': 10.85}\n",
      "{'loss': 0.2974, 'grad_norm': 0.32643914222717285, 'learning_rate': 0.00021304061890061764, 'epoch': 10.94}\n"
     ]
    },
    {
     "data": {
      "application/vnd.jupyter.widget-view+json": {
       "model_id": "9f4cfe4ca4554dcdaa39b9cc9719f78f",
       "version_major": 2,
       "version_minor": 0
      },
      "text/plain": [
       "  0%|          | 0/70 [00:00<?, ?it/s]"
      ]
     },
     "metadata": {},
     "output_type": "display_data"
    },
    {
     "name": "stdout",
     "output_type": "stream",
     "text": [
      "{'eval_loss': 0.1888074278831482, 'eval_runtime': 21.8792, 'eval_samples_per_second': 818.221, 'eval_steps_per_second': 3.199, 'epoch': 10.96}\n",
      "{'loss': 0.3046, 'grad_norm': 0.18676628172397614, 'learning_rate': 0.00020924983886359965, 'epoch': 11.04}\n",
      "{'loss': 0.2904, 'grad_norm': 0.15467119216918945, 'learning_rate': 0.00020546866004425053, 'epoch': 11.14}\n",
      "{'loss': 0.2918, 'grad_norm': 0.1640859842300415, 'learning_rate': 0.00020169797333281146, 'epoch': 11.24}\n"
     ]
    },
    {
     "data": {
      "application/vnd.jupyter.widget-view+json": {
       "model_id": "3bf00cddfc8f41759ebe4526f7e5ea92",
       "version_major": 2,
       "version_minor": 0
      },
      "text/plain": [
       "  0%|          | 0/70 [00:00<?, ?it/s]"
      ]
     },
     "metadata": {},
     "output_type": "display_data"
    },
    {
     "name": "stdout",
     "output_type": "stream",
     "text": [
      "{'eval_loss': 0.18989600241184235, 'eval_runtime': 22.2459, 'eval_samples_per_second': 804.733, 'eval_steps_per_second': 3.147, 'epoch': 11.3}\n",
      "{'loss': 0.2937, 'grad_norm': 0.27847525477409363, 'learning_rate': 0.0001979386671474598, 'epoch': 11.34}\n",
      "{'loss': 0.2793, 'grad_norm': 0.17833304405212402, 'learning_rate': 0.00019419162722498676, 'epoch': 11.43}\n",
      "{'loss': 0.2943, 'grad_norm': 0.2388489991426468, 'learning_rate': 0.0001904577364121077, 'epoch': 11.53}\n",
      "{'loss': 0.2779, 'grad_norm': 0.2964880168437958, 'learning_rate': 0.00018673787445745298, 'epoch': 11.63}\n"
     ]
    },
    {
     "data": {
      "application/vnd.jupyter.widget-view+json": {
       "model_id": "eba895b3b81e42b8b5ec2af1075f5c4c",
       "version_major": 2,
       "version_minor": 0
      },
      "text/plain": [
       "  0%|          | 0/70 [00:00<?, ?it/s]"
      ]
     },
     "metadata": {},
     "output_type": "display_data"
    },
    {
     "name": "stdout",
     "output_type": "stream",
     "text": [
      "{'eval_loss': 0.19180724024772644, 'eval_runtime': 22.3387, 'eval_samples_per_second': 801.39, 'eval_steps_per_second': 3.134, 'epoch': 11.63}\n",
      "{'loss': 0.2915, 'grad_norm': 0.14574548602104187, 'learning_rate': 0.00018303291780428878, 'epoch': 11.73}\n",
      "{'loss': 0.2911, 'grad_norm': 0.37836456298828125, 'learning_rate': 0.00017934373938401687, 'epoch': 11.82}\n",
      "{'loss': 0.2893, 'grad_norm': 0.419312983751297, 'learning_rate': 0.00017567120841050133, 'epoch': 11.92}\n"
     ]
    },
    {
     "data": {
      "application/vnd.jupyter.widget-view+json": {
       "model_id": "cdd8bfa9f19a4a6e9cd3fe3d5491a104",
       "version_major": 2,
       "version_minor": 0
      },
      "text/plain": [
       "  0%|          | 0/70 [00:00<?, ?it/s]"
      ]
     },
     "metadata": {},
     "output_type": "display_data"
    },
    {
     "name": "stdout",
     "output_type": "stream",
     "text": [
      "{'eval_loss': 0.18449145555496216, 'eval_runtime': 21.5443, 'eval_samples_per_second': 830.94, 'eval_steps_per_second': 3.249, 'epoch': 11.96}\n",
      "{'loss': 0.2933, 'grad_norm': 0.23181621730327606, 'learning_rate': 0.00017201619017527225, 'epoch': 12.02}\n",
      "{'loss': 0.2886, 'grad_norm': 0.2356194257736206, 'learning_rate': 0.00016837954584365217, 'epoch': 12.12}\n",
      "{'loss': 0.2841, 'grad_norm': 0.228147953748703, 'learning_rate': 0.0001647621322518556, 'epoch': 12.21}\n"
     ]
    },
    {
     "data": {
      "application/vnd.jupyter.widget-view+json": {
       "model_id": "fce5d2ff1b784326acb249f0df0de083",
       "version_major": 2,
       "version_minor": 0
      },
      "text/plain": [
       "  0%|          | 0/70 [00:00<?, ?it/s]"
      ]
     },
     "metadata": {},
     "output_type": "display_data"
    },
    {
     "name": "stdout",
     "output_type": "stream",
     "text": [
      "{'eval_loss': 0.1917649805545807, 'eval_runtime': 21.8481, 'eval_samples_per_second': 819.384, 'eval_steps_per_second': 3.204, 'epoch': 12.29}\n",
      "{'loss': 0.2859, 'grad_norm': 0.4240228831768036, 'learning_rate': 0.00016116480170510862, 'epoch': 12.31}\n",
      "{'loss': 0.2863, 'grad_norm': 0.24255771934986115, 'learning_rate': 0.00015758840177683504, 'epoch': 12.41}\n",
      "{'loss': 0.2916, 'grad_norm': 0.13403195142745972, 'learning_rate': 0.00015403377510895888, 'epoch': 12.51}\n",
      "{'loss': 0.2919, 'grad_norm': 0.1524847000837326, 'learning_rate': 0.00015050175921336794, 'epoch': 12.61}\n"
     ]
    },
    {
     "data": {
      "application/vnd.jupyter.widget-view+json": {
       "model_id": "495c3cb4a53647e293cb52c672632e5a",
       "version_major": 2,
       "version_minor": 0
      },
      "text/plain": [
       "  0%|          | 0/70 [00:00<?, ?it/s]"
      ]
     },
     "metadata": {},
     "output_type": "display_data"
    },
    {
     "name": "stdout",
     "output_type": "stream",
     "text": [
      "{'eval_loss': 0.18438945710659027, 'eval_runtime': 22.776, 'eval_samples_per_second': 786.003, 'eval_steps_per_second': 3.073, 'epoch': 12.63}\n",
      "{'loss': 0.2901, 'grad_norm': 0.15758734941482544, 'learning_rate': 0.00014699318627458521, 'epoch': 12.7}\n",
      "{'loss': 0.2806, 'grad_norm': 0.31193819642066956, 'learning_rate': 0.0001435088829536978, 'epoch': 12.8}\n",
      "{'loss': 0.2859, 'grad_norm': 0.1839863657951355, 'learning_rate': 0.00014004967019358468, 'epoch': 12.9}\n"
     ]
    },
    {
     "data": {
      "application/vnd.jupyter.widget-view+json": {
       "model_id": "a4c42a0354224c7396a9186d141a4e06",
       "version_major": 2,
       "version_minor": 0
      },
      "text/plain": [
       "  0%|          | 0/70 [00:00<?, ?it/s]"
      ]
     },
     "metadata": {},
     "output_type": "display_data"
    },
    {
     "name": "stdout",
     "output_type": "stream",
     "text": [
      "{'eval_loss': 0.18252559006214142, 'eval_runtime': 21.9896, 'eval_samples_per_second': 814.112, 'eval_steps_per_second': 3.183, 'epoch': 12.96}\n",
      "{'loss': 0.2907, 'grad_norm': 0.20354986190795898, 'learning_rate': 0.00013661636302549345, 'epoch': 13.0}\n",
      "{'loss': 0.2892, 'grad_norm': 0.1603938192129135, 'learning_rate': 0.00013320977037700952, 'epoch': 13.09}\n",
      "{'loss': 0.2848, 'grad_norm': 0.17136909067630768, 'learning_rate': 0.00012983069488146253, 'epoch': 13.19}\n",
      "{'loss': 0.2823, 'grad_norm': 0.35072019696235657, 'learning_rate': 0.00012647993268881743, 'epoch': 13.29}\n"
     ]
    },
    {
     "data": {
      "application/vnd.jupyter.widget-view+json": {
       "model_id": "44bfe61f37584dfcbeff95dcd3fa8bd8",
       "version_major": 2,
       "version_minor": 0
      },
      "text/plain": [
       "  0%|          | 0/70 [00:00<?, ?it/s]"
      ]
     },
     "metadata": {},
     "output_type": "display_data"
    },
    {
     "name": "stdout",
     "output_type": "stream",
     "text": [
      "{'eval_loss': 0.18310630321502686, 'eval_runtime': 22.3736, 'eval_samples_per_second': 800.138, 'eval_steps_per_second': 3.129, 'epoch': 13.29}\n",
      "{'loss': 0.2822, 'grad_norm': 0.21749046444892883, 'learning_rate': 0.00012315827327809146, 'epoch': 13.39}\n",
      "{'loss': 0.2841, 'grad_norm': 0.2948860824108124, 'learning_rate': 0.00011986649927134361, 'epoch': 13.49}\n",
      "{'loss': 0.2804, 'grad_norm': 0.18815737962722778, 'learning_rate': 0.0001166053862492806, 'epoch': 13.58}\n"
     ]
    },
    {
     "data": {
      "application/vnd.jupyter.widget-view+json": {
       "model_id": "eb294488dcbb49a9abdb402f8ab0d59e",
       "version_major": 2,
       "version_minor": 0
      },
      "text/plain": [
       "  0%|          | 0/70 [00:00<?, ?it/s]"
      ]
     },
     "metadata": {},
     "output_type": "display_data"
    },
    {
     "name": "stdout",
     "output_type": "stream",
     "text": [
      "{'eval_loss': 0.18818892538547516, 'eval_runtime': 21.4081, 'eval_samples_per_second': 836.225, 'eval_steps_per_second': 3.27, 'epoch': 13.62}\n",
      "{'loss': 0.2811, 'grad_norm': 0.2447304129600525, 'learning_rate': 0.0001133757025685195, 'epoch': 13.68}\n",
      "{'loss': 0.2724, 'grad_norm': 0.15131331980228424, 'learning_rate': 0.00011017820918055507, 'epoch': 13.78}\n",
      "{'loss': 0.2848, 'grad_norm': 0.17316845059394836, 'learning_rate': 0.00010701365945246979, 'epoch': 13.88}\n"
     ]
    },
    {
     "data": {
      "application/vnd.jupyter.widget-view+json": {
       "model_id": "bb610846d6c74665a63a22595ed8f409",
       "version_major": 2,
       "version_minor": 0
      },
      "text/plain": [
       "  0%|          | 0/70 [00:00<?, ?it/s]"
      ]
     },
     "metadata": {},
     "output_type": "display_data"
    },
    {
     "name": "stdout",
     "output_type": "stream",
     "text": [
      "{'eval_loss': 0.18393267691135406, 'eval_runtime': 21.2291, 'eval_samples_per_second': 843.275, 'eval_steps_per_second': 3.297, 'epoch': 13.95}\n",
      "{'loss': 0.2764, 'grad_norm': 0.1414569914340973, 'learning_rate': 0.00010388279898943212, 'epoch': 13.97}\n",
      "{'loss': 0.2814, 'grad_norm': 0.2552846074104309, 'learning_rate': 0.00010078636545902362, 'epoch': 14.07}\n",
      "{'loss': 0.278, 'grad_norm': 0.26312750577926636, 'learning_rate': 9.772508841743427e-05, 'epoch': 14.17}\n",
      "{'loss': 0.2806, 'grad_norm': 0.23357877135276794, 'learning_rate': 9.469968913757254e-05, 'epoch': 14.27}\n"
     ]
    },
    {
     "data": {
      "application/vnd.jupyter.widget-view+json": {
       "model_id": "886c8fc59dc848f4b639ad1bcf050fdf",
       "version_major": 2,
       "version_minor": 0
      },
      "text/plain": [
       "  0%|          | 0/70 [00:00<?, ?it/s]"
      ]
     },
     "metadata": {},
     "output_type": "display_data"
    },
    {
     "name": "stdout",
     "output_type": "stream",
     "text": [
      "{'eval_loss': 0.18147160112857819, 'eval_runtime': 21.1793, 'eval_samples_per_second': 845.257, 'eval_steps_per_second': 3.305, 'epoch': 14.29}\n",
      "{'loss': 0.279, 'grad_norm': 0.11638503521680832, 'learning_rate': 9.171088043912287e-05, 'epoch': 14.36}\n",
      "{'loss': 0.2775, 'grad_norm': 0.20705953240394592, 'learning_rate': 8.875936652059871e-05, 'epoch': 14.46}\n",
      "{'loss': 0.2813, 'grad_norm': 0.13702446222305298, 'learning_rate': 8.584584279342392e-05, 'epoch': 14.56}\n"
     ]
    },
    {
     "data": {
      "application/vnd.jupyter.widget-view+json": {
       "model_id": "6726f27f6d6e4597b948a684d7e94d67",
       "version_major": 2,
       "version_minor": 0
      },
      "text/plain": [
       "  0%|          | 0/70 [00:00<?, ?it/s]"
      ]
     },
     "metadata": {},
     "output_type": "display_data"
    },
    {
     "name": "stdout",
     "output_type": "stream",
     "text": [
      "{'eval_loss': 0.1824532151222229, 'eval_runtime': 21.1931, 'eval_samples_per_second': 844.71, 'eval_steps_per_second': 3.303, 'epoch': 14.62}\n",
      "{'loss': 0.275, 'grad_norm': 0.19600707292556763, 'learning_rate': 8.297099571808626e-05, 'epoch': 14.66}\n",
      "{'loss': 0.2805, 'grad_norm': 0.6555317044258118, 'learning_rate': 8.013550264239907e-05, 'epoch': 14.76}\n",
      "{'loss': 0.2842, 'grad_norm': 0.15133243799209595, 'learning_rate': 7.734003164190984e-05, 'epoch': 14.85}\n",
      "{'loss': 0.2844, 'grad_norm': 0.16386961936950684, 'learning_rate': 7.45852413624944e-05, 'epoch': 14.95}\n"
     ]
    },
    {
     "data": {
      "application/vnd.jupyter.widget-view+json": {
       "model_id": "54c5179e763d4173b8f61dd7cab4ad90",
       "version_major": 2,
       "version_minor": 0
      },
      "text/plain": [
       "  0%|          | 0/70 [00:00<?, ?it/s]"
      ]
     },
     "metadata": {},
     "output_type": "display_data"
    },
    {
     "name": "stdout",
     "output_type": "stream",
     "text": [
      "{'eval_loss': 0.18309737741947174, 'eval_runtime': 21.3113, 'eval_samples_per_second': 840.022, 'eval_steps_per_second': 3.285, 'epoch': 14.95}\n",
      "{'loss': 0.2749, 'grad_norm': 0.1374969631433487, 'learning_rate': 7.187178086517115e-05, 'epoch': 15.05}\n",
      "{'loss': 0.279, 'grad_norm': 0.3108966648578644, 'learning_rate': 6.92002894731761e-05, 'epoch': 15.15}\n",
      "{'loss': 0.2782, 'grad_norm': 0.153024822473526, 'learning_rate': 6.657139662132961e-05, 'epoch': 15.24}\n"
     ]
    },
    {
     "data": {
      "application/vnd.jupyter.widget-view+json": {
       "model_id": "001d0df6f0b44097b2cea1677d78a0c1",
       "version_major": 2,
       "version_minor": 0
      },
      "text/plain": [
       "  0%|          | 0/70 [00:00<?, ?it/s]"
      ]
     },
     "metadata": {},
     "output_type": "display_data"
    },
    {
     "name": "stdout",
     "output_type": "stream",
     "text": [
      "{'eval_loss': 0.18233774602413177, 'eval_runtime': 20.7479, 'eval_samples_per_second': 862.836, 'eval_steps_per_second': 3.374, 'epoch': 15.28}\n",
      "{'loss': 0.2746, 'grad_norm': 0.15516090393066406, 'learning_rate': 6.398572170773439e-05, 'epoch': 15.34}\n",
      "{'loss': 0.2769, 'grad_norm': 0.24292482435703278, 'learning_rate': 6.144387394783837e-05, 'epoch': 15.44}\n",
      "{'loss': 0.2812, 'grad_norm': 0.18266743421554565, 'learning_rate': 5.894645223089584e-05, 'epoch': 15.54}\n"
     ]
    },
    {
     "data": {
      "application/vnd.jupyter.widget-view+json": {
       "model_id": "378a240dde0e42e9bb3cd3d0843fb53f",
       "version_major": 2,
       "version_minor": 0
      },
      "text/plain": [
       "  0%|          | 0/70 [00:00<?, ?it/s]"
      ]
     },
     "metadata": {},
     "output_type": "display_data"
    },
    {
     "name": "stdout",
     "output_type": "stream",
     "text": [
      "{'eval_loss': 0.17938745021820068, 'eval_runtime': 20.7066, 'eval_samples_per_second': 864.555, 'eval_steps_per_second': 3.381, 'epoch': 15.62}\n",
      "{'loss': 0.2794, 'grad_norm': 0.16387204825878143, 'learning_rate': 5.6494044978862985e-05, 'epoch': 15.64}\n",
      "{'loss': 0.2774, 'grad_norm': 0.1297546923160553, 'learning_rate': 5.408723000775734e-05, 'epoch': 15.73}\n",
      "{'loss': 0.2693, 'grad_norm': 0.21430176496505737, 'learning_rate': 5.172657439151912e-05, 'epoch': 15.83}\n",
      "{'loss': 0.2736, 'grad_norm': 0.2197265923023224, 'learning_rate': 4.941263432840068e-05, 'epoch': 15.93}\n"
     ]
    },
    {
     "data": {
      "application/vnd.jupyter.widget-view+json": {
       "model_id": "496f4c929dba4e1a95a077895ea0bc2b",
       "version_major": 2,
       "version_minor": 0
      },
      "text/plain": [
       "  0%|          | 0/70 [00:00<?, ?it/s]"
      ]
     },
     "metadata": {},
     "output_type": "display_data"
    },
    {
     "name": "stdout",
     "output_type": "stream",
     "text": [
      "{'eval_loss': 0.18266722559928894, 'eval_runtime': 21.5092, 'eval_samples_per_second': 832.295, 'eval_steps_per_second': 3.254, 'epoch': 15.95}\n",
      "{'loss': 0.2769, 'grad_norm': 0.25725582242012024, 'learning_rate': 4.7145955009920195e-05, 'epoch': 16.03}\n",
      "{'loss': 0.2787, 'grad_norm': 0.3034205138683319, 'learning_rate': 4.492707049240827e-05, 'epoch': 16.12}\n",
      "{'loss': 0.2773, 'grad_norm': 0.14004872739315033, 'learning_rate': 4.275650357117747e-05, 'epoch': 16.22}\n"
     ]
    },
    {
     "data": {
      "application/vnd.jupyter.widget-view+json": {
       "model_id": "4ed7ea8bd993436e820f8e1e32446b48",
       "version_major": 2,
       "version_minor": 0
      },
      "text/plain": [
       "  0%|          | 0/70 [00:00<?, ?it/s]"
      ]
     },
     "metadata": {},
     "output_type": "display_data"
    },
    {
     "name": "stdout",
     "output_type": "stream",
     "text": [
      "{'eval_loss': 0.18331332504749298, 'eval_runtime': 21.6622, 'eval_samples_per_second': 826.416, 'eval_steps_per_second': 3.231, 'epoch': 16.28}\n",
      "{'loss': 0.2792, 'grad_norm': 0.16236227750778198, 'learning_rate': 4.063476565734614e-05, 'epoch': 16.32}\n",
      "{'loss': 0.2692, 'grad_norm': 0.11196594685316086, 'learning_rate': 3.8562356657343586e-05, 'epoch': 16.42}\n",
      "{'loss': 0.2778, 'grad_norm': 0.17667146027088165, 'learning_rate': 3.653976485512625e-05, 'epoch': 16.51}\n",
      "{'loss': 0.2694, 'grad_norm': 0.20071911811828613, 'learning_rate': 3.456746679713244e-05, 'epoch': 16.61}\n"
     ]
    },
    {
     "data": {
      "application/vnd.jupyter.widget-view+json": {
       "model_id": "1f76807c941b48818bb995a4cf3c1a8b",
       "version_major": 2,
       "version_minor": 0
      },
      "text/plain": [
       "  0%|          | 0/70 [00:00<?, ?it/s]"
      ]
     },
     "metadata": {},
     "output_type": "display_data"
    },
    {
     "name": "stdout",
     "output_type": "stream",
     "text": [
      "{'eval_loss': 0.18208613991737366, 'eval_runtime': 21.8183, 'eval_samples_per_second': 820.504, 'eval_steps_per_second': 3.208, 'epoch': 16.61}\n",
      "{'loss': 0.2763, 'grad_norm': 0.15643031895160675, 'learning_rate': 3.264592718000217e-05, 'epoch': 16.71}\n",
      "{'loss': 0.2746, 'grad_norm': 0.11698395013809204, 'learning_rate': 3.077559874108937e-05, 'epoch': 16.81}\n",
      "{'loss': 0.277, 'grad_norm': 0.17289108037948608, 'learning_rate': 2.8956922151791605e-05, 'epoch': 16.91}\n"
     ]
    },
    {
     "data": {
      "application/vnd.jupyter.widget-view+json": {
       "model_id": "57f4089951bf49409d377f66ecffd44b",
       "version_major": 2,
       "version_minor": 0
      },
      "text/plain": [
       "  0%|          | 0/70 [00:00<?, ?it/s]"
      ]
     },
     "metadata": {},
     "output_type": "display_data"
    },
    {
     "name": "stdout",
     "output_type": "stream",
     "text": [
      "{'eval_loss': 0.18183012306690216, 'eval_runtime': 22.1584, 'eval_samples_per_second': 807.911, 'eval_steps_per_second': 3.159, 'epoch': 16.94}\n",
      "{'loss': 0.268, 'grad_norm': 0.16965022683143616, 'learning_rate': 2.7190325913722197e-05, 'epoch': 17.0}\n",
      "{'loss': 0.2706, 'grad_norm': 0.2485104352235794, 'learning_rate': 2.547622625775134e-05, 'epoch': 17.1}\n",
      "{'loss': 0.2693, 'grad_norm': 0.14636461436748505, 'learning_rate': 2.381502704593577e-05, 'epoch': 17.2}\n"
     ]
    },
    {
     "data": {
      "application/vnd.jupyter.widget-view+json": {
       "model_id": "e8a32c3a1060493d955dd790199df64f",
       "version_major": 2,
       "version_minor": 0
      },
      "text/plain": [
       "  0%|          | 0/70 [00:00<?, ?it/s]"
      ]
     },
     "metadata": {},
     "output_type": "display_data"
    },
    {
     "name": "stdout",
     "output_type": "stream",
     "text": [
      "{'eval_loss': 0.18363168835639954, 'eval_runtime': 21.5191, 'eval_samples_per_second': 831.914, 'eval_steps_per_second': 3.253, 'epoch': 17.28}\n",
      "{'loss': 0.2726, 'grad_norm': 0.19134105741977692, 'learning_rate': 2.2207119676365432e-05, 'epoch': 17.3}\n",
      "{'loss': 0.2757, 'grad_norm': 0.1786782443523407, 'learning_rate': 2.065288299094456e-05, 'epoch': 17.39}\n",
      "{'loss': 0.2689, 'grad_norm': 0.12442629039287567, 'learning_rate': 1.9152683186132475e-05, 'epoch': 17.49}\n",
      "{'loss': 0.2687, 'grad_norm': 0.14832857251167297, 'learning_rate': 1.770687372666338e-05, 'epoch': 17.59}\n"
     ]
    },
    {
     "data": {
      "application/vnd.jupyter.widget-view+json": {
       "model_id": "0dbfd654db6d43c4b5329cf69b74c747",
       "version_major": 2,
       "version_minor": 0
      },
      "text/plain": [
       "  0%|          | 0/70 [00:00<?, ?it/s]"
      ]
     },
     "metadata": {},
     "output_type": "display_data"
    },
    {
     "name": "stdout",
     "output_type": "stream",
     "text": [
      "{'eval_loss': 0.17834128439426422, 'eval_runtime': 21.978, 'eval_samples_per_second': 814.543, 'eval_steps_per_second': 3.185, 'epoch': 17.61}\n",
      "{'loss': 0.2749, 'grad_norm': 0.13213397562503815, 'learning_rate': 1.6315795262265704e-05, 'epoch': 17.69}\n",
      "{'loss': 0.269, 'grad_norm': 0.11861984431743622, 'learning_rate': 1.4979775547401375e-05, 'epoch': 17.79}\n",
      "{'loss': 0.2697, 'grad_norm': 0.11720804125070572, 'learning_rate': 1.3699129364042523e-05, 'epoch': 17.88}\n"
     ]
    },
    {
     "data": {
      "application/vnd.jupyter.widget-view+json": {
       "model_id": "3106396988614a1ebe017a8ec447d470",
       "version_major": 2,
       "version_minor": 0
      },
      "text/plain": [
       "  0%|          | 0/70 [00:00<?, ?it/s]"
      ]
     },
     "metadata": {},
     "output_type": "display_data"
    },
    {
     "name": "stdout",
     "output_type": "stream",
     "text": [
      "{'eval_loss': 0.1799725443124771, 'eval_runtime': 21.04, 'eval_samples_per_second': 850.854, 'eval_steps_per_second': 3.327, 'epoch': 17.94}\n",
      "{'loss': 0.2794, 'grad_norm': 0.1316392570734024, 'learning_rate': 1.2474158447505546e-05, 'epoch': 17.98}\n",
      "{'loss': 0.2713, 'grad_norm': 0.1369263082742691, 'learning_rate': 1.130515141535865e-05, 'epoch': 18.08}\n",
      "{'loss': 0.2704, 'grad_norm': 0.0982142761349678, 'learning_rate': 1.0192383699419883e-05, 'epoch': 18.18}\n",
      "{'loss': 0.2712, 'grad_norm': 0.13194572925567627, 'learning_rate': 9.136117480862544e-06, 'epoch': 18.27}\n"
     ]
    },
    {
     "data": {
      "application/vnd.jupyter.widget-view+json": {
       "model_id": "e6668210612446f6bf7933e4ea7e4696",
       "version_major": 2,
       "version_minor": 0
      },
      "text/plain": [
       "  0%|          | 0/70 [00:00<?, ?it/s]"
      ]
     },
     "metadata": {},
     "output_type": "display_data"
    },
    {
     "name": "stdout",
     "output_type": "stream",
     "text": [
      "{'eval_loss': 0.1763903647661209, 'eval_runtime': 20.771, 'eval_samples_per_second': 861.874, 'eval_steps_per_second': 3.37, 'epoch': 18.27}\n",
      "{'loss': 0.2707, 'grad_norm': 0.14688126742839813, 'learning_rate': 8.136601628441876e-06, 'epoch': 18.37}\n",
      "{'loss': 0.2663, 'grad_norm': 0.2897859513759613, 'learning_rate': 7.19407163985894e-06, 'epoch': 18.47}\n",
      "{'loss': 0.2743, 'grad_norm': 0.15361781418323517, 'learning_rate': 6.3087495862743094e-06, 'epoch': 18.57}\n"
     ]
    },
    {
     "data": {
      "application/vnd.jupyter.widget-view+json": {
       "model_id": "112c81cf5ef744398646c9ea3cef594b",
       "version_major": 2,
       "version_minor": 0
      },
      "text/plain": [
       "  0%|          | 0/70 [00:00<?, ?it/s]"
      ]
     },
     "metadata": {},
     "output_type": "display_data"
    },
    {
     "name": "stdout",
     "output_type": "stream",
     "text": [
      "{'eval_loss': 0.1806977093219757, 'eval_runtime': 21.0213, 'eval_samples_per_second': 851.613, 'eval_steps_per_second': 3.33, 'epoch': 18.61}\n",
      "{'loss': 0.2706, 'grad_norm': 0.13054794073104858, 'learning_rate': 5.4808440599857235e-06, 'epoch': 18.66}\n",
      "{'loss': 0.2759, 'grad_norm': 0.14427052438259125, 'learning_rate': 4.7105501252811545e-06, 'epoch': 18.76}\n",
      "{'loss': 0.2752, 'grad_norm': 0.24908322095870972, 'learning_rate': 3.998049272479431e-06, 'epoch': 18.86}\n"
     ]
    },
    {
     "data": {
      "application/vnd.jupyter.widget-view+json": {
       "model_id": "f5f8b319abd34892b17dbd2667bdf605",
       "version_major": 2,
       "version_minor": 0
      },
      "text/plain": [
       "  0%|          | 0/70 [00:00<?, ?it/s]"
      ]
     },
     "metadata": {},
     "output_type": "display_data"
    },
    {
     "name": "stdout",
     "output_type": "stream",
     "text": [
      "{'eval_loss': 0.18210706114768982, 'eval_runtime': 20.8158, 'eval_samples_per_second': 860.021, 'eval_steps_per_second': 3.363, 'epoch': 18.94}\n",
      "{'loss': 0.2696, 'grad_norm': 0.13964061439037323, 'learning_rate': 3.343509375168863e-06, 'epoch': 18.96}\n",
      "{'loss': 0.2807, 'grad_norm': 0.11764644086360931, 'learning_rate': 2.7470846506545133e-06, 'epoch': 19.06}\n",
      "{'loss': 0.2686, 'grad_norm': 0.3434308171272278, 'learning_rate': 2.2089156236223818e-06, 'epoch': 19.15}\n",
      "{'loss': 0.2726, 'grad_norm': 0.22574274241924286, 'learning_rate': 1.729129093030607e-06, 'epoch': 19.25}\n"
     ]
    },
    {
     "data": {
      "application/vnd.jupyter.widget-view+json": {
       "model_id": "baafb66c46dd41a3893966cc231b92ae",
       "version_major": 2,
       "version_minor": 0
      },
      "text/plain": [
       "  0%|          | 0/70 [00:00<?, ?it/s]"
      ]
     },
     "metadata": {},
     "output_type": "display_data"
    },
    {
     "name": "stdout",
     "output_type": "stream",
     "text": [
      "{'eval_loss': 0.1771625429391861, 'eval_runtime': 21.7727, 'eval_samples_per_second': 822.222, 'eval_steps_per_second': 3.215, 'epoch': 19.27}\n",
      "{'loss': 0.271, 'grad_norm': 0.10622894018888474, 'learning_rate': 1.3078381022336715e-06, 'epoch': 19.35}\n",
      "{'loss': 0.2703, 'grad_norm': 0.14033128321170807, 'learning_rate': 9.451419123484572e-07, 'epoch': 19.45}\n",
      "{'loss': 0.27, 'grad_norm': 0.23515982925891876, 'learning_rate': 6.411259788668966e-07, 'epoch': 19.54}\n"
     ]
    },
    {
     "data": {
      "application/vnd.jupyter.widget-view+json": {
       "model_id": "e6fdb628de24408790713f8a8b3f2a9a",
       "version_major": 2,
       "version_minor": 0
      },
      "text/plain": [
       "  0%|          | 0/70 [00:00<?, ?it/s]"
      ]
     },
     "metadata": {},
     "output_type": "display_data"
    },
    {
     "name": "stdout",
     "output_type": "stream",
     "text": [
      "{'eval_loss': 0.17772062122821808, 'eval_runtime': 21.4198, 'eval_samples_per_second': 835.768, 'eval_steps_per_second': 3.268, 'epoch': 19.6}\n",
      "{'loss': 0.2663, 'grad_norm': 0.2761383056640625, 'learning_rate': 3.9586193152169047e-07, 'epoch': 19.64}\n",
      "{'loss': 0.2668, 'grad_norm': 0.1739017814397812, 'learning_rate': 2.0940755740969652e-07, 'epoch': 19.74}\n",
      "{'loss': 0.2742, 'grad_norm': 0.22339119017124176, 'learning_rate': 8.180678737629289e-08, 'epoch': 19.84}\n",
      "{'loss': 0.2726, 'grad_norm': 0.1673315465450287, 'learning_rate': 1.3089685665046425e-08, 'epoch': 19.93}\n"
     ]
    },
    {
     "data": {
      "application/vnd.jupyter.widget-view+json": {
       "model_id": "f99d09204b26451cb9eac13c6df662ea",
       "version_major": 2,
       "version_minor": 0
      },
      "text/plain": [
       "  0%|          | 0/70 [00:00<?, ?it/s]"
      ]
     },
     "metadata": {},
     "output_type": "display_data"
    },
    {
     "name": "stdout",
     "output_type": "stream",
     "text": [
      "{'eval_loss': 0.18006053566932678, 'eval_runtime': 21.8238, 'eval_samples_per_second': 820.297, 'eval_steps_per_second': 3.208, 'epoch': 19.93}\n",
      "{'loss': 0.2709, 'grad_norm': 0.16633716225624084, 'learning_rate': 0.0004999967275571659, 'epoch': 20.03}\n",
      "{'loss': 0.3029, 'grad_norm': 0.3517952859401703, 'learning_rate': 0.0004999476426280588, 'epoch': 20.13}\n",
      "{'loss': 0.3068, 'grad_norm': 0.3152329623699188, 'learning_rate': 0.0004998396670920005, 'epoch': 20.23}\n"
     ]
    },
    {
     "data": {
      "application/vnd.jupyter.widget-view+json": {
       "model_id": "08e57abb75d9426c923e1a0a3c034ff6",
       "version_major": 2,
       "version_minor": 0
      },
      "text/plain": [
       "  0%|          | 0/70 [00:00<?, ?it/s]"
      ]
     },
     "metadata": {},
     "output_type": "display_data"
    },
    {
     "name": "stdout",
     "output_type": "stream",
     "text": [
      "{'eval_loss': 0.194203719496727, 'eval_runtime': 21.4615, 'eval_samples_per_second': 834.146, 'eval_steps_per_second': 3.262, 'epoch': 20.27}\n",
      "{'loss': 0.3132, 'grad_norm': 0.22512878477573395, 'learning_rate': 0.0004996728263892985, 'epoch': 20.33}\n",
      "{'loss': 0.3136, 'grad_norm': 0.18534444272518158, 'learning_rate': 0.0004994471598295863, 'epoch': 20.42}\n",
      "{'loss': 0.3164, 'grad_norm': 0.21460406482219696, 'learning_rate': 0.0004991627205825621, 'epoch': 20.52}\n"
     ]
    },
    {
     "data": {
      "application/vnd.jupyter.widget-view+json": {
       "model_id": "6392b12fcd0a41b696169a2c674b233c",
       "version_major": 2,
       "version_minor": 0
      },
      "text/plain": [
       "  0%|          | 0/70 [00:00<?, ?it/s]"
      ]
     },
     "metadata": {},
     "output_type": "display_data"
    },
    {
     "name": "stdout",
     "output_type": "stream",
     "text": [
      "{'eval_loss': 0.19311048090457916, 'eval_runtime': 21.1083, 'eval_samples_per_second': 848.103, 'eval_steps_per_second': 3.316, 'epoch': 20.6}\n",
      "{'loss': 0.3083, 'grad_norm': 0.25077351927757263, 'learning_rate': 0.0004988195756654606, 'epoch': 20.62}\n",
      "{'loss': 0.3146, 'grad_norm': 0.2033882737159729, 'learning_rate': 0.0004984178059272639, 'epoch': 20.72}\n",
      "{'loss': 0.3014, 'grad_norm': 0.21203458309173584, 'learning_rate': 0.0004979575060296517, 'epoch': 20.81}\n",
      "{'loss': 0.3144, 'grad_norm': 0.2187240719795227, 'learning_rate': 0.0004974387844246987, 'epoch': 20.91}\n"
     ]
    },
    {
     "data": {
      "application/vnd.jupyter.widget-view+json": {
       "model_id": "ebfbba3fdd464858a7b9fb15db011107",
       "version_major": 2,
       "version_minor": 0
      },
      "text/plain": [
       "  0%|          | 0/70 [00:00<?, ?it/s]"
      ]
     },
     "metadata": {},
     "output_type": "display_data"
    },
    {
     "name": "stdout",
     "output_type": "stream",
     "text": [
      "{'eval_loss': 0.19374869763851166, 'eval_runtime': 20.7704, 'eval_samples_per_second': 861.902, 'eval_steps_per_second': 3.37, 'epoch': 20.93}\n",
      "{'loss': 0.3087, 'grad_norm': 0.256735622882843, 'learning_rate': 0.0004968617633293212, 'epoch': 21.01}\n",
      "{'loss': 0.3074, 'grad_norm': 0.2697150409221649, 'learning_rate': 0.000496226578696482, 'epoch': 21.11}\n",
      "{'loss': 0.3128, 'grad_norm': 0.17214973270893097, 'learning_rate': 0.0004955333801831578, 'epoch': 21.21}\n"
     ]
    },
    {
     "data": {
      "application/vnd.jupyter.widget-view+json": {
       "model_id": "d7a7c855081a4110b27b04ea693f1424",
       "version_major": 2,
       "version_minor": 0
      },
      "text/plain": [
       "  0%|          | 0/70 [00:00<?, ?it/s]"
      ]
     },
     "metadata": {},
     "output_type": "display_data"
    },
    {
     "name": "stdout",
     "output_type": "stream",
     "text": [
      "{'eval_loss': 0.1941835731267929, 'eval_runtime': 21.8354, 'eval_samples_per_second': 819.861, 'eval_steps_per_second': 3.206, 'epoch': 21.26}\n",
      "{'loss': 0.3048, 'grad_norm': 0.26545825600624084, 'learning_rate': 0.0004947823311150785, 'epoch': 21.3}\n",
      "{'loss': 0.3125, 'grad_norm': 0.20653170347213745, 'learning_rate': 0.000493973608448246, 'epoch': 21.4}\n",
      "{'loss': 0.3128, 'grad_norm': 0.21505355834960938, 'learning_rate': 0.0004931074027272406, 'epoch': 21.5}\n",
      "{'loss': 0.3238, 'grad_norm': 0.2548869550228119, 'learning_rate': 0.000492183918040327, 'epoch': 21.6}\n"
     ]
    },
    {
     "data": {
      "application/vnd.jupyter.widget-view+json": {
       "model_id": "b094f75cb9d84c34bd75baefcd891967",
       "version_major": 2,
       "version_minor": 0
      },
      "text/plain": [
       "  0%|          | 0/70 [00:00<?, ?it/s]"
      ]
     },
     "metadata": {},
     "output_type": "display_data"
    },
    {
     "name": "stdout",
     "output_type": "stream",
     "text": [
      "{'eval_loss': 0.1920805424451828, 'eval_runtime': 21.3512, 'eval_samples_per_second': 838.454, 'eval_steps_per_second': 3.279, 'epoch': 21.6}\n",
      "{'loss': 0.2961, 'grad_norm': 0.3330232799053192, 'learning_rate': 0.0004912033719713687, 'epoch': 21.69}\n",
      "{'loss': 0.3043, 'grad_norm': 0.3119361102581024, 'learning_rate': 0.0004901659955485623, 'epoch': 21.79}\n",
      "{'loss': 0.2954, 'grad_norm': 0.22661490738391876, 'learning_rate': 0.0004890720331900049, 'epoch': 21.89}\n"
     ]
    },
    {
     "data": {
      "application/vnd.jupyter.widget-view+json": {
       "model_id": "6930c669994548b2ab743fb5f0771170",
       "version_major": 2,
       "version_minor": 0
      },
      "text/plain": [
       "  0%|          | 0/70 [00:00<?, ?it/s]"
      ]
     },
     "metadata": {},
     "output_type": "display_data"
    },
    {
     "name": "stdout",
     "output_type": "stream",
     "text": [
      "{'eval_loss': 0.19310076534748077, 'eval_runtime': 21.0552, 'eval_samples_per_second': 850.242, 'eval_steps_per_second': 3.325, 'epoch': 21.93}\n",
      "{'loss': 0.2999, 'grad_norm': 0.23389051854610443, 'learning_rate': 0.0004879217426461062, 'epoch': 21.99}\n",
      "{'loss': 0.2951, 'grad_norm': 0.15831409394741058, 'learning_rate': 0.00048671539493885926, 'epoch': 22.08}\n",
      "{'loss': 0.2868, 'grad_norm': 0.23405422270298004, 'learning_rate': 0.00048545327429798494, 'epoch': 22.18}\n"
     ]
    },
    {
     "data": {
      "application/vnd.jupyter.widget-view+json": {
       "model_id": "b4cf46111e8d441cb0fe30cd8160e132",
       "version_major": 2,
       "version_minor": 0
      },
      "text/plain": [
       "  0%|          | 0/70 [00:00<?, ?it/s]"
      ]
     },
     "metadata": {},
     "output_type": "display_data"
    },
    {
     "name": "stdout",
     "output_type": "stream",
     "text": [
      "{'eval_loss': 0.19105194509029388, 'eval_runtime': 21.0363, 'eval_samples_per_second': 851.007, 'eval_steps_per_second': 3.328, 'epoch': 22.26}\n",
      "{'loss': 0.2987, 'grad_norm': 0.16573232412338257, 'learning_rate': 0.00048413567809396375, 'epoch': 22.28}\n",
      "{'loss': 0.3037, 'grad_norm': 0.20917077362537384, 'learning_rate': 0.0004827629167679719, 'epoch': 22.38}\n",
      "{'loss': 0.2941, 'grad_norm': 0.299795001745224, 'learning_rate': 0.0004813353137587377, 'epoch': 22.48}\n",
      "{'loss': 0.2999, 'grad_norm': 0.48797205090522766, 'learning_rate': 0.0004798532054263357, 'epoch': 22.57}\n"
     ]
    },
    {
     "data": {
      "application/vnd.jupyter.widget-view+json": {
       "model_id": "94c474168bf84b82a5e07ca05584bce0",
       "version_major": 2,
       "version_minor": 0
      },
      "text/plain": [
       "  0%|          | 0/70 [00:00<?, ?it/s]"
      ]
     },
     "metadata": {},
     "output_type": "display_data"
    },
    {
     "name": "stdout",
     "output_type": "stream",
     "text": [
      "{'eval_loss': 0.19214005768299103, 'eval_runtime': 21.3617, 'eval_samples_per_second': 838.043, 'eval_steps_per_second': 3.277, 'epoch': 22.59}\n",
      "{'loss': 0.2942, 'grad_norm': 0.1750299036502838, 'learning_rate': 0.00047831694097293613, 'epoch': 22.67}\n",
      "{'loss': 0.2979, 'grad_norm': 0.2772607207298279, 'learning_rate': 0.000476726882360529, 'epoch': 22.77}\n",
      "{'loss': 0.2962, 'grad_norm': 0.25346246361732483, 'learning_rate': 0.0004750834042256413, 'epoch': 22.87}\n"
     ]
    },
    {
     "data": {
      "application/vnd.jupyter.widget-view+json": {
       "model_id": "b2facf61d3b74aaba2297d431070ad75",
       "version_major": 2,
       "version_minor": 0
      },
      "text/plain": [
       "  0%|          | 0/70 [00:00<?, ?it/s]"
      ]
     },
     "metadata": {},
     "output_type": "display_data"
    },
    {
     "name": "stdout",
     "output_type": "stream",
     "text": [
      "{'eval_loss': 0.19403886795043945, 'eval_runtime': 22.4543, 'eval_samples_per_second': 797.264, 'eval_steps_per_second': 3.117, 'epoch': 22.93}\n",
      "{'loss': 0.2967, 'grad_norm': 0.19645194709300995, 'learning_rate': 0.0004733868937910684, 'epoch': 22.96}\n",
      "{'loss': 0.3007, 'grad_norm': 0.20188899338245392, 'learning_rate': 0.0004716377507746397, 'epoch': 23.06}\n",
      "{'loss': 0.3003, 'grad_norm': 0.2715401351451874, 'learning_rate': 0.00046983638729504066, 'epoch': 23.16}\n",
      "{'loss': 0.3002, 'grad_norm': 0.36631402373313904, 'learning_rate': 0.0004679832277747121, 'epoch': 23.26}\n"
     ]
    },
    {
     "data": {
      "application/vnd.jupyter.widget-view+json": {
       "model_id": "bc17d9e8e6894423a0f1bb854031f15b",
       "version_major": 2,
       "version_minor": 0
      },
      "text/plain": [
       "  0%|          | 0/70 [00:00<?, ?it/s]"
      ]
     },
     "metadata": {},
     "output_type": "display_data"
    },
    {
     "name": "stdout",
     "output_type": "stream",
     "text": [
      "{'eval_loss': 0.19676633179187775, 'eval_runtime': 22.7774, 'eval_samples_per_second': 785.954, 'eval_steps_per_second': 3.073, 'epoch': 23.26}\n",
      "{'loss': 0.3037, 'grad_norm': 0.43304577469825745, 'learning_rate': 0.0004660787088398526, 'epoch': 23.36}\n",
      "{'loss': 0.2985, 'grad_norm': 0.1904575675725937, 'learning_rate': 0.00046412327921754285, 'epoch': 23.45}\n",
      "{'loss': 0.2936, 'grad_norm': 0.28638771176338196, 'learning_rate': 0.0004621173996300207, 'epoch': 23.55}\n"
     ]
    },
    {
     "data": {
      "application/vnd.jupyter.widget-view+json": {
       "model_id": "cbce6c28f0734cb186dae3dc85e45150",
       "version_major": 2,
       "version_minor": 0
      },
      "text/plain": [
       "  0%|          | 0/70 [00:00<?, ?it/s]"
      ]
     },
     "metadata": {},
     "output_type": "display_data"
    },
    {
     "name": "stdout",
     "output_type": "stream",
     "text": [
      "{'eval_loss': 0.19643588364124298, 'eval_runtime': 23.021, 'eval_samples_per_second': 777.639, 'eval_steps_per_second': 3.041, 'epoch': 23.59}\n",
      "{'loss': 0.3012, 'grad_norm': 0.26150527596473694, 'learning_rate': 0.0004600615426861301, 'epoch': 23.65}\n",
      "{'loss': 0.3124, 'grad_norm': 0.2197505533695221, 'learning_rate': 0.0004579561927699681, 'epoch': 23.75}\n",
      "{'loss': 0.2943, 'grad_norm': 0.1500193327665329, 'learning_rate': 0.00045580184592675896, 'epoch': 23.84}\n"
     ]
    },
    {
     "data": {
      "application/vnd.jupyter.widget-view+json": {
       "model_id": "9aaad8977db944988891a18e2b60584e",
       "version_major": 2,
       "version_minor": 0
      },
      "text/plain": [
       "  0%|          | 0/70 [00:00<?, ?it/s]"
      ]
     },
     "metadata": {},
     "output_type": "display_data"
    },
    {
     "name": "stdout",
     "output_type": "stream",
     "text": [
      "{'eval_loss': 0.19271695613861084, 'eval_runtime': 22.4482, 'eval_samples_per_second': 797.482, 'eval_steps_per_second': 3.118, 'epoch': 23.92}\n",
      "{'loss': 0.3012, 'grad_norm': 0.24220268428325653, 'learning_rate': 0.00045359900974597964, 'epoch': 23.94}\n",
      "{'loss': 0.3028, 'grad_norm': 0.22248446941375732, 'learning_rate': 0.0004513482032417655, 'epoch': 24.04}\n",
      "{'loss': 0.2963, 'grad_norm': 0.2504824101924896, 'learning_rate': 0.00044904995673062563, 'epoch': 24.14}\n",
      "{'loss': 0.2903, 'grad_norm': 1.032784104347229, 'learning_rate': 0.00044670481170649214, 'epoch': 24.23}\n"
     ]
    },
    {
     "data": {
      "application/vnd.jupyter.widget-view+json": {
       "model_id": "5c761c75f7cc4c0dad6d438a734e4a3d",
       "version_major": 2,
       "version_minor": 0
      },
      "text/plain": [
       "  0%|          | 0/70 [00:00<?, ?it/s]"
      ]
     },
     "metadata": {},
     "output_type": "display_data"
    },
    {
     "name": "stdout",
     "output_type": "stream",
     "text": [
      "{'eval_loss': 0.19908912479877472, 'eval_runtime': 21.6424, 'eval_samples_per_second': 827.171, 'eval_steps_per_second': 3.234, 'epoch': 24.25}\n",
      "{'loss': 0.3021, 'grad_norm': 0.2758648991584778, 'learning_rate': 0.0004443133207131398, 'epoch': 24.33}\n",
      "{'loss': 0.2773, 'grad_norm': 0.2255188375711441, 'learning_rate': 0.0004418760472139988, 'epoch': 24.43}\n",
      "{'loss': 0.2908, 'grad_norm': 0.2484203428030014, 'learning_rate': 0.0004393935654593967, 'epoch': 24.53}\n"
     ]
    },
    {
     "data": {
      "application/vnd.jupyter.widget-view+json": {
       "model_id": "c738fe70c2a2405f9c2c0654bc58530a",
       "version_major": 2,
       "version_minor": 0
      },
      "text/plain": [
       "  0%|          | 0/70 [00:00<?, ?it/s]"
      ]
     },
     "metadata": {},
     "output_type": "display_data"
    },
    {
     "name": "stdout",
     "output_type": "stream",
     "text": [
      "{'eval_loss': 0.1883583515882492, 'eval_runtime': 21.6743, 'eval_samples_per_second': 825.954, 'eval_steps_per_second': 3.23, 'epoch': 24.59}\n",
      "{'loss': 0.2908, 'grad_norm': 0.2218383401632309, 'learning_rate': 0.0004368664603512585, 'epoch': 24.63}\n",
      "{'loss': 0.2872, 'grad_norm': 0.13454383611679077, 'learning_rate': 0.0004342953273052962, 'epoch': 24.72}\n",
      "{'loss': 0.2926, 'grad_norm': 0.20094738900661469, 'learning_rate': 0.0004316807721107227, 'epoch': 24.82}\n",
      "{'loss': 0.289, 'grad_norm': 0.1593479961156845, 'learning_rate': 0.00042902341078751967, 'epoch': 24.92}\n"
     ]
    },
    {
     "data": {
      "application/vnd.jupyter.widget-view+json": {
       "model_id": "e9be17a3e6754be696abc599a6185dad",
       "version_major": 2,
       "version_minor": 0
      },
      "text/plain": [
       "  0%|          | 0/70 [00:00<?, ?it/s]"
      ]
     },
     "metadata": {},
     "output_type": "display_data"
    },
    {
     "name": "stdout",
     "output_type": "stream",
     "text": [
      "{'eval_loss': 0.18503868579864502, 'eval_runtime': 20.6899, 'eval_samples_per_second': 865.255, 'eval_steps_per_second': 3.383, 'epoch': 24.92}\n",
      "{'loss': 0.2957, 'grad_norm': 0.23755574226379395, 'learning_rate': 0.000426323869441297, 'epoch': 25.02}\n",
      "{'loss': 0.2961, 'grad_norm': 0.3474651873111725, 'learning_rate': 0.0004235827841157747, 'epoch': 25.11}\n",
      "{'loss': 0.2943, 'grad_norm': 0.13769985735416412, 'learning_rate': 0.0004208008006429231, 'epoch': 25.21}\n"
     ]
    },
    {
     "data": {
      "application/vnd.jupyter.widget-view+json": {
       "model_id": "9a4354527bbf4761ab934d44d5d800e2",
       "version_major": 2,
       "version_minor": 0
      },
      "text/plain": [
       "  0%|          | 0/70 [00:00<?, ?it/s]"
      ]
     },
     "metadata": {},
     "output_type": "display_data"
    },
    {
     "name": "stdout",
     "output_type": "stream",
     "text": [
      "{'eval_loss': 0.19037868082523346, 'eval_runtime': 20.8627, 'eval_samples_per_second': 858.085, 'eval_steps_per_second': 3.355, 'epoch': 25.25}\n",
      "{'loss': 0.2851, 'grad_norm': 0.24311557412147522, 'learning_rate': 0.00041797857449079733, 'epoch': 25.31}\n",
      "{'loss': 0.2917, 'grad_norm': 0.27099499106407166, 'learning_rate': 0.0004151167706091016, 'epoch': 25.41}\n",
      "{'loss': 0.2951, 'grad_norm': 0.32056647539138794, 'learning_rate': 0.00041221606327251947, 'epoch': 25.5}\n"
     ]
    },
    {
     "data": {
      "application/vnd.jupyter.widget-view+json": {
       "model_id": "c6f7341f99f6482bbccba23b827c7e35",
       "version_major": 2,
       "version_minor": 0
      },
      "text/plain": [
       "  0%|          | 0/70 [00:00<?, ?it/s]"
      ]
     },
     "metadata": {},
     "output_type": "display_data"
    },
    {
     "name": "stdout",
     "output_type": "stream",
     "text": [
      "{'eval_loss': 0.18346364796161652, 'eval_runtime': 21.9129, 'eval_samples_per_second': 816.962, 'eval_steps_per_second': 3.194, 'epoch': 25.58}\n",
      "{'loss': 0.2852, 'grad_norm': 0.1508927047252655, 'learning_rate': 0.0004092771359218461, 'epoch': 25.6}\n",
      "{'loss': 0.2829, 'grad_norm': 0.13755550980567932, 'learning_rate': 0.00040630068100296193, 'epoch': 25.7}\n",
      "{'loss': 0.2849, 'grad_norm': 0.17793108522891998, 'learning_rate': 0.00040328739980368403, 'epoch': 25.8}\n",
      "{'loss': 0.2865, 'grad_norm': 0.17805896699428558, 'learning_rate': 0.00040023800228853506, 'epoch': 25.9}\n"
     ]
    },
    {
     "data": {
      "application/vnd.jupyter.widget-view+json": {
       "model_id": "f769bb4ac5224bfab37077e48076fe31",
       "version_major": 2,
       "version_minor": 0
      },
      "text/plain": [
       "  0%|          | 0/70 [00:00<?, ?it/s]"
      ]
     },
     "metadata": {},
     "output_type": "display_data"
    },
    {
     "name": "stdout",
     "output_type": "stream",
     "text": [
      "{'eval_loss': 0.18428288400173187, 'eval_runtime': 21.1241, 'eval_samples_per_second': 847.47, 'eval_steps_per_second': 3.314, 'epoch': 25.92}\n",
      "{'loss': 0.2851, 'grad_norm': 0.12116970121860504, 'learning_rate': 0.0003971532069314665, 'epoch': 25.99}\n",
      "{'loss': 0.2953, 'grad_norm': 0.2870884835720062, 'learning_rate': 0.0003940337405465785, 'epoch': 26.09}\n",
      "{'loss': 0.2896, 'grad_norm': 0.1909383088350296, 'learning_rate': 0.00039088033811687323, 'epoch': 26.19}\n"
     ]
    },
    {
     "data": {
      "application/vnd.jupyter.widget-view+json": {
       "model_id": "1a118117ef6446e6997ee2970d81581b",
       "version_major": 2,
       "version_minor": 0
      },
      "text/plain": [
       "  0%|          | 0/70 [00:00<?, ?it/s]"
      ]
     },
     "metadata": {},
     "output_type": "display_data"
    },
    {
     "name": "stdout",
     "output_type": "stream",
     "text": [
      "{'eval_loss': 0.18226258456707, 'eval_runtime': 21.8855, 'eval_samples_per_second': 817.984, 'eval_steps_per_second': 3.198, 'epoch': 26.25}\n",
      "{'loss': 0.284, 'grad_norm': 0.17669351398944855, 'learning_rate': 0.00038769374262108435, 'epoch': 26.29}\n",
      "{'loss': 0.2822, 'grad_norm': 0.1719866693019867, 'learning_rate': 0.0003844747048586227, 'epoch': 26.38}\n",
      "{'loss': 0.2966, 'grad_norm': 0.17416684329509735, 'learning_rate': 0.0003812239832726795, 'epoch': 26.48}\n",
      "{'loss': 0.2841, 'grad_norm': 0.18170879781246185, 'learning_rate': 0.0003779423437715274, 'epoch': 26.58}\n"
     ]
    },
    {
     "data": {
      "application/vnd.jupyter.widget-view+json": {
       "model_id": "cddb16767e9d4aaca7c7285374a98f33",
       "version_major": 2,
       "version_minor": 0
      },
      "text/plain": [
       "  0%|          | 0/70 [00:00<?, ?it/s]"
      ]
     },
     "metadata": {},
     "output_type": "display_data"
    },
    {
     "name": "stdout",
     "output_type": "stream",
     "text": [
      "{'eval_loss': 0.18874965608119965, 'eval_runtime': 21.5126, 'eval_samples_per_second': 832.165, 'eval_steps_per_second': 3.254, 'epoch': 26.58}\n",
      "{'loss': 0.2779, 'grad_norm': 0.1381068229675293, 'learning_rate': 0.00037463055954806363, 'epoch': 26.68}\n",
      "{'loss': 0.2791, 'grad_norm': 0.15555927157402039, 'learning_rate': 0.0003712894108976372, 'epoch': 26.78}\n",
      "{'loss': 0.2872, 'grad_norm': 0.2918303906917572, 'learning_rate': 0.0003679196850342017, 'epoch': 26.87}\n"
     ]
    },
    {
     "data": {
      "application/vnd.jupyter.widget-view+json": {
       "model_id": "24fed5c15a994253a28cee70a0f3964a",
       "version_major": 2,
       "version_minor": 0
      },
      "text/plain": [
       "  0%|          | 0/70 [00:00<?, ?it/s]"
      ]
     },
     "metadata": {},
     "output_type": "display_data"
    },
    {
     "name": "stdout",
     "output_type": "stream",
     "text": [
      "{'eval_loss': 0.18059080839157104, 'eval_runtime': 21.2789, 'eval_samples_per_second': 841.303, 'eval_steps_per_second': 3.29, 'epoch': 26.91}\n",
      "{'loss': 0.2778, 'grad_norm': 0.27942171692848206, 'learning_rate': 0.0003645221759048383, 'epoch': 26.97}\n",
      "{'loss': 0.2857, 'grad_norm': 0.1686282455921173, 'learning_rate': 0.0003610976840026934, 'epoch': 27.07}\n",
      "{'loss': 0.2786, 'grad_norm': 0.20309776067733765, 'learning_rate': 0.00035764701617837114, 'epoch': 27.17}\n"
     ]
    },
    {
     "data": {
      "application/vnd.jupyter.widget-view+json": {
       "model_id": "88823fe332224382afce93fa5eb9dc5c",
       "version_major": 2,
       "version_minor": 0
      },
      "text/plain": [
       "  0%|          | 0/70 [00:00<?, ?it/s]"
      ]
     },
     "metadata": {},
     "output_type": "display_data"
    },
    {
     "name": "stdout",
     "output_type": "stream",
     "text": [
      "{'eval_loss': 0.19237719476222992, 'eval_runtime': 21.9502, 'eval_samples_per_second': 815.575, 'eval_steps_per_second': 3.189, 'epoch': 27.24}\n",
      "{'loss': 0.2828, 'grad_norm': 0.2776816189289093, 'learning_rate': 0.00035417098544983204, 'epoch': 27.26}\n",
      "{'loss': 0.2805, 'grad_norm': 0.35356906056404114, 'learning_rate': 0.0003506704108108348, 'epoch': 27.36}\n",
      "{'loss': 0.2757, 'grad_norm': 0.26023972034454346, 'learning_rate': 0.00034714611703797306, 'epoch': 27.46}\n",
      "{'loss': 0.2864, 'grad_norm': 0.27457574009895325, 'learning_rate': 0.0003435989344963471, 'epoch': 27.56}\n"
     ]
    },
    {
     "data": {
      "application/vnd.jupyter.widget-view+json": {
       "model_id": "f4a48e6943524c4d9837ba63fab06da1",
       "version_major": 2,
       "version_minor": 0
      },
      "text/plain": [
       "  0%|          | 0/70 [00:00<?, ?it/s]"
      ]
     },
     "metadata": {},
     "output_type": "display_data"
    },
    {
     "name": "stdout",
     "output_type": "stream",
     "text": [
      "{'eval_loss': 0.18571937084197998, 'eval_runtime': 20.7999, 'eval_samples_per_second': 860.678, 'eval_steps_per_second': 3.365, 'epoch': 27.58}\n",
      "{'loss': 0.2817, 'grad_norm': 0.12405690550804138, 'learning_rate': 0.00034002969894392037, 'epoch': 27.65}\n",
      "{'loss': 0.279, 'grad_norm': 0.2640559673309326, 'learning_rate': 0.00033643925133460575, 'epoch': 27.75}\n",
      "{'loss': 0.2852, 'grad_norm': 0.1851484775543213, 'learning_rate': 0.0003328284376201261, 'epoch': 27.85}\n"
     ]
    },
    {
     "data": {
      "application/vnd.jupyter.widget-view+json": {
       "model_id": "260b8e745f6a43d4b945df26c5e60730",
       "version_major": 2,
       "version_minor": 0
      },
      "text/plain": [
       "  0%|          | 0/70 [00:00<?, ?it/s]"
      ]
     },
     "metadata": {},
     "output_type": "display_data"
    },
    {
     "name": "stdout",
     "output_type": "stream",
     "text": [
      "{'eval_loss': 0.17761409282684326, 'eval_runtime': 21.5067, 'eval_samples_per_second': 832.393, 'eval_steps_per_second': 3.255, 'epoch': 27.91}\n",
      "{'loss': 0.2743, 'grad_norm': 0.19226892292499542, 'learning_rate': 0.00032919810855069854, 'epoch': 27.95}\n",
      "{'loss': 0.277, 'grad_norm': 0.1550918072462082, 'learning_rate': 0.0003255491194745879, 'epoch': 28.05}\n",
      "{'loss': 0.2758, 'grad_norm': 0.1566547453403473, 'learning_rate': 0.0003218823301365754, 'epoch': 28.14}\n",
      "{'loss': 0.2747, 'grad_norm': 0.18231287598609924, 'learning_rate': 0.0003181986044753943, 'epoch': 28.24}\n"
     ]
    },
    {
     "data": {
      "application/vnd.jupyter.widget-view+json": {
       "model_id": "000a44c5bfcb4086b7d83a4c16c3a1c3",
       "version_major": 2,
       "version_minor": 0
      },
      "text/plain": [
       "  0%|          | 0/70 [00:00<?, ?it/s]"
      ]
     },
     "metadata": {},
     "output_type": "display_data"
    },
    {
     "name": "stdout",
     "output_type": "stream",
     "text": [
      "{'eval_loss': 0.18693821132183075, 'eval_runtime': 21.5708, 'eval_samples_per_second': 829.92, 'eval_steps_per_second': 3.245, 'epoch': 28.24}\n",
      "{'loss': 0.2774, 'grad_norm': 0.1341981291770935, 'learning_rate': 0.00031449881042017435, 'epoch': 28.34}\n",
      "{'loss': 0.2721, 'grad_norm': 0.15992587804794312, 'learning_rate': 0.0003107838196859488, 'epoch': 28.44}\n",
      "{'loss': 0.2722, 'grad_norm': 0.10698971152305603, 'learning_rate': 0.000307054507568267, 'epoch': 28.53}\n"
     ]
    },
    {
     "data": {
      "application/vnd.jupyter.widget-view+json": {
       "model_id": "f6627bee40c046e79e6c13c253b17df8",
       "version_major": 2,
       "version_minor": 0
      },
      "text/plain": [
       "  0%|          | 0/70 [00:00<?, ?it/s]"
      ]
     },
     "metadata": {},
     "output_type": "display_data"
    },
    {
     "name": "stdout",
     "output_type": "stream",
     "text": [
      "{'eval_loss': 0.18351960182189941, 'eval_runtime': 21.3732, 'eval_samples_per_second': 837.59, 'eval_steps_per_second': 3.275, 'epoch': 28.57}\n",
      "{'loss': 0.2831, 'grad_norm': 0.1429072916507721, 'learning_rate': 0.0003033117527369644, 'epoch': 28.63}\n",
      "{'loss': 0.2771, 'grad_norm': 0.18680943548679352, 'learning_rate': 0.0002995564370291387, 'epoch': 28.73}\n",
      "{'loss': 0.2771, 'grad_norm': 0.13438895344734192, 'learning_rate': 0.00029578944524137764, 'epoch': 28.83}\n"
     ]
    },
    {
     "data": {
      "application/vnd.jupyter.widget-view+json": {
       "model_id": "2c23558c004e4867851c92c841371f86",
       "version_major": 2,
       "version_minor": 0
      },
      "text/plain": [
       "  0%|          | 0/70 [00:00<?, ?it/s]"
      ]
     },
     "metadata": {},
     "output_type": "display_data"
    },
    {
     "name": "stdout",
     "output_type": "stream",
     "text": [
      "{'eval_loss': 0.19032026827335358, 'eval_runtime': 21.3095, 'eval_samples_per_second': 840.094, 'eval_steps_per_second': 3.285, 'epoch': 28.91}\n",
      "{'loss': 0.2838, 'grad_norm': 0.147445410490036, 'learning_rate': 0.00029201166492129105, 'epoch': 28.93}\n",
      "{'loss': 0.2813, 'grad_norm': 0.24169377982616425, 'learning_rate': 0.00028822398615839333, 'epoch': 29.02}\n",
      "{'loss': 0.2807, 'grad_norm': 0.5445785522460938, 'learning_rate': 0.0002844273013743896, 'epoch': 29.12}\n",
      "{'loss': 0.279, 'grad_norm': 0.18617703020572662, 'learning_rate': 0.00028062250511290876, 'epoch': 29.22}\n"
     ]
    },
    {
     "data": {
      "application/vnd.jupyter.widget-view+json": {
       "model_id": "05c7d97f8e68438fa2be28307db9c809",
       "version_major": 2,
       "version_minor": 0
      },
      "text/plain": [
       "  0%|          | 0/70 [00:00<?, ?it/s]"
      ]
     },
     "metadata": {},
     "output_type": "display_data"
    },
    {
     "name": "stdout",
     "output_type": "stream",
     "text": [
      "{'eval_loss': 0.18863098323345184, 'eval_runtime': 21.7418, 'eval_samples_per_second': 823.389, 'eval_steps_per_second': 3.22, 'epoch': 29.24}\n",
      "{'loss': 0.271, 'grad_norm': 0.166257843375206, 'learning_rate': 0.00027681049382873946, 'epoch': 29.32}\n",
      "{'loss': 0.2841, 'grad_norm': 0.24036931991577148, 'learning_rate': 0.00027299216567661506, 'epoch': 29.41}\n",
      "{'loss': 0.2752, 'grad_norm': 0.1249774843454361, 'learning_rate': 0.0002691684202995966, 'epoch': 29.51}\n"
     ]
    },
    {
     "data": {
      "application/vnd.jupyter.widget-view+json": {
       "model_id": "34745c6b57034207916253b9f499dd40",
       "version_major": 2,
       "version_minor": 0
      },
      "text/plain": [
       "  0%|          | 0/70 [00:00<?, ?it/s]"
      ]
     },
     "metadata": {},
     "output_type": "display_data"
    },
    {
     "name": "stdout",
     "output_type": "stream",
     "text": [
      "{'eval_loss': 0.1826661080121994, 'eval_runtime': 21.7034, 'eval_samples_per_second': 824.848, 'eval_steps_per_second': 3.225, 'epoch': 29.57}\n",
      "{'loss': 0.2843, 'grad_norm': 0.1541128158569336, 'learning_rate': 0.0002653401586171077, 'epoch': 29.61}\n",
      "{'loss': 0.2675, 'grad_norm': 0.12409315258264542, 'learning_rate': 0.00026150828261266643, 'epoch': 29.71}\n",
      "{'loss': 0.2744, 'grad_norm': 0.2450699508190155, 'learning_rate': 0.00025767369512136773, 'epoch': 29.8}\n",
      "{'loss': 0.2758, 'grad_norm': 0.30103588104248047, 'learning_rate': 0.000253837299617165, 'epoch': 29.9}\n"
     ]
    },
    {
     "data": {
      "application/vnd.jupyter.widget-view+json": {
       "model_id": "18106cb303a541beb3abcd9e0a0f1dea",
       "version_major": 2,
       "version_minor": 0
      },
      "text/plain": [
       "  0%|          | 0/70 [00:00<?, ?it/s]"
      ]
     },
     "metadata": {},
     "output_type": "display_data"
    },
    {
     "name": "stdout",
     "output_type": "stream",
     "text": [
      "{'eval_loss': 0.18671773374080658, 'eval_runtime': 21.7411, 'eval_samples_per_second': 823.418, 'eval_steps_per_second': 3.22, 'epoch': 29.9}\n",
      "{'loss': 0.2791, 'grad_norm': 0.2040637731552124, 'learning_rate': 0.00025, 'epoch': 30.0}\n",
      "{'loss': 0.2743, 'grad_norm': 0.27173420786857605, 'learning_rate': 0.0002461627003828352, 'epoch': 30.1}\n",
      "{'loss': 0.2724, 'grad_norm': 0.212455615401268, 'learning_rate': 0.00024232630487863228, 'epoch': 30.2}\n"
     ]
    },
    {
     "data": {
      "application/vnd.jupyter.widget-view+json": {
       "model_id": "2fc72c13c923432f82bc9335c1b85e68",
       "version_major": 2,
       "version_minor": 0
      },
      "text/plain": [
       "  0%|          | 0/70 [00:00<?, ?it/s]"
      ]
     },
     "metadata": {},
     "output_type": "display_data"
    },
    {
     "name": "stdout",
     "output_type": "stream",
     "text": [
      "{'eval_loss': 0.18719971179962158, 'eval_runtime': 21.2521, 'eval_samples_per_second': 842.365, 'eval_steps_per_second': 3.294, 'epoch': 30.23}\n",
      "{'loss': 0.2752, 'grad_norm': 0.3820306956768036, 'learning_rate': 0.00023849171738733345, 'epoch': 30.29}\n",
      "{'loss': 0.2702, 'grad_norm': 0.21568337082862854, 'learning_rate': 0.00023465984138289236, 'epoch': 30.39}\n",
      "{'loss': 0.2688, 'grad_norm': 0.13114935159683228, 'learning_rate': 0.00023083157970040346, 'epoch': 30.49}\n"
     ]
    },
    {
     "data": {
      "application/vnd.jupyter.widget-view+json": {
       "model_id": "f3a1f71f446246749620dc95bf07e02c",
       "version_major": 2,
       "version_minor": 0
      },
      "text/plain": [
       "  0%|          | 0/70 [00:00<?, ?it/s]"
      ]
     },
     "metadata": {},
     "output_type": "display_data"
    },
    {
     "name": "stdout",
     "output_type": "stream",
     "text": [
      "{'eval_loss': 0.18272480368614197, 'eval_runtime': 21.6813, 'eval_samples_per_second': 825.69, 'eval_steps_per_second': 3.229, 'epoch': 30.57}\n",
      "{'loss': 0.2639, 'grad_norm': 0.09707106649875641, 'learning_rate': 0.00022700783432338495, 'epoch': 30.59}\n",
      "{'loss': 0.2652, 'grad_norm': 0.19609931111335754, 'learning_rate': 0.00022318950617126044, 'epoch': 30.68}\n",
      "{'loss': 0.266, 'grad_norm': 0.29688015580177307, 'learning_rate': 0.00021937749488709125, 'epoch': 30.78}\n",
      "{'loss': 0.2734, 'grad_norm': 0.22643372416496277, 'learning_rate': 0.0002155726986256106, 'epoch': 30.88}\n"
     ]
    },
    {
     "data": {
      "application/vnd.jupyter.widget-view+json": {
       "model_id": "a31f7c8bc2064ad8ab603cfe0fe35f04",
       "version_major": 2,
       "version_minor": 0
      },
      "text/plain": [
       "  0%|          | 0/70 [00:00<?, ?it/s]"
      ]
     },
     "metadata": {},
     "output_type": "display_data"
    },
    {
     "name": "stdout",
     "output_type": "stream",
     "text": [
      "{'eval_loss': 0.17960305511951447, 'eval_runtime': 21.6175, 'eval_samples_per_second': 828.125, 'eval_steps_per_second': 3.238, 'epoch': 30.9}\n",
      "{'loss': 0.2786, 'grad_norm': 0.2939419746398926, 'learning_rate': 0.00021177601384160668, 'epoch': 30.98}\n",
      "{'loss': 0.2731, 'grad_norm': 0.23932777345180511, 'learning_rate': 0.00020798833507870918, 'epoch': 31.07}\n",
      "{'loss': 0.2703, 'grad_norm': 0.1970103532075882, 'learning_rate': 0.00020421055475862242, 'epoch': 31.17}\n"
     ]
    },
    {
     "data": {
      "application/vnd.jupyter.widget-view+json": {
       "model_id": "6d28b56e627d4460bdf29020402968cc",
       "version_major": 2,
       "version_minor": 0
      },
      "text/plain": [
       "  0%|          | 0/70 [00:00<?, ?it/s]"
      ]
     },
     "metadata": {},
     "output_type": "display_data"
    },
    {
     "name": "stdout",
     "output_type": "stream",
     "text": [
      "{'eval_loss': 0.18308746814727783, 'eval_runtime': 20.9543, 'eval_samples_per_second': 854.336, 'eval_steps_per_second': 3.341, 'epoch': 31.23}\n",
      "{'loss': 0.2711, 'grad_norm': 0.16556425392627716, 'learning_rate': 0.0002004435629708615, 'epoch': 31.27}\n",
      "{'loss': 0.2716, 'grad_norm': 0.23447994887828827, 'learning_rate': 0.0001966882472630356, 'epoch': 31.37}\n",
      "{'loss': 0.2741, 'grad_norm': 0.1308901160955429, 'learning_rate': 0.00019294549243173303, 'epoch': 31.47}\n",
      "{'loss': 0.2683, 'grad_norm': 0.11906614899635315, 'learning_rate': 0.00018921618031405107, 'epoch': 31.56}\n"
     ]
    },
    {
     "data": {
      "application/vnd.jupyter.widget-view+json": {
       "model_id": "380c57ea68464f79b5b87985711fb9c4",
       "version_major": 2,
       "version_minor": 0
      },
      "text/plain": [
       "  0%|          | 0/70 [00:00<?, ?it/s]"
      ]
     },
     "metadata": {},
     "output_type": "display_data"
    },
    {
     "name": "stdout",
     "output_type": "stream",
     "text": [
      "{'eval_loss': 0.18274781107902527, 'eval_runtime': 20.7488, 'eval_samples_per_second': 862.796, 'eval_steps_per_second': 3.374, 'epoch': 31.56}\n",
      "{'loss': 0.2687, 'grad_norm': 0.1333799660205841, 'learning_rate': 0.00018550118957982547, 'epoch': 31.66}\n",
      "{'loss': 0.2695, 'grad_norm': 0.15665343403816223, 'learning_rate': 0.0001818013955246059, 'epoch': 31.76}\n",
      "{'loss': 0.2645, 'grad_norm': 0.44774869084358215, 'learning_rate': 0.00017811766986342476, 'epoch': 31.86}\n"
     ]
    },
    {
     "data": {
      "application/vnd.jupyter.widget-view+json": {
       "model_id": "31f1a64a90db4c64a057ca3ceeedded2",
       "version_major": 2,
       "version_minor": 0
      },
      "text/plain": [
       "  0%|          | 0/70 [00:00<?, ?it/s]"
      ]
     },
     "metadata": {},
     "output_type": "display_data"
    },
    {
     "name": "stdout",
     "output_type": "stream",
     "text": [
      "{'eval_loss': 0.18626345694065094, 'eval_runtime': 22.6559, 'eval_samples_per_second': 790.17, 'eval_steps_per_second': 3.09, 'epoch': 31.9}\n",
      "{'loss': 0.2649, 'grad_norm': 0.10472660511732101, 'learning_rate': 0.00017445088052541217, 'epoch': 31.95}\n",
      "{'loss': 0.2728, 'grad_norm': 0.10956311970949173, 'learning_rate': 0.00017080189144930136, 'epoch': 32.05}\n",
      "{'loss': 0.2624, 'grad_norm': 0.5491364598274231, 'learning_rate': 0.00016717156237987393, 'epoch': 32.15}\n"
     ]
    },
    {
     "data": {
      "application/vnd.jupyter.widget-view+json": {
       "model_id": "3defb0d20f484b83862c234e4274e452",
       "version_major": 2,
       "version_minor": 0
      },
      "text/plain": [
       "  0%|          | 0/70 [00:00<?, ?it/s]"
      ]
     },
     "metadata": {},
     "output_type": "display_data"
    },
    {
     "name": "stdout",
     "output_type": "stream",
     "text": [
      "{'eval_loss': 0.18368005752563477, 'eval_runtime': 22.566, 'eval_samples_per_second': 793.316, 'eval_steps_per_second': 3.102, 'epoch': 32.23}\n",
      "{'loss': 0.2683, 'grad_norm': 0.1475999802350998, 'learning_rate': 0.0001635607486653945, 'epoch': 32.25}\n",
      "{'loss': 0.2712, 'grad_norm': 0.2050331085920334, 'learning_rate': 0.00015997030105607967, 'epoch': 32.35}\n",
      "{'loss': 0.2674, 'grad_norm': 0.24322916567325592, 'learning_rate': 0.00015640106550365295, 'epoch': 32.44}\n",
      "{'loss': 0.2653, 'grad_norm': 0.19404858350753784, 'learning_rate': 0.00015285388296202684, 'epoch': 32.54}\n"
     ]
    },
    {
     "data": {
      "application/vnd.jupyter.widget-view+json": {
       "model_id": "2377333cdaf34f62a4e733d7d5fe0e18",
       "version_major": 2,
       "version_minor": 0
      },
      "text/plain": [
       "  0%|          | 0/70 [00:00<?, ?it/s]"
      ]
     },
     "metadata": {},
     "output_type": "display_data"
    },
    {
     "name": "stdout",
     "output_type": "stream",
     "text": [
      "{'eval_loss': 0.17833183705806732, 'eval_runtime': 22.6132, 'eval_samples_per_second': 791.663, 'eval_steps_per_second': 3.096, 'epoch': 32.56}\n",
      "{'loss': 0.2653, 'grad_norm': 0.18082483112812042, 'learning_rate': 0.00014932958918916506, 'epoch': 32.64}\n",
      "{'loss': 0.2621, 'grad_norm': 0.12433723360300064, 'learning_rate': 0.00014582901455016813, 'epoch': 32.74}\n",
      "{'loss': 0.2604, 'grad_norm': 0.19224920868873596, 'learning_rate': 0.00014235298382162908, 'epoch': 32.83}\n"
     ]
    },
    {
     "data": {
      "application/vnd.jupyter.widget-view+json": {
       "model_id": "49fb2948a87748d58df1b74a2851439c",
       "version_major": 2,
       "version_minor": 0
      },
      "text/plain": [
       "  0%|          | 0/70 [00:00<?, ?it/s]"
      ]
     },
     "metadata": {},
     "output_type": "display_data"
    },
    {
     "name": "stdout",
     "output_type": "stream",
     "text": [
      "{'eval_loss': 0.17916269600391388, 'eval_runtime': 22.4548, 'eval_samples_per_second': 797.247, 'eval_steps_per_second': 3.117, 'epoch': 32.89}\n",
      "{'loss': 0.2687, 'grad_norm': 0.1526854783296585, 'learning_rate': 0.00013890231599730674, 'epoch': 32.93}\n",
      "{'loss': 0.2595, 'grad_norm': 0.23595558106899261, 'learning_rate': 0.00013547782409516158, 'epoch': 33.03}\n",
      "{'loss': 0.2666, 'grad_norm': 0.15579287707805634, 'learning_rate': 0.00013208031496579837, 'epoch': 33.13}\n",
      "{'loss': 0.2558, 'grad_norm': 0.8638646006584167, 'learning_rate': 0.000128710589102363, 'epoch': 33.22}\n"
     ]
    },
    {
     "data": {
      "application/vnd.jupyter.widget-view+json": {
       "model_id": "d6eec475c6cb44dfaed88d8afd5020ee",
       "version_major": 2,
       "version_minor": 0
      },
      "text/plain": [
       "  0%|          | 0/70 [00:00<?, ?it/s]"
      ]
     },
     "metadata": {},
     "output_type": "display_data"
    },
    {
     "name": "stdout",
     "output_type": "stream",
     "text": [
      "{'eval_loss': 0.18164461851119995, 'eval_runtime': 21.3751, 'eval_samples_per_second': 837.515, 'eval_steps_per_second': 3.275, 'epoch': 33.22}\n",
      "{'loss': 0.2718, 'grad_norm': 0.27972492575645447, 'learning_rate': 0.00012536944045193636, 'epoch': 33.32}\n",
      "{'loss': 0.2695, 'grad_norm': 0.1460743546485901, 'learning_rate': 0.00012205765622847262, 'epoch': 33.42}\n",
      "{'loss': 0.2691, 'grad_norm': 0.17539110779762268, 'learning_rate': 0.00011877601672732039, 'epoch': 33.52}\n"
     ]
    },
    {
     "data": {
      "application/vnd.jupyter.widget-view+json": {
       "model_id": "32c48d84a9914ef682daeabb217ef2d6",
       "version_major": 2,
       "version_minor": 0
      },
      "text/plain": [
       "  0%|          | 0/70 [00:00<?, ?it/s]"
      ]
     },
     "metadata": {},
     "output_type": "display_data"
    },
    {
     "name": "stdout",
     "output_type": "stream",
     "text": [
      "{'eval_loss': 0.18194718658924103, 'eval_runtime': 20.6916, 'eval_samples_per_second': 865.181, 'eval_steps_per_second': 3.383, 'epoch': 33.56}\n",
      "{'loss': 0.2616, 'grad_norm': 0.19439688324928284, 'learning_rate': 0.00011552529514137722, 'epoch': 33.62}\n",
      "{'loss': 0.2657, 'grad_norm': 0.11821054667234421, 'learning_rate': 0.00011230625737891586, 'epoch': 33.71}\n",
      "{'loss': 0.2657, 'grad_norm': 0.19712205231189728, 'learning_rate': 0.00010911966188312689, 'epoch': 33.81}\n"
     ]
    },
    {
     "data": {
      "application/vnd.jupyter.widget-view+json": {
       "model_id": "036b96842bc14c729466de51766bd9e9",
       "version_major": 2,
       "version_minor": 0
      },
      "text/plain": [
       "  0%|          | 0/70 [00:00<?, ?it/s]"
      ]
     },
     "metadata": {},
     "output_type": "display_data"
    },
    {
     "name": "stdout",
     "output_type": "stream",
     "text": [
      "{'eval_loss': 0.18418024480342865, 'eval_runtime': 21.3403, 'eval_samples_per_second': 838.881, 'eval_steps_per_second': 3.28, 'epoch': 33.89}\n",
      "{'loss': 0.2685, 'grad_norm': 0.2501744031906128, 'learning_rate': 0.00010596625945342139, 'epoch': 33.91}\n",
      "{'loss': 0.2649, 'grad_norm': 0.4303441047668457, 'learning_rate': 0.00010284679306853342, 'epoch': 34.01}\n",
      "{'loss': 0.2639, 'grad_norm': 0.2774824798107147, 'learning_rate': 9.976199771146513e-05, 'epoch': 34.1}\n",
      "{'loss': 0.2653, 'grad_norm': 0.1660359799861908, 'learning_rate': 9.671260019631611e-05, 'epoch': 34.2}\n"
     ]
    },
    {
     "data": {
      "application/vnd.jupyter.widget-view+json": {
       "model_id": "f12d52b40a174375a0c5205036a8e5c7",
       "version_major": 2,
       "version_minor": 0
      },
      "text/plain": [
       "  0%|          | 0/70 [00:00<?, ?it/s]"
      ]
     },
     "metadata": {},
     "output_type": "display_data"
    },
    {
     "name": "stdout",
     "output_type": "stream",
     "text": [
      "{'eval_loss': 0.17925196886062622, 'eval_runtime': 21.3192, 'eval_samples_per_second': 839.714, 'eval_steps_per_second': 3.283, 'epoch': 34.22}\n",
      "{'loss': 0.2605, 'grad_norm': 0.1639542132616043, 'learning_rate': 9.369931899703812e-05, 'epoch': 34.3}\n",
      "{'loss': 0.261, 'grad_norm': 0.2400621920824051, 'learning_rate': 9.07228640781538e-05, 'epoch': 34.4}\n",
      "{'loss': 0.2608, 'grad_norm': 0.10368287563323975, 'learning_rate': 8.778393672748042e-05, 'epoch': 34.5}\n"
     ]
    },
    {
     "data": {
      "application/vnd.jupyter.widget-view+json": {
       "model_id": "b4357c56a53646279529da3c082431fc",
       "version_major": 2,
       "version_minor": 0
      },
      "text/plain": [
       "  0%|          | 0/70 [00:00<?, ?it/s]"
      ]
     },
     "metadata": {},
     "output_type": "display_data"
    },
    {
     "name": "stdout",
     "output_type": "stream",
     "text": [
      "{'eval_loss': 0.1824263483285904, 'eval_runtime': 21.5113, 'eval_samples_per_second': 832.213, 'eval_steps_per_second': 3.254, 'epoch': 34.55}\n",
      "{'loss': 0.2587, 'grad_norm': 0.10909358412027359, 'learning_rate': 8.488322939089843e-05, 'epoch': 34.59}\n",
      "{'loss': 0.2576, 'grad_norm': 0.11767257750034332, 'learning_rate': 8.202142550920283e-05, 'epoch': 34.69}\n",
      "{'loss': 0.2617, 'grad_norm': 0.15614794194698334, 'learning_rate': 7.91991993570771e-05, 'epoch': 34.79}\n",
      "{'loss': 0.2664, 'grad_norm': 0.17044855654239655, 'learning_rate': 7.641721588422526e-05, 'epoch': 34.89}\n"
     ]
    },
    {
     "data": {
      "application/vnd.jupyter.widget-view+json": {
       "model_id": "a7d100b5a6cc4923bcc9ee7db3c254e1",
       "version_major": 2,
       "version_minor": 0
      },
      "text/plain": [
       "  0%|          | 0/70 [00:00<?, ?it/s]"
      ]
     },
     "metadata": {},
     "output_type": "display_data"
    },
    {
     "name": "stdout",
     "output_type": "stream",
     "text": [
      "{'eval_loss': 0.1789187639951706, 'eval_runtime': 21.6253, 'eval_samples_per_second': 827.826, 'eval_steps_per_second': 3.237, 'epoch': 34.89}\n",
      "{'loss': 0.2585, 'grad_norm': 1.0597707033157349, 'learning_rate': 7.367613055870293e-05, 'epoch': 34.98}\n",
      "{'loss': 0.259, 'grad_norm': 0.13640117645263672, 'learning_rate': 7.097658921248049e-05, 'epoch': 35.08}\n",
      "{'loss': 0.2606, 'grad_norm': 0.20369650423526764, 'learning_rate': 6.831922788927752e-05, 'epoch': 35.18}\n"
     ]
    },
    {
     "data": {
      "application/vnd.jupyter.widget-view+json": {
       "model_id": "fa550ab7684441c7adc02366c11f99cb",
       "version_major": 2,
       "version_minor": 0
      },
      "text/plain": [
       "  0%|          | 0/70 [00:00<?, ?it/s]"
      ]
     },
     "metadata": {},
     "output_type": "display_data"
    },
    {
     "name": "stdout",
     "output_type": "stream",
     "text": [
      "{'eval_loss': 0.17631344497203827, 'eval_runtime': 22.2596, 'eval_samples_per_second': 804.238, 'eval_steps_per_second': 3.145, 'epoch': 35.22}\n",
      "{'loss': 0.2568, 'grad_norm': 0.38650891184806824, 'learning_rate': 6.570467269470377e-05, 'epoch': 35.28}\n",
      "{'loss': 0.2632, 'grad_norm': 0.2088233083486557, 'learning_rate': 6.313353964874147e-05, 'epoch': 35.37}\n",
      "{'loss': 0.2626, 'grad_norm': 0.1864265650510788, 'learning_rate': 6.060643454060319e-05, 'epoch': 35.47}\n"
     ]
    },
    {
     "data": {
      "application/vnd.jupyter.widget-view+json": {
       "model_id": "138c1c23de944aee9dd8c1349b486678",
       "version_major": 2,
       "version_minor": 0
      },
      "text/plain": [
       "  0%|          | 0/70 [00:00<?, ?it/s]"
      ]
     },
     "metadata": {},
     "output_type": "display_data"
    },
    {
     "name": "stdout",
     "output_type": "stream",
     "text": [
      "{'eval_loss': 0.1790665090084076, 'eval_runtime': 21.2844, 'eval_samples_per_second': 841.085, 'eval_steps_per_second': 3.289, 'epoch': 35.55}\n",
      "{'loss': 0.2625, 'grad_norm': 0.3298025131225586, 'learning_rate': 5.812395278600127e-05, 'epoch': 35.57}\n",
      "{'loss': 0.2597, 'grad_norm': 0.12434083223342896, 'learning_rate': 5.568667928686028e-05, 'epoch': 35.67}\n",
      "{'loss': 0.2561, 'grad_norm': 0.10748447477817535, 'learning_rate': 5.329518829350788e-05, 'epoch': 35.77}\n",
      "{'loss': 0.2623, 'grad_norm': 0.14419995248317719, 'learning_rate': 5.095004326937438e-05, 'epoch': 35.86}\n"
     ]
    },
    {
     "data": {
      "application/vnd.jupyter.widget-view+json": {
       "model_id": "425d2d5062ed42b5be3e53906e6b61e1",
       "version_major": 2,
       "version_minor": 0
      },
      "text/plain": [
       "  0%|          | 0/70 [00:00<?, ?it/s]"
      ]
     },
     "metadata": {},
     "output_type": "display_data"
    },
    {
     "name": "stdout",
     "output_type": "stream",
     "text": [
      "{'eval_loss': 0.17690607905387878, 'eval_runtime': 21.0419, 'eval_samples_per_second': 850.78, 'eval_steps_per_second': 3.327, 'epoch': 35.88}\n",
      "{'loss': 0.2565, 'grad_norm': 0.27545708417892456, 'learning_rate': 4.865179675823442e-05, 'epoch': 35.96}\n",
      "{'loss': 0.2571, 'grad_norm': 0.12415336817502975, 'learning_rate': 4.64009902540205e-05, 'epoch': 36.06}\n",
      "{'loss': 0.2614, 'grad_norm': 0.1850966513156891, 'learning_rate': 4.419815407324107e-05, 'epoch': 36.16}\n"
     ]
    },
    {
     "data": {
      "application/vnd.jupyter.widget-view+json": {
       "model_id": "143c6ae93fda4af1b1d68b579a430db7",
       "version_major": 2,
       "version_minor": 0
      },
      "text/plain": [
       "  0%|          | 0/70 [00:00<?, ?it/s]"
      ]
     },
     "metadata": {},
     "output_type": "display_data"
    },
    {
     "name": "stdout",
     "output_type": "stream",
     "text": [
      "{'eval_loss': 0.18138279020786285, 'eval_runtime': 20.6845, 'eval_samples_per_second': 865.481, 'eval_steps_per_second': 3.384, 'epoch': 36.21}\n",
      "{'loss': 0.2557, 'grad_norm': 0.16952085494995117, 'learning_rate': 4.2043807230031846e-05, 'epoch': 36.25}\n",
      "{'loss': 0.2547, 'grad_norm': 0.162775456905365, 'learning_rate': 3.993845731386986e-05, 'epoch': 36.35}\n",
      "{'loss': 0.2558, 'grad_norm': 0.1562476009130478, 'learning_rate': 3.7882600369979345e-05, 'epoch': 36.45}\n",
      "{'loss': 0.2591, 'grad_norm': 0.2547747492790222, 'learning_rate': 3.587672078245721e-05, 'epoch': 36.55}\n"
     ]
    },
    {
     "data": {
      "application/vnd.jupyter.widget-view+json": {
       "model_id": "9576730757ac4e7499599cf6913865f9",
       "version_major": 2,
       "version_minor": 0
      },
      "text/plain": [
       "  0%|          | 0/70 [00:00<?, ?it/s]"
      ]
     },
     "metadata": {},
     "output_type": "display_data"
    },
    {
     "name": "stdout",
     "output_type": "stream",
     "text": [
      "{'eval_loss': 0.17253704369068146, 'eval_runtime': 21.1672, 'eval_samples_per_second': 845.743, 'eval_steps_per_second': 3.307, 'epoch': 36.55}\n",
      "{'loss': 0.2581, 'grad_norm': 0.11571154743432999, 'learning_rate': 3.392129116014736e-05, 'epoch': 36.64}\n",
      "{'loss': 0.2569, 'grad_norm': 0.13380399346351624, 'learning_rate': 3.20167722252879e-05, 'epoch': 36.74}\n",
      "{'loss': 0.2603, 'grad_norm': 0.10449357330799103, 'learning_rate': 3.016361270495943e-05, 'epoch': 36.84}\n"
     ]
    },
    {
     "data": {
      "application/vnd.jupyter.widget-view+json": {
       "model_id": "15fb5642955a47d48c85d41eb20082d4",
       "version_major": 2,
       "version_minor": 0
      },
      "text/plain": [
       "  0%|          | 0/70 [00:00<?, ?it/s]"
      ]
     },
     "metadata": {},
     "output_type": "display_data"
    },
    {
     "name": "stdout",
     "output_type": "stream",
     "text": [
      "{'eval_loss': 0.17767708003520966, 'eval_runtime': 21.1633, 'eval_samples_per_second': 845.898, 'eval_steps_per_second': 3.308, 'epoch': 36.88}\n",
      "{'loss': 0.2524, 'grad_norm': 0.14120140671730042, 'learning_rate': 2.8362249225360405e-05, 'epoch': 36.94}\n",
      "{'loss': 0.2548, 'grad_norm': 0.18682411313056946, 'learning_rate': 2.6613106208931675e-05, 'epoch': 37.04}\n",
      "{'loss': 0.2549, 'grad_norm': 0.08934088051319122, 'learning_rate': 2.4916595774358758e-05, 'epoch': 37.13}\n"
     ]
    },
    {
     "data": {
      "application/vnd.jupyter.widget-view+json": {
       "model_id": "86aa480c44534a10a98c7afc82f3030d",
       "version_major": 2,
       "version_minor": 0
      },
      "text/plain": [
       "  0%|          | 0/70 [00:00<?, ?it/s]"
      ]
     },
     "metadata": {},
     "output_type": "display_data"
    },
    {
     "name": "stdout",
     "output_type": "stream",
     "text": [
      "{'eval_loss': 0.1765795648097992, 'eval_runtime': 21.6663, 'eval_samples_per_second': 826.259, 'eval_steps_per_second': 3.231, 'epoch': 37.21}\n",
      "{'loss': 0.2552, 'grad_norm': 0.23342202603816986, 'learning_rate': 2.3273117639470958e-05, 'epoch': 37.23}\n",
      "{'loss': 0.2554, 'grad_norm': 0.11486146599054337, 'learning_rate': 2.16830590270638e-05, 'epoch': 37.33}\n",
      "{'loss': 0.2488, 'grad_norm': 0.12049052864313126, 'learning_rate': 2.0146794573664334e-05, 'epoch': 37.43}\n",
      "{'loss': 0.254, 'grad_norm': 0.6802324056625366, 'learning_rate': 1.866468624126236e-05, 'epoch': 37.52}\n"
     ]
    },
    {
     "data": {
      "application/vnd.jupyter.widget-view+json": {
       "model_id": "2ad0e63089d443e8bac6aba40497c315",
       "version_major": 2,
       "version_minor": 0
      },
      "text/plain": [
       "  0%|          | 0/70 [00:00<?, ?it/s]"
      ]
     },
     "metadata": {},
     "output_type": "display_data"
    },
    {
     "name": "stdout",
     "output_type": "stream",
     "text": [
      "{'eval_loss': 0.179070845246315, 'eval_runtime': 21.0444, 'eval_samples_per_second': 850.677, 'eval_steps_per_second': 3.326, 'epoch': 37.54}\n",
      "{'loss': 0.2542, 'grad_norm': 0.1716533601284027, 'learning_rate': 1.723708323202816e-05, 'epoch': 37.62}\n",
      "{'loss': 0.2607, 'grad_norm': 0.1802341341972351, 'learning_rate': 1.586432190603626e-05, 'epoch': 37.72}\n",
      "{'loss': 0.2607, 'grad_norm': 0.11381825804710388, 'learning_rate': 1.4546725702015012e-05, 'epoch': 37.82}\n"
     ]
    },
    {
     "data": {
      "application/vnd.jupyter.widget-view+json": {
       "model_id": "e86d972334ca494380a081a92f2515b9",
       "version_major": 2,
       "version_minor": 0
      },
      "text/plain": [
       "  0%|          | 0/70 [00:00<?, ?it/s]"
      ]
     },
     "metadata": {},
     "output_type": "display_data"
    },
    {
     "name": "stdout",
     "output_type": "stream",
     "text": [
      "{'eval_loss': 0.17747902870178223, 'eval_runtime': 21.0594, 'eval_samples_per_second': 850.071, 'eval_steps_per_second': 3.324, 'epoch': 37.88}\n",
      "{'loss': 0.2585, 'grad_norm': 0.11410553008317947, 'learning_rate': 1.3284605061140764e-05, 'epoch': 37.92}\n",
      "{'loss': 0.2529, 'grad_norm': 0.17204724252223969, 'learning_rate': 1.207825735389384e-05, 'epoch': 38.01}\n",
      "{'loss': 0.2537, 'grad_norm': 0.30782225728034973, 'learning_rate': 1.0927966809995083e-05, 'epoch': 38.11}\n",
      "{'loss': 0.2577, 'grad_norm': 0.11854702234268188, 'learning_rate': 9.834004451437644e-06, 'epoch': 38.21}\n"
     ]
    },
    {
     "data": {
      "application/vnd.jupyter.widget-view+json": {
       "model_id": "024ba9e5630a4ce299752547a600f06c",
       "version_major": 2,
       "version_minor": 0
      },
      "text/plain": [
       "  0%|          | 0/70 [00:00<?, ?it/s]"
      ]
     },
     "metadata": {},
     "output_type": "display_data"
    },
    {
     "name": "stdout",
     "output_type": "stream",
     "text": [
      "{'eval_loss': 0.17401371896266937, 'eval_runtime': 21.1665, 'eval_samples_per_second': 845.771, 'eval_steps_per_second': 3.307, 'epoch': 38.21}\n",
      "{'loss': 0.253, 'grad_norm': 0.10411934554576874, 'learning_rate': 8.796628028631292e-06, 'epoch': 38.31}\n",
      "{'loss': 0.2567, 'grad_norm': 0.40887588262557983, 'learning_rate': 7.816081959673038e-06, 'epoch': 38.4}\n",
      "{'loss': 0.2596, 'grad_norm': 0.09818823635578156, 'learning_rate': 6.892597272759482e-06, 'epoch': 38.5}\n"
     ]
    },
    {
     "data": {
      "application/vnd.jupyter.widget-view+json": {
       "model_id": "1b93878e4beb4cb2bf3d21c9e48ca433",
       "version_major": 2,
       "version_minor": 0
      },
      "text/plain": [
       "  0%|          | 0/70 [00:00<?, ?it/s]"
      ]
     },
     "metadata": {},
     "output_type": "display_data"
    },
    {
     "name": "stdout",
     "output_type": "stream",
     "text": [
      "{'eval_loss': 0.17769590020179749, 'eval_runtime': 20.7175, 'eval_samples_per_second': 864.101, 'eval_steps_per_second': 3.379, 'epoch': 38.54}\n",
      "{'loss': 0.2507, 'grad_norm': 0.09778463840484619, 'learning_rate': 6.0263915517540516e-06, 'epoch': 38.6}\n",
      "{'loss': 0.2564, 'grad_norm': 0.14249315857887268, 'learning_rate': 5.217668884921506e-06, 'epoch': 38.7}\n",
      "{'loss': 0.2508, 'grad_norm': 0.12258274853229523, 'learning_rate': 4.466619816842293e-06, 'epoch': 38.79}\n"
     ]
    },
    {
     "data": {
      "application/vnd.jupyter.widget-view+json": {
       "model_id": "1469a7fe048c4034ab9acf6ff1685fb6",
       "version_major": 2,
       "version_minor": 0
      },
      "text/plain": [
       "  0%|          | 0/70 [00:00<?, ?it/s]"
      ]
     },
     "metadata": {},
     "output_type": "display_data"
    },
    {
     "name": "stdout",
     "output_type": "stream",
     "text": [
      "{'eval_loss': 0.17566807568073273, 'eval_runtime': 20.6688, 'eval_samples_per_second': 866.138, 'eval_steps_per_second': 3.387, 'epoch': 38.87}\n",
      "{'loss': 0.2569, 'grad_norm': 0.15088985860347748, 'learning_rate': 3.7734213035180433e-06, 'epoch': 38.89}\n",
      "{'loss': 0.2552, 'grad_norm': 0.2305031716823578, 'learning_rate': 3.138236670678779e-06, 'epoch': 38.99}\n",
      "{'loss': 0.2574, 'grad_norm': 0.1374092847108841, 'learning_rate': 2.561215575301312e-06, 'epoch': 39.09}\n",
      "{'loss': 0.252, 'grad_norm': 0.07564035803079605, 'learning_rate': 2.0424939703482803e-06, 'epoch': 39.19}\n"
     ]
    },
    {
     "data": {
      "application/vnd.jupyter.widget-view+json": {
       "model_id": "896339fa51f441a7884f1e9d7e8b465e",
       "version_major": 2,
       "version_minor": 0
      },
      "text/plain": [
       "  0%|          | 0/70 [00:00<?, ?it/s]"
      ]
     },
     "metadata": {},
     "output_type": "display_data"
    },
    {
     "name": "stdout",
     "output_type": "stream",
     "text": [
      "{'eval_loss': 0.17760148644447327, 'eval_runtime': 20.7479, 'eval_samples_per_second': 862.832, 'eval_steps_per_second': 3.374, 'epoch': 39.21}\n",
      "{'loss': 0.2554, 'grad_norm': 0.22427214682102203, 'learning_rate': 1.5821940727361872e-06, 'epoch': 39.28}\n",
      "{'loss': 0.2518, 'grad_norm': 0.12085352838039398, 'learning_rate': 1.1804243345394373e-06, 'epoch': 39.38}\n",
      "{'loss': 0.2544, 'grad_norm': 0.12871156632900238, 'learning_rate': 8.372794174379416e-07, 'epoch': 39.48}\n"
     ]
    },
    {
     "data": {
      "application/vnd.jupyter.widget-view+json": {
       "model_id": "85db3e6d5f494d72aebcd6cc76b9b402",
       "version_major": 2,
       "version_minor": 0
      },
      "text/plain": [
       "  0%|          | 0/70 [00:00<?, ?it/s]"
      ]
     },
     "metadata": {},
     "output_type": "display_data"
    },
    {
     "name": "stdout",
     "output_type": "stream",
     "text": [
      "{'eval_loss': 0.18035708367824554, 'eval_runtime': 20.7122, 'eval_samples_per_second': 864.322, 'eval_steps_per_second': 3.38, 'epoch': 39.54}\n",
      "{'loss': 0.2555, 'grad_norm': 0.23386146128177643, 'learning_rate': 5.528401704136543e-07, 'epoch': 39.58}\n",
      "{'loss': 0.256, 'grad_norm': 0.10971537232398987, 'learning_rate': 3.271736107015033e-07, 'epoch': 39.67}\n",
      "{'loss': 0.2579, 'grad_norm': 0.2985653281211853, 'learning_rate': 1.6033290799949418e-07, 'epoch': 39.77}\n",
      "{'loss': 0.2567, 'grad_norm': 0.11513524502515793, 'learning_rate': 5.235737194120293e-08, 'epoch': 39.87}\n"
     ]
    },
    {
     "data": {
      "application/vnd.jupyter.widget-view+json": {
       "model_id": "9647dfd983ce4753a13535e5087e3ef3",
       "version_major": 2,
       "version_minor": 0
      },
      "text/plain": [
       "  0%|          | 0/70 [00:00<?, ?it/s]"
      ]
     },
     "metadata": {},
     "output_type": "display_data"
    },
    {
     "name": "stdout",
     "output_type": "stream",
     "text": [
      "{'eval_loss': 0.1757512092590332, 'eval_runtime': 20.7127, 'eval_samples_per_second': 864.302, 'eval_steps_per_second': 3.38, 'epoch': 39.87}\n",
      "{'loss': 0.2533, 'grad_norm': 0.12093142420053482, 'learning_rate': 3.2724428340180632e-09, 'epoch': 39.97}\n",
      "{'loss': 0.2588, 'grad_norm': 0.17693524062633514, 'learning_rate': 0.000499986910314335, 'epoch': 40.07}\n",
      "{'loss': 0.2775, 'grad_norm': 0.41489648818969727, 'learning_rate': 0.0004999181932126238, 'epoch': 40.16}\n"
     ]
    },
    {
     "data": {
      "application/vnd.jupyter.widget-view+json": {
       "model_id": "ca244aa2e6c046babd7291be73c278bf",
       "version_major": 2,
       "version_minor": 0
      },
      "text/plain": [
       "  0%|          | 0/70 [00:00<?, ?it/s]"
      ]
     },
     "metadata": {},
     "output_type": "display_data"
    },
    {
     "name": "stdout",
     "output_type": "stream",
     "text": [
      "{'eval_loss': 0.20081734657287598, 'eval_runtime': 23.5684, 'eval_samples_per_second': 759.578, 'eval_steps_per_second': 2.97, 'epoch': 40.2}\n",
      "{'loss': 0.2861, 'grad_norm': 0.21748508512973785, 'learning_rate': 0.0004997905924425903, 'epoch': 40.26}\n",
      "{'loss': 0.302, 'grad_norm': 0.26880306005477905, 'learning_rate': 0.0004996041380684784, 'epoch': 40.36}\n",
      "{'loss': 0.2905, 'grad_norm': 0.1842833161354065, 'learning_rate': 0.0004993588740211331, 'epoch': 40.46}\n"
     ]
    },
    {
     "data": {
      "application/vnd.jupyter.widget-view+json": {
       "model_id": "f1871f7878144315afa88cb2a82ecd30",
       "version_major": 2,
       "version_minor": 0
      },
      "text/plain": [
       "  0%|          | 0/70 [00:00<?, ?it/s]"
      ]
     },
     "metadata": {},
     "output_type": "display_data"
    },
    {
     "name": "stdout",
     "output_type": "stream",
     "text": [
      "{'eval_loss': 0.18906506896018982, 'eval_runtime': 23.7912, 'eval_samples_per_second': 752.463, 'eval_steps_per_second': 2.942, 'epoch': 40.53}\n",
      "{'loss': 0.2967, 'grad_norm': 0.22804655134677887, 'learning_rate': 0.0004990548580876515, 'epoch': 40.55}\n",
      "{'loss': 0.2929, 'grad_norm': 0.22969503700733185, 'learning_rate': 0.0004986921618977664, 'epoch': 40.65}\n",
      "{'loss': 0.3035, 'grad_norm': 0.14920522272586823, 'learning_rate': 0.0004982708709069695, 'epoch': 40.75}\n",
      "{'loss': 0.284, 'grad_norm': 0.22304075956344604, 'learning_rate': 0.0004977910843763777, 'epoch': 40.85}\n"
     ]
    },
    {
     "data": {
      "application/vnd.jupyter.widget-view+json": {
       "model_id": "2d3b0975478648309c9f546d037053a1",
       "version_major": 2,
       "version_minor": 0
      },
      "text/plain": [
       "  0%|          | 0/70 [00:00<?, ?it/s]"
      ]
     },
     "metadata": {},
     "output_type": "display_data"
    },
    {
     "name": "stdout",
     "output_type": "stream",
     "text": [
      "{'eval_loss': 0.19025912880897522, 'eval_runtime': 23.6557, 'eval_samples_per_second': 756.774, 'eval_steps_per_second': 2.959, 'epoch': 40.87}\n",
      "{'loss': 0.2829, 'grad_norm': 0.2764851450920105, 'learning_rate': 0.0004972529153493455, 'epoch': 40.94}\n",
      "{'loss': 0.2807, 'grad_norm': 0.24728219211101532, 'learning_rate': 0.0004966564906248312, 'epoch': 41.04}\n",
      "{'loss': 0.2771, 'grad_norm': 0.24922657012939453, 'learning_rate': 0.0004960019507275206, 'epoch': 41.14}\n"
     ]
    },
    {
     "data": {
      "application/vnd.jupyter.widget-view+json": {
       "model_id": "94c778f6ef8149b4949e08a87faf4ef5",
       "version_major": 2,
       "version_minor": 0
      },
      "text/plain": [
       "  0%|          | 0/70 [00:00<?, ?it/s]"
      ]
     },
     "metadata": {},
     "output_type": "display_data"
    },
    {
     "name": "stdout",
     "output_type": "stream",
     "text": [
      "{'eval_loss': 0.193642720580101, 'eval_runtime': 23.5567, 'eval_samples_per_second': 759.955, 'eval_steps_per_second': 2.972, 'epoch': 41.2}\n",
      "{'loss': 0.2738, 'grad_norm': 0.1573290377855301, 'learning_rate': 0.0004952894498747189, 'epoch': 41.24}\n",
      "{'loss': 0.2842, 'grad_norm': 0.22523246705532074, 'learning_rate': 0.0004945191559400143, 'epoch': 41.34}\n",
      "{'loss': 0.2782, 'grad_norm': 0.20302075147628784, 'learning_rate': 0.0004936912504137257, 'epoch': 41.43}\n",
      "{'loss': 0.283, 'grad_norm': 0.17401209473609924, 'learning_rate': 0.0004928059283601411, 'epoch': 41.53}\n"
     ]
    },
    {
     "data": {
      "application/vnd.jupyter.widget-view+json": {
       "model_id": "2eab8fe450c4469f91ad22c2d4f6e060",
       "version_major": 2,
       "version_minor": 0
      },
      "text/plain": [
       "  0%|          | 0/70 [00:00<?, ?it/s]"
      ]
     },
     "metadata": {},
     "output_type": "display_data"
    },
    {
     "name": "stdout",
     "output_type": "stream",
     "text": [
      "{'eval_loss': 0.18573111295700073, 'eval_runtime': 23.5534, 'eval_samples_per_second': 760.059, 'eval_steps_per_second': 2.972, 'epoch': 41.53}\n",
      "{'loss': 0.2824, 'grad_norm': 0.24227532744407654, 'learning_rate': 0.0004918633983715581, 'epoch': 41.63}\n",
      "{'loss': 0.2802, 'grad_norm': 0.2042679786682129, 'learning_rate': 0.0004908638825191375, 'epoch': 41.73}\n",
      "{'loss': 0.2789, 'grad_norm': 0.14937755465507507, 'learning_rate': 0.0004898076163005801, 'epoch': 41.82}\n"
     ]
    },
    {
     "data": {
      "application/vnd.jupyter.widget-view+json": {
       "model_id": "149850336dce41fca83ec35f4fe52df9",
       "version_major": 2,
       "version_minor": 0
      },
      "text/plain": [
       "  0%|          | 0/70 [00:00<?, ?it/s]"
      ]
     },
     "metadata": {},
     "output_type": "display_data"
    },
    {
     "name": "stdout",
     "output_type": "stream",
     "text": [
      "{'eval_loss': 0.18801157176494598, 'eval_runtime': 23.7037, 'eval_samples_per_second': 755.24, 'eval_steps_per_second': 2.953, 'epoch': 41.86}\n",
      "{'loss': 0.2843, 'grad_norm': 0.20281647145748138, 'learning_rate': 0.0004886948485846414, 'epoch': 41.92}\n",
      "{'loss': 0.2758, 'grad_norm': 0.1750190705060959, 'learning_rate': 0.00048752584155249446, 'epoch': 42.02}\n",
      "{'loss': 0.2832, 'grad_norm': 0.21615135669708252, 'learning_rate': 0.00048630087063595754, 'epoch': 42.12}\n"
     ]
    },
    {
     "data": {
      "application/vnd.jupyter.widget-view+json": {
       "model_id": "d3e41b2ce23145fa8dd3f2cac6ea71b0",
       "version_major": 2,
       "version_minor": 0
      },
      "text/plain": [
       "  0%|          | 0/70 [00:00<?, ?it/s]"
      ]
     },
     "metadata": {},
     "output_type": "display_data"
    },
    {
     "name": "stdout",
     "output_type": "stream",
     "text": [
      "{'eval_loss': 0.18883591890335083, 'eval_runtime': 23.6573, 'eval_samples_per_second': 756.722, 'eval_steps_per_second': 2.959, 'epoch': 42.2}\n",
      "{'loss': 0.2809, 'grad_norm': 0.16576558351516724, 'learning_rate': 0.0004850202244525986, 'epoch': 42.21}\n",
      "{'loss': 0.2769, 'grad_norm': 0.18083380162715912, 'learning_rate': 0.0004836842047377343, 'epoch': 42.31}\n",
      "{'loss': 0.2826, 'grad_norm': 0.28807196021080017, 'learning_rate': 0.00048229312627333663, 'epoch': 42.41}\n",
      "{'loss': 0.2769, 'grad_norm': 0.24969854950904846, 'learning_rate': 0.00048084731681386747, 'epoch': 42.51}\n"
     ]
    },
    {
     "data": {
      "application/vnd.jupyter.widget-view+json": {
       "model_id": "bbb2bf66f21c4488b1a5806499cc9acd",
       "version_major": 2,
       "version_minor": 0
      },
      "text/plain": [
       "  0%|          | 0/70 [00:00<?, ?it/s]"
      ]
     },
     "metadata": {},
     "output_type": "display_data"
    },
    {
     "name": "stdout",
     "output_type": "stream",
     "text": [
      "{'eval_loss': 0.1901763528585434, 'eval_runtime': 23.7095, 'eval_samples_per_second': 755.056, 'eval_steps_per_second': 2.952, 'epoch': 42.53}\n",
      "{'loss': 0.279, 'grad_norm': 0.19652771949768066, 'learning_rate': 0.0004793471170090554, 'epoch': 42.61}\n",
      "{'loss': 0.27, 'grad_norm': 0.6044843792915344, 'learning_rate': 0.0004777928803236347, 'epoch': 42.7}\n",
      "{'loss': 0.2805, 'grad_norm': 0.29722487926483154, 'learning_rate': 0.0004761849729540642, 'epoch': 42.8}\n"
     ]
    },
    {
     "data": {
      "application/vnd.jupyter.widget-view+json": {
       "model_id": "a8909bcb3cf14419b7824bd827140d67",
       "version_major": 2,
       "version_minor": 0
      },
      "text/plain": [
       "  0%|          | 0/70 [00:00<?, ?it/s]"
      ]
     },
     "metadata": {},
     "output_type": "display_data"
    },
    {
     "name": "stdout",
     "output_type": "stream",
     "text": [
      "{'eval_loss': 0.19751355051994324, 'eval_runtime': 23.7463, 'eval_samples_per_second': 753.884, 'eval_steps_per_second': 2.948, 'epoch': 42.86}\n",
      "{'loss': 0.2817, 'grad_norm': 0.18590669333934784, 'learning_rate': 0.0004745237737422486, 'epoch': 42.9}\n",
      "{'loss': 0.2827, 'grad_norm': 0.21009786427021027, 'learning_rate': 0.0004728096740862777, 'epoch': 43.0}\n",
      "{'loss': 0.2822, 'grad_norm': 0.31552237272262573, 'learning_rate': 0.00047104307784820855, 'epoch': 43.09}\n",
      "{'loss': 0.2781, 'grad_norm': 0.188284233212471, 'learning_rate': 0.00046922440125891056, 'epoch': 43.19}\n"
     ]
    },
    {
     "data": {
      "application/vnd.jupyter.widget-view+json": {
       "model_id": "5f5af96ab1df4eedaed572d4cc62aab9",
       "version_major": 2,
       "version_minor": 0
      },
      "text/plain": [
       "  0%|          | 0/70 [00:00<?, ?it/s]"
      ]
     },
     "metadata": {},
     "output_type": "display_data"
    },
    {
     "name": "stdout",
     "output_type": "stream",
     "text": [
      "{'eval_loss': 0.18340590596199036, 'eval_runtime': 23.7179, 'eval_samples_per_second': 754.789, 'eval_steps_per_second': 2.951, 'epoch': 43.19}\n",
      "{'loss': 0.2745, 'grad_norm': 0.16593925654888153, 'learning_rate': 0.0004673540728199979, 'epoch': 43.29}\n",
      "{'loss': 0.2758, 'grad_norm': 0.2566545307636261, 'learning_rate': 0.0004654325332028676, 'epoch': 43.39}\n",
      "{'loss': 0.2811, 'grad_norm': 0.20062631368637085, 'learning_rate': 0.0004634602351448737, 'epoch': 43.49}\n"
     ]
    },
    {
     "data": {
      "application/vnd.jupyter.widget-view+json": {
       "model_id": "689e6638f99842b4b180b7e886eef1f1",
       "version_major": 2,
       "version_minor": 0
      },
      "text/plain": [
       "  0%|          | 0/70 [00:00<?, ?it/s]"
      ]
     },
     "metadata": {},
     "output_type": "display_data"
    },
    {
     "name": "stdout",
     "output_type": "stream",
     "text": [
      "{'eval_loss': 0.1841958910226822, 'eval_runtime': 23.5747, 'eval_samples_per_second': 759.372, 'eval_steps_per_second': 2.969, 'epoch': 43.52}\n",
      "{'loss': 0.2794, 'grad_norm': 0.4271864593029022, 'learning_rate': 0.0004614376433426564, 'epoch': 43.58}\n",
      "{'loss': 0.277, 'grad_norm': 0.22088780999183655, 'learning_rate': 0.00045936523434265394, 'epoch': 43.68}\n",
      "{'loss': 0.2845, 'grad_norm': 0.18460595607757568, 'learning_rate': 0.0004572434964288225, 'epoch': 43.78}\n"
     ]
    },
    {
     "data": {
      "application/vnd.jupyter.widget-view+json": {
       "model_id": "5148367c6d874c3895920301e303aff1",
       "version_major": 2,
       "version_minor": 0
      },
      "text/plain": [
       "  0%|          | 0/70 [00:00<?, ?it/s]"
      ]
     },
     "metadata": {},
     "output_type": "display_data"
    },
    {
     "name": "stdout",
     "output_type": "stream",
     "text": [
      "{'eval_loss': 0.18017888069152832, 'eval_runtime': 23.3561, 'eval_samples_per_second': 766.48, 'eval_steps_per_second': 2.997, 'epoch': 43.86}\n",
      "{'loss': 0.2808, 'grad_norm': 0.26257503032684326, 'learning_rate': 0.0004550729295075918, 'epoch': 43.88}\n",
      "{'loss': 0.271, 'grad_norm': 0.20715750753879547, 'learning_rate': 0.00045285404499008, 'epoch': 43.97}\n",
      "{'loss': 0.2745, 'grad_norm': 0.22153261303901672, 'learning_rate': 0.0004505873656715994, 'epoch': 44.07}\n",
      "{'loss': 0.2762, 'grad_norm': 0.252143919467926, 'learning_rate': 0.0004482734256084808, 'epoch': 44.17}\n"
     ]
    },
    {
     "data": {
      "application/vnd.jupyter.widget-view+json": {
       "model_id": "8f9ad0f4b8394213af644633c6fe520d",
       "version_major": 2,
       "version_minor": 0
      },
      "text/plain": [
       "  0%|          | 0/70 [00:00<?, ?it/s]"
      ]
     },
     "metadata": {},
     "output_type": "display_data"
    },
    {
     "name": "stdout",
     "output_type": "stream",
     "text": [
      "{'eval_loss': 0.18185542523860931, 'eval_runtime': 23.6397, 'eval_samples_per_second': 757.287, 'eval_steps_per_second': 2.961, 'epoch': 44.19}\n",
      "{'loss': 0.2778, 'grad_norm': 0.15027935802936554, 'learning_rate': 0.00044591276999224273, 'epoch': 44.27}\n",
      "{'loss': 0.28, 'grad_norm': 0.18093456327915192, 'learning_rate': 0.0004435059550211371, 'epoch': 44.36}\n",
      "{'loss': 0.2827, 'grad_norm': 0.36575865745544434, 'learning_rate': 0.0004410535477691042, 'epoch': 44.46}\n"
     ]
    },
    {
     "data": {
      "application/vnd.jupyter.widget-view+json": {
       "model_id": "9e2cbfba05904f49b2ce374afb186af2",
       "version_major": 2,
       "version_minor": 0
      },
      "text/plain": [
       "  0%|          | 0/70 [00:00<?, ?it/s]"
      ]
     },
     "metadata": {},
     "output_type": "display_data"
    },
    {
     "name": "stdout",
     "output_type": "stream",
     "text": [
      "{'eval_loss': 0.18304920196533203, 'eval_runtime': 23.578, 'eval_samples_per_second': 759.268, 'eval_steps_per_second': 2.969, 'epoch': 44.52}\n",
      "{'loss': 0.2774, 'grad_norm': 0.26262277364730835, 'learning_rate': 0.00043855612605216165, 'epoch': 44.56}\n",
      "{'loss': 0.2738, 'grad_norm': 0.21149994432926178, 'learning_rate': 0.0004360142782922657, 'epoch': 44.66}\n",
      "{'loss': 0.2799, 'grad_norm': 0.2590770125389099, 'learning_rate': 0.00043342860337867035, 'epoch': 44.76}\n",
      "{'loss': 0.2752, 'grad_norm': 0.13272710144519806, 'learning_rate': 0.00043079971052682373, 'epoch': 44.85}\n"
     ]
    },
    {
     "data": {
      "application/vnd.jupyter.widget-view+json": {
       "model_id": "f7f9d0a3e9d54865a3d406eb79ad9fbc",
       "version_major": 2,
       "version_minor": 0
      },
      "text/plain": [
       "  0%|          | 0/70 [00:00<?, ?it/s]"
      ]
     },
     "metadata": {},
     "output_type": "display_data"
    },
    {
     "name": "stdout",
     "output_type": "stream",
     "text": [
      "{'eval_loss': 0.18092581629753113, 'eval_runtime': 23.361, 'eval_samples_per_second': 766.32, 'eval_steps_per_second': 2.996, 'epoch': 44.85}\n",
      "{'loss': 0.2684, 'grad_norm': 0.1877312958240509, 'learning_rate': 0.0004281282191348288, 'epoch': 44.95}\n",
      "{'loss': 0.2704, 'grad_norm': 0.2971208095550537, 'learning_rate': 0.0004254147586375058, 'epoch': 45.05}\n",
      "{'loss': 0.2747, 'grad_norm': 0.35156846046447754, 'learning_rate': 0.00042265996835809015, 'epoch': 45.15}\n"
     ]
    },
    {
     "data": {
      "application/vnd.jupyter.widget-view+json": {
       "model_id": "5819366b4a064a23bf7c99d293c18bec",
       "version_major": 2,
       "version_minor": 0
      },
      "text/plain": [
       "  0%|          | 0/70 [00:00<?, ?it/s]"
      ]
     },
     "metadata": {},
     "output_type": "display_data"
    },
    {
     "name": "stdout",
     "output_type": "stream",
     "text": [
      "{'eval_loss': 0.18616929650306702, 'eval_runtime': 23.9961, 'eval_samples_per_second': 746.039, 'eval_steps_per_second': 2.917, 'epoch': 45.19}\n",
      "{'loss': 0.2741, 'grad_norm': 0.14322015643119812, 'learning_rate': 0.000419864497357601, 'epoch': 45.24}\n",
      "{'loss': 0.2697, 'grad_norm': 0.25978150963783264, 'learning_rate': 0.0004170290042819137, 'epoch': 45.34}\n",
      "{'loss': 0.273, 'grad_norm': 0.4259118139743805, 'learning_rate': 0.00041415415720657617, 'epoch': 45.44}\n"
     ]
    },
    {
     "data": {
      "application/vnd.jupyter.widget-view+json": {
       "model_id": "2ee18915205d480a87f93fea18e7b96d",
       "version_major": 2,
       "version_minor": 0
      },
      "text/plain": [
       "  0%|          | 0/70 [00:00<?, ?it/s]"
      ]
     },
     "metadata": {},
     "output_type": "display_data"
    },
    {
     "name": "stdout",
     "output_type": "stream",
     "text": [
      "{'eval_loss': 0.18404795229434967, 'eval_runtime': 25.4836, 'eval_samples_per_second': 702.492, 'eval_steps_per_second': 2.747, 'epoch': 45.52}\n",
      "{'loss': 0.2683, 'grad_norm': 0.15682139992713928, 'learning_rate': 0.0004112406334794013, 'epoch': 45.54}\n",
      "{'loss': 0.2649, 'grad_norm': 0.12304289638996124, 'learning_rate': 0.0004082891195608772, 'epoch': 45.64}\n",
      "{'loss': 0.2761, 'grad_norm': 0.27708038687705994, 'learning_rate': 0.0004053003108624275, 'epoch': 45.73}\n",
      "{'loss': 0.2723, 'grad_norm': 0.13223041594028473, 'learning_rate': 0.0004022749115825657, 'epoch': 45.83}\n"
     ]
    },
    {
     "data": {
      "application/vnd.jupyter.widget-view+json": {
       "model_id": "bf460a2202254f2ebd7e61c93d27b4d1",
       "version_major": 2,
       "version_minor": 0
      },
      "text/plain": [
       "  0%|          | 0/70 [00:00<?, ?it/s]"
      ]
     },
     "metadata": {},
     "output_type": "display_data"
    },
    {
     "name": "stdout",
     "output_type": "stream",
     "text": [
      "{'eval_loss': 0.18162831664085388, 'eval_runtime': 25.2673, 'eval_samples_per_second': 708.505, 'eval_steps_per_second': 2.77, 'epoch': 45.85}\n",
      "{'loss': 0.2718, 'grad_norm': 0.27506256103515625, 'learning_rate': 0.0003992136345409767, 'epoch': 45.93}\n",
      "{'loss': 0.2733, 'grad_norm': 0.34974613785743713, 'learning_rate': 0.00039611720101056787, 'epoch': 46.03}\n",
      "{'loss': 0.2752, 'grad_norm': 0.19079597294330597, 'learning_rate': 0.0003929863405475302, 'epoch': 46.12}\n"
     ]
    },
    {
     "data": {
      "application/vnd.jupyter.widget-view+json": {
       "model_id": "4966b881257e453a97c83a3f88ccc725",
       "version_major": 2,
       "version_minor": 0
      },
      "text/plain": [
       "  0%|          | 0/70 [00:00<?, ?it/s]"
      ]
     },
     "metadata": {},
     "output_type": "display_data"
    },
    {
     "name": "stdout",
     "output_type": "stream",
     "text": [
      "{'eval_loss': 0.18030314147472382, 'eval_runtime': 24.0189, 'eval_samples_per_second': 745.328, 'eval_steps_per_second': 2.914, 'epoch': 46.18}\n",
      "{'loss': 0.2699, 'grad_norm': 0.2408042699098587, 'learning_rate': 0.000389821790819445, 'epoch': 46.22}\n",
      "{'loss': 0.271, 'grad_norm': 0.19230252504348755, 'learning_rate': 0.00038662429743148067, 'epoch': 46.32}\n",
      "{'loss': 0.2675, 'grad_norm': 0.18441535532474518, 'learning_rate': 0.00038339461375071947, 'epoch': 46.42}\n",
      "{'loss': 0.2777, 'grad_norm': 0.18847604095935822, 'learning_rate': 0.0003801335007286563, 'epoch': 46.51}\n"
     ]
    },
    {
     "data": {
      "application/vnd.jupyter.widget-view+json": {
       "model_id": "e4e98239e99142e98c90d4ad80438c8a",
       "version_major": 2,
       "version_minor": 0
      },
      "text/plain": [
       "  0%|          | 0/70 [00:00<?, ?it/s]"
      ]
     },
     "metadata": {},
     "output_type": "display_data"
    },
    {
     "name": "stdout",
     "output_type": "stream",
     "text": [
      "{'eval_loss': 0.18679307401180267, 'eval_runtime': 23.3301, 'eval_samples_per_second': 767.335, 'eval_steps_per_second': 3.0, 'epoch': 46.51}\n",
      "{'loss': 0.273, 'grad_norm': 0.2118898332118988, 'learning_rate': 0.00037684172672190877, 'epoch': 46.61}\n",
      "{'loss': 0.2718, 'grad_norm': 0.23834355175495148, 'learning_rate': 0.00037352006731118247, 'epoch': 46.71}\n",
      "{'loss': 0.27, 'grad_norm': 0.25398293137550354, 'learning_rate': 0.00037016930511853753, 'epoch': 46.81}\n"
     ]
    },
    {
     "data": {
      "application/vnd.jupyter.widget-view+json": {
       "model_id": "07eeb0a76ded4ab598647c946c954269",
       "version_major": 2,
       "version_minor": 0
      },
      "text/plain": [
       "  0%|          | 0/70 [00:00<?, ?it/s]"
      ]
     },
     "metadata": {},
     "output_type": "display_data"
    },
    {
     "name": "stdout",
     "output_type": "stream",
     "text": [
      "{'eval_loss': 0.18206582963466644, 'eval_runtime': 23.4485, 'eval_samples_per_second': 763.46, 'eval_steps_per_second': 2.985, 'epoch': 46.85}\n",
      "{'loss': 0.2683, 'grad_norm': 0.12722070515155792, 'learning_rate': 0.0003667902296229904, 'epoch': 46.91}\n",
      "{'loss': 0.2677, 'grad_norm': 0.17110344767570496, 'learning_rate': 0.00036338363697450656, 'epoch': 47.0}\n",
      "{'loss': 0.2648, 'grad_norm': 0.23125889897346497, 'learning_rate': 0.00035995032980641525, 'epoch': 47.1}\n"
     ]
    },
    {
     "data": {
      "application/vnd.jupyter.widget-view+json": {
       "model_id": "ad739d77f7604d2ca77642f8809322be",
       "version_major": 2,
       "version_minor": 0
      },
      "text/plain": [
       "  0%|          | 0/70 [00:00<?, ?it/s]"
      ]
     },
     "metadata": {},
     "output_type": "display_data"
    },
    {
     "name": "stdout",
     "output_type": "stream",
     "text": [
      "{'eval_loss': 0.18745504319667816, 'eval_runtime': 23.3529, 'eval_samples_per_second': 766.585, 'eval_steps_per_second': 2.997, 'epoch': 47.18}\n",
      "{'loss': 0.2724, 'grad_norm': 0.23690199851989746, 'learning_rate': 0.0003564911170463023, 'epoch': 47.2}\n",
      "{'loss': 0.2702, 'grad_norm': 0.149026021361351, 'learning_rate': 0.000353006813725415, 'epoch': 47.3}\n",
      "{'loss': 0.2704, 'grad_norm': 0.20206290483474731, 'learning_rate': 0.0003494982407866322, 'epoch': 47.39}\n",
      "{'loss': 0.2735, 'grad_norm': 0.214397132396698, 'learning_rate': 0.000345966224891041, 'epoch': 47.49}\n"
     ]
    },
    {
     "data": {
      "application/vnd.jupyter.widget-view+json": {
       "model_id": "6f8943ed4bdc4d60b8ff771b00efd57b",
       "version_major": 2,
       "version_minor": 0
      },
      "text/plain": [
       "  0%|          | 0/70 [00:00<?, ?it/s]"
      ]
     },
     "metadata": {},
     "output_type": "display_data"
    },
    {
     "name": "stdout",
     "output_type": "stream",
     "text": [
      "{'eval_loss': 0.1834106743335724, 'eval_runtime': 23.3225, 'eval_samples_per_second': 767.586, 'eval_steps_per_second': 3.001, 'epoch': 47.51}\n",
      "{'loss': 0.2674, 'grad_norm': 0.1927194595336914, 'learning_rate': 0.0003424115982231651, 'epoch': 47.59}\n",
      "{'loss': 0.2738, 'grad_norm': 0.1822856217622757, 'learning_rate': 0.00033883519829489136, 'epoch': 47.69}\n",
      "{'loss': 0.2713, 'grad_norm': 0.33579111099243164, 'learning_rate': 0.0003352378677481444, 'epoch': 47.79}\n"
     ]
    },
    {
     "data": {
      "application/vnd.jupyter.widget-view+json": {
       "model_id": "7d6f9297e81a401983dfe916c01a25bb",
       "version_major": 2,
       "version_minor": 0
      },
      "text/plain": [
       "  0%|          | 0/70 [00:00<?, ?it/s]"
      ]
     },
     "metadata": {},
     "output_type": "display_data"
    },
    {
     "name": "stdout",
     "output_type": "stream",
     "text": [
      "{'eval_loss': 0.18340031802654266, 'eval_runtime': 23.4209, 'eval_samples_per_second': 764.361, 'eval_steps_per_second': 2.989, 'epoch': 47.84}\n",
      "{'loss': 0.2749, 'grad_norm': 0.13696561753749847, 'learning_rate': 0.000331620454156348, 'epoch': 47.88}\n",
      "{'loss': 0.2726, 'grad_norm': 0.11761944741010666, 'learning_rate': 0.00032798380982472774, 'epoch': 47.98}\n",
      "{'loss': 0.2722, 'grad_norm': 0.1409560739994049, 'learning_rate': 0.00032432879158949857, 'epoch': 48.08}\n",
      "{'loss': 0.2719, 'grad_norm': 0.17440825700759888, 'learning_rate': 0.0003206562606159833, 'epoch': 48.18}\n"
     ]
    },
    {
     "data": {
      "application/vnd.jupyter.widget-view+json": {
       "model_id": "d42865c405254e60baf9b6dc8c1580a4",
       "version_major": 2,
       "version_minor": 0
      },
      "text/plain": [
       "  0%|          | 0/70 [00:00<?, ?it/s]"
      ]
     },
     "metadata": {},
     "output_type": "display_data"
    },
    {
     "name": "stdout",
     "output_type": "stream",
     "text": [
      "{'eval_loss': 0.17801037430763245, 'eval_runtime': 23.9853, 'eval_samples_per_second': 746.374, 'eval_steps_per_second': 2.918, 'epoch': 48.18}\n",
      "{'loss': 0.2678, 'grad_norm': 0.17056871950626373, 'learning_rate': 0.0003169670821957115, 'epoch': 48.27}\n",
      "{'loss': 0.2635, 'grad_norm': 0.14557236433029175, 'learning_rate': 0.0003132621255425471, 'epoch': 48.37}\n",
      "{'loss': 0.2733, 'grad_norm': 0.141590416431427, 'learning_rate': 0.0003095422635878922, 'epoch': 48.47}\n"
     ]
    },
    {
     "data": {
      "application/vnd.jupyter.widget-view+json": {
       "model_id": "2f559eb4cdb6454ba1eb70a3290c4322",
       "version_major": 2,
       "version_minor": 0
      },
      "text/plain": [
       "  0%|          | 0/70 [00:00<?, ?it/s]"
      ]
     },
     "metadata": {},
     "output_type": "display_data"
    },
    {
     "name": "stdout",
     "output_type": "stream",
     "text": [
      "{'eval_loss': 0.18291150033473969, 'eval_runtime': 23.9912, 'eval_samples_per_second': 746.189, 'eval_steps_per_second': 2.918, 'epoch': 48.51}\n",
      "{'loss': 0.263, 'grad_norm': 0.13765263557434082, 'learning_rate': 0.0003058083727750133, 'epoch': 48.57}\n",
      "{'loss': 0.2645, 'grad_norm': 0.20457680523395538, 'learning_rate': 0.00030206133285254, 'epoch': 48.66}\n",
      "{'loss': 0.259, 'grad_norm': 0.12066418677568436, 'learning_rate': 0.0002983020266671886, 'epoch': 48.76}\n"
     ]
    },
    {
     "data": {
      "application/vnd.jupyter.widget-view+json": {
       "model_id": "9cd5877aa99d4e01931f82a3c0789a2c",
       "version_major": 2,
       "version_minor": 0
      },
      "text/plain": [
       "  0%|          | 0/70 [00:00<?, ?it/s]"
      ]
     },
     "metadata": {},
     "output_type": "display_data"
    },
    {
     "name": "stdout",
     "output_type": "stream",
     "text": [
      "{'eval_loss': 0.17908866703510284, 'eval_runtime': 23.9579, 'eval_samples_per_second': 747.227, 'eval_steps_per_second': 2.922, 'epoch': 48.84}\n",
      "{'loss': 0.2653, 'grad_norm': 0.17568279802799225, 'learning_rate': 0.00029453133995574937, 'epoch': 48.86}\n",
      "{'loss': 0.263, 'grad_norm': 0.10321526229381561, 'learning_rate': 0.00029075016113640033, 'epoch': 48.96}\n",
      "{'loss': 0.2713, 'grad_norm': 0.15975210070610046, 'learning_rate': 0.00028695938109938224, 'epoch': 49.06}\n",
      "{'loss': 0.2627, 'grad_norm': 0.18251246213912964, 'learning_rate': 0.0002831598929970969, 'epoch': 49.15}\n"
     ]
    },
    {
     "data": {
      "application/vnd.jupyter.widget-view+json": {
       "model_id": "f9d04408c4d444598fdac2cf7ea3a6bf",
       "version_major": 2,
       "version_minor": 0
      },
      "text/plain": [
       "  0%|          | 0/70 [00:00<?, ?it/s]"
      ]
     },
     "metadata": {},
     "output_type": "display_data"
    },
    {
     "name": "stdout",
     "output_type": "stream",
     "text": [
      "{'eval_loss': 0.1818542778491974, 'eval_runtime': 23.7185, 'eval_samples_per_second': 754.768, 'eval_steps_per_second': 2.951, 'epoch': 49.17}\n",
      "{'loss': 0.2668, 'grad_norm': 0.18748463690280914, 'learning_rate': 0.00027935259203366793, 'epoch': 49.25}\n",
      "{'loss': 0.2639, 'grad_norm': 0.20852205157279968, 'learning_rate': 0.0002755383752540209, 'epoch': 49.35}\n",
      "{'loss': 0.2713, 'grad_norm': 0.30978846549987793, 'learning_rate': 0.00027171814133253, 'epoch': 49.45}\n"
     ]
    },
    {
     "data": {
      "application/vnd.jupyter.widget-view+json": {
       "model_id": "fe16f97b078b42e2bb8cc2fe5012c906",
       "version_major": 2,
       "version_minor": 0
      },
      "text/plain": [
       "  0%|          | 0/70 [00:00<?, ?it/s]"
      ]
     },
     "metadata": {},
     "output_type": "display_data"
    },
    {
     "name": "stdout",
     "output_type": "stream",
     "text": [
      "{'eval_loss': 0.17844656109809875, 'eval_runtime': 24.0887, 'eval_samples_per_second': 743.169, 'eval_steps_per_second': 2.906, 'epoch': 49.5}\n",
      "{'loss': 0.2678, 'grad_norm': 0.510927677154541, 'learning_rate': 0.00026789279036127864, 'epoch': 49.54}\n",
      "{'loss': 0.2748, 'grad_norm': 0.1568780243396759, 'learning_rate': 0.00026406322363798675, 'epoch': 49.64}\n",
      "{'loss': 0.2652, 'grad_norm': 0.1310856193304062, 'learning_rate': 0.00026023034345365513, 'epoch': 49.74}\n",
      "{'loss': 0.2611, 'grad_norm': 0.35162898898124695, 'learning_rate': 0.00025639505287997603, 'epoch': 49.84}\n"
     ]
    },
    {
     "data": {
      "application/vnd.jupyter.widget-view+json": {
       "model_id": "caba4f22db1a466aa5c73e016bdbf669",
       "version_major": 2,
       "version_minor": 0
      },
      "text/plain": [
       "  0%|          | 0/70 [00:00<?, ?it/s]"
      ]
     },
     "metadata": {},
     "output_type": "display_data"
    },
    {
     "name": "stdout",
     "output_type": "stream",
     "text": [
      "{'eval_loss': 0.17764566838741302, 'eval_runtime': 24.6932, 'eval_samples_per_second': 724.977, 'eval_steps_per_second': 2.835, 'epoch': 49.84}\n",
      "{'loss': 0.26, 'grad_norm': 0.16937656700611115, 'learning_rate': 0.00025255825555655644, 'epoch': 49.93}\n",
      "{'loss': 0.2619, 'grad_norm': 0.12497065961360931, 'learning_rate': 0.00024872085547801234, 'epoch': 50.03}\n",
      "{'loss': 0.2665, 'grad_norm': 0.33132657408714294, 'learning_rate': 0.0002448837567809758, 'epoch': 50.13}\n"
     ]
    },
    {
     "data": {
      "application/vnd.jupyter.widget-view+json": {
       "model_id": "946ae4df876548b7874742fd43d4d727",
       "version_major": 2,
       "version_minor": 0
      },
      "text/plain": [
       "  0%|          | 0/70 [00:00<?, ?it/s]"
      ]
     },
     "metadata": {},
     "output_type": "display_data"
    },
    {
     "name": "stdout",
     "output_type": "stream",
     "text": [
      "{'eval_loss': 0.17855030298233032, 'eval_runtime': 26.2537, 'eval_samples_per_second': 681.884, 'eval_steps_per_second': 2.666, 'epoch': 50.17}\n",
      "{'loss': 0.2511, 'grad_norm': 0.11311178654432297, 'learning_rate': 0.0002410478635310691, 'epoch': 50.23}\n",
      "{'loss': 0.2542, 'grad_norm': 0.29487043619155884, 'learning_rate': 0.000237214079509898, 'epoch': 50.33}\n",
      "{'loss': 0.2567, 'grad_norm': 0.18996664881706238, 'learning_rate': 0.00023338330800210845, 'epoch': 50.42}\n"
     ]
    },
    {
     "data": {
      "application/vnd.jupyter.widget-view+json": {
       "model_id": "33b7d0e5acde4bcead54fd1384430cff",
       "version_major": 2,
       "version_minor": 0
      },
      "text/plain": [
       "  0%|          | 0/70 [00:00<?, ?it/s]"
      ]
     },
     "metadata": {},
     "output_type": "display_data"
    },
    {
     "name": "stdout",
     "output_type": "stream",
     "text": [
      "{'eval_loss': 0.17698632180690765, 'eval_runtime': 24.8398, 'eval_samples_per_second': 720.697, 'eval_steps_per_second': 2.818, 'epoch': 50.5}\n",
      "{'loss': 0.258, 'grad_norm': 0.16590313613414764, 'learning_rate': 0.00022955645158256259, 'epoch': 50.52}\n",
      "{'loss': 0.2587, 'grad_norm': 0.15116626024246216, 'learning_rate': 0.00022573441190368272, 'epoch': 50.62}\n",
      "{'loss': 0.2613, 'grad_norm': 0.2292076200246811, 'learning_rate': 0.0002219180894830087, 'epoch': 50.72}\n",
      "{'loss': 0.2592, 'grad_norm': 0.08939436078071594, 'learning_rate': 0.00021810838349102938, 'epoch': 50.81}\n"
     ]
    },
    {
     "data": {
      "application/vnd.jupyter.widget-view+json": {
       "model_id": "94217ffbc2814f859d8be5b74877761b",
       "version_major": 2,
       "version_minor": 0
      },
      "text/plain": [
       "  0%|          | 0/70 [00:00<?, ?it/s]"
      ]
     },
     "metadata": {},
     "output_type": "display_data"
    },
    {
     "name": "stdout",
     "output_type": "stream",
     "text": [
      "{'eval_loss': 0.17834801971912384, 'eval_runtime': 25.8234, 'eval_samples_per_second': 693.247, 'eval_steps_per_second': 2.711, 'epoch': 50.83}\n",
      "{'loss': 0.2586, 'grad_norm': 0.3239147365093231, 'learning_rate': 0.00021430619153932313, 'epoch': 50.91}\n",
      "{'loss': 0.2576, 'grad_norm': 0.1466934084892273, 'learning_rate': 0.00021051240946907233, 'epoch': 51.01}\n",
      "{'loss': 0.2572, 'grad_norm': 0.09246650338172913, 'learning_rate': 0.00020672793113999318, 'epoch': 51.11}\n"
     ]
    },
    {
     "data": {
      "application/vnd.jupyter.widget-view+json": {
       "model_id": "7c469612dc8b4a5dbe09579d6a1d6114",
       "version_major": 2,
       "version_minor": 0
      },
      "text/plain": [
       "  0%|          | 0/70 [00:00<?, ?it/s]"
      ]
     },
     "metadata": {},
     "output_type": "display_data"
    },
    {
     "name": "stdout",
     "output_type": "stream",
     "text": [
      "{'eval_loss': 0.17617267370224, 'eval_runtime': 24.7287, 'eval_samples_per_second': 723.936, 'eval_steps_per_second': 2.831, 'epoch': 51.17}\n",
      "{'loss': 0.2653, 'grad_norm': 0.13341805338859558, 'learning_rate': 0.00020295364821972978, 'epoch': 51.21}\n",
      "{'loss': 0.2622, 'grad_norm': 0.20410506427288055, 'learning_rate': 0.00019919044997376904, 'epoch': 51.3}\n",
      "{'loss': 0.2568, 'grad_norm': 0.1220640242099762, 'learning_rate': 0.0001954392230559172, 'epoch': 51.4}\n",
      "{'loss': 0.2535, 'grad_norm': 0.09973371773958206, 'learning_rate': 0.0001917008512993948, 'epoch': 51.5}\n"
     ]
    },
    {
     "data": {
      "application/vnd.jupyter.widget-view+json": {
       "model_id": "c9bc3bb3c82c499ea1077ad6489e8a7d",
       "version_major": 2,
       "version_minor": 0
      },
      "text/plain": [
       "  0%|          | 0/70 [00:00<?, ?it/s]"
      ]
     },
     "metadata": {},
     "output_type": "display_data"
    },
    {
     "name": "stdout",
     "output_type": "stream",
     "text": [
      "{'eval_loss': 0.17504814267158508, 'eval_runtime': 24.3395, 'eval_samples_per_second': 735.513, 'eval_steps_per_second': 2.876, 'epoch': 51.5}\n",
      "{'loss': 0.2521, 'grad_norm': 0.17944087088108063, 'learning_rate': 0.0001879762155085958, 'epoch': 51.6}\n",
      "{'loss': 0.2528, 'grad_norm': 0.09322015941143036, 'learning_rate': 0.00018426619325155776, 'epoch': 51.69}\n",
      "{'loss': 0.2539, 'grad_norm': 0.25730061531066895, 'learning_rate': 0.00018057165865319896, 'epoch': 51.79}\n"
     ]
    },
    {
     "data": {
      "application/vnd.jupyter.widget-view+json": {
       "model_id": "44010bfc116843a6b182d46034f119fc",
       "version_major": 2,
       "version_minor": 0
      },
      "text/plain": [
       "  0%|          | 0/70 [00:00<?, ?it/s]"
      ]
     },
     "metadata": {},
     "output_type": "display_data"
    },
    {
     "name": "stdout",
     "output_type": "stream",
     "text": [
      "{'eval_loss': 0.17518191039562225, 'eval_runtime': 23.6642, 'eval_samples_per_second': 756.502, 'eval_steps_per_second': 2.958, 'epoch': 51.83}\n",
      "{'loss': 0.2577, 'grad_norm': 0.3244675397872925, 'learning_rate': 0.00017689348218936197, 'epoch': 51.89}\n",
      "{'loss': 0.2582, 'grad_norm': 0.1471802145242691, 'learning_rate': 0.00017323253048172, 'epoch': 51.99}\n",
      "{'loss': 0.2529, 'grad_norm': 0.1556936502456665, 'learning_rate': 0.00016958966609359282, 'epoch': 52.08}\n"
     ]
    },
    {
     "data": {
      "application/vnd.jupyter.widget-view+json": {
       "model_id": "8e4b4c2fbf8c44178651556014485f93",
       "version_major": 2,
       "version_minor": 0
      },
      "text/plain": [
       "  0%|          | 0/70 [00:00<?, ?it/s]"
      ]
     },
     "metadata": {},
     "output_type": "display_data"
    },
    {
     "name": "stdout",
     "output_type": "stream",
     "text": [
      "{'eval_loss': 0.1754458099603653, 'eval_runtime': 23.4308, 'eval_samples_per_second': 764.039, 'eval_steps_per_second': 2.988, 'epoch': 52.16}\n",
      "{'loss': 0.2478, 'grad_norm': 0.14484018087387085, 'learning_rate': 0.0001659657473267127, 'epoch': 52.18}\n",
      "{'loss': 0.2555, 'grad_norm': 0.16209642589092255, 'learning_rate': 0.0001623616280190019, 'epoch': 52.28}\n",
      "{'loss': 0.2495, 'grad_norm': 0.2000482678413391, 'learning_rate': 0.00015877815734339622, 'epoch': 52.38}\n",
      "{'loss': 0.2564, 'grad_norm': 0.2600293755531311, 'learning_rate': 0.00015521617960777062, 'epoch': 52.48}\n"
     ]
    },
    {
     "data": {
      "application/vnd.jupyter.widget-view+json": {
       "model_id": "eb4c2f97a628405c88d7f79ba7f5cf73",
       "version_major": 2,
       "version_minor": 0
      },
      "text/plain": [
       "  0%|          | 0/70 [00:00<?, ?it/s]"
      ]
     },
     "metadata": {},
     "output_type": "display_data"
    },
    {
     "name": "stdout",
     "output_type": "stream",
     "text": [
      "{'eval_loss': 0.177471324801445, 'eval_runtime': 23.3241, 'eval_samples_per_second': 767.533, 'eval_steps_per_second': 3.001, 'epoch': 52.5}\n",
      "{'loss': 0.2574, 'grad_norm': 0.21619416773319244, 'learning_rate': 0.00015167653405601133, 'epoch': 52.57}\n",
      "{'loss': 0.2482, 'grad_norm': 0.1742895543575287, 'learning_rate': 0.00014816005467027822, 'epoch': 52.67}\n",
      "{'loss': 0.2522, 'grad_norm': 0.14117678999900818, 'learning_rate': 0.0001446675699745094, 'epoch': 52.77}\n"
     ]
    },
    {
     "data": {
      "application/vnd.jupyter.widget-view+json": {
       "model_id": "8eb651e489c44e27bd6f10fe8d4ceeea",
       "version_major": 2,
       "version_minor": 0
      },
      "text/plain": [
       "  0%|          | 0/70 [00:00<?, ?it/s]"
      ]
     },
     "metadata": {},
     "output_type": "display_data"
    },
    {
     "name": "stdout",
     "output_type": "stream",
     "text": [
      "{'eval_loss': 0.17614233493804932, 'eval_runtime': 23.872, 'eval_samples_per_second': 749.915, 'eval_steps_per_second': 2.932, 'epoch': 52.83}\n",
      "{'loss': 0.2555, 'grad_norm': 0.3647960126399994, 'learning_rate': 0.00014119990283921355, 'epoch': 52.87}\n",
      "{'loss': 0.2507, 'grad_norm': 0.15448984503746033, 'learning_rate': 0.00013775787028758767, 'epoch': 52.96}\n",
      "{'loss': 0.2488, 'grad_norm': 0.08591815829277039, 'learning_rate': 0.0001343422833030207, 'epoch': 53.06}\n",
      "{'loss': 0.2514, 'grad_norm': 0.22657828032970428, 'learning_rate': 0.0001309539466380136, 'epoch': 53.16}\n"
     ]
    },
    {
     "data": {
      "application/vnd.jupyter.widget-view+json": {
       "model_id": "4343623b96864550a642612b5b49e124",
       "version_major": 2,
       "version_minor": 0
      },
      "text/plain": [
       "  0%|          | 0/70 [00:00<?, ?it/s]"
      ]
     },
     "metadata": {},
     "output_type": "display_data"
    },
    {
     "name": "stdout",
     "output_type": "stream",
     "text": [
      "{'eval_loss': 0.17703643441200256, 'eval_runtime': 23.8405, 'eval_samples_per_second': 750.906, 'eval_steps_per_second': 2.936, 'epoch': 53.16}\n",
      "{'loss': 0.2571, 'grad_norm': 0.16852951049804688, 'learning_rate': 0.0001275936586245714, 'epoch': 53.26}\n",
      "{'loss': 0.256, 'grad_norm': 0.3211486041545868, 'learning_rate': 0.00012426221098610747, 'epoch': 53.36}\n",
      "{'loss': 0.2535, 'grad_norm': 0.16701164841651917, 'learning_rate': 0.00012096038865090225, 'epoch': 53.45}\n"
     ]
    },
    {
     "data": {
      "application/vnd.jupyter.widget-view+json": {
       "model_id": "56053f73de6a45429c02681c59a0d60f",
       "version_major": 2,
       "version_minor": 0
      },
      "text/plain": [
       "  0%|          | 0/70 [00:00<?, ?it/s]"
      ]
     },
     "metadata": {},
     "output_type": "display_data"
    },
    {
     "name": "stdout",
     "output_type": "stream",
     "text": [
      "{'eval_loss': 0.17104151844978333, 'eval_runtime': 23.8113, 'eval_samples_per_second': 751.828, 'eval_steps_per_second': 2.94, 'epoch': 53.49}\n",
      "{'loss': 0.2529, 'grad_norm': 0.09025260806083679, 'learning_rate': 0.00011768896956716702, 'epoch': 53.55}\n",
      "{'loss': 0.2515, 'grad_norm': 0.1575222760438919, 'learning_rate': 0.0001144487245197483, 'epoch': 53.65}\n",
      "{'loss': 0.2504, 'grad_norm': 0.1640641838312149, 'learning_rate': 0.00011124041694852266, 'epoch': 53.75}\n"
     ]
    },
    {
     "data": {
      "application/vnd.jupyter.widget-view+json": {
       "model_id": "9e03c1036d4b4de7acb029d20a71d037",
       "version_major": 2,
       "version_minor": 0
      },
      "text/plain": [
       "  0%|          | 0/70 [00:00<?, ?it/s]"
      ]
     },
     "metadata": {},
     "output_type": "display_data"
    },
    {
     "name": "stdout",
     "output_type": "stream",
     "text": [
      "{'eval_loss': 0.17719919979572296, 'eval_runtime': 24.3538, 'eval_samples_per_second': 735.081, 'eval_steps_per_second': 2.874, 'epoch': 53.82}\n",
      "{'loss': 0.2508, 'grad_norm': 0.18372561037540436, 'learning_rate': 0.00010806480276852223, 'epoch': 53.84}\n",
      "{'loss': 0.2503, 'grad_norm': 0.13234573602676392, 'learning_rate': 0.00010492263019182985, 'epoch': 53.94}\n",
      "{'loss': 0.2503, 'grad_norm': 0.12993581593036652, 'learning_rate': 0.00010181463955129486, 'epoch': 54.04}\n",
      "{'loss': 0.2491, 'grad_norm': 0.12534785270690918, 'learning_rate': 9.874156312609844e-05, 'epoch': 54.14}\n"
     ]
    },
    {
     "data": {
      "application/vnd.jupyter.widget-view+json": {
       "model_id": "7f0907150daf48a4a756453306101647",
       "version_major": 2,
       "version_minor": 0
      },
      "text/plain": [
       "  0%|          | 0/70 [00:00<?, ?it/s]"
      ]
     },
     "metadata": {},
     "output_type": "display_data"
    },
    {
     "name": "stdout",
     "output_type": "stream",
     "text": [
      "{'eval_loss': 0.17765741050243378, 'eval_runtime': 21.8567, 'eval_samples_per_second': 819.062, 'eval_steps_per_second': 3.203, 'epoch': 54.16}\n",
      "{'loss': 0.2576, 'grad_norm': 0.15166988968849182, 'learning_rate': 9.570412496922199e-05, 'epoch': 54.23}\n",
      "{'loss': 0.2494, 'grad_norm': 0.18164747953414917, 'learning_rate': 9.270304073685201e-05, 'epoch': 54.33}\n",
      "{'loss': 0.2484, 'grad_norm': 0.2156878560781479, 'learning_rate': 8.97390175197615e-05, 'epoch': 54.43}\n"
     ]
    },
    {
     "data": {
      "application/vnd.jupyter.widget-view+json": {
       "model_id": "f68e42016d1c46d8a0af6f42a8aa95bc",
       "version_major": 2,
       "version_minor": 0
      },
      "text/plain": [
       "  0%|          | 0/70 [00:00<?, ?it/s]"
      ]
     },
     "metadata": {},
     "output_type": "display_data"
    },
    {
     "name": "stdout",
     "output_type": "stream",
     "text": [
      "{'eval_loss': 0.17568209767341614, 'eval_runtime': 21.1989, 'eval_samples_per_second': 844.479, 'eval_steps_per_second': 3.302, 'epoch': 54.49}\n",
      "{'loss': 0.2536, 'grad_norm': 0.13092701137065887, 'learning_rate': 8.681275367671295e-05, 'epoch': 54.53}\n",
      "{'loss': 0.2517, 'grad_norm': 0.2519221901893616, 'learning_rate': 8.392493866991513e-05, 'epoch': 54.63}\n",
      "{'loss': 0.2462, 'grad_norm': 0.08635386824607849, 'learning_rate': 8.107625290257794e-05, 'epoch': 54.72}\n",
      "{'loss': 0.247, 'grad_norm': 0.26293063163757324, 'learning_rate': 7.826736755860373e-05, 'epoch': 54.82}\n"
     ]
    },
    {
     "data": {
      "application/vnd.jupyter.widget-view+json": {
       "model_id": "70be5a20238a4c339cf05a2c1bd16f10",
       "version_major": 2,
       "version_minor": 0
      },
      "text/plain": [
       "  0%|          | 0/70 [00:00<?, ?it/s]"
      ]
     },
     "metadata": {},
     "output_type": "display_data"
    },
    {
     "name": "stdout",
     "output_type": "stream",
     "text": [
      "{'eval_loss': 0.17737676203250885, 'eval_runtime': 21.5372, 'eval_samples_per_second': 831.214, 'eval_steps_per_second': 3.25, 'epoch': 54.82}\n",
      "{'loss': 0.2456, 'grad_norm': 0.09859161823987961, 'learning_rate': 7.549894444444445e-05, 'epoch': 54.92}\n",
      "{'loss': 0.2499, 'grad_norm': 0.19297611713409424, 'learning_rate': 7.277163583317578e-05, 'epoch': 55.02}\n",
      "{'loss': 0.2501, 'grad_norm': 0.2482299506664276, 'learning_rate': 7.008608431081178e-05, 'epoch': 55.11}\n"
     ]
    },
    {
     "data": {
      "application/vnd.jupyter.widget-view+json": {
       "model_id": "5a01a5499e254656a1eb005945ba439d",
       "version_major": 2,
       "version_minor": 0
      },
      "text/plain": [
       "  0%|          | 0/70 [00:00<?, ?it/s]"
      ]
     },
     "metadata": {},
     "output_type": "display_data"
    },
    {
     "name": "stdout",
     "output_type": "stream",
     "text": [
      "{'eval_loss': 0.17197109758853912, 'eval_runtime': 20.9666, 'eval_samples_per_second': 853.833, 'eval_steps_per_second': 3.339, 'epoch': 55.15}\n",
      "{'loss': 0.2537, 'grad_norm': 0.27731767296791077, 'learning_rate': 6.744292262490482e-05, 'epoch': 55.21}\n",
      "{'loss': 0.2491, 'grad_norm': 0.17245516180992126, 'learning_rate': 6.484277353546347e-05, 'epoch': 55.31}\n",
      "{'loss': 0.2418, 'grad_norm': 0.18216998875141144, 'learning_rate': 6.228624966822135e-05, 'epoch': 55.41}\n"
     ]
    },
    {
     "data": {
      "application/vnd.jupyter.widget-view+json": {
       "model_id": "d3349094bb564cc0a792ffc5b09e2a5b",
       "version_major": 2,
       "version_minor": 0
      },
      "text/plain": [
       "  0%|          | 0/70 [00:00<?, ?it/s]"
      ]
     },
     "metadata": {},
     "output_type": "display_data"
    },
    {
     "name": "stdout",
     "output_type": "stream",
     "text": [
      "{'eval_loss': 0.1733388453722, 'eval_runtime': 20.7891, 'eval_samples_per_second': 861.123, 'eval_steps_per_second': 3.367, 'epoch': 55.49}\n",
      "{'loss': 0.2509, 'grad_norm': 0.12470351904630661, 'learning_rate': 5.977395337029706e-05, 'epoch': 55.5}\n",
      "{'loss': 0.2449, 'grad_norm': 0.09533645957708359, 'learning_rate': 5.7306476568272567e-05, 'epoch': 55.6}\n",
      "{'loss': 0.2466, 'grad_norm': 0.10294196754693985, 'learning_rate': 5.488440062872896e-05, 'epoch': 55.7}\n",
      "{'loss': 0.246, 'grad_norm': 0.21093997359275818, 'learning_rate': 5.25082962212704e-05, 'epoch': 55.8}\n"
     ]
    },
    {
     "data": {
      "application/vnd.jupyter.widget-view+json": {
       "model_id": "71b25931fda24114af55883d7dfe3f4e",
       "version_major": 2,
       "version_minor": 0
      },
      "text/plain": [
       "  0%|          | 0/70 [00:00<?, ?it/s]"
      ]
     },
     "metadata": {},
     "output_type": "display_data"
    },
    {
     "name": "stdout",
     "output_type": "stream",
     "text": [
      "{'eval_loss': 0.17737537622451782, 'eval_runtime': 21.5461, 'eval_samples_per_second': 830.868, 'eval_steps_per_second': 3.249, 'epoch': 55.82}\n",
      "{'loss': 0.249, 'grad_norm': 0.12604014575481415, 'learning_rate': 5.01787231840658e-05, 'epoch': 55.9}\n",
      "{'loss': 0.242, 'grad_norm': 0.20384947955608368, 'learning_rate': 4.789623039194693e-05, 'epoch': 55.99}\n",
      "{'loss': 0.2458, 'grad_norm': 0.14973193407058716, 'learning_rate': 4.566135562708443e-05, 'epoch': 56.09}\n"
     ]
    },
    {
     "data": {
      "application/vnd.jupyter.widget-view+json": {
       "model_id": "718c02bb5e3345f1ab9885c1fca5fadf",
       "version_major": 2,
       "version_minor": 0
      },
      "text/plain": [
       "  0%|          | 0/70 [00:00<?, ?it/s]"
      ]
     },
     "metadata": {},
     "output_type": "display_data"
    },
    {
     "name": "stdout",
     "output_type": "stream",
     "text": [
      "{'eval_loss': 0.17481578886508942, 'eval_runtime': 20.8631, 'eval_samples_per_second': 858.069, 'eval_steps_per_second': 3.355, 'epoch': 56.15}\n",
      "{'loss': 0.2523, 'grad_norm': 0.10716158151626587, 'learning_rate': 4.3474625452281286e-05, 'epoch': 56.19}\n",
      "{'loss': 0.2512, 'grad_norm': 0.10630998760461807, 'learning_rate': 4.133655508690898e-05, 'epoch': 56.29}\n",
      "{'loss': 0.2469, 'grad_norm': 0.18390007317066193, 'learning_rate': 3.9247648285514245e-05, 'epoch': 56.38}\n",
      "{'loss': 0.2427, 'grad_norm': 0.13418804109096527, 'learning_rate': 3.720839721913016e-05, 'epoch': 56.48}\n"
     ]
    },
    {
     "data": {
      "application/vnd.jupyter.widget-view+json": {
       "model_id": "05905bdfd6ae4586aad6f80d5b8ca7a9",
       "version_major": 2,
       "version_minor": 0
      },
      "text/plain": [
       "  0%|          | 0/70 [00:00<?, ?it/s]"
      ]
     },
     "metadata": {},
     "output_type": "display_data"
    },
    {
     "name": "stdout",
     "output_type": "stream",
     "text": [
      "{'eval_loss': 0.1734066754579544, 'eval_runtime': 20.8241, 'eval_samples_per_second': 859.675, 'eval_steps_per_second': 3.361, 'epoch': 56.48}\n",
      "{'loss': 0.2487, 'grad_norm': 0.4867474138736725, 'learning_rate': 3.521928235931363e-05, 'epoch': 56.58}\n",
      "{'loss': 0.2433, 'grad_norm': 0.164120152592659, 'learning_rate': 3.32807723649407e-05, 'epoch': 56.68}\n",
      "{'loss': 0.2493, 'grad_norm': 0.11986483633518219, 'learning_rate': 3.139332397178679e-05, 'epoch': 56.78}\n"
     ]
    },
    {
     "data": {
      "application/vnd.jupyter.widget-view+json": {
       "model_id": "53f7e24bcef54dcfb641d250fafbc7cb",
       "version_major": 2,
       "version_minor": 0
      },
      "text/plain": [
       "  0%|          | 0/70 [00:00<?, ?it/s]"
      ]
     },
     "metadata": {},
     "output_type": "display_data"
    },
    {
     "name": "stdout",
     "output_type": "stream",
     "text": [
      "{'eval_loss': 0.17271378636360168, 'eval_runtime': 20.7117, 'eval_samples_per_second': 864.342, 'eval_steps_per_second': 3.38, 'epoch': 56.81}\n",
      "{'loss': 0.2462, 'grad_norm': 0.31691545248031616, 'learning_rate': 2.95573818849115e-05, 'epoch': 56.87}\n",
      "{'loss': 0.2473, 'grad_norm': 0.15851344168186188, 'learning_rate': 2.777337867388327e-05, 'epoch': 56.97}\n",
      "{'loss': 0.2408, 'grad_norm': 0.1707802563905716, 'learning_rate': 2.604173467085949e-05, 'epoch': 57.07}\n"
     ]
    },
    {
     "data": {
      "application/vnd.jupyter.widget-view+json": {
       "model_id": "51b7f9bf99c548da93d7a5f9684bdf31",
       "version_major": 2,
       "version_minor": 0
      },
      "text/plain": [
       "  0%|          | 0/70 [00:00<?, ?it/s]"
      ]
     },
     "metadata": {},
     "output_type": "display_data"
    },
    {
     "name": "stdout",
     "output_type": "stream",
     "text": [
      "{'eval_loss': 0.1740657538175583, 'eval_runtime': 21.0568, 'eval_samples_per_second': 850.178, 'eval_steps_per_second': 3.324, 'epoch': 57.15}\n",
      "{'loss': 0.248, 'grad_norm': 0.1279587298631668, 'learning_rate': 2.4362857871551792e-05, 'epoch': 57.17}\n",
      "{'loss': 0.2437, 'grad_norm': 0.15588630735874176, 'learning_rate': 2.2737143839097862e-05, 'epoch': 57.26}\n",
      "{'loss': 0.2464, 'grad_norm': 0.12577702105045319, 'learning_rate': 2.1164975610861198e-05, 'epoch': 57.36}\n",
      "{'loss': 0.2464, 'grad_norm': 0.12850800156593323, 'learning_rate': 1.9646723608183926e-05, 'epoch': 57.46}\n"
     ]
    },
    {
     "data": {
      "application/vnd.jupyter.widget-view+json": {
       "model_id": "3c29e6fc06ae4d07b150e2a419416f52",
       "version_major": 2,
       "version_minor": 0
      },
      "text/plain": [
       "  0%|          | 0/70 [00:00<?, ?it/s]"
      ]
     },
     "metadata": {},
     "output_type": "display_data"
    },
    {
     "name": "stdout",
     "output_type": "stream",
     "text": [
      "{'eval_loss': 0.17426565289497375, 'eval_runtime': 20.9955, 'eval_samples_per_second': 852.66, 'eval_steps_per_second': 3.334, 'epoch': 57.48}\n",
      "{'loss': 0.2514, 'grad_norm': 0.09054216742515564, 'learning_rate': 1.8182745549110397e-05, 'epoch': 57.56}\n",
      "{'loss': 0.2484, 'grad_norm': 0.20183013379573822, 'learning_rate': 1.677338636410497e-05, 'epoch': 57.65}\n",
      "{'loss': 0.2443, 'grad_norm': 0.1677003800868988, 'learning_rate': 1.5418978114782626e-05, 'epoch': 57.75}\n"
     ]
    },
    {
     "data": {
      "application/vnd.jupyter.widget-view+json": {
       "model_id": "18439734f5624ca29628097e9d278a0e",
       "version_major": 2,
       "version_minor": 0
      },
      "text/plain": [
       "  0%|          | 0/70 [00:00<?, ?it/s]"
      ]
     },
     "metadata": {},
     "output_type": "display_data"
    },
    {
     "name": "stdout",
     "output_type": "stream",
     "text": [
      "{'eval_loss': 0.1747373789548874, 'eval_runtime': 21.1887, 'eval_samples_per_second': 844.883, 'eval_steps_per_second': 3.304, 'epoch': 57.81}\n",
      "{'loss': 0.2456, 'grad_norm': 0.26570555567741394, 'learning_rate': 1.4119839915670673e-05, 'epoch': 57.85}\n",
      "{'loss': 0.2439, 'grad_norm': 0.145192950963974, 'learning_rate': 1.2876277859021929e-05, 'epoch': 57.95}\n",
      "{'loss': 0.2439, 'grad_norm': 0.13089387118816376, 'learning_rate': 1.1688584942696367e-05, 'epoch': 58.05}\n",
      "{'loss': 0.2415, 'grad_norm': 0.12813137471675873, 'learning_rate': 1.0557041001126116e-05, 'epoch': 58.14}\n"
     ]
    },
    {
     "data": {
      "application/vnd.jupyter.widget-view+json": {
       "model_id": "669dd1b36c484d8e8117f2ec3e01c3aa",
       "version_major": 2,
       "version_minor": 0
      },
      "text/plain": [
       "  0%|          | 0/70 [00:00<?, ?it/s]"
      ]
     },
     "metadata": {},
     "output_type": "display_data"
    },
    {
     "name": "stdout",
     "output_type": "stream",
     "text": [
      "{'eval_loss': 0.17233794927597046, 'eval_runtime': 20.8722, 'eval_samples_per_second': 857.698, 'eval_steps_per_second': 3.354, 'epoch': 58.14}\n",
      "{'loss': 0.2436, 'grad_norm': 0.1563512086868286, 'learning_rate': 9.481912639384388e-06, 'epoch': 58.24}\n",
      "{'loss': 0.2442, 'grad_norm': 0.1388000249862671, 'learning_rate': 8.46345317036934e-06, 'epoch': 58.34}\n",
      "{'loss': 0.2425, 'grad_norm': 0.08120930194854736, 'learning_rate': 7.501902555120982e-06, 'epoch': 58.44}\n"
     ]
    },
    {
     "data": {
      "application/vnd.jupyter.widget-view+json": {
       "model_id": "de8f23e04cae4ec59c365e03b969a7a2",
       "version_major": 2,
       "version_minor": 0
      },
      "text/plain": [
       "  0%|          | 0/70 [00:00<?, ?it/s]"
      ]
     },
     "metadata": {},
     "output_type": "display_data"
    },
    {
     "name": "stdout",
     "output_type": "stream",
     "text": [
      "{'eval_loss': 0.17701813578605652, 'eval_runtime': 20.7474, 'eval_samples_per_second': 862.855, 'eval_steps_per_second': 3.374, 'epoch': 58.48}\n",
      "{'loss': 0.2419, 'grad_norm': 0.12931346893310547, 'learning_rate': 6.597487346283682e-06, 'epoch': 58.53}\n",
      "{'loss': 0.2498, 'grad_norm': 0.11548986285924911, 'learning_rate': 5.750420634726999e-06, 'epoch': 58.63}\n",
      "{'loss': 0.241, 'grad_norm': 0.2200639694929123, 'learning_rate': 4.960901999340073e-06, 'epoch': 58.73}\n"
     ]
    },
    {
     "data": {
      "application/vnd.jupyter.widget-view+json": {
       "model_id": "b3eb66ad0984413f88d0dbe95245c410",
       "version_major": 2,
       "version_minor": 0
      },
      "text/plain": [
       "  0%|          | 0/70 [00:00<?, ?it/s]"
      ]
     },
     "metadata": {},
     "output_type": "display_data"
    },
    {
     "name": "stdout",
     "output_type": "stream",
     "text": [
      "{'eval_loss': 0.1787082701921463, 'eval_runtime': 20.8752, 'eval_samples_per_second': 857.574, 'eval_steps_per_second': 3.353, 'epoch': 58.81}\n",
      "{'loss': 0.2486, 'grad_norm': 0.1071954071521759, 'learning_rate': 4.229117460007342e-06, 'epoch': 58.83}\n",
      "{'loss': 0.2394, 'grad_norm': 0.14294147491455078, 'learning_rate': 3.5552394337806383e-06, 'epoch': 58.93}\n",
      "{'loss': 0.246, 'grad_norm': 0.12724198400974274, 'learning_rate': 2.9394266942558978e-06, 'epoch': 59.02}\n",
      "{'loss': 0.2472, 'grad_norm': 0.13909347355365753, 'learning_rate': 2.381824334163701e-06, 'epoch': 59.12}\n"
     ]
    },
    {
     "data": {
      "application/vnd.jupyter.widget-view+json": {
       "model_id": "5d958b23533b4c30848a3390664ea3e1",
       "version_major": 2,
       "version_minor": 0
      },
      "text/plain": [
       "  0%|          | 0/70 [00:00<?, ?it/s]"
      ]
     },
     "metadata": {},
     "output_type": "display_data"
    },
    {
     "name": "stdout",
     "output_type": "stream",
     "text": [
      "{'eval_loss': 0.17077544331550598, 'eval_runtime': 20.9486, 'eval_samples_per_second': 854.567, 'eval_steps_per_second': 3.342, 'epoch': 59.14}\n",
      "{'loss': 0.2423, 'grad_norm': 0.11770232021808624, 'learning_rate': 1.8825637311841725e-06, 'epoch': 59.22}\n",
      "{'loss': 0.2494, 'grad_norm': 0.11155291646718979, 'learning_rate': 1.4417625169926007e-06, 'epoch': 59.32}\n",
      "{'loss': 0.2466, 'grad_norm': 0.09932540357112885, 'learning_rate': 1.0595245495439997e-06, 'epoch': 59.41}\n"
     ]
    },
    {
     "data": {
      "application/vnd.jupyter.widget-view+json": {
       "model_id": "84dbec2081d84389a343cef1b234e97c",
       "version_major": 2,
       "version_minor": 0
      },
      "text/plain": [
       "  0%|          | 0/70 [00:00<?, ?it/s]"
      ]
     },
     "metadata": {},
     "output_type": "display_data"
    },
    {
     "name": "stdout",
     "output_type": "stream",
     "text": [
      "{'eval_loss': 0.17244470119476318, 'eval_runtime': 20.7112, 'eval_samples_per_second': 864.364, 'eval_steps_per_second': 3.38, 'epoch': 59.47}\n",
      "{'loss': 0.2432, 'grad_norm': 0.24096675217151642, 'learning_rate': 7.359398886032653e-07, 'epoch': 59.51}\n",
      "{'loss': 0.2459, 'grad_norm': 0.13586768507957458, 'learning_rate': 4.710847745256208e-07, 'epoch': 59.61}\n",
      "{'loss': 0.2427, 'grad_norm': 0.13485155999660492, 'learning_rate': 2.650216102938474e-07, 'epoch': 59.71}\n",
      "{'loss': 0.2425, 'grad_norm': 0.13685578107833862, 'learning_rate': 1.1779894681515636e-07, 'epoch': 59.8}\n"
     ]
    },
    {
     "data": {
      "application/vnd.jupyter.widget-view+json": {
       "model_id": "add3f3c3c3ea4eb0aeb47cbb53e25069",
       "version_major": 2,
       "version_minor": 0
      },
      "text/plain": [
       "  0%|          | 0/70 [00:00<?, ?it/s]"
      ]
     },
     "metadata": {},
     "output_type": "display_data"
    },
    {
     "name": "stdout",
     "output_type": "stream",
     "text": [
      "{'eval_loss': 0.17515917122364044, 'eval_runtime': 20.702, 'eval_samples_per_second': 864.747, 'eval_steps_per_second': 3.381, 'epoch': 59.8}\n",
      "{'loss': 0.2514, 'grad_norm': 0.10852937400341034, 'learning_rate': 2.945147148211702e-08, 'epoch': 59.9}\n",
      "{'loss': 0.2411, 'grad_norm': 0.13796000182628632, 'learning_rate': 0.0005, 'epoch': 60.0}\n",
      "{'loss': 0.2581, 'grad_norm': 0.22920222580432892, 'learning_rate': 0.0004999705485285178, 'epoch': 60.1}\n"
     ]
    },
    {
     "data": {
      "application/vnd.jupyter.widget-view+json": {
       "model_id": "0b42ee7be8774348a0bfb7f6aa138122",
       "version_major": 2,
       "version_minor": 0
      },
      "text/plain": [
       "  0%|          | 0/70 [00:00<?, ?it/s]"
      ]
     },
     "metadata": {},
     "output_type": "display_data"
    },
    {
     "name": "stdout",
     "output_type": "stream",
     "text": [
      "{'eval_loss': 0.18314604461193085, 'eval_runtime': 20.9734, 'eval_samples_per_second': 853.558, 'eval_steps_per_second': 3.338, 'epoch': 60.14}\n",
      "{'loss': 0.2746, 'grad_norm': 0.2407134622335434, 'learning_rate': 0.0004998822010531848, 'epoch': 60.2}\n",
      "{'loss': 0.2744, 'grad_norm': 0.19508787989616394, 'learning_rate': 0.0004997349783897062, 'epoch': 60.29}\n",
      "{'loss': 0.2824, 'grad_norm': 0.20289558172225952, 'learning_rate': 0.0004995289152254744, 'epoch': 60.39}\n"
     ]
    },
    {
     "data": {
      "application/vnd.jupyter.widget-view+json": {
       "model_id": "31d8a75873ba42bdbbf32190f6ca7738",
       "version_major": 2,
       "version_minor": 0
      },
      "text/plain": [
       "  0%|          | 0/70 [00:00<?, ?it/s]"
      ]
     },
     "metadata": {},
     "output_type": "display_data"
    },
    {
     "name": "stdout",
     "output_type": "stream",
     "text": [
      "{'eval_loss': 0.18347850441932678, 'eval_runtime': 20.6435, 'eval_samples_per_second': 867.196, 'eval_steps_per_second': 3.391, 'epoch': 60.47}\n",
      "{'loss': 0.2762, 'grad_norm': 0.28215423226356506, 'learning_rate': 0.0004992640601113968, 'epoch': 60.49}\n",
      "{'loss': 0.2848, 'grad_norm': 0.2606654763221741, 'learning_rate': 0.0004989404754504559, 'epoch': 60.59}\n",
      "{'loss': 0.2891, 'grad_norm': 0.2296386957168579, 'learning_rate': 0.0004985582374830074, 'epoch': 60.68}\n",
      "{'loss': 0.289, 'grad_norm': 0.16996169090270996, 'learning_rate': 0.0004981174362688158, 'epoch': 60.78}\n"
     ]
    },
    {
     "data": {
      "application/vnd.jupyter.widget-view+json": {
       "model_id": "e35ecea6f11b40ff95b1be1b71dabd4f",
       "version_major": 2,
       "version_minor": 0
      },
      "text/plain": [
       "  0%|          | 0/70 [00:00<?, ?it/s]"
      ]
     },
     "metadata": {},
     "output_type": "display_data"
    },
    {
     "name": "stdout",
     "output_type": "stream",
     "text": [
      "{'eval_loss': 0.18725039064884186, 'eval_runtime': 20.7845, 'eval_samples_per_second': 861.315, 'eval_steps_per_second': 3.368, 'epoch': 60.8}\n",
      "{'loss': 0.2808, 'grad_norm': 0.486005574464798, 'learning_rate': 0.0004976181756658363, 'epoch': 60.88}\n",
      "{'loss': 0.2794, 'grad_norm': 0.16510111093521118, 'learning_rate': 0.0004970605733057441, 'epoch': 60.98}\n",
      "{'loss': 0.287, 'grad_norm': 0.1954716444015503, 'learning_rate': 0.0004964447605662193, 'epoch': 61.07}\n"
     ]
    },
    {
     "data": {
      "application/vnd.jupyter.widget-view+json": {
       "model_id": "c215bd93a0e04c4b91743be678ae72f0",
       "version_major": 2,
       "version_minor": 0
      },
      "text/plain": [
       "  0%|          | 0/70 [00:00<?, ?it/s]"
      ]
     },
     "metadata": {},
     "output_type": "display_data"
    },
    {
     "name": "stdout",
     "output_type": "stream",
     "text": [
      "{'eval_loss': 0.18804188072681427, 'eval_runtime': 20.8645, 'eval_samples_per_second': 858.012, 'eval_steps_per_second': 3.355, 'epoch': 61.13}\n",
      "{'loss': 0.2827, 'grad_norm': 0.27035433053970337, 'learning_rate': 0.0004957708825399927, 'epoch': 61.17}\n",
      "{'loss': 0.2727, 'grad_norm': 0.14873912930488586, 'learning_rate': 0.00049503909800066, 'epoch': 61.27}\n",
      "{'loss': 0.2709, 'grad_norm': 0.1402379423379898, 'learning_rate': 0.000494249579365273, 'epoch': 61.37}\n",
      "{'loss': 0.279, 'grad_norm': 0.15734843909740448, 'learning_rate': 0.0004934025126537165, 'epoch': 61.47}\n"
     ]
    },
    {
     "data": {
      "application/vnd.jupyter.widget-view+json": {
       "model_id": "7adab232b5414c90bce15700862f93c4",
       "version_major": 2,
       "version_minor": 0
      },
      "text/plain": [
       "  0%|          | 0/70 [00:00<?, ?it/s]"
      ]
     },
     "metadata": {},
     "output_type": "display_data"
    },
    {
     "name": "stdout",
     "output_type": "stream",
     "text": [
      "{'eval_loss': 0.18679586052894592, 'eval_runtime': 20.7156, 'eval_samples_per_second': 864.179, 'eval_steps_per_second': 3.379, 'epoch': 61.47}\n",
      "{'loss': 0.2726, 'grad_norm': 0.13174088299274445, 'learning_rate': 0.0004924980974448791, 'epoch': 61.56}\n",
      "{'loss': 0.2738, 'grad_norm': 0.14268484711647034, 'learning_rate': 0.0004915365468296308, 'epoch': 61.66}\n",
      "{'loss': 0.272, 'grad_norm': 0.2989256978034973, 'learning_rate': 0.0004905180873606157, 'epoch': 61.76}\n"
     ]
    },
    {
     "data": {
      "application/vnd.jupyter.widget-view+json": {
       "model_id": "c15e20c50bfa45be912f29b9c7ccbc0d",
       "version_major": 2,
       "version_minor": 0
      },
      "text/plain": [
       "  0%|          | 0/70 [00:00<?, ?it/s]"
      ]
     },
     "metadata": {},
     "output_type": "display_data"
    },
    {
     "name": "stdout",
     "output_type": "stream",
     "text": [
      "{'eval_loss': 0.18678058683872223, 'eval_runtime': 20.9264, 'eval_samples_per_second': 855.476, 'eval_steps_per_second': 3.345, 'epoch': 61.8}\n",
      "{'loss': 0.278, 'grad_norm': 0.18735960125923157, 'learning_rate': 0.0004894429589988738, 'epoch': 61.86}\n",
      "{'loss': 0.2712, 'grad_norm': 0.19635088741779327, 'learning_rate': 0.0004883114150573037, 'epoch': 61.95}\n",
      "{'loss': 0.2772, 'grad_norm': 0.1744358390569687, 'learning_rate': 0.000487123722140978, 'epoch': 62.05}\n"
     ]
    },
    {
     "data": {
      "application/vnd.jupyter.widget-view+json": {
       "model_id": "a692319b284641d8a5eceb2541007609",
       "version_major": 2,
       "version_minor": 0
      },
      "text/plain": [
       "  0%|          | 0/70 [00:00<?, ?it/s]"
      ]
     },
     "metadata": {},
     "output_type": "display_data"
    },
    {
     "name": "stdout",
     "output_type": "stream",
     "text": [
      "{'eval_loss': 0.18787764012813568, 'eval_runtime': 20.9344, 'eval_samples_per_second': 855.146, 'eval_steps_per_second': 3.344, 'epoch': 62.13}\n",
      "{'loss': 0.2745, 'grad_norm': 1.0120664834976196, 'learning_rate': 0.0004858801600843294, 'epoch': 62.15}\n",
      "{'loss': 0.2718, 'grad_norm': 0.21871814131736755, 'learning_rate': 0.00048458102188521753, 'epoch': 62.25}\n",
      "{'loss': 0.2618, 'grad_norm': 0.20669551193714142, 'learning_rate': 0.00048322661363589504, 'epoch': 62.35}\n",
      "{'loss': 0.275, 'grad_norm': 0.14666937291622162, 'learning_rate': 0.0004818172544508898, 'epoch': 62.44}\n"
     ]
    },
    {
     "data": {
      "application/vnd.jupyter.widget-view+json": {
       "model_id": "8ee9f7e728794f55b66089c0e1924dc4",
       "version_major": 2,
       "version_minor": 0
      },
      "text/plain": [
       "  0%|          | 0/70 [00:00<?, ?it/s]"
      ]
     },
     "metadata": {},
     "output_type": "display_data"
    },
    {
     "name": "stdout",
     "output_type": "stream",
     "text": [
      "{'eval_loss': 0.18196186423301697, 'eval_runtime': 20.847, 'eval_samples_per_second': 858.734, 'eval_steps_per_second': 3.358, 'epoch': 62.46}\n",
      "{'loss': 0.2744, 'grad_norm': 0.2019234448671341, 'learning_rate': 0.00048035327639181627, 'epoch': 62.54}\n",
      "{'loss': 0.2709, 'grad_norm': 0.15827316045761108, 'learning_rate': 0.00047883502438913865, 'epoch': 62.64}\n",
      "{'loss': 0.2735, 'grad_norm': 0.2626686692237854, 'learning_rate': 0.00047726285616090216, 'epoch': 62.74}\n"
     ]
    },
    {
     "data": {
      "application/vnd.jupyter.widget-view+json": {
       "model_id": "5ac09261328f4c218bc0e485ba43a35e",
       "version_major": 2,
       "version_minor": 0
      },
      "text/plain": [
       "  0%|          | 0/70 [00:00<?, ?it/s]"
      ]
     },
     "metadata": {},
     "output_type": "display_data"
    },
    {
     "name": "stdout",
     "output_type": "stream",
     "text": [
      "{'eval_loss': 0.1823759824037552, 'eval_runtime': 20.7537, 'eval_samples_per_second': 862.594, 'eval_steps_per_second': 3.373, 'epoch': 62.79}\n",
      "{'loss': 0.2697, 'grad_norm': 0.1591862440109253, 'learning_rate': 0.0004756371421284481, 'epoch': 62.83}\n",
      "{'loss': 0.2806, 'grad_norm': 0.22793090343475342, 'learning_rate': 0.00047395826532914057, 'epoch': 62.93}\n",
      "{'loss': 0.2655, 'grad_norm': 0.2518066465854645, 'learning_rate': 0.0004722266213261167, 'epoch': 63.03}\n",
      "{'loss': 0.2727, 'grad_norm': 0.2495402991771698, 'learning_rate': 0.00047044261811508836, 'epoch': 63.13}\n"
     ]
    },
    {
     "data": {
      "application/vnd.jupyter.widget-view+json": {
       "model_id": "a80998a2fba94784a70d198ac003327b",
       "version_major": 2,
       "version_minor": 0
      },
      "text/plain": [
       "  0%|          | 0/70 [00:00<?, ?it/s]"
      ]
     },
     "metadata": {},
     "output_type": "display_data"
    },
    {
     "name": "stdout",
     "output_type": "stream",
     "text": [
      "{'eval_loss': 0.1835332214832306, 'eval_runtime': 20.9465, 'eval_samples_per_second': 854.655, 'eval_steps_per_second': 3.342, 'epoch': 63.13}\n",
      "{'loss': 0.2685, 'grad_norm': 0.18415425717830658, 'learning_rate': 0.00046860667602821316, 'epoch': 63.22}\n",
      "{'loss': 0.2697, 'grad_norm': 0.3470742106437683, 'learning_rate': 0.0004667192276350591, 'epoch': 63.32}\n",
      "{'loss': 0.2751, 'grad_norm': 0.40502187609672546, 'learning_rate': 0.00046478071764068665, 'epoch': 63.42}\n"
     ]
    },
    {
     "data": {
      "application/vnd.jupyter.widget-view+json": {
       "model_id": "e130053eed0d452ca0388875f2abbc45",
       "version_major": 2,
       "version_minor": 0
      },
      "text/plain": [
       "  0%|          | 0/70 [00:00<?, ?it/s]"
      ]
     },
     "metadata": {},
     "output_type": "display_data"
    },
    {
     "name": "stdout",
     "output_type": "stream",
     "text": [
      "{'eval_loss': 0.18026328086853027, 'eval_runtime': 21.0053, 'eval_samples_per_second': 852.26, 'eval_steps_per_second': 3.332, 'epoch': 63.46}\n",
      "{'loss': 0.2711, 'grad_norm': 0.11938885599374771, 'learning_rate': 0.0004627916027808701, 'epoch': 63.52}\n",
      "{'loss': 0.2683, 'grad_norm': 0.22091369330883026, 'learning_rate': 0.0004607523517144858, 'epoch': 63.62}\n",
      "{'loss': 0.2664, 'grad_norm': 0.3973674476146698, 'learning_rate': 0.00045866344491309134, 'epoch': 63.71}\n"
     ]
    },
    {
     "data": {
      "application/vnd.jupyter.widget-view+json": {
       "model_id": "fec2b7ec148e4a0993bf11da2c3ebc6f",
       "version_major": 2,
       "version_minor": 0
      },
      "text/plain": [
       "  0%|          | 0/70 [00:00<?, ?it/s]"
      ]
     },
     "metadata": {},
     "output_type": "display_data"
    },
    {
     "name": "stdout",
     "output_type": "stream",
     "text": [
      "{'eval_loss': 0.18250755965709686, 'eval_runtime': 20.7868, 'eval_samples_per_second': 861.22, 'eval_steps_per_second': 3.368, 'epoch': 63.79}\n",
      "{'loss': 0.268, 'grad_norm': 0.47624051570892334, 'learning_rate': 0.0004565253745477186, 'epoch': 63.81}\n",
      "{'loss': 0.2648, 'grad_norm': 0.3266580104827881, 'learning_rate': 0.00045433864437291563, 'epoch': 63.91}\n",
      "{'loss': 0.2703, 'grad_norm': 0.31285443902015686, 'learning_rate': 0.0004521037696080531, 'epoch': 64.01}\n",
      "{'loss': 0.2658, 'grad_norm': 0.22642828524112701, 'learning_rate': 0.00044982127681593404, 'epoch': 64.1}\n"
     ]
    },
    {
     "data": {
      "application/vnd.jupyter.widget-view+json": {
       "model_id": "028b11994ef647fe945c188e08bc1c7d",
       "version_major": 2,
       "version_minor": 0
      },
      "text/plain": [
       "  0%|          | 0/70 [00:00<?, ?it/s]"
      ]
     },
     "metadata": {},
     "output_type": "display_data"
    },
    {
     "name": "stdout",
     "output_type": "stream",
     "text": [
      "{'eval_loss': 0.18476955592632294, 'eval_runtime': 20.8231, 'eval_samples_per_second': 859.717, 'eval_steps_per_second': 3.362, 'epoch': 64.12}\n",
      "{'loss': 0.2727, 'grad_norm': 0.17065563797950745, 'learning_rate': 0.00044749170377872985, 'epoch': 64.2}\n",
      "{'loss': 0.2623, 'grad_norm': 0.13757257163524628, 'learning_rate': 0.0004451155993712711, 'epoch': 64.3}\n",
      "{'loss': 0.2662, 'grad_norm': 0.17852716147899628, 'learning_rate': 0.0004426935234317277, 'epoch': 64.4}\n"
     ]
    },
    {
     "data": {
      "application/vnd.jupyter.widget-view+json": {
       "model_id": "a7dd155ffd474ac9b87b47c802372c54",
       "version_major": 2,
       "version_minor": 0
      },
      "text/plain": [
       "  0%|          | 0/70 [00:00<?, ?it/s]"
      ]
     },
     "metadata": {},
     "output_type": "display_data"
    },
    {
     "name": "stdout",
     "output_type": "stream",
     "text": [
      "{'eval_loss': 0.18218876421451569, 'eval_runtime': 20.7858, 'eval_samples_per_second': 861.26, 'eval_steps_per_second': 3.368, 'epoch': 64.46}\n",
      "{'loss': 0.2725, 'grad_norm': 0.18600532412528992, 'learning_rate': 0.00044022604662970324, 'epoch': 64.5}\n",
      "{'loss': 0.2684, 'grad_norm': 0.13302092254161835, 'learning_rate': 0.00043771375033177843, 'epoch': 64.59}\n",
      "{'loss': 0.2686, 'grad_norm': 0.16758808493614197, 'learning_rate': 0.00043515722646453656, 'epoch': 64.69}\n",
      "{'loss': 0.264, 'grad_norm': 0.18669958412647247, 'learning_rate': 0.00043255707737509496, 'epoch': 64.79}\n"
     ]
    },
    {
     "data": {
      "application/vnd.jupyter.widget-view+json": {
       "model_id": "a4429dcf856d4bfb9661201bebfec149",
       "version_major": 2,
       "version_minor": 0
      },
      "text/plain": [
       "  0%|          | 0/70 [00:00<?, ?it/s]"
      ]
     },
     "metadata": {},
     "output_type": "display_data"
    },
    {
     "name": "stdout",
     "output_type": "stream",
     "text": [
      "{'eval_loss': 0.18618924915790558, 'eval_runtime': 20.9781, 'eval_samples_per_second': 853.366, 'eval_steps_per_second': 3.337, 'epoch': 64.79}\n",
      "{'loss': 0.2631, 'grad_norm': 0.20620618760585785, 'learning_rate': 0.00042991391568918824, 'epoch': 64.89}\n",
      "{'loss': 0.2635, 'grad_norm': 0.19869685173034668, 'learning_rate': 0.00042722836416682423, 'epoch': 64.98}\n",
      "{'loss': 0.2604, 'grad_norm': 0.2404143363237381, 'learning_rate': 0.0004245010555555553, 'epoch': 65.08}\n"
     ]
    },
    {
     "data": {
      "application/vnd.jupyter.widget-view+json": {
       "model_id": "f9f02a1e42824308abb85616fc6902de",
       "version_major": 2,
       "version_minor": 0
      },
      "text/plain": [
       "  0%|          | 0/70 [00:00<?, ?it/s]"
      ]
     },
     "metadata": {},
     "output_type": "display_data"
    },
    {
     "name": "stdout",
     "output_type": "stream",
     "text": [
      "{'eval_loss': 0.17977412045001984, 'eval_runtime': 20.7204, 'eval_samples_per_second': 863.98, 'eval_steps_per_second': 3.378, 'epoch': 65.12}\n",
      "{'loss': 0.2638, 'grad_norm': 0.13236075639724731, 'learning_rate': 0.00042173263244139626, 'epoch': 65.18}\n",
      "{'loss': 0.2638, 'grad_norm': 0.23795528709888458, 'learning_rate': 0.00041892374709742177, 'epoch': 65.28}\n",
      "{'loss': 0.2653, 'grad_norm': 0.6636986136436462, 'learning_rate': 0.00041607506133008523, 'epoch': 65.37}\n"
     ]
    },
    {
     "data": {
      "application/vnd.jupyter.widget-view+json": {
       "model_id": "e3093aa58b0f4504bfbf4cf59dfb8b3e",
       "version_major": 2,
       "version_minor": 0
      },
      "text/plain": [
       "  0%|          | 0/70 [00:00<?, ?it/s]"
      ]
     },
     "metadata": {},
     "output_type": "display_data"
    },
    {
     "name": "stdout",
     "output_type": "stream",
     "text": [
      "{'eval_loss': 0.18258027732372284, 'eval_runtime': 20.6261, 'eval_samples_per_second': 867.929, 'eval_steps_per_second': 3.394, 'epoch': 65.45}\n",
      "{'loss': 0.274, 'grad_norm': 0.1586223989725113, 'learning_rate': 0.00041318724632328737, 'epoch': 65.47}\n",
      "{'loss': 0.2677, 'grad_norm': 0.3044052720069885, 'learning_rate': 0.00041026098248023857, 'epoch': 65.57}\n",
      "{'loss': 0.2699, 'grad_norm': 0.5736472606658936, 'learning_rate': 0.0004072969592631484, 'epoch': 65.67}\n",
      "{'loss': 0.2621, 'grad_norm': 0.1238752007484436, 'learning_rate': 0.0004042958750307778, 'epoch': 65.77}\n"
     ]
    },
    {
     "data": {
      "application/vnd.jupyter.widget-view+json": {
       "model_id": "5ebc5b3c8acf407b9022e286204bf903",
       "version_major": 2,
       "version_minor": 0
      },
      "text/plain": [
       "  0%|          | 0/70 [00:00<?, ?it/s]"
      ]
     },
     "metadata": {},
     "output_type": "display_data"
    },
    {
     "name": "stdout",
     "output_type": "stream",
     "text": [
      "{'eval_loss': 0.18809130787849426, 'eval_runtime': 20.5037, 'eval_samples_per_second': 873.112, 'eval_steps_per_second': 3.414, 'epoch': 65.79}\n",
      "{'loss': 0.2655, 'grad_norm': 0.3585703372955322, 'learning_rate': 0.0004012584368739016, 'epoch': 65.86}\n",
      "{'loss': 0.2711, 'grad_norm': 0.26840275526046753, 'learning_rate': 0.00039818536044870524, 'epoch': 65.96}\n",
      "{'loss': 0.2617, 'grad_norm': 0.13239289820194244, 'learning_rate': 0.00039507736980816995, 'epoch': 66.06}\n"
     ]
    },
    {
     "data": {
      "application/vnd.jupyter.widget-view+json": {
       "model_id": "bb6daeb502f5424c9cbbef16308bb0b1",
       "version_major": 2,
       "version_minor": 0
      },
      "text/plain": [
       "  0%|          | 0/70 [00:00<?, ?it/s]"
      ]
     },
     "metadata": {},
     "output_type": "display_data"
    },
    {
     "name": "stdout",
     "output_type": "stream",
     "text": [
      "{'eval_loss': 0.17933885753154755, 'eval_runtime': 20.5386, 'eval_samples_per_second': 871.628, 'eval_steps_per_second': 3.408, 'epoch': 66.12}\n",
      "{'loss': 0.264, 'grad_norm': 0.1797734946012497, 'learning_rate': 0.0003919351972314781, 'epoch': 66.16}\n",
      "{'loss': 0.2529, 'grad_norm': 0.12646733224391937, 'learning_rate': 0.00038875958305147735, 'epoch': 66.25}\n",
      "{'loss': 0.2531, 'grad_norm': 0.2981501817703247, 'learning_rate': 0.00038555127548025204, 'epoch': 66.35}\n",
      "{'loss': 0.2566, 'grad_norm': 0.18413187563419342, 'learning_rate': 0.0003823110304328333, 'epoch': 66.45}\n"
     ]
    },
    {
     "data": {
      "application/vnd.jupyter.widget-view+json": {
       "model_id": "7483f533613f4959afb69e5f9b82c4ed",
       "version_major": 2,
       "version_minor": 0
      },
      "text/plain": [
       "  0%|          | 0/70 [00:00<?, ?it/s]"
      ]
     },
     "metadata": {},
     "output_type": "display_data"
    },
    {
     "name": "stdout",
     "output_type": "stream",
     "text": [
      "{'eval_loss': 0.18370823562145233, 'eval_runtime': 20.5133, 'eval_samples_per_second': 872.703, 'eval_steps_per_second': 3.412, 'epoch': 66.45}\n",
      "{'loss': 0.2616, 'grad_norm': 0.3174073100090027, 'learning_rate': 0.0003790396113490975, 'epoch': 66.55}\n",
      "{'loss': 0.2642, 'grad_norm': 0.32954177260398865, 'learning_rate': 0.00037573778901389254, 'epoch': 66.64}\n",
      "{'loss': 0.263, 'grad_norm': 0.3452041745185852, 'learning_rate': 0.0003724063413754283, 'epoch': 66.74}\n"
     ]
    },
    {
     "data": {
      "application/vnd.jupyter.widget-view+json": {
       "model_id": "1cb00b24cb2640fe92c9054a61cbe42b",
       "version_major": 2,
       "version_minor": 0
      },
      "text/plain": [
       "  0%|          | 0/70 [00:00<?, ?it/s]"
      ]
     },
     "metadata": {},
     "output_type": "display_data"
    },
    {
     "name": "stdout",
     "output_type": "stream",
     "text": [
      "{'eval_loss': 0.18567140400409698, 'eval_runtime': 20.4842, 'eval_samples_per_second': 873.943, 'eval_steps_per_second': 3.417, 'epoch': 66.78}\n",
      "{'loss': 0.2596, 'grad_norm': 0.1576671451330185, 'learning_rate': 0.0003690460533619865, 'epoch': 66.84}\n",
      "{'loss': 0.2611, 'grad_norm': 0.12961356341838837, 'learning_rate': 0.00036565771669697935, 'epoch': 66.94}\n",
      "{'loss': 0.2573, 'grad_norm': 0.1675480753183365, 'learning_rate': 0.000362242129712412, 'epoch': 67.04}\n"
     ]
    },
    {
     "data": {
      "application/vnd.jupyter.widget-view+json": {
       "model_id": "28a6724fc6ce4bd28ac574201e4855da",
       "version_major": 2,
       "version_minor": 0
      },
      "text/plain": [
       "  0%|          | 0/70 [00:00<?, ?it/s]"
      ]
     },
     "metadata": {},
     "output_type": "display_data"
    },
    {
     "name": "stdout",
     "output_type": "stream",
     "text": [
      "{'eval_loss': 0.17997345328330994, 'eval_runtime': 20.6088, 'eval_samples_per_second': 868.658, 'eval_steps_per_second': 3.397, 'epoch': 67.11}\n",
      "{'loss': 0.2627, 'grad_norm': 0.14069218933582306, 'learning_rate': 0.0003588000971607864, 'epoch': 67.13}\n",
      "{'loss': 0.2611, 'grad_norm': 0.3343663811683655, 'learning_rate': 0.0003553324300254903, 'epoch': 67.23}\n",
      "{'loss': 0.2603, 'grad_norm': 0.497327983379364, 'learning_rate': 0.0003518399453297221, 'epoch': 67.33}\n",
      "{'loss': 0.2705, 'grad_norm': 0.18464091420173645, 'learning_rate': 0.000348323465943989, 'epoch': 67.43}\n"
     ]
    },
    {
     "data": {
      "application/vnd.jupyter.widget-view+json": {
       "model_id": "dbf07dcd8c944fe18a45e566133b9a90",
       "version_major": 2,
       "version_minor": 0
      },
      "text/plain": [
       "  0%|          | 0/70 [00:00<?, ?it/s]"
      ]
     },
     "metadata": {},
     "output_type": "display_data"
    },
    {
     "name": "stdout",
     "output_type": "stream",
     "text": [
      "{'eval_loss': 0.1824338734149933, 'eval_runtime': 20.5693, 'eval_samples_per_second': 870.325, 'eval_steps_per_second': 3.403, 'epoch': 67.45}\n",
      "{'loss': 0.2584, 'grad_norm': 0.13578452169895172, 'learning_rate': 0.00034478382039222945, 'epoch': 67.52}\n",
      "{'loss': 0.2606, 'grad_norm': 0.40019580721855164, 'learning_rate': 0.0003412218426566041, 'epoch': 67.62}\n",
      "{'loss': 0.2602, 'grad_norm': 0.23622986674308777, 'learning_rate': 0.00033763837198099843, 'epoch': 67.72}\n"
     ]
    },
    {
     "data": {
      "application/vnd.jupyter.widget-view+json": {
       "model_id": "c744b412ec0348329a4751e91b0730e1",
       "version_major": 2,
       "version_minor": 0
      },
      "text/plain": [
       "  0%|          | 0/70 [00:00<?, ?it/s]"
      ]
     },
     "metadata": {},
     "output_type": "display_data"
    },
    {
     "name": "stdout",
     "output_type": "stream",
     "text": [
      "{'eval_loss': 0.1842874139547348, 'eval_runtime': 20.5498, 'eval_samples_per_second': 871.153, 'eval_steps_per_second': 3.406, 'epoch': 67.78}\n",
      "{'loss': 0.2576, 'grad_norm': 0.2719140648841858, 'learning_rate': 0.000334034252673287, 'epoch': 67.82}\n",
      "{'loss': 0.2523, 'grad_norm': 0.13772116601467133, 'learning_rate': 0.0003304103339064072, 'epoch': 67.92}\n",
      "{'loss': 0.2569, 'grad_norm': 0.15185606479644775, 'learning_rate': 0.00032676746951827967, 'epoch': 68.01}\n",
      "{'loss': 0.2532, 'grad_norm': 0.15147963166236877, 'learning_rate': 0.00032310651781063837, 'epoch': 68.11}\n"
     ]
    },
    {
     "data": {
      "application/vnd.jupyter.widget-view+json": {
       "model_id": "3f4a959b7d5248c2b0c9e008e86fe402",
       "version_major": 2,
       "version_minor": 0
      },
      "text/plain": [
       "  0%|          | 0/70 [00:00<?, ?it/s]"
      ]
     },
     "metadata": {},
     "output_type": "display_data"
    },
    {
     "name": "stdout",
     "output_type": "stream",
     "text": [
      "{'eval_loss': 0.18015040457248688, 'eval_runtime': 20.6294, 'eval_samples_per_second': 867.789, 'eval_steps_per_second': 3.393, 'epoch': 68.11}\n",
      "{'loss': 0.2593, 'grad_norm': 0.23237566649913788, 'learning_rate': 0.00031942834134680143, 'epoch': 68.21}\n",
      "{'loss': 0.2556, 'grad_norm': 0.1473352015018463, 'learning_rate': 0.00031573380674844225, 'epoch': 68.31}\n",
      "{'loss': 0.2516, 'grad_norm': 0.1230439767241478, 'learning_rate': 0.00031202378449140454, 'epoch': 68.4}\n"
     ]
    },
    {
     "data": {
      "application/vnd.jupyter.widget-view+json": {
       "model_id": "032ca6a433344c8c99748ef72be1ec78",
       "version_major": 2,
       "version_minor": 0
      },
      "text/plain": [
       "  0%|          | 0/70 [00:00<?, ?it/s]"
      ]
     },
     "metadata": {},
     "output_type": "display_data"
    },
    {
     "name": "stdout",
     "output_type": "stream",
     "text": [
      "{'eval_loss': 0.17735518515110016, 'eval_runtime': 20.6742, 'eval_samples_per_second': 865.911, 'eval_steps_per_second': 3.386, 'epoch': 68.44}\n",
      "{'loss': 0.2618, 'grad_norm': 0.1695760041475296, 'learning_rate': 0.00030829914870060494, 'epoch': 68.5}\n",
      "{'loss': 0.2553, 'grad_norm': 0.11940532177686691, 'learning_rate': 0.0003045607769440828, 'epoch': 68.6}\n",
      "{'loss': 0.2589, 'grad_norm': 0.1557791829109192, 'learning_rate': 0.000300809550026231, 'epoch': 68.7}\n"
     ]
    },
    {
     "data": {
      "application/vnd.jupyter.widget-view+json": {
       "model_id": "58ed29c078424989a753a997527fa4d5",
       "version_major": 2,
       "version_minor": 0
      },
      "text/plain": [
       "  0%|          | 0/70 [00:00<?, ?it/s]"
      ]
     },
     "metadata": {},
     "output_type": "display_data"
    },
    {
     "name": "stdout",
     "output_type": "stream",
     "text": [
      "{'eval_loss': 0.17659729719161987, 'eval_runtime': 20.479, 'eval_samples_per_second': 874.163, 'eval_steps_per_second': 3.418, 'epoch': 68.78}\n",
      "{'loss': 0.2619, 'grad_norm': 0.12866194546222687, 'learning_rate': 0.00029704635178026993, 'epoch': 68.79}\n",
      "{'loss': 0.2555, 'grad_norm': 0.1728261560201645, 'learning_rate': 0.00029327206886000686, 'epoch': 68.89}\n",
      "{'loss': 0.2517, 'grad_norm': 0.15943151712417603, 'learning_rate': 0.00028948759053092733, 'epoch': 68.99}\n",
      "{'loss': 0.2573, 'grad_norm': 0.15327773988246918, 'learning_rate': 0.0002856938084606769, 'epoch': 69.09}\n"
     ]
    },
    {
     "data": {
      "application/vnd.jupyter.widget-view+json": {
       "model_id": "0ca8b09bc61e4e7e83f024c7f80a8018",
       "version_major": 2,
       "version_minor": 0
      },
      "text/plain": [
       "  0%|          | 0/70 [00:00<?, ?it/s]"
      ]
     },
     "metadata": {},
     "output_type": "display_data"
    },
    {
     "name": "stdout",
     "output_type": "stream",
     "text": [
      "{'eval_loss': 0.177729070186615, 'eval_runtime': 20.6047, 'eval_samples_per_second': 868.832, 'eval_steps_per_second': 3.397, 'epoch': 69.11}\n",
      "{'loss': 0.2474, 'grad_norm': 0.2091066837310791, 'learning_rate': 0.00028189161650897065, 'epoch': 69.19}\n",
      "{'loss': 0.2545, 'grad_norm': 0.15212079882621765, 'learning_rate': 0.000278081910516991, 'epoch': 69.28}\n",
      "{'loss': 0.2575, 'grad_norm': 0.1081901416182518, 'learning_rate': 0.0002742655880963176, 'epoch': 69.38}\n"
     ]
    },
    {
     "data": {
      "application/vnd.jupyter.widget-view+json": {
       "model_id": "ea6f04ac56424dafbafc7d95d9df8e1e",
       "version_major": 2,
       "version_minor": 0
      },
      "text/plain": [
       "  0%|          | 0/70 [00:00<?, ?it/s]"
      ]
     },
     "metadata": {},
     "output_type": "display_data"
    },
    {
     "name": "stdout",
     "output_type": "stream",
     "text": [
      "{'eval_loss': 0.17619682848453522, 'eval_runtime': 20.5469, 'eval_samples_per_second': 871.274, 'eval_steps_per_second': 3.407, 'epoch': 69.44}\n",
      "{'loss': 0.2624, 'grad_norm': 0.1964053362607956, 'learning_rate': 0.0002704435484174375, 'epoch': 69.48}\n",
      "{'loss': 0.2586, 'grad_norm': 0.11384149640798569, 'learning_rate': 0.0002666166919978919, 'epoch': 69.58}\n",
      "{'loss': 0.2628, 'grad_norm': 0.16448688507080078, 'learning_rate': 0.00026278592049010235, 'epoch': 69.67}\n",
      "{'loss': 0.2576, 'grad_norm': 0.1501976102590561, 'learning_rate': 0.0002589521364689306, 'epoch': 69.77}\n"
     ]
    },
    {
     "data": {
      "application/vnd.jupyter.widget-view+json": {
       "model_id": "ce3de55fee6a494bb4f33956073ab762",
       "version_major": 2,
       "version_minor": 0
      },
      "text/plain": [
       "  0%|          | 0/70 [00:00<?, ?it/s]"
      ]
     },
     "metadata": {},
     "output_type": "display_data"
    },
    {
     "name": "stdout",
     "output_type": "stream",
     "text": [
      "{'eval_loss': 0.176969513297081, 'eval_runtime': 20.5275, 'eval_samples_per_second': 872.099, 'eval_steps_per_second': 3.41, 'epoch': 69.77}\n",
      "{'loss': 0.2578, 'grad_norm': 0.1636209636926651, 'learning_rate': 0.0002551162432190242, 'epoch': 69.87}\n",
      "{'loss': 0.2511, 'grad_norm': 0.1489819586277008, 'learning_rate': 0.0002512791445219874, 'epoch': 69.97}\n",
      "{'loss': 0.2542, 'grad_norm': 0.36081430315971375, 'learning_rate': 0.0002474417444434436, 'epoch': 70.07}\n"
     ]
    },
    {
     "data": {
      "application/vnd.jupyter.widget-view+json": {
       "model_id": "095f7d02b8054d34ab605dd82188157f",
       "version_major": 2,
       "version_minor": 0
      },
      "text/plain": [
       "  0%|          | 0/70 [00:00<?, ?it/s]"
      ]
     },
     "metadata": {},
     "output_type": "display_data"
    },
    {
     "name": "stdout",
     "output_type": "stream",
     "text": [
      "{'eval_loss': 0.17615371942520142, 'eval_runtime': 20.5647, 'eval_samples_per_second': 870.52, 'eval_steps_per_second': 3.404, 'epoch': 70.1}\n",
      "{'loss': 0.2644, 'grad_norm': 0.1528652459383011, 'learning_rate': 0.00024360494712002438, 'epoch': 70.16}\n",
      "{'loss': 0.2498, 'grad_norm': 0.13705997169017792, 'learning_rate': 0.0002397696565463449, 'epoch': 70.26}\n",
      "{'loss': 0.2585, 'grad_norm': 0.27078548073768616, 'learning_rate': 0.00023593677636201367, 'epoch': 70.36}\n"
     ]
    },
    {
     "data": {
      "application/vnd.jupyter.widget-view+json": {
       "model_id": "61cdd130af0e4cab9af93123739647e4",
       "version_major": 2,
       "version_minor": 0
      },
      "text/plain": [
       "  0%|          | 0/70 [00:00<?, ?it/s]"
      ]
     },
     "metadata": {},
     "output_type": "display_data"
    },
    {
     "name": "stdout",
     "output_type": "stream",
     "text": [
      "{'eval_loss': 0.17201949656009674, 'eval_runtime': 20.5852, 'eval_samples_per_second': 869.656, 'eval_steps_per_second': 3.401, 'epoch': 70.44}\n",
      "{'loss': 0.2531, 'grad_norm': 0.11972023546695709, 'learning_rate': 0.00023210720963872113, 'epoch': 70.46}\n",
      "{'loss': 0.2568, 'grad_norm': 0.19411911070346832, 'learning_rate': 0.00022828185866746972, 'epoch': 70.55}\n",
      "{'loss': 0.246, 'grad_norm': 0.14058388769626617, 'learning_rate': 0.00022446162474597912, 'epoch': 70.65}\n",
      "{'loss': 0.2531, 'grad_norm': 0.23990356922149658, 'learning_rate': 0.00022064740796633216, 'epoch': 70.75}\n"
     ]
    },
    {
     "data": {
      "application/vnd.jupyter.widget-view+json": {
       "model_id": "1f2e5313024e4861b3bf982b1ed302e6",
       "version_major": 2,
       "version_minor": 0
      },
      "text/plain": [
       "  0%|          | 0/70 [00:00<?, ?it/s]"
      ]
     },
     "metadata": {},
     "output_type": "display_data"
    },
    {
     "name": "stdout",
     "output_type": "stream",
     "text": [
      "{'eval_loss': 0.17840991914272308, 'eval_runtime': 20.5365, 'eval_samples_per_second': 871.715, 'eval_steps_per_second': 3.409, 'epoch': 70.77}\n",
      "{'loss': 0.255, 'grad_norm': 0.14360593259334564, 'learning_rate': 0.00021684010700290316, 'epoch': 70.85}\n",
      "{'loss': 0.2448, 'grad_norm': 0.09627994894981384, 'learning_rate': 0.00021304061890061745, 'epoch': 70.94}\n",
      "{'loss': 0.2478, 'grad_norm': 0.12277410179376602, 'learning_rate': 0.00020924983886359965, 'epoch': 71.04}\n"
     ]
    },
    {
     "data": {
      "application/vnd.jupyter.widget-view+json": {
       "model_id": "15792f01ebed4ac5982b45669c62f3ec",
       "version_major": 2,
       "version_minor": 0
      },
      "text/plain": [
       "  0%|          | 0/70 [00:00<?, ?it/s]"
      ]
     },
     "metadata": {},
     "output_type": "display_data"
    },
    {
     "name": "stdout",
     "output_type": "stream",
     "text": [
      "{'eval_loss': 0.17781229317188263, 'eval_runtime': 20.561, 'eval_samples_per_second': 870.678, 'eval_steps_per_second': 3.405, 'epoch': 71.1}\n",
      "{'loss': 0.2568, 'grad_norm': 0.2892868220806122, 'learning_rate': 0.0002054686600442507, 'epoch': 71.14}\n",
      "{'loss': 0.2525, 'grad_norm': 0.1512199193239212, 'learning_rate': 0.00020169797333281146, 'epoch': 71.24}\n",
      "{'loss': 0.2534, 'grad_norm': 0.27254584431648254, 'learning_rate': 0.00019793866714746, 'epoch': 71.34}\n",
      "{'loss': 0.2546, 'grad_norm': 0.16507117450237274, 'learning_rate': 0.00019419162722498676, 'epoch': 71.43}\n"
     ]
    },
    {
     "data": {
      "application/vnd.jupyter.widget-view+json": {
       "model_id": "451afca95c4e4a908c4674c04fd80c97",
       "version_major": 2,
       "version_minor": 0
      },
      "text/plain": [
       "  0%|          | 0/70 [00:00<?, ?it/s]"
      ]
     },
     "metadata": {},
     "output_type": "display_data"
    },
    {
     "name": "stdout",
     "output_type": "stream",
     "text": [
      "{'eval_loss': 0.17710933089256287, 'eval_runtime': 20.6331, 'eval_samples_per_second': 867.635, 'eval_steps_per_second': 3.393, 'epoch': 71.43}\n",
      "{'loss': 0.245, 'grad_norm': 0.13720540702342987, 'learning_rate': 0.00019045773641210786, 'epoch': 71.53}\n",
      "{'loss': 0.2452, 'grad_norm': 0.11800668388605118, 'learning_rate': 0.00018673787445745328, 'epoch': 71.63}\n",
      "{'loss': 0.2433, 'grad_norm': 0.14028501510620117, 'learning_rate': 0.0001830329178042886, 'epoch': 71.73}\n"
     ]
    },
    {
     "data": {
      "application/vnd.jupyter.widget-view+json": {
       "model_id": "22e6508671dd45a5a098e6efaf5da7d0",
       "version_major": 2,
       "version_minor": 0
      },
      "text/plain": [
       "  0%|          | 0/70 [00:00<?, ?it/s]"
      ]
     },
     "metadata": {},
     "output_type": "display_data"
    },
    {
     "name": "stdout",
     "output_type": "stream",
     "text": [
      "{'eval_loss': 0.17560085654258728, 'eval_runtime': 20.5782, 'eval_samples_per_second': 869.949, 'eval_steps_per_second': 3.402, 'epoch': 71.77}\n",
      "{'loss': 0.2435, 'grad_norm': 0.2556985020637512, 'learning_rate': 0.00017934373938401676, 'epoch': 71.82}\n",
      "{'loss': 0.2509, 'grad_norm': 0.19635842740535736, 'learning_rate': 0.00017567120841050117, 'epoch': 71.92}\n",
      "{'loss': 0.2438, 'grad_norm': 0.15399372577667236, 'learning_rate': 0.00017201619017527225, 'epoch': 72.02}\n"
     ]
    },
    {
     "data": {
      "application/vnd.jupyter.widget-view+json": {
       "model_id": "49fc07de1028462daddc71466f85e8b9",
       "version_major": 2,
       "version_minor": 0
      },
      "text/plain": [
       "  0%|          | 0/70 [00:00<?, ?it/s]"
      ]
     },
     "metadata": {},
     "output_type": "display_data"
    },
    {
     "name": "stdout",
     "output_type": "stream",
     "text": [
      "{'eval_loss': 0.17907854914665222, 'eval_runtime': 20.6283, 'eval_samples_per_second': 867.837, 'eval_steps_per_second': 3.393, 'epoch': 72.1}\n",
      "{'loss': 0.2475, 'grad_norm': 0.1735544353723526, 'learning_rate': 0.00016837954584365234, 'epoch': 72.12}\n",
      "{'loss': 0.2447, 'grad_norm': 0.12371797114610672, 'learning_rate': 0.0001647621322518556, 'epoch': 72.21}\n",
      "{'loss': 0.2463, 'grad_norm': 0.27911868691444397, 'learning_rate': 0.0001611648017051087, 'epoch': 72.31}\n",
      "{'loss': 0.2508, 'grad_norm': 0.14261463284492493, 'learning_rate': 0.00015758840177683466, 'epoch': 72.41}\n"
     ]
    },
    {
     "data": {
      "application/vnd.jupyter.widget-view+json": {
       "model_id": "02afa6996158470c844e4ae268cc55c8",
       "version_major": 2,
       "version_minor": 0
      },
      "text/plain": [
       "  0%|          | 0/70 [00:00<?, ?it/s]"
      ]
     },
     "metadata": {},
     "output_type": "display_data"
    },
    {
     "name": "stdout",
     "output_type": "stream",
     "text": [
      "{'eval_loss': 0.1886279433965683, 'eval_runtime': 20.5172, 'eval_samples_per_second': 872.536, 'eval_steps_per_second': 3.412, 'epoch': 72.43}\n",
      "{'loss': 0.2493, 'grad_norm': 0.15689967572689056, 'learning_rate': 0.00015403377510895871, 'epoch': 72.51}\n",
      "{'loss': 0.2447, 'grad_norm': 0.17149047553539276, 'learning_rate': 0.00015050175921336783, 'epoch': 72.61}\n",
      "{'loss': 0.2482, 'grad_norm': 0.08890075981616974, 'learning_rate': 0.00014699318627458508, 'epoch': 72.7}\n"
     ]
    },
    {
     "data": {
      "application/vnd.jupyter.widget-view+json": {
       "model_id": "62cef56fa2c34270b9ce29eabe964bf6",
       "version_major": 2,
       "version_minor": 0
      },
      "text/plain": [
       "  0%|          | 0/70 [00:00<?, ?it/s]"
      ]
     },
     "metadata": {},
     "output_type": "display_data"
    },
    {
     "name": "stdout",
     "output_type": "stream",
     "text": [
      "{'eval_loss': 0.1797042042016983, 'eval_runtime': 20.6454, 'eval_samples_per_second': 867.116, 'eval_steps_per_second': 3.391, 'epoch': 72.76}\n",
      "{'loss': 0.249, 'grad_norm': 0.0933290496468544, 'learning_rate': 0.0001435088829536978, 'epoch': 72.8}\n",
      "{'loss': 0.2434, 'grad_norm': 0.17566333711147308, 'learning_rate': 0.00014004967019358477, 'epoch': 72.9}\n",
      "{'loss': 0.2483, 'grad_norm': 0.1692083775997162, 'learning_rate': 0.00013661636302549345, 'epoch': 73.0}\n",
      "{'loss': 0.2398, 'grad_norm': 0.14621466398239136, 'learning_rate': 0.0001332097703770096, 'epoch': 73.09}\n"
     ]
    },
    {
     "data": {
      "application/vnd.jupyter.widget-view+json": {
       "model_id": "437ba9665ae84faf9f9cf5929679eecd",
       "version_major": 2,
       "version_minor": 0
      },
      "text/plain": [
       "  0%|          | 0/70 [00:00<?, ?it/s]"
      ]
     },
     "metadata": {},
     "output_type": "display_data"
    },
    {
     "name": "stdout",
     "output_type": "stream",
     "text": [
      "{'eval_loss': 0.17441481351852417, 'eval_runtime': 20.6618, 'eval_samples_per_second': 866.428, 'eval_steps_per_second': 3.388, 'epoch': 73.09}\n",
      "{'loss': 0.2471, 'grad_norm': 0.2344220131635666, 'learning_rate': 0.00012983069488146253, 'epoch': 73.19}\n",
      "{'loss': 0.2424, 'grad_norm': 0.12975536286830902, 'learning_rate': 0.00012647993268881752, 'epoch': 73.29}\n",
      "{'loss': 0.2471, 'grad_norm': 0.20123668015003204, 'learning_rate': 0.00012315827327809162, 'epoch': 73.39}\n"
     ]
    },
    {
     "data": {
      "application/vnd.jupyter.widget-view+json": {
       "model_id": "ef6c2b054c9d40c58c00fd4015c078c8",
       "version_major": 2,
       "version_minor": 0
      },
      "text/plain": [
       "  0%|          | 0/70 [00:00<?, ?it/s]"
      ]
     },
     "metadata": {},
     "output_type": "display_data"
    },
    {
     "name": "stdout",
     "output_type": "stream",
     "text": [
      "{'eval_loss': 0.17345571517944336, 'eval_runtime': 20.6544, 'eval_samples_per_second': 866.742, 'eval_steps_per_second': 3.389, 'epoch': 73.43}\n",
      "{'loss': 0.2473, 'grad_norm': 0.34831753373146057, 'learning_rate': 0.0001198664992713438, 'epoch': 73.49}\n",
      "{'loss': 0.2426, 'grad_norm': 0.16743414103984833, 'learning_rate': 0.00011660538624928088, 'epoch': 73.58}\n",
      "{'loss': 0.245, 'grad_norm': 0.20726771652698517, 'learning_rate': 0.00011337570256851943, 'epoch': 73.68}\n"
     ]
    },
    {
     "data": {
      "application/vnd.jupyter.widget-view+json": {
       "model_id": "2ceb49e395fe4ff2a586db64a2586bc7",
       "version_major": 2,
       "version_minor": 0
      },
      "text/plain": [
       "  0%|          | 0/70 [00:00<?, ?it/s]"
      ]
     },
     "metadata": {},
     "output_type": "display_data"
    },
    {
     "name": "stdout",
     "output_type": "stream",
     "text": [
      "{'eval_loss': 0.1787395030260086, 'eval_runtime': 20.6224, 'eval_samples_per_second': 868.086, 'eval_steps_per_second': 3.394, 'epoch': 73.76}\n",
      "{'loss': 0.2486, 'grad_norm': 0.1386188417673111, 'learning_rate': 0.00011017820918055507, 'epoch': 73.78}\n",
      "{'loss': 0.2517, 'grad_norm': 0.31699854135513306, 'learning_rate': 0.00010701365945246991, 'epoch': 73.88}\n",
      "{'loss': 0.2382, 'grad_norm': 0.09806019067764282, 'learning_rate': 0.00010388279898943212, 'epoch': 73.97}\n",
      "{'loss': 0.2408, 'grad_norm': 0.10768095403909683, 'learning_rate': 0.00010078636545902362, 'epoch': 74.07}\n"
     ]
    },
    {
     "data": {
      "application/vnd.jupyter.widget-view+json": {
       "model_id": "f5794b8dabc1451c8592a9747ded20b1",
       "version_major": 2,
       "version_minor": 0
      },
      "text/plain": [
       "  0%|          | 0/70 [00:00<?, ?it/s]"
      ]
     },
     "metadata": {},
     "output_type": "display_data"
    },
    {
     "name": "stdout",
     "output_type": "stream",
     "text": [
      "{'eval_loss': 0.17604757845401764, 'eval_runtime': 20.458, 'eval_samples_per_second': 875.06, 'eval_steps_per_second': 3.422, 'epoch': 74.09}\n",
      "{'loss': 0.2406, 'grad_norm': 0.15558601915836334, 'learning_rate': 9.772508841743427e-05, 'epoch': 74.17}\n",
      "{'loss': 0.2392, 'grad_norm': 0.09137774258852005, 'learning_rate': 9.469968913757254e-05, 'epoch': 74.27}\n",
      "{'loss': 0.244, 'grad_norm': 0.12550632655620575, 'learning_rate': 9.171088043912304e-05, 'epoch': 74.36}\n"
     ]
    },
    {
     "data": {
      "application/vnd.jupyter.widget-view+json": {
       "model_id": "d2727dc2bf19434da44bbe4af34c3cd9",
       "version_major": 2,
       "version_minor": 0
      },
      "text/plain": [
       "  0%|          | 0/70 [00:00<?, ?it/s]"
      ]
     },
     "metadata": {},
     "output_type": "display_data"
    },
    {
     "name": "stdout",
     "output_type": "stream",
     "text": [
      "{'eval_loss': 0.17539355158805847, 'eval_runtime': 20.5773, 'eval_samples_per_second': 869.988, 'eval_steps_per_second': 3.402, 'epoch': 74.42}\n",
      "{'loss': 0.2467, 'grad_norm': 0.08875051885843277, 'learning_rate': 8.875936652059847e-05, 'epoch': 74.46}\n",
      "{'loss': 0.2497, 'grad_norm': 0.13922592997550964, 'learning_rate': 8.584584279342384e-05, 'epoch': 74.56}\n",
      "{'loss': 0.2422, 'grad_norm': 0.18821030855178833, 'learning_rate': 8.297099571808608e-05, 'epoch': 74.66}\n",
      "{'loss': 0.2428, 'grad_norm': 0.1214703842997551, 'learning_rate': 8.0135502642399e-05, 'epoch': 74.76}\n"
     ]
    },
    {
     "data": {
      "application/vnd.jupyter.widget-view+json": {
       "model_id": "29e457ab60bd4f5d962b31924764ad55",
       "version_major": 2,
       "version_minor": 0
      },
      "text/plain": [
       "  0%|          | 0/70 [00:00<?, ?it/s]"
      ]
     },
     "metadata": {},
     "output_type": "display_data"
    },
    {
     "name": "stdout",
     "output_type": "stream",
     "text": [
      "{'eval_loss': 0.1751503348350525, 'eval_runtime': 20.5102, 'eval_samples_per_second': 872.833, 'eval_steps_per_second': 3.413, 'epoch': 74.76}\n",
      "{'loss': 0.2427, 'grad_norm': 0.12915855646133423, 'learning_rate': 7.734003164190992e-05, 'epoch': 74.85}\n",
      "{'loss': 0.2432, 'grad_norm': 0.21583963930606842, 'learning_rate': 7.458524136249423e-05, 'epoch': 74.95}\n",
      "{'loss': 0.2422, 'grad_norm': 0.20494207739830017, 'learning_rate': 7.187178086517123e-05, 'epoch': 75.05}\n"
     ]
    },
    {
     "data": {
      "application/vnd.jupyter.widget-view+json": {
       "model_id": "c70841b70fa246d591cf6333aae9903d",
       "version_major": 2,
       "version_minor": 0
      },
      "text/plain": [
       "  0%|          | 0/70 [00:00<?, ?it/s]"
      ]
     },
     "metadata": {},
     "output_type": "display_data"
    },
    {
     "name": "stdout",
     "output_type": "stream",
     "text": [
      "{'eval_loss': 0.1748417764902115, 'eval_runtime': 20.6229, 'eval_samples_per_second': 868.065, 'eval_steps_per_second': 3.394, 'epoch': 75.09}\n",
      "{'loss': 0.2409, 'grad_norm': 0.10297772288322449, 'learning_rate': 6.92002894731761e-05, 'epoch': 75.15}\n",
      "{'loss': 0.2444, 'grad_norm': 0.12702801823616028, 'learning_rate': 6.657139662132969e-05, 'epoch': 75.24}\n",
      "{'loss': 0.2394, 'grad_norm': 0.11787069588899612, 'learning_rate': 6.398572170773457e-05, 'epoch': 75.34}\n"
     ]
    },
    {
     "data": {
      "application/vnd.jupyter.widget-view+json": {
       "model_id": "d83ab992972642da96375ab1b3cccbcc",
       "version_major": 2,
       "version_minor": 0
      },
      "text/plain": [
       "  0%|          | 0/70 [00:00<?, ?it/s]"
      ]
     },
     "metadata": {},
     "output_type": "display_data"
    },
    {
     "name": "stdout",
     "output_type": "stream",
     "text": [
      "{'eval_loss': 0.1769276112318039, 'eval_runtime': 20.6217, 'eval_samples_per_second': 868.113, 'eval_steps_per_second': 3.394, 'epoch': 75.42}\n",
      "{'loss': 0.2437, 'grad_norm': 0.12802228331565857, 'learning_rate': 6.144387394783837e-05, 'epoch': 75.44}\n",
      "{'loss': 0.2449, 'grad_norm': 0.1782880574464798, 'learning_rate': 5.894645223089606e-05, 'epoch': 75.54}\n",
      "{'loss': 0.2344, 'grad_norm': 0.09992146492004395, 'learning_rate': 5.649404497886276e-05, 'epoch': 75.64}\n",
      "{'loss': 0.2419, 'grad_norm': 0.15424950420856476, 'learning_rate': 5.408723000775734e-05, 'epoch': 75.73}\n"
     ]
    },
    {
     "data": {
      "application/vnd.jupyter.widget-view+json": {
       "model_id": "84dca09665e047e88a4a755975645d6e",
       "version_major": 2,
       "version_minor": 0
      },
      "text/plain": [
       "  0%|          | 0/70 [00:00<?, ?it/s]"
      ]
     },
     "metadata": {},
     "output_type": "display_data"
    },
    {
     "name": "stdout",
     "output_type": "stream",
     "text": [
      "{'eval_loss': 0.1735095977783203, 'eval_runtime': 20.5702, 'eval_samples_per_second': 870.286, 'eval_steps_per_second': 3.403, 'epoch': 75.75}\n",
      "{'loss': 0.2452, 'grad_norm': 0.3080247640609741, 'learning_rate': 5.1726574391519176e-05, 'epoch': 75.83}\n",
      "{'loss': 0.2436, 'grad_norm': 0.08725040405988693, 'learning_rate': 4.9412634328400625e-05, 'epoch': 75.93}\n",
      "{'loss': 0.245, 'grad_norm': 0.1327447146177292, 'learning_rate': 4.7145955009920276e-05, 'epoch': 76.03}\n"
     ]
    },
    {
     "data": {
      "application/vnd.jupyter.widget-view+json": {
       "model_id": "0c693f428d09446a9dffaa1f1563d908",
       "version_major": 2,
       "version_minor": 0
      },
      "text/plain": [
       "  0%|          | 0/70 [00:00<?, ?it/s]"
      ]
     },
     "metadata": {},
     "output_type": "display_data"
    },
    {
     "name": "stdout",
     "output_type": "stream",
     "text": [
      "{'eval_loss': 0.17390216886997223, 'eval_runtime': 20.3741, 'eval_samples_per_second': 878.664, 'eval_steps_per_second': 3.436, 'epoch': 76.08}\n",
      "{'loss': 0.2394, 'grad_norm': 0.14751406013965607, 'learning_rate': 4.4927070492408154e-05, 'epoch': 76.12}\n",
      "{'loss': 0.2451, 'grad_norm': 0.17883867025375366, 'learning_rate': 4.275650357117747e-05, 'epoch': 76.22}\n",
      "{'loss': 0.2383, 'grad_norm': 0.10092728585004807, 'learning_rate': 4.063476565734625e-05, 'epoch': 76.32}\n",
      "{'loss': 0.2328, 'grad_norm': 0.13066476583480835, 'learning_rate': 3.8562356657343424e-05, 'epoch': 76.42}\n"
     ]
    },
    {
     "data": {
      "application/vnd.jupyter.widget-view+json": {
       "model_id": "836c478081b043d99f8f756804c2e1be",
       "version_major": 2,
       "version_minor": 0
      },
      "text/plain": [
       "  0%|          | 0/70 [00:00<?, ?it/s]"
      ]
     },
     "metadata": {},
     "output_type": "display_data"
    },
    {
     "name": "stdout",
     "output_type": "stream",
     "text": [
      "{'eval_loss': 0.17268240451812744, 'eval_runtime': 20.5969, 'eval_samples_per_second': 869.162, 'eval_steps_per_second': 3.399, 'epoch': 76.42}\n",
      "{'loss': 0.2372, 'grad_norm': 0.1126757487654686, 'learning_rate': 3.6539764855126164e-05, 'epoch': 76.51}\n",
      "{'loss': 0.2378, 'grad_norm': 0.11023657023906708, 'learning_rate': 3.456746679713227e-05, 'epoch': 76.61}\n",
      "{'loss': 0.247, 'grad_norm': 0.11652539670467377, 'learning_rate': 3.264592718000212e-05, 'epoch': 76.71}\n"
     ]
    },
    {
     "data": {
      "application/vnd.jupyter.widget-view+json": {
       "model_id": "0296df26fb07485d8db1142d43499287",
       "version_major": 2,
       "version_minor": 0
      },
      "text/plain": [
       "  0%|          | 0/70 [00:00<?, ?it/s]"
      ]
     },
     "metadata": {},
     "output_type": "display_data"
    },
    {
     "name": "stdout",
     "output_type": "stream",
     "text": [
      "{'eval_loss': 0.17163026332855225, 'eval_runtime': 20.6405, 'eval_samples_per_second': 867.323, 'eval_steps_per_second': 3.391, 'epoch': 76.75}\n",
      "{'loss': 0.2431, 'grad_norm': 0.16361743211746216, 'learning_rate': 3.0775598741089426e-05, 'epoch': 76.81}\n",
      "{'loss': 0.2411, 'grad_norm': 0.09495377540588379, 'learning_rate': 2.8956922151791493e-05, 'epoch': 76.91}\n",
      "{'loss': 0.2432, 'grad_norm': 0.13510097563266754, 'learning_rate': 2.719032591372225e-05, 'epoch': 77.0}\n"
     ]
    },
    {
     "data": {
      "application/vnd.jupyter.widget-view+json": {
       "model_id": "e1f76967e84d4d8998a11f9025b55226",
       "version_major": 2,
       "version_minor": 0
      },
      "text/plain": [
       "  0%|          | 0/70 [00:00<?, ?it/s]"
      ]
     },
     "metadata": {},
     "output_type": "display_data"
    },
    {
     "name": "stdout",
     "output_type": "stream",
     "text": [
      "{'eval_loss': 0.17075349390506744, 'eval_runtime': 20.6121, 'eval_samples_per_second': 868.52, 'eval_steps_per_second': 3.396, 'epoch': 77.08}\n",
      "{'loss': 0.245, 'grad_norm': 0.14132091403007507, 'learning_rate': 2.5476226257751228e-05, 'epoch': 77.1}\n",
      "{'loss': 0.2366, 'grad_norm': 0.11399026960134506, 'learning_rate': 2.3815027045935798e-05, 'epoch': 77.2}\n",
      "{'loss': 0.2399, 'grad_norm': 0.17373356223106384, 'learning_rate': 2.2207119676365517e-05, 'epoch': 77.3}\n",
      "{'loss': 0.235, 'grad_norm': 0.6238609552383423, 'learning_rate': 2.065288299094456e-05, 'epoch': 77.39}\n"
     ]
    },
    {
     "data": {
      "application/vnd.jupyter.widget-view+json": {
       "model_id": "63256ecaf79d46e8a6889a30eeaa89ef",
       "version_major": 2,
       "version_minor": 0
      },
      "text/plain": [
       "  0%|          | 0/70 [00:00<?, ?it/s]"
      ]
     },
     "metadata": {},
     "output_type": "display_data"
    },
    {
     "name": "stdout",
     "output_type": "stream",
     "text": [
      "{'eval_loss': 0.17165187001228333, 'eval_runtime': 20.6402, 'eval_samples_per_second': 867.337, 'eval_steps_per_second': 3.391, 'epoch': 77.41}\n",
      "{'loss': 0.2415, 'grad_norm': 0.2747466266155243, 'learning_rate': 1.9152683186132557e-05, 'epoch': 77.49}\n",
      "{'loss': 0.2411, 'grad_norm': 0.1145528256893158, 'learning_rate': 1.770687372666352e-05, 'epoch': 77.59}\n",
      "{'loss': 0.2368, 'grad_norm': 0.22546721994876862, 'learning_rate': 1.6315795262265704e-05, 'epoch': 77.69}\n"
     ]
    },
    {
     "data": {
      "application/vnd.jupyter.widget-view+json": {
       "model_id": "68b4876234e24bb7859e70d8bb40363d",
       "version_major": 2,
       "version_minor": 0
      },
      "text/plain": [
       "  0%|          | 0/70 [00:00<?, ?it/s]"
      ]
     },
     "metadata": {},
     "output_type": "display_data"
    },
    {
     "name": "stdout",
     "output_type": "stream",
     "text": [
      "{'eval_loss': 0.17353291809558868, 'eval_runtime': 20.4997, 'eval_samples_per_second': 873.282, 'eval_steps_per_second': 3.415, 'epoch': 77.75}\n",
      "{'loss': 0.2434, 'grad_norm': 0.12150413542985916, 'learning_rate': 1.4979775547401375e-05, 'epoch': 77.79}\n",
      "{'loss': 0.2357, 'grad_norm': 0.10172303020954132, 'learning_rate': 1.3699129364042467e-05, 'epoch': 77.88}\n",
      "{'loss': 0.2393, 'grad_norm': 0.15178418159484863, 'learning_rate': 1.2474158447505602e-05, 'epoch': 77.98}\n",
      "{'loss': 0.2375, 'grad_norm': 0.16467773914337158, 'learning_rate': 1.1305151415358705e-05, 'epoch': 78.08}\n"
     ]
    },
    {
     "data": {
      "application/vnd.jupyter.widget-view+json": {
       "model_id": "8cd27545eac245ea9255e83449e27e22",
       "version_major": 2,
       "version_minor": 0
      },
      "text/plain": [
       "  0%|          | 0/70 [00:00<?, ?it/s]"
      ]
     },
     "metadata": {},
     "output_type": "display_data"
    },
    {
     "name": "stdout",
     "output_type": "stream",
     "text": [
      "{'eval_loss': 0.17226487398147583, 'eval_runtime': 20.6492, 'eval_samples_per_second': 866.96, 'eval_steps_per_second': 3.39, 'epoch': 78.08}\n",
      "{'loss': 0.2392, 'grad_norm': 0.13913126289844513, 'learning_rate': 1.019238369941991e-05, 'epoch': 78.18}\n",
      "{'loss': 0.2389, 'grad_norm': 0.15726526081562042, 'learning_rate': 9.136117480862598e-06, 'epoch': 78.27}\n",
      "{'loss': 0.235, 'grad_norm': 0.10757230967283249, 'learning_rate': 8.136601628441793e-06, 'epoch': 78.37}\n"
     ]
    },
    {
     "data": {
      "application/vnd.jupyter.widget-view+json": {
       "model_id": "faf70a1d8c384b1c80fbaa606c7416e5",
       "version_major": 2,
       "version_minor": 0
      },
      "text/plain": [
       "  0%|          | 0/70 [00:00<?, ?it/s]"
      ]
     },
     "metadata": {},
     "output_type": "display_data"
    },
    {
     "name": "stdout",
     "output_type": "stream",
     "text": [
      "{'eval_loss': 0.17355453968048096, 'eval_runtime': 20.6221, 'eval_samples_per_second': 868.097, 'eval_steps_per_second': 3.394, 'epoch': 78.41}\n",
      "{'loss': 0.2403, 'grad_norm': 0.24491547048091888, 'learning_rate': 7.194071639858884e-06, 'epoch': 78.47}\n",
      "{'loss': 0.2423, 'grad_norm': 0.09995628148317337, 'learning_rate': 6.3087495862743094e-06, 'epoch': 78.57}\n",
      "{'loss': 0.2426, 'grad_norm': 0.12148019671440125, 'learning_rate': 5.480844059985696e-06, 'epoch': 78.66}\n"
     ]
    },
    {
     "data": {
      "application/vnd.jupyter.widget-view+json": {
       "model_id": "4f804617e66440b58e760903d73a9561",
       "version_major": 2,
       "version_minor": 0
      },
      "text/plain": [
       "  0%|          | 0/70 [00:00<?, ?it/s]"
      ]
     },
     "metadata": {},
     "output_type": "display_data"
    },
    {
     "name": "stdout",
     "output_type": "stream",
     "text": [
      "{'eval_loss': 0.17137308418750763, 'eval_runtime': 20.6567, 'eval_samples_per_second': 866.644, 'eval_steps_per_second': 3.389, 'epoch': 78.74}\n",
      "{'loss': 0.2325, 'grad_norm': 0.16563451290130615, 'learning_rate': 4.7105501252811545e-06, 'epoch': 78.76}\n",
      "{'loss': 0.2373, 'grad_norm': 0.2055639624595642, 'learning_rate': 3.998049272479376e-06, 'epoch': 78.86}\n",
      "{'loss': 0.2351, 'grad_norm': 0.10205826908349991, 'learning_rate': 3.343509375168863e-06, 'epoch': 78.96}\n",
      "{'loss': 0.2354, 'grad_norm': 0.14914119243621826, 'learning_rate': 2.7470846506545133e-06, 'epoch': 79.06}\n"
     ]
    },
    {
     "data": {
      "application/vnd.jupyter.widget-view+json": {
       "model_id": "41424b0d175546eba0e9bc7823adfe98",
       "version_major": 2,
       "version_minor": 0
      },
      "text/plain": [
       "  0%|          | 0/70 [00:00<?, ?it/s]"
      ]
     },
     "metadata": {},
     "output_type": "display_data"
    },
    {
     "name": "stdout",
     "output_type": "stream",
     "text": [
      "{'eval_loss': 0.17071743309497833, 'eval_runtime': 20.5185, 'eval_samples_per_second': 872.48, 'eval_steps_per_second': 3.412, 'epoch': 79.07}\n",
      "{'loss': 0.2378, 'grad_norm': 0.08299224823713303, 'learning_rate': 2.2089156236224093e-06, 'epoch': 79.15}\n",
      "{'loss': 0.2354, 'grad_norm': 0.11828812956809998, 'learning_rate': 1.729129093030607e-06, 'epoch': 79.25}\n",
      "{'loss': 0.2331, 'grad_norm': 0.15901514887809753, 'learning_rate': 1.3078381022336715e-06, 'epoch': 79.35}\n"
     ]
    },
    {
     "data": {
      "application/vnd.jupyter.widget-view+json": {
       "model_id": "f36a6e379c38453c918e2b2a016e929f",
       "version_major": 2,
       "version_minor": 0
      },
      "text/plain": [
       "  0%|          | 0/70 [00:00<?, ?it/s]"
      ]
     },
     "metadata": {},
     "output_type": "display_data"
    },
    {
     "name": "stdout",
     "output_type": "stream",
     "text": [
      "{'eval_loss': 0.17205537855625153, 'eval_runtime': 20.6504, 'eval_samples_per_second': 866.908, 'eval_steps_per_second': 3.39, 'epoch': 79.41}\n",
      "{'loss': 0.2375, 'grad_norm': 0.2327382117509842, 'learning_rate': 9.45141912348485e-07, 'epoch': 79.45}\n",
      "{'loss': 0.2375, 'grad_norm': 0.09699548780918121, 'learning_rate': 6.411259788668966e-07, 'epoch': 79.54}\n",
      "{'loss': 0.2397, 'grad_norm': 0.2691631615161896, 'learning_rate': 3.9586193152169047e-07, 'epoch': 79.64}\n",
      "{'loss': 0.2402, 'grad_norm': 0.20780134201049805, 'learning_rate': 2.0940755740969652e-07, 'epoch': 79.74}\n"
     ]
    },
    {
     "data": {
      "application/vnd.jupyter.widget-view+json": {
       "model_id": "0f9dc11876d04613b6ab7b10f9509f97",
       "version_major": 2,
       "version_minor": 0
      },
      "text/plain": [
       "  0%|          | 0/70 [00:00<?, ?it/s]"
      ]
     },
     "metadata": {},
     "output_type": "display_data"
    },
    {
     "name": "stdout",
     "output_type": "stream",
     "text": [
      "{'eval_loss': 0.17347627878189087, 'eval_runtime': 20.6129, 'eval_samples_per_second': 868.483, 'eval_steps_per_second': 3.396, 'epoch': 79.74}\n",
      "{'loss': 0.2363, 'grad_norm': 0.12111249566078186, 'learning_rate': 8.180678737629289e-08, 'epoch': 79.84}\n",
      "{'loss': 0.2415, 'grad_norm': 0.15508371591567993, 'learning_rate': 1.3089685665046425e-08, 'epoch': 79.93}\n",
      "{'loss': 0.2535, 'grad_norm': 0.2557904124259949, 'learning_rate': 0.0004999967275571659, 'epoch': 80.03}\n"
     ]
    },
    {
     "data": {
      "application/vnd.jupyter.widget-view+json": {
       "model_id": "002a37444b2d409dbbf7b213d55564f5",
       "version_major": 2,
       "version_minor": 0
      },
      "text/plain": [
       "  0%|          | 0/70 [00:00<?, ?it/s]"
      ]
     },
     "metadata": {},
     "output_type": "display_data"
    },
    {
     "name": "stdout",
     "output_type": "stream",
     "text": [
      "{'eval_loss': 0.18343858420848846, 'eval_runtime': 20.4271, 'eval_samples_per_second': 876.386, 'eval_steps_per_second': 3.427, 'epoch': 80.07}\n",
      "{'loss': 0.2675, 'grad_norm': 0.19736917316913605, 'learning_rate': 0.0004999476426280588, 'epoch': 80.13}\n",
      "{'loss': 0.2698, 'grad_norm': 0.16090597212314606, 'learning_rate': 0.0004998396670920005, 'epoch': 80.23}\n",
      "{'loss': 0.2705, 'grad_norm': 0.173520028591156, 'learning_rate': 0.0004996728263892984, 'epoch': 80.33}\n"
     ]
    },
    {
     "data": {
      "application/vnd.jupyter.widget-view+json": {
       "model_id": "9e7ca96e071e496db0dfbf8e61eb7afa",
       "version_major": 2,
       "version_minor": 0
      },
      "text/plain": [
       "  0%|          | 0/70 [00:00<?, ?it/s]"
      ]
     },
     "metadata": {},
     "output_type": "display_data"
    },
    {
     "name": "stdout",
     "output_type": "stream",
     "text": [
      "{'eval_loss': 0.18205766379833221, 'eval_runtime': 20.6581, 'eval_samples_per_second': 866.585, 'eval_steps_per_second': 3.389, 'epoch': 80.4}\n",
      "{'loss': 0.2722, 'grad_norm': 0.15685532987117767, 'learning_rate': 0.0004994471598295863, 'epoch': 80.42}\n",
      "{'loss': 0.2646, 'grad_norm': 0.20592668652534485, 'learning_rate': 0.0004991627205825621, 'epoch': 80.52}\n",
      "{'loss': 0.2664, 'grad_norm': 0.13479426503181458, 'learning_rate': 0.0004988195756654606, 'epoch': 80.62}\n",
      "{'loss': 0.2672, 'grad_norm': 0.3022487163543701, 'learning_rate': 0.0004984178059272639, 'epoch': 80.72}\n"
     ]
    },
    {
     "data": {
      "application/vnd.jupyter.widget-view+json": {
       "model_id": "e3b6584ee9b84e85962af8e59c05212c",
       "version_major": 2,
       "version_minor": 0
      },
      "text/plain": [
       "  0%|          | 0/70 [00:00<?, ?it/s]"
      ]
     },
     "metadata": {},
     "output_type": "display_data"
    },
    {
     "name": "stdout",
     "output_type": "stream",
     "text": [
      "{'eval_loss': 0.18452659249305725, 'eval_runtime': 20.4113, 'eval_samples_per_second': 877.063, 'eval_steps_per_second': 3.429, 'epoch': 80.74}\n",
      "{'loss': 0.2673, 'grad_norm': 0.16061843931674957, 'learning_rate': 0.0004979575060296517, 'epoch': 80.81}\n",
      "{'loss': 0.2618, 'grad_norm': 0.37571072578430176, 'learning_rate': 0.0004974387844246987, 'epoch': 80.91}\n",
      "{'loss': 0.2777, 'grad_norm': 0.2909516394138336, 'learning_rate': 0.0004968617633293212, 'epoch': 81.01}\n"
     ]
    },
    {
     "data": {
      "application/vnd.jupyter.widget-view+json": {
       "model_id": "d84fee6ac52047aab9a0c5476157d24c",
       "version_major": 2,
       "version_minor": 0
      },
      "text/plain": [
       "  0%|          | 0/70 [00:00<?, ?it/s]"
      ]
     },
     "metadata": {},
     "output_type": "display_data"
    },
    {
     "name": "stdout",
     "output_type": "stream",
     "text": [
      "{'eval_loss': 0.18468265235424042, 'eval_runtime': 20.466, 'eval_samples_per_second': 874.718, 'eval_steps_per_second': 3.42, 'epoch': 81.07}\n",
      "{'loss': 0.2749, 'grad_norm': 0.16977354884147644, 'learning_rate': 0.0004962265786964819, 'epoch': 81.11}\n",
      "{'loss': 0.2674, 'grad_norm': 0.14707596600055695, 'learning_rate': 0.0004955333801831578, 'epoch': 81.21}\n",
      "{'loss': 0.2658, 'grad_norm': 0.14864182472229004, 'learning_rate': 0.0004947823311150785, 'epoch': 81.3}\n",
      "{'loss': 0.2588, 'grad_norm': 0.15679171681404114, 'learning_rate': 0.000493973608448246, 'epoch': 81.4}\n"
     ]
    },
    {
     "data": {
      "application/vnd.jupyter.widget-view+json": {
       "model_id": "71889665b2b74a4280c183cf7ffe177e",
       "version_major": 2,
       "version_minor": 0
      },
      "text/plain": [
       "  0%|          | 0/70 [00:00<?, ?it/s]"
      ]
     },
     "metadata": {},
     "output_type": "display_data"
    },
    {
     "name": "stdout",
     "output_type": "stream",
     "text": [
      "{'eval_loss': 0.18106992542743683, 'eval_runtime': 20.5766, 'eval_samples_per_second': 870.016, 'eval_steps_per_second': 3.402, 'epoch': 81.4}\n",
      "{'loss': 0.2552, 'grad_norm': 0.24898332357406616, 'learning_rate': 0.0004931074027272407, 'epoch': 81.5}\n",
      "{'loss': 0.2607, 'grad_norm': 0.2534204125404358, 'learning_rate': 0.000492183918040327, 'epoch': 81.6}\n",
      "{'loss': 0.2699, 'grad_norm': 0.1756141185760498, 'learning_rate': 0.0004912033719713687, 'epoch': 81.69}\n"
     ]
    },
    {
     "data": {
      "application/vnd.jupyter.widget-view+json": {
       "model_id": "675d679b8d024e66b51d5350da05fd42",
       "version_major": 2,
       "version_minor": 0
      },
      "text/plain": [
       "  0%|          | 0/70 [00:00<?, ?it/s]"
      ]
     },
     "metadata": {},
     "output_type": "display_data"
    },
    {
     "name": "stdout",
     "output_type": "stream",
     "text": [
      "{'eval_loss': 0.18185390532016754, 'eval_runtime': 20.6592, 'eval_samples_per_second': 866.539, 'eval_steps_per_second': 3.388, 'epoch': 81.73}\n",
      "{'loss': 0.2637, 'grad_norm': 0.3501773476600647, 'learning_rate': 0.0004901659955485622, 'epoch': 81.79}\n",
      "{'loss': 0.2643, 'grad_norm': 0.2940974831581116, 'learning_rate': 0.0004890720331900048, 'epoch': 81.89}\n",
      "{'loss': 0.2653, 'grad_norm': 0.19706402719020844, 'learning_rate': 0.0004879217426461061, 'epoch': 81.99}\n"
     ]
    },
    {
     "data": {
      "application/vnd.jupyter.widget-view+json": {
       "model_id": "7d51a9a21a0940cca63db433e013311f",
       "version_major": 2,
       "version_minor": 0
      },
      "text/plain": [
       "  0%|          | 0/70 [00:00<?, ?it/s]"
      ]
     },
     "metadata": {},
     "output_type": "display_data"
    },
    {
     "name": "stdout",
     "output_type": "stream",
     "text": [
      "{'eval_loss': 0.18264484405517578, 'eval_runtime': 20.6964, 'eval_samples_per_second': 864.98, 'eval_steps_per_second': 3.382, 'epoch': 82.07}\n",
      "{'loss': 0.2563, 'grad_norm': 0.3291100263595581, 'learning_rate': 0.00048671539493885926, 'epoch': 82.08}\n",
      "{'loss': 0.277, 'grad_norm': 0.37256887555122375, 'learning_rate': 0.00048545327429798504, 'epoch': 82.18}\n",
      "{'loss': 0.2624, 'grad_norm': 0.14790776371955872, 'learning_rate': 0.00048413567809396364, 'epoch': 82.28}\n",
      "{'loss': 0.2606, 'grad_norm': 0.19891780614852905, 'learning_rate': 0.0004827629167679718, 'epoch': 82.38}\n"
     ]
    },
    {
     "data": {
      "application/vnd.jupyter.widget-view+json": {
       "model_id": "0a30eedcd8174d97bec8911e18855d07",
       "version_major": 2,
       "version_minor": 0
      },
      "text/plain": [
       "  0%|          | 0/70 [00:00<?, ?it/s]"
      ]
     },
     "metadata": {},
     "output_type": "display_data"
    },
    {
     "name": "stdout",
     "output_type": "stream",
     "text": [
      "{'eval_loss': 0.18558166921138763, 'eval_runtime': 20.5848, 'eval_samples_per_second': 869.669, 'eval_steps_per_second': 3.401, 'epoch': 82.4}\n",
      "{'loss': 0.2604, 'grad_norm': 0.16798315942287445, 'learning_rate': 0.0004813353137587377, 'epoch': 82.48}\n",
      "{'loss': 0.2595, 'grad_norm': 0.12307155877351761, 'learning_rate': 0.0004798532054263357, 'epoch': 82.57}\n",
      "{'loss': 0.2624, 'grad_norm': 0.1467079073190689, 'learning_rate': 0.0004783169409729363, 'epoch': 82.67}\n"
     ]
    },
    {
     "data": {
      "application/vnd.jupyter.widget-view+json": {
       "model_id": "cb4a712da0f24365a06a04724f425b85",
       "version_major": 2,
       "version_minor": 0
      },
      "text/plain": [
       "  0%|          | 0/70 [00:00<?, ?it/s]"
      ]
     },
     "metadata": {},
     "output_type": "display_data"
    },
    {
     "name": "stdout",
     "output_type": "stream",
     "text": [
      "{'eval_loss': 0.18486261367797852, 'eval_runtime': 20.4759, 'eval_samples_per_second': 874.296, 'eval_steps_per_second': 3.419, 'epoch': 82.73}\n",
      "{'loss': 0.2516, 'grad_norm': 0.18531806766986847, 'learning_rate': 0.0004767268823605292, 'epoch': 82.77}\n",
      "{'loss': 0.2561, 'grad_norm': 0.16799898445606232, 'learning_rate': 0.0004750834042256413, 'epoch': 82.87}\n",
      "{'loss': 0.2622, 'grad_norm': 0.2676999270915985, 'learning_rate': 0.0004733868937910684, 'epoch': 82.96}\n",
      "{'loss': 0.2613, 'grad_norm': 0.2453804463148117, 'learning_rate': 0.0004716377507746395, 'epoch': 83.06}\n"
     ]
    },
    {
     "data": {
      "application/vnd.jupyter.widget-view+json": {
       "model_id": "76e795a813f640d399d6ceef5cb2f271",
       "version_major": 2,
       "version_minor": 0
      },
      "text/plain": [
       "  0%|          | 0/70 [00:00<?, ?it/s]"
      ]
     },
     "metadata": {},
     "output_type": "display_data"
    },
    {
     "name": "stdout",
     "output_type": "stream",
     "text": [
      "{'eval_loss': 0.1803244650363922, 'eval_runtime': 20.6461, 'eval_samples_per_second': 867.087, 'eval_steps_per_second': 3.39, 'epoch': 83.06}\n",
      "{'loss': 0.2733, 'grad_norm': 0.1348184049129486, 'learning_rate': 0.0004698363872950404, 'epoch': 83.16}\n",
      "{'loss': 0.2633, 'grad_norm': 0.1574396938085556, 'learning_rate': 0.0004679832277747121, 'epoch': 83.26}\n",
      "{'loss': 0.2665, 'grad_norm': 0.16912885010242462, 'learning_rate': 0.0004660787088398528, 'epoch': 83.36}\n"
     ]
    },
    {
     "data": {
      "application/vnd.jupyter.widget-view+json": {
       "model_id": "defccaa626a6498f922d904ea5754035",
       "version_major": 2,
       "version_minor": 0
      },
      "text/plain": [
       "  0%|          | 0/70 [00:00<?, ?it/s]"
      ]
     },
     "metadata": {},
     "output_type": "display_data"
    },
    {
     "name": "stdout",
     "output_type": "stream",
     "text": [
      "{'eval_loss': 0.17639517784118652, 'eval_runtime': 20.5745, 'eval_samples_per_second': 870.106, 'eval_steps_per_second': 3.402, 'epoch': 83.39}\n",
      "{'loss': 0.263, 'grad_norm': 0.15482088923454285, 'learning_rate': 0.000464123279217543, 'epoch': 83.45}\n",
      "{'loss': 0.2596, 'grad_norm': 0.19029219448566437, 'learning_rate': 0.00046211739963002065, 'epoch': 83.55}\n",
      "{'loss': 0.2556, 'grad_norm': 0.12139283865690231, 'learning_rate': 0.00046006154268613003, 'epoch': 83.65}\n"
     ]
    },
    {
     "data": {
      "application/vnd.jupyter.widget-view+json": {
       "model_id": "a5f0bf3e3fd14cab9c87d4e1614275ed",
       "version_major": 2,
       "version_minor": 0
      },
      "text/plain": [
       "  0%|          | 0/70 [00:00<?, ?it/s]"
      ]
     },
     "metadata": {},
     "output_type": "display_data"
    },
    {
     "name": "stdout",
     "output_type": "stream",
     "text": [
      "{'eval_loss': 0.1851334273815155, 'eval_runtime': 20.713, 'eval_samples_per_second': 864.287, 'eval_steps_per_second': 3.38, 'epoch': 83.73}\n",
      "{'loss': 0.2618, 'grad_norm': 0.14857417345046997, 'learning_rate': 0.00045795619276996815, 'epoch': 83.75}\n",
      "{'loss': 0.2572, 'grad_norm': 0.23795293271541595, 'learning_rate': 0.0004558018459267591, 'epoch': 83.84}\n",
      "{'loss': 0.2643, 'grad_norm': 0.1867782324552536, 'learning_rate': 0.00045359900974597985, 'epoch': 83.94}\n",
      "{'loss': 0.2608, 'grad_norm': 0.12763425707817078, 'learning_rate': 0.0004513482032417655, 'epoch': 84.04}\n"
     ]
    },
    {
     "data": {
      "application/vnd.jupyter.widget-view+json": {
       "model_id": "a0bb8144926e4f098df20a72e52c8578",
       "version_major": 2,
       "version_minor": 0
      },
      "text/plain": [
       "  0%|          | 0/70 [00:00<?, ?it/s]"
      ]
     },
     "metadata": {},
     "output_type": "display_data"
    },
    {
     "name": "stdout",
     "output_type": "stream",
     "text": [
      "{'eval_loss': 0.17911310493946075, 'eval_runtime': 20.4051, 'eval_samples_per_second': 877.331, 'eval_steps_per_second': 3.431, 'epoch': 84.06}\n",
      "{'loss': 0.2555, 'grad_norm': 0.1886969804763794, 'learning_rate': 0.00044904995673062563, 'epoch': 84.14}\n",
      "{'loss': 0.2608, 'grad_norm': 0.19117805361747742, 'learning_rate': 0.00044670481170649236, 'epoch': 84.23}\n",
      "{'loss': 0.2541, 'grad_norm': 0.15059882402420044, 'learning_rate': 0.0004443133207131397, 'epoch': 84.33}\n"
     ]
    },
    {
     "data": {
      "application/vnd.jupyter.widget-view+json": {
       "model_id": "b8d71b4767aa4d1191cf320de2dc5c48",
       "version_major": 2,
       "version_minor": 0
      },
      "text/plain": [
       "  0%|          | 0/70 [00:00<?, ?it/s]"
      ]
     },
     "metadata": {},
     "output_type": "display_data"
    },
    {
     "name": "stdout",
     "output_type": "stream",
     "text": [
      "{'eval_loss': 0.18396040797233582, 'eval_runtime': 20.5412, 'eval_samples_per_second': 871.518, 'eval_steps_per_second': 3.408, 'epoch': 84.39}\n",
      "{'loss': 0.2562, 'grad_norm': 0.13000865280628204, 'learning_rate': 0.0004418760472139988, 'epoch': 84.43}\n",
      "{'loss': 0.2611, 'grad_norm': 0.2863003611564636, 'learning_rate': 0.0004393935654593968, 'epoch': 84.53}\n",
      "{'loss': 0.2635, 'grad_norm': 0.18585830926895142, 'learning_rate': 0.00043686646035125863, 'epoch': 84.63}\n",
      "{'loss': 0.2592, 'grad_norm': 0.18251831829547882, 'learning_rate': 0.00043429532730529654, 'epoch': 84.72}\n"
     ]
    },
    {
     "data": {
      "application/vnd.jupyter.widget-view+json": {
       "model_id": "3277d8be401347a09916596433fd2658",
       "version_major": 2,
       "version_minor": 0
      },
      "text/plain": [
       "  0%|          | 0/70 [00:00<?, ?it/s]"
      ]
     },
     "metadata": {},
     "output_type": "display_data"
    },
    {
     "name": "stdout",
     "output_type": "stream",
     "text": [
      "{'eval_loss': 0.18250401318073273, 'eval_runtime': 20.5174, 'eval_samples_per_second': 872.529, 'eval_steps_per_second': 3.412, 'epoch': 84.72}\n",
      "{'loss': 0.265, 'grad_norm': 0.35950377583503723, 'learning_rate': 0.00043168077211072257, 'epoch': 84.82}\n",
      "{'loss': 0.2598, 'grad_norm': 0.19010919332504272, 'learning_rate': 0.00042902341078751967, 'epoch': 84.92}\n",
      "{'loss': 0.2565, 'grad_norm': 0.2176712155342102, 'learning_rate': 0.0004263238694412967, 'epoch': 85.02}\n"
     ]
    },
    {
     "data": {
      "application/vnd.jupyter.widget-view+json": {
       "model_id": "102793cb3a954480a4955b1a5f509748",
       "version_major": 2,
       "version_minor": 0
      },
      "text/plain": [
       "  0%|          | 0/70 [00:00<?, ?it/s]"
      ]
     },
     "metadata": {},
     "output_type": "display_data"
    },
    {
     "name": "stdout",
     "output_type": "stream",
     "text": [
      "{'eval_loss': 0.18447034060955048, 'eval_runtime': 20.5635, 'eval_samples_per_second': 870.571, 'eval_steps_per_second': 3.404, 'epoch': 85.06}\n",
      "{'loss': 0.2623, 'grad_norm': 0.1631884127855301, 'learning_rate': 0.0004235827841157746, 'epoch': 85.11}\n",
      "{'loss': 0.2529, 'grad_norm': 0.166925311088562, 'learning_rate': 0.000420800800642923, 'epoch': 85.21}\n",
      "{'loss': 0.2603, 'grad_norm': 0.16051030158996582, 'learning_rate': 0.00041797857449079733, 'epoch': 85.31}\n"
     ]
    },
    {
     "data": {
      "application/vnd.jupyter.widget-view+json": {
       "model_id": "fd79e191f7c4451cb209d8513bc54d97",
       "version_major": 2,
       "version_minor": 0
      },
      "text/plain": [
       "  0%|          | 0/70 [00:00<?, ?it/s]"
      ]
     },
     "metadata": {},
     "output_type": "display_data"
    },
    {
     "name": "stdout",
     "output_type": "stream",
     "text": [
      "{'eval_loss': 0.17565232515335083, 'eval_runtime': 20.6808, 'eval_samples_per_second': 865.632, 'eval_steps_per_second': 3.385, 'epoch': 85.39}\n",
      "{'loss': 0.2568, 'grad_norm': 0.39267757534980774, 'learning_rate': 0.00041511677060910185, 'epoch': 85.41}\n",
      "{'loss': 0.2653, 'grad_norm': 0.14267100393772125, 'learning_rate': 0.00041221606327251936, 'epoch': 85.5}\n",
      "{'loss': 0.2599, 'grad_norm': 0.1911190301179886, 'learning_rate': 0.0004092771359218461, 'epoch': 85.6}\n",
      "{'loss': 0.2552, 'grad_norm': 0.09817275404930115, 'learning_rate': 0.00040630068100296193, 'epoch': 85.7}\n"
     ]
    },
    {
     "data": {
      "application/vnd.jupyter.widget-view+json": {
       "model_id": "5c04f9d1644845fca598c859451d4ef8",
       "version_major": 2,
       "version_minor": 0
      },
      "text/plain": [
       "  0%|          | 0/70 [00:00<?, ?it/s]"
      ]
     },
     "metadata": {},
     "output_type": "display_data"
    },
    {
     "name": "stdout",
     "output_type": "stream",
     "text": [
      "{'eval_loss': 0.18057715892791748, 'eval_runtime': 20.5553, 'eval_samples_per_second': 870.917, 'eval_steps_per_second': 3.405, 'epoch': 85.72}\n",
      "{'loss': 0.2638, 'grad_norm': 0.1309518665075302, 'learning_rate': 0.0004032873998036836, 'epoch': 85.8}\n",
      "{'loss': 0.2567, 'grad_norm': 0.1619391292333603, 'learning_rate': 0.0004002380022885348, 'epoch': 85.9}\n",
      "{'loss': 0.2516, 'grad_norm': 0.1823362410068512, 'learning_rate': 0.0003971532069314665, 'epoch': 85.99}\n"
     ]
    },
    {
     "data": {
      "application/vnd.jupyter.widget-view+json": {
       "model_id": "679a7ade1e0642fe87c0ac7badf202f6",
       "version_major": 2,
       "version_minor": 0
      },
      "text/plain": [
       "  0%|          | 0/70 [00:00<?, ?it/s]"
      ]
     },
     "metadata": {},
     "output_type": "display_data"
    },
    {
     "name": "stdout",
     "output_type": "stream",
     "text": [
      "{'eval_loss': 0.181513711810112, 'eval_runtime': 20.5959, 'eval_samples_per_second': 869.203, 'eval_steps_per_second': 3.399, 'epoch': 86.05}\n",
      "{'loss': 0.256, 'grad_norm': 0.12556825578212738, 'learning_rate': 0.0003940337405465786, 'epoch': 86.09}\n",
      "{'loss': 0.2564, 'grad_norm': 0.19150632619857788, 'learning_rate': 0.0003908803381168734, 'epoch': 86.19}\n",
      "{'loss': 0.2571, 'grad_norm': 0.14813102781772614, 'learning_rate': 0.00038769374262108403, 'epoch': 86.29}\n",
      "{'loss': 0.2535, 'grad_norm': 0.4281236529350281, 'learning_rate': 0.0003844747048586227, 'epoch': 86.38}\n"
     ]
    },
    {
     "data": {
      "application/vnd.jupyter.widget-view+json": {
       "model_id": "bf1a1a2a4e42426f8c84fe4a8046f26d",
       "version_major": 2,
       "version_minor": 0
      },
      "text/plain": [
       "  0%|          | 0/70 [00:00<?, ?it/s]"
      ]
     },
     "metadata": {},
     "output_type": "display_data"
    },
    {
     "name": "stdout",
     "output_type": "stream",
     "text": [
      "{'eval_loss': 0.18316097557544708, 'eval_runtime': 20.9672, 'eval_samples_per_second': 853.809, 'eval_steps_per_second': 3.339, 'epoch': 86.38}\n",
      "{'loss': 0.2561, 'grad_norm': 0.20997118949890137, 'learning_rate': 0.0003812239832726796, 'epoch': 86.48}\n",
      "{'loss': 0.2589, 'grad_norm': 0.19929906725883484, 'learning_rate': 0.0003779423437715276, 'epoch': 86.58}\n",
      "{'loss': 0.2489, 'grad_norm': 0.15918976068496704, 'learning_rate': 0.0003746305595480639, 'epoch': 86.68}\n"
     ]
    },
    {
     "data": {
      "application/vnd.jupyter.widget-view+json": {
       "model_id": "ce662665a2a84802b8100c9922419ebd",
       "version_major": 2,
       "version_minor": 0
      },
      "text/plain": [
       "  0%|          | 0/70 [00:00<?, ?it/s]"
      ]
     },
     "metadata": {},
     "output_type": "display_data"
    },
    {
     "name": "stdout",
     "output_type": "stream",
     "text": [
      "{'eval_loss': 0.1792481541633606, 'eval_runtime': 20.7072, 'eval_samples_per_second': 864.529, 'eval_steps_per_second': 3.38, 'epoch': 86.72}\n",
      "{'loss': 0.2571, 'grad_norm': 0.0976758524775505, 'learning_rate': 0.00037128941089763706, 'epoch': 86.78}\n",
      "{'loss': 0.2563, 'grad_norm': 0.13222834467887878, 'learning_rate': 0.0003679196850342017, 'epoch': 86.87}\n",
      "{'loss': 0.2578, 'grad_norm': 0.13090835511684418, 'learning_rate': 0.000364522175904838, 'epoch': 86.97}\n"
     ]
    },
    {
     "data": {
      "application/vnd.jupyter.widget-view+json": {
       "model_id": "f72b0e862e934de2a81c48348f9b327b",
       "version_major": 2,
       "version_minor": 0
      },
      "text/plain": [
       "  0%|          | 0/70 [00:00<?, ?it/s]"
      ]
     },
     "metadata": {},
     "output_type": "display_data"
    },
    {
     "name": "stdout",
     "output_type": "stream",
     "text": [
      "{'eval_loss': 0.17869600653648376, 'eval_runtime': 20.7332, 'eval_samples_per_second': 863.447, 'eval_steps_per_second': 3.376, 'epoch': 87.05}\n",
      "{'loss': 0.2504, 'grad_norm': 0.15238268673419952, 'learning_rate': 0.000361097684002693, 'epoch': 87.07}\n",
      "{'loss': 0.2567, 'grad_norm': 0.0986030250787735, 'learning_rate': 0.00035764701617837103, 'epoch': 87.17}\n",
      "{'loss': 0.2499, 'grad_norm': 0.17927339673042297, 'learning_rate': 0.00035417098544983204, 'epoch': 87.26}\n",
      "{'loss': 0.2496, 'grad_norm': 0.18274500966072083, 'learning_rate': 0.0003506704108108352, 'epoch': 87.36}\n"
     ]
    },
    {
     "data": {
      "application/vnd.jupyter.widget-view+json": {
       "model_id": "74fb7084817e4ef7a8a8358819340595",
       "version_major": 2,
       "version_minor": 0
      },
      "text/plain": [
       "  0%|          | 0/70 [00:00<?, ?it/s]"
      ]
     },
     "metadata": {},
     "output_type": "display_data"
    },
    {
     "name": "stdout",
     "output_type": "stream",
     "text": [
      "{'eval_loss': 0.17714756727218628, 'eval_runtime': 20.5451, 'eval_samples_per_second': 871.352, 'eval_steps_per_second': 3.407, 'epoch': 87.38}\n",
      "{'loss': 0.2514, 'grad_norm': 0.3966108560562134, 'learning_rate': 0.0003471461170379729, 'epoch': 87.46}\n",
      "{'loss': 0.2516, 'grad_norm': 0.14297805726528168, 'learning_rate': 0.0003435989344963469, 'epoch': 87.56}\n",
      "{'loss': 0.2545, 'grad_norm': 0.13367532193660736, 'learning_rate': 0.00034002969894392037, 'epoch': 87.65}\n"
     ]
    },
    {
     "data": {
      "application/vnd.jupyter.widget-view+json": {
       "model_id": "78d484b1fd4a4af4926ab1e8084bf2b6",
       "version_major": 2,
       "version_minor": 0
      },
      "text/plain": [
       "  0%|          | 0/70 [00:00<?, ?it/s]"
      ]
     },
     "metadata": {},
     "output_type": "display_data"
    },
    {
     "name": "stdout",
     "output_type": "stream",
     "text": [
      "{'eval_loss': 0.17583157122135162, 'eval_runtime': 20.5416, 'eval_samples_per_second': 871.5, 'eval_steps_per_second': 3.408, 'epoch': 87.71}\n",
      "{'loss': 0.2483, 'grad_norm': 0.1080227866768837, 'learning_rate': 0.00033643925133460586, 'epoch': 87.75}\n",
      "{'loss': 0.254, 'grad_norm': 0.2036493420600891, 'learning_rate': 0.0003328284376201264, 'epoch': 87.85}\n",
      "{'loss': 0.2519, 'grad_norm': 0.17861446738243103, 'learning_rate': 0.00032919810855069914, 'epoch': 87.95}\n",
      "{'loss': 0.2484, 'grad_norm': 0.17976482212543488, 'learning_rate': 0.0003255491194745879, 'epoch': 88.05}\n"
     ]
    },
    {
     "data": {
      "application/vnd.jupyter.widget-view+json": {
       "model_id": "ef8e00ad320145f18a0fa10efd17cd2d",
       "version_major": 2,
       "version_minor": 0
      },
      "text/plain": [
       "  0%|          | 0/70 [00:00<?, ?it/s]"
      ]
     },
     "metadata": {},
     "output_type": "display_data"
    },
    {
     "name": "stdout",
     "output_type": "stream",
     "text": [
      "{'eval_loss': 0.17545558512210846, 'eval_runtime': 20.5446, 'eval_samples_per_second': 871.372, 'eval_steps_per_second': 3.407, 'epoch': 88.05}\n",
      "{'loss': 0.2456, 'grad_norm': 0.17169564962387085, 'learning_rate': 0.0003218823301365756, 'epoch': 88.14}\n",
      "{'loss': 0.2396, 'grad_norm': 0.18620866537094116, 'learning_rate': 0.00031819860447539395, 'epoch': 88.24}\n",
      "{'loss': 0.2461, 'grad_norm': 0.11030171811580658, 'learning_rate': 0.00031449881042017435, 'epoch': 88.34}\n"
     ]
    },
    {
     "data": {
      "application/vnd.jupyter.widget-view+json": {
       "model_id": "63044c3fbc684a7ba147b9686f0d81c5",
       "version_major": 2,
       "version_minor": 0
      },
      "text/plain": [
       "  0%|          | 0/70 [00:00<?, ?it/s]"
      ]
     },
     "metadata": {},
     "output_type": "display_data"
    },
    {
     "name": "stdout",
     "output_type": "stream",
     "text": [
      "{'eval_loss': 0.17710869014263153, 'eval_runtime': 20.6259, 'eval_samples_per_second': 867.936, 'eval_steps_per_second': 3.394, 'epoch': 88.38}\n",
      "{'loss': 0.2464, 'grad_norm': 0.2264837920665741, 'learning_rate': 0.00031078381968594897, 'epoch': 88.44}\n",
      "{'loss': 0.2437, 'grad_norm': 0.1936216503381729, 'learning_rate': 0.0003070545075682672, 'epoch': 88.53}\n",
      "{'loss': 0.2478, 'grad_norm': 0.12062215805053711, 'learning_rate': 0.00030331175273696484, 'epoch': 88.63}\n"
     ]
    },
    {
     "data": {
      "application/vnd.jupyter.widget-view+json": {
       "model_id": "02acea72e34341bd8b6cec41e1e6f69e",
       "version_major": 2,
       "version_minor": 0
      },
      "text/plain": [
       "  0%|          | 0/70 [00:00<?, ?it/s]"
      ]
     },
     "metadata": {},
     "output_type": "display_data"
    },
    {
     "name": "stdout",
     "output_type": "stream",
     "text": [
      "{'eval_loss': 0.17756639420986176, 'eval_runtime': 20.4883, 'eval_samples_per_second': 873.765, 'eval_steps_per_second': 3.417, 'epoch': 88.71}\n",
      "{'loss': 0.2601, 'grad_norm': 0.20450125634670258, 'learning_rate': 0.00029955643702913855, 'epoch': 88.73}\n",
      "{'loss': 0.2505, 'grad_norm': 0.1927768588066101, 'learning_rate': 0.00029578944524137764, 'epoch': 88.83}\n",
      "{'loss': 0.2513, 'grad_norm': 0.23069705069065094, 'learning_rate': 0.00029201166492129105, 'epoch': 88.93}\n",
      "{'loss': 0.257, 'grad_norm': 0.1066402941942215, 'learning_rate': 0.000288223986158393, 'epoch': 89.02}\n"
     ]
    },
    {
     "data": {
      "application/vnd.jupyter.widget-view+json": {
       "model_id": "246f5ca5176149bfa36a4b6f596f9fe3",
       "version_major": 2,
       "version_minor": 0
      },
      "text/plain": [
       "  0%|          | 0/70 [00:00<?, ?it/s]"
      ]
     },
     "metadata": {},
     "output_type": "display_data"
    },
    {
     "name": "stdout",
     "output_type": "stream",
     "text": [
      "{'eval_loss': 0.18061120808124542, 'eval_runtime': 20.5101, 'eval_samples_per_second': 872.838, 'eval_steps_per_second': 3.413, 'epoch': 89.04}\n",
      "{'loss': 0.2517, 'grad_norm': 0.2156057357788086, 'learning_rate': 0.00028442730137438944, 'epoch': 89.12}\n",
      "{'loss': 0.2461, 'grad_norm': 0.27122291922569275, 'learning_rate': 0.00028062250511290876, 'epoch': 89.22}\n",
      "{'loss': 0.2475, 'grad_norm': 0.12069305032491684, 'learning_rate': 0.0002768104938287398, 'epoch': 89.32}\n"
     ]
    },
    {
     "data": {
      "application/vnd.jupyter.widget-view+json": {
       "model_id": "8c1f3d60d45646159994c0bb833533a5",
       "version_major": 2,
       "version_minor": 0
      },
      "text/plain": [
       "  0%|          | 0/70 [00:00<?, ?it/s]"
      ]
     },
     "metadata": {},
     "output_type": "display_data"
    },
    {
     "name": "stdout",
     "output_type": "stream",
     "text": [
      "{'eval_loss': 0.17852184176445007, 'eval_runtime': 20.6538, 'eval_samples_per_second': 866.764, 'eval_steps_per_second': 3.389, 'epoch': 89.37}\n",
      "{'loss': 0.2436, 'grad_norm': 0.15588416159152985, 'learning_rate': 0.0002729921656766154, 'epoch': 89.41}\n",
      "{'loss': 0.24, 'grad_norm': 0.17647729814052582, 'learning_rate': 0.0002691684202995964, 'epoch': 89.51}\n",
      "{'loss': 0.2485, 'grad_norm': 0.14726029336452484, 'learning_rate': 0.0002653401586171077, 'epoch': 89.61}\n",
      "{'loss': 0.2422, 'grad_norm': 0.1868668794631958, 'learning_rate': 0.0002615082826126659, 'epoch': 89.71}\n"
     ]
    },
    {
     "data": {
      "application/vnd.jupyter.widget-view+json": {
       "model_id": "020ef7f457354a0dabc02cd869886241",
       "version_major": 2,
       "version_minor": 0
      },
      "text/plain": [
       "  0%|          | 0/70 [00:00<?, ?it/s]"
      ]
     },
     "metadata": {},
     "output_type": "display_data"
    },
    {
     "name": "stdout",
     "output_type": "stream",
     "text": [
      "{'eval_loss': 0.1781693994998932, 'eval_runtime': 20.5525, 'eval_samples_per_second': 871.037, 'eval_steps_per_second': 3.406, 'epoch': 89.71}\n",
      "{'loss': 0.2457, 'grad_norm': 0.1093318909406662, 'learning_rate': 0.0002576736951213674, 'epoch': 89.8}\n",
      "{'loss': 0.2508, 'grad_norm': 0.46475735306739807, 'learning_rate': 0.00025383729961716466, 'epoch': 89.9}\n",
      "{'loss': 0.2476, 'grad_norm': 0.2513125240802765, 'learning_rate': 0.00025, 'epoch': 90.0}\n"
     ]
    },
    {
     "data": {
      "application/vnd.jupyter.widget-view+json": {
       "model_id": "4d3cf1da3d5b45789016cf0968ed52f6",
       "version_major": 2,
       "version_minor": 0
      },
      "text/plain": [
       "  0%|          | 0/70 [00:00<?, ?it/s]"
      ]
     },
     "metadata": {},
     "output_type": "display_data"
    },
    {
     "name": "stdout",
     "output_type": "stream",
     "text": [
      "{'eval_loss': 0.17904923856258392, 'eval_runtime': 20.5275, 'eval_samples_per_second': 872.096, 'eval_steps_per_second': 3.41, 'epoch': 90.04}\n",
      "{'loss': 0.2434, 'grad_norm': 0.23167453706264496, 'learning_rate': 0.00024616270038283535, 'epoch': 90.1}\n",
      "{'loss': 0.2439, 'grad_norm': 0.18353171646595, 'learning_rate': 0.00024232630487863195, 'epoch': 90.2}\n",
      "{'loss': 0.2384, 'grad_norm': 0.14243490993976593, 'learning_rate': 0.00023849171738733345, 'epoch': 90.29}\n"
     ]
    },
    {
     "data": {
      "application/vnd.jupyter.widget-view+json": {
       "model_id": "8b46644cf3d1489ab0d80343c0c16cc7",
       "version_major": 2,
       "version_minor": 0
      },
      "text/plain": [
       "  0%|          | 0/70 [00:00<?, ?it/s]"
      ]
     },
     "metadata": {},
     "output_type": "display_data"
    },
    {
     "name": "stdout",
     "output_type": "stream",
     "text": [
      "{'eval_loss': 0.17504681646823883, 'eval_runtime': 20.5847, 'eval_samples_per_second': 869.676, 'eval_steps_per_second': 3.401, 'epoch': 90.37}\n",
      "{'loss': 0.2468, 'grad_norm': 0.1962703913450241, 'learning_rate': 0.00023465984138289236, 'epoch': 90.39}\n",
      "{'loss': 0.2419, 'grad_norm': 0.11453362554311752, 'learning_rate': 0.00023083157970040362, 'epoch': 90.49}\n",
      "{'loss': 0.2434, 'grad_norm': 0.16856659948825836, 'learning_rate': 0.00022700783432338535, 'epoch': 90.59}\n",
      "{'loss': 0.2535, 'grad_norm': 0.17544648051261902, 'learning_rate': 0.00022318950617126028, 'epoch': 90.68}\n"
     ]
    },
    {
     "data": {
      "application/vnd.jupyter.widget-view+json": {
       "model_id": "307f2076c2f5454390407541a3a33909",
       "version_major": 2,
       "version_minor": 0
      },
      "text/plain": [
       "  0%|          | 0/70 [00:00<?, ?it/s]"
      ]
     },
     "metadata": {},
     "output_type": "display_data"
    },
    {
     "name": "stdout",
     "output_type": "stream",
     "text": [
      "{'eval_loss': 0.17848673462867737, 'eval_runtime': 20.5609, 'eval_samples_per_second': 870.68, 'eval_steps_per_second': 3.405, 'epoch': 90.7}\n",
      "{'loss': 0.2489, 'grad_norm': 0.2192922979593277, 'learning_rate': 0.00021937749488709125, 'epoch': 90.78}\n",
      "{'loss': 0.247, 'grad_norm': 0.13919024169445038, 'learning_rate': 0.0002155726986256106, 'epoch': 90.88}\n",
      "{'loss': 0.2488, 'grad_norm': 0.15604349970817566, 'learning_rate': 0.00021177601384160635, 'epoch': 90.98}\n"
     ]
    },
    {
     "data": {
      "application/vnd.jupyter.widget-view+json": {
       "model_id": "55b4dc49dc754c14a591ca285b7700f9",
       "version_major": 2,
       "version_minor": 0
      },
      "text/plain": [
       "  0%|          | 0/70 [00:00<?, ?it/s]"
      ]
     },
     "metadata": {},
     "output_type": "display_data"
    },
    {
     "name": "stdout",
     "output_type": "stream",
     "text": [
      "{'eval_loss': 0.1763329654932022, 'eval_runtime': 20.5113, 'eval_samples_per_second': 872.788, 'eval_steps_per_second': 3.413, 'epoch': 91.04}\n",
      "{'loss': 0.2398, 'grad_norm': 0.1558348685503006, 'learning_rate': 0.00020798833507870902, 'epoch': 91.07}\n",
      "{'loss': 0.247, 'grad_norm': 0.3076183497905731, 'learning_rate': 0.00020421055475862242, 'epoch': 91.17}\n",
      "{'loss': 0.245, 'grad_norm': 0.1305919587612152, 'learning_rate': 0.0002004435629708615, 'epoch': 91.27}\n",
      "{'loss': 0.2432, 'grad_norm': 0.2751307189464569, 'learning_rate': 0.0001966882472630359, 'epoch': 91.37}\n"
     ]
    },
    {
     "data": {
      "application/vnd.jupyter.widget-view+json": {
       "model_id": "cb9b1cff1a864818a7294710d8830a27",
       "version_major": 2,
       "version_minor": 0
      },
      "text/plain": [
       "  0%|          | 0/70 [00:00<?, ?it/s]"
      ]
     },
     "metadata": {},
     "output_type": "display_data"
    },
    {
     "name": "stdout",
     "output_type": "stream",
     "text": [
      "{'eval_loss': 0.17110499739646912, 'eval_runtime': 20.5577, 'eval_samples_per_second': 870.819, 'eval_steps_per_second': 3.405, 'epoch': 91.37}\n",
      "{'loss': 0.2399, 'grad_norm': 0.12546609342098236, 'learning_rate': 0.00019294549243173282, 'epoch': 91.47}\n",
      "{'loss': 0.2449, 'grad_norm': 0.1636618673801422, 'learning_rate': 0.00018921618031405107, 'epoch': 91.56}\n",
      "{'loss': 0.2433, 'grad_norm': 0.10762351751327515, 'learning_rate': 0.0001855011895798257, 'epoch': 91.66}\n"
     ]
    },
    {
     "data": {
      "application/vnd.jupyter.widget-view+json": {
       "model_id": "bb86f5f9c39b4783952c76562e9f603f",
       "version_major": 2,
       "version_minor": 0
      },
      "text/plain": [
       "  0%|          | 0/70 [00:00<?, ?it/s]"
      ]
     },
     "metadata": {},
     "output_type": "display_data"
    },
    {
     "name": "stdout",
     "output_type": "stream",
     "text": [
      "{'eval_loss': 0.17919513583183289, 'eval_runtime': 20.4723, 'eval_samples_per_second': 874.45, 'eval_steps_per_second': 3.419, 'epoch': 91.7}\n",
      "{'loss': 0.241, 'grad_norm': 0.11461289972066879, 'learning_rate': 0.0001818013955246061, 'epoch': 91.76}\n",
      "{'loss': 0.2425, 'grad_norm': 0.20835573971271515, 'learning_rate': 0.00017811766986342513, 'epoch': 91.86}\n",
      "{'loss': 0.2421, 'grad_norm': 0.13303013145923615, 'learning_rate': 0.00017445088052541217, 'epoch': 91.95}\n"
     ]
    },
    {
     "data": {
      "application/vnd.jupyter.widget-view+json": {
       "model_id": "c9d030e94542422291400db533cbca91",
       "version_major": 2,
       "version_minor": 0
      },
      "text/plain": [
       "  0%|          | 0/70 [00:00<?, ?it/s]"
      ]
     },
     "metadata": {},
     "output_type": "display_data"
    },
    {
     "name": "stdout",
     "output_type": "stream",
     "text": [
      "{'eval_loss': 0.17243386805057526, 'eval_runtime': 22.826, 'eval_samples_per_second': 784.282, 'eval_steps_per_second': 3.067, 'epoch': 92.03}\n",
      "{'loss': 0.2393, 'grad_norm': 0.12796984612941742, 'learning_rate': 0.00017080189144930152, 'epoch': 92.05}\n",
      "{'loss': 0.2426, 'grad_norm': 0.2429453432559967, 'learning_rate': 0.00016717156237987363, 'epoch': 92.15}\n",
      "{'loss': 0.2373, 'grad_norm': 0.10572104901075363, 'learning_rate': 0.00016356074866539418, 'epoch': 92.25}\n",
      "{'loss': 0.2442, 'grad_norm': 0.17898622155189514, 'learning_rate': 0.00015997030105607967, 'epoch': 92.35}\n"
     ]
    },
    {
     "data": {
      "application/vnd.jupyter.widget-view+json": {
       "model_id": "a6ca0c0437d5475c913213e82271e769",
       "version_major": 2,
       "version_minor": 0
      },
      "text/plain": [
       "  0%|          | 0/70 [00:00<?, ?it/s]"
      ]
     },
     "metadata": {},
     "output_type": "display_data"
    },
    {
     "name": "stdout",
     "output_type": "stream",
     "text": [
      "{'eval_loss': 0.17098774015903473, 'eval_runtime': 20.8504, 'eval_samples_per_second': 858.592, 'eval_steps_per_second': 3.357, 'epoch': 92.36}\n",
      "{'loss': 0.2416, 'grad_norm': 0.0811309739947319, 'learning_rate': 0.0001564010655036531, 'epoch': 92.44}\n",
      "{'loss': 0.2468, 'grad_norm': 0.16852061450481415, 'learning_rate': 0.00015285388296202714, 'epoch': 92.54}\n",
      "{'loss': 0.2371, 'grad_norm': 0.19354066252708435, 'learning_rate': 0.00014932958918916552, 'epoch': 92.64}\n"
     ]
    },
    {
     "data": {
      "application/vnd.jupyter.widget-view+json": {
       "model_id": "81def390fce7435fae7ba6eccfeb6148",
       "version_major": 2,
       "version_minor": 0
      },
      "text/plain": [
       "  0%|          | 0/70 [00:00<?, ?it/s]"
      ]
     },
     "metadata": {},
     "output_type": "display_data"
    },
    {
     "name": "stdout",
     "output_type": "stream",
     "text": [
      "{'eval_loss': 0.17475271224975586, 'eval_runtime': 20.5299, 'eval_samples_per_second': 871.998, 'eval_steps_per_second': 3.41, 'epoch': 92.7}\n",
      "{'loss': 0.2441, 'grad_norm': 0.18122151494026184, 'learning_rate': 0.00014582901455016803, 'epoch': 92.74}\n",
      "{'loss': 0.2417, 'grad_norm': 0.1097908765077591, 'learning_rate': 0.00014235298382162908, 'epoch': 92.83}\n",
      "{'loss': 0.2348, 'grad_norm': 0.1216631531715393, 'learning_rate': 0.00013890231599730636, 'epoch': 92.93}\n",
      "{'loss': 0.2443, 'grad_norm': 0.13269288837909698, 'learning_rate': 0.0001354778240951614, 'epoch': 93.03}\n"
     ]
    },
    {
     "data": {
      "application/vnd.jupyter.widget-view+json": {
       "model_id": "d6f0a2567f2d43c697c49c8175027293",
       "version_major": 2,
       "version_minor": 0
      },
      "text/plain": [
       "  0%|          | 0/70 [00:00<?, ?it/s]"
      ]
     },
     "metadata": {},
     "output_type": "display_data"
    },
    {
     "name": "stdout",
     "output_type": "stream",
     "text": [
      "{'eval_loss': 0.1756056398153305, 'eval_runtime': 20.6563, 'eval_samples_per_second': 866.662, 'eval_steps_per_second': 3.389, 'epoch': 93.03}\n",
      "{'loss': 0.2438, 'grad_norm': 0.265606164932251, 'learning_rate': 0.00013208031496579837, 'epoch': 93.13}\n",
      "{'loss': 0.2413, 'grad_norm': 0.11980671435594559, 'learning_rate': 0.000128710589102363, 'epoch': 93.22}\n",
      "{'loss': 0.2383, 'grad_norm': 0.12842808663845062, 'learning_rate': 0.0001253694404519367, 'epoch': 93.32}\n"
     ]
    },
    {
     "data": {
      "application/vnd.jupyter.widget-view+json": {
       "model_id": "05ff58f4e5504cd6b235b20f2fb5cf00",
       "version_major": 2,
       "version_minor": 0
      },
      "text/plain": [
       "  0%|          | 0/70 [00:00<?, ?it/s]"
      ]
     },
     "metadata": {},
     "output_type": "display_data"
    },
    {
     "name": "stdout",
     "output_type": "stream",
     "text": [
      "{'eval_loss': 0.17694540321826935, 'eval_runtime': 20.5722, 'eval_samples_per_second': 870.203, 'eval_steps_per_second': 3.403, 'epoch': 93.36}\n",
      "{'loss': 0.2412, 'grad_norm': 0.08827926963567734, 'learning_rate': 0.00012205765622847245, 'epoch': 93.42}\n",
      "{'loss': 0.2438, 'grad_norm': 0.29424726963043213, 'learning_rate': 0.00011877601672732039, 'epoch': 93.52}\n",
      "{'loss': 0.2387, 'grad_norm': 0.20134404301643372, 'learning_rate': 0.00011552529514137732, 'epoch': 93.62}\n"
     ]
    },
    {
     "data": {
      "application/vnd.jupyter.widget-view+json": {
       "model_id": "c70d11bb94f04166acd149a432035140",
       "version_major": 2,
       "version_minor": 0
      },
      "text/plain": [
       "  0%|          | 0/70 [00:00<?, ?it/s]"
      ]
     },
     "metadata": {},
     "output_type": "display_data"
    },
    {
     "name": "stdout",
     "output_type": "stream",
     "text": [
      "{'eval_loss': 0.1730508655309677, 'eval_runtime': 20.5823, 'eval_samples_per_second': 869.775, 'eval_steps_per_second': 3.401, 'epoch': 93.69}\n",
      "{'loss': 0.2391, 'grad_norm': 0.1656409651041031, 'learning_rate': 0.0001123062573789154, 'epoch': 93.71}\n",
      "{'loss': 0.2386, 'grad_norm': 0.11484755575656891, 'learning_rate': 0.00010911966188312663, 'epoch': 93.81}\n",
      "{'loss': 0.2304, 'grad_norm': 0.11897580325603485, 'learning_rate': 0.00010596625945342139, 'epoch': 93.91}\n",
      "{'loss': 0.2412, 'grad_norm': 0.14731737971305847, 'learning_rate': 0.0001028467930685335, 'epoch': 94.01}\n"
     ]
    },
    {
     "data": {
      "application/vnd.jupyter.widget-view+json": {
       "model_id": "9bc106a80fd14c1da2befac7ec47f56e",
       "version_major": 2,
       "version_minor": 0
      },
      "text/plain": [
       "  0%|          | 0/70 [00:00<?, ?it/s]"
      ]
     },
     "metadata": {},
     "output_type": "display_data"
    },
    {
     "name": "stdout",
     "output_type": "stream",
     "text": [
      "{'eval_loss': 0.16911275684833527, 'eval_runtime': 20.4049, 'eval_samples_per_second': 877.339, 'eval_steps_per_second': 3.431, 'epoch': 94.03}\n",
      "{'loss': 0.2366, 'grad_norm': 0.13145768642425537, 'learning_rate': 9.976199771146521e-05, 'epoch': 94.1}\n",
      "{'loss': 0.2386, 'grad_norm': 0.11582446098327637, 'learning_rate': 9.671260019631587e-05, 'epoch': 94.2}\n",
      "{'loss': 0.2387, 'grad_norm': 0.13798238337039948, 'learning_rate': 9.369931899703812e-05, 'epoch': 94.3}\n"
     ]
    },
    {
     "data": {
      "application/vnd.jupyter.widget-view+json": {
       "model_id": "8e4f54538f974352b576bab98b794540",
       "version_major": 2,
       "version_minor": 0
      },
      "text/plain": [
       "  0%|          | 0/70 [00:00<?, ?it/s]"
      ]
     },
     "metadata": {},
     "output_type": "display_data"
    },
    {
     "name": "stdout",
     "output_type": "stream",
     "text": [
      "{'eval_loss': 0.17552565038204193, 'eval_runtime': 20.5347, 'eval_samples_per_second': 871.791, 'eval_steps_per_second': 3.409, 'epoch': 94.36}\n",
      "{'loss': 0.2343, 'grad_norm': 0.14293324947357178, 'learning_rate': 9.072286407815397e-05, 'epoch': 94.4}\n",
      "{'loss': 0.2398, 'grad_norm': 0.0875319242477417, 'learning_rate': 8.77839367274807e-05, 'epoch': 94.5}\n",
      "{'loss': 0.2378, 'grad_norm': 0.09753133356571198, 'learning_rate': 8.488322939089871e-05, 'epoch': 94.59}\n",
      "{'loss': 0.2353, 'grad_norm': 0.1292962282896042, 'learning_rate': 8.202142550920275e-05, 'epoch': 94.69}\n"
     ]
    },
    {
     "data": {
      "application/vnd.jupyter.widget-view+json": {
       "model_id": "2687801eeb744d1ab268c139bf080c5b",
       "version_major": 2,
       "version_minor": 0
      },
      "text/plain": [
       "  0%|          | 0/70 [00:00<?, ?it/s]"
      ]
     },
     "metadata": {},
     "output_type": "display_data"
    },
    {
     "name": "stdout",
     "output_type": "stream",
     "text": [
      "{'eval_loss': 0.17054717242717743, 'eval_runtime': 20.6857, 'eval_samples_per_second': 865.428, 'eval_steps_per_second': 3.384, 'epoch': 94.69}\n",
      "{'loss': 0.2343, 'grad_norm': 0.32209792733192444, 'learning_rate': 7.91991993570771e-05, 'epoch': 94.79}\n",
      "{'loss': 0.2324, 'grad_norm': 0.09671539068222046, 'learning_rate': 7.641721588422502e-05, 'epoch': 94.89}\n",
      "{'loss': 0.2392, 'grad_norm': 0.16897638142108917, 'learning_rate': 7.367613055870284e-05, 'epoch': 94.98}\n"
     ]
    },
    {
     "data": {
      "application/vnd.jupyter.widget-view+json": {
       "model_id": "6490febad6df4cac9dab65f6db9fbc27",
       "version_major": 2,
       "version_minor": 0
      },
      "text/plain": [
       "  0%|          | 0/70 [00:00<?, ?it/s]"
      ]
     },
     "metadata": {},
     "output_type": "display_data"
    },
    {
     "name": "stdout",
     "output_type": "stream",
     "text": [
      "{'eval_loss': 0.17316582798957825, 'eval_runtime': 20.5333, 'eval_samples_per_second': 871.852, 'eval_steps_per_second': 3.409, 'epoch': 95.02}\n",
      "{'loss': 0.2358, 'grad_norm': 0.32391098141670227, 'learning_rate': 7.097658921248041e-05, 'epoch': 95.08}\n",
      "{'loss': 0.2324, 'grad_norm': 0.10392794758081436, 'learning_rate': 6.831922788927752e-05, 'epoch': 95.18}\n",
      "{'loss': 0.2317, 'grad_norm': 0.09116321057081223, 'learning_rate': 6.570467269470398e-05, 'epoch': 95.28}\n"
     ]
    },
    {
     "data": {
      "application/vnd.jupyter.widget-view+json": {
       "model_id": "3035b4867ad54807b4dbf8282b9d2ea0",
       "version_major": 2,
       "version_minor": 0
      },
      "text/plain": [
       "  0%|          | 0/70 [00:00<?, ?it/s]"
      ]
     },
     "metadata": {},
     "output_type": "display_data"
    },
    {
     "name": "stdout",
     "output_type": "stream",
     "text": [
      "{'eval_loss': 0.1704256534576416, 'eval_runtime': 20.6493, 'eval_samples_per_second': 866.953, 'eval_steps_per_second': 3.39, 'epoch': 95.36}\n",
      "{'loss': 0.2318, 'grad_norm': 0.12945114076137543, 'learning_rate': 6.31335396487413e-05, 'epoch': 95.37}\n",
      "{'loss': 0.236, 'grad_norm': 0.10276967287063599, 'learning_rate': 6.060643454060319e-05, 'epoch': 95.47}\n",
      "{'loss': 0.2314, 'grad_norm': 0.1249583289027214, 'learning_rate': 5.812395278600127e-05, 'epoch': 95.57}\n",
      "{'loss': 0.2338, 'grad_norm': 0.23150970041751862, 'learning_rate': 5.568667928686036e-05, 'epoch': 95.67}\n"
     ]
    },
    {
     "data": {
      "application/vnd.jupyter.widget-view+json": {
       "model_id": "0748074f2e5b40fcb15abc1c6ce0bf79",
       "version_major": 2,
       "version_minor": 0
      },
      "text/plain": [
       "  0%|          | 0/70 [00:00<?, ?it/s]"
      ]
     },
     "metadata": {},
     "output_type": "display_data"
    },
    {
     "name": "stdout",
     "output_type": "stream",
     "text": [
      "{'eval_loss': 0.16853277385234833, 'eval_runtime': 20.7455, 'eval_samples_per_second': 862.936, 'eval_steps_per_second': 3.374, 'epoch': 95.69}\n",
      "{'loss': 0.2342, 'grad_norm': 0.5674315690994263, 'learning_rate': 5.3295188293508075e-05, 'epoch': 95.77}\n",
      "{'loss': 0.2319, 'grad_norm': 0.23219215869903564, 'learning_rate': 5.095004326937438e-05, 'epoch': 95.86}\n",
      "{'loss': 0.2368, 'grad_norm': 0.09438909590244293, 'learning_rate': 4.8651796758234475e-05, 'epoch': 95.96}\n"
     ]
    },
    {
     "data": {
      "application/vnd.jupyter.widget-view+json": {
       "model_id": "aec6df4b6ba345858ae6e0c24534c2d3",
       "version_major": 2,
       "version_minor": 0
      },
      "text/plain": [
       "  0%|          | 0/70 [00:00<?, ?it/s]"
      ]
     },
     "metadata": {},
     "output_type": "display_data"
    },
    {
     "name": "stdout",
     "output_type": "stream",
     "text": [
      "{'eval_loss': 0.17189885675907135, 'eval_runtime': 20.5174, 'eval_samples_per_second': 872.529, 'eval_steps_per_second': 3.412, 'epoch': 96.02}\n",
      "{'loss': 0.2369, 'grad_norm': 0.16669034957885742, 'learning_rate': 4.6400990254020584e-05, 'epoch': 96.06}\n",
      "{'loss': 0.2437, 'grad_norm': 0.17089298367500305, 'learning_rate': 4.419815407324091e-05, 'epoch': 96.16}\n",
      "{'loss': 0.2343, 'grad_norm': 0.22002013027668, 'learning_rate': 4.2043807230031846e-05, 'epoch': 96.25}\n",
      "{'loss': 0.2325, 'grad_norm': 0.15222105383872986, 'learning_rate': 3.993845731386997e-05, 'epoch': 96.35}\n"
     ]
    },
    {
     "data": {
      "application/vnd.jupyter.widget-view+json": {
       "model_id": "4d61e78ade2c4a1d9b7ed54ef3002d1d",
       "version_major": 2,
       "version_minor": 0
      },
      "text/plain": [
       "  0%|          | 0/70 [00:00<?, ?it/s]"
      ]
     },
     "metadata": {},
     "output_type": "display_data"
    },
    {
     "name": "stdout",
     "output_type": "stream",
     "text": [
      "{'eval_loss': 0.1666315197944641, 'eval_runtime': 20.5162, 'eval_samples_per_second': 872.577, 'eval_steps_per_second': 3.412, 'epoch': 96.35}\n",
      "{'loss': 0.2361, 'grad_norm': 0.11446087062358856, 'learning_rate': 3.78826003699794e-05, 'epoch': 96.45}\n",
      "{'loss': 0.2324, 'grad_norm': 0.20103973150253296, 'learning_rate': 3.587672078245738e-05, 'epoch': 96.55}\n",
      "{'loss': 0.2352, 'grad_norm': 0.17651844024658203, 'learning_rate': 3.3921291160147305e-05, 'epoch': 96.64}\n"
     ]
    },
    {
     "data": {
      "application/vnd.jupyter.widget-view+json": {
       "model_id": "b0cc51ad2bd24624803ba44557f3ba59",
       "version_major": 2,
       "version_minor": 0
      },
      "text/plain": [
       "  0%|          | 0/70 [00:00<?, ?it/s]"
      ]
     },
     "metadata": {},
     "output_type": "display_data"
    },
    {
     "name": "stdout",
     "output_type": "stream",
     "text": [
      "{'eval_loss': 0.17153474688529968, 'eval_runtime': 20.4811, 'eval_samples_per_second': 874.073, 'eval_steps_per_second': 3.418, 'epoch': 96.68}\n",
      "{'loss': 0.2326, 'grad_norm': 0.09765436500310898, 'learning_rate': 3.20167722252879e-05, 'epoch': 96.74}\n",
      "{'loss': 0.2348, 'grad_norm': 0.1190890297293663, 'learning_rate': 3.016361270495929e-05, 'epoch': 96.84}\n",
      "{'loss': 0.2334, 'grad_norm': 0.25292208790779114, 'learning_rate': 2.8362249225360236e-05, 'epoch': 96.94}\n"
     ]
    },
    {
     "data": {
      "application/vnd.jupyter.widget-view+json": {
       "model_id": "0f0c93ba701848a8ad81f07704adb915",
       "version_major": 2,
       "version_minor": 0
      },
      "text/plain": [
       "  0%|          | 0/70 [00:00<?, ?it/s]"
      ]
     },
     "metadata": {},
     "output_type": "display_data"
    },
    {
     "name": "stdout",
     "output_type": "stream",
     "text": [
      "{'eval_loss': 0.17679572105407715, 'eval_runtime': 20.388, 'eval_samples_per_second': 878.063, 'eval_steps_per_second': 3.433, 'epoch': 97.02}\n",
      "{'loss': 0.234, 'grad_norm': 0.19583004713058472, 'learning_rate': 2.661310620893162e-05, 'epoch': 97.04}\n",
      "{'loss': 0.2393, 'grad_norm': 0.1400134116411209, 'learning_rate': 2.4916595774358758e-05, 'epoch': 97.13}\n",
      "{'loss': 0.2334, 'grad_norm': 0.09703118354082108, 'learning_rate': 2.3273117639471097e-05, 'epoch': 97.23}\n",
      "{'loss': 0.2338, 'grad_norm': 0.12078266590833664, 'learning_rate': 2.1683059027063716e-05, 'epoch': 97.33}\n"
     ]
    },
    {
     "data": {
      "application/vnd.jupyter.widget-view+json": {
       "model_id": "48d4a371d08049b3b9851f5fd88a847f",
       "version_major": 2,
       "version_minor": 0
      },
      "text/plain": [
       "  0%|          | 0/70 [00:00<?, ?it/s]"
      ]
     },
     "metadata": {},
     "output_type": "display_data"
    },
    {
     "name": "stdout",
     "output_type": "stream",
     "text": [
      "{'eval_loss': 0.17346255481243134, 'eval_runtime': 20.6907, 'eval_samples_per_second': 865.218, 'eval_steps_per_second': 3.383, 'epoch': 97.35}\n",
      "{'loss': 0.2377, 'grad_norm': 0.1510593146085739, 'learning_rate': 2.014679457366425e-05, 'epoch': 97.43}\n",
      "{'loss': 0.2333, 'grad_norm': 0.1527087241411209, 'learning_rate': 1.866468624126236e-05, 'epoch': 97.52}\n",
      "{'loss': 0.2342, 'grad_norm': 0.14584168791770935, 'learning_rate': 1.7237083232027967e-05, 'epoch': 97.62}\n"
     ]
    },
    {
     "data": {
      "application/vnd.jupyter.widget-view+json": {
       "model_id": "6f616ddc168244109604d0e0b3e1f996",
       "version_major": 2,
       "version_minor": 0
      },
      "text/plain": [
       "  0%|          | 0/70 [00:00<?, ?it/s]"
      ]
     },
     "metadata": {},
     "output_type": "display_data"
    },
    {
     "name": "stdout",
     "output_type": "stream",
     "text": [
      "{'eval_loss': 0.1745244562625885, 'eval_runtime': 20.5465, 'eval_samples_per_second': 871.293, 'eval_steps_per_second': 3.407, 'epoch': 97.68}\n",
      "{'loss': 0.2375, 'grad_norm': 0.09758593887090683, 'learning_rate': 1.586432190603615e-05, 'epoch': 97.72}\n",
      "{'loss': 0.2247, 'grad_norm': 0.1091047152876854, 'learning_rate': 1.4546725702015012e-05, 'epoch': 97.82}\n",
      "{'loss': 0.236, 'grad_norm': 0.1023668572306633, 'learning_rate': 1.3284605061140764e-05, 'epoch': 97.92}\n",
      "{'loss': 0.2364, 'grad_norm': 0.11478593945503235, 'learning_rate': 1.2078257353893896e-05, 'epoch': 98.01}\n"
     ]
    },
    {
     "data": {
      "application/vnd.jupyter.widget-view+json": {
       "model_id": "7579e1a031c340a58ebbfaccf27de138",
       "version_major": 2,
       "version_minor": 0
      },
      "text/plain": [
       "  0%|          | 0/70 [00:00<?, ?it/s]"
      ]
     },
     "metadata": {},
     "output_type": "display_data"
    },
    {
     "name": "stdout",
     "output_type": "stream",
     "text": [
      "{'eval_loss': 0.1748385727405548, 'eval_runtime': 20.482, 'eval_samples_per_second': 874.037, 'eval_steps_per_second': 3.418, 'epoch': 98.01}\n",
      "{'loss': 0.2313, 'grad_norm': 0.1111203208565712, 'learning_rate': 1.0927966809995e-05, 'epoch': 98.11}\n",
      "{'loss': 0.2304, 'grad_norm': 0.1302027404308319, 'learning_rate': 9.834004451437644e-06, 'epoch': 98.21}\n",
      "{'loss': 0.2334, 'grad_norm': 0.10480593144893646, 'learning_rate': 8.796628028631321e-06, 'epoch': 98.31}\n"
     ]
    },
    {
     "data": {
      "application/vnd.jupyter.widget-view+json": {
       "model_id": "c47de57838af4961925c40c7ce59be0d",
       "version_major": 2,
       "version_minor": 0
      },
      "text/plain": [
       "  0%|          | 0/70 [00:00<?, ?it/s]"
      ]
     },
     "metadata": {},
     "output_type": "display_data"
    },
    {
     "name": "stdout",
     "output_type": "stream",
     "text": [
      "{'eval_loss': 0.1690494567155838, 'eval_runtime': 20.5176, 'eval_samples_per_second': 872.518, 'eval_steps_per_second': 3.412, 'epoch': 98.35}\n",
      "{'loss': 0.2342, 'grad_norm': 0.1044483557343483, 'learning_rate': 7.816081959673067e-06, 'epoch': 98.4}\n",
      "{'loss': 0.2327, 'grad_norm': 0.146499902009964, 'learning_rate': 6.892597272759538e-06, 'epoch': 98.5}\n",
      "{'loss': 0.2339, 'grad_norm': 0.08846041560173035, 'learning_rate': 6.026391551754024e-06, 'epoch': 98.6}\n"
     ]
    },
    {
     "data": {
      "application/vnd.jupyter.widget-view+json": {
       "model_id": "c0901bbbcf5d40c4aa0bf913b844d338",
       "version_major": 2,
       "version_minor": 0
      },
      "text/plain": [
       "  0%|          | 0/70 [00:00<?, ?it/s]"
      ]
     },
     "metadata": {},
     "output_type": "display_data"
    },
    {
     "name": "stdout",
     "output_type": "stream",
     "text": [
      "{'eval_loss': 0.17455825209617615, 'eval_runtime': 20.5201, 'eval_samples_per_second': 872.412, 'eval_steps_per_second': 3.411, 'epoch': 98.68}\n",
      "{'loss': 0.2314, 'grad_norm': 0.08269421011209488, 'learning_rate': 5.217668884921506e-06, 'epoch': 98.7}\n",
      "{'loss': 0.234, 'grad_norm': 0.13322927057743073, 'learning_rate': 4.466619816842293e-06, 'epoch': 98.79}\n",
      "{'loss': 0.2309, 'grad_norm': 0.0888635590672493, 'learning_rate': 3.773421303517988e-06, 'epoch': 98.89}\n",
      "{'loss': 0.2392, 'grad_norm': 0.3126307427883148, 'learning_rate': 3.1382366706787513e-06, 'epoch': 98.99}\n"
     ]
    },
    {
     "data": {
      "application/vnd.jupyter.widget-view+json": {
       "model_id": "2a556bc8bc7648ee866c1c856e58d939",
       "version_major": 2,
       "version_minor": 0
      },
      "text/plain": [
       "  0%|          | 0/70 [00:00<?, ?it/s]"
      ]
     },
     "metadata": {},
     "output_type": "display_data"
    },
    {
     "name": "stdout",
     "output_type": "stream",
     "text": [
      "{'eval_loss': 0.1750013530254364, 'eval_runtime': 20.7595, 'eval_samples_per_second': 862.352, 'eval_steps_per_second': 3.372, 'epoch': 99.01}\n",
      "{'loss': 0.2342, 'grad_norm': 0.14600642025470734, 'learning_rate': 2.561215575301312e-06, 'epoch': 99.09}\n",
      "{'loss': 0.234, 'grad_norm': 0.3547438681125641, 'learning_rate': 2.0424939703483083e-06, 'epoch': 99.19}\n",
      "{'loss': 0.229, 'grad_norm': 0.07592421025037766, 'learning_rate': 1.582194072736215e-06, 'epoch': 99.28}\n"
     ]
    },
    {
     "data": {
      "application/vnd.jupyter.widget-view+json": {
       "model_id": "ff5f367f760d4f18992333c154871dc3",
       "version_major": 2,
       "version_minor": 0
      },
      "text/plain": [
       "  0%|          | 0/70 [00:00<?, ?it/s]"
      ]
     },
     "metadata": {},
     "output_type": "display_data"
    },
    {
     "name": "stdout",
     "output_type": "stream",
     "text": [
      "{'eval_loss': 0.1723497211933136, 'eval_runtime': 20.5592, 'eval_samples_per_second': 870.754, 'eval_steps_per_second': 3.405, 'epoch': 99.34}\n",
      "{'loss': 0.231, 'grad_norm': 0.09746985137462616, 'learning_rate': 1.1804243345394373e-06, 'epoch': 99.38}\n",
      "{'loss': 0.2322, 'grad_norm': 0.08852792531251907, 'learning_rate': 8.372794174379416e-07, 'epoch': 99.48}\n",
      "{'loss': 0.2342, 'grad_norm': 0.1008717492222786, 'learning_rate': 5.528401704136543e-07, 'epoch': 99.58}\n",
      "{'loss': 0.2283, 'grad_norm': 0.11475269496440887, 'learning_rate': 3.2717361070153106e-07, 'epoch': 99.67}\n"
     ]
    },
    {
     "data": {
      "application/vnd.jupyter.widget-view+json": {
       "model_id": "e90a8f7fb4f74fa09c353c7c9232c6bc",
       "version_major": 2,
       "version_minor": 0
      },
      "text/plain": [
       "  0%|          | 0/70 [00:00<?, ?it/s]"
      ]
     },
     "metadata": {},
     "output_type": "display_data"
    },
    {
     "name": "stdout",
     "output_type": "stream",
     "text": [
      "{'eval_loss': 0.17102161049842834, 'eval_runtime': 20.6633, 'eval_samples_per_second': 866.366, 'eval_steps_per_second': 3.388, 'epoch': 99.67}\n",
      "{'loss': 0.2318, 'grad_norm': 0.08703790605068207, 'learning_rate': 1.6033290799952195e-07, 'epoch': 99.77}\n",
      "{'loss': 0.2368, 'grad_norm': 0.09965655952692032, 'learning_rate': 5.235737194120293e-08, 'epoch': 99.87}\n",
      "{'loss': 0.2376, 'grad_norm': 0.09385313093662262, 'learning_rate': 3.2724428340180632e-09, 'epoch': 99.97}\n",
      "{'train_runtime': 14027.39, 'train_samples_per_second': 559.071, 'train_steps_per_second': 2.189, 'train_loss': 0.2717477861289481, 'epoch': 100.0}\n"
     ]
    },
    {
     "data": {
      "text/plain": [
       "TrainOutput(global_step=30700, training_loss=0.2717477861289481, metrics={'train_runtime': 14027.39, 'train_samples_per_second': 559.071, 'train_steps_per_second': 2.189, 'total_flos': 0.0, 'train_loss': 0.2717477861289481, 'epoch': 100.0})"
      ]
     },
     "execution_count": 2,
     "metadata": {},
     "output_type": "execute_result"
    }
   ],
   "source": [
    "import sys\n",
    "sys.path.insert(0, './FirstMultiModel/EEGART')\n",
    "from transformers import Trainer, TrainingArguments\n",
    "import torch\n",
    "import torch.nn as nn\n",
    "import numpy as np\n",
    "\n",
    "import torch\n",
    "from torch.utils.data import Dataset, DataLoader\n",
    "from SLT_dataloader import RandonMaskShuffleEEGDataCollator, RandonMaskDataCollator, RandonMaskEEGDataCollator\n",
    "\n",
    "from tf_config import SLTConfig\n",
    "from tf_model import SLTModel, SLTModel_ver2, SLTModel_with_PosEmbed\n",
    "from datetime import datetime\n",
    "\n",
    "# 获取当前日期时间，并格式化为 YYYYMMDD\n",
    "current_date = datetime.now().strftime(\"%Y%m%d_%H%M%S\")\n",
    "\n",
    "# 替换路径中的日期\n",
    "runname = \"channel shuffle EEG Channel Position Encoding without decoder\"\n",
    "output_dir = f\"./results_eeg/{runname}_{current_date}\"\n",
    "\n",
    "# 假設你的設備是 GPU\n",
    "device = torch.device(\"cuda:0\" if torch.cuda.is_available() else \"cpu\")\n",
    "\n",
    "\"\"\"\n",
    "    Parameters:\n",
    "    \n",
    "\"\"\"\n",
    "# src_channel_size = 30\n",
    "# tgt_channel_size = 204\n",
    "# N = 4\n",
    "# source_voxel_time = 51\n",
    "# sensor_time = 51\n",
    "# tgt_d_model = 51\n",
    "# slt_config_fname = \"test_slt_confit\"\n",
    "\n",
    "# 包裝自定義的初始化方法\n",
    "def huggingface_model_init():\n",
    "    \n",
    "    src_len = 30\n",
    "    tgt_len = 30 # atlas size \n",
    "    N = 4\n",
    "    source_voxel_time = 101\n",
    "    sensor_time = 101\n",
    "    d_model = 512\n",
    "    slt_config_fname = \"test_slt_confit\"\n",
    "    \n",
    "    slt_config = SLTConfig(src_len=src_len, tgt_len=tgt_len, N=N,\n",
    "                           source_voxel_time=source_voxel_time, sensor_time=sensor_time, d_model=d_model)\n",
    "    slt_config.save_pretrained(slt_config_fname)\n",
    "    slt_model = SLTModel_with_PosEmbed(slt_config)\n",
    "    slt_model = slt_model.to(device)\n",
    "    for p in slt_model.parameters():\n",
    "        if p.dim() > 1:\n",
    "            torch.nn.init.xavier_uniform_(p)\n",
    "    return slt_model\n",
    "\n",
    "# def huggingface_model_init():\n",
    "#     # 指定 checkpoint 的路徑\n",
    "#     checkpoint_path = \"./results_eeg/channel shuffle EEG Power masked first train_20250513_134754/checkpoint-11973\"\n",
    "#     # 載入 config\n",
    "#     config = SLTConfig.from_pretrained(checkpoint_path)\n",
    "#     # 載入 model\n",
    "#     model = SLTModel_with_PosEmbed.from_pretrained(checkpoint_path, config=config)\n",
    "#     model = model.to(device)\n",
    "#     return model\n",
    "\n",
    "batch_size = 256\n",
    "training_args = TrainingArguments(\n",
    "    output_dir=output_dir,\n",
    "    run_name = runname,\n",
    "    eval_strategy=\"steps\",\n",
    "    per_device_train_batch_size=batch_size,   # training batch size\n",
    "    per_device_eval_batch_size=batch_size,    # test batch size\n",
    "    eval_steps= int((train_data_len/batch_size)/3),  # eval steps= 1/3 steps of one epoch\n",
    "    eval_accumulation_steps= 4,        \n",
    "    num_train_epochs=100,              # epoch\n",
    "    weight_decay=0.01,                 # \n",
    "    learning_rate = 0.0005,\n",
    "    lr_scheduler_type = \"cosine_with_restarts\",\n",
    "    lr_scheduler_kwargs = {\"num_cycles\":5},\n",
    "    # fp16=True,\n",
    "    save_strategy=\"epoch\",\n",
    "    logging_dir=\"./logs\",\n",
    "    logging_steps= int((train_data_len/batch_size)/10),\n",
    "    report_to=\"wandb\",\n",
    "    dataloader_num_workers=8,  # 🚀 Use multiple workers\n",
    "    dataloader_pin_memory=True,  # 🚀 Reduce CPU-GPU data transfer time\n",
    ")\n",
    "\"\"\"\n",
    "“linear” = get_linear_schedule_with_warmup\n",
    "“cosine” = get_cosine_schedule_with_warmup\n",
    "“cosine_with_restarts” = get_cosine_with_hard_restarts_schedule_with_warmup\n",
    "“polynomial” = get_polynomial_decay_schedule_with_warmup\n",
    "“constant” = get_constant_schedule\n",
    "“constant_with_warmup” = get_constant_schedule_with_warmup\n",
    "“inverse_sqrt” = get_inverse_sqrt_schedule\n",
    "“reduce_lr_on_plateau” = get_reduce_on_plateau_schedule\n",
    "“cosine_with_min_lr” = get_cosine_with_min_lr_schedule_with_warmup\n",
    "“warmup_stable_decay” = get_wsd_schedule\n",
    "\"\"\"\n",
    "# 初始化模型和 Trainer\n",
    "trainer = Trainer(\n",
    "    # model=slt_model,\n",
    "    model_init=huggingface_model_init,\n",
    "    args=training_args,\n",
    "    train_dataset=train_merge_dataset,\n",
    "    eval_dataset=test_merge_dataset,\n",
    "    data_collator=RandonMaskShuffleEEGDataCollator(mask_prob=0.3)\n",
    ")\n",
    "\n",
    "# 开始训练\n",
    "trainer.train()"
   ]
  },
  {
   "cell_type": "code",
   "execution_count": null,
   "metadata": {},
   "outputs": [],
   "source": []
  }
 ],
 "metadata": {
  "kernelspec": {
   "display_name": "huggingface",
   "language": "python",
   "name": "python3"
  },
  "language_info": {
   "codemirror_mode": {
    "name": "ipython",
    "version": 3
   },
   "file_extension": ".py",
   "mimetype": "text/x-python",
   "name": "python",
   "nbconvert_exporter": "python",
   "pygments_lexer": "ipython3",
   "version": "3.12.7"
  }
 },
 "nbformat": 4,
 "nbformat_minor": 4
}
