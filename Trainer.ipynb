{
 "cells": [
  {
   "cell_type": "markdown",
   "metadata": {},
   "source": [
    "## SLT Trainer"
   ]
  },
  {
   "cell_type": "markdown",
   "metadata": {},
   "source": [
    "#### DataLoader"
   ]
  },
  {
   "cell_type": "code",
   "execution_count": null,
   "metadata": {
    "collapsed": true,
    "jupyter": {
     "outputs_hidden": true
    },
    "scrolled": true
   },
   "outputs": [],
   "source": [
    "import sys\n",
    "sys.path.insert(0, './Dataloader')\n",
    "from SLT_dataloader import EEGROIDataset, SignalDataCollator, EEGROI_fft_Dataset, EEGROI_Power_Dataset\n",
    "\n",
    "# Usage example\n",
    "roi_folder = \"G:\\\\共用雲端硬碟\\\\CNElab_陳昱祺\\\\source localization\\\\test_data\\\\ROI\\\\Desikan_Kilianny_with_3pca\"\n",
    "eeg_folder = \"G:\\\\共用雲端硬碟\\\\CNElab_陳昱祺\\\\source localization\\\\test_data\\\\ROI\\\\Desikan_Kilianny_with_3pca\"\n",
    "group_file = \"./Dataloader/subject_groups.json\"\n",
    "# segment_file = \"G:\\\\共用雲端硬碟\\\\CNElab_陳昱祺\\\\source localization\\\\test_data\\\\RO\\I\\Desikan_Kilianny_with_3pca\\\\roi_removal_segment.txt\"\n",
    "\n",
    "# Create dataset\n",
    "train_dataset = EEGROI_fft_Dataset(roi_folder, eeg_folder, group_file, \"train_dataset\" )\n",
    "print(f\"\\n\\n================================================\\n\")\n",
    "print(f\"Total dataset size: {len(train_dataset)}\")\n",
    "print(f\"\\n================================================\\n\\n\")\n",
    "# Create dataset\n",
    "test_dataset = EEGROI_fft_Dataset(roi_folder, eeg_folder, group_file, \"test_eval\")\n",
    "print(f\"\\n================================================\\n\")\n",
    "print(f\"Total eval dataset size: {len(test_dataset)}\")"
   ]
  },
  {
   "cell_type": "markdown",
   "metadata": {},
   "source": [
    "### Simulate Dataset"
   ]
  },
  {
   "cell_type": "code",
   "execution_count": null,
   "metadata": {
    "collapsed": true,
    "jupyter": {
     "outputs_hidden": true
    }
   },
   "outputs": [],
   "source": [
    "import sys\n",
    "sys.path.insert(0, './Dataloader')\n",
    "from SLT_dataloader import EEGROIDataset, SignalDataCollator, EEGROI_fft_Dataset, EEGROI_Power_Dataset\n",
    "\n",
    "train_path = \"G:\\\\共用雲端硬碟\\CNElab_陳昱祺\\\\source localization\\\\simulate_data\\\\training_data\\\\\"    # dataset_seedsource_5000_1000000.0_20250402_065238\n",
    "test_path =   \"G:\\\\共用雲端硬碟\\\\CNElab_陳昱祺\\\\source localization\\\\test_data\\\\ROI\\\\Desikan_Kilianny_with_3pca\\\\\"\n",
    "group_file = \"./Dataloader/subject_groups.json\"\n",
    "\n",
    "# Create dataset\n",
    "train_dataset = EEGROI_Power_Dataset(train_path)\n",
    "print(f\"\\n\\n================================================\\n\")\n",
    "print(f\"Total dataset size: {len(train_dataset)}\")\n",
    "print(f\"\\n================================================\\n\\n\")\n",
    "# Create dataset\n",
    "test_dataset = EEGROI_fft_Dataset(test_path, test_path, group_file, \"train_dataset\")\n",
    "print(f\"\\n================================================\\n\")\n",
    "print(f\"Total eval dataset size: {len(test_dataset)}\")"
   ]
  },
  {
   "cell_type": "markdown",
   "metadata": {},
   "source": [
    "### Merge Dataset"
   ]
  },
  {
   "cell_type": "code",
   "execution_count": null,
   "metadata": {},
   "outputs": [
    {
     "name": "stdout",
     "output_type": "stream",
     "text": [
      "EEG Power shape: torch.Size([20000, 30, 100])\n",
      "Source Power shape: torch.Size([20000, 204, 100])\n",
      "EEG Power shape: torch.Size([20000, 30, 100])\n",
      "Source Power shape: torch.Size([20000, 204, 100])\n",
      "EEG Power shape: torch.Size([20000, 30, 100])\n",
      "Source Power shape: torch.Size([20000, 204, 100])\n",
      "EEG Power shape: torch.Size([20000, 30, 100])\n",
      "Source Power shape: torch.Size([20000, 204, 100])\n",
      "EEG Power shape: torch.Size([20000, 30, 100])\n",
      "Source Power shape: torch.Size([20000, 204, 100])\n",
      "['1', '2', '3', '4', '5', '6', '7', '8', '9', '10', '11', '12', '13', '14', '15', '16', '17', '18', '19', '20', '21', '22', '23', '24', '25', '26', '27', '28', '29', '30', '31', '32', '33', '34', '35', '36', '37', '38', '39', '40', '41', '42', '43', '44', '45', '46', '47', '48', '49', '50', '51', '52', '53', '54', '55', '56', '57', '58', '59', '60', '61', '62', '63', '64', '65', '66', '67', '68', '69', '70', '71', '72', '73', '74', '75', '76', '77', '78', '79', '80', '81', '82', '83', '84', '85', '86', '87', '88', '89', '90', '91', '92', '93', '94', '95', '96', '97', '98', '99', '100', '101', '102', '103', '104', '105', '106', '107', '108', '109', '110', '111', '112', '113', '114', '115', '116', '117', '118', '119', '120', '121', '122', '123', '124', '125', '126', '127', '128', '129', '130', '131', '132', '133', '134', '135', '136', '137', '138', '139', '140', '141', '142', '143', '144', '145', '146', '147', '148', '149', '150', '151', '152', '153', '154', '155', '156', '157', '158', '159', '160', '161', '162', '163', '164', '165', '166']\n",
      "EEG Power shape: torch.Size([30, 100])\n",
      "Source Power shape: torch.Size([204, 100])\n",
      "\n",
      "\n",
      "================================================\n",
      "\n",
      "Total dataset size: 123950\n",
      "\n",
      "================================================\n",
      "\n",
      "\n",
      "['167', '168', '169', '170', '171', '172', '173', '174', '175', '176', '177', '178', '179', '180', '181', '182', '183', '184', '185', '186', '187', '188', '189', '190', '191', '192', '193', '194', '195', '196', '197', '198', '199', '200', '202', '203', '204', '205', '206', '207', '208', '209', '210', '211', '212', '213', '214', '215', '216', '217', '218', '219', '220', '221', '222', '223', '224', '225', '226', '227', '228', '229', '230', '231', '232', '233', '234', '235', '236', '237', '238', '239', '240', '241', '242', '243', '244', '245', '246', '247', '248', '249', '250']\n",
      "EEG Power shape: torch.Size([30, 100])\n",
      "Source Power shape: torch.Size([204, 100])\n",
      "EEG Power shape: torch.Size([14000, 30, 100])\n",
      "Source Power shape: torch.Size([14000, 204, 100])\n",
      "\n",
      "================================================\n",
      "\n",
      "Total eval dataset size: 35932\n"
     ]
    }
   ],
   "source": [
    "import sys\n",
    "sys.path.insert(0, './Dataloader')\n",
    "from SLT_dataloader import EEGROIDataset, SignalDataCollator, EEGROI_fft_Dataset, EEGROI_Power_Dataset, EEGROI_Merge_Dataset\n",
    "\n",
    "data_path_1 = \"C:\\\\Users\\\\user\\\\Desktop\\\\Source Localization\\\\Source-Localization-Simulation\\\\simulate_data\\\\dataset_seedsource_100tp1000_2000_10_20250428_174623\\\\\"\n",
    "data_path_2 = \"C:\\\\Users\\\\user\\\\Desktop\\\\Source Localization\\\\Source-Localization-Simulation\\\\simulate_data\\\\dataset_seedsource_100to1000_2000_1000000.0_20250428_174549\\\\\"\n",
    "data_path_3 = \"C:\\\\Users\\\\user\\\\Desktop\\\\Source Localization\\\\Source-Localization-Simulation\\\\simulate_data\\\\dataset_seedsource_100to1000_2000_1_20250428_174640\\\\\"\n",
    "data_path_4 = \"C:\\\\Users\\\\user\\\\Desktop\\\\Source Localization\\\\Source-Localization-Simulation\\\\simulate_data\\\\dataset_seedsource_2to100_2000_10_20250428_201233\\\\\"\n",
    "data_path_5 = \"C:\\\\Users\\\\user\\\\Desktop\\\\Source Localization\\\\Source-Localization-Simulation\\\\simulate_data\\\\dataset_seedsource_2to100_2000_1000000.0_20250428_201134\\\\\"\n",
    "test_path = \"C:\\\\Users\\\\user\\\\Desktop\\\\Source Localization\\\\Desikan_Kilianny_with_3pca\\\\\"\n",
    "group_file = \"./Dataloader/subject_groups.json\"\n",
    "\n",
    "dataset_1 = EEGROI_Power_Dataset(data_path_1)\n",
    "dataset_2 = EEGROI_Power_Dataset(data_path_2)\n",
    "dataset_3 = EEGROI_Power_Dataset(data_path_3)\n",
    "dataset_4 = EEGROI_Power_Dataset(data_path_2)\n",
    "dataset_5 = EEGROI_Power_Dataset(data_path_3)\n",
    "dataset_6 = EEGROI_fft_Dataset(test_path, test_path, group_file, \"train_dataset\")\n",
    "\n",
    "merge_dataset = EEGROI_Merge_Dataset([dataset_1, dataset_2, dataset_3, dataset_4, dataset_5, dataset_6])\n",
    "train_data_len = len(merge_dataset)\n",
    "print(f\"\\n\\n================================================\\n\")\n",
    "print(f\"Total dataset size: {train_data_len}\")\n",
    "print(f\"\\n================================================\\n\\n\")\n",
    "\n",
    "test_dataset_1 = EEGROI_fft_Dataset(test_path, test_path, group_file, \"test_dataset_temp\")\n",
    "test_data_path = \"C:\\\\Users\\\\user\\\\Desktop\\\\Source Localization\\\\Source-Localization-Simulation\\\\simulate_data\\\\dataset_seedsource_2to100_2000_1_20250429_144003\\\\\"\n",
    "test_dataset_2 = EEGROI_Power_Dataset(test_data_path)\n",
    "merge_eval_dataset = EEGROI_Merge_Dataset([test_dataset_1, test_dataset_2])\n",
    "test_data_len = len(merge_eval_dataset)\n",
    "print(f\"\\n================================================\\n\")\n",
    "print(f\"Total eval dataset size: {test_data_len}\")"
   ]
  },
  {
   "cell_type": "markdown",
   "metadata": {},
   "source": [
    "#### Model"
   ]
  },
  {
   "cell_type": "code",
   "execution_count": null,
   "metadata": {
    "scrolled": true
   },
   "outputs": [
    {
     "name": "stderr",
     "output_type": "stream",
     "text": [
      "wandb: Using wandb-core as the SDK backend.  Please refer to https://wandb.me/wandb-core for more information.\n",
      "wandb: Currently logged in as: richielp700 (richielp700-national-tsing-hua-university). Use `wandb login --relogin` to force relogin\n"
     ]
    },
    {
     "data": {
      "text/html": [
       "Tracking run with wandb version 0.19.1"
      ],
      "text/plain": [
       "<IPython.core.display.HTML object>"
      ]
     },
     "metadata": {},
     "output_type": "display_data"
    },
    {
     "data": {
      "text/html": [
       "Run data is saved locally in <code>c:\\Users\\user\\Desktop\\Source Localization\\Huggingface-ART-Transformer\\wandb\\run-20250430_023324-2adku755</code>"
      ],
      "text/plain": [
       "<IPython.core.display.HTML object>"
      ]
     },
     "metadata": {},
     "output_type": "display_data"
    },
    {
     "data": {
      "text/html": [
       "Syncing run <strong><a href='https://wandb.ai/richielp700-national-tsing-hua-university/huggingface/runs/2adku755' target=\"_blank\">mask_prob_08_tgtwithoutEEG_learnable_position_</a></strong> to <a href='https://wandb.ai/richielp700-national-tsing-hua-university/huggingface' target=\"_blank\">Weights & Biases</a> (<a href='https://wandb.me/developer-guide' target=\"_blank\">docs</a>)<br>"
      ],
      "text/plain": [
       "<IPython.core.display.HTML object>"
      ]
     },
     "metadata": {},
     "output_type": "display_data"
    },
    {
     "data": {
      "text/html": [
       " View project at <a href='https://wandb.ai/richielp700-national-tsing-hua-university/huggingface' target=\"_blank\">https://wandb.ai/richielp700-national-tsing-hua-university/huggingface</a>"
      ],
      "text/plain": [
       "<IPython.core.display.HTML object>"
      ]
     },
     "metadata": {},
     "output_type": "display_data"
    },
    {
     "data": {
      "text/html": [
       " View run at <a href='https://wandb.ai/richielp700-national-tsing-hua-university/huggingface/runs/2adku755' target=\"_blank\">https://wandb.ai/richielp700-national-tsing-hua-university/huggingface/runs/2adku755</a>"
      ],
      "text/plain": [
       "<IPython.core.display.HTML object>"
      ]
     },
     "metadata": {},
     "output_type": "display_data"
    },
    {
     "data": {
      "application/vnd.jupyter.widget-view+json": {
       "model_id": "e825280d4d5e43a2976396b1d6778374",
       "version_major": 2,
       "version_minor": 0
      },
      "text/plain": [
       "  0%|          | 0/48500 [00:00<?, ?it/s]"
      ]
     },
     "metadata": {},
     "output_type": "display_data"
    },
    {
     "name": "stderr",
     "output_type": "stream",
     "text": [
      "Could not estimate the number of tokens of the input, floating-point operations will not be computed\n"
     ]
    },
    {
     "name": "stdout",
     "output_type": "stream",
     "text": [
      "{'loss': 1.3294, 'grad_norm': 0.14074890315532684, 'learning_rate': 0.0005, 'epoch': 0.1}\n",
      "{'loss': 1.1341, 'grad_norm': 0.08792014420032501, 'learning_rate': 0.0005, 'epoch': 0.2}\n",
      "{'loss': 1.1152, 'grad_norm': 0.15132112801074982, 'learning_rate': 0.0005, 'epoch': 0.3}\n"
     ]
    },
    {
     "data": {
      "application/vnd.jupyter.widget-view+json": {
       "model_id": "d542e502d8f34b01b6f8f60d4eefaa7a",
       "version_major": 2,
       "version_minor": 0
      },
      "text/plain": [
       "  0%|          | 0/141 [00:00<?, ?it/s]"
      ]
     },
     "metadata": {},
     "output_type": "display_data"
    },
    {
     "name": "stdout",
     "output_type": "stream",
     "text": [
      "{'eval_loss': 0.7847193479537964, 'eval_runtime': 82.5007, 'eval_samples_per_second': 435.536, 'eval_steps_per_second': 1.709, 'epoch': 0.33}\n",
      "{'loss': 1.1059, 'grad_norm': 0.09433960169553757, 'learning_rate': 0.0005, 'epoch': 0.4}\n",
      "{'loss': 1.0906, 'grad_norm': 0.08126430213451385, 'learning_rate': 0.0005, 'epoch': 0.49}\n",
      "{'loss': 1.068, 'grad_norm': 0.32163459062576294, 'learning_rate': 0.0005, 'epoch': 0.59}\n"
     ]
    },
    {
     "data": {
      "application/vnd.jupyter.widget-view+json": {
       "model_id": "bb09e53fa73b4a5da37fb0c620eac223",
       "version_major": 2,
       "version_minor": 0
      },
      "text/plain": [
       "  0%|          | 0/141 [00:00<?, ?it/s]"
      ]
     },
     "metadata": {},
     "output_type": "display_data"
    },
    {
     "name": "stdout",
     "output_type": "stream",
     "text": [
      "{'eval_loss': 0.6653825044631958, 'eval_runtime': 79.5285, 'eval_samples_per_second': 451.813, 'eval_steps_per_second': 1.773, 'epoch': 0.66}\n",
      "{'loss': 0.9925, 'grad_norm': 0.22941996157169342, 'learning_rate': 0.0005, 'epoch': 0.69}\n",
      "{'loss': 0.9371, 'grad_norm': 0.2816348671913147, 'learning_rate': 0.0005, 'epoch': 0.79}\n",
      "{'loss': 0.9141, 'grad_norm': 0.25347694754600525, 'learning_rate': 0.0005, 'epoch': 0.89}\n",
      "{'loss': 0.9013, 'grad_norm': 0.2229492962360382, 'learning_rate': 0.0005, 'epoch': 0.99}\n"
     ]
    },
    {
     "data": {
      "application/vnd.jupyter.widget-view+json": {
       "model_id": "8102787fccd249549483a917c6ee947b",
       "version_major": 2,
       "version_minor": 0
      },
      "text/plain": [
       "  0%|          | 0/141 [00:00<?, ?it/s]"
      ]
     },
     "metadata": {},
     "output_type": "display_data"
    },
    {
     "name": "stdout",
     "output_type": "stream",
     "text": [
      "{'eval_loss': 0.5902153849601746, 'eval_runtime': 79.3508, 'eval_samples_per_second': 452.825, 'eval_steps_per_second': 1.777, 'epoch': 1.0}\n",
      "{'loss': 0.8891, 'grad_norm': 0.23566961288452148, 'learning_rate': 0.0005, 'epoch': 1.09}\n",
      "{'loss': 0.8788, 'grad_norm': 0.226396381855011, 'learning_rate': 0.0005, 'epoch': 1.19}\n",
      "{'loss': 0.8748, 'grad_norm': 0.2014733999967575, 'learning_rate': 0.0005, 'epoch': 1.29}\n"
     ]
    },
    {
     "data": {
      "application/vnd.jupyter.widget-view+json": {
       "model_id": "20b79e2dc6b940b986847030c5eda47c",
       "version_major": 2,
       "version_minor": 0
      },
      "text/plain": [
       "  0%|          | 0/141 [00:00<?, ?it/s]"
      ]
     },
     "metadata": {},
     "output_type": "display_data"
    },
    {
     "name": "stdout",
     "output_type": "stream",
     "text": [
      "{'eval_loss': 0.5648740530014038, 'eval_runtime': 79.3547, 'eval_samples_per_second': 452.803, 'eval_steps_per_second': 1.777, 'epoch': 1.33}\n",
      "{'loss': 0.8684, 'grad_norm': 0.24720531702041626, 'learning_rate': 0.0005, 'epoch': 1.39}\n",
      "{'loss': 0.8652, 'grad_norm': 0.18975265324115753, 'learning_rate': 0.0005, 'epoch': 1.48}\n",
      "{'loss': 0.8614, 'grad_norm': 0.19289857149124146, 'learning_rate': 0.0005, 'epoch': 1.58}\n"
     ]
    },
    {
     "data": {
      "application/vnd.jupyter.widget-view+json": {
       "model_id": "955cfafb17154713a12e724aa475f1c1",
       "version_major": 2,
       "version_minor": 0
      },
      "text/plain": [
       "  0%|          | 0/141 [00:00<?, ?it/s]"
      ]
     },
     "metadata": {},
     "output_type": "display_data"
    },
    {
     "name": "stdout",
     "output_type": "stream",
     "text": [
      "{'eval_loss': 0.5567750930786133, 'eval_runtime': 79.2344, 'eval_samples_per_second': 453.49, 'eval_steps_per_second': 1.78, 'epoch': 1.66}\n",
      "{'loss': 0.8605, 'grad_norm': 0.21481718122959137, 'learning_rate': 0.0005, 'epoch': 1.68}\n",
      "{'loss': 0.8544, 'grad_norm': 0.22129876911640167, 'learning_rate': 0.0005, 'epoch': 1.78}\n",
      "{'loss': 0.8592, 'grad_norm': 0.2644212543964386, 'learning_rate': 0.0005, 'epoch': 1.88}\n",
      "{'loss': 0.8551, 'grad_norm': 0.24052409827709198, 'learning_rate': 0.0005, 'epoch': 1.98}\n"
     ]
    },
    {
     "data": {
      "application/vnd.jupyter.widget-view+json": {
       "model_id": "618291173ff54379853f08afe9d3c028",
       "version_major": 2,
       "version_minor": 0
      },
      "text/plain": [
       "  0%|          | 0/141 [00:00<?, ?it/s]"
      ]
     },
     "metadata": {},
     "output_type": "display_data"
    },
    {
     "name": "stdout",
     "output_type": "stream",
     "text": [
      "{'eval_loss': 0.5446452498435974, 'eval_runtime': 79.6826, 'eval_samples_per_second': 450.939, 'eval_steps_per_second': 1.77, 'epoch': 1.99}\n",
      "{'loss': 0.8592, 'grad_norm': 0.24776087701320648, 'learning_rate': 0.0005, 'epoch': 2.08}\n",
      "{'loss': 0.8504, 'grad_norm': 0.18673661351203918, 'learning_rate': 0.0005, 'epoch': 2.18}\n",
      "{'loss': 0.8508, 'grad_norm': 0.15677186846733093, 'learning_rate': 0.0005, 'epoch': 2.28}\n"
     ]
    },
    {
     "data": {
      "application/vnd.jupyter.widget-view+json": {
       "model_id": "58df362420344fce9c937c499bce4042",
       "version_major": 2,
       "version_minor": 0
      },
      "text/plain": [
       "  0%|          | 0/141 [00:00<?, ?it/s]"
      ]
     },
     "metadata": {},
     "output_type": "display_data"
    },
    {
     "name": "stdout",
     "output_type": "stream",
     "text": [
      "{'eval_loss': 0.5303796529769897, 'eval_runtime': 80.1386, 'eval_samples_per_second': 448.373, 'eval_steps_per_second': 1.759, 'epoch': 2.32}\n",
      "{'loss': 0.8488, 'grad_norm': 0.17091187834739685, 'learning_rate': 0.0005, 'epoch': 2.38}\n",
      "{'loss': 0.8474, 'grad_norm': 0.20716357231140137, 'learning_rate': 0.0005, 'epoch': 2.47}\n",
      "{'loss': 0.8454, 'grad_norm': 0.18973737955093384, 'learning_rate': 0.0005, 'epoch': 2.57}\n"
     ]
    },
    {
     "data": {
      "application/vnd.jupyter.widget-view+json": {
       "model_id": "46ce6f3ce72047838507242784834504",
       "version_major": 2,
       "version_minor": 0
      },
      "text/plain": [
       "  0%|          | 0/141 [00:00<?, ?it/s]"
      ]
     },
     "metadata": {},
     "output_type": "display_data"
    },
    {
     "name": "stdout",
     "output_type": "stream",
     "text": [
      "{'eval_loss': 0.5301218628883362, 'eval_runtime': 79.4778, 'eval_samples_per_second': 452.101, 'eval_steps_per_second': 1.774, 'epoch': 2.66}\n",
      "{'loss': 0.8535, 'grad_norm': 0.21721670031547546, 'learning_rate': 0.0005, 'epoch': 2.67}\n",
      "{'loss': 0.8481, 'grad_norm': 0.23413068056106567, 'learning_rate': 0.0005, 'epoch': 2.77}\n",
      "{'loss': 0.8449, 'grad_norm': 0.2013205736875534, 'learning_rate': 0.0005, 'epoch': 2.87}\n",
      "{'loss': 0.8633, 'grad_norm': 0.1982804834842682, 'learning_rate': 0.0005, 'epoch': 2.97}\n"
     ]
    },
    {
     "data": {
      "application/vnd.jupyter.widget-view+json": {
       "model_id": "d985a48ff23a45b186f8285167356685",
       "version_major": 2,
       "version_minor": 0
      },
      "text/plain": [
       "  0%|          | 0/141 [00:00<?, ?it/s]"
      ]
     },
     "metadata": {},
     "output_type": "display_data"
    },
    {
     "name": "stdout",
     "output_type": "stream",
     "text": [
      "{'eval_loss': 0.5379372239112854, 'eval_runtime': 79.3184, 'eval_samples_per_second': 453.009, 'eval_steps_per_second': 1.778, 'epoch': 2.99}\n",
      "{'loss': 0.8581, 'grad_norm': 0.19495946168899536, 'learning_rate': 0.0005, 'epoch': 3.07}\n",
      "{'loss': 0.853, 'grad_norm': 0.21461136639118195, 'learning_rate': 0.0005, 'epoch': 3.17}\n",
      "{'loss': 0.8457, 'grad_norm': 0.21926282346248627, 'learning_rate': 0.0005, 'epoch': 3.27}\n"
     ]
    },
    {
     "data": {
      "application/vnd.jupyter.widget-view+json": {
       "model_id": "927213ad90b54ba4a0514949c18dfede",
       "version_major": 2,
       "version_minor": 0
      },
      "text/plain": [
       "  0%|          | 0/141 [00:00<?, ?it/s]"
      ]
     },
     "metadata": {},
     "output_type": "display_data"
    },
    {
     "name": "stdout",
     "output_type": "stream",
     "text": [
      "{'eval_loss': 0.5120285749435425, 'eval_runtime': 79.0881, 'eval_samples_per_second': 454.329, 'eval_steps_per_second': 1.783, 'epoch': 3.32}\n",
      "{'loss': 0.8485, 'grad_norm': 0.1727067232131958, 'learning_rate': 0.0005, 'epoch': 3.36}\n",
      "{'loss': 0.8423, 'grad_norm': 0.18383997678756714, 'learning_rate': 0.0005, 'epoch': 3.46}\n",
      "{'loss': 0.8391, 'grad_norm': 0.14599864184856415, 'learning_rate': 0.0005, 'epoch': 3.56}\n"
     ]
    },
    {
     "data": {
      "application/vnd.jupyter.widget-view+json": {
       "model_id": "b305580d0aa4460aa3eb6cc3d73ea7dc",
       "version_major": 2,
       "version_minor": 0
      },
      "text/plain": [
       "  0%|          | 0/141 [00:00<?, ?it/s]"
      ]
     },
     "metadata": {},
     "output_type": "display_data"
    },
    {
     "name": "stdout",
     "output_type": "stream",
     "text": [
      "{'eval_loss': 0.49572527408599854, 'eval_runtime': 79.4399, 'eval_samples_per_second': 452.317, 'eval_steps_per_second': 1.775, 'epoch': 3.65}\n",
      "{'loss': 0.8384, 'grad_norm': 0.14025796949863434, 'learning_rate': 0.0005, 'epoch': 3.66}\n",
      "{'loss': 0.8341, 'grad_norm': 0.13782867789268494, 'learning_rate': 0.0005, 'epoch': 3.76}\n",
      "{'loss': 0.8396, 'grad_norm': 0.13478100299835205, 'learning_rate': 0.0005, 'epoch': 3.86}\n",
      "{'loss': 0.8367, 'grad_norm': 0.14252498745918274, 'learning_rate': 0.0005, 'epoch': 3.96}\n"
     ]
    },
    {
     "data": {
      "application/vnd.jupyter.widget-view+json": {
       "model_id": "bc0d9b9be97f45cdb21111ee2966b615",
       "version_major": 2,
       "version_minor": 0
      },
      "text/plain": [
       "  0%|          | 0/141 [00:00<?, ?it/s]"
      ]
     },
     "metadata": {},
     "output_type": "display_data"
    },
    {
     "name": "stdout",
     "output_type": "stream",
     "text": [
      "{'eval_loss': 0.48785102367401123, 'eval_runtime': 79.2536, 'eval_samples_per_second': 453.38, 'eval_steps_per_second': 1.779, 'epoch': 3.98}\n",
      "{'loss': 0.8445, 'grad_norm': 0.25812065601348877, 'learning_rate': 0.0005, 'epoch': 4.06}\n",
      "{'loss': 0.8413, 'grad_norm': 0.14385190606117249, 'learning_rate': 0.0005, 'epoch': 4.16}\n",
      "{'loss': 0.8368, 'grad_norm': 0.1615198403596878, 'learning_rate': 0.0005, 'epoch': 4.26}\n"
     ]
    },
    {
     "data": {
      "application/vnd.jupyter.widget-view+json": {
       "model_id": "584a9590481e42efaaff0db7cafcd91d",
       "version_major": 2,
       "version_minor": 0
      },
      "text/plain": [
       "  0%|          | 0/141 [00:00<?, ?it/s]"
      ]
     },
     "metadata": {},
     "output_type": "display_data"
    },
    {
     "name": "stdout",
     "output_type": "stream",
     "text": [
      "{'eval_loss': 0.47973063588142395, 'eval_runtime': 80.0187, 'eval_samples_per_second': 449.045, 'eval_steps_per_second': 1.762, 'epoch': 4.32}\n",
      "{'loss': 0.8329, 'grad_norm': 0.14678308367729187, 'learning_rate': 0.0005, 'epoch': 4.35}\n",
      "{'loss': 0.8343, 'grad_norm': 0.2002824991941452, 'learning_rate': 0.0005, 'epoch': 4.45}\n",
      "{'loss': 0.8349, 'grad_norm': 0.17979775369167328, 'learning_rate': 0.0005, 'epoch': 4.55}\n"
     ]
    },
    {
     "data": {
      "application/vnd.jupyter.widget-view+json": {
       "model_id": "4197fc58009141da91a5f2179ad48bb1",
       "version_major": 2,
       "version_minor": 0
      },
      "text/plain": [
       "  0%|          | 0/141 [00:00<?, ?it/s]"
      ]
     },
     "metadata": {},
     "output_type": "display_data"
    },
    {
     "name": "stdout",
     "output_type": "stream",
     "text": [
      "{'eval_loss': 0.47058022022247314, 'eval_runtime': 79.06, 'eval_samples_per_second': 454.49, 'eval_steps_per_second': 1.783, 'epoch': 4.65}\n",
      "{'loss': 0.8296, 'grad_norm': 0.1632300615310669, 'learning_rate': 0.0005, 'epoch': 4.65}\n",
      "{'loss': 0.8315, 'grad_norm': 0.14334553480148315, 'learning_rate': 0.0005, 'epoch': 4.75}\n",
      "{'loss': 0.832, 'grad_norm': 0.14695647358894348, 'learning_rate': 0.0005, 'epoch': 4.85}\n",
      "{'loss': 0.8286, 'grad_norm': 0.1447392702102661, 'learning_rate': 0.0005, 'epoch': 4.95}\n"
     ]
    },
    {
     "data": {
      "application/vnd.jupyter.widget-view+json": {
       "model_id": "5672a3cd698a49eea02f3d8808aa8641",
       "version_major": 2,
       "version_minor": 0
      },
      "text/plain": [
       "  0%|          | 0/141 [00:00<?, ?it/s]"
      ]
     },
     "metadata": {},
     "output_type": "display_data"
    },
    {
     "name": "stdout",
     "output_type": "stream",
     "text": [
      "{'eval_loss': 0.4666183292865753, 'eval_runtime': 79.3584, 'eval_samples_per_second': 452.782, 'eval_steps_per_second': 1.777, 'epoch': 4.98}\n",
      "{'loss': 0.8325, 'grad_norm': 0.14206847548484802, 'learning_rate': 0.0005, 'epoch': 5.05}\n",
      "{'loss': 0.8305, 'grad_norm': 0.14523236453533173, 'learning_rate': 0.0005, 'epoch': 5.15}\n",
      "{'loss': 0.8246, 'grad_norm': 0.15031924843788147, 'learning_rate': 0.0005, 'epoch': 5.25}\n"
     ]
    },
    {
     "data": {
      "application/vnd.jupyter.widget-view+json": {
       "model_id": "ad1525ec8356438696911fe246f34edc",
       "version_major": 2,
       "version_minor": 0
      },
      "text/plain": [
       "  0%|          | 0/141 [00:00<?, ?it/s]"
      ]
     },
     "metadata": {},
     "output_type": "display_data"
    },
    {
     "name": "stdout",
     "output_type": "stream",
     "text": [
      "{'eval_loss': 0.4554445147514343, 'eval_runtime': 78.6993, 'eval_samples_per_second': 456.574, 'eval_steps_per_second': 1.792, 'epoch': 5.31}\n",
      "{'loss': 0.8264, 'grad_norm': 0.1679653525352478, 'learning_rate': 0.0005, 'epoch': 5.34}\n",
      "{'loss': 0.8273, 'grad_norm': 0.1523769348859787, 'learning_rate': 0.0005, 'epoch': 5.44}\n",
      "{'loss': 0.8252, 'grad_norm': 0.17149117588996887, 'learning_rate': 0.0005, 'epoch': 5.54}\n",
      "{'loss': 0.8234, 'grad_norm': 0.1549951136112213, 'learning_rate': 0.0005, 'epoch': 5.64}\n"
     ]
    },
    {
     "data": {
      "application/vnd.jupyter.widget-view+json": {
       "model_id": "223e9a460188431e9b675063d0858cac",
       "version_major": 2,
       "version_minor": 0
      },
      "text/plain": [
       "  0%|          | 0/141 [00:00<?, ?it/s]"
      ]
     },
     "metadata": {},
     "output_type": "display_data"
    },
    {
     "name": "stdout",
     "output_type": "stream",
     "text": [
      "{'eval_loss': 0.4388458728790283, 'eval_runtime': 78.7131, 'eval_samples_per_second': 456.493, 'eval_steps_per_second': 1.791, 'epoch': 5.64}\n",
      "{'loss': 0.8242, 'grad_norm': 0.1786445677280426, 'learning_rate': 0.0005, 'epoch': 5.74}\n",
      "{'loss': 0.8328, 'grad_norm': 0.17317703366279602, 'learning_rate': 0.0005, 'epoch': 5.84}\n",
      "{'loss': 0.8223, 'grad_norm': 0.14062081277370453, 'learning_rate': 0.0005, 'epoch': 5.94}\n"
     ]
    },
    {
     "data": {
      "application/vnd.jupyter.widget-view+json": {
       "model_id": "f91e1f911a294ed6b95df4acf510515c",
       "version_major": 2,
       "version_minor": 0
      },
      "text/plain": [
       "  0%|          | 0/141 [00:00<?, ?it/s]"
      ]
     },
     "metadata": {},
     "output_type": "display_data"
    },
    {
     "name": "stdout",
     "output_type": "stream",
     "text": [
      "{'eval_loss': 0.42115700244903564, 'eval_runtime': 78.6771, 'eval_samples_per_second': 456.702, 'eval_steps_per_second': 1.792, 'epoch': 5.98}\n",
      "{'loss': 0.8263, 'grad_norm': 0.18845003843307495, 'learning_rate': 0.0005, 'epoch': 6.04}\n",
      "{'loss': 0.8229, 'grad_norm': 0.15592826902866364, 'learning_rate': 0.0005, 'epoch': 6.14}\n",
      "{'loss': 0.8212, 'grad_norm': 0.1710933893918991, 'learning_rate': 0.0005, 'epoch': 6.24}\n"
     ]
    },
    {
     "data": {
      "application/vnd.jupyter.widget-view+json": {
       "model_id": "8599c76f06c5433ba7798f4042c5c73d",
       "version_major": 2,
       "version_minor": 0
      },
      "text/plain": [
       "  0%|          | 0/141 [00:00<?, ?it/s]"
      ]
     },
     "metadata": {},
     "output_type": "display_data"
    },
    {
     "name": "stdout",
     "output_type": "stream",
     "text": [
      "{'eval_loss': 0.4035365581512451, 'eval_runtime': 78.8131, 'eval_samples_per_second': 455.914, 'eval_steps_per_second': 1.789, 'epoch': 6.31}\n",
      "{'loss': 0.8212, 'grad_norm': 0.17353114485740662, 'learning_rate': 0.0005, 'epoch': 6.33}\n",
      "{'loss': 0.8168, 'grad_norm': 0.13766634464263916, 'learning_rate': 0.0005, 'epoch': 6.43}\n",
      "{'loss': 0.8169, 'grad_norm': 0.1720268577337265, 'learning_rate': 0.0005, 'epoch': 6.53}\n",
      "{'loss': 0.8165, 'grad_norm': 0.13843123614788055, 'learning_rate': 0.0005, 'epoch': 6.63}\n"
     ]
    },
    {
     "data": {
      "application/vnd.jupyter.widget-view+json": {
       "model_id": "319164dc1f0445878ee20d3c6d4704c7",
       "version_major": 2,
       "version_minor": 0
      },
      "text/plain": [
       "  0%|          | 0/141 [00:00<?, ?it/s]"
      ]
     },
     "metadata": {},
     "output_type": "display_data"
    },
    {
     "name": "stdout",
     "output_type": "stream",
     "text": [
      "{'eval_loss': 0.3934396803379059, 'eval_runtime': 79.4374, 'eval_samples_per_second': 452.331, 'eval_steps_per_second': 1.775, 'epoch': 6.64}\n",
      "{'loss': 0.8166, 'grad_norm': 0.1691521406173706, 'learning_rate': 0.0005, 'epoch': 6.73}\n",
      "{'loss': 0.8166, 'grad_norm': 0.15425334870815277, 'learning_rate': 0.0005, 'epoch': 6.83}\n",
      "{'loss': 0.8146, 'grad_norm': 0.15718066692352295, 'learning_rate': 0.0005, 'epoch': 6.93}\n"
     ]
    },
    {
     "data": {
      "application/vnd.jupyter.widget-view+json": {
       "model_id": "6db301722bdb4003b07d3265db2693f7",
       "version_major": 2,
       "version_minor": 0
      },
      "text/plain": [
       "  0%|          | 0/141 [00:00<?, ?it/s]"
      ]
     },
     "metadata": {},
     "output_type": "display_data"
    },
    {
     "name": "stdout",
     "output_type": "stream",
     "text": [
      "{'eval_loss': 0.38355541229248047, 'eval_runtime': 79.2369, 'eval_samples_per_second': 453.476, 'eval_steps_per_second': 1.779, 'epoch': 6.97}\n",
      "{'loss': 0.8152, 'grad_norm': 0.1791982352733612, 'learning_rate': 0.0005, 'epoch': 7.03}\n",
      "{'loss': 0.8129, 'grad_norm': 0.14430804550647736, 'learning_rate': 0.0005, 'epoch': 7.13}\n",
      "{'loss': 0.8132, 'grad_norm': 0.1369391232728958, 'learning_rate': 0.0005, 'epoch': 7.22}\n"
     ]
    },
    {
     "data": {
      "application/vnd.jupyter.widget-view+json": {
       "model_id": "8e9b1f75bbae42a18a3ce64ee649ed83",
       "version_major": 2,
       "version_minor": 0
      },
      "text/plain": [
       "  0%|          | 0/141 [00:00<?, ?it/s]"
      ]
     },
     "metadata": {},
     "output_type": "display_data"
    },
    {
     "name": "stdout",
     "output_type": "stream",
     "text": [
      "{'eval_loss': 0.370514452457428, 'eval_runtime': 78.976, 'eval_samples_per_second': 454.974, 'eval_steps_per_second': 1.785, 'epoch': 7.3}\n",
      "{'loss': 0.8099, 'grad_norm': 0.13661296665668488, 'learning_rate': 0.0005, 'epoch': 7.32}\n",
      "{'loss': 0.8115, 'grad_norm': 0.1262764185667038, 'learning_rate': 0.0005, 'epoch': 7.42}\n",
      "{'loss': 0.8082, 'grad_norm': 0.14078031480312347, 'learning_rate': 0.0005, 'epoch': 7.52}\n",
      "{'loss': 0.8119, 'grad_norm': 0.1502714604139328, 'learning_rate': 0.0005, 'epoch': 7.62}\n"
     ]
    },
    {
     "data": {
      "application/vnd.jupyter.widget-view+json": {
       "model_id": "b1436abde4c745e6945581bc3cb4cf3c",
       "version_major": 2,
       "version_minor": 0
      },
      "text/plain": [
       "  0%|          | 0/141 [00:00<?, ?it/s]"
      ]
     },
     "metadata": {},
     "output_type": "display_data"
    },
    {
     "name": "stdout",
     "output_type": "stream",
     "text": [
      "{'eval_loss': 0.3612509071826935, 'eval_runtime': 79.2287, 'eval_samples_per_second': 453.523, 'eval_steps_per_second': 1.78, 'epoch': 7.64}\n",
      "{'loss': 0.8091, 'grad_norm': 0.16854076087474823, 'learning_rate': 0.0005, 'epoch': 7.72}\n",
      "{'loss': 0.8107, 'grad_norm': 0.14514942467212677, 'learning_rate': 0.0005, 'epoch': 7.82}\n",
      "{'loss': 0.8105, 'grad_norm': 0.21744512021541595, 'learning_rate': 0.0005, 'epoch': 7.92}\n"
     ]
    },
    {
     "data": {
      "application/vnd.jupyter.widget-view+json": {
       "model_id": "c40ebe3e6dfd4bcfac80fa42db6b0788",
       "version_major": 2,
       "version_minor": 0
      },
      "text/plain": [
       "  0%|          | 0/141 [00:00<?, ?it/s]"
      ]
     },
     "metadata": {},
     "output_type": "display_data"
    },
    {
     "name": "stdout",
     "output_type": "stream",
     "text": [
      "{'eval_loss': 0.3607245981693268, 'eval_runtime': 79.1452, 'eval_samples_per_second': 454.001, 'eval_steps_per_second': 1.782, 'epoch': 7.97}\n",
      "{'loss': 0.811, 'grad_norm': 0.16592594981193542, 'learning_rate': 0.0005, 'epoch': 8.02}\n",
      "{'loss': 0.8092, 'grad_norm': 0.1364128142595291, 'learning_rate': 0.0005, 'epoch': 8.12}\n",
      "{'loss': 0.8021, 'grad_norm': 0.15813930332660675, 'learning_rate': 0.0005, 'epoch': 8.21}\n"
     ]
    },
    {
     "data": {
      "application/vnd.jupyter.widget-view+json": {
       "model_id": "b8a4dad1294b4c9bb444b12530ca1b60",
       "version_major": 2,
       "version_minor": 0
      },
      "text/plain": [
       "  0%|          | 0/141 [00:00<?, ?it/s]"
      ]
     },
     "metadata": {},
     "output_type": "display_data"
    },
    {
     "name": "stdout",
     "output_type": "stream",
     "text": [
      "{'eval_loss': 0.35061442852020264, 'eval_runtime': 79.9319, 'eval_samples_per_second': 449.533, 'eval_steps_per_second': 1.764, 'epoch': 8.3}\n",
      "{'loss': 0.8087, 'grad_norm': 0.1494031399488449, 'learning_rate': 0.0005, 'epoch': 8.31}\n",
      "{'loss': 0.8066, 'grad_norm': 0.1666652411222458, 'learning_rate': 0.0005, 'epoch': 8.41}\n",
      "{'loss': 0.8083, 'grad_norm': 0.13288113474845886, 'learning_rate': 0.0005, 'epoch': 8.51}\n",
      "{'loss': 0.8118, 'grad_norm': 0.17029380798339844, 'learning_rate': 0.0005, 'epoch': 8.61}\n"
     ]
    },
    {
     "data": {
      "application/vnd.jupyter.widget-view+json": {
       "model_id": "f80003f5439d4689b9141c75ee359da8",
       "version_major": 2,
       "version_minor": 0
      },
      "text/plain": [
       "  0%|          | 0/141 [00:00<?, ?it/s]"
      ]
     },
     "metadata": {},
     "output_type": "display_data"
    },
    {
     "name": "stdout",
     "output_type": "stream",
     "text": [
      "{'eval_loss': 0.3498018980026245, 'eval_runtime': 79.3877, 'eval_samples_per_second': 452.614, 'eval_steps_per_second': 1.776, 'epoch': 8.63}\n",
      "{'loss': 0.8034, 'grad_norm': 0.15760378539562225, 'learning_rate': 0.0005, 'epoch': 8.71}\n",
      "{'loss': 0.808, 'grad_norm': 0.1403024047613144, 'learning_rate': 0.0005, 'epoch': 8.81}\n",
      "{'loss': 0.8062, 'grad_norm': 0.12798930704593658, 'learning_rate': 0.0005, 'epoch': 8.91}\n"
     ]
    },
    {
     "data": {
      "application/vnd.jupyter.widget-view+json": {
       "model_id": "443d2f03175b4a539a452afec3441f7a",
       "version_major": 2,
       "version_minor": 0
      },
      "text/plain": [
       "  0%|          | 0/141 [00:00<?, ?it/s]"
      ]
     },
     "metadata": {},
     "output_type": "display_data"
    },
    {
     "name": "stdout",
     "output_type": "stream",
     "text": [
      "{'eval_loss': 0.34243258833885193, 'eval_runtime': 79.2718, 'eval_samples_per_second': 453.276, 'eval_steps_per_second': 1.779, 'epoch': 8.96}\n",
      "{'loss': 0.8074, 'grad_norm': 0.14575330913066864, 'learning_rate': 0.0005, 'epoch': 9.01}\n",
      "{'loss': 0.8046, 'grad_norm': 0.1193353459239006, 'learning_rate': 0.0005, 'epoch': 9.11}\n",
      "{'loss': 0.806, 'grad_norm': 0.1491079479455948, 'learning_rate': 0.0005, 'epoch': 9.2}\n"
     ]
    },
    {
     "data": {
      "application/vnd.jupyter.widget-view+json": {
       "model_id": "34ab81f05722436d9f4757f0e8108c13",
       "version_major": 2,
       "version_minor": 0
      },
      "text/plain": [
       "  0%|          | 0/141 [00:00<?, ?it/s]"
      ]
     },
     "metadata": {},
     "output_type": "display_data"
    },
    {
     "name": "stdout",
     "output_type": "stream",
     "text": [
      "{'eval_loss': 0.3410148024559021, 'eval_runtime': 79.0742, 'eval_samples_per_second': 454.409, 'eval_steps_per_second': 1.783, 'epoch': 9.29}\n",
      "{'loss': 0.8043, 'grad_norm': 0.1448974609375, 'learning_rate': 0.0005, 'epoch': 9.3}\n",
      "{'loss': 0.8042, 'grad_norm': 0.14216884970664978, 'learning_rate': 0.0005, 'epoch': 9.4}\n",
      "{'loss': 0.8032, 'grad_norm': 0.13127072155475616, 'learning_rate': 0.0005, 'epoch': 9.5}\n",
      "{'loss': 0.8043, 'grad_norm': 0.13419225811958313, 'learning_rate': 0.0005, 'epoch': 9.6}\n"
     ]
    },
    {
     "data": {
      "application/vnd.jupyter.widget-view+json": {
       "model_id": "292da9e7271947f299a888af9a1bd31a",
       "version_major": 2,
       "version_minor": 0
      },
      "text/plain": [
       "  0%|          | 0/141 [00:00<?, ?it/s]"
      ]
     },
     "metadata": {},
     "output_type": "display_data"
    },
    {
     "name": "stdout",
     "output_type": "stream",
     "text": [
      "{'eval_loss': 0.34332963824272156, 'eval_runtime': 78.2278, 'eval_samples_per_second': 459.325, 'eval_steps_per_second': 1.802, 'epoch': 9.63}\n",
      "{'loss': 0.8057, 'grad_norm': 0.14947926998138428, 'learning_rate': 0.0005, 'epoch': 9.7}\n",
      "{'loss': 0.8029, 'grad_norm': 0.13222244381904602, 'learning_rate': 0.0005, 'epoch': 9.8}\n",
      "{'loss': 0.8033, 'grad_norm': 0.13032323122024536, 'learning_rate': 0.0005, 'epoch': 9.9}\n"
     ]
    },
    {
     "data": {
      "application/vnd.jupyter.widget-view+json": {
       "model_id": "b74ed417b1c448588577e292312c1cc7",
       "version_major": 2,
       "version_minor": 0
      },
      "text/plain": [
       "  0%|          | 0/141 [00:00<?, ?it/s]"
      ]
     },
     "metadata": {},
     "output_type": "display_data"
    },
    {
     "name": "stdout",
     "output_type": "stream",
     "text": [
      "{'eval_loss': 0.336445152759552, 'eval_runtime': 78.0162, 'eval_samples_per_second': 460.571, 'eval_steps_per_second': 1.807, 'epoch': 9.96}\n",
      "{'loss': 0.8039, 'grad_norm': 0.12568733096122742, 'learning_rate': 0.0005, 'epoch': 10.0}\n",
      "{'loss': 0.8041, 'grad_norm': 0.1429588794708252, 'learning_rate': 0.0005, 'epoch': 10.09}\n",
      "{'loss': 0.8075, 'grad_norm': 0.14018115401268005, 'learning_rate': 0.0005, 'epoch': 10.19}\n"
     ]
    },
    {
     "data": {
      "application/vnd.jupyter.widget-view+json": {
       "model_id": "964c067085e5466c9e89886378054bc1",
       "version_major": 2,
       "version_minor": 0
      },
      "text/plain": [
       "  0%|          | 0/141 [00:00<?, ?it/s]"
      ]
     },
     "metadata": {},
     "output_type": "display_data"
    },
    {
     "name": "stdout",
     "output_type": "stream",
     "text": [
      "{'eval_loss': 0.3318347930908203, 'eval_runtime': 78.1858, 'eval_samples_per_second': 459.572, 'eval_steps_per_second': 1.803, 'epoch': 10.29}\n",
      "{'loss': 0.8018, 'grad_norm': 0.13023121654987335, 'learning_rate': 0.0005, 'epoch': 10.29}\n",
      "{'loss': 0.8018, 'grad_norm': 0.1291024386882782, 'learning_rate': 0.0005, 'epoch': 10.39}\n",
      "{'loss': 0.8003, 'grad_norm': 0.14718778431415558, 'learning_rate': 0.0005, 'epoch': 10.49}\n",
      "{'loss': 0.8069, 'grad_norm': 0.1442417949438095, 'learning_rate': 0.0005, 'epoch': 10.59}\n"
     ]
    },
    {
     "data": {
      "application/vnd.jupyter.widget-view+json": {
       "model_id": "25bf6765e19643d9a2c19fe2984feb04",
       "version_major": 2,
       "version_minor": 0
      },
      "text/plain": [
       "  0%|          | 0/141 [00:00<?, ?it/s]"
      ]
     },
     "metadata": {},
     "output_type": "display_data"
    },
    {
     "name": "stdout",
     "output_type": "stream",
     "text": [
      "{'eval_loss': 0.3317846655845642, 'eval_runtime': 78.3866, 'eval_samples_per_second': 458.394, 'eval_steps_per_second': 1.799, 'epoch': 10.62}\n",
      "{'loss': 0.8032, 'grad_norm': 0.11875736713409424, 'learning_rate': 0.0005, 'epoch': 10.69}\n",
      "{'loss': 0.7986, 'grad_norm': 0.1313086599111557, 'learning_rate': 0.0005, 'epoch': 10.79}\n",
      "{'loss': 0.802, 'grad_norm': 0.12553852796554565, 'learning_rate': 0.0005, 'epoch': 10.89}\n"
     ]
    },
    {
     "data": {
      "application/vnd.jupyter.widget-view+json": {
       "model_id": "aa71ef9ab2a848999883568b19c34e6b",
       "version_major": 2,
       "version_minor": 0
      },
      "text/plain": [
       "  0%|          | 0/141 [00:00<?, ?it/s]"
      ]
     },
     "metadata": {},
     "output_type": "display_data"
    },
    {
     "name": "stdout",
     "output_type": "stream",
     "text": [
      "{'eval_loss': 0.33126163482666016, 'eval_runtime': 78.3646, 'eval_samples_per_second': 458.523, 'eval_steps_per_second': 1.799, 'epoch': 10.95}\n",
      "{'loss': 0.8038, 'grad_norm': 0.1189119815826416, 'learning_rate': 0.0005, 'epoch': 10.99}\n",
      "{'loss': 0.8034, 'grad_norm': 0.1361469179391861, 'learning_rate': 0.0005, 'epoch': 11.08}\n",
      "{'loss': 0.805, 'grad_norm': 0.12877915799617767, 'learning_rate': 0.0005, 'epoch': 11.18}\n",
      "{'loss': 0.7993, 'grad_norm': 0.1549161970615387, 'learning_rate': 0.0005, 'epoch': 11.28}\n"
     ]
    },
    {
     "data": {
      "application/vnd.jupyter.widget-view+json": {
       "model_id": "97d0a481afaa4b5890ddc9b5f309351b",
       "version_major": 2,
       "version_minor": 0
      },
      "text/plain": [
       "  0%|          | 0/141 [00:00<?, ?it/s]"
      ]
     },
     "metadata": {},
     "output_type": "display_data"
    },
    {
     "name": "stdout",
     "output_type": "stream",
     "text": [
      "{'eval_loss': 0.3364446461200714, 'eval_runtime': 77.9309, 'eval_samples_per_second': 461.075, 'eval_steps_per_second': 1.809, 'epoch': 11.29}\n",
      "{'loss': 0.8094, 'grad_norm': 0.12381606549024582, 'learning_rate': 0.0005, 'epoch': 11.38}\n",
      "{'loss': 0.8042, 'grad_norm': 0.13617828488349915, 'learning_rate': 0.0005, 'epoch': 11.48}\n",
      "{'loss': 0.8009, 'grad_norm': 0.12270745635032654, 'learning_rate': 0.0005, 'epoch': 11.58}\n"
     ]
    },
    {
     "data": {
      "application/vnd.jupyter.widget-view+json": {
       "model_id": "ee9b8f4e58ea4a4d841ae59e5a403d0d",
       "version_major": 2,
       "version_minor": 0
      },
      "text/plain": [
       "  0%|          | 0/141 [00:00<?, ?it/s]"
      ]
     },
     "metadata": {},
     "output_type": "display_data"
    },
    {
     "name": "stdout",
     "output_type": "stream",
     "text": [
      "{'eval_loss': 0.33114859461784363, 'eval_runtime': 78.1728, 'eval_samples_per_second': 459.648, 'eval_steps_per_second': 1.804, 'epoch': 11.62}\n",
      "{'loss': 0.7986, 'grad_norm': 0.11179756373167038, 'learning_rate': 0.0005, 'epoch': 11.68}\n",
      "{'loss': 0.8038, 'grad_norm': 0.14629904925823212, 'learning_rate': 0.0005, 'epoch': 11.78}\n",
      "{'loss': 0.8031, 'grad_norm': 0.15576528012752533, 'learning_rate': 0.0005, 'epoch': 11.88}\n"
     ]
    },
    {
     "data": {
      "application/vnd.jupyter.widget-view+json": {
       "model_id": "60cdc376acda4acd88dfc17d57bb8b87",
       "version_major": 2,
       "version_minor": 0
      },
      "text/plain": [
       "  0%|          | 0/141 [00:00<?, ?it/s]"
      ]
     },
     "metadata": {},
     "output_type": "display_data"
    },
    {
     "name": "stdout",
     "output_type": "stream",
     "text": [
      "{'eval_loss': 0.3270881772041321, 'eval_runtime': 77.9931, 'eval_samples_per_second': 460.707, 'eval_steps_per_second': 1.808, 'epoch': 11.95}\n",
      "{'loss': 0.8025, 'grad_norm': 0.11129222065210342, 'learning_rate': 0.0005, 'epoch': 11.98}\n",
      "{'loss': 0.8016, 'grad_norm': 0.11329192668199539, 'learning_rate': 0.0005, 'epoch': 12.07}\n",
      "{'loss': 0.801, 'grad_norm': 0.4907780587673187, 'learning_rate': 0.0005, 'epoch': 12.17}\n",
      "{'loss': 0.8072, 'grad_norm': 0.16599927842617035, 'learning_rate': 0.0005, 'epoch': 12.27}\n"
     ]
    },
    {
     "data": {
      "application/vnd.jupyter.widget-view+json": {
       "model_id": "78e3966e7039434aa1056b04dd122abf",
       "version_major": 2,
       "version_minor": 0
      },
      "text/plain": [
       "  0%|          | 0/141 [00:00<?, ?it/s]"
      ]
     },
     "metadata": {},
     "output_type": "display_data"
    },
    {
     "name": "stdout",
     "output_type": "stream",
     "text": [
      "{'eval_loss': 0.3269600570201874, 'eval_runtime': 78.3733, 'eval_samples_per_second': 458.473, 'eval_steps_per_second': 1.799, 'epoch': 12.28}\n",
      "{'loss': 0.8013, 'grad_norm': 0.0952015370130539, 'learning_rate': 0.0005, 'epoch': 12.37}\n",
      "{'loss': 0.7995, 'grad_norm': 0.09998330473899841, 'learning_rate': 0.0005, 'epoch': 12.47}\n",
      "{'loss': 0.7981, 'grad_norm': 0.11397899687290192, 'learning_rate': 0.0005, 'epoch': 12.57}\n"
     ]
    },
    {
     "data": {
      "application/vnd.jupyter.widget-view+json": {
       "model_id": "7df1307e1aaa4ceb971a4935994c67c3",
       "version_major": 2,
       "version_minor": 0
      },
      "text/plain": [
       "  0%|          | 0/141 [00:00<?, ?it/s]"
      ]
     },
     "metadata": {},
     "output_type": "display_data"
    },
    {
     "name": "stdout",
     "output_type": "stream",
     "text": [
      "{'eval_loss': 0.31943172216415405, 'eval_runtime': 78.6843, 'eval_samples_per_second': 456.661, 'eval_steps_per_second': 1.792, 'epoch': 12.61}\n",
      "{'loss': 0.7998, 'grad_norm': 0.11515162885189056, 'learning_rate': 0.0005, 'epoch': 12.67}\n",
      "{'loss': 0.7979, 'grad_norm': 0.10595236718654633, 'learning_rate': 0.0005, 'epoch': 12.77}\n",
      "{'loss': 0.8008, 'grad_norm': 0.12983816862106323, 'learning_rate': 0.0005, 'epoch': 12.87}\n"
     ]
    },
    {
     "data": {
      "application/vnd.jupyter.widget-view+json": {
       "model_id": "642c3d113719462b8415c850c3103ca9",
       "version_major": 2,
       "version_minor": 0
      },
      "text/plain": [
       "  0%|          | 0/141 [00:00<?, ?it/s]"
      ]
     },
     "metadata": {},
     "output_type": "display_data"
    },
    {
     "name": "stdout",
     "output_type": "stream",
     "text": [
      "{'eval_loss': 0.3202441334724426, 'eval_runtime': 82.4623, 'eval_samples_per_second': 435.738, 'eval_steps_per_second': 1.71, 'epoch': 12.95}\n",
      "{'loss': 0.8024, 'grad_norm': 0.11416423320770264, 'learning_rate': 0.0005, 'epoch': 12.96}\n",
      "{'loss': 0.7993, 'grad_norm': 0.11051011830568314, 'learning_rate': 0.0005, 'epoch': 13.06}\n",
      "{'loss': 0.8011, 'grad_norm': 0.13132499158382416, 'learning_rate': 0.0005, 'epoch': 13.16}\n",
      "{'loss': 0.8024, 'grad_norm': 0.11109564453363419, 'learning_rate': 0.0005, 'epoch': 13.26}\n"
     ]
    },
    {
     "data": {
      "application/vnd.jupyter.widget-view+json": {
       "model_id": "add83c10bd0244a98256dd021390b719",
       "version_major": 2,
       "version_minor": 0
      },
      "text/plain": [
       "  0%|          | 0/141 [00:00<?, ?it/s]"
      ]
     },
     "metadata": {},
     "output_type": "display_data"
    },
    {
     "name": "stdout",
     "output_type": "stream",
     "text": [
      "{'eval_loss': 0.3169706165790558, 'eval_runtime': 78.682, 'eval_samples_per_second': 456.674, 'eval_steps_per_second': 1.792, 'epoch': 13.28}\n",
      "{'loss': 0.7967, 'grad_norm': 0.10795837640762329, 'learning_rate': 0.0005, 'epoch': 13.36}\n",
      "{'loss': 0.8001, 'grad_norm': 0.09890737384557724, 'learning_rate': 0.0005, 'epoch': 13.46}\n",
      "{'loss': 0.8014, 'grad_norm': 0.12627772986888885, 'learning_rate': 0.0005, 'epoch': 13.56}\n"
     ]
    },
    {
     "data": {
      "application/vnd.jupyter.widget-view+json": {
       "model_id": "4b2337a2f590475eb86849dcccc88497",
       "version_major": 2,
       "version_minor": 0
      },
      "text/plain": [
       "  0%|          | 0/141 [00:00<?, ?it/s]"
      ]
     },
     "metadata": {},
     "output_type": "display_data"
    },
    {
     "name": "stdout",
     "output_type": "stream",
     "text": [
      "{'eval_loss': 0.3185660243034363, 'eval_runtime': 78.5056, 'eval_samples_per_second': 457.7, 'eval_steps_per_second': 1.796, 'epoch': 13.61}\n",
      "{'loss': 0.7966, 'grad_norm': 0.11165324598550797, 'learning_rate': 0.0005, 'epoch': 13.66}\n",
      "{'loss': 0.7998, 'grad_norm': 0.1193186491727829, 'learning_rate': 0.0005, 'epoch': 13.76}\n",
      "{'loss': 0.7961, 'grad_norm': 0.14454320073127747, 'learning_rate': 0.0005, 'epoch': 13.86}\n"
     ]
    },
    {
     "data": {
      "application/vnd.jupyter.widget-view+json": {
       "model_id": "3672e9af80464df897cae49f3f76a054",
       "version_major": 2,
       "version_minor": 0
      },
      "text/plain": [
       "  0%|          | 0/141 [00:00<?, ?it/s]"
      ]
     },
     "metadata": {},
     "output_type": "display_data"
    },
    {
     "name": "stdout",
     "output_type": "stream",
     "text": [
      "{'eval_loss': 0.31846868991851807, 'eval_runtime': 77.9665, 'eval_samples_per_second': 460.865, 'eval_steps_per_second': 1.808, 'epoch': 13.94}\n",
      "{'loss': 0.7962, 'grad_norm': 0.11671844124794006, 'learning_rate': 0.0005, 'epoch': 13.95}\n",
      "{'loss': 0.801, 'grad_norm': 0.11313790827989578, 'learning_rate': 0.0005, 'epoch': 14.05}\n",
      "{'loss': 0.8055, 'grad_norm': 0.11028560250997543, 'learning_rate': 0.0005, 'epoch': 14.15}\n",
      "{'loss': 0.794, 'grad_norm': 0.12266115844249725, 'learning_rate': 0.0005, 'epoch': 14.25}\n"
     ]
    },
    {
     "data": {
      "application/vnd.jupyter.widget-view+json": {
       "model_id": "2c84b92cd93841c38d21093da79fcebe",
       "version_major": 2,
       "version_minor": 0
      },
      "text/plain": [
       "  0%|          | 0/141 [00:00<?, ?it/s]"
      ]
     },
     "metadata": {},
     "output_type": "display_data"
    },
    {
     "name": "stdout",
     "output_type": "stream",
     "text": [
      "{'eval_loss': 0.313426673412323, 'eval_runtime': 78.3557, 'eval_samples_per_second': 458.575, 'eval_steps_per_second': 1.799, 'epoch': 14.27}\n",
      "{'loss': 0.799, 'grad_norm': 0.1240508183836937, 'learning_rate': 0.0005, 'epoch': 14.35}\n",
      "{'loss': 0.7968, 'grad_norm': 0.10987305641174316, 'learning_rate': 0.0005, 'epoch': 14.45}\n",
      "{'loss': 0.7988, 'grad_norm': 0.11082525551319122, 'learning_rate': 0.0005, 'epoch': 14.55}\n"
     ]
    },
    {
     "data": {
      "application/vnd.jupyter.widget-view+json": {
       "model_id": "d610b65002544463b4a4b6e0c1c3eaeb",
       "version_major": 2,
       "version_minor": 0
      },
      "text/plain": [
       "  0%|          | 0/141 [00:00<?, ?it/s]"
      ]
     },
     "metadata": {},
     "output_type": "display_data"
    },
    {
     "name": "stdout",
     "output_type": "stream",
     "text": [
      "{'eval_loss': 0.31194284558296204, 'eval_runtime': 77.7841, 'eval_samples_per_second': 461.946, 'eval_steps_per_second': 1.813, 'epoch': 14.61}\n",
      "{'loss': 0.7968, 'grad_norm': 0.11676444113254547, 'learning_rate': 0.0005, 'epoch': 14.65}\n",
      "{'loss': 0.7968, 'grad_norm': 0.10287588089704514, 'learning_rate': 0.0005, 'epoch': 14.75}\n",
      "{'loss': 0.7991, 'grad_norm': 0.11048073321580887, 'learning_rate': 0.0005, 'epoch': 14.85}\n"
     ]
    },
    {
     "data": {
      "application/vnd.jupyter.widget-view+json": {
       "model_id": "f964a2d3aa354b67abd0eb37a37ba988",
       "version_major": 2,
       "version_minor": 0
      },
      "text/plain": [
       "  0%|          | 0/141 [00:00<?, ?it/s]"
      ]
     },
     "metadata": {},
     "output_type": "display_data"
    },
    {
     "name": "stdout",
     "output_type": "stream",
     "text": [
      "{'eval_loss': 0.31280890107154846, 'eval_runtime': 77.9074, 'eval_samples_per_second': 461.214, 'eval_steps_per_second': 1.81, 'epoch': 14.94}\n",
      "{'loss': 0.7961, 'grad_norm': 0.11379547417163849, 'learning_rate': 0.0005, 'epoch': 14.94}\n",
      "{'loss': 0.7973, 'grad_norm': 0.12036826461553574, 'learning_rate': 0.0005, 'epoch': 15.04}\n",
      "{'loss': 0.8015, 'grad_norm': 0.1336732655763626, 'learning_rate': 0.0005, 'epoch': 15.14}\n",
      "{'loss': 0.7957, 'grad_norm': 0.1135825365781784, 'learning_rate': 0.0005, 'epoch': 15.24}\n"
     ]
    },
    {
     "data": {
      "application/vnd.jupyter.widget-view+json": {
       "model_id": "8f2278931cae4a8b8f5fe999d4bd9fca",
       "version_major": 2,
       "version_minor": 0
      },
      "text/plain": [
       "  0%|          | 0/141 [00:00<?, ?it/s]"
      ]
     },
     "metadata": {},
     "output_type": "display_data"
    },
    {
     "name": "stdout",
     "output_type": "stream",
     "text": [
      "{'eval_loss': 0.31189534068107605, 'eval_runtime': 78.093, 'eval_samples_per_second': 460.118, 'eval_steps_per_second': 1.806, 'epoch': 15.27}\n",
      "{'loss': 0.8005, 'grad_norm': 0.10540912300348282, 'learning_rate': 0.0005, 'epoch': 15.34}\n",
      "{'loss': 0.7962, 'grad_norm': 0.10170566290616989, 'learning_rate': 0.0005, 'epoch': 15.44}\n",
      "{'loss': 0.7968, 'grad_norm': 0.1161888912320137, 'learning_rate': 0.0005, 'epoch': 15.54}\n"
     ]
    },
    {
     "data": {
      "application/vnd.jupyter.widget-view+json": {
       "model_id": "d30365491b9849aca636ab3d15d72664",
       "version_major": 2,
       "version_minor": 0
      },
      "text/plain": [
       "  0%|          | 0/141 [00:00<?, ?it/s]"
      ]
     },
     "metadata": {},
     "output_type": "display_data"
    },
    {
     "name": "stdout",
     "output_type": "stream",
     "text": [
      "{'eval_loss': 0.3108467161655426, 'eval_runtime': 78.0904, 'eval_samples_per_second': 460.133, 'eval_steps_per_second': 1.806, 'epoch': 15.6}\n",
      "{'loss': 0.7963, 'grad_norm': 0.10765742510557175, 'learning_rate': 0.0005, 'epoch': 15.64}\n",
      "{'loss': 0.7939, 'grad_norm': 0.11222030967473984, 'learning_rate': 0.0005, 'epoch': 15.74}\n",
      "{'loss': 0.7938, 'grad_norm': 0.0887610986828804, 'learning_rate': 0.0005, 'epoch': 15.84}\n",
      "{'loss': 0.7949, 'grad_norm': 0.10338535159826279, 'learning_rate': 0.0005, 'epoch': 15.93}\n"
     ]
    },
    {
     "data": {
      "application/vnd.jupyter.widget-view+json": {
       "model_id": "e10b4e7e417e43d28d600a049a75672f",
       "version_major": 2,
       "version_minor": 0
      },
      "text/plain": [
       "  0%|          | 0/141 [00:00<?, ?it/s]"
      ]
     },
     "metadata": {},
     "output_type": "display_data"
    },
    {
     "name": "stdout",
     "output_type": "stream",
     "text": [
      "{'eval_loss': 0.30814868211746216, 'eval_runtime': 78.0333, 'eval_samples_per_second': 460.47, 'eval_steps_per_second': 1.807, 'epoch': 15.93}\n",
      "{'loss': 0.8004, 'grad_norm': 0.10488124191761017, 'learning_rate': 0.0005, 'epoch': 16.03}\n",
      "{'loss': 0.7926, 'grad_norm': 0.12121044844388962, 'learning_rate': 0.0005, 'epoch': 16.13}\n",
      "{'loss': 0.7979, 'grad_norm': 0.10880672931671143, 'learning_rate': 0.0005, 'epoch': 16.23}\n"
     ]
    },
    {
     "data": {
      "application/vnd.jupyter.widget-view+json": {
       "model_id": "53185aac785b41b7bb6c8ce1c1deb012",
       "version_major": 2,
       "version_minor": 0
      },
      "text/plain": [
       "  0%|          | 0/141 [00:00<?, ?it/s]"
      ]
     },
     "metadata": {},
     "output_type": "display_data"
    },
    {
     "name": "stdout",
     "output_type": "stream",
     "text": [
      "{'eval_loss': 0.30766481161117554, 'eval_runtime': 78.1612, 'eval_samples_per_second': 459.717, 'eval_steps_per_second': 1.804, 'epoch': 16.27}\n",
      "{'loss': 0.8001, 'grad_norm': 0.09264013916254044, 'learning_rate': 0.0005, 'epoch': 16.33}\n",
      "{'loss': 0.7932, 'grad_norm': 0.11962416023015976, 'learning_rate': 0.0005, 'epoch': 16.43}\n",
      "{'loss': 0.7983, 'grad_norm': 0.12886343896389008, 'learning_rate': 0.0005, 'epoch': 16.53}\n"
     ]
    },
    {
     "data": {
      "application/vnd.jupyter.widget-view+json": {
       "model_id": "b6cebb02a5af4b5da3d809aac7938bfc",
       "version_major": 2,
       "version_minor": 0
      },
      "text/plain": [
       "  0%|          | 0/141 [00:00<?, ?it/s]"
      ]
     },
     "metadata": {},
     "output_type": "display_data"
    },
    {
     "name": "stdout",
     "output_type": "stream",
     "text": [
      "{'eval_loss': 0.3088957369327545, 'eval_runtime': 78.3744, 'eval_samples_per_second': 458.466, 'eval_steps_per_second': 1.799, 'epoch': 16.6}\n",
      "{'loss': 0.7954, 'grad_norm': 0.10322902351617813, 'learning_rate': 0.0005, 'epoch': 16.63}\n",
      "{'loss': 0.8001, 'grad_norm': 0.09540975093841553, 'learning_rate': 0.0005, 'epoch': 16.73}\n",
      "{'loss': 0.797, 'grad_norm': 0.12008529901504517, 'learning_rate': 0.0005, 'epoch': 16.82}\n",
      "{'loss': 0.7957, 'grad_norm': 0.10074936598539352, 'learning_rate': 0.0005, 'epoch': 16.92}\n"
     ]
    },
    {
     "data": {
      "application/vnd.jupyter.widget-view+json": {
       "model_id": "848f5098c64b489ba25432d3816c1d8c",
       "version_major": 2,
       "version_minor": 0
      },
      "text/plain": [
       "  0%|          | 0/141 [00:00<?, ?it/s]"
      ]
     },
     "metadata": {},
     "output_type": "display_data"
    },
    {
     "name": "stdout",
     "output_type": "stream",
     "text": [
      "{'eval_loss': 0.3083873689174652, 'eval_runtime': 78.2989, 'eval_samples_per_second': 458.908, 'eval_steps_per_second': 1.801, 'epoch': 16.93}\n",
      "{'loss': 0.7924, 'grad_norm': 0.09684556722640991, 'learning_rate': 0.0005, 'epoch': 17.02}\n",
      "{'loss': 0.7934, 'grad_norm': 0.09720702469348907, 'learning_rate': 0.0005, 'epoch': 17.12}\n",
      "{'loss': 0.7949, 'grad_norm': 0.09564649313688278, 'learning_rate': 0.0005, 'epoch': 17.22}\n"
     ]
    },
    {
     "data": {
      "application/vnd.jupyter.widget-view+json": {
       "model_id": "5c9800e85a6b474aa0bc4bb7f58460e1",
       "version_major": 2,
       "version_minor": 0
      },
      "text/plain": [
       "  0%|          | 0/141 [00:00<?, ?it/s]"
      ]
     },
     "metadata": {},
     "output_type": "display_data"
    },
    {
     "name": "stdout",
     "output_type": "stream",
     "text": [
      "{'eval_loss': 0.30780255794525146, 'eval_runtime': 78.3884, 'eval_samples_per_second': 458.384, 'eval_steps_per_second': 1.799, 'epoch': 17.26}\n",
      "{'loss': 0.7936, 'grad_norm': 0.08895818889141083, 'learning_rate': 0.0005, 'epoch': 17.32}\n",
      "{'loss': 0.796, 'grad_norm': 0.09234727919101715, 'learning_rate': 0.0005, 'epoch': 17.42}\n",
      "{'loss': 0.7968, 'grad_norm': 0.10541809350252151, 'learning_rate': 0.0005, 'epoch': 17.52}\n"
     ]
    },
    {
     "data": {
      "application/vnd.jupyter.widget-view+json": {
       "model_id": "a1223168f1c94e21accc7da34044aa19",
       "version_major": 2,
       "version_minor": 0
      },
      "text/plain": [
       "  0%|          | 0/141 [00:00<?, ?it/s]"
      ]
     },
     "metadata": {},
     "output_type": "display_data"
    },
    {
     "name": "stdout",
     "output_type": "stream",
     "text": [
      "{'eval_loss': 0.30550768971443176, 'eval_runtime': 78.2319, 'eval_samples_per_second': 459.301, 'eval_steps_per_second': 1.802, 'epoch': 17.59}\n",
      "{'loss': 0.7931, 'grad_norm': 0.11727346479892731, 'learning_rate': 0.0005, 'epoch': 17.62}\n",
      "{'loss': 0.7956, 'grad_norm': 0.09193559736013412, 'learning_rate': 0.0005, 'epoch': 17.72}\n",
      "{'loss': 0.7987, 'grad_norm': 0.1046842485666275, 'learning_rate': 0.0005, 'epoch': 17.81}\n",
      "{'loss': 0.7938, 'grad_norm': 0.11246015876531601, 'learning_rate': 0.0005, 'epoch': 17.91}\n"
     ]
    },
    {
     "data": {
      "application/vnd.jupyter.widget-view+json": {
       "model_id": "d543e44871fc4c5bb7ca583be2c10f4f",
       "version_major": 2,
       "version_minor": 0
      },
      "text/plain": [
       "  0%|          | 0/141 [00:00<?, ?it/s]"
      ]
     },
     "metadata": {},
     "output_type": "display_data"
    },
    {
     "name": "stdout",
     "output_type": "stream",
     "text": [
      "{'eval_loss': 0.3046870231628418, 'eval_runtime': 78.346, 'eval_samples_per_second': 458.632, 'eval_steps_per_second': 1.8, 'epoch': 17.93}\n",
      "{'loss': 0.8004, 'grad_norm': 0.11797589063644409, 'learning_rate': 0.0005, 'epoch': 18.01}\n",
      "{'loss': 0.7967, 'grad_norm': 0.09117051959037781, 'learning_rate': 0.0005, 'epoch': 18.11}\n",
      "{'loss': 0.7968, 'grad_norm': 0.10053333640098572, 'learning_rate': 0.0005, 'epoch': 18.21}\n"
     ]
    },
    {
     "data": {
      "application/vnd.jupyter.widget-view+json": {
       "model_id": "eaee0da5a2d2481484ef8859d01a651f",
       "version_major": 2,
       "version_minor": 0
      },
      "text/plain": [
       "  0%|          | 0/141 [00:00<?, ?it/s]"
      ]
     },
     "metadata": {},
     "output_type": "display_data"
    },
    {
     "name": "stdout",
     "output_type": "stream",
     "text": [
      "{'eval_loss': 0.3030259311199188, 'eval_runtime': 78.4734, 'eval_samples_per_second': 457.888, 'eval_steps_per_second': 1.797, 'epoch': 18.26}\n",
      "{'loss': 0.7954, 'grad_norm': 0.10831593722105026, 'learning_rate': 0.0005, 'epoch': 18.31}\n",
      "{'loss': 0.7962, 'grad_norm': 0.09847396612167358, 'learning_rate': 0.0005, 'epoch': 18.41}\n",
      "{'loss': 0.7959, 'grad_norm': 0.09716372936964035, 'learning_rate': 0.0005, 'epoch': 18.51}\n"
     ]
    },
    {
     "data": {
      "application/vnd.jupyter.widget-view+json": {
       "model_id": "3e0ee64e730244a8a3c213f88c36ea22",
       "version_major": 2,
       "version_minor": 0
      },
      "text/plain": [
       "  0%|          | 0/141 [00:00<?, ?it/s]"
      ]
     },
     "metadata": {},
     "output_type": "display_data"
    },
    {
     "name": "stdout",
     "output_type": "stream",
     "text": [
      "{'eval_loss': 0.3030734360218048, 'eval_runtime': 77.7979, 'eval_samples_per_second': 461.863, 'eval_steps_per_second': 1.812, 'epoch': 18.59}\n",
      "{'loss': 0.7956, 'grad_norm': 0.09445370733737946, 'learning_rate': 0.0005, 'epoch': 18.61}\n",
      "{'loss': 0.7947, 'grad_norm': 0.08658391237258911, 'learning_rate': 0.0005, 'epoch': 18.71}\n",
      "{'loss': 0.7912, 'grad_norm': 0.09284580498933792, 'learning_rate': 0.0005, 'epoch': 18.8}\n",
      "{'loss': 0.7942, 'grad_norm': 0.10269823670387268, 'learning_rate': 0.0005, 'epoch': 18.9}\n"
     ]
    },
    {
     "data": {
      "application/vnd.jupyter.widget-view+json": {
       "model_id": "54efba9f4abc4f51ae40577d38f5d979",
       "version_major": 2,
       "version_minor": 0
      },
      "text/plain": [
       "  0%|          | 0/141 [00:00<?, ?it/s]"
      ]
     },
     "metadata": {},
     "output_type": "display_data"
    },
    {
     "name": "stdout",
     "output_type": "stream",
     "text": [
      "{'eval_loss': 0.3034428060054779, 'eval_runtime': 78.2185, 'eval_samples_per_second': 459.38, 'eval_steps_per_second': 1.803, 'epoch': 18.92}\n",
      "{'loss': 0.7931, 'grad_norm': 0.09685816615819931, 'learning_rate': 0.0005, 'epoch': 19.0}\n",
      "{'loss': 0.7959, 'grad_norm': 0.08768628537654877, 'learning_rate': 0.0005, 'epoch': 19.1}\n",
      "{'loss': 0.7903, 'grad_norm': 0.09489808976650238, 'learning_rate': 0.0005, 'epoch': 19.2}\n"
     ]
    },
    {
     "data": {
      "application/vnd.jupyter.widget-view+json": {
       "model_id": "72482832a09e49969161f469146ee5af",
       "version_major": 2,
       "version_minor": 0
      },
      "text/plain": [
       "  0%|          | 0/141 [00:00<?, ?it/s]"
      ]
     },
     "metadata": {},
     "output_type": "display_data"
    },
    {
     "name": "stdout",
     "output_type": "stream",
     "text": [
      "{'eval_loss': 0.30197158455848694, 'eval_runtime': 78.074, 'eval_samples_per_second': 460.23, 'eval_steps_per_second': 1.806, 'epoch': 19.25}\n",
      "{'loss': 0.7939, 'grad_norm': 0.10318297892808914, 'learning_rate': 0.0005, 'epoch': 19.3}\n",
      "{'loss': 0.791, 'grad_norm': 0.08673813194036484, 'learning_rate': 0.0005, 'epoch': 19.4}\n",
      "{'loss': 0.7979, 'grad_norm': 0.0930190235376358, 'learning_rate': 0.0005, 'epoch': 19.5}\n"
     ]
    },
    {
     "data": {
      "application/vnd.jupyter.widget-view+json": {
       "model_id": "2bda2e43869343d185221e738698e31f",
       "version_major": 2,
       "version_minor": 0
      },
      "text/plain": [
       "  0%|          | 0/141 [00:00<?, ?it/s]"
      ]
     },
     "metadata": {},
     "output_type": "display_data"
    },
    {
     "name": "stdout",
     "output_type": "stream",
     "text": [
      "{'eval_loss': 0.298952579498291, 'eval_runtime': 78.3536, 'eval_samples_per_second': 458.588, 'eval_steps_per_second': 1.8, 'epoch': 19.59}\n",
      "{'loss': 0.7921, 'grad_norm': 0.08553079515695572, 'learning_rate': 0.0005, 'epoch': 19.6}\n",
      "{'loss': 0.7977, 'grad_norm': 0.09464172273874283, 'learning_rate': 0.0005, 'epoch': 19.69}\n",
      "{'loss': 0.7969, 'grad_norm': 0.09075772762298584, 'learning_rate': 0.0005, 'epoch': 19.79}\n",
      "{'loss': 0.793, 'grad_norm': 0.09976064413785934, 'learning_rate': 0.0005, 'epoch': 19.89}\n"
     ]
    },
    {
     "data": {
      "application/vnd.jupyter.widget-view+json": {
       "model_id": "dc5cce8f7b6548cb8b6a26e7935e92c1",
       "version_major": 2,
       "version_minor": 0
      },
      "text/plain": [
       "  0%|          | 0/141 [00:00<?, ?it/s]"
      ]
     },
     "metadata": {},
     "output_type": "display_data"
    },
    {
     "name": "stdout",
     "output_type": "stream",
     "text": [
      "{'eval_loss': 0.3009064495563507, 'eval_runtime': 78.0403, 'eval_samples_per_second': 460.429, 'eval_steps_per_second': 1.807, 'epoch': 19.92}\n",
      "{'loss': 0.7976, 'grad_norm': 0.08419203758239746, 'learning_rate': 0.0005, 'epoch': 19.99}\n",
      "{'loss': 0.7937, 'grad_norm': 0.08473066240549088, 'learning_rate': 0.0005, 'epoch': 20.09}\n",
      "{'loss': 0.7886, 'grad_norm': 0.10131422430276871, 'learning_rate': 0.0005, 'epoch': 20.19}\n"
     ]
    },
    {
     "data": {
      "application/vnd.jupyter.widget-view+json": {
       "model_id": "6830335b756c4657b567b3100156c470",
       "version_major": 2,
       "version_minor": 0
      },
      "text/plain": [
       "  0%|          | 0/141 [00:00<?, ?it/s]"
      ]
     },
     "metadata": {},
     "output_type": "display_data"
    },
    {
     "name": "stdout",
     "output_type": "stream",
     "text": [
      "{'eval_loss': 0.30186402797698975, 'eval_runtime': 77.8048, 'eval_samples_per_second': 461.823, 'eval_steps_per_second': 1.812, 'epoch': 20.25}\n",
      "{'loss': 0.7986, 'grad_norm': 0.09264308959245682, 'learning_rate': 0.0005, 'epoch': 20.29}\n",
      "{'loss': 0.7961, 'grad_norm': 0.07964299619197845, 'learning_rate': 0.0005, 'epoch': 20.39}\n",
      "{'loss': 0.7962, 'grad_norm': 0.07755773514509201, 'learning_rate': 0.0005, 'epoch': 20.49}\n"
     ]
    },
    {
     "data": {
      "application/vnd.jupyter.widget-view+json": {
       "model_id": "8603c55164904cc1b2bef2fb3c0e522c",
       "version_major": 2,
       "version_minor": 0
      },
      "text/plain": [
       "  0%|          | 0/141 [00:00<?, ?it/s]"
      ]
     },
     "metadata": {},
     "output_type": "display_data"
    },
    {
     "name": "stdout",
     "output_type": "stream",
     "text": [
      "{'eval_loss': 0.3009690046310425, 'eval_runtime': 78.2536, 'eval_samples_per_second': 459.173, 'eval_steps_per_second': 1.802, 'epoch': 20.58}\n",
      "{'loss': 0.7936, 'grad_norm': 0.099184051156044, 'learning_rate': 0.0005, 'epoch': 20.59}\n",
      "{'loss': 0.7954, 'grad_norm': 0.08881118148565292, 'learning_rate': 0.0005, 'epoch': 20.68}\n",
      "{'loss': 0.7947, 'grad_norm': 0.09098460525274277, 'learning_rate': 0.0005, 'epoch': 20.78}\n",
      "{'loss': 0.7907, 'grad_norm': 0.10071269422769547, 'learning_rate': 0.0005, 'epoch': 20.88}\n"
     ]
    },
    {
     "data": {
      "application/vnd.jupyter.widget-view+json": {
       "model_id": "87af09f4d5f44b5d9ebabee45d3c88f5",
       "version_major": 2,
       "version_minor": 0
      },
      "text/plain": [
       "  0%|          | 0/141 [00:00<?, ?it/s]"
      ]
     },
     "metadata": {},
     "output_type": "display_data"
    },
    {
     "name": "stdout",
     "output_type": "stream",
     "text": [
      "{'eval_loss': 0.3013538420200348, 'eval_runtime': 78.366, 'eval_samples_per_second': 458.515, 'eval_steps_per_second': 1.799, 'epoch': 20.91}\n",
      "{'loss': 0.7908, 'grad_norm': 0.0965692400932312, 'learning_rate': 0.0005, 'epoch': 20.98}\n",
      "{'loss': 0.795, 'grad_norm': 0.09735146164894104, 'learning_rate': 0.0005, 'epoch': 21.08}\n",
      "{'loss': 0.7963, 'grad_norm': 0.09279429912567139, 'learning_rate': 0.0005, 'epoch': 21.18}\n"
     ]
    },
    {
     "data": {
      "application/vnd.jupyter.widget-view+json": {
       "model_id": "546e4de944484946a1bb15b6843fb354",
       "version_major": 2,
       "version_minor": 0
      },
      "text/plain": [
       "  0%|          | 0/141 [00:00<?, ?it/s]"
      ]
     },
     "metadata": {},
     "output_type": "display_data"
    },
    {
     "name": "stdout",
     "output_type": "stream",
     "text": [
      "{'eval_loss': 0.3025299310684204, 'eval_runtime': 77.933, 'eval_samples_per_second': 461.063, 'eval_steps_per_second': 1.809, 'epoch': 21.25}\n",
      "{'loss': 0.7907, 'grad_norm': 0.09199397265911102, 'learning_rate': 0.0005, 'epoch': 21.28}\n",
      "{'loss': 0.7953, 'grad_norm': 0.09631504118442535, 'learning_rate': 0.0005, 'epoch': 21.38}\n",
      "{'loss': 0.7932, 'grad_norm': 0.08740419894456863, 'learning_rate': 0.0005, 'epoch': 21.48}\n",
      "{'loss': 0.791, 'grad_norm': 0.09928162395954132, 'learning_rate': 0.0005, 'epoch': 21.58}\n"
     ]
    },
    {
     "data": {
      "application/vnd.jupyter.widget-view+json": {
       "model_id": "77865ed8fd5d4dc69379f8c663c29bb1",
       "version_major": 2,
       "version_minor": 0
      },
      "text/plain": [
       "  0%|          | 0/141 [00:00<?, ?it/s]"
      ]
     },
     "metadata": {},
     "output_type": "display_data"
    },
    {
     "name": "stdout",
     "output_type": "stream",
     "text": [
      "{'eval_loss': 0.2995816767215729, 'eval_runtime': 78.7426, 'eval_samples_per_second': 456.322, 'eval_steps_per_second': 1.791, 'epoch': 21.58}\n",
      "{'loss': 0.7925, 'grad_norm': 0.12262985855340958, 'learning_rate': 0.0005, 'epoch': 21.67}\n",
      "{'loss': 0.795, 'grad_norm': 0.08798123896121979, 'learning_rate': 0.0005, 'epoch': 21.77}\n",
      "{'loss': 0.7946, 'grad_norm': 0.09091827273368835, 'learning_rate': 0.0005, 'epoch': 21.87}\n"
     ]
    },
    {
     "data": {
      "application/vnd.jupyter.widget-view+json": {
       "model_id": "a20a919fa6da45129df19fdc24ef5cbe",
       "version_major": 2,
       "version_minor": 0
      },
      "text/plain": [
       "  0%|          | 0/141 [00:00<?, ?it/s]"
      ]
     },
     "metadata": {},
     "output_type": "display_data"
    },
    {
     "name": "stdout",
     "output_type": "stream",
     "text": [
      "{'eval_loss': 0.2973203957080841, 'eval_runtime': 77.2774, 'eval_samples_per_second': 464.974, 'eval_steps_per_second': 1.825, 'epoch': 21.91}\n",
      "{'loss': 0.7944, 'grad_norm': 0.09789466112852097, 'learning_rate': 0.0005, 'epoch': 21.97}\n",
      "{'loss': 0.7965, 'grad_norm': 0.11332697421312332, 'learning_rate': 0.0005, 'epoch': 22.07}\n",
      "{'loss': 0.7947, 'grad_norm': 0.08138488233089447, 'learning_rate': 0.0005, 'epoch': 22.17}\n"
     ]
    },
    {
     "data": {
      "application/vnd.jupyter.widget-view+json": {
       "model_id": "6c8b766076d648a69bd45b7d850946f2",
       "version_major": 2,
       "version_minor": 0
      },
      "text/plain": [
       "  0%|          | 0/141 [00:00<?, ?it/s]"
      ]
     },
     "metadata": {},
     "output_type": "display_data"
    },
    {
     "name": "stdout",
     "output_type": "stream",
     "text": [
      "{'eval_loss': 0.29964473843574524, 'eval_runtime': 78.2873, 'eval_samples_per_second': 458.976, 'eval_steps_per_second': 1.801, 'epoch': 22.24}\n",
      "{'loss': 0.7952, 'grad_norm': 0.08935411274433136, 'learning_rate': 0.0005, 'epoch': 22.27}\n",
      "{'loss': 0.7939, 'grad_norm': 0.09254353493452072, 'learning_rate': 0.0005, 'epoch': 22.37}\n",
      "{'loss': 0.791, 'grad_norm': 0.08891025185585022, 'learning_rate': 0.0005, 'epoch': 22.47}\n",
      "{'loss': 0.7902, 'grad_norm': 0.0811721459031105, 'learning_rate': 0.0005, 'epoch': 22.56}\n"
     ]
    },
    {
     "data": {
      "application/vnd.jupyter.widget-view+json": {
       "model_id": "a70af51ad43d402d980631942817f40e",
       "version_major": 2,
       "version_minor": 0
      },
      "text/plain": [
       "  0%|          | 0/141 [00:00<?, ?it/s]"
      ]
     },
     "metadata": {},
     "output_type": "display_data"
    },
    {
     "name": "stdout",
     "output_type": "stream",
     "text": [
      "{'eval_loss': 0.2977364957332611, 'eval_runtime': 77.8306, 'eval_samples_per_second': 461.669, 'eval_steps_per_second': 1.812, 'epoch': 22.57}\n",
      "{'loss': 0.7898, 'grad_norm': 0.07323255389928818, 'learning_rate': 0.0005, 'epoch': 22.66}\n",
      "{'loss': 0.7917, 'grad_norm': 0.08197358250617981, 'learning_rate': 0.0005, 'epoch': 22.76}\n",
      "{'loss': 0.7941, 'grad_norm': 0.0903705582022667, 'learning_rate': 0.0005, 'epoch': 22.86}\n"
     ]
    },
    {
     "data": {
      "application/vnd.jupyter.widget-view+json": {
       "model_id": "4f10ea0e3dad4b2298fab1b2a7e4064e",
       "version_major": 2,
       "version_minor": 0
      },
      "text/plain": [
       "  0%|          | 0/141 [00:00<?, ?it/s]"
      ]
     },
     "metadata": {},
     "output_type": "display_data"
    },
    {
     "name": "stdout",
     "output_type": "stream",
     "text": [
      "{'eval_loss': 0.29566073417663574, 'eval_runtime': 78.7421, 'eval_samples_per_second': 456.325, 'eval_steps_per_second': 1.791, 'epoch': 22.91}\n",
      "{'loss': 0.7925, 'grad_norm': 0.07773018628358841, 'learning_rate': 0.0005, 'epoch': 22.96}\n",
      "{'loss': 0.7906, 'grad_norm': 0.078605517745018, 'learning_rate': 0.0005, 'epoch': 23.06}\n",
      "{'loss': 0.7903, 'grad_norm': 0.06992238759994507, 'learning_rate': 0.0005, 'epoch': 23.16}\n"
     ]
    },
    {
     "data": {
      "application/vnd.jupyter.widget-view+json": {
       "model_id": "79559b3145f946ca8f176837ab9b9bbf",
       "version_major": 2,
       "version_minor": 0
      },
      "text/plain": [
       "  0%|          | 0/141 [00:00<?, ?it/s]"
      ]
     },
     "metadata": {},
     "output_type": "display_data"
    },
    {
     "name": "stdout",
     "output_type": "stream",
     "text": [
      "{'eval_loss': 0.2950580418109894, 'eval_runtime': 78.3728, 'eval_samples_per_second': 458.475, 'eval_steps_per_second': 1.799, 'epoch': 23.24}\n",
      "{'loss': 0.7919, 'grad_norm': 0.08772502839565277, 'learning_rate': 0.0005, 'epoch': 23.26}\n",
      "{'loss': 0.789, 'grad_norm': 0.09130949527025223, 'learning_rate': 0.0005, 'epoch': 23.36}\n",
      "{'loss': 0.7925, 'grad_norm': 0.10973457247018814, 'learning_rate': 0.0005, 'epoch': 23.46}\n",
      "{'loss': 0.7908, 'grad_norm': 0.07317009568214417, 'learning_rate': 0.0005, 'epoch': 23.55}\n"
     ]
    },
    {
     "data": {
      "application/vnd.jupyter.widget-view+json": {
       "model_id": "53240443bed24334935685d2e1a189cf",
       "version_major": 2,
       "version_minor": 0
      },
      "text/plain": [
       "  0%|          | 0/141 [00:00<?, ?it/s]"
      ]
     },
     "metadata": {},
     "output_type": "display_data"
    },
    {
     "name": "stdout",
     "output_type": "stream",
     "text": [
      "{'eval_loss': 0.2958618104457855, 'eval_runtime': 78.2819, 'eval_samples_per_second': 459.008, 'eval_steps_per_second': 1.801, 'epoch': 23.57}\n",
      "{'loss': 0.795, 'grad_norm': 0.07255831360816956, 'learning_rate': 0.0005, 'epoch': 23.65}\n",
      "{'loss': 0.7914, 'grad_norm': 0.07447733730077744, 'learning_rate': 0.0005, 'epoch': 23.75}\n",
      "{'loss': 0.792, 'grad_norm': 0.09476024657487869, 'learning_rate': 0.0005, 'epoch': 23.85}\n"
     ]
    },
    {
     "data": {
      "application/vnd.jupyter.widget-view+json": {
       "model_id": "51779c858a604c4eab373495ae225b6c",
       "version_major": 2,
       "version_minor": 0
      },
      "text/plain": [
       "  0%|          | 0/141 [00:00<?, ?it/s]"
      ]
     },
     "metadata": {},
     "output_type": "display_data"
    },
    {
     "name": "stdout",
     "output_type": "stream",
     "text": [
      "{'eval_loss': 0.29714080691337585, 'eval_runtime': 77.8367, 'eval_samples_per_second': 461.633, 'eval_steps_per_second': 1.811, 'epoch': 23.9}\n",
      "{'loss': 0.7908, 'grad_norm': 0.07439687103033066, 'learning_rate': 0.0005, 'epoch': 23.95}\n",
      "{'loss': 0.791, 'grad_norm': 0.07852688431739807, 'learning_rate': 0.0005, 'epoch': 24.05}\n",
      "{'loss': 0.7937, 'grad_norm': 0.07376718521118164, 'learning_rate': 0.0005, 'epoch': 24.15}\n"
     ]
    },
    {
     "data": {
      "application/vnd.jupyter.widget-view+json": {
       "model_id": "b195127b606f4e38a0365cfb3d8bd930",
       "version_major": 2,
       "version_minor": 0
      },
      "text/plain": [
       "  0%|          | 0/141 [00:00<?, ?it/s]"
      ]
     },
     "metadata": {},
     "output_type": "display_data"
    },
    {
     "name": "stdout",
     "output_type": "stream",
     "text": [
      "{'eval_loss': 0.29487136006355286, 'eval_runtime': 78.0616, 'eval_samples_per_second': 460.303, 'eval_steps_per_second': 1.806, 'epoch': 24.23}\n",
      "{'loss': 0.7893, 'grad_norm': 0.07978740334510803, 'learning_rate': 0.0005, 'epoch': 24.25}\n",
      "{'loss': 0.7939, 'grad_norm': 0.08861391246318817, 'learning_rate': 0.0005, 'epoch': 24.35}\n",
      "{'loss': 0.7909, 'grad_norm': 0.07621107250452042, 'learning_rate': 0.0005, 'epoch': 24.45}\n",
      "{'loss': 0.79, 'grad_norm': 0.08632872253656387, 'learning_rate': 0.0005, 'epoch': 24.54}\n"
     ]
    },
    {
     "data": {
      "application/vnd.jupyter.widget-view+json": {
       "model_id": "cce9aa4431b24e929df14c3fa52daa18",
       "version_major": 2,
       "version_minor": 0
      },
      "text/plain": [
       "  0%|          | 0/141 [00:00<?, ?it/s]"
      ]
     },
     "metadata": {},
     "output_type": "display_data"
    },
    {
     "name": "stdout",
     "output_type": "stream",
     "text": [
      "{'eval_loss': 0.2980605661869049, 'eval_runtime': 78.1371, 'eval_samples_per_second': 459.859, 'eval_steps_per_second': 1.805, 'epoch': 24.56}\n",
      "{'loss': 0.7941, 'grad_norm': 0.07965262979269028, 'learning_rate': 0.0005, 'epoch': 24.64}\n",
      "{'loss': 0.7921, 'grad_norm': 0.065264493227005, 'learning_rate': 0.0005, 'epoch': 24.74}\n",
      "{'loss': 0.7879, 'grad_norm': 0.0821792334318161, 'learning_rate': 0.0005, 'epoch': 24.84}\n"
     ]
    },
    {
     "data": {
      "application/vnd.jupyter.widget-view+json": {
       "model_id": "4c56bc7da4f14616abe117d32071541c",
       "version_major": 2,
       "version_minor": 0
      },
      "text/plain": [
       "  0%|          | 0/141 [00:00<?, ?it/s]"
      ]
     },
     "metadata": {},
     "output_type": "display_data"
    },
    {
     "name": "stdout",
     "output_type": "stream",
     "text": [
      "{'eval_loss': 0.29526078701019287, 'eval_runtime': 78.6563, 'eval_samples_per_second': 456.823, 'eval_steps_per_second': 1.793, 'epoch': 24.9}\n",
      "{'loss': 0.7871, 'grad_norm': 0.09484890103340149, 'learning_rate': 0.0005, 'epoch': 24.94}\n",
      "{'loss': 0.7869, 'grad_norm': 0.08142971992492676, 'learning_rate': 0.0005, 'epoch': 25.04}\n",
      "{'loss': 0.7862, 'grad_norm': 0.07942947745323181, 'learning_rate': 0.0005, 'epoch': 25.14}\n"
     ]
    },
    {
     "data": {
      "application/vnd.jupyter.widget-view+json": {
       "model_id": "982e38e3145e4aef93fd7a1c529622ca",
       "version_major": 2,
       "version_minor": 0
      },
      "text/plain": [
       "  0%|          | 0/141 [00:00<?, ?it/s]"
      ]
     },
     "metadata": {},
     "output_type": "display_data"
    },
    {
     "name": "stdout",
     "output_type": "stream",
     "text": [
      "{'eval_loss': 0.2938403785228729, 'eval_runtime': 77.9284, 'eval_samples_per_second': 461.09, 'eval_steps_per_second': 1.809, 'epoch': 25.23}\n",
      "{'loss': 0.7905, 'grad_norm': 0.07983803749084473, 'learning_rate': 0.0005, 'epoch': 25.24}\n",
      "{'loss': 0.7856, 'grad_norm': 0.07647877186536789, 'learning_rate': 0.0005, 'epoch': 25.34}\n",
      "{'loss': 0.7915, 'grad_norm': 0.09425090998411179, 'learning_rate': 0.0005, 'epoch': 25.44}\n",
      "{'loss': 0.792, 'grad_norm': 0.08472265303134918, 'learning_rate': 0.0005, 'epoch': 25.53}\n"
     ]
    },
    {
     "data": {
      "application/vnd.jupyter.widget-view+json": {
       "model_id": "7e8f62a02ee246f99a63b7d877a272bf",
       "version_major": 2,
       "version_minor": 0
      },
      "text/plain": [
       "  0%|          | 0/141 [00:00<?, ?it/s]"
      ]
     },
     "metadata": {},
     "output_type": "display_data"
    },
    {
     "name": "stdout",
     "output_type": "stream",
     "text": [
      "{'eval_loss': 0.2947787344455719, 'eval_runtime': 78.3771, 'eval_samples_per_second': 458.45, 'eval_steps_per_second': 1.799, 'epoch': 25.56}\n",
      "{'loss': 0.7896, 'grad_norm': 0.07559071481227875, 'learning_rate': 0.0005, 'epoch': 25.63}\n",
      "{'loss': 0.7891, 'grad_norm': 0.09097924828529358, 'learning_rate': 0.0005, 'epoch': 25.73}\n",
      "{'loss': 0.7923, 'grad_norm': 0.08258531242609024, 'learning_rate': 0.0005, 'epoch': 25.83}\n"
     ]
    },
    {
     "data": {
      "application/vnd.jupyter.widget-view+json": {
       "model_id": "1d592841ffea4d7aa93f702f4fa0f457",
       "version_major": 2,
       "version_minor": 0
      },
      "text/plain": [
       "  0%|          | 0/141 [00:00<?, ?it/s]"
      ]
     },
     "metadata": {},
     "output_type": "display_data"
    },
    {
     "name": "stdout",
     "output_type": "stream",
     "text": [
      "{'eval_loss': 0.2944442331790924, 'eval_runtime': 78.1905, 'eval_samples_per_second': 459.544, 'eval_steps_per_second': 1.803, 'epoch': 25.89}\n",
      "{'loss': 0.7876, 'grad_norm': 0.077838234603405, 'learning_rate': 0.0005, 'epoch': 25.93}\n",
      "{'loss': 0.7916, 'grad_norm': 0.09027688950300217, 'learning_rate': 0.0005, 'epoch': 26.03}\n",
      "{'loss': 0.7905, 'grad_norm': 0.08033359050750732, 'learning_rate': 0.0005, 'epoch': 26.13}\n"
     ]
    },
    {
     "data": {
      "application/vnd.jupyter.widget-view+json": {
       "model_id": "e849335530744517a3a3f93f544e4ad1",
       "version_major": 2,
       "version_minor": 0
      },
      "text/plain": [
       "  0%|          | 0/141 [00:00<?, ?it/s]"
      ]
     },
     "metadata": {},
     "output_type": "display_data"
    },
    {
     "name": "stdout",
     "output_type": "stream",
     "text": [
      "{'eval_loss': 0.2923588156700134, 'eval_runtime': 78.1949, 'eval_samples_per_second': 459.519, 'eval_steps_per_second': 1.803, 'epoch': 26.22}\n",
      "{'loss': 0.7873, 'grad_norm': 0.0765942707657814, 'learning_rate': 0.0005, 'epoch': 26.23}\n",
      "{'loss': 0.7884, 'grad_norm': 0.08520355075597763, 'learning_rate': 0.0005, 'epoch': 26.33}\n",
      "{'loss': 0.7889, 'grad_norm': 0.0778830274939537, 'learning_rate': 0.0005, 'epoch': 26.42}\n",
      "{'loss': 0.7908, 'grad_norm': 0.0702887699007988, 'learning_rate': 0.0005, 'epoch': 26.52}\n"
     ]
    },
    {
     "data": {
      "application/vnd.jupyter.widget-view+json": {
       "model_id": "aea16e1a343a457db9b55de1e8c2fccd",
       "version_major": 2,
       "version_minor": 0
      },
      "text/plain": [
       "  0%|          | 0/141 [00:00<?, ?it/s]"
      ]
     },
     "metadata": {},
     "output_type": "display_data"
    },
    {
     "name": "stdout",
     "output_type": "stream",
     "text": [
      "{'eval_loss': 0.2915166914463043, 'eval_runtime': 78.1944, 'eval_samples_per_second': 459.522, 'eval_steps_per_second': 1.803, 'epoch': 26.56}\n",
      "{'loss': 0.7907, 'grad_norm': 0.06959086656570435, 'learning_rate': 0.0005, 'epoch': 26.62}\n",
      "{'loss': 0.7871, 'grad_norm': 0.06902960687875748, 'learning_rate': 0.0005, 'epoch': 26.72}\n",
      "{'loss': 0.787, 'grad_norm': 0.08735192567110062, 'learning_rate': 0.0005, 'epoch': 26.82}\n"
     ]
    },
    {
     "data": {
      "application/vnd.jupyter.widget-view+json": {
       "model_id": "a9f479753a6744d9b91aa9059bcd24b1",
       "version_major": 2,
       "version_minor": 0
      },
      "text/plain": [
       "  0%|          | 0/141 [00:00<?, ?it/s]"
      ]
     },
     "metadata": {},
     "output_type": "display_data"
    },
    {
     "name": "stdout",
     "output_type": "stream",
     "text": [
      "{'eval_loss': 0.2930685877799988, 'eval_runtime': 78.0589, 'eval_samples_per_second': 460.319, 'eval_steps_per_second': 1.806, 'epoch': 26.89}\n",
      "{'loss': 0.784, 'grad_norm': 0.0772302970290184, 'learning_rate': 0.0005, 'epoch': 26.92}\n",
      "{'loss': 0.7811, 'grad_norm': 0.0782938152551651, 'learning_rate': 0.0005, 'epoch': 27.02}\n",
      "{'loss': 0.7841, 'grad_norm': 0.0883563980460167, 'learning_rate': 0.0005, 'epoch': 27.12}\n",
      "{'loss': 0.7829, 'grad_norm': 0.08955070376396179, 'learning_rate': 0.0005, 'epoch': 27.22}\n"
     ]
    },
    {
     "data": {
      "application/vnd.jupyter.widget-view+json": {
       "model_id": "3702588483ff4a259e01d6973a092b2a",
       "version_major": 2,
       "version_minor": 0
      },
      "text/plain": [
       "  0%|          | 0/141 [00:00<?, ?it/s]"
      ]
     },
     "metadata": {},
     "output_type": "display_data"
    },
    {
     "name": "stdout",
     "output_type": "stream",
     "text": [
      "{'eval_loss': 0.2925923764705658, 'eval_runtime': 77.9355, 'eval_samples_per_second': 461.048, 'eval_steps_per_second': 1.809, 'epoch': 27.22}\n",
      "{'loss': 0.7858, 'grad_norm': 0.06526293605566025, 'learning_rate': 0.0005, 'epoch': 27.32}\n",
      "{'loss': 0.7881, 'grad_norm': 0.06342461705207825, 'learning_rate': 0.0005, 'epoch': 27.41}\n",
      "{'loss': 0.7878, 'grad_norm': 0.07671914249658585, 'learning_rate': 0.0005, 'epoch': 27.51}\n"
     ]
    },
    {
     "data": {
      "application/vnd.jupyter.widget-view+json": {
       "model_id": "b36fc98831bb4dbfa8fd7a032149b6cb",
       "version_major": 2,
       "version_minor": 0
      },
      "text/plain": [
       "  0%|          | 0/141 [00:00<?, ?it/s]"
      ]
     },
     "metadata": {},
     "output_type": "display_data"
    },
    {
     "name": "stdout",
     "output_type": "stream",
     "text": [
      "{'eval_loss': 0.2910706102848053, 'eval_runtime': 78.1301, 'eval_samples_per_second': 459.9, 'eval_steps_per_second': 1.805, 'epoch': 27.55}\n",
      "{'loss': 0.7873, 'grad_norm': 0.07467372715473175, 'learning_rate': 0.0005, 'epoch': 27.61}\n",
      "{'loss': 0.7857, 'grad_norm': 0.06584911793470383, 'learning_rate': 0.0005, 'epoch': 27.71}\n",
      "{'loss': 0.7872, 'grad_norm': 0.08960209786891937, 'learning_rate': 0.0005, 'epoch': 27.81}\n"
     ]
    },
    {
     "data": {
      "application/vnd.jupyter.widget-view+json": {
       "model_id": "fae37614b6344f2db60a066f0406706c",
       "version_major": 2,
       "version_minor": 0
      },
      "text/plain": [
       "  0%|          | 0/141 [00:00<?, ?it/s]"
      ]
     },
     "metadata": {},
     "output_type": "display_data"
    },
    {
     "name": "stdout",
     "output_type": "stream",
     "text": [
      "{'eval_loss': 0.2900739312171936, 'eval_runtime': 78.1186, 'eval_samples_per_second': 459.967, 'eval_steps_per_second': 1.805, 'epoch': 27.88}\n",
      "{'loss': 0.7887, 'grad_norm': 0.07552719861268997, 'learning_rate': 0.0005, 'epoch': 27.91}\n",
      "{'loss': 0.786, 'grad_norm': 0.08408193290233612, 'learning_rate': 0.0005, 'epoch': 28.01}\n",
      "{'loss': 0.7852, 'grad_norm': 0.07416079193353653, 'learning_rate': 0.0005, 'epoch': 28.11}\n",
      "{'loss': 0.7851, 'grad_norm': 0.07686462253332138, 'learning_rate': 0.0005, 'epoch': 28.21}\n"
     ]
    },
    {
     "data": {
      "application/vnd.jupyter.widget-view+json": {
       "model_id": "faf08bc00fc8469f8473534ec2b5157b",
       "version_major": 2,
       "version_minor": 0
      },
      "text/plain": [
       "  0%|          | 0/141 [00:00<?, ?it/s]"
      ]
     },
     "metadata": {},
     "output_type": "display_data"
    },
    {
     "name": "stdout",
     "output_type": "stream",
     "text": [
      "{'eval_loss': 0.2900935411453247, 'eval_runtime': 78.2233, 'eval_samples_per_second': 459.352, 'eval_steps_per_second': 1.803, 'epoch': 28.22}\n",
      "{'loss': 0.7826, 'grad_norm': 0.07275237143039703, 'learning_rate': 0.0005, 'epoch': 28.31}\n",
      "{'loss': 0.7857, 'grad_norm': 0.07931239157915115, 'learning_rate': 0.0005, 'epoch': 28.4}\n",
      "{'loss': 0.7856, 'grad_norm': 0.0861010029911995, 'learning_rate': 0.0005, 'epoch': 28.5}\n"
     ]
    },
    {
     "data": {
      "application/vnd.jupyter.widget-view+json": {
       "model_id": "a49e752ae0934668ad1d6571cd7dabc5",
       "version_major": 2,
       "version_minor": 0
      },
      "text/plain": [
       "  0%|          | 0/141 [00:00<?, ?it/s]"
      ]
     },
     "metadata": {},
     "output_type": "display_data"
    },
    {
     "name": "stdout",
     "output_type": "stream",
     "text": [
      "{'eval_loss': 0.29111671447753906, 'eval_runtime': 78.3091, 'eval_samples_per_second': 458.848, 'eval_steps_per_second': 1.801, 'epoch': 28.55}\n",
      "{'loss': 0.7861, 'grad_norm': 0.09686209261417389, 'learning_rate': 0.0005, 'epoch': 28.6}\n",
      "{'loss': 0.7861, 'grad_norm': 0.06739457696676254, 'learning_rate': 0.0005, 'epoch': 28.7}\n",
      "{'loss': 0.7868, 'grad_norm': 0.07466578483581543, 'learning_rate': 0.0005, 'epoch': 28.8}\n"
     ]
    },
    {
     "data": {
      "application/vnd.jupyter.widget-view+json": {
       "model_id": "ca349bc0c44a4140982e91373b2e3255",
       "version_major": 2,
       "version_minor": 0
      },
      "text/plain": [
       "  0%|          | 0/141 [00:00<?, ?it/s]"
      ]
     },
     "metadata": {},
     "output_type": "display_data"
    },
    {
     "name": "stdout",
     "output_type": "stream",
     "text": [
      "{'eval_loss': 0.28939196467399597, 'eval_runtime': 78.1111, 'eval_samples_per_second': 460.012, 'eval_steps_per_second': 1.805, 'epoch': 28.88}\n",
      "{'loss': 0.7885, 'grad_norm': 0.06926224380731583, 'learning_rate': 0.0005, 'epoch': 28.9}\n",
      "{'loss': 0.781, 'grad_norm': 0.07768241316080093, 'learning_rate': 0.0005, 'epoch': 29.0}\n",
      "{'loss': 0.7806, 'grad_norm': 0.06093412637710571, 'learning_rate': 0.0005, 'epoch': 29.1}\n",
      "{'loss': 0.7849, 'grad_norm': 0.06924156099557877, 'learning_rate': 0.0005, 'epoch': 29.2}\n"
     ]
    },
    {
     "data": {
      "application/vnd.jupyter.widget-view+json": {
       "model_id": "f4f6b79855c74336985b57e994f7f0a7",
       "version_major": 2,
       "version_minor": 0
      },
      "text/plain": [
       "  0%|          | 0/141 [00:00<?, ?it/s]"
      ]
     },
     "metadata": {},
     "output_type": "display_data"
    },
    {
     "name": "stdout",
     "output_type": "stream",
     "text": [
      "{'eval_loss': 0.2919577956199646, 'eval_runtime': 78.2658, 'eval_samples_per_second': 459.102, 'eval_steps_per_second': 1.802, 'epoch': 29.21}\n",
      "{'loss': 0.7836, 'grad_norm': 0.06965749710798264, 'learning_rate': 0.0005, 'epoch': 29.29}\n",
      "{'loss': 0.7871, 'grad_norm': 0.07031357288360596, 'learning_rate': 0.0005, 'epoch': 29.39}\n",
      "{'loss': 0.788, 'grad_norm': 0.0690087378025055, 'learning_rate': 0.0005, 'epoch': 29.49}\n"
     ]
    },
    {
     "data": {
      "application/vnd.jupyter.widget-view+json": {
       "model_id": "c4ad396684a041aa842ebc82eb946098",
       "version_major": 2,
       "version_minor": 0
      },
      "text/plain": [
       "  0%|          | 0/141 [00:00<?, ?it/s]"
      ]
     },
     "metadata": {},
     "output_type": "display_data"
    },
    {
     "name": "stdout",
     "output_type": "stream",
     "text": [
      "{'eval_loss': 0.28890156745910645, 'eval_runtime': 78.1699, 'eval_samples_per_second': 459.665, 'eval_steps_per_second': 1.804, 'epoch': 29.54}\n",
      "{'loss': 0.7852, 'grad_norm': 0.07828712463378906, 'learning_rate': 0.0005, 'epoch': 29.59}\n",
      "{'loss': 0.7852, 'grad_norm': 0.08099785447120667, 'learning_rate': 0.0005, 'epoch': 29.69}\n",
      "{'loss': 0.7844, 'grad_norm': 0.07072678953409195, 'learning_rate': 0.0005, 'epoch': 29.79}\n"
     ]
    },
    {
     "data": {
      "application/vnd.jupyter.widget-view+json": {
       "model_id": "720779cc9f85497392b82890d8e13878",
       "version_major": 2,
       "version_minor": 0
      },
      "text/plain": [
       "  0%|          | 0/141 [00:00<?, ?it/s]"
      ]
     },
     "metadata": {},
     "output_type": "display_data"
    },
    {
     "name": "stdout",
     "output_type": "stream",
     "text": [
      "{'eval_loss': 0.2910138964653015, 'eval_runtime': 77.9607, 'eval_samples_per_second': 460.899, 'eval_steps_per_second': 1.809, 'epoch': 29.88}\n",
      "{'loss': 0.7797, 'grad_norm': 0.05931960791349411, 'learning_rate': 0.0005, 'epoch': 29.89}\n",
      "{'loss': 0.7845, 'grad_norm': 0.07741958647966385, 'learning_rate': 0.0005, 'epoch': 29.99}\n",
      "{'loss': 0.7789, 'grad_norm': 0.0654853954911232, 'learning_rate': 0.0005, 'epoch': 30.09}\n",
      "{'loss': 0.7843, 'grad_norm': 0.05681518092751503, 'learning_rate': 0.0005, 'epoch': 30.19}\n"
     ]
    },
    {
     "data": {
      "application/vnd.jupyter.widget-view+json": {
       "model_id": "49f1835102b74cd0b183b5f906fb81ce",
       "version_major": 2,
       "version_minor": 0
      },
      "text/plain": [
       "  0%|          | 0/141 [00:00<?, ?it/s]"
      ]
     },
     "metadata": {},
     "output_type": "display_data"
    },
    {
     "name": "stdout",
     "output_type": "stream",
     "text": [
      "{'eval_loss': 0.288505494594574, 'eval_runtime': 78.3646, 'eval_samples_per_second': 458.524, 'eval_steps_per_second': 1.799, 'epoch': 30.21}\n",
      "{'loss': 0.7849, 'grad_norm': 0.06186060607433319, 'learning_rate': 0.0005, 'epoch': 30.28}\n",
      "{'loss': 0.7832, 'grad_norm': 0.060327570885419846, 'learning_rate': 0.0005, 'epoch': 30.38}\n",
      "{'loss': 0.7824, 'grad_norm': 0.0836944431066513, 'learning_rate': 0.0005, 'epoch': 30.48}\n"
     ]
    },
    {
     "data": {
      "application/vnd.jupyter.widget-view+json": {
       "model_id": "a8f0b6c51d214ffbb72d2d9313758ec5",
       "version_major": 2,
       "version_minor": 0
      },
      "text/plain": [
       "  0%|          | 0/141 [00:00<?, ?it/s]"
      ]
     },
     "metadata": {},
     "output_type": "display_data"
    },
    {
     "name": "stdout",
     "output_type": "stream",
     "text": [
      "{'eval_loss': 0.2869998514652252, 'eval_runtime': 78.3317, 'eval_samples_per_second': 458.716, 'eval_steps_per_second': 1.8, 'epoch': 30.54}\n",
      "{'loss': 0.7802, 'grad_norm': 0.06305999308824539, 'learning_rate': 0.0005, 'epoch': 30.58}\n",
      "{'loss': 0.7828, 'grad_norm': 0.07095639407634735, 'learning_rate': 0.0005, 'epoch': 30.68}\n",
      "{'loss': 0.7823, 'grad_norm': 0.061010152101516724, 'learning_rate': 0.0005, 'epoch': 30.78}\n"
     ]
    },
    {
     "data": {
      "application/vnd.jupyter.widget-view+json": {
       "model_id": "dc95f3e1322c4939b0e1356908720085",
       "version_major": 2,
       "version_minor": 0
      },
      "text/plain": [
       "  0%|          | 0/141 [00:00<?, ?it/s]"
      ]
     },
     "metadata": {},
     "output_type": "display_data"
    },
    {
     "name": "stdout",
     "output_type": "stream",
     "text": [
      "{'eval_loss': 0.28868532180786133, 'eval_runtime': 78.426, 'eval_samples_per_second': 458.164, 'eval_steps_per_second': 1.798, 'epoch': 30.87}\n",
      "{'loss': 0.7819, 'grad_norm': 0.06673572212457657, 'learning_rate': 0.0005, 'epoch': 30.88}\n",
      "{'loss': 0.7859, 'grad_norm': 0.07358752191066742, 'learning_rate': 0.0005, 'epoch': 30.98}\n",
      "{'loss': 0.7816, 'grad_norm': 0.0833127424120903, 'learning_rate': 0.0005, 'epoch': 31.08}\n",
      "{'loss': 0.784, 'grad_norm': 0.07726433873176575, 'learning_rate': 0.0005, 'epoch': 31.18}\n"
     ]
    },
    {
     "data": {
      "application/vnd.jupyter.widget-view+json": {
       "model_id": "ed7104097a874921934c4f1af691073e",
       "version_major": 2,
       "version_minor": 0
      },
      "text/plain": [
       "  0%|          | 0/141 [00:00<?, ?it/s]"
      ]
     },
     "metadata": {},
     "output_type": "display_data"
    },
    {
     "name": "stdout",
     "output_type": "stream",
     "text": [
      "{'eval_loss': 0.28652989864349365, 'eval_runtime': 77.9852, 'eval_samples_per_second': 460.754, 'eval_steps_per_second': 1.808, 'epoch': 31.2}\n",
      "{'loss': 0.7809, 'grad_norm': 0.07322648167610168, 'learning_rate': 0.0005, 'epoch': 31.27}\n",
      "{'loss': 0.7843, 'grad_norm': 0.07558764517307281, 'learning_rate': 0.0005, 'epoch': 31.37}\n",
      "{'loss': 0.7826, 'grad_norm': 0.06408930569887161, 'learning_rate': 0.0005, 'epoch': 31.47}\n"
     ]
    },
    {
     "data": {
      "application/vnd.jupyter.widget-view+json": {
       "model_id": "ea02274187394563a9b43ebf75a1e0d4",
       "version_major": 2,
       "version_minor": 0
      },
      "text/plain": [
       "  0%|          | 0/141 [00:00<?, ?it/s]"
      ]
     },
     "metadata": {},
     "output_type": "display_data"
    },
    {
     "name": "stdout",
     "output_type": "stream",
     "text": [
      "{'eval_loss': 0.28710058331489563, 'eval_runtime': 78.1292, 'eval_samples_per_second': 459.905, 'eval_steps_per_second': 1.805, 'epoch': 31.54}\n",
      "{'loss': 0.7782, 'grad_norm': 0.07229547947645187, 'learning_rate': 0.0005, 'epoch': 31.57}\n",
      "{'loss': 0.7821, 'grad_norm': 0.07088025659322739, 'learning_rate': 0.0005, 'epoch': 31.67}\n",
      "{'loss': 0.7813, 'grad_norm': 0.06848887354135513, 'learning_rate': 0.0005, 'epoch': 31.77}\n",
      "{'loss': 0.7833, 'grad_norm': 0.06308992207050323, 'learning_rate': 0.0005, 'epoch': 31.87}\n"
     ]
    },
    {
     "data": {
      "application/vnd.jupyter.widget-view+json": {
       "model_id": "e74b0e86da1e4527b2a2d3d981b41edb",
       "version_major": 2,
       "version_minor": 0
      },
      "text/plain": [
       "  0%|          | 0/141 [00:00<?, ?it/s]"
      ]
     },
     "metadata": {},
     "output_type": "display_data"
    },
    {
     "name": "stdout",
     "output_type": "stream",
     "text": [
      "{'eval_loss': 0.286089152097702, 'eval_runtime': 77.929, 'eval_samples_per_second': 461.087, 'eval_steps_per_second': 1.809, 'epoch': 31.87}\n",
      "{'loss': 0.7859, 'grad_norm': 0.07805567234754562, 'learning_rate': 0.0005, 'epoch': 31.97}\n",
      "{'loss': 0.7823, 'grad_norm': 0.06956902146339417, 'learning_rate': 0.0005, 'epoch': 32.07}\n",
      "{'loss': 0.781, 'grad_norm': 0.062358271330595016, 'learning_rate': 0.0005, 'epoch': 32.16}\n"
     ]
    },
    {
     "data": {
      "application/vnd.jupyter.widget-view+json": {
       "model_id": "bf9a29e917824a15b8505c1af74f4741",
       "version_major": 2,
       "version_minor": 0
      },
      "text/plain": [
       "  0%|          | 0/141 [00:00<?, ?it/s]"
      ]
     },
     "metadata": {},
     "output_type": "display_data"
    },
    {
     "name": "stdout",
     "output_type": "stream",
     "text": [
      "{'eval_loss': 0.28609874844551086, 'eval_runtime': 78.1014, 'eval_samples_per_second': 460.068, 'eval_steps_per_second': 1.805, 'epoch': 32.2}\n",
      "{'loss': 0.7791, 'grad_norm': 0.07255645841360092, 'learning_rate': 0.0005, 'epoch': 32.26}\n",
      "{'loss': 0.7824, 'grad_norm': 0.07695205509662628, 'learning_rate': 0.0005, 'epoch': 32.36}\n",
      "{'loss': 0.7854, 'grad_norm': 0.05741768330335617, 'learning_rate': 0.0005, 'epoch': 32.46}\n"
     ]
    },
    {
     "data": {
      "application/vnd.jupyter.widget-view+json": {
       "model_id": "7e010a97beb44ca08c86da5917fdd8e7",
       "version_major": 2,
       "version_minor": 0
      },
      "text/plain": [
       "  0%|          | 0/141 [00:00<?, ?it/s]"
      ]
     },
     "metadata": {},
     "output_type": "display_data"
    },
    {
     "name": "stdout",
     "output_type": "stream",
     "text": [
      "{'eval_loss': 0.28650593757629395, 'eval_runtime': 77.8385, 'eval_samples_per_second': 461.623, 'eval_steps_per_second': 1.811, 'epoch': 32.53}\n",
      "{'loss': 0.7813, 'grad_norm': 0.06750185042619705, 'learning_rate': 0.0005, 'epoch': 32.56}\n",
      "{'loss': 0.7796, 'grad_norm': 0.06098974868655205, 'learning_rate': 0.0005, 'epoch': 32.66}\n",
      "{'loss': 0.7809, 'grad_norm': 0.07132521271705627, 'learning_rate': 0.0005, 'epoch': 32.76}\n",
      "{'loss': 0.7835, 'grad_norm': 0.06688979268074036, 'learning_rate': 0.0005, 'epoch': 32.86}\n"
     ]
    },
    {
     "data": {
      "application/vnd.jupyter.widget-view+json": {
       "model_id": "ea62297ee023448d9b41a196875b5739",
       "version_major": 2,
       "version_minor": 0
      },
      "text/plain": [
       "  0%|          | 0/141 [00:00<?, ?it/s]"
      ]
     },
     "metadata": {},
     "output_type": "display_data"
    },
    {
     "name": "stdout",
     "output_type": "stream",
     "text": [
      "{'eval_loss': 0.28491631150245667, 'eval_runtime': 78.5154, 'eval_samples_per_second': 457.643, 'eval_steps_per_second': 1.796, 'epoch': 32.86}\n",
      "{'loss': 0.7781, 'grad_norm': 0.07254704087972641, 'learning_rate': 0.0005, 'epoch': 32.96}\n",
      "{'loss': 0.7797, 'grad_norm': 0.060894161462783813, 'learning_rate': 0.0005, 'epoch': 33.06}\n",
      "{'loss': 0.7791, 'grad_norm': 0.05352647230029106, 'learning_rate': 0.0005, 'epoch': 33.15}\n"
     ]
    },
    {
     "data": {
      "application/vnd.jupyter.widget-view+json": {
       "model_id": "2b1e0bb3a5e54270a72d1149ec4cfd30",
       "version_major": 2,
       "version_minor": 0
      },
      "text/plain": [
       "  0%|          | 0/141 [00:00<?, ?it/s]"
      ]
     },
     "metadata": {},
     "output_type": "display_data"
    },
    {
     "name": "stdout",
     "output_type": "stream",
     "text": [
      "{'eval_loss': 0.2848557233810425, 'eval_runtime': 77.9907, 'eval_samples_per_second': 460.722, 'eval_steps_per_second': 1.808, 'epoch': 33.2}\n",
      "{'loss': 0.7784, 'grad_norm': 0.06762723624706268, 'learning_rate': 0.0005, 'epoch': 33.25}\n",
      "{'loss': 0.7801, 'grad_norm': 0.07355759292840958, 'learning_rate': 0.0005, 'epoch': 33.35}\n",
      "{'loss': 0.7806, 'grad_norm': 0.06858529150485992, 'learning_rate': 0.0005, 'epoch': 33.45}\n"
     ]
    },
    {
     "data": {
      "application/vnd.jupyter.widget-view+json": {
       "model_id": "7d1a26b8c0da426ea2f6d4ef7195ed11",
       "version_major": 2,
       "version_minor": 0
      },
      "text/plain": [
       "  0%|          | 0/141 [00:00<?, ?it/s]"
      ]
     },
     "metadata": {},
     "output_type": "display_data"
    },
    {
     "name": "stdout",
     "output_type": "stream",
     "text": [
      "{'eval_loss': 0.2855191230773926, 'eval_runtime': 77.9515, 'eval_samples_per_second': 460.953, 'eval_steps_per_second': 1.809, 'epoch': 33.53}\n",
      "{'loss': 0.7848, 'grad_norm': 0.05952918902039528, 'learning_rate': 0.0005, 'epoch': 33.55}\n",
      "{'loss': 0.7789, 'grad_norm': 0.06535564363002777, 'learning_rate': 0.0005, 'epoch': 33.65}\n",
      "{'loss': 0.7771, 'grad_norm': 0.07032956182956696, 'learning_rate': 0.0005, 'epoch': 33.75}\n",
      "{'loss': 0.7803, 'grad_norm': 0.06550005078315735, 'learning_rate': 0.0005, 'epoch': 33.85}\n"
     ]
    },
    {
     "data": {
      "application/vnd.jupyter.widget-view+json": {
       "model_id": "69a918f557894ea080a5195d0167b139",
       "version_major": 2,
       "version_minor": 0
      },
      "text/plain": [
       "  0%|          | 0/141 [00:00<?, ?it/s]"
      ]
     },
     "metadata": {},
     "output_type": "display_data"
    },
    {
     "name": "stdout",
     "output_type": "stream",
     "text": [
      "{'eval_loss': 0.2867300808429718, 'eval_runtime': 78.0848, 'eval_samples_per_second': 460.166, 'eval_steps_per_second': 1.806, 'epoch': 33.86}\n",
      "{'loss': 0.7781, 'grad_norm': 0.07171740382909775, 'learning_rate': 0.0005, 'epoch': 33.95}\n",
      "{'loss': 0.776, 'grad_norm': 0.09709081798791885, 'learning_rate': 0.0005, 'epoch': 34.05}\n",
      "{'loss': 0.7813, 'grad_norm': 0.05813942477107048, 'learning_rate': 0.0005, 'epoch': 34.14}\n"
     ]
    },
    {
     "data": {
      "application/vnd.jupyter.widget-view+json": {
       "model_id": "2d24c13219464dbb8c7bf3700a4e471b",
       "version_major": 2,
       "version_minor": 0
      },
      "text/plain": [
       "  0%|          | 0/141 [00:00<?, ?it/s]"
      ]
     },
     "metadata": {},
     "output_type": "display_data"
    },
    {
     "name": "stdout",
     "output_type": "stream",
     "text": [
      "{'eval_loss': 0.28437668085098267, 'eval_runtime': 77.8579, 'eval_samples_per_second': 461.508, 'eval_steps_per_second': 1.811, 'epoch': 34.19}\n",
      "{'loss': 0.7807, 'grad_norm': 0.06753277033567429, 'learning_rate': 0.0005, 'epoch': 34.24}\n",
      "{'loss': 0.7805, 'grad_norm': 0.06708000600337982, 'learning_rate': 0.0005, 'epoch': 34.34}\n",
      "{'loss': 0.7765, 'grad_norm': 0.061210282146930695, 'learning_rate': 0.0005, 'epoch': 34.44}\n"
     ]
    },
    {
     "data": {
      "application/vnd.jupyter.widget-view+json": {
       "model_id": "9c2984f0e0ca44c3b4f980fd603d3691",
       "version_major": 2,
       "version_minor": 0
      },
      "text/plain": [
       "  0%|          | 0/141 [00:00<?, ?it/s]"
      ]
     },
     "metadata": {},
     "output_type": "display_data"
    },
    {
     "name": "stdout",
     "output_type": "stream",
     "text": [
      "{'eval_loss': 0.28361672163009644, 'eval_runtime': 77.7829, 'eval_samples_per_second': 461.952, 'eval_steps_per_second': 1.813, 'epoch': 34.52}\n",
      "{'loss': 0.7817, 'grad_norm': 0.07807781547307968, 'learning_rate': 0.0005, 'epoch': 34.54}\n",
      "{'loss': 0.7781, 'grad_norm': 0.06661540269851685, 'learning_rate': 0.0005, 'epoch': 34.64}\n",
      "{'loss': 0.7791, 'grad_norm': 0.0656546801328659, 'learning_rate': 0.0005, 'epoch': 34.74}\n",
      "{'loss': 0.7772, 'grad_norm': 0.06267888098955154, 'learning_rate': 0.0005, 'epoch': 34.84}\n"
     ]
    },
    {
     "data": {
      "application/vnd.jupyter.widget-view+json": {
       "model_id": "dccb1ae72a044adfafdca95880bc343b",
       "version_major": 2,
       "version_minor": 0
      },
      "text/plain": [
       "  0%|          | 0/141 [00:00<?, ?it/s]"
      ]
     },
     "metadata": {},
     "output_type": "display_data"
    },
    {
     "name": "stdout",
     "output_type": "stream",
     "text": [
      "{'eval_loss': 0.2840995192527771, 'eval_runtime': 78.3663, 'eval_samples_per_second': 458.513, 'eval_steps_per_second': 1.799, 'epoch': 34.86}\n",
      "{'loss': 0.7763, 'grad_norm': 0.07166773080825806, 'learning_rate': 0.0005, 'epoch': 34.94}\n",
      "{'loss': 0.7778, 'grad_norm': 0.06341206282377243, 'learning_rate': 0.0005, 'epoch': 35.04}\n",
      "{'loss': 0.7796, 'grad_norm': 0.054792456328868866, 'learning_rate': 0.0005, 'epoch': 35.13}\n"
     ]
    },
    {
     "data": {
      "application/vnd.jupyter.widget-view+json": {
       "model_id": "87864f5f01fb4909817c91f4f5f1fad3",
       "version_major": 2,
       "version_minor": 0
      },
      "text/plain": [
       "  0%|          | 0/141 [00:00<?, ?it/s]"
      ]
     },
     "metadata": {},
     "output_type": "display_data"
    },
    {
     "name": "stdout",
     "output_type": "stream",
     "text": [
      "{'eval_loss': 0.2848277986049652, 'eval_runtime': 78.5976, 'eval_samples_per_second': 457.164, 'eval_steps_per_second': 1.794, 'epoch': 35.19}\n",
      "{'loss': 0.7789, 'grad_norm': 0.05818258970975876, 'learning_rate': 0.0005, 'epoch': 35.23}\n",
      "{'loss': 0.7785, 'grad_norm': 0.07562784850597382, 'learning_rate': 0.0005, 'epoch': 35.33}\n",
      "{'loss': 0.7757, 'grad_norm': 0.06742668896913528, 'learning_rate': 0.0005, 'epoch': 35.43}\n"
     ]
    },
    {
     "data": {
      "application/vnd.jupyter.widget-view+json": {
       "model_id": "03c8bf99fb1e4042855b4daed8ff3ad1",
       "version_major": 2,
       "version_minor": 0
      },
      "text/plain": [
       "  0%|          | 0/141 [00:00<?, ?it/s]"
      ]
     },
     "metadata": {},
     "output_type": "display_data"
    },
    {
     "name": "stdout",
     "output_type": "stream",
     "text": [
      "{'eval_loss': 0.2829136550426483, 'eval_runtime': 78.102, 'eval_samples_per_second': 460.065, 'eval_steps_per_second': 1.805, 'epoch': 35.52}\n",
      "{'loss': 0.7787, 'grad_norm': 0.06521114706993103, 'learning_rate': 0.0005, 'epoch': 35.53}\n",
      "{'loss': 0.7769, 'grad_norm': 0.07381656765937805, 'learning_rate': 0.0005, 'epoch': 35.63}\n",
      "{'loss': 0.7748, 'grad_norm': 0.07061979174613953, 'learning_rate': 0.0005, 'epoch': 35.73}\n",
      "{'loss': 0.7749, 'grad_norm': 0.07626848667860031, 'learning_rate': 0.0005, 'epoch': 35.83}\n"
     ]
    },
    {
     "data": {
      "application/vnd.jupyter.widget-view+json": {
       "model_id": "e3de3d7d49214104b3745e66e61ada17",
       "version_major": 2,
       "version_minor": 0
      },
      "text/plain": [
       "  0%|          | 0/141 [00:00<?, ?it/s]"
      ]
     },
     "metadata": {},
     "output_type": "display_data"
    },
    {
     "name": "stdout",
     "output_type": "stream",
     "text": [
      "{'eval_loss': 0.2827037274837494, 'eval_runtime': 78.3933, 'eval_samples_per_second': 458.355, 'eval_steps_per_second': 1.799, 'epoch': 35.85}\n",
      "{'loss': 0.7794, 'grad_norm': 0.06434355676174164, 'learning_rate': 0.0005, 'epoch': 35.93}\n",
      "{'loss': 0.7756, 'grad_norm': 0.07691680639982224, 'learning_rate': 0.0005, 'epoch': 36.02}\n",
      "{'loss': 0.7732, 'grad_norm': 0.06351926922798157, 'learning_rate': 0.0005, 'epoch': 36.12}\n"
     ]
    },
    {
     "data": {
      "application/vnd.jupyter.widget-view+json": {
       "model_id": "e946246bdccb4dc585f9117892007390",
       "version_major": 2,
       "version_minor": 0
      },
      "text/plain": [
       "  0%|          | 0/141 [00:00<?, ?it/s]"
      ]
     },
     "metadata": {},
     "output_type": "display_data"
    },
    {
     "name": "stdout",
     "output_type": "stream",
     "text": [
      "{'eval_loss': 0.28395789861679077, 'eval_runtime': 78.1905, 'eval_samples_per_second': 459.544, 'eval_steps_per_second': 1.803, 'epoch': 36.18}\n",
      "{'loss': 0.7809, 'grad_norm': 0.0664086639881134, 'learning_rate': 0.0005, 'epoch': 36.22}\n",
      "{'loss': 0.7752, 'grad_norm': 0.08130880445241928, 'learning_rate': 0.0005, 'epoch': 36.32}\n",
      "{'loss': 0.7765, 'grad_norm': 0.06458654254674911, 'learning_rate': 0.0005, 'epoch': 36.42}\n"
     ]
    },
    {
     "data": {
      "application/vnd.jupyter.widget-view+json": {
       "model_id": "5be981e3dc7e49f59973097f0f4790c1",
       "version_major": 2,
       "version_minor": 0
      },
      "text/plain": [
       "  0%|          | 0/141 [00:00<?, ?it/s]"
      ]
     },
     "metadata": {},
     "output_type": "display_data"
    },
    {
     "name": "stdout",
     "output_type": "stream",
     "text": [
      "{'eval_loss': 0.28213420510292053, 'eval_runtime': 78.5354, 'eval_samples_per_second': 457.526, 'eval_steps_per_second': 1.795, 'epoch': 36.52}\n",
      "{'loss': 0.7777, 'grad_norm': 0.08624888211488724, 'learning_rate': 0.0005, 'epoch': 36.52}\n",
      "{'loss': 0.7743, 'grad_norm': 0.06886167824268341, 'learning_rate': 0.0005, 'epoch': 36.62}\n",
      "{'loss': 0.7731, 'grad_norm': 0.0627002865076065, 'learning_rate': 0.0005, 'epoch': 36.72}\n",
      "{'loss': 0.7773, 'grad_norm': 0.07765691727399826, 'learning_rate': 0.0005, 'epoch': 36.82}\n"
     ]
    },
    {
     "data": {
      "application/vnd.jupyter.widget-view+json": {
       "model_id": "a59bd6ac2d8f4406924f9b9808086f52",
       "version_major": 2,
       "version_minor": 0
      },
      "text/plain": [
       "  0%|          | 0/141 [00:00<?, ?it/s]"
      ]
     },
     "metadata": {},
     "output_type": "display_data"
    },
    {
     "name": "stdout",
     "output_type": "stream",
     "text": [
      "{'eval_loss': 0.28304895758628845, 'eval_runtime': 78.154, 'eval_samples_per_second': 459.759, 'eval_steps_per_second': 1.804, 'epoch': 36.85}\n",
      "{'loss': 0.7779, 'grad_norm': 0.07723734527826309, 'learning_rate': 0.0005, 'epoch': 36.92}\n",
      "{'loss': 0.7784, 'grad_norm': 0.07647684961557388, 'learning_rate': 0.0005, 'epoch': 37.01}\n",
      "{'loss': 0.7775, 'grad_norm': 0.09562283754348755, 'learning_rate': 0.0005, 'epoch': 37.11}\n"
     ]
    },
    {
     "data": {
      "application/vnd.jupyter.widget-view+json": {
       "model_id": "f5846d95584a4882a28e8bfae6e5f637",
       "version_major": 2,
       "version_minor": 0
      },
      "text/plain": [
       "  0%|          | 0/141 [00:00<?, ?it/s]"
      ]
     },
     "metadata": {},
     "output_type": "display_data"
    },
    {
     "name": "stdout",
     "output_type": "stream",
     "text": [
      "{'eval_loss': 0.2831289768218994, 'eval_runtime': 77.8856, 'eval_samples_per_second': 461.343, 'eval_steps_per_second': 1.81, 'epoch': 37.18}\n",
      "{'loss': 0.776, 'grad_norm': 0.07700792700052261, 'learning_rate': 0.0005, 'epoch': 37.21}\n",
      "{'loss': 0.7727, 'grad_norm': 0.08262670040130615, 'learning_rate': 0.0005, 'epoch': 37.31}\n",
      "{'loss': 0.771, 'grad_norm': 0.07498189061880112, 'learning_rate': 0.0005, 'epoch': 37.41}\n",
      "{'loss': 0.7748, 'grad_norm': 0.06937941908836365, 'learning_rate': 0.0005, 'epoch': 37.51}\n"
     ]
    },
    {
     "data": {
      "application/vnd.jupyter.widget-view+json": {
       "model_id": "b288dde1e5454f67b356e2103ccb3774",
       "version_major": 2,
       "version_minor": 0
      },
      "text/plain": [
       "  0%|          | 0/141 [00:00<?, ?it/s]"
      ]
     },
     "metadata": {},
     "output_type": "display_data"
    },
    {
     "name": "stdout",
     "output_type": "stream",
     "text": [
      "{'eval_loss': 0.2808291018009186, 'eval_runtime': 78.2008, 'eval_samples_per_second': 459.484, 'eval_steps_per_second': 1.803, 'epoch': 37.51}\n",
      "{'loss': 0.7758, 'grad_norm': 0.06505175679922104, 'learning_rate': 0.0005, 'epoch': 37.61}\n",
      "{'loss': 0.7751, 'grad_norm': 0.07518404722213745, 'learning_rate': 0.0005, 'epoch': 37.71}\n",
      "{'loss': 0.7712, 'grad_norm': 0.08848083019256592, 'learning_rate': 0.0005, 'epoch': 37.81}\n"
     ]
    },
    {
     "data": {
      "application/vnd.jupyter.widget-view+json": {
       "model_id": "46a89c964137464b8e135da44489c966",
       "version_major": 2,
       "version_minor": 0
      },
      "text/plain": [
       "  0%|          | 0/141 [00:00<?, ?it/s]"
      ]
     },
     "metadata": {},
     "output_type": "display_data"
    },
    {
     "name": "stdout",
     "output_type": "stream",
     "text": [
      "{'eval_loss': 0.2813236713409424, 'eval_runtime': 78.172, 'eval_samples_per_second': 459.653, 'eval_steps_per_second': 1.804, 'epoch': 37.84}\n",
      "{'loss': 0.7759, 'grad_norm': 0.06226141378283501, 'learning_rate': 0.0005, 'epoch': 37.91}\n",
      "{'loss': 0.7787, 'grad_norm': 0.08468920737504959, 'learning_rate': 0.0005, 'epoch': 38.0}\n",
      "{'loss': 0.7711, 'grad_norm': 0.06035119295120239, 'learning_rate': 0.0005, 'epoch': 38.1}\n"
     ]
    },
    {
     "data": {
      "application/vnd.jupyter.widget-view+json": {
       "model_id": "69c4e04d072540e59885ca1093b73bde",
       "version_major": 2,
       "version_minor": 0
      },
      "text/plain": [
       "  0%|          | 0/141 [00:00<?, ?it/s]"
      ]
     },
     "metadata": {},
     "output_type": "display_data"
    },
    {
     "name": "stdout",
     "output_type": "stream",
     "text": [
      "{'eval_loss': 0.27908551692962646, 'eval_runtime': 78.7509, 'eval_samples_per_second': 456.274, 'eval_steps_per_second': 1.79, 'epoch': 38.18}\n",
      "{'loss': 0.7727, 'grad_norm': 0.07296807318925858, 'learning_rate': 0.0005, 'epoch': 38.2}\n",
      "{'loss': 0.7713, 'grad_norm': 0.06270211935043335, 'learning_rate': 0.0005, 'epoch': 38.3}\n",
      "{'loss': 0.7724, 'grad_norm': 0.06671849638223648, 'learning_rate': 0.0005, 'epoch': 38.4}\n",
      "{'loss': 0.7763, 'grad_norm': 0.056883443146944046, 'learning_rate': 0.0005, 'epoch': 38.5}\n"
     ]
    },
    {
     "data": {
      "application/vnd.jupyter.widget-view+json": {
       "model_id": "d7006ddd7b96403d9eb19a17e3edccb0",
       "version_major": 2,
       "version_minor": 0
      },
      "text/plain": [
       "  0%|          | 0/141 [00:00<?, ?it/s]"
      ]
     },
     "metadata": {},
     "output_type": "display_data"
    },
    {
     "name": "stdout",
     "output_type": "stream",
     "text": [
      "{'eval_loss': 0.2791113555431366, 'eval_runtime': 77.9733, 'eval_samples_per_second': 460.825, 'eval_steps_per_second': 1.808, 'epoch': 38.51}\n",
      "{'loss': 0.7731, 'grad_norm': 0.059739742428064346, 'learning_rate': 0.0005, 'epoch': 38.6}\n",
      "{'loss': 0.7737, 'grad_norm': 0.06975153833627701, 'learning_rate': 0.0005, 'epoch': 38.7}\n",
      "{'loss': 0.7699, 'grad_norm': 0.07721515744924545, 'learning_rate': 0.0005, 'epoch': 38.8}\n"
     ]
    },
    {
     "data": {
      "application/vnd.jupyter.widget-view+json": {
       "model_id": "fd20359ef3b0496aaf6bcc01f5fe6170",
       "version_major": 2,
       "version_minor": 0
      },
      "text/plain": [
       "  0%|          | 0/141 [00:00<?, ?it/s]"
      ]
     },
     "metadata": {},
     "output_type": "display_data"
    },
    {
     "name": "stdout",
     "output_type": "stream",
     "text": [
      "{'eval_loss': 0.2796582877635956, 'eval_runtime': 78.5375, 'eval_samples_per_second': 457.514, 'eval_steps_per_second': 1.795, 'epoch': 38.84}\n",
      "{'loss': 0.7717, 'grad_norm': 0.06029118597507477, 'learning_rate': 0.0005, 'epoch': 38.89}\n",
      "{'loss': 0.7753, 'grad_norm': 0.07720275968313217, 'learning_rate': 0.0005, 'epoch': 38.99}\n",
      "{'loss': 0.7713, 'grad_norm': 0.06241403520107269, 'learning_rate': 0.0005, 'epoch': 39.09}\n"
     ]
    },
    {
     "data": {
      "application/vnd.jupyter.widget-view+json": {
       "model_id": "91ba9d390c214470832d22fe8cbbd0ba",
       "version_major": 2,
       "version_minor": 0
      },
      "text/plain": [
       "  0%|          | 0/141 [00:00<?, ?it/s]"
      ]
     },
     "metadata": {},
     "output_type": "display_data"
    },
    {
     "name": "stdout",
     "output_type": "stream",
     "text": [
      "{'eval_loss': 0.27745839953422546, 'eval_runtime': 78.3894, 'eval_samples_per_second': 458.378, 'eval_steps_per_second': 1.799, 'epoch': 39.17}\n",
      "{'loss': 0.7727, 'grad_norm': 0.06796778738498688, 'learning_rate': 0.0005, 'epoch': 39.19}\n",
      "{'loss': 0.7725, 'grad_norm': 0.0590125173330307, 'learning_rate': 0.0005, 'epoch': 39.29}\n",
      "{'loss': 0.7736, 'grad_norm': 0.060753606259822845, 'learning_rate': 0.0005, 'epoch': 39.39}\n",
      "{'loss': 0.7727, 'grad_norm': 0.0654202550649643, 'learning_rate': 0.0005, 'epoch': 39.49}\n"
     ]
    },
    {
     "data": {
      "application/vnd.jupyter.widget-view+json": {
       "model_id": "bfb04de80b20425383cfbe84745c99d0",
       "version_major": 2,
       "version_minor": 0
      },
      "text/plain": [
       "  0%|          | 0/141 [00:00<?, ?it/s]"
      ]
     },
     "metadata": {},
     "output_type": "display_data"
    },
    {
     "name": "stdout",
     "output_type": "stream",
     "text": [
      "{'eval_loss': 0.27805522084236145, 'eval_runtime': 81.9631, 'eval_samples_per_second': 438.393, 'eval_steps_per_second': 1.72, 'epoch': 39.5}\n",
      "{'loss': 0.7687, 'grad_norm': 0.07632315158843994, 'learning_rate': 0.0005, 'epoch': 39.59}\n",
      "{'loss': 0.7703, 'grad_norm': 0.06468990445137024, 'learning_rate': 0.0005, 'epoch': 39.69}\n",
      "{'loss': 0.7696, 'grad_norm': 0.06225423142313957, 'learning_rate': 0.0005, 'epoch': 39.79}\n"
     ]
    },
    {
     "data": {
      "application/vnd.jupyter.widget-view+json": {
       "model_id": "a5091b9f62be4d7cb5718a33de0cdc5a",
       "version_major": 2,
       "version_minor": 0
      },
      "text/plain": [
       "  0%|          | 0/141 [00:00<?, ?it/s]"
      ]
     },
     "metadata": {},
     "output_type": "display_data"
    },
    {
     "name": "stdout",
     "output_type": "stream",
     "text": [
      "{'eval_loss': 0.27651074528694153, 'eval_runtime': 77.7032, 'eval_samples_per_second': 462.426, 'eval_steps_per_second': 1.815, 'epoch': 39.84}\n",
      "{'loss': 0.7768, 'grad_norm': 0.06140686199069023, 'learning_rate': 0.0005, 'epoch': 39.88}\n",
      "{'loss': 0.7725, 'grad_norm': 0.08042282611131668, 'learning_rate': 0.0005, 'epoch': 39.98}\n",
      "{'loss': 0.7727, 'grad_norm': 0.08113527297973633, 'learning_rate': 0.0005, 'epoch': 40.08}\n"
     ]
    },
    {
     "data": {
      "application/vnd.jupyter.widget-view+json": {
       "model_id": "b355023049244c999d5c1c9b3f4a8bc1",
       "version_major": 2,
       "version_minor": 0
      },
      "text/plain": [
       "  0%|          | 0/141 [00:00<?, ?it/s]"
      ]
     },
     "metadata": {},
     "output_type": "display_data"
    },
    {
     "name": "stdout",
     "output_type": "stream",
     "text": [
      "{'eval_loss': 0.279065877199173, 'eval_runtime': 77.9758, 'eval_samples_per_second': 460.81, 'eval_steps_per_second': 1.808, 'epoch': 40.17}\n",
      "{'loss': 0.7717, 'grad_norm': 0.08949318528175354, 'learning_rate': 0.0005, 'epoch': 40.18}\n",
      "{'loss': 0.7728, 'grad_norm': 0.07275509834289551, 'learning_rate': 0.0005, 'epoch': 40.28}\n",
      "{'loss': 0.7723, 'grad_norm': 0.07866113632917404, 'learning_rate': 0.0005, 'epoch': 40.38}\n",
      "{'loss': 0.7728, 'grad_norm': 0.07017934322357178, 'learning_rate': 0.0005, 'epoch': 40.48}\n"
     ]
    },
    {
     "data": {
      "application/vnd.jupyter.widget-view+json": {
       "model_id": "9ff0baadc92949e78e5d87eadce01403",
       "version_major": 2,
       "version_minor": 0
      },
      "text/plain": [
       "  0%|          | 0/141 [00:00<?, ?it/s]"
      ]
     },
     "metadata": {},
     "output_type": "display_data"
    },
    {
     "name": "stdout",
     "output_type": "stream",
     "text": [
      "{'eval_loss': 0.2781802713871002, 'eval_runtime': 77.9217, 'eval_samples_per_second': 461.129, 'eval_steps_per_second': 1.81, 'epoch': 40.5}\n",
      "{'loss': 0.7697, 'grad_norm': 0.08155082166194916, 'learning_rate': 0.0005, 'epoch': 40.58}\n",
      "{'loss': 0.7683, 'grad_norm': 0.07574257999658585, 'learning_rate': 0.0005, 'epoch': 40.68}\n",
      "{'loss': 0.7715, 'grad_norm': 0.06772096455097198, 'learning_rate': 0.0005, 'epoch': 40.78}\n"
     ]
    },
    {
     "data": {
      "application/vnd.jupyter.widget-view+json": {
       "model_id": "817e87bdbf6547c48917da31971dd518",
       "version_major": 2,
       "version_minor": 0
      },
      "text/plain": [
       "  0%|          | 0/141 [00:00<?, ?it/s]"
      ]
     },
     "metadata": {},
     "output_type": "display_data"
    },
    {
     "name": "stdout",
     "output_type": "stream",
     "text": [
      "{'eval_loss': 0.27697718143463135, 'eval_runtime': 78.3536, 'eval_samples_per_second': 458.588, 'eval_steps_per_second': 1.8, 'epoch': 40.83}\n",
      "{'loss': 0.772, 'grad_norm': 0.07158941775560379, 'learning_rate': 0.0005, 'epoch': 40.87}\n",
      "{'loss': 0.7665, 'grad_norm': 0.07266610115766525, 'learning_rate': 0.0005, 'epoch': 40.97}\n",
      "{'loss': 0.7704, 'grad_norm': 0.08201334625482559, 'learning_rate': 0.0005, 'epoch': 41.07}\n"
     ]
    },
    {
     "data": {
      "application/vnd.jupyter.widget-view+json": {
       "model_id": "00bc6e36bacd4d7da566d4e2b3961f92",
       "version_major": 2,
       "version_minor": 0
      },
      "text/plain": [
       "  0%|          | 0/141 [00:00<?, ?it/s]"
      ]
     },
     "metadata": {},
     "output_type": "display_data"
    },
    {
     "name": "stdout",
     "output_type": "stream",
     "text": [
      "{'eval_loss': 0.2779025733470917, 'eval_runtime': 78.169, 'eval_samples_per_second': 459.671, 'eval_steps_per_second': 1.804, 'epoch': 41.16}\n",
      "{'loss': 0.7694, 'grad_norm': 0.06263002008199692, 'learning_rate': 0.0005, 'epoch': 41.17}\n",
      "{'loss': 0.7712, 'grad_norm': 0.07283797115087509, 'learning_rate': 0.0005, 'epoch': 41.27}\n",
      "{'loss': 0.7686, 'grad_norm': 0.05310088396072388, 'learning_rate': 0.0005, 'epoch': 41.37}\n",
      "{'loss': 0.7733, 'grad_norm': 0.06585539132356644, 'learning_rate': 0.0005, 'epoch': 41.47}\n"
     ]
    },
    {
     "data": {
      "application/vnd.jupyter.widget-view+json": {
       "model_id": "3e5065dddaa24deaaad9e58f93c4b35b",
       "version_major": 2,
       "version_minor": 0
      },
      "text/plain": [
       "  0%|          | 0/141 [00:00<?, ?it/s]"
      ]
     },
     "metadata": {},
     "output_type": "display_data"
    },
    {
     "name": "stdout",
     "output_type": "stream",
     "text": [
      "{'eval_loss': 0.2767155170440674, 'eval_runtime': 78.5151, 'eval_samples_per_second': 457.644, 'eval_steps_per_second': 1.796, 'epoch': 41.49}\n",
      "{'loss': 0.7704, 'grad_norm': 0.0716266930103302, 'learning_rate': 0.0005, 'epoch': 41.57}\n",
      "{'loss': 0.7662, 'grad_norm': 0.06771731376647949, 'learning_rate': 0.0005, 'epoch': 41.67}\n",
      "{'loss': 0.7663, 'grad_norm': 0.07416398078203201, 'learning_rate': 0.0005, 'epoch': 41.76}\n"
     ]
    },
    {
     "data": {
      "application/vnd.jupyter.widget-view+json": {
       "model_id": "e97ac50d4f834ed18f7ad26d8fbff601",
       "version_major": 2,
       "version_minor": 0
      },
      "text/plain": [
       "  0%|          | 0/141 [00:00<?, ?it/s]"
      ]
     },
     "metadata": {},
     "output_type": "display_data"
    },
    {
     "name": "stdout",
     "output_type": "stream",
     "text": [
      "{'eval_loss': 0.2748834192752838, 'eval_runtime': 78.1728, 'eval_samples_per_second': 459.649, 'eval_steps_per_second': 1.804, 'epoch': 41.83}\n",
      "{'loss': 0.7727, 'grad_norm': 0.06682193279266357, 'learning_rate': 0.0005, 'epoch': 41.86}\n",
      "{'loss': 0.7684, 'grad_norm': 0.09169372171163559, 'learning_rate': 0.0005, 'epoch': 41.96}\n",
      "{'loss': 0.7695, 'grad_norm': 0.0769851878285408, 'learning_rate': 0.0005, 'epoch': 42.06}\n"
     ]
    },
    {
     "data": {
      "application/vnd.jupyter.widget-view+json": {
       "model_id": "6b687028e24d4423bb2f45e95dded778",
       "version_major": 2,
       "version_minor": 0
      },
      "text/plain": [
       "  0%|          | 0/141 [00:00<?, ?it/s]"
      ]
     },
     "metadata": {},
     "output_type": "display_data"
    },
    {
     "name": "stdout",
     "output_type": "stream",
     "text": [
      "{'eval_loss': 0.27533966302871704, 'eval_runtime': 78.0398, 'eval_samples_per_second': 460.432, 'eval_steps_per_second': 1.807, 'epoch': 42.16}\n",
      "{'loss': 0.7693, 'grad_norm': 0.07312627881765366, 'learning_rate': 0.0005, 'epoch': 42.16}\n",
      "{'loss': 0.7691, 'grad_norm': 0.0639171227812767, 'learning_rate': 0.0005, 'epoch': 42.26}\n",
      "{'loss': 0.7678, 'grad_norm': 0.0692140981554985, 'learning_rate': 0.0005, 'epoch': 42.36}\n",
      "{'loss': 0.7667, 'grad_norm': 0.07696568220853806, 'learning_rate': 0.0005, 'epoch': 42.46}\n"
     ]
    },
    {
     "data": {
      "application/vnd.jupyter.widget-view+json": {
       "model_id": "0152f480cdb8455fb6c4e4a4d36ffdc3",
       "version_major": 2,
       "version_minor": 0
      },
      "text/plain": [
       "  0%|          | 0/141 [00:00<?, ?it/s]"
      ]
     },
     "metadata": {},
     "output_type": "display_data"
    },
    {
     "name": "stdout",
     "output_type": "stream",
     "text": [
      "{'eval_loss': 0.27525609731674194, 'eval_runtime': 78.2401, 'eval_samples_per_second': 459.253, 'eval_steps_per_second': 1.802, 'epoch': 42.49}\n",
      "{'loss': 0.772, 'grad_norm': 0.07170243561267853, 'learning_rate': 0.0005, 'epoch': 42.56}\n",
      "{'loss': 0.7667, 'grad_norm': 0.07137749344110489, 'learning_rate': 0.0005, 'epoch': 42.66}\n",
      "{'loss': 0.7681, 'grad_norm': 0.06640329211950302, 'learning_rate': 0.0005, 'epoch': 42.75}\n"
     ]
    },
    {
     "data": {
      "application/vnd.jupyter.widget-view+json": {
       "model_id": "acbd23313f784bdfa3db29f4716b7898",
       "version_major": 2,
       "version_minor": 0
      },
      "text/plain": [
       "  0%|          | 0/141 [00:00<?, ?it/s]"
      ]
     },
     "metadata": {},
     "output_type": "display_data"
    },
    {
     "name": "stdout",
     "output_type": "stream",
     "text": [
      "{'eval_loss': 0.27355337142944336, 'eval_runtime': 78.2218, 'eval_samples_per_second': 459.361, 'eval_steps_per_second': 1.803, 'epoch': 42.82}\n",
      "{'loss': 0.7693, 'grad_norm': 0.06991786509752274, 'learning_rate': 0.0005, 'epoch': 42.85}\n",
      "{'loss': 0.7655, 'grad_norm': 0.06209034100174904, 'learning_rate': 0.0005, 'epoch': 42.95}\n",
      "{'loss': 0.7693, 'grad_norm': 0.08510105311870575, 'learning_rate': 0.0005, 'epoch': 43.05}\n",
      "{'loss': 0.7638, 'grad_norm': 0.0695301815867424, 'learning_rate': 0.0005, 'epoch': 43.15}\n"
     ]
    },
    {
     "data": {
      "application/vnd.jupyter.widget-view+json": {
       "model_id": "5704392988b04912a8adebe45fd09047",
       "version_major": 2,
       "version_minor": 0
      },
      "text/plain": [
       "  0%|          | 0/141 [00:00<?, ?it/s]"
      ]
     },
     "metadata": {},
     "output_type": "display_data"
    },
    {
     "name": "stdout",
     "output_type": "stream",
     "text": [
      "{'eval_loss': 0.2735361158847809, 'eval_runtime': 77.7822, 'eval_samples_per_second': 461.957, 'eval_steps_per_second': 1.813, 'epoch': 43.15}\n",
      "{'loss': 0.7663, 'grad_norm': 0.06326908618211746, 'learning_rate': 0.0005, 'epoch': 43.25}\n",
      "{'loss': 0.7659, 'grad_norm': 0.06441392004489899, 'learning_rate': 0.0005, 'epoch': 43.35}\n",
      "{'loss': 0.7624, 'grad_norm': 0.10965773463249207, 'learning_rate': 0.0005, 'epoch': 43.45}\n"
     ]
    },
    {
     "data": {
      "application/vnd.jupyter.widget-view+json": {
       "model_id": "7beb0200ab2d44d3b6c25da8582e2807",
       "version_major": 2,
       "version_minor": 0
      },
      "text/plain": [
       "  0%|          | 0/141 [00:00<?, ?it/s]"
      ]
     },
     "metadata": {},
     "output_type": "display_data"
    },
    {
     "name": "stdout",
     "output_type": "stream",
     "text": [
      "{'eval_loss': 0.27444714307785034, 'eval_runtime': 78.2535, 'eval_samples_per_second': 459.174, 'eval_steps_per_second': 1.802, 'epoch': 43.49}\n",
      "{'loss': 0.7656, 'grad_norm': 0.07567581534385681, 'learning_rate': 0.0005, 'epoch': 43.55}\n",
      "{'loss': 0.7657, 'grad_norm': 0.07352892309427261, 'learning_rate': 0.0005, 'epoch': 43.65}\n",
      "{'loss': 0.7721, 'grad_norm': 0.05928546562790871, 'learning_rate': 0.0005, 'epoch': 43.74}\n"
     ]
    },
    {
     "data": {
      "application/vnd.jupyter.widget-view+json": {
       "model_id": "57d7e27f830947d4b87a558d1c84c358",
       "version_major": 2,
       "version_minor": 0
      },
      "text/plain": [
       "  0%|          | 0/141 [00:00<?, ?it/s]"
      ]
     },
     "metadata": {},
     "output_type": "display_data"
    },
    {
     "name": "stdout",
     "output_type": "stream",
     "text": [
      "{'eval_loss': 0.27374663949012756, 'eval_runtime': 78.6356, 'eval_samples_per_second': 456.943, 'eval_steps_per_second': 1.793, 'epoch': 43.82}\n",
      "{'loss': 0.7645, 'grad_norm': 0.08194885402917862, 'learning_rate': 0.0005, 'epoch': 43.84}\n",
      "{'loss': 0.766, 'grad_norm': 0.06913002580404282, 'learning_rate': 0.0005, 'epoch': 43.94}\n",
      "{'loss': 0.7681, 'grad_norm': 0.068155437707901, 'learning_rate': 0.0005, 'epoch': 44.04}\n",
      "{'loss': 0.7691, 'grad_norm': 0.06950270384550095, 'learning_rate': 0.0005, 'epoch': 44.14}\n"
     ]
    },
    {
     "data": {
      "application/vnd.jupyter.widget-view+json": {
       "model_id": "f96864d503b8458389a06ae73dec5540",
       "version_major": 2,
       "version_minor": 0
      },
      "text/plain": [
       "  0%|          | 0/141 [00:00<?, ?it/s]"
      ]
     },
     "metadata": {},
     "output_type": "display_data"
    },
    {
     "name": "stdout",
     "output_type": "stream",
     "text": [
      "{'eval_loss': 0.2724810540676117, 'eval_runtime': 78.0341, 'eval_samples_per_second': 460.465, 'eval_steps_per_second': 1.807, 'epoch': 44.15}\n",
      "{'loss': 0.7659, 'grad_norm': 0.08414600789546967, 'learning_rate': 0.0005, 'epoch': 44.24}\n",
      "{'loss': 0.7625, 'grad_norm': 0.07141170650720596, 'learning_rate': 0.0005, 'epoch': 44.34}\n",
      "{'loss': 0.7651, 'grad_norm': 0.06026787310838699, 'learning_rate': 0.0005, 'epoch': 44.44}\n"
     ]
    },
    {
     "data": {
      "application/vnd.jupyter.widget-view+json": {
       "model_id": "961cca856b87415a87a8e3b893456ea2",
       "version_major": 2,
       "version_minor": 0
      },
      "text/plain": [
       "  0%|          | 0/141 [00:00<?, ?it/s]"
      ]
     },
     "metadata": {},
     "output_type": "display_data"
    },
    {
     "name": "stdout",
     "output_type": "stream",
     "text": [
      "{'eval_loss': 0.2716130018234253, 'eval_runtime': 78.5232, 'eval_samples_per_second': 457.597, 'eval_steps_per_second': 1.796, 'epoch': 44.48}\n",
      "{'loss': 0.7632, 'grad_norm': 0.0677654966711998, 'learning_rate': 0.0005, 'epoch': 44.54}\n",
      "{'loss': 0.7607, 'grad_norm': 0.07399466633796692, 'learning_rate': 0.0005, 'epoch': 44.64}\n",
      "{'loss': 0.7667, 'grad_norm': 0.07489269226789474, 'learning_rate': 0.0005, 'epoch': 44.73}\n"
     ]
    },
    {
     "data": {
      "application/vnd.jupyter.widget-view+json": {
       "model_id": "5aa36eaa6e3d4762886f6c48848278de",
       "version_major": 2,
       "version_minor": 0
      },
      "text/plain": [
       "  0%|          | 0/141 [00:00<?, ?it/s]"
      ]
     },
     "metadata": {},
     "output_type": "display_data"
    },
    {
     "name": "stdout",
     "output_type": "stream",
     "text": [
      "{'eval_loss': 0.27030909061431885, 'eval_runtime': 77.7728, 'eval_samples_per_second': 462.012, 'eval_steps_per_second': 1.813, 'epoch': 44.81}\n",
      "{'loss': 0.7672, 'grad_norm': 0.06286805123090744, 'learning_rate': 0.0005, 'epoch': 44.83}\n",
      "{'loss': 0.7661, 'grad_norm': 0.07118336111307144, 'learning_rate': 0.0005, 'epoch': 44.93}\n",
      "{'loss': 0.7674, 'grad_norm': 0.07589323073625565, 'learning_rate': 0.0005, 'epoch': 45.03}\n",
      "{'loss': 0.7633, 'grad_norm': 0.10451094806194305, 'learning_rate': 0.0005, 'epoch': 45.13}\n"
     ]
    },
    {
     "data": {
      "application/vnd.jupyter.widget-view+json": {
       "model_id": "0a51900729904f9cab1970118c5a8ffa",
       "version_major": 2,
       "version_minor": 0
      },
      "text/plain": [
       "  0%|          | 0/141 [00:00<?, ?it/s]"
      ]
     },
     "metadata": {},
     "output_type": "display_data"
    },
    {
     "name": "stdout",
     "output_type": "stream",
     "text": [
      "{'eval_loss': 0.2706964612007141, 'eval_runtime': 78.0606, 'eval_samples_per_second': 460.309, 'eval_steps_per_second': 1.806, 'epoch': 45.15}\n",
      "{'loss': 0.7664, 'grad_norm': 0.07037020474672318, 'learning_rate': 0.0005, 'epoch': 45.23}\n",
      "{'loss': 0.7634, 'grad_norm': 0.059429194778203964, 'learning_rate': 0.0005, 'epoch': 45.33}\n",
      "{'loss': 0.7595, 'grad_norm': 0.07684852927923203, 'learning_rate': 0.0005, 'epoch': 45.43}\n"
     ]
    },
    {
     "data": {
      "application/vnd.jupyter.widget-view+json": {
       "model_id": "a6e3eec349274340b4e25822a103470e",
       "version_major": 2,
       "version_minor": 0
      },
      "text/plain": [
       "  0%|          | 0/141 [00:00<?, ?it/s]"
      ]
     },
     "metadata": {},
     "output_type": "display_data"
    },
    {
     "name": "stdout",
     "output_type": "stream",
     "text": [
      "{'eval_loss': 0.2704020142555237, 'eval_runtime': 78.3634, 'eval_samples_per_second': 458.53, 'eval_steps_per_second': 1.799, 'epoch': 45.48}\n",
      "{'loss': 0.7654, 'grad_norm': 0.06467528641223907, 'learning_rate': 0.0005, 'epoch': 45.53}\n",
      "{'loss': 0.7644, 'grad_norm': 0.07378090918064117, 'learning_rate': 0.0005, 'epoch': 45.62}\n",
      "{'loss': 0.7621, 'grad_norm': 0.06384754925966263, 'learning_rate': 0.0005, 'epoch': 45.72}\n"
     ]
    },
    {
     "data": {
      "application/vnd.jupyter.widget-view+json": {
       "model_id": "93348b583adc4b50867e221a703cf181",
       "version_major": 2,
       "version_minor": 0
      },
      "text/plain": [
       "  0%|          | 0/141 [00:00<?, ?it/s]"
      ]
     },
     "metadata": {},
     "output_type": "display_data"
    },
    {
     "name": "stdout",
     "output_type": "stream",
     "text": [
      "{'eval_loss': 0.2681198716163635, 'eval_runtime': 78.5582, 'eval_samples_per_second': 457.393, 'eval_steps_per_second': 1.795, 'epoch': 45.81}\n",
      "{'loss': 0.7634, 'grad_norm': 0.07448865473270416, 'learning_rate': 0.0005, 'epoch': 45.82}\n",
      "{'loss': 0.7684, 'grad_norm': 0.06440453976392746, 'learning_rate': 0.0005, 'epoch': 45.92}\n",
      "{'loss': 0.7646, 'grad_norm': 0.06874467432498932, 'learning_rate': 0.0005, 'epoch': 46.02}\n",
      "{'loss': 0.7596, 'grad_norm': 0.09302129596471786, 'learning_rate': 0.0005, 'epoch': 46.12}\n"
     ]
    },
    {
     "data": {
      "application/vnd.jupyter.widget-view+json": {
       "model_id": "1ccde47e2c7341e8b561659eafb2f4bd",
       "version_major": 2,
       "version_minor": 0
      },
      "text/plain": [
       "  0%|          | 0/141 [00:00<?, ?it/s]"
      ]
     },
     "metadata": {},
     "output_type": "display_data"
    },
    {
     "name": "stdout",
     "output_type": "stream",
     "text": [
      "{'eval_loss': 0.2681398093700409, 'eval_runtime': 78.439, 'eval_samples_per_second': 458.089, 'eval_steps_per_second': 1.798, 'epoch': 46.14}\n",
      "{'loss': 0.767, 'grad_norm': 0.06761659681797028, 'learning_rate': 0.0005, 'epoch': 46.22}\n",
      "{'loss': 0.7618, 'grad_norm': 0.05683741718530655, 'learning_rate': 0.0005, 'epoch': 46.32}\n",
      "{'loss': 0.7659, 'grad_norm': 0.08253716677427292, 'learning_rate': 0.0005, 'epoch': 46.42}\n"
     ]
    },
    {
     "data": {
      "application/vnd.jupyter.widget-view+json": {
       "model_id": "403d8f470d704b49bc2890dd1bf67813",
       "version_major": 2,
       "version_minor": 0
      },
      "text/plain": [
       "  0%|          | 0/141 [00:00<?, ?it/s]"
      ]
     },
     "metadata": {},
     "output_type": "display_data"
    },
    {
     "name": "stdout",
     "output_type": "stream",
     "text": [
      "{'eval_loss': 0.26981550455093384, 'eval_runtime': 78.4886, 'eval_samples_per_second': 457.799, 'eval_steps_per_second': 1.796, 'epoch': 46.47}\n",
      "{'loss': 0.7656, 'grad_norm': 0.08509501069784164, 'learning_rate': 0.0005, 'epoch': 46.52}\n",
      "{'loss': 0.7638, 'grad_norm': 0.06823097914457321, 'learning_rate': 0.0005, 'epoch': 46.61}\n",
      "{'loss': 0.7572, 'grad_norm': 0.07092169672250748, 'learning_rate': 0.0005, 'epoch': 46.71}\n"
     ]
    },
    {
     "data": {
      "application/vnd.jupyter.widget-view+json": {
       "model_id": "53aa3edfdcf1446f83216e22071e7022",
       "version_major": 2,
       "version_minor": 0
      },
      "text/plain": [
       "  0%|          | 0/141 [00:00<?, ?it/s]"
      ]
     },
     "metadata": {},
     "output_type": "display_data"
    },
    {
     "name": "stdout",
     "output_type": "stream",
     "text": [
      "{'eval_loss': 0.2680242359638214, 'eval_runtime': 78.5094, 'eval_samples_per_second': 457.678, 'eval_steps_per_second': 1.796, 'epoch': 46.81}\n",
      "{'loss': 0.7635, 'grad_norm': 0.069611094892025, 'learning_rate': 0.0005, 'epoch': 46.81}\n",
      "{'loss': 0.7659, 'grad_norm': 0.09262543171644211, 'learning_rate': 0.0005, 'epoch': 46.91}\n",
      "{'loss': 0.7583, 'grad_norm': 0.06230807304382324, 'learning_rate': 0.0005, 'epoch': 47.01}\n",
      "{'loss': 0.7659, 'grad_norm': 0.07438197731971741, 'learning_rate': 0.0005, 'epoch': 47.11}\n"
     ]
    },
    {
     "data": {
      "application/vnd.jupyter.widget-view+json": {
       "model_id": "64c5108980554ae8a1e5b6b02511dc99",
       "version_major": 2,
       "version_minor": 0
      },
      "text/plain": [
       "  0%|          | 0/141 [00:00<?, ?it/s]"
      ]
     },
     "metadata": {},
     "output_type": "display_data"
    },
    {
     "name": "stdout",
     "output_type": "stream",
     "text": [
      "{'eval_loss': 0.2666934132575989, 'eval_runtime': 77.832, 'eval_samples_per_second': 461.661, 'eval_steps_per_second': 1.812, 'epoch': 47.14}\n",
      "{'loss': 0.7628, 'grad_norm': 0.08498407155275345, 'learning_rate': 0.0005, 'epoch': 47.21}\n",
      "{'loss': 0.7614, 'grad_norm': 0.07516171038150787, 'learning_rate': 0.0005, 'epoch': 47.31}\n",
      "{'loss': 0.763, 'grad_norm': 0.06594736874103546, 'learning_rate': 0.0005, 'epoch': 47.41}\n"
     ]
    },
    {
     "data": {
      "application/vnd.jupyter.widget-view+json": {
       "model_id": "4b4a7c08cb6d49b99d6eb1a9e16267e4",
       "version_major": 2,
       "version_minor": 0
      },
      "text/plain": [
       "  0%|          | 0/141 [00:00<?, ?it/s]"
      ]
     },
     "metadata": {},
     "output_type": "display_data"
    },
    {
     "name": "stdout",
     "output_type": "stream",
     "text": [
      "{'eval_loss': 0.26763564348220825, 'eval_runtime': 78.5742, 'eval_samples_per_second': 457.3, 'eval_steps_per_second': 1.794, 'epoch': 47.47}\n",
      "{'loss': 0.7594, 'grad_norm': 0.06727351248264313, 'learning_rate': 0.0005, 'epoch': 47.51}\n",
      "{'loss': 0.7576, 'grad_norm': 0.06697959452867508, 'learning_rate': 0.0005, 'epoch': 47.6}\n",
      "{'loss': 0.7612, 'grad_norm': 0.06342810392379761, 'learning_rate': 0.0005, 'epoch': 47.7}\n",
      "{'loss': 0.7545, 'grad_norm': 0.09164915978908539, 'learning_rate': 0.0005, 'epoch': 47.8}\n"
     ]
    },
    {
     "data": {
      "application/vnd.jupyter.widget-view+json": {
       "model_id": "32e695642dd645b483cbc1a1eba6ed05",
       "version_major": 2,
       "version_minor": 0
      },
      "text/plain": [
       "  0%|          | 0/141 [00:00<?, ?it/s]"
      ]
     },
     "metadata": {},
     "output_type": "display_data"
    },
    {
     "name": "stdout",
     "output_type": "stream",
     "text": [
      "{'eval_loss': 0.2650120258331299, 'eval_runtime': 77.7925, 'eval_samples_per_second': 461.895, 'eval_steps_per_second': 1.813, 'epoch': 47.8}\n",
      "{'loss': 0.7595, 'grad_norm': 0.06434517353773117, 'learning_rate': 0.0005, 'epoch': 47.9}\n",
      "{'loss': 0.7603, 'grad_norm': 0.1160542443394661, 'learning_rate': 0.0005, 'epoch': 48.0}\n",
      "{'loss': 0.7579, 'grad_norm': 0.06364376842975616, 'learning_rate': 0.0005, 'epoch': 48.1}\n"
     ]
    },
    {
     "data": {
      "application/vnd.jupyter.widget-view+json": {
       "model_id": "4fcf37ff35a24255b13c3f3d5f280c57",
       "version_major": 2,
       "version_minor": 0
      },
      "text/plain": [
       "  0%|          | 0/141 [00:00<?, ?it/s]"
      ]
     },
     "metadata": {},
     "output_type": "display_data"
    },
    {
     "name": "stdout",
     "output_type": "stream",
     "text": [
      "{'eval_loss': 0.2675668001174927, 'eval_runtime': 78.4915, 'eval_samples_per_second': 457.782, 'eval_steps_per_second': 1.796, 'epoch': 48.13}\n",
      "{'loss': 0.7551, 'grad_norm': 0.06725861877202988, 'learning_rate': 0.0005, 'epoch': 48.2}\n",
      "{'loss': 0.7607, 'grad_norm': 0.06780435144901276, 'learning_rate': 0.0005, 'epoch': 48.3}\n",
      "{'loss': 0.7563, 'grad_norm': 0.062473807483911514, 'learning_rate': 0.0005, 'epoch': 48.4}\n"
     ]
    },
    {
     "data": {
      "application/vnd.jupyter.widget-view+json": {
       "model_id": "448bef705c4646ceac7c6ccfb7db5880",
       "version_major": 2,
       "version_minor": 0
      },
      "text/plain": [
       "  0%|          | 0/141 [00:00<?, ?it/s]"
      ]
     },
     "metadata": {},
     "output_type": "display_data"
    },
    {
     "name": "stdout",
     "output_type": "stream",
     "text": [
      "{'eval_loss': 0.26508456468582153, 'eval_runtime': 78.2916, 'eval_samples_per_second': 458.951, 'eval_steps_per_second': 1.801, 'epoch': 48.47}\n",
      "{'loss': 0.7606, 'grad_norm': 0.07167444378137589, 'learning_rate': 0.0005, 'epoch': 48.49}\n",
      "{'loss': 0.7569, 'grad_norm': 0.08679275214672089, 'learning_rate': 0.0005, 'epoch': 48.59}\n",
      "{'loss': 0.7597, 'grad_norm': 0.0852709710597992, 'learning_rate': 0.0005, 'epoch': 48.69}\n",
      "{'loss': 0.7534, 'grad_norm': 0.08089981228113174, 'learning_rate': 0.0005, 'epoch': 48.79}\n"
     ]
    },
    {
     "data": {
      "application/vnd.jupyter.widget-view+json": {
       "model_id": "a7a01f6089f24f268d367763639f847f",
       "version_major": 2,
       "version_minor": 0
      },
      "text/plain": [
       "  0%|          | 0/141 [00:00<?, ?it/s]"
      ]
     },
     "metadata": {},
     "output_type": "display_data"
    },
    {
     "name": "stdout",
     "output_type": "stream",
     "text": [
      "{'eval_loss': 0.2644931972026825, 'eval_runtime': 78.1731, 'eval_samples_per_second': 459.647, 'eval_steps_per_second': 1.804, 'epoch': 48.8}\n",
      "{'loss': 0.7504, 'grad_norm': 0.09652691334486008, 'learning_rate': 0.0005, 'epoch': 48.89}\n",
      "{'loss': 0.7463, 'grad_norm': 0.10364837944507599, 'learning_rate': 0.0005, 'epoch': 48.99}\n",
      "{'loss': 0.7362, 'grad_norm': 0.13977958261966705, 'learning_rate': 0.0005, 'epoch': 49.09}\n"
     ]
    },
    {
     "data": {
      "application/vnd.jupyter.widget-view+json": {
       "model_id": "a8f2d9726d174926bb434f0bb879cd21",
       "version_major": 2,
       "version_minor": 0
      },
      "text/plain": [
       "  0%|          | 0/141 [00:00<?, ?it/s]"
      ]
     },
     "metadata": {},
     "output_type": "display_data"
    },
    {
     "name": "stdout",
     "output_type": "stream",
     "text": [
      "{'eval_loss': 0.2684657871723175, 'eval_runtime': 78.1746, 'eval_samples_per_second': 459.638, 'eval_steps_per_second': 1.804, 'epoch': 49.13}\n",
      "{'loss': 0.7209, 'grad_norm': 0.1319417953491211, 'learning_rate': 0.0005, 'epoch': 49.19}\n",
      "{'loss': 0.7129, 'grad_norm': 0.14472751319408417, 'learning_rate': 0.0005, 'epoch': 49.29}\n",
      "{'loss': 0.7012, 'grad_norm': 0.12161706387996674, 'learning_rate': 0.0005, 'epoch': 49.39}\n"
     ]
    },
    {
     "data": {
      "application/vnd.jupyter.widget-view+json": {
       "model_id": "342573846f8b4b4eafca1141804d24f1",
       "version_major": 2,
       "version_minor": 0
      },
      "text/plain": [
       "  0%|          | 0/141 [00:00<?, ?it/s]"
      ]
     },
     "metadata": {},
     "output_type": "display_data"
    },
    {
     "name": "stdout",
     "output_type": "stream",
     "text": [
      "{'eval_loss': 0.2713721692562103, 'eval_runtime': 78.3517, 'eval_samples_per_second': 458.599, 'eval_steps_per_second': 1.8, 'epoch': 49.46}\n",
      "{'loss': 0.6914, 'grad_norm': 0.13986898958683014, 'learning_rate': 0.0005, 'epoch': 49.48}\n",
      "{'loss': 0.6865, 'grad_norm': 0.12420301884412766, 'learning_rate': 0.0005, 'epoch': 49.58}\n",
      "{'loss': 0.6808, 'grad_norm': 0.12737350165843964, 'learning_rate': 0.0005, 'epoch': 49.68}\n",
      "{'loss': 0.6775, 'grad_norm': 0.1427730768918991, 'learning_rate': 0.0005, 'epoch': 49.78}\n"
     ]
    },
    {
     "data": {
      "application/vnd.jupyter.widget-view+json": {
       "model_id": "852c36976e934aea8fbd4b7d47fb7474",
       "version_major": 2,
       "version_minor": 0
      },
      "text/plain": [
       "  0%|          | 0/141 [00:00<?, ?it/s]"
      ]
     },
     "metadata": {},
     "output_type": "display_data"
    },
    {
     "name": "stdout",
     "output_type": "stream",
     "text": [
      "{'eval_loss': 0.2698248624801636, 'eval_runtime': 78.1346, 'eval_samples_per_second': 459.873, 'eval_steps_per_second': 1.805, 'epoch': 49.79}\n",
      "{'loss': 0.6752, 'grad_norm': 0.10676034539937973, 'learning_rate': 0.0005, 'epoch': 49.88}\n",
      "{'loss': 0.6681, 'grad_norm': 0.131712406873703, 'learning_rate': 0.0005, 'epoch': 49.98}\n",
      "{'loss': 0.6677, 'grad_norm': 0.11309313029050827, 'learning_rate': 0.0005, 'epoch': 50.08}\n"
     ]
    },
    {
     "data": {
      "application/vnd.jupyter.widget-view+json": {
       "model_id": "fb2d4e00be834fa1b2cd5adbad6dac3e",
       "version_major": 2,
       "version_minor": 0
      },
      "text/plain": [
       "  0%|          | 0/141 [00:00<?, ?it/s]"
      ]
     },
     "metadata": {},
     "output_type": "display_data"
    },
    {
     "name": "stdout",
     "output_type": "stream",
     "text": [
      "{'eval_loss': 0.2691638767719269, 'eval_runtime': 78.485, 'eval_samples_per_second': 457.82, 'eval_steps_per_second': 1.797, 'epoch': 50.13}\n",
      "{'loss': 0.6666, 'grad_norm': 0.10977954417467117, 'learning_rate': 0.0005, 'epoch': 50.18}\n",
      "{'loss': 0.6626, 'grad_norm': 0.13579455018043518, 'learning_rate': 0.0005, 'epoch': 50.28}\n",
      "{'loss': 0.6604, 'grad_norm': 0.13193802535533905, 'learning_rate': 0.0005, 'epoch': 50.38}\n"
     ]
    },
    {
     "data": {
      "application/vnd.jupyter.widget-view+json": {
       "model_id": "6b0d74c6455244fe8f76503e053638eb",
       "version_major": 2,
       "version_minor": 0
      },
      "text/plain": [
       "  0%|          | 0/141 [00:00<?, ?it/s]"
      ]
     },
     "metadata": {},
     "output_type": "display_data"
    },
    {
     "name": "stdout",
     "output_type": "stream",
     "text": [
      "{'eval_loss': 0.2696535885334015, 'eval_runtime': 78.1185, 'eval_samples_per_second': 459.968, 'eval_steps_per_second': 1.805, 'epoch': 50.46}\n",
      "{'loss': 0.6567, 'grad_norm': 0.1236141100525856, 'learning_rate': 0.0005, 'epoch': 50.47}\n",
      "{'loss': 0.6603, 'grad_norm': 0.12035267800092697, 'learning_rate': 0.0005, 'epoch': 50.57}\n",
      "{'loss': 0.6564, 'grad_norm': 0.12517791986465454, 'learning_rate': 0.0005, 'epoch': 50.67}\n",
      "{'loss': 0.6582, 'grad_norm': 0.1308702677488327, 'learning_rate': 0.0005, 'epoch': 50.77}\n"
     ]
    },
    {
     "data": {
      "application/vnd.jupyter.widget-view+json": {
       "model_id": "08bd1e2ba59a4281be6ae8b0137fe610",
       "version_major": 2,
       "version_minor": 0
      },
      "text/plain": [
       "  0%|          | 0/141 [00:00<?, ?it/s]"
      ]
     },
     "metadata": {},
     "output_type": "display_data"
    },
    {
     "name": "stdout",
     "output_type": "stream",
     "text": [
      "{'eval_loss': 0.2695631980895996, 'eval_runtime': 78.1178, 'eval_samples_per_second': 459.972, 'eval_steps_per_second': 1.805, 'epoch': 50.79}\n",
      "{'loss': 0.6508, 'grad_norm': 0.11203484982252121, 'learning_rate': 0.0005, 'epoch': 50.87}\n",
      "{'loss': 0.6529, 'grad_norm': 0.11606442928314209, 'learning_rate': 0.0005, 'epoch': 50.97}\n",
      "{'loss': 0.6464, 'grad_norm': 0.12754495441913605, 'learning_rate': 0.0005, 'epoch': 51.07}\n"
     ]
    },
    {
     "data": {
      "application/vnd.jupyter.widget-view+json": {
       "model_id": "0728c95c5fe2438997339e89f94adf79",
       "version_major": 2,
       "version_minor": 0
      },
      "text/plain": [
       "  0%|          | 0/141 [00:00<?, ?it/s]"
      ]
     },
     "metadata": {},
     "output_type": "display_data"
    },
    {
     "name": "stdout",
     "output_type": "stream",
     "text": [
      "{'eval_loss': 0.27007371187210083, 'eval_runtime': 77.7584, 'eval_samples_per_second': 462.098, 'eval_steps_per_second': 1.813, 'epoch': 51.12}\n",
      "{'loss': 0.65, 'grad_norm': 0.14793112874031067, 'learning_rate': 0.0005, 'epoch': 51.17}\n",
      "{'loss': 0.6474, 'grad_norm': 0.16753052175045013, 'learning_rate': 0.0005, 'epoch': 51.27}\n",
      "{'loss': 0.6442, 'grad_norm': 0.1294732540845871, 'learning_rate': 0.0005, 'epoch': 51.36}\n"
     ]
    },
    {
     "data": {
      "application/vnd.jupyter.widget-view+json": {
       "model_id": "192d3462351445d4bc6b7c857b9e8f17",
       "version_major": 2,
       "version_minor": 0
      },
      "text/plain": [
       "  0%|          | 0/141 [00:00<?, ?it/s]"
      ]
     },
     "metadata": {},
     "output_type": "display_data"
    },
    {
     "name": "stdout",
     "output_type": "stream",
     "text": [
      "{'eval_loss': 0.2684321105480194, 'eval_runtime': 78.0366, 'eval_samples_per_second': 460.45, 'eval_steps_per_second': 1.807, 'epoch': 51.45}\n",
      "{'loss': 0.6459, 'grad_norm': 0.1496427208185196, 'learning_rate': 0.0005, 'epoch': 51.46}\n",
      "{'loss': 0.6429, 'grad_norm': 0.13223697245121002, 'learning_rate': 0.0005, 'epoch': 51.56}\n",
      "{'loss': 0.6433, 'grad_norm': 0.11817284673452377, 'learning_rate': 0.0005, 'epoch': 51.66}\n",
      "{'loss': 0.6448, 'grad_norm': 0.12081849575042725, 'learning_rate': 0.0005, 'epoch': 51.76}\n"
     ]
    },
    {
     "data": {
      "application/vnd.jupyter.widget-view+json": {
       "model_id": "1bf18084c3b049648f9495ba8f807b74",
       "version_major": 2,
       "version_minor": 0
      },
      "text/plain": [
       "  0%|          | 0/141 [00:00<?, ?it/s]"
      ]
     },
     "metadata": {},
     "output_type": "display_data"
    },
    {
     "name": "stdout",
     "output_type": "stream",
     "text": [
      "{'eval_loss': 0.2679906487464905, 'eval_runtime': 78.37, 'eval_samples_per_second': 458.492, 'eval_steps_per_second': 1.799, 'epoch': 51.79}\n",
      "{'loss': 0.6392, 'grad_norm': 0.1323302537202835, 'learning_rate': 0.0005, 'epoch': 51.86}\n",
      "{'loss': 0.6406, 'grad_norm': 0.12546248733997345, 'learning_rate': 0.0005, 'epoch': 51.96}\n",
      "{'loss': 0.6413, 'grad_norm': 0.1414574682712555, 'learning_rate': 0.0005, 'epoch': 52.06}\n"
     ]
    },
    {
     "data": {
      "application/vnd.jupyter.widget-view+json": {
       "model_id": "3c3a30fddae443e1a7c3a54581df7607",
       "version_major": 2,
       "version_minor": 0
      },
      "text/plain": [
       "  0%|          | 0/141 [00:00<?, ?it/s]"
      ]
     },
     "metadata": {},
     "output_type": "display_data"
    },
    {
     "name": "stdout",
     "output_type": "stream",
     "text": [
      "{'eval_loss': 0.2676681876182556, 'eval_runtime': 78.4501, 'eval_samples_per_second': 458.024, 'eval_steps_per_second': 1.797, 'epoch': 52.12}\n",
      "{'loss': 0.6363, 'grad_norm': 0.13434432446956635, 'learning_rate': 0.0005, 'epoch': 52.16}\n",
      "{'loss': 0.6368, 'grad_norm': 0.12743614614009857, 'learning_rate': 0.0005, 'epoch': 52.26}\n",
      "{'loss': 0.6389, 'grad_norm': 0.14290106296539307, 'learning_rate': 0.0005, 'epoch': 52.35}\n"
     ]
    },
    {
     "data": {
      "application/vnd.jupyter.widget-view+json": {
       "model_id": "e8339374202a4284a6723564354a1e7b",
       "version_major": 2,
       "version_minor": 0
      },
      "text/plain": [
       "  0%|          | 0/141 [00:00<?, ?it/s]"
      ]
     },
     "metadata": {},
     "output_type": "display_data"
    },
    {
     "name": "stdout",
     "output_type": "stream",
     "text": [
      "{'eval_loss': 0.26717305183410645, 'eval_runtime': 78.0006, 'eval_samples_per_second': 460.663, 'eval_steps_per_second': 1.808, 'epoch': 52.45}\n",
      "{'loss': 0.6373, 'grad_norm': 0.12827004492282867, 'learning_rate': 0.0005, 'epoch': 52.45}\n",
      "{'loss': 0.6365, 'grad_norm': 0.1444738656282425, 'learning_rate': 0.0005, 'epoch': 52.55}\n",
      "{'loss': 0.6342, 'grad_norm': 0.12955379486083984, 'learning_rate': 0.0005, 'epoch': 52.65}\n",
      "{'loss': 0.6331, 'grad_norm': 0.13016587495803833, 'learning_rate': 0.0005, 'epoch': 52.75}\n"
     ]
    },
    {
     "data": {
      "application/vnd.jupyter.widget-view+json": {
       "model_id": "eaf314a9cab24d6c8e3c30a5751adec1",
       "version_major": 2,
       "version_minor": 0
      },
      "text/plain": [
       "  0%|          | 0/141 [00:00<?, ?it/s]"
      ]
     },
     "metadata": {},
     "output_type": "display_data"
    },
    {
     "name": "stdout",
     "output_type": "stream",
     "text": [
      "{'eval_loss': 0.26820626854896545, 'eval_runtime': 78.2, 'eval_samples_per_second': 459.488, 'eval_steps_per_second': 1.803, 'epoch': 52.78}\n",
      "{'loss': 0.6316, 'grad_norm': 0.11683222651481628, 'learning_rate': 0.0005, 'epoch': 52.85}\n",
      "{'loss': 0.637, 'grad_norm': 0.13174337148666382, 'learning_rate': 0.0005, 'epoch': 52.95}\n",
      "{'loss': 0.6327, 'grad_norm': 0.13007447123527527, 'learning_rate': 0.0005, 'epoch': 53.05}\n"
     ]
    },
    {
     "data": {
      "application/vnd.jupyter.widget-view+json": {
       "model_id": "d92d83e476a34caca0d952126e6cad7b",
       "version_major": 2,
       "version_minor": 0
      },
      "text/plain": [
       "  0%|          | 0/141 [00:00<?, ?it/s]"
      ]
     },
     "metadata": {},
     "output_type": "display_data"
    },
    {
     "name": "stdout",
     "output_type": "stream",
     "text": [
      "{'eval_loss': 0.26722365617752075, 'eval_runtime': 77.8643, 'eval_samples_per_second': 461.47, 'eval_steps_per_second': 1.811, 'epoch': 53.11}\n",
      "{'loss': 0.6329, 'grad_norm': 0.13578715920448303, 'learning_rate': 0.0005, 'epoch': 53.15}\n",
      "{'loss': 0.6293, 'grad_norm': 0.1446402668952942, 'learning_rate': 0.0005, 'epoch': 53.25}\n",
      "{'loss': 0.6308, 'grad_norm': 0.1275007724761963, 'learning_rate': 0.0005, 'epoch': 53.34}\n",
      "{'loss': 0.6304, 'grad_norm': 0.13125456869602203, 'learning_rate': 0.0005, 'epoch': 53.44}\n"
     ]
    },
    {
     "data": {
      "application/vnd.jupyter.widget-view+json": {
       "model_id": "ee2ea96d6cd14b76816c3e6aad8272ff",
       "version_major": 2,
       "version_minor": 0
      },
      "text/plain": [
       "  0%|          | 0/141 [00:00<?, ?it/s]"
      ]
     },
     "metadata": {},
     "output_type": "display_data"
    },
    {
     "name": "stdout",
     "output_type": "stream",
     "text": [
      "{'eval_loss': 0.2656594514846802, 'eval_runtime': 78.5348, 'eval_samples_per_second': 457.53, 'eval_steps_per_second': 1.795, 'epoch': 53.45}\n",
      "{'loss': 0.6303, 'grad_norm': 0.12117103487253189, 'learning_rate': 0.0005, 'epoch': 53.54}\n",
      "{'loss': 0.6277, 'grad_norm': 0.13808554410934448, 'learning_rate': 0.0005, 'epoch': 53.64}\n",
      "{'loss': 0.6256, 'grad_norm': 0.1336284577846527, 'learning_rate': 0.0005, 'epoch': 53.74}\n"
     ]
    },
    {
     "data": {
      "application/vnd.jupyter.widget-view+json": {
       "model_id": "b2a711f7f9874638ae4e4f34730494dd",
       "version_major": 2,
       "version_minor": 0
      },
      "text/plain": [
       "  0%|          | 0/141 [00:00<?, ?it/s]"
      ]
     },
     "metadata": {},
     "output_type": "display_data"
    },
    {
     "name": "stdout",
     "output_type": "stream",
     "text": [
      "{'eval_loss': 0.26671847701072693, 'eval_runtime': 78.0906, 'eval_samples_per_second': 460.132, 'eval_steps_per_second': 1.806, 'epoch': 53.78}\n",
      "{'loss': 0.6266, 'grad_norm': 0.12935873866081238, 'learning_rate': 0.0005, 'epoch': 53.84}\n",
      "{'loss': 0.6298, 'grad_norm': 0.13618655502796173, 'learning_rate': 0.0005, 'epoch': 53.94}\n",
      "{'loss': 0.6296, 'grad_norm': 0.1385486125946045, 'learning_rate': 0.0005, 'epoch': 54.04}\n"
     ]
    },
    {
     "data": {
      "application/vnd.jupyter.widget-view+json": {
       "model_id": "01fa59e1914c4f2289009e49adfdf878",
       "version_major": 2,
       "version_minor": 0
      },
      "text/plain": [
       "  0%|          | 0/141 [00:00<?, ?it/s]"
      ]
     },
     "metadata": {},
     "output_type": "display_data"
    },
    {
     "name": "stdout",
     "output_type": "stream",
     "text": [
      "{'eval_loss': 0.2660409212112427, 'eval_runtime': 77.9115, 'eval_samples_per_second': 461.19, 'eval_steps_per_second': 1.81, 'epoch': 54.11}\n",
      "{'loss': 0.6256, 'grad_norm': 0.13201917707920074, 'learning_rate': 0.0005, 'epoch': 54.14}\n",
      "{'loss': 0.6237, 'grad_norm': 0.14333930611610413, 'learning_rate': 0.0005, 'epoch': 54.24}\n",
      "{'loss': 0.6256, 'grad_norm': 0.1483609825372696, 'learning_rate': 0.0005, 'epoch': 54.33}\n",
      "{'loss': 0.627, 'grad_norm': 0.15683871507644653, 'learning_rate': 0.0005, 'epoch': 54.43}\n"
     ]
    },
    {
     "data": {
      "application/vnd.jupyter.widget-view+json": {
       "model_id": "3a480993dfb546f7b0d8cda8778e3637",
       "version_major": 2,
       "version_minor": 0
      },
      "text/plain": [
       "  0%|          | 0/141 [00:00<?, ?it/s]"
      ]
     },
     "metadata": {},
     "output_type": "display_data"
    },
    {
     "name": "stdout",
     "output_type": "stream",
     "text": [
      "{'eval_loss': 0.2650516629219055, 'eval_runtime': 78.0901, 'eval_samples_per_second': 460.135, 'eval_steps_per_second': 1.806, 'epoch': 54.44}\n",
      "{'loss': 0.6255, 'grad_norm': 0.13121625781059265, 'learning_rate': 0.0005, 'epoch': 54.53}\n",
      "{'loss': 0.6268, 'grad_norm': 0.1319904327392578, 'learning_rate': 0.0005, 'epoch': 54.63}\n",
      "{'loss': 0.6236, 'grad_norm': 0.11904408782720566, 'learning_rate': 0.0005, 'epoch': 54.73}\n"
     ]
    },
    {
     "data": {
      "application/vnd.jupyter.widget-view+json": {
       "model_id": "7f7c022ee5694782b084084503b9e094",
       "version_major": 2,
       "version_minor": 0
      },
      "text/plain": [
       "  0%|          | 0/141 [00:00<?, ?it/s]"
      ]
     },
     "metadata": {},
     "output_type": "display_data"
    },
    {
     "name": "stdout",
     "output_type": "stream",
     "text": [
      "{'eval_loss': 0.26614707708358765, 'eval_runtime': 78.3177, 'eval_samples_per_second': 458.798, 'eval_steps_per_second': 1.8, 'epoch': 54.77}\n",
      "{'loss': 0.6244, 'grad_norm': 0.13272877037525177, 'learning_rate': 0.0005, 'epoch': 54.83}\n",
      "{'loss': 0.624, 'grad_norm': 0.14139412343502045, 'learning_rate': 0.0005, 'epoch': 54.93}\n",
      "{'loss': 0.6215, 'grad_norm': 0.14258988201618195, 'learning_rate': 0.0005, 'epoch': 55.03}\n"
     ]
    },
    {
     "data": {
      "application/vnd.jupyter.widget-view+json": {
       "model_id": "cd0cec9d2d5a4a2dbc9f73d6d88981f6",
       "version_major": 2,
       "version_minor": 0
      },
      "text/plain": [
       "  0%|          | 0/141 [00:00<?, ?it/s]"
      ]
     },
     "metadata": {},
     "output_type": "display_data"
    },
    {
     "name": "stdout",
     "output_type": "stream",
     "text": [
      "{'eval_loss': 0.26481983065605164, 'eval_runtime': 78.2975, 'eval_samples_per_second': 458.916, 'eval_steps_per_second': 1.801, 'epoch': 55.11}\n",
      "{'loss': 0.6226, 'grad_norm': 0.13068890571594238, 'learning_rate': 0.0005, 'epoch': 55.13}\n",
      "{'loss': 0.6216, 'grad_norm': 0.13384050130844116, 'learning_rate': 0.0005, 'epoch': 55.22}\n",
      "{'loss': 0.6212, 'grad_norm': 0.1564176082611084, 'learning_rate': 0.0005, 'epoch': 55.32}\n",
      "{'loss': 0.624, 'grad_norm': 0.1635562777519226, 'learning_rate': 0.0005, 'epoch': 55.42}\n"
     ]
    },
    {
     "data": {
      "application/vnd.jupyter.widget-view+json": {
       "model_id": "9fb9174f713f46c7a42fb66de93b0455",
       "version_major": 2,
       "version_minor": 0
      },
      "text/plain": [
       "  0%|          | 0/141 [00:00<?, ?it/s]"
      ]
     },
     "metadata": {},
     "output_type": "display_data"
    },
    {
     "name": "stdout",
     "output_type": "stream",
     "text": [
      "{'eval_loss': 0.26528114080429077, 'eval_runtime': 78.1789, 'eval_samples_per_second': 459.613, 'eval_steps_per_second': 1.804, 'epoch': 55.44}\n",
      "{'loss': 0.623, 'grad_norm': 0.1386539191007614, 'learning_rate': 0.0005, 'epoch': 55.52}\n",
      "{'loss': 0.619, 'grad_norm': 0.1389710009098053, 'learning_rate': 0.0005, 'epoch': 55.62}\n",
      "{'loss': 0.6191, 'grad_norm': 0.13582877814769745, 'learning_rate': 0.0005, 'epoch': 55.72}\n"
     ]
    },
    {
     "data": {
      "application/vnd.jupyter.widget-view+json": {
       "model_id": "1d0276a3406d4d2680afe5fb568b9c4e",
       "version_major": 2,
       "version_minor": 0
      },
      "text/plain": [
       "  0%|          | 0/141 [00:00<?, ?it/s]"
      ]
     },
     "metadata": {},
     "output_type": "display_data"
    },
    {
     "name": "stdout",
     "output_type": "stream",
     "text": [
      "{'eval_loss': 0.2659785747528076, 'eval_runtime': 78.4323, 'eval_samples_per_second': 458.128, 'eval_steps_per_second': 1.798, 'epoch': 55.77}\n",
      "{'loss': 0.6199, 'grad_norm': 0.1393800526857376, 'learning_rate': 0.0005, 'epoch': 55.82}\n",
      "{'loss': 0.6231, 'grad_norm': 0.1378750205039978, 'learning_rate': 0.0005, 'epoch': 55.92}\n",
      "{'loss': 0.6187, 'grad_norm': 0.12802854180335999, 'learning_rate': 0.0005, 'epoch': 56.02}\n"
     ]
    },
    {
     "data": {
      "application/vnd.jupyter.widget-view+json": {
       "model_id": "a76240882e8341d882bf77c2c2760950",
       "version_major": 2,
       "version_minor": 0
      },
      "text/plain": [
       "  0%|          | 0/141 [00:00<?, ?it/s]"
      ]
     },
     "metadata": {},
     "output_type": "display_data"
    },
    {
     "name": "stdout",
     "output_type": "stream",
     "text": [
      "{'eval_loss': 0.26446279883384705, 'eval_runtime': 78.0778, 'eval_samples_per_second': 460.208, 'eval_steps_per_second': 1.806, 'epoch': 56.1}\n",
      "{'loss': 0.6208, 'grad_norm': 0.15100495517253876, 'learning_rate': 0.0005, 'epoch': 56.12}\n",
      "{'loss': 0.6195, 'grad_norm': 0.13870276510715485, 'learning_rate': 0.0005, 'epoch': 56.21}\n",
      "{'loss': 0.6178, 'grad_norm': 0.14500147104263306, 'learning_rate': 0.0005, 'epoch': 56.31}\n",
      "{'loss': 0.6193, 'grad_norm': 0.13561752438545227, 'learning_rate': 0.0005, 'epoch': 56.41}\n"
     ]
    },
    {
     "data": {
      "application/vnd.jupyter.widget-view+json": {
       "model_id": "6941e20ee87941f18da0a2c94231aa96",
       "version_major": 2,
       "version_minor": 0
      },
      "text/plain": [
       "  0%|          | 0/141 [00:00<?, ?it/s]"
      ]
     },
     "metadata": {},
     "output_type": "display_data"
    },
    {
     "name": "stdout",
     "output_type": "stream",
     "text": [
      "{'eval_loss': 0.2649393379688263, 'eval_runtime': 78.2792, 'eval_samples_per_second': 459.023, 'eval_steps_per_second': 1.801, 'epoch': 56.43}\n",
      "{'loss': 0.6184, 'grad_norm': 0.13258005678653717, 'learning_rate': 0.0005, 'epoch': 56.51}\n",
      "{'loss': 0.6163, 'grad_norm': 0.14785988628864288, 'learning_rate': 0.0005, 'epoch': 56.61}\n",
      "{'loss': 0.6178, 'grad_norm': 0.1446724385023117, 'learning_rate': 0.0005, 'epoch': 56.71}\n"
     ]
    },
    {
     "data": {
      "application/vnd.jupyter.widget-view+json": {
       "model_id": "49e85c6432924af29dd594925d50c690",
       "version_major": 2,
       "version_minor": 0
      },
      "text/plain": [
       "  0%|          | 0/141 [00:00<?, ?it/s]"
      ]
     },
     "metadata": {},
     "output_type": "display_data"
    },
    {
     "name": "stdout",
     "output_type": "stream",
     "text": [
      "{'eval_loss': 0.2646245062351227, 'eval_runtime': 78.4169, 'eval_samples_per_second': 458.218, 'eval_steps_per_second': 1.798, 'epoch': 56.76}\n",
      "{'loss': 0.6202, 'grad_norm': 0.12083245813846588, 'learning_rate': 0.0005, 'epoch': 56.81}\n",
      "{'loss': 0.6184, 'grad_norm': 0.13989819586277008, 'learning_rate': 0.0005, 'epoch': 56.91}\n",
      "{'loss': 0.6161, 'grad_norm': 0.1413709968328476, 'learning_rate': 0.0005, 'epoch': 57.01}\n"
     ]
    },
    {
     "data": {
      "application/vnd.jupyter.widget-view+json": {
       "model_id": "67d432c3e74844b1a5a37db7ee96b429",
       "version_major": 2,
       "version_minor": 0
      },
      "text/plain": [
       "  0%|          | 0/141 [00:00<?, ?it/s]"
      ]
     },
     "metadata": {},
     "output_type": "display_data"
    },
    {
     "name": "stdout",
     "output_type": "stream",
     "text": [
      "{'eval_loss': 0.2649479806423187, 'eval_runtime': 78.0839, 'eval_samples_per_second': 460.172, 'eval_steps_per_second': 1.806, 'epoch': 57.1}\n",
      "{'loss': 0.619, 'grad_norm': 0.11059271544218063, 'learning_rate': 0.0005, 'epoch': 57.11}\n",
      "{'loss': 0.6136, 'grad_norm': 0.11848007887601852, 'learning_rate': 0.0005, 'epoch': 57.2}\n",
      "{'loss': 0.6165, 'grad_norm': 0.11957640945911407, 'learning_rate': 0.0005, 'epoch': 57.3}\n",
      "{'loss': 0.619, 'grad_norm': 0.1267925649881363, 'learning_rate': 0.0005, 'epoch': 57.4}\n"
     ]
    },
    {
     "data": {
      "application/vnd.jupyter.widget-view+json": {
       "model_id": "f98e789fa56f417385a3f2fa9c936b19",
       "version_major": 2,
       "version_minor": 0
      },
      "text/plain": [
       "  0%|          | 0/141 [00:00<?, ?it/s]"
      ]
     },
     "metadata": {},
     "output_type": "display_data"
    },
    {
     "name": "stdout",
     "output_type": "stream",
     "text": [
      "{'eval_loss': 0.2665146589279175, 'eval_runtime': 78.3271, 'eval_samples_per_second': 458.743, 'eval_steps_per_second': 1.8, 'epoch': 57.43}\n",
      "{'loss': 0.6142, 'grad_norm': 0.14692649245262146, 'learning_rate': 0.0005, 'epoch': 57.5}\n",
      "{'loss': 0.6157, 'grad_norm': 0.11961925029754639, 'learning_rate': 0.0005, 'epoch': 57.6}\n",
      "{'loss': 0.6161, 'grad_norm': 0.15462666749954224, 'learning_rate': 0.0005, 'epoch': 57.7}\n"
     ]
    },
    {
     "data": {
      "application/vnd.jupyter.widget-view+json": {
       "model_id": "7d9182dc7d57483890f572bf5d38fed3",
       "version_major": 2,
       "version_minor": 0
      },
      "text/plain": [
       "  0%|          | 0/141 [00:00<?, ?it/s]"
      ]
     },
     "metadata": {},
     "output_type": "display_data"
    },
    {
     "name": "stdout",
     "output_type": "stream",
     "text": [
      "{'eval_loss': 0.26322343945503235, 'eval_runtime': 78.4993, 'eval_samples_per_second': 457.737, 'eval_steps_per_second': 1.796, 'epoch': 57.76}\n",
      "{'loss': 0.617, 'grad_norm': 0.14423327147960663, 'learning_rate': 0.0005, 'epoch': 57.8}\n",
      "{'loss': 0.6111, 'grad_norm': 0.14384521543979645, 'learning_rate': 0.0005, 'epoch': 57.9}\n",
      "{'loss': 0.6114, 'grad_norm': 0.12469532340765, 'learning_rate': 0.0005, 'epoch': 58.0}\n"
     ]
    },
    {
     "data": {
      "application/vnd.jupyter.widget-view+json": {
       "model_id": "37afccea10364352aca07b00639a2c91",
       "version_major": 2,
       "version_minor": 0
      },
      "text/plain": [
       "  0%|          | 0/141 [00:00<?, ?it/s]"
      ]
     },
     "metadata": {},
     "output_type": "display_data"
    },
    {
     "name": "stdout",
     "output_type": "stream",
     "text": [
      "{'eval_loss': 0.26298004388809204, 'eval_runtime': 77.9555, 'eval_samples_per_second': 460.93, 'eval_steps_per_second': 1.809, 'epoch': 58.09}\n",
      "{'loss': 0.615, 'grad_norm': 0.12240219861268997, 'learning_rate': 0.0005, 'epoch': 58.09}\n",
      "{'loss': 0.6128, 'grad_norm': 0.13241875171661377, 'learning_rate': 0.0005, 'epoch': 58.19}\n",
      "{'loss': 0.6156, 'grad_norm': 0.12218303978443146, 'learning_rate': 0.0005, 'epoch': 58.29}\n",
      "{'loss': 0.6104, 'grad_norm': 0.14403104782104492, 'learning_rate': 0.0005, 'epoch': 58.39}\n"
     ]
    },
    {
     "data": {
      "application/vnd.jupyter.widget-view+json": {
       "model_id": "9263db30f87c4e81b6211851486a9687",
       "version_major": 2,
       "version_minor": 0
      },
      "text/plain": [
       "  0%|          | 0/141 [00:00<?, ?it/s]"
      ]
     },
     "metadata": {},
     "output_type": "display_data"
    },
    {
     "name": "stdout",
     "output_type": "stream",
     "text": [
      "{'eval_loss': 0.2621043920516968, 'eval_runtime': 78.0489, 'eval_samples_per_second': 460.378, 'eval_steps_per_second': 1.807, 'epoch': 58.42}\n",
      "{'loss': 0.6143, 'grad_norm': 0.14378686249256134, 'learning_rate': 0.0005, 'epoch': 58.49}\n",
      "{'loss': 0.6136, 'grad_norm': 0.12120052427053452, 'learning_rate': 0.0005, 'epoch': 58.59}\n",
      "{'loss': 0.6129, 'grad_norm': 0.13511620461940765, 'learning_rate': 0.0005, 'epoch': 58.69}\n"
     ]
    },
    {
     "data": {
      "application/vnd.jupyter.widget-view+json": {
       "model_id": "6f512da6d2814688b553f709a0f2a24b",
       "version_major": 2,
       "version_minor": 0
      },
      "text/plain": [
       "  0%|          | 0/141 [00:00<?, ?it/s]"
      ]
     },
     "metadata": {},
     "output_type": "display_data"
    },
    {
     "name": "stdout",
     "output_type": "stream",
     "text": [
      "{'eval_loss': 0.261539489030838, 'eval_runtime': 78.3111, 'eval_samples_per_second': 458.837, 'eval_steps_per_second': 1.801, 'epoch': 58.76}\n",
      "{'loss': 0.6124, 'grad_norm': 0.17169427871704102, 'learning_rate': 0.0005, 'epoch': 58.79}\n",
      "{'loss': 0.6114, 'grad_norm': 0.1308557093143463, 'learning_rate': 0.0005, 'epoch': 58.89}\n",
      "{'loss': 0.611, 'grad_norm': 0.13567355275154114, 'learning_rate': 0.0005, 'epoch': 58.99}\n",
      "{'loss': 0.6139, 'grad_norm': 0.142086461186409, 'learning_rate': 0.0005, 'epoch': 59.08}\n"
     ]
    },
    {
     "data": {
      "application/vnd.jupyter.widget-view+json": {
       "model_id": "f6489973ffe542488c45a23715af4f16",
       "version_major": 2,
       "version_minor": 0
      },
      "text/plain": [
       "  0%|          | 0/141 [00:00<?, ?it/s]"
      ]
     },
     "metadata": {},
     "output_type": "display_data"
    },
    {
     "name": "stdout",
     "output_type": "stream",
     "text": [
      "{'eval_loss': 0.26168662309646606, 'eval_runtime': 78.2974, 'eval_samples_per_second': 458.917, 'eval_steps_per_second': 1.801, 'epoch': 59.09}\n",
      "{'loss': 0.6087, 'grad_norm': 0.13567829132080078, 'learning_rate': 0.0005, 'epoch': 59.18}\n",
      "{'loss': 0.6109, 'grad_norm': 0.13199172914028168, 'learning_rate': 0.0005, 'epoch': 59.28}\n",
      "{'loss': 0.6118, 'grad_norm': 0.18300771713256836, 'learning_rate': 0.0005, 'epoch': 59.38}\n"
     ]
    },
    {
     "data": {
      "application/vnd.jupyter.widget-view+json": {
       "model_id": "76b77db732904cb290912abd8788fd45",
       "version_major": 2,
       "version_minor": 0
      },
      "text/plain": [
       "  0%|          | 0/141 [00:00<?, ?it/s]"
      ]
     },
     "metadata": {},
     "output_type": "display_data"
    },
    {
     "name": "stdout",
     "output_type": "stream",
     "text": [
      "{'eval_loss': 0.2630062699317932, 'eval_runtime': 78.4617, 'eval_samples_per_second': 457.956, 'eval_steps_per_second': 1.797, 'epoch': 59.42}\n",
      "{'loss': 0.611, 'grad_norm': 0.13875439763069153, 'learning_rate': 0.0005, 'epoch': 59.48}\n",
      "{'loss': 0.6092, 'grad_norm': 0.11945555359125137, 'learning_rate': 0.0005, 'epoch': 59.58}\n",
      "{'loss': 0.6115, 'grad_norm': 0.14495645463466644, 'learning_rate': 0.0005, 'epoch': 59.68}\n"
     ]
    },
    {
     "data": {
      "application/vnd.jupyter.widget-view+json": {
       "model_id": "afe00244407f4674999333212e710ba1",
       "version_major": 2,
       "version_minor": 0
      },
      "text/plain": [
       "  0%|          | 0/141 [00:00<?, ?it/s]"
      ]
     },
     "metadata": {},
     "output_type": "display_data"
    },
    {
     "name": "stdout",
     "output_type": "stream",
     "text": [
      "{'eval_loss': 0.26233184337615967, 'eval_runtime': 78.4009, 'eval_samples_per_second': 458.311, 'eval_steps_per_second': 1.798, 'epoch': 59.75}\n",
      "{'loss': 0.6097, 'grad_norm': 0.13184009492397308, 'learning_rate': 0.0005, 'epoch': 59.78}\n",
      "{'loss': 0.606, 'grad_norm': 0.16406917572021484, 'learning_rate': 0.0005, 'epoch': 59.88}\n",
      "{'loss': 0.6112, 'grad_norm': 0.16626837849617004, 'learning_rate': 0.0005, 'epoch': 59.98}\n",
      "{'loss': 0.6104, 'grad_norm': 0.13819196820259094, 'learning_rate': 0.0005, 'epoch': 60.07}\n"
     ]
    },
    {
     "data": {
      "application/vnd.jupyter.widget-view+json": {
       "model_id": "ad792689947344b7a37e3abc9becbd74",
       "version_major": 2,
       "version_minor": 0
      },
      "text/plain": [
       "  0%|          | 0/141 [00:00<?, ?it/s]"
      ]
     },
     "metadata": {},
     "output_type": "display_data"
    },
    {
     "name": "stdout",
     "output_type": "stream",
     "text": [
      "{'eval_loss': 0.26169273257255554, 'eval_runtime': 78.5387, 'eval_samples_per_second': 457.507, 'eval_steps_per_second': 1.795, 'epoch': 60.08}\n",
      "{'loss': 0.6082, 'grad_norm': 0.1211787685751915, 'learning_rate': 0.0005, 'epoch': 60.17}\n",
      "{'loss': 0.6098, 'grad_norm': 0.11296043545007706, 'learning_rate': 0.0005, 'epoch': 60.27}\n",
      "{'loss': 0.6081, 'grad_norm': 0.11876789480447769, 'learning_rate': 0.0005, 'epoch': 60.37}\n"
     ]
    },
    {
     "data": {
      "application/vnd.jupyter.widget-view+json": {
       "model_id": "6a3a5d1c99e149ec81bc219b328ee980",
       "version_major": 2,
       "version_minor": 0
      },
      "text/plain": [
       "  0%|          | 0/141 [00:00<?, ?it/s]"
      ]
     },
     "metadata": {},
     "output_type": "display_data"
    },
    {
     "name": "stdout",
     "output_type": "stream",
     "text": [
      "{'eval_loss': 0.2615179717540741, 'eval_runtime': 78.5269, 'eval_samples_per_second': 457.576, 'eval_steps_per_second': 1.796, 'epoch': 60.42}\n",
      "{'loss': 0.6098, 'grad_norm': 0.13962037861347198, 'learning_rate': 0.0005, 'epoch': 60.47}\n",
      "{'loss': 0.6079, 'grad_norm': 0.12530303001403809, 'learning_rate': 0.0005, 'epoch': 60.57}\n",
      "{'loss': 0.6083, 'grad_norm': 0.13806124031543732, 'learning_rate': 0.0005, 'epoch': 60.67}\n"
     ]
    },
    {
     "data": {
      "application/vnd.jupyter.widget-view+json": {
       "model_id": "fcf0dfece266473093db25f85e8d6fd5",
       "version_major": 2,
       "version_minor": 0
      },
      "text/plain": [
       "  0%|          | 0/141 [00:00<?, ?it/s]"
      ]
     },
     "metadata": {},
     "output_type": "display_data"
    },
    {
     "name": "stdout",
     "output_type": "stream",
     "text": [
      "{'eval_loss': 0.2614125907421112, 'eval_runtime': 77.8692, 'eval_samples_per_second': 461.441, 'eval_steps_per_second': 1.811, 'epoch': 60.75}\n",
      "{'loss': 0.6119, 'grad_norm': 0.12885427474975586, 'learning_rate': 0.0005, 'epoch': 60.77}\n",
      "{'loss': 0.6087, 'grad_norm': 0.14971983432769775, 'learning_rate': 0.0005, 'epoch': 60.87}\n",
      "{'loss': 0.6081, 'grad_norm': 0.1275569200515747, 'learning_rate': 0.0005, 'epoch': 60.96}\n",
      "{'loss': 0.608, 'grad_norm': 0.12754765152931213, 'learning_rate': 0.0005, 'epoch': 61.06}\n"
     ]
    },
    {
     "data": {
      "application/vnd.jupyter.widget-view+json": {
       "model_id": "779ae3d1b07a44ee96a4cb5f7b07566c",
       "version_major": 2,
       "version_minor": 0
      },
      "text/plain": [
       "  0%|          | 0/141 [00:00<?, ?it/s]"
      ]
     },
     "metadata": {},
     "output_type": "display_data"
    },
    {
     "name": "stdout",
     "output_type": "stream",
     "text": [
      "{'eval_loss': 0.26191362738609314, 'eval_runtime': 78.1157, 'eval_samples_per_second': 459.985, 'eval_steps_per_second': 1.805, 'epoch': 61.08}\n",
      "{'loss': 0.609, 'grad_norm': 0.1259489208459854, 'learning_rate': 0.0005, 'epoch': 61.16}\n",
      "{'loss': 0.6069, 'grad_norm': 0.13071608543395996, 'learning_rate': 0.0005, 'epoch': 61.26}\n",
      "{'loss': 0.6074, 'grad_norm': 0.16337105631828308, 'learning_rate': 0.0005, 'epoch': 61.36}\n"
     ]
    },
    {
     "data": {
      "application/vnd.jupyter.widget-view+json": {
       "model_id": "5be7fefb9f3c45ab8ba8887b08e99559",
       "version_major": 2,
       "version_minor": 0
      },
      "text/plain": [
       "  0%|          | 0/141 [00:00<?, ?it/s]"
      ]
     },
     "metadata": {},
     "output_type": "display_data"
    },
    {
     "name": "stdout",
     "output_type": "stream",
     "text": [
      "{'eval_loss': 0.2617546319961548, 'eval_runtime': 78.4435, 'eval_samples_per_second': 458.062, 'eval_steps_per_second': 1.797, 'epoch': 61.41}\n",
      "{'loss': 0.6053, 'grad_norm': 0.13491131365299225, 'learning_rate': 0.0005, 'epoch': 61.46}\n",
      "{'loss': 0.6075, 'grad_norm': 0.13507062196731567, 'learning_rate': 0.0005, 'epoch': 61.56}\n",
      "{'loss': 0.6043, 'grad_norm': 0.13746245205402374, 'learning_rate': 0.0005, 'epoch': 61.66}\n"
     ]
    },
    {
     "data": {
      "application/vnd.jupyter.widget-view+json": {
       "model_id": "6cb4c5bf46c94ce99d950b651526c06b",
       "version_major": 2,
       "version_minor": 0
      },
      "text/plain": [
       "  0%|          | 0/141 [00:00<?, ?it/s]"
      ]
     },
     "metadata": {},
     "output_type": "display_data"
    },
    {
     "name": "stdout",
     "output_type": "stream",
     "text": [
      "{'eval_loss': 0.2611176073551178, 'eval_runtime': 78.166, 'eval_samples_per_second': 459.688, 'eval_steps_per_second': 1.804, 'epoch': 61.74}\n",
      "{'loss': 0.607, 'grad_norm': 0.13507810235023499, 'learning_rate': 0.0005, 'epoch': 61.76}\n",
      "{'loss': 0.6041, 'grad_norm': 0.15865617990493774, 'learning_rate': 0.0005, 'epoch': 61.86}\n",
      "{'loss': 0.605, 'grad_norm': 0.13878096640110016, 'learning_rate': 0.0005, 'epoch': 61.95}\n",
      "{'loss': 0.6015, 'grad_norm': 0.1575661152601242, 'learning_rate': 0.0005, 'epoch': 62.05}\n"
     ]
    },
    {
     "data": {
      "application/vnd.jupyter.widget-view+json": {
       "model_id": "f664ab20f8e3454c9128cdf5dabcf7eb",
       "version_major": 2,
       "version_minor": 0
      },
      "text/plain": [
       "  0%|          | 0/141 [00:00<?, ?it/s]"
      ]
     },
     "metadata": {},
     "output_type": "display_data"
    },
    {
     "name": "stdout",
     "output_type": "stream",
     "text": [
      "{'eval_loss': 0.25965452194213867, 'eval_runtime': 78.1967, 'eval_samples_per_second': 459.508, 'eval_steps_per_second': 1.803, 'epoch': 62.08}\n",
      "{'loss': 0.607, 'grad_norm': 0.14884601533412933, 'learning_rate': 0.0005, 'epoch': 62.15}\n",
      "{'loss': 0.6005, 'grad_norm': 0.1450297236442566, 'learning_rate': 0.0005, 'epoch': 62.25}\n",
      "{'loss': 0.603, 'grad_norm': 0.14703679084777832, 'learning_rate': 0.0005, 'epoch': 62.35}\n"
     ]
    },
    {
     "data": {
      "application/vnd.jupyter.widget-view+json": {
       "model_id": "e35bd034653e46919114413fa61c7fe9",
       "version_major": 2,
       "version_minor": 0
      },
      "text/plain": [
       "  0%|          | 0/141 [00:00<?, ?it/s]"
      ]
     },
     "metadata": {},
     "output_type": "display_data"
    },
    {
     "name": "stdout",
     "output_type": "stream",
     "text": [
      "{'eval_loss': 0.2620782256126404, 'eval_runtime': 78.2463, 'eval_samples_per_second': 459.217, 'eval_steps_per_second': 1.802, 'epoch': 62.41}\n",
      "{'loss': 0.6048, 'grad_norm': 0.17104186117649078, 'learning_rate': 0.0005, 'epoch': 62.45}\n",
      "{'loss': 0.6041, 'grad_norm': 0.12534546852111816, 'learning_rate': 0.0005, 'epoch': 62.55}\n",
      "{'loss': 0.6031, 'grad_norm': 0.17623579502105713, 'learning_rate': 0.0005, 'epoch': 62.65}\n"
     ]
    },
    {
     "data": {
      "application/vnd.jupyter.widget-view+json": {
       "model_id": "ad1bd16787e746d6b871fc0222d6971b",
       "version_major": 2,
       "version_minor": 0
      },
      "text/plain": [
       "  0%|          | 0/141 [00:00<?, ?it/s]"
      ]
     },
     "metadata": {},
     "output_type": "display_data"
    },
    {
     "name": "stdout",
     "output_type": "stream",
     "text": [
      "{'eval_loss': 0.25883591175079346, 'eval_runtime': 77.9801, 'eval_samples_per_second': 460.784, 'eval_steps_per_second': 1.808, 'epoch': 62.74}\n",
      "{'loss': 0.608, 'grad_norm': 0.1356230080127716, 'learning_rate': 0.0005, 'epoch': 62.75}\n",
      "{'loss': 0.6056, 'grad_norm': 0.12218021601438522, 'learning_rate': 0.0005, 'epoch': 62.85}\n",
      "{'loss': 0.605, 'grad_norm': 0.15627937018871307, 'learning_rate': 0.0005, 'epoch': 62.94}\n",
      "{'loss': 0.6069, 'grad_norm': 0.12310593575239182, 'learning_rate': 0.0005, 'epoch': 63.04}\n"
     ]
    },
    {
     "data": {
      "application/vnd.jupyter.widget-view+json": {
       "model_id": "c9ab691d73a74f64b229ae9adf772343",
       "version_major": 2,
       "version_minor": 0
      },
      "text/plain": [
       "  0%|          | 0/141 [00:00<?, ?it/s]"
      ]
     },
     "metadata": {},
     "output_type": "display_data"
    },
    {
     "name": "stdout",
     "output_type": "stream",
     "text": [
      "{'eval_loss': 0.2619001567363739, 'eval_runtime': 78.2386, 'eval_samples_per_second': 459.262, 'eval_steps_per_second': 1.802, 'epoch': 63.07}\n",
      "{'loss': 0.6022, 'grad_norm': 0.15526263415813446, 'learning_rate': 0.0005, 'epoch': 63.14}\n",
      "{'loss': 0.6019, 'grad_norm': 0.13133461773395538, 'learning_rate': 0.0005, 'epoch': 63.24}\n",
      "{'loss': 0.6053, 'grad_norm': 0.1324637234210968, 'learning_rate': 0.0005, 'epoch': 63.34}\n"
     ]
    },
    {
     "data": {
      "application/vnd.jupyter.widget-view+json": {
       "model_id": "532f9aacff0b4fed9bec3fc85875ed8e",
       "version_major": 2,
       "version_minor": 0
      },
      "text/plain": [
       "  0%|          | 0/141 [00:00<?, ?it/s]"
      ]
     },
     "metadata": {},
     "output_type": "display_data"
    },
    {
     "name": "stdout",
     "output_type": "stream",
     "text": [
      "{'eval_loss': 0.2586122751235962, 'eval_runtime': 78.4726, 'eval_samples_per_second': 457.892, 'eval_steps_per_second': 1.797, 'epoch': 63.4}\n",
      "{'loss': 0.6064, 'grad_norm': 0.12636762857437134, 'learning_rate': 0.0005, 'epoch': 63.44}\n",
      "{'loss': 0.6034, 'grad_norm': 0.14619988203048706, 'learning_rate': 0.0005, 'epoch': 63.54}\n",
      "{'loss': 0.6057, 'grad_norm': 0.14930230379104614, 'learning_rate': 0.0005, 'epoch': 63.64}\n",
      "{'loss': 0.6014, 'grad_norm': 0.13285280764102936, 'learning_rate': 0.0005, 'epoch': 63.74}\n"
     ]
    },
    {
     "data": {
      "application/vnd.jupyter.widget-view+json": {
       "model_id": "e54f5b4e1e01462c95aafba2353fec48",
       "version_major": 2,
       "version_minor": 0
      },
      "text/plain": [
       "  0%|          | 0/141 [00:00<?, ?it/s]"
      ]
     },
     "metadata": {},
     "output_type": "display_data"
    },
    {
     "name": "stdout",
     "output_type": "stream",
     "text": [
      "{'eval_loss': 0.25870072841644287, 'eval_runtime': 78.4139, 'eval_samples_per_second': 458.235, 'eval_steps_per_second': 1.798, 'epoch': 63.74}\n",
      "{'loss': 0.603, 'grad_norm': 0.19746653735637665, 'learning_rate': 0.0005, 'epoch': 63.84}\n",
      "{'loss': 0.6045, 'grad_norm': 0.15541887283325195, 'learning_rate': 0.0005, 'epoch': 63.93}\n",
      "{'loss': 0.6057, 'grad_norm': 0.14082397520542145, 'learning_rate': 0.0005, 'epoch': 64.03}\n"
     ]
    },
    {
     "data": {
      "application/vnd.jupyter.widget-view+json": {
       "model_id": "30539ec4ca3a479896de3148f72fc29a",
       "version_major": 2,
       "version_minor": 0
      },
      "text/plain": [
       "  0%|          | 0/141 [00:00<?, ?it/s]"
      ]
     },
     "metadata": {},
     "output_type": "display_data"
    },
    {
     "name": "stdout",
     "output_type": "stream",
     "text": [
      "{'eval_loss': 0.26023074984550476, 'eval_runtime': 78.1032, 'eval_samples_per_second': 460.058, 'eval_steps_per_second': 1.805, 'epoch': 64.07}\n",
      "{'loss': 0.6011, 'grad_norm': 0.13569487631320953, 'learning_rate': 0.0005, 'epoch': 64.13}\n",
      "{'loss': 0.6011, 'grad_norm': 0.13604554533958435, 'learning_rate': 0.0005, 'epoch': 64.23}\n",
      "{'loss': 0.6032, 'grad_norm': 0.1428409367799759, 'learning_rate': 0.0005, 'epoch': 64.33}\n"
     ]
    },
    {
     "data": {
      "application/vnd.jupyter.widget-view+json": {
       "model_id": "07c3b61581cf4671b7a95b607b302c7d",
       "version_major": 2,
       "version_minor": 0
      },
      "text/plain": [
       "  0%|          | 0/141 [00:00<?, ?it/s]"
      ]
     },
     "metadata": {},
     "output_type": "display_data"
    },
    {
     "name": "stdout",
     "output_type": "stream",
     "text": [
      "{'eval_loss': 0.25805607438087463, 'eval_runtime': 78.3626, 'eval_samples_per_second': 458.535, 'eval_steps_per_second': 1.799, 'epoch': 64.4}\n",
      "{'loss': 0.6018, 'grad_norm': 0.13196991384029388, 'learning_rate': 0.0005, 'epoch': 64.43}\n",
      "{'loss': 0.5993, 'grad_norm': 0.15209732949733734, 'learning_rate': 0.0005, 'epoch': 64.53}\n",
      "{'loss': 0.6018, 'grad_norm': 0.14687024056911469, 'learning_rate': 0.0005, 'epoch': 64.63}\n",
      "{'loss': 0.6015, 'grad_norm': 0.12358677387237549, 'learning_rate': 0.0005, 'epoch': 64.73}\n"
     ]
    },
    {
     "data": {
      "application/vnd.jupyter.widget-view+json": {
       "model_id": "3bd995ff78e548d59e6165fc958b96f8",
       "version_major": 2,
       "version_minor": 0
      },
      "text/plain": [
       "  0%|          | 0/141 [00:00<?, ?it/s]"
      ]
     },
     "metadata": {},
     "output_type": "display_data"
    },
    {
     "name": "stdout",
     "output_type": "stream",
     "text": [
      "{'eval_loss': 0.2582589387893677, 'eval_runtime': 78.4417, 'eval_samples_per_second': 458.073, 'eval_steps_per_second': 1.798, 'epoch': 64.73}\n",
      "{'loss': 0.6022, 'grad_norm': 0.1457790732383728, 'learning_rate': 0.0005, 'epoch': 64.82}\n",
      "{'loss': 0.5981, 'grad_norm': 0.1321365088224411, 'learning_rate': 0.0005, 'epoch': 64.92}\n",
      "{'loss': 0.5997, 'grad_norm': 0.16395695507526398, 'learning_rate': 0.0005, 'epoch': 65.02}\n"
     ]
    },
    {
     "data": {
      "application/vnd.jupyter.widget-view+json": {
       "model_id": "86b166432af346eb9dfd8bf7fbdcb099",
       "version_major": 2,
       "version_minor": 0
      },
      "text/plain": [
       "  0%|          | 0/141 [00:00<?, ?it/s]"
      ]
     },
     "metadata": {},
     "output_type": "display_data"
    },
    {
     "name": "stdout",
     "output_type": "stream",
     "text": [
      "{'eval_loss': 0.2595973610877991, 'eval_runtime': 78.1801, 'eval_samples_per_second': 459.605, 'eval_steps_per_second': 1.804, 'epoch': 65.06}\n",
      "{'loss': 0.6017, 'grad_norm': 0.12541159987449646, 'learning_rate': 0.0005, 'epoch': 65.12}\n",
      "{'loss': 0.5999, 'grad_norm': 0.14344747364521027, 'learning_rate': 0.0005, 'epoch': 65.22}\n",
      "{'loss': 0.5992, 'grad_norm': 0.15884000062942505, 'learning_rate': 0.0005, 'epoch': 65.32}\n"
     ]
    },
    {
     "data": {
      "application/vnd.jupyter.widget-view+json": {
       "model_id": "c31bddad05ee4560b35f021ec8192692",
       "version_major": 2,
       "version_minor": 0
      },
      "text/plain": [
       "  0%|          | 0/141 [00:00<?, ?it/s]"
      ]
     },
     "metadata": {},
     "output_type": "display_data"
    },
    {
     "name": "stdout",
     "output_type": "stream",
     "text": [
      "{'eval_loss': 0.25890952348709106, 'eval_runtime': 78.1895, 'eval_samples_per_second': 459.55, 'eval_steps_per_second': 1.803, 'epoch': 65.4}\n",
      "{'loss': 0.5968, 'grad_norm': 0.13042031228542328, 'learning_rate': 0.0005, 'epoch': 65.42}\n",
      "{'loss': 0.5984, 'grad_norm': 0.20431260764598846, 'learning_rate': 0.0005, 'epoch': 65.52}\n",
      "{'loss': 0.6008, 'grad_norm': 0.13174448907375336, 'learning_rate': 0.0005, 'epoch': 65.62}\n",
      "{'loss': 0.6007, 'grad_norm': 0.12673719227313995, 'learning_rate': 0.0005, 'epoch': 65.72}\n"
     ]
    },
    {
     "data": {
      "application/vnd.jupyter.widget-view+json": {
       "model_id": "45baeb7150614c75aff17dadf57aecbb",
       "version_major": 2,
       "version_minor": 0
      },
      "text/plain": [
       "  0%|          | 0/141 [00:00<?, ?it/s]"
      ]
     },
     "metadata": {},
     "output_type": "display_data"
    },
    {
     "name": "stdout",
     "output_type": "stream",
     "text": [
      "{'eval_loss': 0.2574184834957123, 'eval_runtime': 78.2613, 'eval_samples_per_second': 459.129, 'eval_steps_per_second': 1.802, 'epoch': 65.73}\n",
      "{'loss': 0.5996, 'grad_norm': 0.15886183083057404, 'learning_rate': 0.0005, 'epoch': 65.81}\n",
      "{'loss': 0.6011, 'grad_norm': 0.1511641889810562, 'learning_rate': 0.0005, 'epoch': 65.91}\n",
      "{'loss': 0.6031, 'grad_norm': 0.155894473195076, 'learning_rate': 0.0005, 'epoch': 66.01}\n"
     ]
    },
    {
     "data": {
      "application/vnd.jupyter.widget-view+json": {
       "model_id": "9c93d4117f6547b889a2e637384cef3e",
       "version_major": 2,
       "version_minor": 0
      },
      "text/plain": [
       "  0%|          | 0/141 [00:00<?, ?it/s]"
      ]
     },
     "metadata": {},
     "output_type": "display_data"
    },
    {
     "name": "stdout",
     "output_type": "stream",
     "text": [
      "{'eval_loss': 0.258700430393219, 'eval_runtime': 78.1653, 'eval_samples_per_second': 459.692, 'eval_steps_per_second': 1.804, 'epoch': 66.06}\n",
      "{'loss': 0.6001, 'grad_norm': 0.1259823888540268, 'learning_rate': 0.0005, 'epoch': 66.11}\n",
      "{'loss': 0.5985, 'grad_norm': 0.11691340804100037, 'learning_rate': 0.0005, 'epoch': 66.21}\n",
      "{'loss': 0.5989, 'grad_norm': 0.12889188528060913, 'learning_rate': 0.0005, 'epoch': 66.31}\n"
     ]
    },
    {
     "data": {
      "application/vnd.jupyter.widget-view+json": {
       "model_id": "8ccb380d721747458d8fe7ba76fdf825",
       "version_major": 2,
       "version_minor": 0
      },
      "text/plain": [
       "  0%|          | 0/141 [00:00<?, ?it/s]"
      ]
     },
     "metadata": {},
     "output_type": "display_data"
    },
    {
     "name": "stdout",
     "output_type": "stream",
     "text": [
      "{'eval_loss': 0.25785189867019653, 'eval_runtime': 78.1882, 'eval_samples_per_second': 459.558, 'eval_steps_per_second': 1.803, 'epoch': 66.39}\n",
      "{'loss': 0.6002, 'grad_norm': 0.14802639186382294, 'learning_rate': 0.0005, 'epoch': 66.41}\n",
      "{'loss': 0.6002, 'grad_norm': 0.1430603265762329, 'learning_rate': 0.0005, 'epoch': 66.51}\n",
      "{'loss': 0.5967, 'grad_norm': 0.1789522022008896, 'learning_rate': 0.0005, 'epoch': 66.61}\n",
      "{'loss': 0.5987, 'grad_norm': 0.15197621285915375, 'learning_rate': 0.0005, 'epoch': 66.71}\n"
     ]
    },
    {
     "data": {
      "application/vnd.jupyter.widget-view+json": {
       "model_id": "b858825afaee41f2ac7b43104a1c9741",
       "version_major": 2,
       "version_minor": 0
      },
      "text/plain": [
       "  0%|          | 0/141 [00:00<?, ?it/s]"
      ]
     },
     "metadata": {},
     "output_type": "display_data"
    },
    {
     "name": "stdout",
     "output_type": "stream",
     "text": [
      "{'eval_loss': 0.2600483000278473, 'eval_runtime': 78.4459, 'eval_samples_per_second': 458.048, 'eval_steps_per_second': 1.797, 'epoch': 66.72}\n",
      "{'loss': 0.6022, 'grad_norm': 0.12203770130872726, 'learning_rate': 0.0005, 'epoch': 66.8}\n",
      "{'loss': 0.5999, 'grad_norm': 0.1321766972541809, 'learning_rate': 0.0005, 'epoch': 66.9}\n",
      "{'loss': 0.5953, 'grad_norm': 0.15208730101585388, 'learning_rate': 0.0005, 'epoch': 67.0}\n"
     ]
    },
    {
     "data": {
      "application/vnd.jupyter.widget-view+json": {
       "model_id": "faad40b2afad4b2daf35396b746593c3",
       "version_major": 2,
       "version_minor": 0
      },
      "text/plain": [
       "  0%|          | 0/141 [00:00<?, ?it/s]"
      ]
     },
     "metadata": {},
     "output_type": "display_data"
    },
    {
     "name": "stdout",
     "output_type": "stream",
     "text": [
      "{'eval_loss': 0.25957876443862915, 'eval_runtime': 77.9002, 'eval_samples_per_second': 461.257, 'eval_steps_per_second': 1.81, 'epoch': 67.06}\n",
      "{'loss': 0.5997, 'grad_norm': 0.1382581889629364, 'learning_rate': 0.0005, 'epoch': 67.1}\n",
      "{'loss': 0.5963, 'grad_norm': 0.1483592689037323, 'learning_rate': 0.0005, 'epoch': 67.2}\n",
      "{'loss': 0.5934, 'grad_norm': 0.1459924876689911, 'learning_rate': 0.0005, 'epoch': 67.3}\n"
     ]
    },
    {
     "data": {
      "application/vnd.jupyter.widget-view+json": {
       "model_id": "868d3b4bb0d441c5ae2936c661c413bc",
       "version_major": 2,
       "version_minor": 0
      },
      "text/plain": [
       "  0%|          | 0/141 [00:00<?, ?it/s]"
      ]
     },
     "metadata": {},
     "output_type": "display_data"
    },
    {
     "name": "stdout",
     "output_type": "stream",
     "text": [
      "{'eval_loss': 0.2583176791667938, 'eval_runtime': 77.9945, 'eval_samples_per_second': 460.699, 'eval_steps_per_second': 1.808, 'epoch': 67.39}\n",
      "{'loss': 0.5959, 'grad_norm': 0.16176554560661316, 'learning_rate': 0.0005, 'epoch': 67.4}\n",
      "{'loss': 0.5975, 'grad_norm': 0.1719737946987152, 'learning_rate': 0.0005, 'epoch': 67.5}\n",
      "{'loss': 0.594, 'grad_norm': 0.12953630089759827, 'learning_rate': 0.0005, 'epoch': 67.6}\n",
      "{'loss': 0.6003, 'grad_norm': 0.14825250208377838, 'learning_rate': 0.0005, 'epoch': 67.69}\n"
     ]
    },
    {
     "data": {
      "application/vnd.jupyter.widget-view+json": {
       "model_id": "92b0d2acc3374c9ea8b8ad610cfb3edf",
       "version_major": 2,
       "version_minor": 0
      },
      "text/plain": [
       "  0%|          | 0/141 [00:00<?, ?it/s]"
      ]
     },
     "metadata": {},
     "output_type": "display_data"
    },
    {
     "name": "stdout",
     "output_type": "stream",
     "text": [
      "{'eval_loss': 0.2562502324581146, 'eval_runtime': 77.9146, 'eval_samples_per_second': 461.171, 'eval_steps_per_second': 1.81, 'epoch': 67.72}\n",
      "{'loss': 0.5985, 'grad_norm': 0.1700710654258728, 'learning_rate': 0.0005, 'epoch': 67.79}\n",
      "{'loss': 0.5946, 'grad_norm': 0.13544873893260956, 'learning_rate': 0.0005, 'epoch': 67.89}\n",
      "{'loss': 0.5955, 'grad_norm': 0.14136867225170135, 'learning_rate': 0.0005, 'epoch': 67.99}\n"
     ]
    },
    {
     "data": {
      "application/vnd.jupyter.widget-view+json": {
       "model_id": "b8c67fb384414861bcff99c67e82afb2",
       "version_major": 2,
       "version_minor": 0
      },
      "text/plain": [
       "  0%|          | 0/141 [00:00<?, ?it/s]"
      ]
     },
     "metadata": {},
     "output_type": "display_data"
    },
    {
     "name": "stdout",
     "output_type": "stream",
     "text": [
      "{'eval_loss': 0.25627344846725464, 'eval_runtime': 77.6327, 'eval_samples_per_second': 462.846, 'eval_steps_per_second': 1.816, 'epoch': 68.05}\n",
      "{'loss': 0.5932, 'grad_norm': 0.19411176443099976, 'learning_rate': 0.0005, 'epoch': 68.09}\n",
      "{'loss': 0.5932, 'grad_norm': 0.13582809269428253, 'learning_rate': 0.0005, 'epoch': 68.19}\n",
      "{'loss': 0.595, 'grad_norm': 0.1253805160522461, 'learning_rate': 0.0005, 'epoch': 68.29}\n"
     ]
    },
    {
     "data": {
      "application/vnd.jupyter.widget-view+json": {
       "model_id": "099fa57d76534496bde385bbde7da250",
       "version_major": 2,
       "version_minor": 0
      },
      "text/plain": [
       "  0%|          | 0/141 [00:00<?, ?it/s]"
      ]
     },
     "metadata": {},
     "output_type": "display_data"
    },
    {
     "name": "stdout",
     "output_type": "stream",
     "text": [
      "{'eval_loss': 0.25736910104751587, 'eval_runtime': 77.6232, 'eval_samples_per_second': 462.903, 'eval_steps_per_second': 1.816, 'epoch': 68.38}\n",
      "{'loss': 0.5938, 'grad_norm': 0.12099415808916092, 'learning_rate': 0.0005, 'epoch': 68.39}\n",
      "{'loss': 0.5967, 'grad_norm': 0.1233731061220169, 'learning_rate': 0.0005, 'epoch': 68.49}\n",
      "{'loss': 0.5955, 'grad_norm': 0.16207051277160645, 'learning_rate': 0.0005, 'epoch': 68.59}\n",
      "{'loss': 0.5989, 'grad_norm': 0.19891585409641266, 'learning_rate': 0.0005, 'epoch': 68.68}\n"
     ]
    },
    {
     "data": {
      "application/vnd.jupyter.widget-view+json": {
       "model_id": "02a3fe76fd70491ab96b6eeae2e7c175",
       "version_major": 2,
       "version_minor": 0
      },
      "text/plain": [
       "  0%|          | 0/141 [00:00<?, ?it/s]"
      ]
     },
     "metadata": {},
     "output_type": "display_data"
    },
    {
     "name": "stdout",
     "output_type": "stream",
     "text": [
      "{'eval_loss': 0.25673916935920715, 'eval_runtime': 78.4975, 'eval_samples_per_second': 457.747, 'eval_steps_per_second': 1.796, 'epoch': 68.72}\n",
      "{'loss': 0.5973, 'grad_norm': 0.13593165576457977, 'learning_rate': 0.0005, 'epoch': 68.78}\n",
      "{'loss': 0.5958, 'grad_norm': 0.14538481831550598, 'learning_rate': 0.0005, 'epoch': 68.88}\n",
      "{'loss': 0.5983, 'grad_norm': 0.15696361660957336, 'learning_rate': 0.0005, 'epoch': 68.98}\n"
     ]
    },
    {
     "data": {
      "application/vnd.jupyter.widget-view+json": {
       "model_id": "3497f1d1df6440f09631433a228f06ce",
       "version_major": 2,
       "version_minor": 0
      },
      "text/plain": [
       "  0%|          | 0/141 [00:00<?, ?it/s]"
      ]
     },
     "metadata": {},
     "output_type": "display_data"
    },
    {
     "name": "stdout",
     "output_type": "stream",
     "text": [
      "{'eval_loss': 0.25633037090301514, 'eval_runtime': 78.4615, 'eval_samples_per_second': 457.957, 'eval_steps_per_second': 1.797, 'epoch': 69.05}\n",
      "{'loss': 0.5956, 'grad_norm': 0.12547332048416138, 'learning_rate': 0.0005, 'epoch': 69.08}\n",
      "{'loss': 0.5928, 'grad_norm': 0.13529038429260254, 'learning_rate': 0.0005, 'epoch': 69.18}\n",
      "{'loss': 0.5945, 'grad_norm': 0.15696318447589874, 'learning_rate': 0.0005, 'epoch': 69.28}\n",
      "{'loss': 0.5956, 'grad_norm': 0.14782652258872986, 'learning_rate': 0.0005, 'epoch': 69.38}\n"
     ]
    },
    {
     "data": {
      "application/vnd.jupyter.widget-view+json": {
       "model_id": "13a0eb4e66de4a3ab2d4c2e9f08e705a",
       "version_major": 2,
       "version_minor": 0
      },
      "text/plain": [
       "  0%|          | 0/141 [00:00<?, ?it/s]"
      ]
     },
     "metadata": {},
     "output_type": "display_data"
    },
    {
     "name": "stdout",
     "output_type": "stream",
     "text": [
      "{'eval_loss': 0.257580429315567, 'eval_runtime': 78.3191, 'eval_samples_per_second': 458.79, 'eval_steps_per_second': 1.8, 'epoch': 69.38}\n",
      "{'loss': 0.5946, 'grad_norm': 0.14448639750480652, 'learning_rate': 0.0005, 'epoch': 69.48}\n",
      "{'loss': 0.5938, 'grad_norm': 0.15468169748783112, 'learning_rate': 0.0005, 'epoch': 69.58}\n",
      "{'loss': 0.5964, 'grad_norm': 0.13517507910728455, 'learning_rate': 0.0005, 'epoch': 69.67}\n"
     ]
    },
    {
     "data": {
      "application/vnd.jupyter.widget-view+json": {
       "model_id": "4262957fcd6e49939143f3a6da7c865c",
       "version_major": 2,
       "version_minor": 0
      },
      "text/plain": [
       "  0%|          | 0/141 [00:00<?, ?it/s]"
      ]
     },
     "metadata": {},
     "output_type": "display_data"
    },
    {
     "name": "stdout",
     "output_type": "stream",
     "text": [
      "{'eval_loss': 0.25555911660194397, 'eval_runtime': 77.9046, 'eval_samples_per_second': 461.231, 'eval_steps_per_second': 1.81, 'epoch': 69.71}\n",
      "{'loss': 0.5962, 'grad_norm': 0.13624952733516693, 'learning_rate': 0.0005, 'epoch': 69.77}\n",
      "{'loss': 0.5975, 'grad_norm': 0.13344012200832367, 'learning_rate': 0.0005, 'epoch': 69.87}\n",
      "{'loss': 0.5943, 'grad_norm': 0.13842271268367767, 'learning_rate': 0.0005, 'epoch': 69.97}\n"
     ]
    },
    {
     "data": {
      "application/vnd.jupyter.widget-view+json": {
       "model_id": "81bda497dcf54ba688b0899b02be4e20",
       "version_major": 2,
       "version_minor": 0
      },
      "text/plain": [
       "  0%|          | 0/141 [00:00<?, ?it/s]"
      ]
     },
     "metadata": {},
     "output_type": "display_data"
    },
    {
     "name": "stdout",
     "output_type": "stream",
     "text": [
      "{'eval_loss': 0.2562759518623352, 'eval_runtime': 78.23, 'eval_samples_per_second': 459.312, 'eval_steps_per_second': 1.802, 'epoch': 70.04}\n",
      "{'loss': 0.594, 'grad_norm': 0.18086360394954681, 'learning_rate': 0.0005, 'epoch': 70.07}\n",
      "{'loss': 0.5941, 'grad_norm': 0.1324615180492401, 'learning_rate': 0.0005, 'epoch': 70.17}\n",
      "{'loss': 0.5929, 'grad_norm': 0.13866956532001495, 'learning_rate': 0.0005, 'epoch': 70.27}\n",
      "{'loss': 0.5915, 'grad_norm': 0.15640588104724884, 'learning_rate': 0.0005, 'epoch': 70.37}\n"
     ]
    },
    {
     "data": {
      "application/vnd.jupyter.widget-view+json": {
       "model_id": "0049b7e0e4c3459bb3a98a2efc7c2bbf",
       "version_major": 2,
       "version_minor": 0
      },
      "text/plain": [
       "  0%|          | 0/141 [00:00<?, ?it/s]"
      ]
     },
     "metadata": {},
     "output_type": "display_data"
    },
    {
     "name": "stdout",
     "output_type": "stream",
     "text": [
      "{'eval_loss': 0.25439056754112244, 'eval_runtime': 78.0898, 'eval_samples_per_second': 460.137, 'eval_steps_per_second': 1.806, 'epoch': 70.38}\n",
      "{'loss': 0.5912, 'grad_norm': 0.12293655425310135, 'learning_rate': 0.0005, 'epoch': 70.47}\n",
      "{'loss': 0.5945, 'grad_norm': 0.1408415287733078, 'learning_rate': 0.0005, 'epoch': 70.56}\n",
      "{'loss': 0.5954, 'grad_norm': 0.12559932470321655, 'learning_rate': 0.0005, 'epoch': 70.66}\n"
     ]
    },
    {
     "data": {
      "application/vnd.jupyter.widget-view+json": {
       "model_id": "3b29b5807ac54b38825c9bd3c14a156b",
       "version_major": 2,
       "version_minor": 0
      },
      "text/plain": [
       "  0%|          | 0/141 [00:00<?, ?it/s]"
      ]
     },
     "metadata": {},
     "output_type": "display_data"
    },
    {
     "name": "stdout",
     "output_type": "stream",
     "text": [
      "{'eval_loss': 0.2574005722999573, 'eval_runtime': 78.5219, 'eval_samples_per_second': 457.605, 'eval_steps_per_second': 1.796, 'epoch': 70.71}\n",
      "{'loss': 0.5969, 'grad_norm': 0.13624228537082672, 'learning_rate': 0.0005, 'epoch': 70.76}\n",
      "{'loss': 0.5939, 'grad_norm': 0.1282089650630951, 'learning_rate': 0.0005, 'epoch': 70.86}\n",
      "{'loss': 0.5934, 'grad_norm': 0.15758971869945526, 'learning_rate': 0.0005, 'epoch': 70.96}\n"
     ]
    },
    {
     "data": {
      "application/vnd.jupyter.widget-view+json": {
       "model_id": "adaffd1d2b5449e38d9f7e28c075910f",
       "version_major": 2,
       "version_minor": 0
      },
      "text/plain": [
       "  0%|          | 0/141 [00:00<?, ?it/s]"
      ]
     },
     "metadata": {},
     "output_type": "display_data"
    },
    {
     "name": "stdout",
     "output_type": "stream",
     "text": [
      "{'eval_loss': 0.25759604573249817, 'eval_runtime': 78.0664, 'eval_samples_per_second': 460.275, 'eval_steps_per_second': 1.806, 'epoch': 71.04}\n",
      "{'loss': 0.5965, 'grad_norm': 0.14355161786079407, 'learning_rate': 0.0005, 'epoch': 71.06}\n",
      "{'loss': 0.5948, 'grad_norm': 0.14230932295322418, 'learning_rate': 0.0005, 'epoch': 71.16}\n",
      "{'loss': 0.5934, 'grad_norm': 0.1345609426498413, 'learning_rate': 0.0005, 'epoch': 71.26}\n",
      "{'loss': 0.5888, 'grad_norm': 0.12504374980926514, 'learning_rate': 0.0005, 'epoch': 71.36}\n"
     ]
    },
    {
     "data": {
      "application/vnd.jupyter.widget-view+json": {
       "model_id": "41a878c9811e4da9a7d0908c1b1acea8",
       "version_major": 2,
       "version_minor": 0
      },
      "text/plain": [
       "  0%|          | 0/141 [00:00<?, ?it/s]"
      ]
     },
     "metadata": {},
     "output_type": "display_data"
    },
    {
     "name": "stdout",
     "output_type": "stream",
     "text": [
      "{'eval_loss': 0.2558307647705078, 'eval_runtime': 80.0245, 'eval_samples_per_second': 449.012, 'eval_steps_per_second': 1.762, 'epoch': 71.37}\n",
      "{'loss': 0.5932, 'grad_norm': 0.13925720751285553, 'learning_rate': 0.0005, 'epoch': 71.46}\n",
      "{'loss': 0.5936, 'grad_norm': 0.14165139198303223, 'learning_rate': 0.0005, 'epoch': 71.55}\n",
      "{'loss': 0.5952, 'grad_norm': 0.14754024147987366, 'learning_rate': 0.0005, 'epoch': 71.65}\n"
     ]
    },
    {
     "data": {
      "application/vnd.jupyter.widget-view+json": {
       "model_id": "96edec2db09449d1a6cc2586ad03dcdf",
       "version_major": 2,
       "version_minor": 0
      },
      "text/plain": [
       "  0%|          | 0/141 [00:00<?, ?it/s]"
      ]
     },
     "metadata": {},
     "output_type": "display_data"
    },
    {
     "name": "stdout",
     "output_type": "stream",
     "text": [
      "{'eval_loss': 0.2562302350997925, 'eval_runtime': 78.4047, 'eval_samples_per_second': 458.289, 'eval_steps_per_second': 1.798, 'epoch': 71.7}\n",
      "{'loss': 0.5938, 'grad_norm': 0.1286260038614273, 'learning_rate': 0.0005, 'epoch': 71.75}\n",
      "{'loss': 0.5954, 'grad_norm': 0.1289949119091034, 'learning_rate': 0.0005, 'epoch': 71.85}\n",
      "{'loss': 0.5908, 'grad_norm': 0.13164901733398438, 'learning_rate': 0.0005, 'epoch': 71.95}\n"
     ]
    },
    {
     "data": {
      "application/vnd.jupyter.widget-view+json": {
       "model_id": "a9f13cc512cf44739dbcbc1e016eccde",
       "version_major": 2,
       "version_minor": 0
      },
      "text/plain": [
       "  0%|          | 0/141 [00:00<?, ?it/s]"
      ]
     },
     "metadata": {},
     "output_type": "display_data"
    },
    {
     "name": "stdout",
     "output_type": "stream",
     "text": [
      "{'eval_loss': 0.261712908744812, 'eval_runtime': 78.3622, 'eval_samples_per_second': 458.538, 'eval_steps_per_second': 1.799, 'epoch': 72.04}\n",
      "{'loss': 0.5932, 'grad_norm': 0.15577173233032227, 'learning_rate': 0.0005, 'epoch': 72.05}\n",
      "{'loss': 0.5894, 'grad_norm': 0.12788936495780945, 'learning_rate': 0.0005, 'epoch': 72.15}\n",
      "{'loss': 0.5926, 'grad_norm': 0.15629568696022034, 'learning_rate': 0.0005, 'epoch': 72.25}\n",
      "{'loss': 0.5916, 'grad_norm': 0.16862726211547852, 'learning_rate': 0.0005, 'epoch': 72.35}\n"
     ]
    },
    {
     "data": {
      "application/vnd.jupyter.widget-view+json": {
       "model_id": "71b4dea011204cc58934e17a8e13c16f",
       "version_major": 2,
       "version_minor": 0
      },
      "text/plain": [
       "  0%|          | 0/141 [00:00<?, ?it/s]"
      ]
     },
     "metadata": {},
     "output_type": "display_data"
    },
    {
     "name": "stdout",
     "output_type": "stream",
     "text": [
      "{'eval_loss': 0.2585780918598175, 'eval_runtime': 78.6375, 'eval_samples_per_second': 456.932, 'eval_steps_per_second': 1.793, 'epoch': 72.37}\n",
      "{'loss': 0.5928, 'grad_norm': 0.15287767350673676, 'learning_rate': 0.0005, 'epoch': 72.45}\n",
      "{'loss': 0.5861, 'grad_norm': 0.14491207897663116, 'learning_rate': 0.0005, 'epoch': 72.54}\n",
      "{'loss': 0.5906, 'grad_norm': 0.1608588695526123, 'learning_rate': 0.0005, 'epoch': 72.64}\n"
     ]
    },
    {
     "data": {
      "application/vnd.jupyter.widget-view+json": {
       "model_id": "4b278d9cf532437581d395364bda05a1",
       "version_major": 2,
       "version_minor": 0
      },
      "text/plain": [
       "  0%|          | 0/141 [00:00<?, ?it/s]"
      ]
     },
     "metadata": {},
     "output_type": "display_data"
    },
    {
     "name": "stdout",
     "output_type": "stream",
     "text": [
      "{'eval_loss': 0.255802720785141, 'eval_runtime': 77.9498, 'eval_samples_per_second': 460.963, 'eval_steps_per_second': 1.809, 'epoch': 72.7}\n",
      "{'loss': 0.591, 'grad_norm': 0.14175234735012054, 'learning_rate': 0.0005, 'epoch': 72.74}\n",
      "{'loss': 0.5923, 'grad_norm': 0.1396101862192154, 'learning_rate': 0.0005, 'epoch': 72.84}\n",
      "{'loss': 0.5937, 'grad_norm': 0.11325159668922424, 'learning_rate': 0.0005, 'epoch': 72.94}\n"
     ]
    },
    {
     "data": {
      "application/vnd.jupyter.widget-view+json": {
       "model_id": "1d7f275042ba4d9298cc9e5f6bd8232f",
       "version_major": 2,
       "version_minor": 0
      },
      "text/plain": [
       "  0%|          | 0/141 [00:00<?, ?it/s]"
      ]
     },
     "metadata": {},
     "output_type": "display_data"
    },
    {
     "name": "stdout",
     "output_type": "stream",
     "text": [
      "{'eval_loss': 0.2551591992378235, 'eval_runtime': 78.3824, 'eval_samples_per_second': 458.419, 'eval_steps_per_second': 1.799, 'epoch': 73.03}\n",
      "{'loss': 0.5924, 'grad_norm': 0.10632557421922684, 'learning_rate': 0.0005, 'epoch': 73.04}\n",
      "{'loss': 0.591, 'grad_norm': 0.13306200504302979, 'learning_rate': 0.0005, 'epoch': 73.14}\n",
      "{'loss': 0.5915, 'grad_norm': 0.14368683099746704, 'learning_rate': 0.0005, 'epoch': 73.24}\n",
      "{'loss': 0.5912, 'grad_norm': 0.11940357834100723, 'learning_rate': 0.0005, 'epoch': 73.34}\n"
     ]
    },
    {
     "data": {
      "application/vnd.jupyter.widget-view+json": {
       "model_id": "1d8f41a576fe4775a79a00f6ba7c8587",
       "version_major": 2,
       "version_minor": 0
      },
      "text/plain": [
       "  0%|          | 0/141 [00:00<?, ?it/s]"
      ]
     },
     "metadata": {},
     "output_type": "display_data"
    },
    {
     "name": "stdout",
     "output_type": "stream",
     "text": [
      "{'eval_loss': 0.2550559341907501, 'eval_runtime': 78.6771, 'eval_samples_per_second': 456.702, 'eval_steps_per_second': 1.792, 'epoch': 73.36}\n",
      "{'loss': 0.5861, 'grad_norm': 0.17503400146961212, 'learning_rate': 0.0005, 'epoch': 73.44}\n",
      "{'loss': 0.5905, 'grad_norm': 0.1300867646932602, 'learning_rate': 0.0005, 'epoch': 73.53}\n",
      "{'loss': 0.5899, 'grad_norm': 0.14137795567512512, 'learning_rate': 0.0005, 'epoch': 73.63}\n"
     ]
    },
    {
     "data": {
      "application/vnd.jupyter.widget-view+json": {
       "model_id": "41b00de2b2814ea88940aa0370ce78be",
       "version_major": 2,
       "version_minor": 0
      },
      "text/plain": [
       "  0%|          | 0/141 [00:00<?, ?it/s]"
      ]
     },
     "metadata": {},
     "output_type": "display_data"
    },
    {
     "name": "stdout",
     "output_type": "stream",
     "text": [
      "{'eval_loss': 0.25577467679977417, 'eval_runtime': 78.2314, 'eval_samples_per_second': 459.304, 'eval_steps_per_second': 1.802, 'epoch': 73.69}\n",
      "{'loss': 0.5914, 'grad_norm': 0.1936997026205063, 'learning_rate': 0.0005, 'epoch': 73.73}\n",
      "{'loss': 0.5913, 'grad_norm': 0.11958600580692291, 'learning_rate': 0.0005, 'epoch': 73.83}\n",
      "{'loss': 0.5912, 'grad_norm': 0.12593545019626617, 'learning_rate': 0.0005, 'epoch': 73.93}\n"
     ]
    },
    {
     "data": {
      "application/vnd.jupyter.widget-view+json": {
       "model_id": "147cc6098dd344688dadafb7eb79a6a9",
       "version_major": 2,
       "version_minor": 0
      },
      "text/plain": [
       "  0%|          | 0/141 [00:00<?, ?it/s]"
      ]
     },
     "metadata": {},
     "output_type": "display_data"
    },
    {
     "name": "stdout",
     "output_type": "stream",
     "text": [
      "{'eval_loss': 0.2548716962337494, 'eval_runtime': 78.0813, 'eval_samples_per_second': 460.187, 'eval_steps_per_second': 1.806, 'epoch': 74.03}\n",
      "{'loss': 0.5899, 'grad_norm': 0.14563411474227905, 'learning_rate': 0.0005, 'epoch': 74.03}\n",
      "{'loss': 0.5887, 'grad_norm': 0.14116258919239044, 'learning_rate': 0.0005, 'epoch': 74.13}\n",
      "{'loss': 0.5884, 'grad_norm': 0.19329077005386353, 'learning_rate': 0.0005, 'epoch': 74.23}\n",
      "{'loss': 0.5887, 'grad_norm': 0.11724438518285751, 'learning_rate': 0.0005, 'epoch': 74.33}\n"
     ]
    },
    {
     "data": {
      "application/vnd.jupyter.widget-view+json": {
       "model_id": "4464baf9edea46f982d7243ff2fd8422",
       "version_major": 2,
       "version_minor": 0
      },
      "text/plain": [
       "  0%|          | 0/141 [00:00<?, ?it/s]"
      ]
     },
     "metadata": {},
     "output_type": "display_data"
    },
    {
     "name": "stdout",
     "output_type": "stream",
     "text": [
      "{'eval_loss': 0.2536541819572449, 'eval_runtime': 78.4906, 'eval_samples_per_second': 457.788, 'eval_steps_per_second': 1.796, 'epoch': 74.36}\n",
      "{'loss': 0.5918, 'grad_norm': 0.12982161343097687, 'learning_rate': 0.0005, 'epoch': 74.42}\n",
      "{'loss': 0.5894, 'grad_norm': 0.15013867616653442, 'learning_rate': 0.0005, 'epoch': 74.52}\n",
      "{'loss': 0.5899, 'grad_norm': 0.1330384612083435, 'learning_rate': 0.0005, 'epoch': 74.62}\n"
     ]
    },
    {
     "data": {
      "application/vnd.jupyter.widget-view+json": {
       "model_id": "e522dbc217a442ad8e00f5dc8ac43104",
       "version_major": 2,
       "version_minor": 0
      },
      "text/plain": [
       "  0%|          | 0/141 [00:00<?, ?it/s]"
      ]
     },
     "metadata": {},
     "output_type": "display_data"
    },
    {
     "name": "stdout",
     "output_type": "stream",
     "text": [
      "{'eval_loss': 0.2544792890548706, 'eval_runtime': 78.5427, 'eval_samples_per_second': 457.483, 'eval_steps_per_second': 1.795, 'epoch': 74.69}\n",
      "{'loss': 0.5864, 'grad_norm': 0.15081095695495605, 'learning_rate': 0.0005, 'epoch': 74.72}\n",
      "{'loss': 0.59, 'grad_norm': 0.13812266290187836, 'learning_rate': 0.0005, 'epoch': 74.82}\n",
      "{'loss': 0.59, 'grad_norm': 0.1274244487285614, 'learning_rate': 0.0005, 'epoch': 74.92}\n",
      "{'loss': 0.5914, 'grad_norm': 0.1429067999124527, 'learning_rate': 0.0005, 'epoch': 75.02}\n"
     ]
    },
    {
     "data": {
      "application/vnd.jupyter.widget-view+json": {
       "model_id": "10e3a1d4c2094ec1b52ef39f6d819cea",
       "version_major": 2,
       "version_minor": 0
      },
      "text/plain": [
       "  0%|          | 0/141 [00:00<?, ?it/s]"
      ]
     },
     "metadata": {},
     "output_type": "display_data"
    },
    {
     "name": "stdout",
     "output_type": "stream",
     "text": [
      "{'eval_loss': 0.256747841835022, 'eval_runtime': 78.7305, 'eval_samples_per_second': 456.393, 'eval_steps_per_second': 1.791, 'epoch': 75.02}\n",
      "{'loss': 0.5876, 'grad_norm': 0.1260027140378952, 'learning_rate': 0.0005, 'epoch': 75.12}\n",
      "{'loss': 0.5913, 'grad_norm': 0.12773571908473969, 'learning_rate': 0.0005, 'epoch': 75.22}\n",
      "{'loss': 0.5868, 'grad_norm': 0.1194177195429802, 'learning_rate': 0.0005, 'epoch': 75.32}\n"
     ]
    },
    {
     "data": {
      "application/vnd.jupyter.widget-view+json": {
       "model_id": "1be5aa890a8641239a7b913f10da42b9",
       "version_major": 2,
       "version_minor": 0
      },
      "text/plain": [
       "  0%|          | 0/141 [00:00<?, ?it/s]"
      ]
     },
     "metadata": {},
     "output_type": "display_data"
    },
    {
     "name": "stdout",
     "output_type": "stream",
     "text": [
      "{'eval_loss': 0.2535010576248169, 'eval_runtime': 78.0622, 'eval_samples_per_second': 460.299, 'eval_steps_per_second': 1.806, 'epoch': 75.35}\n",
      "{'loss': 0.5873, 'grad_norm': 0.13503149151802063, 'learning_rate': 0.0005, 'epoch': 75.41}\n",
      "{'loss': 0.5864, 'grad_norm': 0.12771351635456085, 'learning_rate': 0.0005, 'epoch': 75.51}\n",
      "{'loss': 0.5894, 'grad_norm': 0.1271175891160965, 'learning_rate': 0.0005, 'epoch': 75.61}\n"
     ]
    },
    {
     "data": {
      "application/vnd.jupyter.widget-view+json": {
       "model_id": "3d8c277e69e040638ad1b120884fb36d",
       "version_major": 2,
       "version_minor": 0
      },
      "text/plain": [
       "  0%|          | 0/141 [00:00<?, ?it/s]"
      ]
     },
     "metadata": {},
     "output_type": "display_data"
    },
    {
     "name": "stdout",
     "output_type": "stream",
     "text": [
      "{'eval_loss': 0.2543375492095947, 'eval_runtime': 77.9982, 'eval_samples_per_second': 460.677, 'eval_steps_per_second': 1.808, 'epoch': 75.69}\n",
      "{'loss': 0.5905, 'grad_norm': 0.13553093373775482, 'learning_rate': 0.0005, 'epoch': 75.71}\n",
      "{'loss': 0.5905, 'grad_norm': 0.11976907402276993, 'learning_rate': 0.0005, 'epoch': 75.81}\n",
      "{'loss': 0.5886, 'grad_norm': 0.13464011251926422, 'learning_rate': 0.0005, 'epoch': 75.91}\n",
      "{'loss': 0.586, 'grad_norm': 0.136887788772583, 'learning_rate': 0.0005, 'epoch': 76.01}\n"
     ]
    },
    {
     "data": {
      "application/vnd.jupyter.widget-view+json": {
       "model_id": "284fcd3eb3d84a918e44f43c9c60362a",
       "version_major": 2,
       "version_minor": 0
      },
      "text/plain": [
       "  0%|          | 0/141 [00:00<?, ?it/s]"
      ]
     },
     "metadata": {},
     "output_type": "display_data"
    },
    {
     "name": "stdout",
     "output_type": "stream",
     "text": [
      "{'eval_loss': 0.25544577836990356, 'eval_runtime': 78.6331, 'eval_samples_per_second': 456.958, 'eval_steps_per_second': 1.793, 'epoch': 76.02}\n",
      "{'loss': 0.5872, 'grad_norm': 0.13225717842578888, 'learning_rate': 0.0005, 'epoch': 76.11}\n",
      "{'loss': 0.5863, 'grad_norm': 0.15613074600696564, 'learning_rate': 0.0005, 'epoch': 76.21}\n",
      "{'loss': 0.5887, 'grad_norm': 0.1209900751709938, 'learning_rate': 0.0005, 'epoch': 76.31}\n"
     ]
    },
    {
     "data": {
      "application/vnd.jupyter.widget-view+json": {
       "model_id": "9065fd460f41444f80cc6d1c9f929542",
       "version_major": 2,
       "version_minor": 0
      },
      "text/plain": [
       "  0%|          | 0/141 [00:00<?, ?it/s]"
      ]
     },
     "metadata": {},
     "output_type": "display_data"
    },
    {
     "name": "stdout",
     "output_type": "stream",
     "text": [
      "{'eval_loss': 0.25365978479385376, 'eval_runtime': 78.5091, 'eval_samples_per_second': 457.68, 'eval_steps_per_second': 1.796, 'epoch': 76.35}\n",
      "{'loss': 0.5868, 'grad_norm': 0.16968578100204468, 'learning_rate': 0.0005, 'epoch': 76.4}\n",
      "{'loss': 0.5888, 'grad_norm': 0.15487954020500183, 'learning_rate': 0.0005, 'epoch': 76.5}\n",
      "{'loss': 0.5858, 'grad_norm': 0.12434753030538559, 'learning_rate': 0.0005, 'epoch': 76.6}\n"
     ]
    },
    {
     "data": {
      "application/vnd.jupyter.widget-view+json": {
       "model_id": "48167ca02acc47c0be48137f5c67825a",
       "version_major": 2,
       "version_minor": 0
      },
      "text/plain": [
       "  0%|          | 0/141 [00:00<?, ?it/s]"
      ]
     },
     "metadata": {},
     "output_type": "display_data"
    },
    {
     "name": "stdout",
     "output_type": "stream",
     "text": [
      "{'eval_loss': 0.25395506620407104, 'eval_runtime': 78.3687, 'eval_samples_per_second': 458.499, 'eval_steps_per_second': 1.799, 'epoch': 76.68}\n",
      "{'loss': 0.5875, 'grad_norm': 0.11491416394710541, 'learning_rate': 0.0005, 'epoch': 76.7}\n",
      "{'loss': 0.5888, 'grad_norm': 0.1520109921693802, 'learning_rate': 0.0005, 'epoch': 76.8}\n",
      "{'loss': 0.5901, 'grad_norm': 0.12053399533033371, 'learning_rate': 0.0005, 'epoch': 76.9}\n",
      "{'loss': 0.5858, 'grad_norm': 0.12197515368461609, 'learning_rate': 0.0005, 'epoch': 77.0}\n"
     ]
    },
    {
     "data": {
      "application/vnd.jupyter.widget-view+json": {
       "model_id": "8b90f7dc3f8b48b0a92ab53a3646a9ab",
       "version_major": 2,
       "version_minor": 0
      },
      "text/plain": [
       "  0%|          | 0/141 [00:00<?, ?it/s]"
      ]
     },
     "metadata": {},
     "output_type": "display_data"
    },
    {
     "name": "stdout",
     "output_type": "stream",
     "text": [
      "{'eval_loss': 0.2571265995502472, 'eval_runtime': 78.5743, 'eval_samples_per_second': 457.3, 'eval_steps_per_second': 1.794, 'epoch': 77.01}\n",
      "{'loss': 0.585, 'grad_norm': 0.15274016559123993, 'learning_rate': 0.0005, 'epoch': 77.1}\n",
      "{'loss': 0.5874, 'grad_norm': 0.15353210270404816, 'learning_rate': 0.0005, 'epoch': 77.2}\n",
      "{'loss': 0.5854, 'grad_norm': 0.14911051094532013, 'learning_rate': 0.0005, 'epoch': 77.29}\n"
     ]
    },
    {
     "data": {
      "application/vnd.jupyter.widget-view+json": {
       "model_id": "5e617feae13847978a805f61036497c7",
       "version_major": 2,
       "version_minor": 0
      },
      "text/plain": [
       "  0%|          | 0/141 [00:00<?, ?it/s]"
      ]
     },
     "metadata": {},
     "output_type": "display_data"
    },
    {
     "name": "stdout",
     "output_type": "stream",
     "text": [
      "{'eval_loss': 0.2530253529548645, 'eval_runtime': 78.2295, 'eval_samples_per_second': 459.315, 'eval_steps_per_second': 1.802, 'epoch': 77.35}\n",
      "{'loss': 0.5871, 'grad_norm': 0.12974871695041656, 'learning_rate': 0.0005, 'epoch': 77.39}\n",
      "{'loss': 0.5874, 'grad_norm': 0.15950798988342285, 'learning_rate': 0.0005, 'epoch': 77.49}\n",
      "{'loss': 0.5867, 'grad_norm': 0.13606685400009155, 'learning_rate': 0.0005, 'epoch': 77.59}\n"
     ]
    },
    {
     "data": {
      "application/vnd.jupyter.widget-view+json": {
       "model_id": "87b8a1ed6bc44aeea1be50877c113344",
       "version_major": 2,
       "version_minor": 0
      },
      "text/plain": [
       "  0%|          | 0/141 [00:00<?, ?it/s]"
      ]
     },
     "metadata": {},
     "output_type": "display_data"
    },
    {
     "name": "stdout",
     "output_type": "stream",
     "text": [
      "{'eval_loss': 0.25278201699256897, 'eval_runtime': 78.248, 'eval_samples_per_second': 459.207, 'eval_steps_per_second': 1.802, 'epoch': 77.68}\n",
      "{'loss': 0.5864, 'grad_norm': 0.13918821513652802, 'learning_rate': 0.0005, 'epoch': 77.69}\n",
      "{'loss': 0.5875, 'grad_norm': 0.1286810040473938, 'learning_rate': 0.0005, 'epoch': 77.79}\n",
      "{'loss': 0.5886, 'grad_norm': 0.12160158902406693, 'learning_rate': 0.0005, 'epoch': 77.89}\n",
      "{'loss': 0.5873, 'grad_norm': 0.14421796798706055, 'learning_rate': 0.0005, 'epoch': 77.99}\n"
     ]
    },
    {
     "data": {
      "application/vnd.jupyter.widget-view+json": {
       "model_id": "bcea4401ac044c508c746e04aa4ee13c",
       "version_major": 2,
       "version_minor": 0
      },
      "text/plain": [
       "  0%|          | 0/141 [00:00<?, ?it/s]"
      ]
     },
     "metadata": {},
     "output_type": "display_data"
    },
    {
     "name": "stdout",
     "output_type": "stream",
     "text": [
      "{'eval_loss': 0.2555276155471802, 'eval_runtime': 78.4994, 'eval_samples_per_second': 457.736, 'eval_steps_per_second': 1.796, 'epoch': 78.01}\n",
      "{'loss': 0.5871, 'grad_norm': 0.12878529727458954, 'learning_rate': 0.0005, 'epoch': 78.09}\n",
      "{'loss': 0.5877, 'grad_norm': 0.16604185104370117, 'learning_rate': 0.0005, 'epoch': 78.19}\n",
      "{'loss': 0.5885, 'grad_norm': 0.13895457983016968, 'learning_rate': 0.0005, 'epoch': 78.28}\n"
     ]
    },
    {
     "data": {
      "application/vnd.jupyter.widget-view+json": {
       "model_id": "9645028df9ad47ae8f43729881328fca",
       "version_major": 2,
       "version_minor": 0
      },
      "text/plain": [
       "  0%|          | 0/141 [00:00<?, ?it/s]"
      ]
     },
     "metadata": {},
     "output_type": "display_data"
    },
    {
     "name": "stdout",
     "output_type": "stream",
     "text": [
      "{'eval_loss': 0.25347766280174255, 'eval_runtime': 78.4302, 'eval_samples_per_second': 458.14, 'eval_steps_per_second': 1.798, 'epoch': 78.34}\n",
      "{'loss': 0.5861, 'grad_norm': 0.1812516152858734, 'learning_rate': 0.0005, 'epoch': 78.38}\n",
      "{'loss': 0.5822, 'grad_norm': 0.12030521035194397, 'learning_rate': 0.0005, 'epoch': 78.48}\n",
      "{'loss': 0.5874, 'grad_norm': 0.12352661043405533, 'learning_rate': 0.0005, 'epoch': 78.58}\n"
     ]
    },
    {
     "data": {
      "application/vnd.jupyter.widget-view+json": {
       "model_id": "5303b507fe864556abcd2fea8af8a32c",
       "version_major": 2,
       "version_minor": 0
      },
      "text/plain": [
       "  0%|          | 0/141 [00:00<?, ?it/s]"
      ]
     },
     "metadata": {},
     "output_type": "display_data"
    },
    {
     "name": "stdout",
     "output_type": "stream",
     "text": [
      "{'eval_loss': 0.25457262992858887, 'eval_runtime': 78.3738, 'eval_samples_per_second': 458.469, 'eval_steps_per_second': 1.799, 'epoch': 78.67}\n",
      "{'loss': 0.5867, 'grad_norm': 0.13885563611984253, 'learning_rate': 0.0005, 'epoch': 78.68}\n",
      "{'loss': 0.5877, 'grad_norm': 0.1268530786037445, 'learning_rate': 0.0005, 'epoch': 78.78}\n",
      "{'loss': 0.5835, 'grad_norm': 0.16767802834510803, 'learning_rate': 0.0005, 'epoch': 78.88}\n",
      "{'loss': 0.5854, 'grad_norm': 0.12846730649471283, 'learning_rate': 0.0005, 'epoch': 78.98}\n"
     ]
    },
    {
     "data": {
      "application/vnd.jupyter.widget-view+json": {
       "model_id": "813ce542470c417bb72ec8553e8c29a9",
       "version_major": 2,
       "version_minor": 0
      },
      "text/plain": [
       "  0%|          | 0/141 [00:00<?, ?it/s]"
      ]
     },
     "metadata": {},
     "output_type": "display_data"
    },
    {
     "name": "stdout",
     "output_type": "stream",
     "text": [
      "{'eval_loss': 0.2534480690956116, 'eval_runtime': 78.3231, 'eval_samples_per_second': 458.766, 'eval_steps_per_second': 1.8, 'epoch': 79.01}\n",
      "{'loss': 0.5859, 'grad_norm': 0.13045500218868256, 'learning_rate': 0.0005, 'epoch': 79.08}\n",
      "{'loss': 0.5854, 'grad_norm': 0.11578669399023056, 'learning_rate': 0.0005, 'epoch': 79.18}\n",
      "{'loss': 0.582, 'grad_norm': 0.14037922024726868, 'learning_rate': 0.0005, 'epoch': 79.27}\n"
     ]
    },
    {
     "data": {
      "application/vnd.jupyter.widget-view+json": {
       "model_id": "dd6bf843be584bc4adcfc4b660a5cbe0",
       "version_major": 2,
       "version_minor": 0
      },
      "text/plain": [
       "  0%|          | 0/141 [00:00<?, ?it/s]"
      ]
     },
     "metadata": {},
     "output_type": "display_data"
    },
    {
     "name": "stdout",
     "output_type": "stream",
     "text": [
      "{'eval_loss': 0.25272178649902344, 'eval_runtime': 78.2877, 'eval_samples_per_second': 458.974, 'eval_steps_per_second': 1.801, 'epoch': 79.34}\n",
      "{'loss': 0.5845, 'grad_norm': 0.15142498910427094, 'learning_rate': 0.0005, 'epoch': 79.37}\n",
      "{'loss': 0.5862, 'grad_norm': 0.12665194272994995, 'learning_rate': 0.0005, 'epoch': 79.47}\n",
      "{'loss': 0.5849, 'grad_norm': 0.10508504509925842, 'learning_rate': 0.0005, 'epoch': 79.57}\n",
      "{'loss': 0.5902, 'grad_norm': 0.14150665700435638, 'learning_rate': 0.0005, 'epoch': 79.67}\n"
     ]
    },
    {
     "data": {
      "application/vnd.jupyter.widget-view+json": {
       "model_id": "f8ed634405cb445ea4567ed59482be39",
       "version_major": 2,
       "version_minor": 0
      },
      "text/plain": [
       "  0%|          | 0/141 [00:00<?, ?it/s]"
      ]
     },
     "metadata": {},
     "output_type": "display_data"
    },
    {
     "name": "stdout",
     "output_type": "stream",
     "text": [
      "{'eval_loss': 0.25293463468551636, 'eval_runtime': 78.2899, 'eval_samples_per_second': 458.961, 'eval_steps_per_second': 1.801, 'epoch': 79.67}\n",
      "{'loss': 0.5874, 'grad_norm': 0.17631109058856964, 'learning_rate': 0.0005, 'epoch': 79.77}\n",
      "{'loss': 0.5815, 'grad_norm': 0.16742490231990814, 'learning_rate': 0.0005, 'epoch': 79.87}\n",
      "{'loss': 0.5842, 'grad_norm': 0.13888564705848694, 'learning_rate': 0.0005, 'epoch': 79.97}\n"
     ]
    },
    {
     "data": {
      "application/vnd.jupyter.widget-view+json": {
       "model_id": "605e8052fff94981aea5c1002d503e03",
       "version_major": 2,
       "version_minor": 0
      },
      "text/plain": [
       "  0%|          | 0/141 [00:00<?, ?it/s]"
      ]
     },
     "metadata": {},
     "output_type": "display_data"
    },
    {
     "name": "stdout",
     "output_type": "stream",
     "text": [
      "{'eval_loss': 0.25264957547187805, 'eval_runtime': 78.7985, 'eval_samples_per_second': 455.999, 'eval_steps_per_second': 1.789, 'epoch': 80.0}\n",
      "{'loss': 0.5854, 'grad_norm': 0.13241250813007355, 'learning_rate': 0.0005, 'epoch': 80.07}\n",
      "{'loss': 0.5834, 'grad_norm': 0.15277418494224548, 'learning_rate': 0.0005, 'epoch': 80.16}\n",
      "{'loss': 0.5847, 'grad_norm': 0.11893346160650253, 'learning_rate': 0.0005, 'epoch': 80.26}\n"
     ]
    },
    {
     "data": {
      "application/vnd.jupyter.widget-view+json": {
       "model_id": "79fa40f85c2a41c19ece6a606e8c9af1",
       "version_major": 2,
       "version_minor": 0
      },
      "text/plain": [
       "  0%|          | 0/141 [00:00<?, ?it/s]"
      ]
     },
     "metadata": {},
     "output_type": "display_data"
    },
    {
     "name": "stdout",
     "output_type": "stream",
     "text": [
      "{'eval_loss': 0.2529164254665375, 'eval_runtime': 77.9902, 'eval_samples_per_second': 460.725, 'eval_steps_per_second': 1.808, 'epoch': 80.33}\n",
      "{'loss': 0.5835, 'grad_norm': 0.11662274599075317, 'learning_rate': 0.0005, 'epoch': 80.36}\n",
      "{'loss': 0.5826, 'grad_norm': 0.11892519146203995, 'learning_rate': 0.0005, 'epoch': 80.46}\n",
      "{'loss': 0.5842, 'grad_norm': 0.14421944320201874, 'learning_rate': 0.0005, 'epoch': 80.56}\n",
      "{'loss': 0.5831, 'grad_norm': 0.14454050362110138, 'learning_rate': 0.0005, 'epoch': 80.66}\n"
     ]
    },
    {
     "data": {
      "application/vnd.jupyter.widget-view+json": {
       "model_id": "128acf880f04435e8332381eb2df6110",
       "version_major": 2,
       "version_minor": 0
      },
      "text/plain": [
       "  0%|          | 0/141 [00:00<?, ?it/s]"
      ]
     },
     "metadata": {},
     "output_type": "display_data"
    },
    {
     "name": "stdout",
     "output_type": "stream",
     "text": [
      "{'eval_loss': 0.2527603209018707, 'eval_runtime': 78.588, 'eval_samples_per_second': 457.22, 'eval_steps_per_second': 1.794, 'epoch': 80.67}\n",
      "{'loss': 0.584, 'grad_norm': 0.14536340534687042, 'learning_rate': 0.0005, 'epoch': 80.76}\n",
      "{'loss': 0.5866, 'grad_norm': 0.10378555953502655, 'learning_rate': 0.0005, 'epoch': 80.86}\n",
      "{'loss': 0.5868, 'grad_norm': 0.12225648015737534, 'learning_rate': 0.0005, 'epoch': 80.96}\n"
     ]
    },
    {
     "data": {
      "application/vnd.jupyter.widget-view+json": {
       "model_id": "deea7ef284044d9f8a5332f63dee68f1",
       "version_major": 2,
       "version_minor": 0
      },
      "text/plain": [
       "  0%|          | 0/141 [00:00<?, ?it/s]"
      ]
     },
     "metadata": {},
     "output_type": "display_data"
    },
    {
     "name": "stdout",
     "output_type": "stream",
     "text": [
      "{'eval_loss': 0.25300735235214233, 'eval_runtime': 77.9661, 'eval_samples_per_second': 460.867, 'eval_steps_per_second': 1.808, 'epoch': 81.0}\n",
      "{'loss': 0.585, 'grad_norm': 0.13593441247940063, 'learning_rate': 0.0005, 'epoch': 81.06}\n",
      "{'loss': 0.5831, 'grad_norm': 0.12605006992816925, 'learning_rate': 0.0005, 'epoch': 81.15}\n",
      "{'loss': 0.5849, 'grad_norm': 0.12839356064796448, 'learning_rate': 0.0005, 'epoch': 81.25}\n"
     ]
    },
    {
     "data": {
      "application/vnd.jupyter.widget-view+json": {
       "model_id": "533ac357b4694753b6037effea222bc1",
       "version_major": 2,
       "version_minor": 0
      },
      "text/plain": [
       "  0%|          | 0/141 [00:00<?, ?it/s]"
      ]
     },
     "metadata": {},
     "output_type": "display_data"
    },
    {
     "name": "stdout",
     "output_type": "stream",
     "text": [
      "{'eval_loss': 0.25082799792289734, 'eval_runtime': 78.2361, 'eval_samples_per_second': 459.276, 'eval_steps_per_second': 1.802, 'epoch': 81.33}\n",
      "{'loss': 0.5827, 'grad_norm': 0.12778472900390625, 'learning_rate': 0.0005, 'epoch': 81.35}\n",
      "{'loss': 0.5815, 'grad_norm': 0.13888739049434662, 'learning_rate': 0.0005, 'epoch': 81.45}\n",
      "{'loss': 0.5826, 'grad_norm': 0.136928528547287, 'learning_rate': 0.0005, 'epoch': 81.55}\n",
      "{'loss': 0.5862, 'grad_norm': 0.14422181248664856, 'learning_rate': 0.0005, 'epoch': 81.65}\n"
     ]
    },
    {
     "data": {
      "application/vnd.jupyter.widget-view+json": {
       "model_id": "ba234716f3d8406e8bd705bee94521fb",
       "version_major": 2,
       "version_minor": 0
      },
      "text/plain": [
       "  0%|          | 0/141 [00:00<?, ?it/s]"
      ]
     },
     "metadata": {},
     "output_type": "display_data"
    },
    {
     "name": "stdout",
     "output_type": "stream",
     "text": [
      "{'eval_loss': 0.2510069012641907, 'eval_runtime': 78.059, 'eval_samples_per_second': 460.319, 'eval_steps_per_second': 1.806, 'epoch': 81.66}\n",
      "{'loss': 0.5827, 'grad_norm': 0.1274964064359665, 'learning_rate': 0.0005, 'epoch': 81.75}\n",
      "{'loss': 0.5854, 'grad_norm': 0.11526425182819366, 'learning_rate': 0.0005, 'epoch': 81.85}\n",
      "{'loss': 0.5838, 'grad_norm': 0.14255614578723907, 'learning_rate': 0.0005, 'epoch': 81.95}\n"
     ]
    },
    {
     "data": {
      "application/vnd.jupyter.widget-view+json": {
       "model_id": "0fb264b9525b4f88985040588f235c6e",
       "version_major": 2,
       "version_minor": 0
      },
      "text/plain": [
       "  0%|          | 0/141 [00:00<?, ?it/s]"
      ]
     },
     "metadata": {},
     "output_type": "display_data"
    },
    {
     "name": "stdout",
     "output_type": "stream",
     "text": [
      "{'eval_loss': 0.25097835063934326, 'eval_runtime': 78.4402, 'eval_samples_per_second': 458.082, 'eval_steps_per_second': 1.798, 'epoch': 81.99}\n",
      "{'loss': 0.5851, 'grad_norm': 0.1230168268084526, 'learning_rate': 0.0005, 'epoch': 82.05}\n",
      "{'loss': 0.584, 'grad_norm': 0.12637601792812347, 'learning_rate': 0.0005, 'epoch': 82.14}\n",
      "{'loss': 0.5842, 'grad_norm': 0.12144181877374649, 'learning_rate': 0.0005, 'epoch': 82.24}\n"
     ]
    },
    {
     "data": {
      "application/vnd.jupyter.widget-view+json": {
       "model_id": "1d3dce24be464e238ff59b051e026f34",
       "version_major": 2,
       "version_minor": 0
      },
      "text/plain": [
       "  0%|          | 0/141 [00:00<?, ?it/s]"
      ]
     },
     "metadata": {},
     "output_type": "display_data"
    },
    {
     "name": "stdout",
     "output_type": "stream",
     "text": [
      "{'eval_loss': 0.2509301006793976, 'eval_runtime': 78.4283, 'eval_samples_per_second': 458.151, 'eval_steps_per_second': 1.798, 'epoch': 82.33}\n",
      "{'loss': 0.5842, 'grad_norm': 0.11507508158683777, 'learning_rate': 0.0005, 'epoch': 82.34}\n",
      "{'loss': 0.5826, 'grad_norm': 0.1119505986571312, 'learning_rate': 0.0005, 'epoch': 82.44}\n",
      "{'loss': 0.5848, 'grad_norm': 0.1330702304840088, 'learning_rate': 0.0005, 'epoch': 82.54}\n",
      "{'loss': 0.5827, 'grad_norm': 0.1275288462638855, 'learning_rate': 0.0005, 'epoch': 82.64}\n"
     ]
    },
    {
     "data": {
      "application/vnd.jupyter.widget-view+json": {
       "model_id": "1e953e9a683548a997a8b5148aaadc71",
       "version_major": 2,
       "version_minor": 0
      },
      "text/plain": [
       "  0%|          | 0/141 [00:00<?, ?it/s]"
      ]
     },
     "metadata": {},
     "output_type": "display_data"
    },
    {
     "name": "stdout",
     "output_type": "stream",
     "text": [
      "{'eval_loss': 0.25109079480171204, 'eval_runtime': 78.7315, 'eval_samples_per_second': 456.387, 'eval_steps_per_second': 1.791, 'epoch': 82.66}\n",
      "{'loss': 0.5845, 'grad_norm': 0.15234722197055817, 'learning_rate': 0.0005, 'epoch': 82.74}\n",
      "{'loss': 0.583, 'grad_norm': 0.13415393233299255, 'learning_rate': 0.0005, 'epoch': 82.84}\n",
      "{'loss': 0.5837, 'grad_norm': 0.1334887593984604, 'learning_rate': 0.0005, 'epoch': 82.94}\n"
     ]
    },
    {
     "data": {
      "application/vnd.jupyter.widget-view+json": {
       "model_id": "42d4addc2d2f42dba2ba4e847483cecf",
       "version_major": 2,
       "version_minor": 0
      },
      "text/plain": [
       "  0%|          | 0/141 [00:00<?, ?it/s]"
      ]
     },
     "metadata": {},
     "output_type": "display_data"
    },
    {
     "name": "stdout",
     "output_type": "stream",
     "text": [
      "{'eval_loss': 0.25109970569610596, 'eval_runtime': 78.238, 'eval_samples_per_second': 459.265, 'eval_steps_per_second': 1.802, 'epoch': 82.99}\n",
      "{'loss': 0.5826, 'grad_norm': 0.13285672664642334, 'learning_rate': 0.0005, 'epoch': 83.04}\n",
      "{'loss': 0.5808, 'grad_norm': 0.12095436453819275, 'learning_rate': 0.0005, 'epoch': 83.13}\n",
      "{'loss': 0.5808, 'grad_norm': 0.1231868788599968, 'learning_rate': 0.0005, 'epoch': 83.23}\n"
     ]
    },
    {
     "data": {
      "application/vnd.jupyter.widget-view+json": {
       "model_id": "e4b45185f8744797bdc38388e55fcaa1",
       "version_major": 2,
       "version_minor": 0
      },
      "text/plain": [
       "  0%|          | 0/141 [00:00<?, ?it/s]"
      ]
     },
     "metadata": {},
     "output_type": "display_data"
    },
    {
     "name": "stdout",
     "output_type": "stream",
     "text": [
      "{'eval_loss': 0.2513505220413208, 'eval_runtime': 78.4194, 'eval_samples_per_second': 458.203, 'eval_steps_per_second': 1.798, 'epoch': 83.32}\n",
      "{'loss': 0.5817, 'grad_norm': 0.14407344162464142, 'learning_rate': 0.0005, 'epoch': 83.33}\n",
      "{'loss': 0.5784, 'grad_norm': 0.13068901002407074, 'learning_rate': 0.0005, 'epoch': 83.43}\n",
      "{'loss': 0.5854, 'grad_norm': 0.1255299150943756, 'learning_rate': 0.0005, 'epoch': 83.53}\n",
      "{'loss': 0.5848, 'grad_norm': 0.130369171500206, 'learning_rate': 0.0005, 'epoch': 83.63}\n"
     ]
    },
    {
     "data": {
      "application/vnd.jupyter.widget-view+json": {
       "model_id": "04ab3c5536fc4202b0a9b13bfd7abc68",
       "version_major": 2,
       "version_minor": 0
      },
      "text/plain": [
       "  0%|          | 0/141 [00:00<?, ?it/s]"
      ]
     },
     "metadata": {},
     "output_type": "display_data"
    },
    {
     "name": "stdout",
     "output_type": "stream",
     "text": [
      "{'eval_loss': 0.25202274322509766, 'eval_runtime': 78.3411, 'eval_samples_per_second': 458.661, 'eval_steps_per_second': 1.8, 'epoch': 83.65}\n",
      "{'loss': 0.5822, 'grad_norm': 0.12469320744276047, 'learning_rate': 0.0005, 'epoch': 83.73}\n",
      "{'loss': 0.5824, 'grad_norm': 0.13140137493610382, 'learning_rate': 0.0005, 'epoch': 83.83}\n",
      "{'loss': 0.5832, 'grad_norm': 0.18998360633850098, 'learning_rate': 0.0005, 'epoch': 83.93}\n"
     ]
    },
    {
     "data": {
      "application/vnd.jupyter.widget-view+json": {
       "model_id": "d40988bd787048cc8c8b6a915b4c93aa",
       "version_major": 2,
       "version_minor": 0
      },
      "text/plain": [
       "  0%|          | 0/141 [00:00<?, ?it/s]"
      ]
     },
     "metadata": {},
     "output_type": "display_data"
    },
    {
     "name": "stdout",
     "output_type": "stream",
     "text": [
      "{'eval_loss': 0.25285282731056213, 'eval_runtime': 78.0745, 'eval_samples_per_second': 460.227, 'eval_steps_per_second': 1.806, 'epoch': 83.99}\n",
      "{'loss': 0.5841, 'grad_norm': 0.16639311611652374, 'learning_rate': 0.0005, 'epoch': 84.02}\n",
      "{'loss': 0.5799, 'grad_norm': 0.11102335155010223, 'learning_rate': 0.0005, 'epoch': 84.12}\n",
      "{'loss': 0.5849, 'grad_norm': 0.1629021018743515, 'learning_rate': 0.0005, 'epoch': 84.22}\n"
     ]
    },
    {
     "data": {
      "application/vnd.jupyter.widget-view+json": {
       "model_id": "2c5a78191d1c48cbbcdb91d9ef08b18d",
       "version_major": 2,
       "version_minor": 0
      },
      "text/plain": [
       "  0%|          | 0/141 [00:00<?, ?it/s]"
      ]
     },
     "metadata": {},
     "output_type": "display_data"
    },
    {
     "name": "stdout",
     "output_type": "stream",
     "text": [
      "{'eval_loss': 0.2504308521747589, 'eval_runtime': 78.2581, 'eval_samples_per_second': 459.147, 'eval_steps_per_second': 1.802, 'epoch': 84.32}\n",
      "{'loss': 0.5791, 'grad_norm': 0.13680030405521393, 'learning_rate': 0.0005, 'epoch': 84.32}\n",
      "{'loss': 0.5816, 'grad_norm': 0.11365027725696564, 'learning_rate': 0.0005, 'epoch': 84.42}\n",
      "{'loss': 0.5796, 'grad_norm': 0.12342249602079391, 'learning_rate': 0.0005, 'epoch': 84.52}\n",
      "{'loss': 0.5768, 'grad_norm': 0.13504979014396667, 'learning_rate': 0.0005, 'epoch': 84.62}\n"
     ]
    },
    {
     "data": {
      "application/vnd.jupyter.widget-view+json": {
       "model_id": "6a29b3593c274572b6e16911d21cced7",
       "version_major": 2,
       "version_minor": 0
      },
      "text/plain": [
       "  0%|          | 0/141 [00:00<?, ?it/s]"
      ]
     },
     "metadata": {},
     "output_type": "display_data"
    },
    {
     "name": "stdout",
     "output_type": "stream",
     "text": [
      "{'eval_loss': 0.25054383277893066, 'eval_runtime': 78.1772, 'eval_samples_per_second': 459.623, 'eval_steps_per_second': 1.804, 'epoch': 84.65}\n",
      "{'loss': 0.5791, 'grad_norm': 0.1439547836780548, 'learning_rate': 0.0005, 'epoch': 84.72}\n",
      "{'loss': 0.5812, 'grad_norm': 0.11810772120952606, 'learning_rate': 0.0005, 'epoch': 84.82}\n",
      "{'loss': 0.5831, 'grad_norm': 0.12142761051654816, 'learning_rate': 0.0005, 'epoch': 84.92}\n"
     ]
    },
    {
     "data": {
      "application/vnd.jupyter.widget-view+json": {
       "model_id": "d30a364314dd4aa281ad676b4a1945dc",
       "version_major": 2,
       "version_minor": 0
      },
      "text/plain": [
       "  0%|          | 0/141 [00:00<?, ?it/s]"
      ]
     },
     "metadata": {},
     "output_type": "display_data"
    },
    {
     "name": "stdout",
     "output_type": "stream",
     "text": [
      "{'eval_loss': 0.24914179742336273, 'eval_runtime': 77.875, 'eval_samples_per_second': 461.406, 'eval_steps_per_second': 1.811, 'epoch': 84.98}\n",
      "{'loss': 0.582, 'grad_norm': 0.137314110994339, 'learning_rate': 0.0005, 'epoch': 85.01}\n",
      "{'loss': 0.5799, 'grad_norm': 0.14590303599834442, 'learning_rate': 0.0005, 'epoch': 85.11}\n",
      "{'loss': 0.5801, 'grad_norm': 0.12716063857078552, 'learning_rate': 0.0005, 'epoch': 85.21}\n",
      "{'loss': 0.5834, 'grad_norm': 0.12046456336975098, 'learning_rate': 0.0005, 'epoch': 85.31}\n"
     ]
    },
    {
     "data": {
      "application/vnd.jupyter.widget-view+json": {
       "model_id": "6305018aded94cf9b02a09f02cf0d43c",
       "version_major": 2,
       "version_minor": 0
      },
      "text/plain": [
       "  0%|          | 0/141 [00:00<?, ?it/s]"
      ]
     },
     "metadata": {},
     "output_type": "display_data"
    },
    {
     "name": "stdout",
     "output_type": "stream",
     "text": [
      "{'eval_loss': 0.2513945400714874, 'eval_runtime': 78.8183, 'eval_samples_per_second': 455.884, 'eval_steps_per_second': 1.789, 'epoch': 85.31}\n",
      "{'loss': 0.5846, 'grad_norm': 0.14290130138397217, 'learning_rate': 0.0005, 'epoch': 85.41}\n",
      "{'loss': 0.5788, 'grad_norm': 0.15233442187309265, 'learning_rate': 0.0005, 'epoch': 85.51}\n",
      "{'loss': 0.5809, 'grad_norm': 0.10759706050157547, 'learning_rate': 0.0005, 'epoch': 85.61}\n"
     ]
    },
    {
     "data": {
      "application/vnd.jupyter.widget-view+json": {
       "model_id": "be6c77cf992f497eb52a3c40d68d05f5",
       "version_major": 2,
       "version_minor": 0
      },
      "text/plain": [
       "  0%|          | 0/141 [00:00<?, ?it/s]"
      ]
     },
     "metadata": {},
     "output_type": "display_data"
    },
    {
     "name": "stdout",
     "output_type": "stream",
     "text": [
      "{'eval_loss': 0.25045257806777954, 'eval_runtime': 78.6818, 'eval_samples_per_second': 456.675, 'eval_steps_per_second': 1.792, 'epoch': 85.65}\n",
      "{'loss': 0.5805, 'grad_norm': 0.1286851465702057, 'learning_rate': 0.0005, 'epoch': 85.71}\n",
      "{'loss': 0.5785, 'grad_norm': 0.1328924298286438, 'learning_rate': 0.0005, 'epoch': 85.81}\n",
      "{'loss': 0.5799, 'grad_norm': 0.1651196926832199, 'learning_rate': 0.0005, 'epoch': 85.91}\n"
     ]
    },
    {
     "data": {
      "application/vnd.jupyter.widget-view+json": {
       "model_id": "2e884b6797134ad0937e946ca296624a",
       "version_major": 2,
       "version_minor": 0
      },
      "text/plain": [
       "  0%|          | 0/141 [00:00<?, ?it/s]"
      ]
     },
     "metadata": {},
     "output_type": "display_data"
    },
    {
     "name": "stdout",
     "output_type": "stream",
     "text": [
      "{'eval_loss': 0.24952422082424164, 'eval_runtime': 78.0883, 'eval_samples_per_second': 460.145, 'eval_steps_per_second': 1.806, 'epoch': 85.98}\n",
      "{'loss': 0.5809, 'grad_norm': 0.1277441680431366, 'learning_rate': 0.0005, 'epoch': 86.0}\n",
      "{'loss': 0.5785, 'grad_norm': 0.11124420166015625, 'learning_rate': 0.0005, 'epoch': 86.1}\n",
      "{'loss': 0.5827, 'grad_norm': 0.10994379222393036, 'learning_rate': 0.0005, 'epoch': 86.2}\n",
      "{'loss': 0.5794, 'grad_norm': 0.11157918721437454, 'learning_rate': 0.0005, 'epoch': 86.3}\n"
     ]
    },
    {
     "data": {
      "application/vnd.jupyter.widget-view+json": {
       "model_id": "3223c4e28add47dda84c16acc0af3c6d",
       "version_major": 2,
       "version_minor": 0
      },
      "text/plain": [
       "  0%|          | 0/141 [00:00<?, ?it/s]"
      ]
     },
     "metadata": {},
     "output_type": "display_data"
    },
    {
     "name": "stdout",
     "output_type": "stream",
     "text": [
      "{'eval_loss': 0.25086915493011475, 'eval_runtime': 77.8961, 'eval_samples_per_second': 461.281, 'eval_steps_per_second': 1.81, 'epoch': 86.31}\n",
      "{'loss': 0.5793, 'grad_norm': 0.1683252602815628, 'learning_rate': 0.0005, 'epoch': 86.4}\n",
      "{'loss': 0.5778, 'grad_norm': 0.11288619786500931, 'learning_rate': 0.0005, 'epoch': 86.5}\n",
      "{'loss': 0.5811, 'grad_norm': 0.1390247493982315, 'learning_rate': 0.0005, 'epoch': 86.6}\n"
     ]
    },
    {
     "data": {
      "application/vnd.jupyter.widget-view+json": {
       "model_id": "809f1234b3c44daca786f3383c6561db",
       "version_major": 2,
       "version_minor": 0
      },
      "text/plain": [
       "  0%|          | 0/141 [00:00<?, ?it/s]"
      ]
     },
     "metadata": {},
     "output_type": "display_data"
    },
    {
     "name": "stdout",
     "output_type": "stream",
     "text": [
      "{'eval_loss': 0.25183993577957153, 'eval_runtime': 78.5457, 'eval_samples_per_second': 457.466, 'eval_steps_per_second': 1.795, 'epoch': 86.64}\n",
      "{'loss': 0.5804, 'grad_norm': 0.13050830364227295, 'learning_rate': 0.0005, 'epoch': 86.7}\n",
      "{'loss': 0.5792, 'grad_norm': 0.1463199108839035, 'learning_rate': 0.0005, 'epoch': 86.8}\n",
      "{'loss': 0.5803, 'grad_norm': 0.1692229062318802, 'learning_rate': 0.0005, 'epoch': 86.89}\n"
     ]
    },
    {
     "data": {
      "application/vnd.jupyter.widget-view+json": {
       "model_id": "fa022ff8e8334b63ad2ab46c5fbeb453",
       "version_major": 2,
       "version_minor": 0
      },
      "text/plain": [
       "  0%|          | 0/141 [00:00<?, ?it/s]"
      ]
     },
     "metadata": {},
     "output_type": "display_data"
    },
    {
     "name": "stdout",
     "output_type": "stream",
     "text": [
      "{'eval_loss': 0.2547374665737152, 'eval_runtime': 77.981, 'eval_samples_per_second': 460.779, 'eval_steps_per_second': 1.808, 'epoch': 86.97}\n",
      "{'loss': 0.5807, 'grad_norm': 0.1417088806629181, 'learning_rate': 0.0005, 'epoch': 86.99}\n",
      "{'loss': 0.5845, 'grad_norm': 0.14215663075447083, 'learning_rate': 0.0005, 'epoch': 87.09}\n",
      "{'loss': 0.5778, 'grad_norm': 0.11962996423244476, 'learning_rate': 0.0005, 'epoch': 87.19}\n",
      "{'loss': 0.5803, 'grad_norm': 0.15336716175079346, 'learning_rate': 0.0005, 'epoch': 87.29}\n"
     ]
    },
    {
     "data": {
      "application/vnd.jupyter.widget-view+json": {
       "model_id": "adff5afd617e4bc6af20803091c85560",
       "version_major": 2,
       "version_minor": 0
      },
      "text/plain": [
       "  0%|          | 0/141 [00:00<?, ?it/s]"
      ]
     },
     "metadata": {},
     "output_type": "display_data"
    },
    {
     "name": "stdout",
     "output_type": "stream",
     "text": [
      "{'eval_loss': 0.25013208389282227, 'eval_runtime': 78.2557, 'eval_samples_per_second': 459.161, 'eval_steps_per_second': 1.802, 'epoch': 87.31}\n",
      "{'loss': 0.5803, 'grad_norm': 0.12696170806884766, 'learning_rate': 0.0005, 'epoch': 87.39}\n",
      "{'loss': 0.5781, 'grad_norm': 0.12627223134040833, 'learning_rate': 0.0005, 'epoch': 87.49}\n",
      "{'loss': 0.5807, 'grad_norm': 0.12968170642852783, 'learning_rate': 0.0005, 'epoch': 87.59}\n"
     ]
    },
    {
     "data": {
      "application/vnd.jupyter.widget-view+json": {
       "model_id": "fd81882d756e4edebc7527e776d13fb7",
       "version_major": 2,
       "version_minor": 0
      },
      "text/plain": [
       "  0%|          | 0/141 [00:00<?, ?it/s]"
      ]
     },
     "metadata": {},
     "output_type": "display_data"
    },
    {
     "name": "stdout",
     "output_type": "stream",
     "text": [
      "{'eval_loss': 0.25043901801109314, 'eval_runtime': 78.2055, 'eval_samples_per_second': 459.456, 'eval_steps_per_second': 1.803, 'epoch': 87.64}\n",
      "{'loss': 0.5795, 'grad_norm': 0.1298200488090515, 'learning_rate': 0.0005, 'epoch': 87.69}\n",
      "{'loss': 0.5784, 'grad_norm': 0.15257753431797028, 'learning_rate': 0.0005, 'epoch': 87.79}\n",
      "{'loss': 0.5778, 'grad_norm': 0.11978106200695038, 'learning_rate': 0.0005, 'epoch': 87.88}\n"
     ]
    },
    {
     "data": {
      "application/vnd.jupyter.widget-view+json": {
       "model_id": "40cc2bfa11bd462eb3f831dd7b283d77",
       "version_major": 2,
       "version_minor": 0
      },
      "text/plain": [
       "  0%|          | 0/141 [00:00<?, ?it/s]"
      ]
     },
     "metadata": {},
     "output_type": "display_data"
    },
    {
     "name": "stdout",
     "output_type": "stream",
     "text": [
      "{'eval_loss': 0.250173419713974, 'eval_runtime': 78.1566, 'eval_samples_per_second': 459.744, 'eval_steps_per_second': 1.804, 'epoch': 87.97}\n",
      "{'loss': 0.5802, 'grad_norm': 0.128443643450737, 'learning_rate': 0.0005, 'epoch': 87.98}\n",
      "{'loss': 0.5797, 'grad_norm': 0.13510838150978088, 'learning_rate': 0.0005, 'epoch': 88.08}\n",
      "{'loss': 0.5817, 'grad_norm': 0.12889033555984497, 'learning_rate': 0.0005, 'epoch': 88.18}\n",
      "{'loss': 0.5781, 'grad_norm': 0.11937539279460907, 'learning_rate': 0.0005, 'epoch': 88.28}\n"
     ]
    },
    {
     "data": {
      "application/vnd.jupyter.widget-view+json": {
       "model_id": "df01a03350e74964ad5f7293fe0703bf",
       "version_major": 2,
       "version_minor": 0
      },
      "text/plain": [
       "  0%|          | 0/141 [00:00<?, ?it/s]"
      ]
     },
     "metadata": {},
     "output_type": "display_data"
    },
    {
     "name": "stdout",
     "output_type": "stream",
     "text": [
      "{'eval_loss': 0.24979804456233978, 'eval_runtime': 78.3274, 'eval_samples_per_second': 458.741, 'eval_steps_per_second': 1.8, 'epoch': 88.3}\n",
      "{'loss': 0.5793, 'grad_norm': 0.14908108115196228, 'learning_rate': 0.0005, 'epoch': 88.38}\n",
      "{'loss': 0.5789, 'grad_norm': 0.15318351984024048, 'learning_rate': 0.0005, 'epoch': 88.48}\n",
      "{'loss': 0.5778, 'grad_norm': 0.11701368540525436, 'learning_rate': 0.0005, 'epoch': 88.58}\n"
     ]
    },
    {
     "data": {
      "application/vnd.jupyter.widget-view+json": {
       "model_id": "b2a5ef92846a4765b79a3a4f56c8da82",
       "version_major": 2,
       "version_minor": 0
      },
      "text/plain": [
       "  0%|          | 0/141 [00:00<?, ?it/s]"
      ]
     },
     "metadata": {},
     "output_type": "display_data"
    },
    {
     "name": "stdout",
     "output_type": "stream",
     "text": [
      "{'eval_loss': 0.24824146926403046, 'eval_runtime': 78.3498, 'eval_samples_per_second': 458.61, 'eval_steps_per_second': 1.8, 'epoch': 88.63}\n",
      "{'loss': 0.5798, 'grad_norm': 0.18549005687236786, 'learning_rate': 0.0005, 'epoch': 88.68}\n",
      "{'loss': 0.5763, 'grad_norm': 0.14649957418441772, 'learning_rate': 0.0005, 'epoch': 88.78}\n",
      "{'loss': 0.5762, 'grad_norm': 0.14730645716190338, 'learning_rate': 0.0005, 'epoch': 88.87}\n"
     ]
    }
   ],
   "source": [
    "import sys\n",
    "sys.path.insert(0, './FirstMultiModel/EEGART')\n",
    "from transformers import Trainer, TrainingArguments\n",
    "import torch\n",
    "import torch.nn as nn\n",
    "import numpy as np\n",
    "\n",
    "import torch\n",
    "from torch.utils.data import Dataset, DataLoader\n",
    "from SLT_dataloader import SignalDataCollator, RandonMaskDataCollator\n",
    "\n",
    "from tf_config import SLTConfig\n",
    "from tf_model import SLTModel, SLTModel_ver2\n",
    "from datetime import datetime\n",
    "\n",
    "# 获取当前日期时间，并格式化为 YYYYMMDD\n",
    "current_date = datetime.now().strftime(\"%Y%m%d_%H%M%S\")\n",
    "\n",
    "# 替换路径中的日期\n",
    "runname = \"mask_prob_08_tgtwithoutEEG_learnable_position_\"\n",
    "output_dir = f\"./results_3pca/{runname}_{current_date}\"\n",
    "\n",
    "# 假設你的設備是 GPU\n",
    "device = torch.device(\"cuda:0\" if torch.cuda.is_available() else \"cpu\")\n",
    "\n",
    "\"\"\"\n",
    "    Parameters:\n",
    "    \n",
    "\"\"\"\n",
    "# src_channel_size = 30\n",
    "# tgt_channel_size = 204\n",
    "# N = 4\n",
    "# source_voxel_time = 51\n",
    "# sensor_time = 51\n",
    "# tgt_d_model = 51\n",
    "# slt_config_fname = \"test_slt_confit\"\n",
    "\n",
    "# 包裝自定義的初始化方法\n",
    "def huggingface_model_init():\n",
    "    \n",
    "    src_len = 30\n",
    "    tgt_len = 204 # atlas size \n",
    "    N = 6\n",
    "    source_voxel_time = 100\n",
    "    sensor_time = 100\n",
    "    tgt_d_model = 512\n",
    "    slt_config_fname = \"test_slt_confit\"\n",
    "    \n",
    "    slt_config = SLTConfig(src_channel_size=src_len, tgt_channel_size=tgt_len, N=N,\n",
    "                           source_voxel_time=source_voxel_time, sensor_time=sensor_time, tgt_d_model=tgt_d_model)\n",
    "    slt_config.save_pretrained(slt_config_fname)\n",
    "    slt_model = SLTModel(slt_config)\n",
    "    slt_model = slt_model.to(device)\n",
    "    for p in slt_model.parameters():\n",
    "        if p.dim() > 1:\n",
    "            torch.nn.init.xavier_uniform_(p)\n",
    "    return slt_model\n",
    "\n",
    "batch_size = 256\n",
    "training_args = TrainingArguments(\n",
    "    output_dir=output_dir,\n",
    "    run_name = runname,\n",
    "    eval_strategy=\"steps\",\n",
    "    per_device_train_batch_size=batch_size,   # training batch size\n",
    "    per_device_eval_batch_size=batch_size,    # test batch size\n",
    "    eval_steps= int((train_data_len/batch_size)/3),  # eval steps= 1/3 steps of one epoch\n",
    "    eval_accumulation_steps= 4,        \n",
    "    num_train_epochs=100,              # epoch\n",
    "    weight_decay=0.01,                 # \n",
    "    learning_rate = 0.0005,\n",
    "    lr_scheduler_type = \"constant\",\n",
    "    # fp16=True,\n",
    "    save_strategy=\"epoch\",\n",
    "    logging_dir=\"./logs\",\n",
    "    logging_steps= int((train_data_len/batch_size)/10),\n",
    "    report_to=\"wandb\",\n",
    "    dataloader_num_workers=8,  # 🚀 Use multiple workers\n",
    "    dataloader_pin_memory=True,  # 🚀 Reduce CPU-GPU data transfer time\n",
    ")\n",
    "\n",
    "# def compute_metrics(eval_preds, batch_size=64):\n",
    "#     predictions, targets = eval_preds\n",
    "    \n",
    "#     loss_fct = nn.MSELoss()\n",
    "#     num_samples = predictions.shape[0]\n",
    "#     mse_sum = 0.0\n",
    "#     num_batches = 0\n",
    "\n",
    "#     for start_idx in range(0, num_samples, batch_size):\n",
    "#         end_idx = min(start_idx + batch_size, num_samples)\n",
    "#         logits_batch = predictions[start_idx:end_idx]\n",
    "#         labels_batch = targets[start_idx:end_idx]\n",
    "#         logits = torch.tensor(logits_batch, dtype=torch.float32)\n",
    "#         labels = torch.tensor(labels_batch, dtype=torch.float32)\n",
    "#         # Compute the z-scores for the batch\n",
    "#         logits_mean = torch.mean(logits, dim=(1, 2), keepdim=True)\n",
    "#         logits_std = torch.std(logits, dim=(1, 2), keepdim=True)\n",
    "#         logits_norm = (logits - logits_mean) / (logits_std)\n",
    "        \n",
    "#         labels_mean = torch.mean(labels, dim=(1, 2), keepdim=True)\n",
    "#         labels_std = torch.std(labels,  dim=(1, 2), keepdim=True)\n",
    "#         labels_norm = (labels - labels_mean) / (labels_std)\n",
    "        \n",
    "#         # Compute batch MSE\n",
    "#         mse_sum += loss_fct(logits_norm, labels_norm).item()\n",
    "#         num_batches += 1\n",
    "\n",
    "#     # Return the average MSE\n",
    "#     avg_mse = mse_sum / num_batches\n",
    "    \n",
    "#     del logits, labels, logits_norm, labels_norm\n",
    "#     torch.cuda.empty_cache()\n",
    "    \n",
    "#     return {\"mse\": avg_mse}\n",
    "\n",
    "def dummy_compute_metrics(eval_preds):\n",
    "    return {}  # Return empty dict\n",
    "\n",
    "# 初始化模型和 Trainer\n",
    "trainer = Trainer(\n",
    "    # model=slt_model,\n",
    "    model_init=huggingface_model_init,\n",
    "    args=training_args,\n",
    "    train_dataset=merge_dataset,\n",
    "    eval_dataset=merge_eval_dataset,\n",
    "    data_collator=RandonMaskDataCollator(mask_prob=0.50),\n",
    "    # compute_metrics=dummy_compute_metrics,\n",
    ")\n",
    "\n",
    "# 开始训练\n",
    "trainer.train()"
   ]
  },
  {
   "cell_type": "code",
   "execution_count": null,
   "metadata": {},
   "outputs": [],
   "source": []
  }
 ],
 "metadata": {
  "kernelspec": {
   "display_name": "huggingface",
   "language": "python",
   "name": "python3"
  },
  "language_info": {
   "codemirror_mode": {
    "name": "ipython",
    "version": 3
   },
   "file_extension": ".py",
   "mimetype": "text/x-python",
   "name": "python",
   "nbconvert_exporter": "python",
   "pygments_lexer": "ipython3",
   "version": "3.12.7"
  }
 },
 "nbformat": 4,
 "nbformat_minor": 4
}
