{
 "cells": [
  {
   "cell_type": "markdown",
   "metadata": {},
   "source": [
    "## SLT Trainer"
   ]
  },
  {
   "cell_type": "markdown",
   "metadata": {},
   "source": [
    "#### DataLoader"
   ]
  },
  {
   "cell_type": "code",
   "execution_count": 1,
   "metadata": {
    "scrolled": true
   },
   "outputs": [
    {
     "name": "stdout",
     "output_type": "stream",
     "text": [
      "['1', '2', '3', '4', '5', '6', '7', '8', '9', '10', '11', '12', '13', '14', '15', '16', '17', '18', '19', '20', '21', '22', '23', '24', '25', '26', '27', '28', '29', '30', '31', '32', '33', '34', '35', '36', '37', '38', '39', '40', '41', '42', '43', '44', '45', '46', '47', '48', '49', '50', '51', '52', '53', '54', '55', '56', '57', '58', '59', '60', '61', '62', '63', '64', '65', '66', '67', '68', '69', '70', '71', '72', '73', '74', '75', '76', '77', '78', '79', '80', '81', '82', '83', '84', '85', '86', '87', '88', '89', '90', '91', '92', '93', '94', '95', '96', '97', '98', '99', '100', '101', '102', '103', '104', '105', '106', '107', '108', '109', '110', '111', '112', '113', '114', '115', '116', '117', '118', '119', '120', '121', '122', '123', '124', '125', '126', '127', '128', '129', '130', '131', '132', '133', '134', '135', '136', '137', '138', '139', '140', '141', '142', '143', '144', '145', '146', '147', '148', '149', '150', '151', '152', '153', '154', '155', '156', '157', '158', '159', '160', '161', '162', '163', '164', '165', '166', '167', '168', '169', '170', '171', '172', '173', '174', '175', '176', '177', '178', '179', '180', '181', '182', '183', '184', '185', '186', '187', '188', '189', '190', '191', '192', '193', '194', '195', '196', '197', '198', '199', '200']\n"
     ]
    },
    {
     "name": "stderr",
     "output_type": "stream",
     "text": [
      "C:\\Users\\user\\anaconda3\\envs\\huggingface\\Lib\\site-packages\\pymatreader\\utils.py:168: UserWarning: Complex objects (like classes) are not supported. They are imported on a best effort base but your mileage will vary.\n",
      "  warn(\n"
     ]
    },
    {
     "name": "stdout",
     "output_type": "stream",
     "text": [
      "Reading G:\\共用雲端硬碟\\CNElab_陳昱祺\\source localization\\test_data\\ROI\\Desikan_Kilianny_with_3pca\\processed_1_ICA_DLtrain.fdt\n",
      "Reading 0 ... 78878  =      0.000 ...   308.117 secs...\n",
      "Total Nan of the subject: 0\n",
      "Total Random of the subject: 106\n",
      "Reading G:\\共用雲端硬碟\\CNElab_陳昱祺\\source localization\\test_data\\ROI\\Desikan_Kilianny_with_3pca\\processed_2_ICA_DLtrain.fdt\n",
      "Reading 0 ... 77004  =      0.000 ...   300.797 secs...\n",
      "Total Nan of the subject: 0\n",
      "Total Random of the subject: 96\n",
      "Reading G:\\共用雲端硬碟\\CNElab_陳昱祺\\source localization\\test_data\\ROI\\Desikan_Kilianny_with_3pca\\processed_3_ICA_DLtrain.fdt\n",
      "Reading 0 ... 66080  =      0.000 ...   258.125 secs...\n"
     ]
    },
    {
     "name": "stderr",
     "output_type": "stream",
     "text": [
      "G:\\共用雲端硬碟\\CNElab_陳昱祺\\multi-modal\\Dataloader\\SLT_dataloader.py:192: RuntimeWarning: The data contains 'boundary' events, indicating data discontinuities. Be cautious of filtering and epoching around these events.\n",
      "  eeg_data = mne.io.read_raw_eeglab(eeg_path, preload=True).get_data()\n"
     ]
    },
    {
     "name": "stdout",
     "output_type": "stream",
     "text": [
      "Total Nan of the subject: 0\n",
      "Total Random of the subject: 86\n",
      "Reading G:\\共用雲端硬碟\\CNElab_陳昱祺\\source localization\\test_data\\ROI\\Desikan_Kilianny_with_3pca\\processed_4_ICA_DLtrain.fdt\n",
      "Reading 0 ... 78059  =      0.000 ...   304.918 secs...\n",
      "Total Nan of the subject: 0\n",
      "Total Random of the subject: 95\n",
      "Reading G:\\共用雲端硬碟\\CNElab_陳昱祺\\source localization\\test_data\\ROI\\Desikan_Kilianny_with_3pca\\processed_5_ICA_DLtrain.fdt\n",
      "Reading 0 ... 77393  =      0.000 ...   302.316 secs...\n",
      "Total Nan of the subject: 0\n",
      "Total Random of the subject: 110\n",
      "Reading G:\\共用雲端硬碟\\CNElab_陳昱祺\\source localization\\test_data\\ROI\\Desikan_Kilianny_with_3pca\\processed_6_ICA_DLtrain.fdt\n",
      "Reading 0 ... 81336  =      0.000 ...   317.719 secs...\n",
      "Total Nan of the subject: 0\n",
      "Total Random of the subject: 107\n",
      "Reading G:\\共用雲端硬碟\\CNElab_陳昱祺\\source localization\\test_data\\ROI\\Desikan_Kilianny_with_3pca\\processed_7_ICA_DLtrain.fdt\n",
      "Reading 0 ... 61092  =      0.000 ...   238.641 secs...\n"
     ]
    },
    {
     "name": "stderr",
     "output_type": "stream",
     "text": [
      "G:\\共用雲端硬碟\\CNElab_陳昱祺\\multi-modal\\Dataloader\\SLT_dataloader.py:192: RuntimeWarning: The data contains 'boundary' events, indicating data discontinuities. Be cautious of filtering and epoching around these events.\n",
      "  eeg_data = mne.io.read_raw_eeglab(eeg_path, preload=True).get_data()\n"
     ]
    },
    {
     "name": "stdout",
     "output_type": "stream",
     "text": [
      "Total Nan of the subject: 0\n",
      "Total Random of the subject: 77\n",
      "Reading G:\\共用雲端硬碟\\CNElab_陳昱祺\\source localization\\test_data\\ROI\\Desikan_Kilianny_with_3pca\\processed_8_ICA_DLtrain.fdt\n",
      "Reading 0 ... 62045  =      0.000 ...   242.363 secs...\n"
     ]
    },
    {
     "name": "stderr",
     "output_type": "stream",
     "text": [
      "G:\\共用雲端硬碟\\CNElab_陳昱祺\\multi-modal\\Dataloader\\SLT_dataloader.py:192: RuntimeWarning: The data contains 'boundary' events, indicating data discontinuities. Be cautious of filtering and epoching around these events.\n",
      "  eeg_data = mne.io.read_raw_eeglab(eeg_path, preload=True).get_data()\n"
     ]
    },
    {
     "name": "stdout",
     "output_type": "stream",
     "text": [
      "Total Nan of the subject: 0\n",
      "Total Random of the subject: 81\n",
      "Reading G:\\共用雲端硬碟\\CNElab_陳昱祺\\source localization\\test_data\\ROI\\Desikan_Kilianny_with_3pca\\processed_9_ICA_DLtrain.fdt\n",
      "Reading 0 ... 80629  =      0.000 ...   314.957 secs...\n",
      "Total Nan of the subject: 0\n",
      "Total Random of the subject: 104\n",
      "Reading G:\\共用雲端硬碟\\CNElab_陳昱祺\\source localization\\test_data\\ROI\\Desikan_Kilianny_with_3pca\\processed_10_ICA_DLtrain.fdt\n",
      "Reading 0 ... 80506  =      0.000 ...   314.477 secs...\n",
      "Total Nan of the subject: 0\n",
      "Total Random of the subject: 99\n",
      "Reading G:\\共用雲端硬碟\\CNElab_陳昱祺\\source localization\\test_data\\ROI\\Desikan_Kilianny_with_3pca\\processed_11_ICA_DLtrain.fdt\n",
      "Reading 0 ... 77199  =      0.000 ...   301.559 secs...\n",
      "Total Nan of the subject: 0\n",
      "Total Random of the subject: 102\n",
      "Reading G:\\共用雲端硬碟\\CNElab_陳昱祺\\source localization\\test_data\\ROI\\Desikan_Kilianny_with_3pca\\processed_12_ICA_DLtrain.fdt\n",
      "Reading 0 ... 60211  =      0.000 ...   235.199 secs...\n"
     ]
    },
    {
     "name": "stderr",
     "output_type": "stream",
     "text": [
      "G:\\共用雲端硬碟\\CNElab_陳昱祺\\multi-modal\\Dataloader\\SLT_dataloader.py:192: RuntimeWarning: The data contains 'boundary' events, indicating data discontinuities. Be cautious of filtering and epoching around these events.\n",
      "  eeg_data = mne.io.read_raw_eeglab(eeg_path, preload=True).get_data()\n"
     ]
    },
    {
     "name": "stdout",
     "output_type": "stream",
     "text": [
      "Total Nan of the subject: 0\n",
      "Total Random of the subject: 73\n",
      "Reading G:\\共用雲端硬碟\\CNElab_陳昱祺\\source localization\\test_data\\ROI\\Desikan_Kilianny_with_3pca\\processed_13_ICA_DLtrain.fdt\n",
      "Reading 0 ... 79933  =      0.000 ...   312.238 secs...\n",
      "Total Nan of the subject: 0\n",
      "Total Random of the subject: 101\n",
      "Reading G:\\共用雲端硬碟\\CNElab_陳昱祺\\source localization\\test_data\\ROI\\Desikan_Kilianny_with_3pca\\processed_14_ICA_DLtrain.fdt\n",
      "Reading 0 ... 77527  =      0.000 ...   302.840 secs...\n",
      "Total Nan of the subject: 0\n",
      "Total Random of the subject: 94\n",
      "Reading G:\\共用雲端硬碟\\CNElab_陳昱祺\\source localization\\test_data\\ROI\\Desikan_Kilianny_with_3pca\\processed_15_ICA_DLtrain.fdt\n",
      "Reading 0 ... 85391  =      0.000 ...   333.559 secs...\n",
      "Total Nan of the subject: 0\n",
      "Total Random of the subject: 120\n",
      "Reading G:\\共用雲端硬碟\\CNElab_陳昱祺\\source localization\\test_data\\ROI\\Desikan_Kilianny_with_3pca\\processed_16_ICA_DLtrain.fdt\n",
      "Reading 0 ... 79851  =      0.000 ...   311.918 secs...\n",
      "Total Nan of the subject: 0\n",
      "Total Random of the subject: 106\n",
      "Reading G:\\共用雲端硬碟\\CNElab_陳昱祺\\source localization\\test_data\\ROI\\Desikan_Kilianny_with_3pca\\processed_17_ICA_DLtrain.fdt\n",
      "Reading 0 ... 82995  =      0.000 ...   324.199 secs...\n",
      "Total Nan of the subject: 0\n",
      "Total Random of the subject: 104\n",
      "Reading G:\\共用雲端硬碟\\CNElab_陳昱祺\\source localization\\test_data\\ROI\\Desikan_Kilianny_with_3pca\\processed_18_ICA_DLtrain.fdt\n",
      "Reading 0 ... 80015  =      0.000 ...   312.559 secs...\n",
      "Total Nan of the subject: 0\n",
      "Total Random of the subject: 107\n",
      "Reading G:\\共用雲端硬碟\\CNElab_陳昱祺\\source localization\\test_data\\ROI\\Desikan_Kilianny_with_3pca\\processed_19_ICA_DLtrain.fdt\n",
      "Reading 0 ... 62730  =      0.000 ...   245.039 secs...\n"
     ]
    },
    {
     "name": "stderr",
     "output_type": "stream",
     "text": [
      "G:\\共用雲端硬碟\\CNElab_陳昱祺\\multi-modal\\Dataloader\\SLT_dataloader.py:192: RuntimeWarning: The data contains 'boundary' events, indicating data discontinuities. Be cautious of filtering and epoching around these events.\n",
      "  eeg_data = mne.io.read_raw_eeglab(eeg_path, preload=True).get_data()\n"
     ]
    },
    {
     "name": "stdout",
     "output_type": "stream",
     "text": [
      "Total Nan of the subject: 0\n",
      "Total Random of the subject: 81\n",
      "Reading G:\\共用雲端硬碟\\CNElab_陳昱祺\\source localization\\test_data\\ROI\\Desikan_Kilianny_with_3pca\\processed_20_ICA_DLtrain.fdt\n",
      "Reading 0 ... 59536  =      0.000 ...   232.562 secs...\n"
     ]
    },
    {
     "name": "stderr",
     "output_type": "stream",
     "text": [
      "G:\\共用雲端硬碟\\CNElab_陳昱祺\\multi-modal\\Dataloader\\SLT_dataloader.py:192: RuntimeWarning: The data contains 'boundary' events, indicating data discontinuities. Be cautious of filtering and epoching around these events.\n",
      "  eeg_data = mne.io.read_raw_eeglab(eeg_path, preload=True).get_data()\n"
     ]
    },
    {
     "name": "stdout",
     "output_type": "stream",
     "text": [
      "Total Nan of the subject: 0\n",
      "Total Random of the subject: 73\n",
      "Reading G:\\共用雲端硬碟\\CNElab_陳昱祺\\source localization\\test_data\\ROI\\Desikan_Kilianny_with_3pca\\processed_21_ICA_DLtrain.fdt\n",
      "Reading 0 ... 78100  =      0.000 ...   305.078 secs...\n",
      "Total Nan of the subject: 0\n",
      "Total Random of the subject: 94\n",
      "Reading G:\\共用雲端硬碟\\CNElab_陳昱祺\\source localization\\test_data\\ROI\\Desikan_Kilianny_with_3pca\\processed_22_ICA_DLtrain.fdt\n",
      "Reading 0 ... 77537  =      0.000 ...   302.879 secs...\n",
      "Total Nan of the subject: 0\n",
      "Total Random of the subject: 110\n",
      "Reading G:\\共用雲端硬碟\\CNElab_陳昱祺\\source localization\\test_data\\ROI\\Desikan_Kilianny_with_3pca\\processed_23_ICA_DLtrain.fdt\n",
      "Reading 0 ... 60407  =      0.000 ...   235.965 secs...\n"
     ]
    },
    {
     "name": "stderr",
     "output_type": "stream",
     "text": [
      "G:\\共用雲端硬碟\\CNElab_陳昱祺\\multi-modal\\Dataloader\\SLT_dataloader.py:192: RuntimeWarning: The data contains 'boundary' events, indicating data discontinuities. Be cautious of filtering and epoching around these events.\n",
      "  eeg_data = mne.io.read_raw_eeglab(eeg_path, preload=True).get_data()\n"
     ]
    },
    {
     "name": "stdout",
     "output_type": "stream",
     "text": [
      "Total Nan of the subject: 0\n",
      "Total Random of the subject: 64\n",
      "Reading G:\\共用雲端硬碟\\CNElab_陳昱祺\\source localization\\test_data\\ROI\\Desikan_Kilianny_with_3pca\\processed_24_ICA_DLtrain.fdt\n",
      "Reading 0 ... 80517  =      0.000 ...   314.520 secs...\n",
      "Total Nan of the subject: 0\n",
      "Total Random of the subject: 109\n",
      "Reading G:\\共用雲端硬碟\\CNElab_陳昱祺\\source localization\\test_data\\ROI\\Desikan_Kilianny_with_3pca\\processed_25_ICA_DLtrain.fdt\n",
      "Reading 0 ... 67963  =      0.000 ...   265.480 secs...\n"
     ]
    },
    {
     "name": "stderr",
     "output_type": "stream",
     "text": [
      "G:\\共用雲端硬碟\\CNElab_陳昱祺\\multi-modal\\Dataloader\\SLT_dataloader.py:192: RuntimeWarning: The data contains 'boundary' events, indicating data discontinuities. Be cautious of filtering and epoching around these events.\n",
      "  eeg_data = mne.io.read_raw_eeglab(eeg_path, preload=True).get_data()\n"
     ]
    },
    {
     "name": "stdout",
     "output_type": "stream",
     "text": [
      "Total Nan of the subject: 0\n",
      "Total Random of the subject: 87\n",
      "Reading G:\\共用雲端硬碟\\CNElab_陳昱祺\\source localization\\test_data\\ROI\\Desikan_Kilianny_with_3pca\\processed_26_ICA_DLtrain.fdt\n",
      "Reading 0 ... 81213  =      0.000 ...   317.238 secs...\n",
      "Total Nan of the subject: 0\n",
      "Total Random of the subject: 109\n",
      "Reading G:\\共用雲端硬碟\\CNElab_陳昱祺\\source localization\\test_data\\ROI\\Desikan_Kilianny_with_3pca\\processed_27_ICA_DLtrain.fdt\n",
      "Reading 0 ... 61175  =      0.000 ...   238.965 secs...\n"
     ]
    },
    {
     "name": "stderr",
     "output_type": "stream",
     "text": [
      "G:\\共用雲端硬碟\\CNElab_陳昱祺\\multi-modal\\Dataloader\\SLT_dataloader.py:192: RuntimeWarning: The data contains 'boundary' events, indicating data discontinuities. Be cautious of filtering and epoching around these events.\n",
      "  eeg_data = mne.io.read_raw_eeglab(eeg_path, preload=True).get_data()\n"
     ]
    },
    {
     "name": "stdout",
     "output_type": "stream",
     "text": [
      "Total Nan of the subject: 0\n",
      "Total Random of the subject: 71\n",
      "Reading G:\\共用雲端硬碟\\CNElab_陳昱祺\\source localization\\test_data\\ROI\\Desikan_Kilianny_with_3pca\\processed_28_ICA_DLtrain.fdt\n",
      "Reading 0 ... 62812  =      0.000 ...   245.359 secs...\n"
     ]
    },
    {
     "name": "stderr",
     "output_type": "stream",
     "text": [
      "G:\\共用雲端硬碟\\CNElab_陳昱祺\\multi-modal\\Dataloader\\SLT_dataloader.py:192: RuntimeWarning: The data contains 'boundary' events, indicating data discontinuities. Be cautious of filtering and epoching around these events.\n",
      "  eeg_data = mne.io.read_raw_eeglab(eeg_path, preload=True).get_data()\n"
     ]
    },
    {
     "name": "stdout",
     "output_type": "stream",
     "text": [
      "Total Nan of the subject: 0\n",
      "Total Random of the subject: 80\n",
      "Reading G:\\共用雲端硬碟\\CNElab_陳昱祺\\source localization\\test_data\\ROI\\Desikan_Kilianny_with_3pca\\processed_29_ICA_DLtrain.fdt\n",
      "Reading 0 ... 61604  =      0.000 ...   240.641 secs...\n"
     ]
    },
    {
     "name": "stderr",
     "output_type": "stream",
     "text": [
      "G:\\共用雲端硬碟\\CNElab_陳昱祺\\multi-modal\\Dataloader\\SLT_dataloader.py:192: RuntimeWarning: The data contains 'boundary' events, indicating data discontinuities. Be cautious of filtering and epoching around these events.\n",
      "  eeg_data = mne.io.read_raw_eeglab(eeg_path, preload=True).get_data()\n"
     ]
    },
    {
     "name": "stdout",
     "output_type": "stream",
     "text": [
      "Total Nan of the subject: 0\n",
      "Total Random of the subject: 76\n",
      "Reading G:\\共用雲端硬碟\\CNElab_陳昱祺\\source localization\\test_data\\ROI\\Desikan_Kilianny_with_3pca\\processed_30_ICA_DLtrain.fdt\n",
      "Reading 0 ... 62628  =      0.000 ...   244.641 secs...\n"
     ]
    },
    {
     "name": "stderr",
     "output_type": "stream",
     "text": [
      "G:\\共用雲端硬碟\\CNElab_陳昱祺\\multi-modal\\Dataloader\\SLT_dataloader.py:192: RuntimeWarning: The data contains 'boundary' events, indicating data discontinuities. Be cautious of filtering and epoching around these events.\n",
      "  eeg_data = mne.io.read_raw_eeglab(eeg_path, preload=True).get_data()\n"
     ]
    },
    {
     "name": "stdout",
     "output_type": "stream",
     "text": [
      "Total Nan of the subject: 0\n",
      "Total Random of the subject: 82\n",
      "Reading G:\\共用雲端硬碟\\CNElab_陳昱祺\\source localization\\test_data\\ROI\\Desikan_Kilianny_with_3pca\\processed_31_ICA_DLtrain.fdt\n",
      "Reading 0 ... 79349  =      0.000 ...   309.957 secs...\n",
      "Total Nan of the subject: 0\n",
      "Total Random of the subject: 101\n",
      "Reading G:\\共用雲端硬碟\\CNElab_陳昱祺\\source localization\\test_data\\ROI\\Desikan_Kilianny_with_3pca\\processed_32_ICA_DLtrain.fdt\n",
      "Reading 0 ... 80404  =      0.000 ...   314.078 secs...\n",
      "Total Nan of the subject: 0\n",
      "Total Random of the subject: 101\n",
      "Reading G:\\共用雲端硬碟\\CNElab_陳昱祺\\source localization\\test_data\\ROI\\Desikan_Kilianny_with_3pca\\processed_33_ICA_DLtrain.fdt\n",
      "Reading 0 ... 76933  =      0.000 ...   300.520 secs...\n",
      "Total Nan of the subject: 0\n",
      "Total Random of the subject: 97\n",
      "Reading G:\\共用雲端硬碟\\CNElab_陳昱祺\\source localization\\test_data\\ROI\\Desikan_Kilianny_with_3pca\\processed_34_ICA_DLtrain.fdt\n",
      "Reading 0 ... 59188  =      0.000 ...   231.203 secs...\n"
     ]
    },
    {
     "name": "stderr",
     "output_type": "stream",
     "text": [
      "G:\\共用雲端硬碟\\CNElab_陳昱祺\\multi-modal\\Dataloader\\SLT_dataloader.py:192: RuntimeWarning: The data contains 'boundary' events, indicating data discontinuities. Be cautious of filtering and epoching around these events.\n",
      "  eeg_data = mne.io.read_raw_eeglab(eeg_path, preload=True).get_data()\n"
     ]
    },
    {
     "name": "stdout",
     "output_type": "stream",
     "text": [
      "Total Nan of the subject: 0\n",
      "Total Random of the subject: 73\n",
      "Reading G:\\共用雲端硬碟\\CNElab_陳昱祺\\source localization\\test_data\\ROI\\Desikan_Kilianny_with_3pca\\processed_35_ICA_DLtrain.fdt\n",
      "Reading 0 ... 55317  =      0.000 ...   216.082 secs...\n"
     ]
    },
    {
     "name": "stderr",
     "output_type": "stream",
     "text": [
      "G:\\共用雲端硬碟\\CNElab_陳昱祺\\multi-modal\\Dataloader\\SLT_dataloader.py:192: RuntimeWarning: The data contains 'boundary' events, indicating data discontinuities. Be cautious of filtering and epoching around these events.\n",
      "  eeg_data = mne.io.read_raw_eeglab(eeg_path, preload=True).get_data()\n"
     ]
    },
    {
     "name": "stdout",
     "output_type": "stream",
     "text": [
      "Total Nan of the subject: 0\n",
      "Total Random of the subject: 65\n",
      "Reading G:\\共用雲端硬碟\\CNElab_陳昱祺\\source localization\\test_data\\ROI\\Desikan_Kilianny_with_3pca\\processed_36_ICA_DLtrain.fdt\n",
      "Reading 0 ... 85811  =      0.000 ...   335.199 secs...\n",
      "Total Nan of the subject: 0\n",
      "Total Random of the subject: 116\n",
      "Reading G:\\共用雲端硬碟\\CNElab_陳昱祺\\source localization\\test_data\\ROI\\Desikan_Kilianny_with_3pca\\processed_37_ICA_DLtrain.fdt\n",
      "Reading 0 ... 82995  =      0.000 ...   324.199 secs...\n",
      "Total Nan of the subject: 0\n",
      "Total Random of the subject: 111\n",
      "Reading G:\\共用雲端硬碟\\CNElab_陳昱祺\\source localization\\test_data\\ROI\\Desikan_Kilianny_with_3pca\\processed_38_ICA_DLtrain.fdt\n",
      "Reading 0 ... 60560  =      0.000 ...   236.562 secs...\n"
     ]
    },
    {
     "name": "stderr",
     "output_type": "stream",
     "text": [
      "G:\\共用雲端硬碟\\CNElab_陳昱祺\\multi-modal\\Dataloader\\SLT_dataloader.py:192: RuntimeWarning: The data contains 'boundary' events, indicating data discontinuities. Be cautious of filtering and epoching around these events.\n",
      "  eeg_data = mne.io.read_raw_eeglab(eeg_path, preload=True).get_data()\n"
     ]
    },
    {
     "name": "stdout",
     "output_type": "stream",
     "text": [
      "Total Nan of the subject: 0\n",
      "Total Random of the subject: 67\n",
      "Reading G:\\共用雲端硬碟\\CNElab_陳昱祺\\source localization\\test_data\\ROI\\Desikan_Kilianny_with_3pca\\processed_39_ICA_DLtrain.fdt\n",
      "Reading 0 ... 83435  =      0.000 ...   325.918 secs...\n",
      "Total Nan of the subject: 0\n",
      "Total Random of the subject: 98\n",
      "Reading G:\\共用雲端硬碟\\CNElab_陳昱祺\\source localization\\test_data\\ROI\\Desikan_Kilianny_with_3pca\\processed_40_ICA_DLtrain.fdt\n",
      "Reading 0 ... 79257  =      0.000 ...   309.598 secs...\n",
      "Total Nan of the subject: 0\n",
      "Total Random of the subject: 105\n",
      "Reading G:\\共用雲端硬碟\\CNElab_陳昱祺\\source localization\\test_data\\ROI\\Desikan_Kilianny_with_3pca\\processed_41_ICA_DLtrain.fdt\n",
      "Reading 0 ... 77383  =      0.000 ...   302.277 secs...\n",
      "Total Nan of the subject: 0\n",
      "Total Random of the subject: 99\n",
      "Reading G:\\共用雲端硬碟\\CNElab_陳昱祺\\source localization\\test_data\\ROI\\Desikan_Kilianny_with_3pca\\processed_42_ICA_DLtrain.fdt\n",
      "Reading 0 ... 77670  =      0.000 ...   303.398 secs...\n",
      "Total Nan of the subject: 0\n",
      "Total Random of the subject: 94\n",
      "Reading G:\\共用雲端硬碟\\CNElab_陳昱祺\\source localization\\test_data\\ROI\\Desikan_Kilianny_with_3pca\\processed_43_ICA_DLtrain.fdt\n",
      "Reading 0 ... 77486  =      0.000 ...   302.680 secs...\n",
      "Total Nan of the subject: 0\n",
      "Total Random of the subject: 99\n",
      "Reading G:\\共用雲端硬碟\\CNElab_陳昱祺\\source localization\\test_data\\ROI\\Desikan_Kilianny_with_3pca\\processed_44_ICA_DLtrain.fdt\n",
      "Reading 0 ... 79032  =      0.000 ...   308.719 secs...\n",
      "Total Nan of the subject: 0\n",
      "Total Random of the subject: 105\n",
      "Reading G:\\共用雲端硬碟\\CNElab_陳昱祺\\source localization\\test_data\\ROI\\Desikan_Kilianny_with_3pca\\processed_45_ICA_DLtrain.fdt\n",
      "Reading 0 ... 80179  =      0.000 ...   313.199 secs...\n",
      "Total Nan of the subject: 0\n",
      "Total Random of the subject: 107\n",
      "Reading G:\\共用雲端硬碟\\CNElab_陳昱祺\\source localization\\test_data\\ROI\\Desikan_Kilianny_with_3pca\\processed_46_ICA_DLtrain.fdt\n",
      "Reading 0 ... 81489  =      0.000 ...   318.316 secs...\n",
      "Total Nan of the subject: 0\n",
      "Total Random of the subject: 106\n",
      "Reading G:\\共用雲端硬碟\\CNElab_陳昱祺\\source localization\\test_data\\ROI\\Desikan_Kilianny_with_3pca\\processed_47_ICA_DLtrain.fdt\n",
      "Reading 0 ... 76974  =      0.000 ...   300.680 secs...\n",
      "Total Nan of the subject: 0\n",
      "Total Random of the subject: 107\n",
      "Reading G:\\共用雲端硬碟\\CNElab_陳昱祺\\source localization\\test_data\\ROI\\Desikan_Kilianny_with_3pca\\processed_48_ICA_DLtrain.fdt\n",
      "Reading 0 ... 59608  =      0.000 ...   232.844 secs...\n"
     ]
    },
    {
     "name": "stderr",
     "output_type": "stream",
     "text": [
      "G:\\共用雲端硬碟\\CNElab_陳昱祺\\multi-modal\\Dataloader\\SLT_dataloader.py:192: RuntimeWarning: The data contains 'boundary' events, indicating data discontinuities. Be cautious of filtering and epoching around these events.\n",
      "  eeg_data = mne.io.read_raw_eeglab(eeg_path, preload=True).get_data()\n"
     ]
    },
    {
     "name": "stdout",
     "output_type": "stream",
     "text": [
      "Total Nan of the subject: 0\n",
      "Total Random of the subject: 74\n",
      "Reading G:\\共用雲端硬碟\\CNElab_陳昱祺\\source localization\\test_data\\ROI\\Desikan_Kilianny_with_3pca\\processed_49_ICA_DLtrain.fdt\n",
      "Reading 0 ... 59760  =      0.000 ...   233.438 secs...\n"
     ]
    },
    {
     "name": "stderr",
     "output_type": "stream",
     "text": [
      "G:\\共用雲端硬碟\\CNElab_陳昱祺\\multi-modal\\Dataloader\\SLT_dataloader.py:192: RuntimeWarning: The data contains 'boundary' events, indicating data discontinuities. Be cautious of filtering and epoching around these events.\n",
      "  eeg_data = mne.io.read_raw_eeglab(eeg_path, preload=True).get_data()\n"
     ]
    },
    {
     "name": "stdout",
     "output_type": "stream",
     "text": [
      "Total Nan of the subject: 0\n",
      "Total Random of the subject: 80\n",
      "Reading G:\\共用雲端硬碟\\CNElab_陳昱祺\\source localization\\test_data\\ROI\\Desikan_Kilianny_with_3pca\\processed_50_ICA_DLtrain.fdt\n",
      "Reading 0 ... 78192  =      0.000 ...   305.438 secs...\n",
      "Total Nan of the subject: 0\n",
      "Total Random of the subject: 99\n",
      "Reading G:\\共用雲端硬碟\\CNElab_陳昱祺\\source localization\\test_data\\ROI\\Desikan_Kilianny_with_3pca\\processed_51_ICA_DLtrain.fdt\n",
      "Reading 0 ... 77240  =      0.000 ...   301.719 secs...\n",
      "Total Nan of the subject: 0\n",
      "Total Random of the subject: 90\n",
      "Reading G:\\共用雲端硬碟\\CNElab_陳昱祺\\source localization\\test_data\\ROI\\Desikan_Kilianny_with_3pca\\processed_52_ICA_DLtrain.fdt\n",
      "Reading 0 ... 80465  =      0.000 ...   314.316 secs...\n",
      "Total Nan of the subject: 0\n",
      "Total Random of the subject: 104\n",
      "Reading G:\\共用雲端硬碟\\CNElab_陳昱祺\\source localization\\test_data\\ROI\\Desikan_Kilianny_with_3pca\\processed_53_ICA_DLtrain.fdt\n",
      "Reading 0 ... 80424  =      0.000 ...   314.156 secs...\n",
      "Total Nan of the subject: 0\n",
      "Total Random of the subject: 102\n",
      "Reading G:\\共用雲端硬碟\\CNElab_陳昱祺\\source localization\\test_data\\ROI\\Desikan_Kilianny_with_3pca\\processed_54_ICA_DLtrain.fdt\n",
      "Reading 0 ... 83025  =      0.000 ...   324.316 secs...\n",
      "Total Nan of the subject: 0\n",
      "Total Random of the subject: 113\n",
      "Reading G:\\共用雲端硬碟\\CNElab_陳昱祺\\source localization\\test_data\\ROI\\Desikan_Kilianny_with_3pca\\processed_55_ICA_DLtrain.fdt\n",
      "Reading 0 ... 77946  =      0.000 ...   304.477 secs...\n",
      "Total Nan of the subject: 0\n",
      "Total Random of the subject: 106\n",
      "Reading G:\\共用雲端硬碟\\CNElab_陳昱祺\\source localization\\test_data\\ROI\\Desikan_Kilianny_with_3pca\\processed_56_ICA_DLtrain.fdt\n",
      "Reading 0 ... 81735  =      0.000 ...   319.277 secs...\n",
      "Total Nan of the subject: 0\n",
      "Total Random of the subject: 108\n",
      "Reading G:\\共用雲端硬碟\\CNElab_陳昱祺\\source localization\\test_data\\ROI\\Desikan_Kilianny_with_3pca\\processed_57_ICA_DLtrain.fdt\n",
      "Reading 0 ... 77281  =      0.000 ...   301.879 secs...\n",
      "Total Nan of the subject: 0\n",
      "Total Random of the subject: 104\n",
      "Reading G:\\共用雲端硬碟\\CNElab_陳昱祺\\source localization\\test_data\\ROI\\Desikan_Kilianny_with_3pca\\processed_58_ICA_DLtrain.fdt\n",
      "Reading 0 ... 62372  =      0.000 ...   243.641 secs...\n"
     ]
    },
    {
     "name": "stderr",
     "output_type": "stream",
     "text": [
      "G:\\共用雲端硬碟\\CNElab_陳昱祺\\multi-modal\\Dataloader\\SLT_dataloader.py:192: RuntimeWarning: The data contains 'boundary' events, indicating data discontinuities. Be cautious of filtering and epoching around these events.\n",
      "  eeg_data = mne.io.read_raw_eeglab(eeg_path, preload=True).get_data()\n"
     ]
    },
    {
     "name": "stdout",
     "output_type": "stream",
     "text": [
      "Total Nan of the subject: 0\n",
      "Total Random of the subject: 73\n",
      "Reading G:\\共用雲端硬碟\\CNElab_陳昱祺\\source localization\\test_data\\ROI\\Desikan_Kilianny_with_3pca\\processed_59_ICA_DLtrain.fdt\n",
      "Reading 0 ... 79298  =      0.000 ...   309.758 secs...\n",
      "Total Nan of the subject: 0\n",
      "Total Random of the subject: 95\n",
      "Reading G:\\共用雲端硬碟\\CNElab_陳昱祺\\source localization\\test_data\\ROI\\Desikan_Kilianny_with_3pca\\processed_60_ICA_DLtrain.fdt\n",
      "Reading 0 ... 81797  =      0.000 ...   319.520 secs...\n",
      "Total Nan of the subject: 0\n",
      "Total Random of the subject: 100\n",
      "Reading G:\\共用雲端硬碟\\CNElab_陳昱祺\\source localization\\test_data\\ROI\\Desikan_Kilianny_with_3pca\\processed_61_ICA_DLtrain.fdt\n",
      "Reading 0 ... 77158  =      0.000 ...   301.398 secs...\n",
      "Total Nan of the subject: 0\n",
      "Total Random of the subject: 96\n",
      "Reading G:\\共用雲端硬碟\\CNElab_陳昱祺\\source localization\\test_data\\ROI\\Desikan_Kilianny_with_3pca\\processed_62_ICA_DLtrain.fdt\n",
      "Reading 0 ... 77772  =      0.000 ...   303.797 secs...\n",
      "Total Nan of the subject: 0\n",
      "Total Random of the subject: 102\n",
      "Reading G:\\共用雲端硬碟\\CNElab_陳昱祺\\source localization\\test_data\\ROI\\Desikan_Kilianny_with_3pca\\processed_63_ICA_DLtrain.fdt\n",
      "Reading 0 ... 79411  =      0.000 ...   310.199 secs...\n",
      "Total Nan of the subject: 0\n",
      "Total Random of the subject: 98\n",
      "Reading G:\\共用雲端硬碟\\CNElab_陳昱祺\\source localization\\test_data\\ROI\\Desikan_Kilianny_with_3pca\\processed_64_ICA_DLtrain.fdt\n",
      "Reading 0 ... 76974  =      0.000 ...   300.680 secs...\n",
      "Total Nan of the subject: 0\n",
      "Total Random of the subject: 102\n",
      "Reading G:\\共用雲端硬碟\\CNElab_陳昱祺\\source localization\\test_data\\ROI\\Desikan_Kilianny_with_3pca\\processed_65_ICA_DLtrain.fdt\n",
      "Reading 0 ... 77096  =      0.000 ...   301.156 secs...\n",
      "Total Nan of the subject: 0\n",
      "Total Random of the subject: 81\n",
      "Reading G:\\共用雲端硬碟\\CNElab_陳昱祺\\source localization\\test_data\\ROI\\Desikan_Kilianny_with_3pca\\processed_66_ICA_DLtrain.fdt\n",
      "Reading 0 ... 63734  =      0.000 ...   248.961 secs...\n"
     ]
    },
    {
     "name": "stderr",
     "output_type": "stream",
     "text": [
      "G:\\共用雲端硬碟\\CNElab_陳昱祺\\multi-modal\\Dataloader\\SLT_dataloader.py:192: RuntimeWarning: The data contains 'boundary' events, indicating data discontinuities. Be cautious of filtering and epoching around these events.\n",
      "  eeg_data = mne.io.read_raw_eeglab(eeg_path, preload=True).get_data()\n"
     ]
    },
    {
     "name": "stdout",
     "output_type": "stream",
     "text": [
      "Total Nan of the subject: 0\n",
      "Total Random of the subject: 80\n",
      "Reading G:\\共用雲端硬碟\\CNElab_陳昱祺\\source localization\\test_data\\ROI\\Desikan_Kilianny_with_3pca\\processed_67_ICA_DLtrain.fdt\n",
      "Reading 0 ... 77619  =      0.000 ...   303.199 secs...\n",
      "Total Nan of the subject: 0\n",
      "Total Random of the subject: 97\n",
      "Reading G:\\共用雲端硬碟\\CNElab_陳昱祺\\source localization\\test_data\\ROI\\Desikan_Kilianny_with_3pca\\processed_68_ICA_DLtrain.fdt\n",
      "Reading 0 ... 79206  =      0.000 ...   309.398 secs...\n",
      "Total Nan of the subject: 0\n",
      "Total Random of the subject: 116\n",
      "Reading G:\\共用雲端硬碟\\CNElab_陳昱祺\\source localization\\test_data\\ROI\\Desikan_Kilianny_with_3pca\\processed_69_ICA_DLtrain.fdt\n",
      "Reading 0 ... 79964  =      0.000 ...   312.359 secs...\n",
      "Total Nan of the subject: 0\n",
      "Total Random of the subject: 109\n",
      "Reading G:\\共用雲端硬碟\\CNElab_陳昱祺\\source localization\\test_data\\ROI\\Desikan_Kilianny_with_3pca\\processed_70_ICA_DLtrain.fdt\n",
      "Reading 0 ... 83169  =      0.000 ...   324.879 secs...\n",
      "Total Nan of the subject: 0\n",
      "Total Random of the subject: 115\n",
      "Reading G:\\共用雲端硬碟\\CNElab_陳昱祺\\source localization\\test_data\\ROI\\Desikan_Kilianny_with_3pca\\processed_71_ICA_DLtrain.fdt\n",
      "Reading 0 ... 83374  =      0.000 ...   325.680 secs...\n",
      "Total Nan of the subject: 0\n",
      "Total Random of the subject: 114\n",
      "Reading G:\\共用雲端硬碟\\CNElab_陳昱祺\\source localization\\test_data\\ROI\\Desikan_Kilianny_with_3pca\\processed_72_ICA_DLtrain.fdt\n",
      "Reading 0 ... 63621  =      0.000 ...   248.520 secs...\n"
     ]
    },
    {
     "name": "stderr",
     "output_type": "stream",
     "text": [
      "G:\\共用雲端硬碟\\CNElab_陳昱祺\\multi-modal\\Dataloader\\SLT_dataloader.py:192: RuntimeWarning: The data contains 'boundary' events, indicating data discontinuities. Be cautious of filtering and epoching around these events.\n",
      "  eeg_data = mne.io.read_raw_eeglab(eeg_path, preload=True).get_data()\n"
     ]
    },
    {
     "name": "stdout",
     "output_type": "stream",
     "text": [
      "Total Nan of the subject: 0\n",
      "Total Random of the subject: 83\n",
      "Reading G:\\共用雲端硬碟\\CNElab_陳昱祺\\source localization\\test_data\\ROI\\Desikan_Kilianny_with_3pca\\processed_73_ICA_DLtrain.fdt\n",
      "Reading 0 ... 80967  =      0.000 ...   316.277 secs...\n",
      "Total Nan of the subject: 0\n",
      "Total Random of the subject: 112\n",
      "Reading G:\\共用雲端硬碟\\CNElab_陳昱祺\\source localization\\test_data\\ROI\\Desikan_Kilianny_with_3pca\\processed_74_ICA_DLtrain.fdt\n",
      "Reading 0 ... 77803  =      0.000 ...   303.918 secs...\n",
      "Total Nan of the subject: 0\n",
      "Total Random of the subject: 96\n",
      "Reading G:\\共用雲端硬碟\\CNElab_陳昱祺\\source localization\\test_data\\ROI\\Desikan_Kilianny_with_3pca\\processed_75_ICA_DLtrain.fdt\n",
      "Reading 0 ... 61880  =      0.000 ...   241.719 secs...\n"
     ]
    },
    {
     "name": "stderr",
     "output_type": "stream",
     "text": [
      "G:\\共用雲端硬碟\\CNElab_陳昱祺\\multi-modal\\Dataloader\\SLT_dataloader.py:192: RuntimeWarning: The data contains 'boundary' events, indicating data discontinuities. Be cautious of filtering and epoching around these events.\n",
      "  eeg_data = mne.io.read_raw_eeglab(eeg_path, preload=True).get_data()\n"
     ]
    },
    {
     "name": "stdout",
     "output_type": "stream",
     "text": [
      "Total Nan of the subject: 0\n",
      "Total Random of the subject: 67\n",
      "Reading G:\\共用雲端硬碟\\CNElab_陳昱祺\\source localization\\test_data\\ROI\\Desikan_Kilianny_with_3pca\\processed_76_ICA_DLtrain.fdt\n",
      "Reading 0 ... 59628  =      0.000 ...   232.922 secs...\n"
     ]
    },
    {
     "name": "stderr",
     "output_type": "stream",
     "text": [
      "G:\\共用雲端硬碟\\CNElab_陳昱祺\\multi-modal\\Dataloader\\SLT_dataloader.py:192: RuntimeWarning: The data contains 'boundary' events, indicating data discontinuities. Be cautious of filtering and epoching around these events.\n",
      "  eeg_data = mne.io.read_raw_eeglab(eeg_path, preload=True).get_data()\n"
     ]
    },
    {
     "name": "stdout",
     "output_type": "stream",
     "text": [
      "Total Nan of the subject: 0\n",
      "Total Random of the subject: 73\n",
      "Reading G:\\共用雲端硬碟\\CNElab_陳昱祺\\source localization\\test_data\\ROI\\Desikan_Kilianny_with_3pca\\processed_77_ICA_DLtrain.fdt\n",
      "Reading 0 ... 78888  =      0.000 ...   308.156 secs...\n",
      "Total Nan of the subject: 0\n",
      "Total Random of the subject: 91\n",
      "Reading G:\\共用雲端硬碟\\CNElab_陳昱祺\\source localization\\test_data\\ROI\\Desikan_Kilianny_with_3pca\\processed_78_ICA_DLtrain.fdt\n",
      "Reading 0 ... 78172  =      0.000 ...   305.359 secs...\n",
      "Total Nan of the subject: 0\n",
      "Total Random of the subject: 113\n",
      "Reading G:\\共用雲端硬碟\\CNElab_陳昱祺\\source localization\\test_data\\ROI\\Desikan_Kilianny_with_3pca\\processed_79_ICA_DLtrain.fdt\n",
      "Reading 0 ... 83445  =      0.000 ...   325.957 secs...\n",
      "Total Nan of the subject: 0\n",
      "Total Random of the subject: 114\n",
      "Reading G:\\共用雲端硬碟\\CNElab_陳昱祺\\source localization\\test_data\\ROI\\Desikan_Kilianny_with_3pca\\processed_80_ICA_DLtrain.fdt\n",
      "Reading 0 ... 60273  =      0.000 ...   235.441 secs...\n"
     ]
    },
    {
     "name": "stderr",
     "output_type": "stream",
     "text": [
      "G:\\共用雲端硬碟\\CNElab_陳昱祺\\multi-modal\\Dataloader\\SLT_dataloader.py:192: RuntimeWarning: The data contains 'boundary' events, indicating data discontinuities. Be cautious of filtering and epoching around these events.\n",
      "  eeg_data = mne.io.read_raw_eeglab(eeg_path, preload=True).get_data()\n"
     ]
    },
    {
     "name": "stdout",
     "output_type": "stream",
     "text": [
      "Total Nan of the subject: 0\n",
      "Total Random of the subject: 67\n",
      "Reading G:\\共用雲端硬碟\\CNElab_陳昱祺\\source localization\\test_data\\ROI\\Desikan_Kilianny_with_3pca\\processed_81_ICA_DLtrain.fdt\n",
      "Reading 0 ... 80179  =      0.000 ...   313.199 secs...\n",
      "Total Nan of the subject: 0\n",
      "Total Random of the subject: 103\n",
      "Reading G:\\共用雲端硬碟\\CNElab_陳昱祺\\source localization\\test_data\\ROI\\Desikan_Kilianny_with_3pca\\processed_82_ICA_DLtrain.fdt\n",
      "Reading 0 ... 59085  =      0.000 ...   230.801 secs...\n"
     ]
    },
    {
     "name": "stderr",
     "output_type": "stream",
     "text": [
      "G:\\共用雲端硬碟\\CNElab_陳昱祺\\multi-modal\\Dataloader\\SLT_dataloader.py:192: RuntimeWarning: The data contains 'boundary' events, indicating data discontinuities. Be cautious of filtering and epoching around these events.\n",
      "  eeg_data = mne.io.read_raw_eeglab(eeg_path, preload=True).get_data()\n"
     ]
    },
    {
     "name": "stdout",
     "output_type": "stream",
     "text": [
      "Total Nan of the subject: 0\n",
      "Total Random of the subject: 69\n",
      "Reading G:\\共用雲端硬碟\\CNElab_陳昱祺\\source localization\\test_data\\ROI\\Desikan_Kilianny_with_3pca\\processed_83_ICA_DLtrain.fdt\n",
      "Reading 0 ... 62116  =      0.000 ...   242.641 secs...\n"
     ]
    },
    {
     "name": "stderr",
     "output_type": "stream",
     "text": [
      "G:\\共用雲端硬碟\\CNElab_陳昱祺\\multi-modal\\Dataloader\\SLT_dataloader.py:192: RuntimeWarning: The data contains 'boundary' events, indicating data discontinuities. Be cautious of filtering and epoching around these events.\n",
      "  eeg_data = mne.io.read_raw_eeglab(eeg_path, preload=True).get_data()\n"
     ]
    },
    {
     "name": "stdout",
     "output_type": "stream",
     "text": [
      "Total Nan of the subject: 0\n",
      "Total Random of the subject: 83\n",
      "Reading G:\\共用雲端硬碟\\CNElab_陳昱祺\\source localization\\test_data\\ROI\\Desikan_Kilianny_with_3pca\\processed_84_ICA_DLtrain.fdt\n",
      "Reading 0 ... 68465  =      0.000 ...   267.441 secs...\n"
     ]
    },
    {
     "name": "stderr",
     "output_type": "stream",
     "text": [
      "G:\\共用雲端硬碟\\CNElab_陳昱祺\\multi-modal\\Dataloader\\SLT_dataloader.py:192: RuntimeWarning: The data contains 'boundary' events, indicating data discontinuities. Be cautious of filtering and epoching around these events.\n",
      "  eeg_data = mne.io.read_raw_eeglab(eeg_path, preload=True).get_data()\n"
     ]
    },
    {
     "name": "stdout",
     "output_type": "stream",
     "text": [
      "Total Nan of the subject: 0\n",
      "Total Random of the subject: 87\n",
      "Reading G:\\共用雲端硬碟\\CNElab_陳昱祺\\source localization\\test_data\\ROI\\Desikan_Kilianny_with_3pca\\processed_85_ICA_DLtrain.fdt\n",
      "Reading 0 ... 81131  =      0.000 ...   316.918 secs...\n",
      "Total Nan of the subject: 0\n",
      "Total Random of the subject: 105\n",
      "Reading G:\\共用雲端硬碟\\CNElab_陳昱祺\\source localization\\test_data\\ROI\\Desikan_Kilianny_with_3pca\\processed_86_ICA_DLtrain.fdt\n",
      "Reading 0 ... 63477  =      0.000 ...   247.957 secs...\n"
     ]
    },
    {
     "name": "stderr",
     "output_type": "stream",
     "text": [
      "G:\\共用雲端硬碟\\CNElab_陳昱祺\\multi-modal\\Dataloader\\SLT_dataloader.py:192: RuntimeWarning: The data contains 'boundary' events, indicating data discontinuities. Be cautious of filtering and epoching around these events.\n",
      "  eeg_data = mne.io.read_raw_eeglab(eeg_path, preload=True).get_data()\n"
     ]
    },
    {
     "name": "stdout",
     "output_type": "stream",
     "text": [
      "Total Nan of the subject: 0\n",
      "Total Random of the subject: 77\n",
      "Reading G:\\共用雲端硬碟\\CNElab_陳昱祺\\source localization\\test_data\\ROI\\Desikan_Kilianny_with_3pca\\processed_87_ICA_DLtrain.fdt\n",
      "Reading 0 ... 78366  =      0.000 ...   306.117 secs...\n",
      "Total Nan of the subject: 0\n",
      "Total Random of the subject: 97\n",
      "Reading G:\\共用雲端硬碟\\CNElab_陳昱祺\\source localization\\test_data\\ROI\\Desikan_Kilianny_with_3pca\\processed_88_ICA_DLtrain.fdt\n",
      "Reading 0 ... 65127  =      0.000 ...   254.402 secs...\n"
     ]
    },
    {
     "name": "stderr",
     "output_type": "stream",
     "text": [
      "G:\\共用雲端硬碟\\CNElab_陳昱祺\\multi-modal\\Dataloader\\SLT_dataloader.py:192: RuntimeWarning: The data contains 'boundary' events, indicating data discontinuities. Be cautious of filtering and epoching around these events.\n",
      "  eeg_data = mne.io.read_raw_eeglab(eeg_path, preload=True).get_data()\n"
     ]
    },
    {
     "name": "stdout",
     "output_type": "stream",
     "text": [
      "Total Nan of the subject: 0\n",
      "Total Random of the subject: 82\n",
      "Reading G:\\共用雲端硬碟\\CNElab_陳昱祺\\source localization\\test_data\\ROI\\Desikan_Kilianny_with_3pca\\processed_89_ICA_DLtrain.fdt\n",
      "Reading 0 ... 78776  =      0.000 ...   307.719 secs...\n",
      "Total Nan of the subject: 0\n",
      "Total Random of the subject: 102\n",
      "Reading G:\\共用雲端硬碟\\CNElab_陳昱祺\\source localization\\test_data\\ROI\\Desikan_Kilianny_with_3pca\\processed_90_ICA_DLtrain.fdt\n",
      "Reading 0 ... 59464  =      0.000 ...   232.281 secs...\n"
     ]
    },
    {
     "name": "stderr",
     "output_type": "stream",
     "text": [
      "G:\\共用雲端硬碟\\CNElab_陳昱祺\\multi-modal\\Dataloader\\SLT_dataloader.py:192: RuntimeWarning: The data contains 'boundary' events, indicating data discontinuities. Be cautious of filtering and epoching around these events.\n",
      "  eeg_data = mne.io.read_raw_eeglab(eeg_path, preload=True).get_data()\n"
     ]
    },
    {
     "name": "stdout",
     "output_type": "stream",
     "text": [
      "Total Nan of the subject: 0\n",
      "Total Random of the subject: 73\n",
      "Reading G:\\共用雲端硬碟\\CNElab_陳昱祺\\source localization\\test_data\\ROI\\Desikan_Kilianny_with_3pca\\processed_91_ICA_DLtrain.fdt\n",
      "Reading 0 ... 78295  =      0.000 ...   305.840 secs...\n",
      "Total Nan of the subject: 0\n",
      "Total Random of the subject: 110\n",
      "Reading G:\\共用雲端硬碟\\CNElab_陳昱祺\\source localization\\test_data\\ROI\\Desikan_Kilianny_with_3pca\\processed_92_ICA_DLtrain.fdt\n",
      "Reading 0 ... 80158  =      0.000 ...   313.117 secs...\n",
      "Total Nan of the subject: 0\n",
      "Total Random of the subject: 106\n",
      "Reading G:\\共用雲端硬碟\\CNElab_陳昱祺\\source localization\\test_data\\ROI\\Desikan_Kilianny_with_3pca\\processed_93_ICA_DLtrain.fdt\n",
      "Reading 0 ... 61789  =      0.000 ...   241.363 secs...\n"
     ]
    },
    {
     "name": "stderr",
     "output_type": "stream",
     "text": [
      "G:\\共用雲端硬碟\\CNElab_陳昱祺\\multi-modal\\Dataloader\\SLT_dataloader.py:192: RuntimeWarning: The data contains 'boundary' events, indicating data discontinuities. Be cautious of filtering and epoching around these events.\n",
      "  eeg_data = mne.io.read_raw_eeglab(eeg_path, preload=True).get_data()\n"
     ]
    },
    {
     "name": "stdout",
     "output_type": "stream",
     "text": [
      "Total Nan of the subject: 0\n",
      "Total Random of the subject: 85\n",
      "Reading G:\\共用雲端硬碟\\CNElab_陳昱祺\\source localization\\test_data\\ROI\\Desikan_Kilianny_with_3pca\\processed_94_ICA_DLtrain.fdt\n",
      "Reading 0 ... 77711  =      0.000 ...   303.559 secs...\n",
      "Total Nan of the subject: 0\n",
      "Total Random of the subject: 96\n",
      "Reading G:\\共用雲端硬碟\\CNElab_陳昱祺\\source localization\\test_data\\ROI\\Desikan_Kilianny_with_3pca\\processed_95_ICA_DLtrain.fdt\n",
      "Reading 0 ... 79472  =      0.000 ...   310.438 secs...\n",
      "Total Nan of the subject: 0\n",
      "Total Random of the subject: 100\n",
      "Reading G:\\共用雲端硬碟\\CNElab_陳昱祺\\source localization\\test_data\\ROI\\Desikan_Kilianny_with_3pca\\processed_96_ICA_DLtrain.fdt\n",
      "Reading 0 ... 93132  =      0.000 ...   363.797 secs...\n",
      "Total Nan of the subject: 0\n",
      "Total Random of the subject: 126\n",
      "Reading G:\\共用雲端硬碟\\CNElab_陳昱祺\\source localization\\test_data\\ROI\\Desikan_Kilianny_with_3pca\\processed_97_ICA_DLtrain.fdt\n",
      "Reading 0 ... 63683  =      0.000 ...   248.762 secs...\n"
     ]
    },
    {
     "name": "stderr",
     "output_type": "stream",
     "text": [
      "G:\\共用雲端硬碟\\CNElab_陳昱祺\\multi-modal\\Dataloader\\SLT_dataloader.py:192: RuntimeWarning: The data contains 'boundary' events, indicating data discontinuities. Be cautious of filtering and epoching around these events.\n",
      "  eeg_data = mne.io.read_raw_eeglab(eeg_path, preload=True).get_data()\n"
     ]
    },
    {
     "name": "stdout",
     "output_type": "stream",
     "text": [
      "Total Nan of the subject: 0\n",
      "Total Random of the subject: 71\n",
      "Reading G:\\共用雲端硬碟\\CNElab_陳昱祺\\source localization\\test_data\\ROI\\Desikan_Kilianny_with_3pca\\processed_98_ICA_DLtrain.fdt\n",
      "Reading 0 ... 63109  =      0.000 ...   246.520 secs...\n"
     ]
    },
    {
     "name": "stderr",
     "output_type": "stream",
     "text": [
      "G:\\共用雲端硬碟\\CNElab_陳昱祺\\multi-modal\\Dataloader\\SLT_dataloader.py:192: RuntimeWarning: The data contains 'boundary' events, indicating data discontinuities. Be cautious of filtering and epoching around these events.\n",
      "  eeg_data = mne.io.read_raw_eeglab(eeg_path, preload=True).get_data()\n"
     ]
    },
    {
     "name": "stdout",
     "output_type": "stream",
     "text": [
      "Total Nan of the subject: 0\n",
      "Total Random of the subject: 81\n",
      "Reading G:\\共用雲端硬碟\\CNElab_陳昱祺\\source localization\\test_data\\ROI\\Desikan_Kilianny_with_3pca\\processed_99_ICA_DLtrain.fdt\n",
      "Reading 0 ... 86497  =      0.000 ...   337.879 secs...\n",
      "Total Nan of the subject: 0\n",
      "Total Random of the subject: 102\n",
      "Reading G:\\共用雲端硬碟\\CNElab_陳昱祺\\source localization\\test_data\\ROI\\Desikan_Kilianny_with_3pca\\processed_100_ICA_DLtrain.fdt\n",
      "Reading 0 ... 78346  =      0.000 ...   306.039 secs...\n",
      "Total Nan of the subject: 0\n",
      "Total Random of the subject: 94\n",
      "Reading G:\\共用雲端硬碟\\CNElab_陳昱祺\\source localization\\test_data\\ROI\\Desikan_Kilianny_with_3pca\\processed_101_ICA_DLtrain.fdt\n",
      "Reading 0 ... 77537  =      0.000 ...   302.879 secs...\n",
      "Total Nan of the subject: 0\n",
      "Total Random of the subject: 95\n",
      "Reading G:\\共用雲端硬碟\\CNElab_陳昱祺\\source localization\\test_data\\ROI\\Desikan_Kilianny_with_3pca\\processed_102_ICA_DLtrain.fdt\n",
      "Reading 0 ... 80947  =      0.000 ...   316.199 secs...\n",
      "Total Nan of the subject: 0\n",
      "Total Random of the subject: 94\n",
      "Reading G:\\共用雲端硬碟\\CNElab_陳昱祺\\source localization\\test_data\\ROI\\Desikan_Kilianny_with_3pca\\processed_103_ICA_DLtrain.fdt\n",
      "Reading 0 ... 60232  =      0.000 ...   235.281 secs...\n"
     ]
    },
    {
     "name": "stderr",
     "output_type": "stream",
     "text": [
      "G:\\共用雲端硬碟\\CNElab_陳昱祺\\multi-modal\\Dataloader\\SLT_dataloader.py:192: RuntimeWarning: The data contains 'boundary' events, indicating data discontinuities. Be cautious of filtering and epoching around these events.\n",
      "  eeg_data = mne.io.read_raw_eeglab(eeg_path, preload=True).get_data()\n"
     ]
    },
    {
     "name": "stdout",
     "output_type": "stream",
     "text": [
      "Total Nan of the subject: 0\n",
      "Total Random of the subject: 72\n",
      "Reading G:\\共用雲端硬碟\\CNElab_陳昱祺\\source localization\\test_data\\ROI\\Desikan_Kilianny_with_3pca\\processed_104_ICA_DLtrain.fdt\n",
      "Reading 0 ... 78407  =      0.000 ...   306.277 secs...\n",
      "Total Nan of the subject: 0\n",
      "Total Random of the subject: 93\n",
      "Reading G:\\共用雲端硬碟\\CNElab_陳昱祺\\source localization\\test_data\\ROI\\Desikan_Kilianny_with_3pca\\processed_105_ICA_DLtrain.fdt\n",
      "Reading 0 ... 77967  =      0.000 ...   304.559 secs...\n",
      "Total Nan of the subject: 0\n",
      "Total Random of the subject: 106\n",
      "Reading G:\\共用雲端硬碟\\CNElab_陳昱祺\\source localization\\test_data\\ROI\\Desikan_Kilianny_with_3pca\\processed_106_ICA_DLtrain.fdt\n",
      "Reading 0 ... 84592  =      0.000 ...   330.438 secs...\n",
      "Total Nan of the subject: 0\n",
      "Total Random of the subject: 111\n",
      "Reading G:\\共用雲端硬碟\\CNElab_陳昱祺\\source localization\\test_data\\ROI\\Desikan_Kilianny_with_3pca\\processed_107_ICA_DLtrain.fdt\n",
      "Reading 0 ... 79994  =      0.000 ...   312.477 secs...\n",
      "Total Nan of the subject: 0\n",
      "Total Random of the subject: 104\n",
      "Reading G:\\共用雲端硬碟\\CNElab_陳昱祺\\source localization\\test_data\\ROI\\Desikan_Kilianny_with_3pca\\processed_108_ICA_DLtrain.fdt\n",
      "Reading 0 ... 77936  =      0.000 ...   304.438 secs...\n",
      "Total Nan of the subject: 0\n",
      "Total Random of the subject: 100\n",
      "Reading G:\\共用雲端硬碟\\CNElab_陳昱祺\\source localization\\test_data\\ROI\\Desikan_Kilianny_with_3pca\\processed_109_ICA_DLtrain.fdt\n",
      "Reading 0 ... 78960  =      0.000 ...   308.438 secs...\n",
      "Total Nan of the subject: 0\n",
      "Total Random of the subject: 102\n",
      "Reading G:\\共用雲端硬碟\\CNElab_陳昱祺\\source localization\\test_data\\ROI\\Desikan_Kilianny_with_3pca\\processed_110_ICA_DLtrain.fdt\n",
      "Reading 0 ... 77178  =      0.000 ...   301.477 secs...\n",
      "Total Nan of the subject: 0\n",
      "Total Random of the subject: 93\n",
      "Reading G:\\共用雲端硬碟\\CNElab_陳昱祺\\source localization\\test_data\\ROI\\Desikan_Kilianny_with_3pca\\processed_111_ICA_DLtrain.fdt\n",
      "Reading 0 ... 77895  =      0.000 ...   304.277 secs...\n",
      "Total Nan of the subject: 0\n",
      "Total Random of the subject: 99\n",
      "Reading G:\\共用雲端硬碟\\CNElab_陳昱祺\\source localization\\test_data\\ROI\\Desikan_Kilianny_with_3pca\\processed_112_ICA_DLtrain.fdt\n",
      "Reading 0 ... 81592  =      0.000 ...   318.719 secs...\n",
      "Total Nan of the subject: 0\n",
      "Total Random of the subject: 105\n",
      "Reading G:\\共用雲端硬碟\\CNElab_陳昱祺\\source localization\\test_data\\ROI\\Desikan_Kilianny_with_3pca\\processed_113_ICA_DLtrain.fdt\n",
      "Reading 0 ... 76789  =      0.000 ...   299.957 secs...\n",
      "Total Nan of the subject: 0\n",
      "Total Random of the subject: 101\n",
      "Reading G:\\共用雲端硬碟\\CNElab_陳昱祺\\source localization\\test_data\\ROI\\Desikan_Kilianny_with_3pca\\processed_114_ICA_DLtrain.fdt\n",
      "Reading 0 ... 79871  =      0.000 ...   311.996 secs...\n",
      "Total Nan of the subject: 0\n",
      "Total Random of the subject: 109\n",
      "Reading G:\\共用雲端硬碟\\CNElab_陳昱祺\\source localization\\test_data\\ROI\\Desikan_Kilianny_with_3pca\\processed_115_ICA_DLtrain.fdt\n",
      "Reading 0 ... 77670  =      0.000 ...   303.398 secs...\n",
      "Total Nan of the subject: 0\n",
      "Total Random of the subject: 97\n",
      "Reading G:\\共用雲端硬碟\\CNElab_陳昱祺\\source localization\\test_data\\ROI\\Desikan_Kilianny_with_3pca\\processed_116_ICA_DLtrain.fdt\n",
      "Reading 0 ... 78008  =      0.000 ...   304.719 secs...\n",
      "Total Nan of the subject: 0\n",
      "Total Random of the subject: 91\n",
      "Reading G:\\共用雲端硬碟\\CNElab_陳昱祺\\source localization\\test_data\\ROI\\Desikan_Kilianny_with_3pca\\processed_117_ICA_DLtrain.fdt\n",
      "Reading 0 ... 59822  =      0.000 ...   233.680 secs...\n"
     ]
    },
    {
     "name": "stderr",
     "output_type": "stream",
     "text": [
      "G:\\共用雲端硬碟\\CNElab_陳昱祺\\multi-modal\\Dataloader\\SLT_dataloader.py:192: RuntimeWarning: The data contains 'boundary' events, indicating data discontinuities. Be cautious of filtering and epoching around these events.\n",
      "  eeg_data = mne.io.read_raw_eeglab(eeg_path, preload=True).get_data()\n"
     ]
    },
    {
     "name": "stdout",
     "output_type": "stream",
     "text": [
      "Total Nan of the subject: 0\n",
      "Total Random of the subject: 71\n",
      "Reading G:\\共用雲端硬碟\\CNElab_陳昱祺\\source localization\\test_data\\ROI\\Desikan_Kilianny_with_3pca\\processed_118_ICA_DLtrain.fdt\n",
      "Reading 0 ... 78551  =      0.000 ...   306.840 secs...\n",
      "Total Nan of the subject: 0\n",
      "Total Random of the subject: 105\n",
      "Reading G:\\共用雲端硬碟\\CNElab_陳昱祺\\source localization\\test_data\\ROI\\Desikan_Kilianny_with_3pca\\processed_119_ICA_DLtrain.fdt\n",
      "Reading 0 ... 78131  =      0.000 ...   305.199 secs...\n",
      "Total Nan of the subject: 0\n",
      "Total Random of the subject: 102\n",
      "Reading G:\\共用雲端硬碟\\CNElab_陳昱祺\\source localization\\test_data\\ROI\\Desikan_Kilianny_with_3pca\\processed_120_ICA_DLtrain.fdt\n",
      "Reading 0 ... 78807  =      0.000 ...   307.840 secs...\n",
      "Total Nan of the subject: 0\n",
      "Total Random of the subject: 107\n",
      "Reading G:\\共用雲端硬碟\\CNElab_陳昱祺\\source localization\\test_data\\ROI\\Desikan_Kilianny_with_3pca\\processed_121_ICA_DLtrain.fdt\n",
      "Reading 0 ... 78448  =      0.000 ...   306.438 secs...\n",
      "Total Nan of the subject: 0\n",
      "Total Random of the subject: 97\n",
      "Reading G:\\共用雲端硬碟\\CNElab_陳昱祺\\source localization\\test_data\\ROI\\Desikan_Kilianny_with_3pca\\processed_122_ICA_DLtrain.fdt\n",
      "Reading 0 ... 78438  =      0.000 ...   306.398 secs...\n",
      "Total Nan of the subject: 0\n",
      "Total Random of the subject: 105\n",
      "Reading G:\\共用雲端硬碟\\CNElab_陳昱祺\\source localization\\test_data\\ROI\\Desikan_Kilianny_with_3pca\\processed_123_ICA_DLtrain.fdt\n",
      "Reading 0 ... 73380  =      0.000 ...   286.641 secs...\n"
     ]
    },
    {
     "name": "stderr",
     "output_type": "stream",
     "text": [
      "G:\\共用雲端硬碟\\CNElab_陳昱祺\\multi-modal\\Dataloader\\SLT_dataloader.py:192: RuntimeWarning: The data contains 'boundary' events, indicating data discontinuities. Be cautious of filtering and epoching around these events.\n",
      "  eeg_data = mne.io.read_raw_eeglab(eeg_path, preload=True).get_data()\n"
     ]
    },
    {
     "name": "stdout",
     "output_type": "stream",
     "text": [
      "Total Nan of the subject: 0\n",
      "Total Random of the subject: 90\n",
      "Reading G:\\共用雲端硬碟\\CNElab_陳昱祺\\source localization\\test_data\\ROI\\Desikan_Kilianny_with_3pca\\processed_124_ICA_DLtrain.fdt\n",
      "Reading 0 ... 78100  =      0.000 ...   305.078 secs...\n",
      "Total Nan of the subject: 0\n",
      "Total Random of the subject: 107\n",
      "Reading G:\\共用雲端硬碟\\CNElab_陳昱祺\\source localization\\test_data\\ROI\\Desikan_Kilianny_with_3pca\\processed_125_ICA_DLtrain.fdt\n",
      "Reading 0 ... 78602  =      0.000 ...   307.039 secs...\n",
      "Total Nan of the subject: 0\n",
      "Total Random of the subject: 104\n",
      "Reading G:\\共用雲端硬碟\\CNElab_陳昱祺\\source localization\\test_data\\ROI\\Desikan_Kilianny_with_3pca\\processed_126_ICA_DLtrain.fdt\n",
      "Reading 0 ... 63621  =      0.000 ...   248.520 secs...\n"
     ]
    },
    {
     "name": "stderr",
     "output_type": "stream",
     "text": [
      "G:\\共用雲端硬碟\\CNElab_陳昱祺\\multi-modal\\Dataloader\\SLT_dataloader.py:192: RuntimeWarning: The data contains 'boundary' events, indicating data discontinuities. Be cautious of filtering and epoching around these events.\n",
      "  eeg_data = mne.io.read_raw_eeglab(eeg_path, preload=True).get_data()\n"
     ]
    },
    {
     "name": "stdout",
     "output_type": "stream",
     "text": [
      "Total Nan of the subject: 0\n",
      "Total Random of the subject: 81\n",
      "Reading G:\\共用雲端硬碟\\CNElab_陳昱祺\\source localization\\test_data\\ROI\\Desikan_Kilianny_with_3pca\\processed_127_ICA_DLtrain.fdt\n",
      "Reading 0 ... 60048  =      0.000 ...   234.562 secs...\n"
     ]
    },
    {
     "name": "stderr",
     "output_type": "stream",
     "text": [
      "G:\\共用雲端硬碟\\CNElab_陳昱祺\\multi-modal\\Dataloader\\SLT_dataloader.py:192: RuntimeWarning: The data contains 'boundary' events, indicating data discontinuities. Be cautious of filtering and epoching around these events.\n",
      "  eeg_data = mne.io.read_raw_eeglab(eeg_path, preload=True).get_data()\n"
     ]
    },
    {
     "name": "stdout",
     "output_type": "stream",
     "text": [
      "Total Nan of the subject: 0\n",
      "Total Random of the subject: 77\n",
      "Reading G:\\共用雲端硬碟\\CNElab_陳昱祺\\source localization\\test_data\\ROI\\Desikan_Kilianny_with_3pca\\processed_128_ICA_DLtrain.fdt\n",
      "Reading 0 ... 77793  =      0.000 ...   303.879 secs...\n",
      "Total Nan of the subject: 0\n",
      "Total Random of the subject: 104\n",
      "Reading G:\\共用雲端硬碟\\CNElab_陳昱祺\\source localization\\test_data\\ROI\\Desikan_Kilianny_with_3pca\\processed_129_ICA_DLtrain.fdt\n",
      "Reading 0 ... 61615  =      0.000 ...   240.684 secs...\n"
     ]
    },
    {
     "name": "stderr",
     "output_type": "stream",
     "text": [
      "G:\\共用雲端硬碟\\CNElab_陳昱祺\\multi-modal\\Dataloader\\SLT_dataloader.py:192: RuntimeWarning: The data contains 'boundary' events, indicating data discontinuities. Be cautious of filtering and epoching around these events.\n",
      "  eeg_data = mne.io.read_raw_eeglab(eeg_path, preload=True).get_data()\n"
     ]
    },
    {
     "name": "stdout",
     "output_type": "stream",
     "text": [
      "Total Nan of the subject: 0\n",
      "Total Random of the subject: 85\n",
      "Reading G:\\共用雲端硬碟\\CNElab_陳昱祺\\source localization\\test_data\\ROI\\Desikan_Kilianny_with_3pca\\processed_130_ICA_DLtrain.fdt\n",
      "Reading 0 ... 77035  =      0.000 ...   300.918 secs...\n",
      "Total Nan of the subject: 0\n",
      "Total Random of the subject: 112\n",
      "Reading G:\\共用雲端硬碟\\CNElab_陳昱祺\\source localization\\test_data\\ROI\\Desikan_Kilianny_with_3pca\\processed_131_ICA_DLtrain.fdt\n",
      "Reading 0 ... 60478  =      0.000 ...   236.242 secs...\n"
     ]
    },
    {
     "name": "stderr",
     "output_type": "stream",
     "text": [
      "G:\\共用雲端硬碟\\CNElab_陳昱祺\\multi-modal\\Dataloader\\SLT_dataloader.py:192: RuntimeWarning: The data contains 'boundary' events, indicating data discontinuities. Be cautious of filtering and epoching around these events.\n",
      "  eeg_data = mne.io.read_raw_eeglab(eeg_path, preload=True).get_data()\n"
     ]
    },
    {
     "name": "stdout",
     "output_type": "stream",
     "text": [
      "Total Nan of the subject: 0\n",
      "Total Random of the subject: 66\n",
      "Reading G:\\共用雲端硬碟\\CNElab_陳昱祺\\source localization\\test_data\\ROI\\Desikan_Kilianny_with_3pca\\processed_132_ICA_DLtrain.fdt\n",
      "Reading 0 ... 78008  =      0.000 ...   304.719 secs...\n",
      "Total Nan of the subject: 0\n",
      "Total Random of the subject: 109\n",
      "Reading G:\\共用雲端硬碟\\CNElab_陳昱祺\\source localization\\test_data\\ROI\\Desikan_Kilianny_with_3pca\\processed_133_ICA_DLtrain.fdt\n",
      "Reading 0 ... 70964  =      0.000 ...   277.203 secs...\n"
     ]
    },
    {
     "name": "stderr",
     "output_type": "stream",
     "text": [
      "G:\\共用雲端硬碟\\CNElab_陳昱祺\\multi-modal\\Dataloader\\SLT_dataloader.py:192: RuntimeWarning: The data contains 'boundary' events, indicating data discontinuities. Be cautious of filtering and epoching around these events.\n",
      "  eeg_data = mne.io.read_raw_eeglab(eeg_path, preload=True).get_data()\n"
     ]
    },
    {
     "name": "stdout",
     "output_type": "stream",
     "text": [
      "Total Nan of the subject: 0\n",
      "Total Random of the subject: 92\n",
      "Reading G:\\共用雲端硬碟\\CNElab_陳昱祺\\source localization\\test_data\\ROI\\Desikan_Kilianny_with_3pca\\processed_134_ICA_DLtrain.fdt\n",
      "Reading 0 ... 77291  =      0.000 ...   301.918 secs...\n",
      "Total Nan of the subject: 0\n",
      "Total Random of the subject: 101\n",
      "Reading G:\\共用雲端硬碟\\CNElab_陳昱祺\\source localization\\test_data\\ROI\\Desikan_Kilianny_with_3pca\\processed_135_ICA_DLtrain.fdt\n",
      "Reading 0 ... 60089  =      0.000 ...   234.723 secs...\n"
     ]
    },
    {
     "name": "stderr",
     "output_type": "stream",
     "text": [
      "G:\\共用雲端硬碟\\CNElab_陳昱祺\\multi-modal\\Dataloader\\SLT_dataloader.py:192: RuntimeWarning: The data contains 'boundary' events, indicating data discontinuities. Be cautious of filtering and epoching around these events.\n",
      "  eeg_data = mne.io.read_raw_eeglab(eeg_path, preload=True).get_data()\n"
     ]
    },
    {
     "name": "stdout",
     "output_type": "stream",
     "text": [
      "Total Nan of the subject: 0\n",
      "Total Random of the subject: 79\n",
      "Reading G:\\共用雲端硬碟\\CNElab_陳昱祺\\source localization\\test_data\\ROI\\Desikan_Kilianny_with_3pca\\processed_136_ICA_DLtrain.fdt\n",
      "Reading 0 ... 82155  =      0.000 ...   320.918 secs...\n",
      "Total Nan of the subject: 0\n",
      "Total Random of the subject: 103\n",
      "Reading G:\\共用雲端硬碟\\CNElab_陳昱祺\\source localization\\test_data\\ROI\\Desikan_Kilianny_with_3pca\\processed_137_ICA_DLtrain.fdt\n",
      "Reading 0 ... 81233  =      0.000 ...   317.316 secs...\n",
      "Total Nan of the subject: 0\n",
      "Total Random of the subject: 110\n",
      "Reading G:\\共用雲端硬碟\\CNElab_陳昱祺\\source localization\\test_data\\ROI\\Desikan_Kilianny_with_3pca\\processed_138_ICA_DLtrain.fdt\n",
      "Reading 0 ... 79308  =      0.000 ...   309.797 secs...\n",
      "Total Nan of the subject: 0\n",
      "Total Random of the subject: 104\n",
      "Reading G:\\共用雲端硬碟\\CNElab_陳昱祺\\source localization\\test_data\\ROI\\Desikan_Kilianny_with_3pca\\processed_139_ICA_DLtrain.fdt\n",
      "Reading 0 ... 84408  =      0.000 ...   329.719 secs...\n",
      "Total Nan of the subject: 0\n",
      "Total Random of the subject: 114\n",
      "Reading G:\\共用雲端硬碟\\CNElab_陳昱祺\\source localization\\test_data\\ROI\\Desikan_Kilianny_with_3pca\\processed_140_ICA_DLtrain.fdt\n",
      "Reading 0 ... 63119  =      0.000 ...   246.559 secs...\n"
     ]
    },
    {
     "name": "stderr",
     "output_type": "stream",
     "text": [
      "G:\\共用雲端硬碟\\CNElab_陳昱祺\\multi-modal\\Dataloader\\SLT_dataloader.py:192: RuntimeWarning: The data contains 'boundary' events, indicating data discontinuities. Be cautious of filtering and epoching around these events.\n",
      "  eeg_data = mne.io.read_raw_eeglab(eeg_path, preload=True).get_data()\n"
     ]
    },
    {
     "name": "stdout",
     "output_type": "stream",
     "text": [
      "Total Nan of the subject: 0\n",
      "Total Random of the subject: 75\n",
      "Reading G:\\共用雲端硬碟\\CNElab_陳昱祺\\source localization\\test_data\\ROI\\Desikan_Kilianny_with_3pca\\processed_141_ICA_DLtrain.fdt\n",
      "Reading 0 ... 77455  =      0.000 ...   302.559 secs...\n",
      "Total Nan of the subject: 0\n",
      "Total Random of the subject: 97\n",
      "Reading G:\\共用雲端硬碟\\CNElab_陳昱祺\\source localization\\test_data\\ROI\\Desikan_Kilianny_with_3pca\\processed_142_ICA_DLtrain.fdt\n",
      "Reading 0 ... 77516  =      0.000 ...   302.797 secs...\n",
      "Total Nan of the subject: 0\n",
      "Total Random of the subject: 105\n",
      "Reading G:\\共用雲端硬碟\\CNElab_陳昱祺\\source localization\\test_data\\ROI\\Desikan_Kilianny_with_3pca\\processed_143_ICA_DLtrain.fdt\n",
      "Reading 0 ... 77670  =      0.000 ...   303.398 secs...\n",
      "Total Nan of the subject: 0\n",
      "Total Random of the subject: 98\n",
      "Reading G:\\共用雲端硬碟\\CNElab_陳昱祺\\source localization\\test_data\\ROI\\Desikan_Kilianny_with_3pca\\processed_144_ICA_DLtrain.fdt\n",
      "Reading 0 ... 80220  =      0.000 ...   313.359 secs...\n",
      "Total Nan of the subject: 0\n",
      "Total Random of the subject: 109\n",
      "Reading G:\\共用雲端硬碟\\CNElab_陳昱祺\\source localization\\test_data\\ROI\\Desikan_Kilianny_with_3pca\\processed_145_ICA_DLtrain.fdt\n",
      "Reading 0 ... 77281  =      0.000 ...   301.879 secs...\n",
      "Total Nan of the subject: 0\n",
      "Total Random of the subject: 95\n",
      "Reading G:\\共用雲端硬碟\\CNElab_陳昱祺\\source localization\\test_data\\ROI\\Desikan_Kilianny_with_3pca\\processed_146_ICA_DLtrain.fdt\n",
      "Reading 0 ... 81725  =      0.000 ...   319.238 secs...\n",
      "Total Nan of the subject: 0\n",
      "Total Random of the subject: 104\n",
      "Reading G:\\共用雲端硬碟\\CNElab_陳昱祺\\source localization\\test_data\\ROI\\Desikan_Kilianny_with_3pca\\processed_147_ICA_DLtrain.fdt\n",
      "Reading 0 ... 77619  =      0.000 ...   303.199 secs...\n",
      "Total Nan of the subject: 0\n",
      "Total Random of the subject: 105\n",
      "Reading G:\\共用雲端硬碟\\CNElab_陳昱祺\\source localization\\test_data\\ROI\\Desikan_Kilianny_with_3pca\\processed_148_ICA_DLtrain.fdt\n",
      "Reading 0 ... 77936  =      0.000 ...   304.438 secs...\n",
      "Total Nan of the subject: 0\n",
      "Total Random of the subject: 91\n",
      "Reading G:\\共用雲端硬碟\\CNElab_陳昱祺\\source localization\\test_data\\ROI\\Desikan_Kilianny_with_3pca\\processed_149_ICA_DLtrain.fdt\n",
      "Reading 0 ... 77752  =      0.000 ...   303.719 secs...\n",
      "Total Nan of the subject: 0\n",
      "Total Random of the subject: 100\n",
      "Reading G:\\共用雲端硬碟\\CNElab_陳昱祺\\source localization\\test_data\\ROI\\Desikan_Kilianny_with_3pca\\processed_150_ICA_DLtrain.fdt\n",
      "Reading 0 ... 76943  =      0.000 ...   300.559 secs...\n",
      "Total Nan of the subject: 0\n",
      "Total Random of the subject: 97\n",
      "Reading G:\\共用雲端硬碟\\CNElab_陳昱祺\\source localization\\test_data\\ROI\\Desikan_Kilianny_with_3pca\\processed_151_ICA_DLtrain.fdt\n",
      "Reading 0 ... 79001  =      0.000 ...   308.598 secs...\n",
      "Total Nan of the subject: 0\n",
      "Total Random of the subject: 104\n",
      "Reading G:\\共用雲端硬碟\\CNElab_陳昱祺\\source localization\\test_data\\ROI\\Desikan_Kilianny_with_3pca\\processed_152_ICA_DLtrain.fdt\n",
      "Reading 0 ... 79431  =      0.000 ...   310.277 secs...\n",
      "Total Nan of the subject: 0\n",
      "Total Random of the subject: 97\n",
      "Reading G:\\共用雲端硬碟\\CNElab_陳昱祺\\source localization\\test_data\\ROI\\Desikan_Kilianny_with_3pca\\processed_153_ICA_DLtrain.fdt\n",
      "Reading 0 ... 76974  =      0.000 ...   300.680 secs...\n",
      "Total Nan of the subject: 0\n",
      "Total Random of the subject: 86\n",
      "Reading G:\\共用雲端硬碟\\CNElab_陳昱祺\\source localization\\test_data\\ROI\\Desikan_Kilianny_with_3pca\\processed_154_ICA_DLtrain.fdt\n",
      "Reading 0 ... 79493  =      0.000 ...   310.520 secs...\n",
      "Total Nan of the subject: 0\n",
      "Total Random of the subject: 107\n",
      "Reading G:\\共用雲端硬碟\\CNElab_陳昱祺\\source localization\\test_data\\ROI\\Desikan_Kilianny_with_3pca\\processed_155_ICA_DLtrain.fdt\n",
      "Reading 0 ... 64277  =      0.000 ...   251.082 secs...\n"
     ]
    },
    {
     "name": "stderr",
     "output_type": "stream",
     "text": [
      "G:\\共用雲端硬碟\\CNElab_陳昱祺\\multi-modal\\Dataloader\\SLT_dataloader.py:192: RuntimeWarning: The data contains 'boundary' events, indicating data discontinuities. Be cautious of filtering and epoching around these events.\n",
      "  eeg_data = mne.io.read_raw_eeglab(eeg_path, preload=True).get_data()\n"
     ]
    },
    {
     "name": "stdout",
     "output_type": "stream",
     "text": [
      "Total Nan of the subject: 0\n",
      "Total Random of the subject: 95\n",
      "Reading G:\\共用雲端硬碟\\CNElab_陳昱祺\\source localization\\test_data\\ROI\\Desikan_Kilianny_with_3pca\\processed_156_ICA_DLtrain.fdt\n",
      "Reading 0 ... 58890  =      0.000 ...   230.039 secs...\n"
     ]
    },
    {
     "name": "stderr",
     "output_type": "stream",
     "text": [
      "G:\\共用雲端硬碟\\CNElab_陳昱祺\\multi-modal\\Dataloader\\SLT_dataloader.py:192: RuntimeWarning: The data contains 'boundary' events, indicating data discontinuities. Be cautious of filtering and epoching around these events.\n",
      "  eeg_data = mne.io.read_raw_eeglab(eeg_path, preload=True).get_data()\n"
     ]
    },
    {
     "name": "stdout",
     "output_type": "stream",
     "text": [
      "Total Nan of the subject: 0\n",
      "Total Random of the subject: 76\n",
      "Reading G:\\共用雲端硬碟\\CNElab_陳昱祺\\source localization\\test_data\\ROI\\Desikan_Kilianny_with_3pca\\processed_157_ICA_DLtrain.fdt\n",
      "Reading 0 ... 77926  =      0.000 ...   304.398 secs...\n",
      "Total Nan of the subject: 0\n",
      "Total Random of the subject: 96\n",
      "Reading G:\\共用雲端硬碟\\CNElab_陳昱祺\\source localization\\test_data\\ROI\\Desikan_Kilianny_with_3pca\\processed_158_ICA_DLtrain.fdt\n",
      "Reading 0 ... 59403  =      0.000 ...   232.043 secs...\n"
     ]
    },
    {
     "name": "stderr",
     "output_type": "stream",
     "text": [
      "G:\\共用雲端硬碟\\CNElab_陳昱祺\\multi-modal\\Dataloader\\SLT_dataloader.py:192: RuntimeWarning: The data contains 'boundary' events, indicating data discontinuities. Be cautious of filtering and epoching around these events.\n",
      "  eeg_data = mne.io.read_raw_eeglab(eeg_path, preload=True).get_data()\n"
     ]
    },
    {
     "name": "stdout",
     "output_type": "stream",
     "text": [
      "Total Nan of the subject: 0\n",
      "Total Random of the subject: 74\n",
      "Reading G:\\共用雲端硬碟\\CNElab_陳昱祺\\source localization\\test_data\\ROI\\Desikan_Kilianny_with_3pca\\processed_159_ICA_DLtrain.fdt\n",
      "Reading 0 ... 79513  =      0.000 ...   310.598 secs...\n",
      "Total Nan of the subject: 0\n",
      "Total Random of the subject: 106\n",
      "Reading G:\\共用雲端硬碟\\CNElab_陳昱祺\\source localization\\test_data\\ROI\\Desikan_Kilianny_with_3pca\\processed_160_ICA_DLtrain.fdt\n",
      "Reading 0 ... 80168  =      0.000 ...   313.156 secs...\n",
      "Total Nan of the subject: 0\n",
      "Total Random of the subject: 113\n",
      "Reading G:\\共用雲端硬碟\\CNElab_陳昱祺\\source localization\\test_data\\ROI\\Desikan_Kilianny_with_3pca\\processed_161_ICA_DLtrain.fdt\n",
      "Reading 0 ... 80609  =      0.000 ...   314.879 secs...\n",
      "Total Nan of the subject: 0\n",
      "Total Random of the subject: 109\n",
      "Reading G:\\共用雲端硬碟\\CNElab_陳昱祺\\source localization\\test_data\\ROI\\Desikan_Kilianny_with_3pca\\processed_162_ICA_DLtrain.fdt\n",
      "Reading 0 ... 59064  =      0.000 ...   230.719 secs...\n"
     ]
    },
    {
     "name": "stderr",
     "output_type": "stream",
     "text": [
      "G:\\共用雲端硬碟\\CNElab_陳昱祺\\multi-modal\\Dataloader\\SLT_dataloader.py:192: RuntimeWarning: The data contains 'boundary' events, indicating data discontinuities. Be cautious of filtering and epoching around these events.\n",
      "  eeg_data = mne.io.read_raw_eeglab(eeg_path, preload=True).get_data()\n"
     ]
    },
    {
     "name": "stdout",
     "output_type": "stream",
     "text": [
      "Total Nan of the subject: 0\n",
      "Total Random of the subject: 82\n",
      "Reading G:\\共用雲端硬碟\\CNElab_陳昱祺\\source localization\\test_data\\ROI\\Desikan_Kilianny_with_3pca\\processed_163_ICA_DLtrain.fdt\n",
      "Reading 0 ... 78776  =      0.000 ...   307.719 secs...\n",
      "Total Nan of the subject: 0\n",
      "Total Random of the subject: 100\n",
      "Reading G:\\共用雲端硬碟\\CNElab_陳昱祺\\source localization\\test_data\\ROI\\Desikan_Kilianny_with_3pca\\processed_164_ICA_DLtrain.fdt\n",
      "Reading 0 ... 79708  =      0.000 ...   311.359 secs...\n",
      "Total Nan of the subject: 0\n",
      "Total Random of the subject: 105\n",
      "Reading G:\\共用雲端硬碟\\CNElab_陳昱祺\\source localization\\test_data\\ROI\\Desikan_Kilianny_with_3pca\\processed_165_ICA_DLtrain.fdt\n",
      "Reading 0 ... 81602  =      0.000 ...   318.758 secs...\n",
      "Total Nan of the subject: 0\n",
      "Total Random of the subject: 106\n",
      "Reading G:\\共用雲端硬碟\\CNElab_陳昱祺\\source localization\\test_data\\ROI\\Desikan_Kilianny_with_3pca\\processed_166_ICA_DLtrain.fdt\n",
      "Reading 0 ... 81704  =      0.000 ...   319.156 secs...\n",
      "Total Nan of the subject: 0\n",
      "Total Random of the subject: 111\n",
      "Reading G:\\共用雲端硬碟\\CNElab_陳昱祺\\source localization\\test_data\\ROI\\Desikan_Kilianny_with_3pca\\processed_167_ICA_DLtrain.fdt\n",
      "Reading 0 ... 61922  =      0.000 ...   241.883 secs...\n"
     ]
    },
    {
     "name": "stderr",
     "output_type": "stream",
     "text": [
      "G:\\共用雲端硬碟\\CNElab_陳昱祺\\multi-modal\\Dataloader\\SLT_dataloader.py:192: RuntimeWarning: The data contains 'boundary' events, indicating data discontinuities. Be cautious of filtering and epoching around these events.\n",
      "  eeg_data = mne.io.read_raw_eeglab(eeg_path, preload=True).get_data()\n"
     ]
    },
    {
     "name": "stdout",
     "output_type": "stream",
     "text": [
      "Total Nan of the subject: 0\n",
      "Total Random of the subject: 74\n",
      "Reading G:\\共用雲端硬碟\\CNElab_陳昱祺\\source localization\\test_data\\ROI\\Desikan_Kilianny_with_3pca\\processed_168_ICA_DLtrain.fdt\n",
      "Reading 0 ... 81418  =      0.000 ...   318.039 secs...\n",
      "Total Nan of the subject: 0\n",
      "Total Random of the subject: 116\n",
      "Reading G:\\共用雲端硬碟\\CNElab_陳昱祺\\source localization\\test_data\\ROI\\Desikan_Kilianny_with_3pca\\processed_169_ICA_DLtrain.fdt\n",
      "Reading 0 ... 60939  =      0.000 ...   238.043 secs...\n"
     ]
    },
    {
     "name": "stderr",
     "output_type": "stream",
     "text": [
      "G:\\共用雲端硬碟\\CNElab_陳昱祺\\multi-modal\\Dataloader\\SLT_dataloader.py:192: RuntimeWarning: The data contains 'boundary' events, indicating data discontinuities. Be cautious of filtering and epoching around these events.\n",
      "  eeg_data = mne.io.read_raw_eeglab(eeg_path, preload=True).get_data()\n"
     ]
    },
    {
     "name": "stdout",
     "output_type": "stream",
     "text": [
      "Total Nan of the subject: 0\n",
      "Total Random of the subject: 78\n",
      "Reading G:\\共用雲端硬碟\\CNElab_陳昱祺\\source localization\\test_data\\ROI\\Desikan_Kilianny_with_3pca\\processed_170_ICA_DLtrain.fdt\n",
      "Reading 0 ... 77158  =      0.000 ...   301.398 secs...\n",
      "Total Nan of the subject: 0\n",
      "Total Random of the subject: 108\n",
      "Reading G:\\共用雲端硬碟\\CNElab_陳昱祺\\source localization\\test_data\\ROI\\Desikan_Kilianny_with_3pca\\processed_171_ICA_DLtrain.fdt\n",
      "Reading 0 ... 80435  =      0.000 ...   314.199 secs...\n",
      "Total Nan of the subject: 0\n",
      "Total Random of the subject: 108\n",
      "Reading G:\\共用雲端硬碟\\CNElab_陳昱祺\\source localization\\test_data\\ROI\\Desikan_Kilianny_with_3pca\\processed_172_ICA_DLtrain.fdt\n",
      "Reading 0 ... 77271  =      0.000 ...   301.840 secs...\n",
      "Total Nan of the subject: 0\n",
      "Total Random of the subject: 103\n",
      "Reading G:\\共用雲端硬碟\\CNElab_陳昱祺\\source localization\\test_data\\ROI\\Desikan_Kilianny_with_3pca\\processed_173_ICA_DLtrain.fdt\n",
      "Reading 0 ... 77066  =      0.000 ...   301.039 secs...\n",
      "Total Nan of the subject: 0\n",
      "Total Random of the subject: 110\n",
      "Reading G:\\共用雲端硬碟\\CNElab_陳昱祺\\source localization\\test_data\\ROI\\Desikan_Kilianny_with_3pca\\processed_174_ICA_DLtrain.fdt\n",
      "Reading 0 ... 65711  =      0.000 ...   256.684 secs...\n"
     ]
    },
    {
     "name": "stderr",
     "output_type": "stream",
     "text": [
      "G:\\共用雲端硬碟\\CNElab_陳昱祺\\multi-modal\\Dataloader\\SLT_dataloader.py:192: RuntimeWarning: The data contains 'boundary' events, indicating data discontinuities. Be cautious of filtering and epoching around these events.\n",
      "  eeg_data = mne.io.read_raw_eeglab(eeg_path, preload=True).get_data()\n"
     ]
    },
    {
     "name": "stdout",
     "output_type": "stream",
     "text": [
      "Total Nan of the subject: 0\n",
      "Total Random of the subject: 77\n",
      "Reading G:\\共用雲端硬碟\\CNElab_陳昱祺\\source localization\\test_data\\ROI\\Desikan_Kilianny_with_3pca\\processed_175_ICA_DLtrain.fdt\n",
      "Reading 0 ... 76902  =      0.000 ...   300.398 secs...\n",
      "Total Nan of the subject: 0\n",
      "Total Random of the subject: 103\n",
      "Reading G:\\共用雲端硬碟\\CNElab_陳昱祺\\source localization\\test_data\\ROI\\Desikan_Kilianny_with_3pca\\processed_176_ICA_DLtrain.fdt\n",
      "Reading 0 ... 77854  =      0.000 ...   304.117 secs...\n",
      "Total Nan of the subject: 0\n",
      "Total Random of the subject: 87\n",
      "Reading G:\\共用雲端硬碟\\CNElab_陳昱祺\\source localization\\test_data\\ROI\\Desikan_Kilianny_with_3pca\\processed_177_ICA_DLtrain.fdt\n",
      "Reading 0 ... 59167  =      0.000 ...   231.121 secs...\n"
     ]
    },
    {
     "name": "stderr",
     "output_type": "stream",
     "text": [
      "G:\\共用雲端硬碟\\CNElab_陳昱祺\\multi-modal\\Dataloader\\SLT_dataloader.py:192: RuntimeWarning: The data contains 'boundary' events, indicating data discontinuities. Be cautious of filtering and epoching around these events.\n",
      "  eeg_data = mne.io.read_raw_eeglab(eeg_path, preload=True).get_data()\n"
     ]
    },
    {
     "name": "stdout",
     "output_type": "stream",
     "text": [
      "Total Nan of the subject: 0\n",
      "Total Random of the subject: 76\n",
      "Reading G:\\共用雲端硬碟\\CNElab_陳昱祺\\source localization\\test_data\\ROI\\Desikan_Kilianny_with_3pca\\processed_178_ICA_DLtrain.fdt\n",
      "Reading 0 ... 79329  =      0.000 ...   309.879 secs...\n",
      "Total Nan of the subject: 0\n",
      "Total Random of the subject: 98\n",
      "Reading G:\\共用雲端硬碟\\CNElab_陳昱祺\\source localization\\test_data\\ROI\\Desikan_Kilianny_with_3pca\\processed_179_ICA_DLtrain.fdt\n",
      "Reading 0 ... 83148  =      0.000 ...   324.797 secs...\n",
      "Total Nan of the subject: 0\n",
      "Total Random of the subject: 114\n",
      "Reading G:\\共用雲端硬碟\\CNElab_陳昱祺\\source localization\\test_data\\ROI\\Desikan_Kilianny_with_3pca\\processed_180_ICA_DLtrain.fdt\n",
      "Reading 0 ... 78438  =      0.000 ...   306.398 secs...\n",
      "Total Nan of the subject: 0\n",
      "Total Random of the subject: 105\n",
      "Reading G:\\共用雲端硬碟\\CNElab_陳昱祺\\source localization\\test_data\\ROI\\Desikan_Kilianny_with_3pca\\processed_181_ICA_DLtrain.fdt\n",
      "Reading 0 ... 68915  =      0.000 ...   269.199 secs...\n"
     ]
    },
    {
     "name": "stderr",
     "output_type": "stream",
     "text": [
      "G:\\共用雲端硬碟\\CNElab_陳昱祺\\multi-modal\\Dataloader\\SLT_dataloader.py:192: RuntimeWarning: The data contains 'boundary' events, indicating data discontinuities. Be cautious of filtering and epoching around these events.\n",
      "  eeg_data = mne.io.read_raw_eeglab(eeg_path, preload=True).get_data()\n"
     ]
    },
    {
     "name": "stdout",
     "output_type": "stream",
     "text": [
      "Total Nan of the subject: 0\n",
      "Total Random of the subject: 90\n",
      "Reading G:\\共用雲端硬碟\\CNElab_陳昱祺\\source localization\\test_data\\ROI\\Desikan_Kilianny_with_3pca\\processed_182_ICA_DLtrain.fdt\n",
      "Reading 0 ... 76113  =      0.000 ...   297.316 secs...\n",
      "Total Nan of the subject: 0\n",
      "Total Random of the subject: 94\n",
      "Reading G:\\共用雲端硬碟\\CNElab_陳昱祺\\source localization\\test_data\\ROI\\Desikan_Kilianny_with_3pca\\processed_183_ICA_DLtrain.fdt\n",
      "Reading 0 ... 79697  =      0.000 ...   311.316 secs...\n",
      "Total Nan of the subject: 0\n",
      "Total Random of the subject: 99\n",
      "Reading G:\\共用雲端硬碟\\CNElab_陳昱祺\\source localization\\test_data\\ROI\\Desikan_Kilianny_with_3pca\\processed_184_ICA_DLtrain.fdt\n",
      "Reading 0 ... 80302  =      0.000 ...   313.680 secs...\n",
      "Total Nan of the subject: 0\n",
      "Total Random of the subject: 101\n",
      "Reading G:\\共用雲端硬碟\\CNElab_陳昱祺\\source localization\\test_data\\ROI\\Desikan_Kilianny_with_3pca\\processed_185_ICA_DLtrain.fdt\n",
      "Reading 0 ... 60775  =      0.000 ...   237.402 secs...\n"
     ]
    },
    {
     "name": "stderr",
     "output_type": "stream",
     "text": [
      "G:\\共用雲端硬碟\\CNElab_陳昱祺\\multi-modal\\Dataloader\\SLT_dataloader.py:192: RuntimeWarning: The data contains 'boundary' events, indicating data discontinuities. Be cautious of filtering and epoching around these events.\n",
      "  eeg_data = mne.io.read_raw_eeglab(eeg_path, preload=True).get_data()\n"
     ]
    },
    {
     "name": "stdout",
     "output_type": "stream",
     "text": [
      "Total Nan of the subject: 0\n",
      "Total Random of the subject: 79\n",
      "Reading G:\\共用雲端硬碟\\CNElab_陳昱祺\\source localization\\test_data\\ROI\\Desikan_Kilianny_with_3pca\\processed_186_ICA_DLtrain.fdt\n",
      "Reading 0 ... 60540  =      0.000 ...   236.484 secs...\n"
     ]
    },
    {
     "name": "stderr",
     "output_type": "stream",
     "text": [
      "G:\\共用雲端硬碟\\CNElab_陳昱祺\\multi-modal\\Dataloader\\SLT_dataloader.py:192: RuntimeWarning: The data contains 'boundary' events, indicating data discontinuities. Be cautious of filtering and epoching around these events.\n",
      "  eeg_data = mne.io.read_raw_eeglab(eeg_path, preload=True).get_data()\n"
     ]
    },
    {
     "name": "stdout",
     "output_type": "stream",
     "text": [
      "Total Nan of the subject: 0\n",
      "Total Random of the subject: 78\n",
      "Reading G:\\共用雲端硬碟\\CNElab_陳昱祺\\source localization\\test_data\\ROI\\Desikan_Kilianny_with_3pca\\processed_187_ICA_DLtrain.fdt\n",
      "Reading 0 ... 77045  =      0.000 ...   300.957 secs...\n",
      "Total Nan of the subject: 0\n",
      "Total Random of the subject: 103\n",
      "Reading G:\\共用雲端硬碟\\CNElab_陳昱祺\\source localization\\test_data\\ROI\\Desikan_Kilianny_with_3pca\\processed_188_ICA_DLtrain.fdt\n",
      "Reading 0 ... 76748  =      0.000 ...   299.797 secs...\n",
      "Total Nan of the subject: 0\n",
      "Total Random of the subject: 103\n",
      "Reading G:\\共用雲端硬碟\\CNElab_陳昱祺\\source localization\\test_data\\ROI\\Desikan_Kilianny_with_3pca\\processed_189_ICA_DLtrain.fdt\n",
      "Reading 0 ... 63232  =      0.000 ...   247.000 secs...\n"
     ]
    },
    {
     "name": "stderr",
     "output_type": "stream",
     "text": [
      "G:\\共用雲端硬碟\\CNElab_陳昱祺\\multi-modal\\Dataloader\\SLT_dataloader.py:192: RuntimeWarning: The data contains 'boundary' events, indicating data discontinuities. Be cautious of filtering and epoching around these events.\n",
      "  eeg_data = mne.io.read_raw_eeglab(eeg_path, preload=True).get_data()\n"
     ]
    },
    {
     "name": "stdout",
     "output_type": "stream",
     "text": [
      "Total Nan of the subject: 0\n",
      "Total Random of the subject: 83\n",
      "Reading G:\\共用雲端硬碟\\CNElab_陳昱祺\\source localization\\test_data\\ROI\\Desikan_Kilianny_with_3pca\\processed_190_ICA_DLtrain.fdt\n",
      "Reading 0 ... 61973  =      0.000 ...   242.082 secs...\n"
     ]
    },
    {
     "name": "stderr",
     "output_type": "stream",
     "text": [
      "G:\\共用雲端硬碟\\CNElab_陳昱祺\\multi-modal\\Dataloader\\SLT_dataloader.py:192: RuntimeWarning: The data contains 'boundary' events, indicating data discontinuities. Be cautious of filtering and epoching around these events.\n",
      "  eeg_data = mne.io.read_raw_eeglab(eeg_path, preload=True).get_data()\n"
     ]
    },
    {
     "name": "stdout",
     "output_type": "stream",
     "text": [
      "Total Nan of the subject: 0\n",
      "Total Random of the subject: 72\n",
      "Reading G:\\共用雲端硬碟\\CNElab_陳昱祺\\source localization\\test_data\\ROI\\Desikan_Kilianny_with_3pca\\processed_191_ICA_DLtrain.fdt\n",
      "Reading 0 ... 80158  =      0.000 ...   313.117 secs...\n",
      "Total Nan of the subject: 0\n",
      "Total Random of the subject: 106\n",
      "Reading G:\\共用雲端硬碟\\CNElab_陳昱祺\\source localization\\test_data\\ROI\\Desikan_Kilianny_with_3pca\\processed_192_ICA_DLtrain.fdt\n",
      "Reading 0 ... 80517  =      0.000 ...   314.520 secs...\n",
      "Total Nan of the subject: 0\n",
      "Total Random of the subject: 97\n",
      "Reading G:\\共用雲端硬碟\\CNElab_陳昱祺\\source localization\\test_data\\ROI\\Desikan_Kilianny_with_3pca\\processed_193_ICA_DLtrain.fdt\n",
      "Reading 0 ... 81223  =      0.000 ...   317.277 secs...\n",
      "Total Nan of the subject: 0\n",
      "Total Random of the subject: 103\n",
      "Reading G:\\共用雲端硬碟\\CNElab_陳昱祺\\source localization\\test_data\\ROI\\Desikan_Kilianny_with_3pca\\processed_194_ICA_DLtrain.fdt\n",
      "Reading 0 ... 77260  =      0.000 ...   301.797 secs...\n",
      "Total Nan of the subject: 0\n",
      "Total Random of the subject: 100\n",
      "Reading G:\\共用雲端硬碟\\CNElab_陳昱祺\\source localization\\test_data\\ROI\\Desikan_Kilianny_with_3pca\\processed_195_ICA_DLtrain.fdt\n",
      "Reading 0 ... 77680  =      0.000 ...   303.438 secs...\n",
      "Total Nan of the subject: 0\n",
      "Total Random of the subject: 96\n",
      "Reading G:\\共用雲端硬碟\\CNElab_陳昱祺\\source localization\\test_data\\ROI\\Desikan_Kilianny_with_3pca\\processed_196_ICA_DLtrain.fdt\n",
      "Reading 0 ... 64184  =      0.000 ...   250.719 secs...\n"
     ]
    },
    {
     "name": "stderr",
     "output_type": "stream",
     "text": [
      "G:\\共用雲端硬碟\\CNElab_陳昱祺\\multi-modal\\Dataloader\\SLT_dataloader.py:192: RuntimeWarning: The data contains 'boundary' events, indicating data discontinuities. Be cautious of filtering and epoching around these events.\n",
      "  eeg_data = mne.io.read_raw_eeglab(eeg_path, preload=True).get_data()\n"
     ]
    },
    {
     "name": "stdout",
     "output_type": "stream",
     "text": [
      "Total Nan of the subject: 0\n",
      "Total Random of the subject: 88\n",
      "Reading G:\\共用雲端硬碟\\CNElab_陳昱祺\\source localization\\test_data\\ROI\\Desikan_Kilianny_with_3pca\\processed_197_ICA_DLtrain.fdt\n",
      "Reading 0 ... 79994  =      0.000 ...   312.477 secs...\n",
      "Total Nan of the subject: 0\n",
      "Total Random of the subject: 90\n",
      "Reading G:\\共用雲端硬碟\\CNElab_陳昱祺\\source localization\\test_data\\ROI\\Desikan_Kilianny_with_3pca\\processed_198_ICA_DLtrain.fdt\n",
      "Reading 0 ... 58880  =      0.000 ...   230.000 secs...\n"
     ]
    },
    {
     "name": "stderr",
     "output_type": "stream",
     "text": [
      "G:\\共用雲端硬碟\\CNElab_陳昱祺\\multi-modal\\Dataloader\\SLT_dataloader.py:192: RuntimeWarning: The data contains 'boundary' events, indicating data discontinuities. Be cautious of filtering and epoching around these events.\n",
      "  eeg_data = mne.io.read_raw_eeglab(eeg_path, preload=True).get_data()\n"
     ]
    },
    {
     "name": "stdout",
     "output_type": "stream",
     "text": [
      "Total Nan of the subject: 0\n",
      "Total Random of the subject: 65\n",
      "Reading G:\\共用雲端硬碟\\CNElab_陳昱祺\\source localization\\test_data\\ROI\\Desikan_Kilianny_with_3pca\\processed_199_ICA_DLtrain.fdt\n",
      "Reading 0 ... 59894  =      0.000 ...   233.961 secs...\n"
     ]
    },
    {
     "name": "stderr",
     "output_type": "stream",
     "text": [
      "G:\\共用雲端硬碟\\CNElab_陳昱祺\\multi-modal\\Dataloader\\SLT_dataloader.py:192: RuntimeWarning: The data contains 'boundary' events, indicating data discontinuities. Be cautious of filtering and epoching around these events.\n",
      "  eeg_data = mne.io.read_raw_eeglab(eeg_path, preload=True).get_data()\n"
     ]
    },
    {
     "name": "stdout",
     "output_type": "stream",
     "text": [
      "Total Nan of the subject: 0\n",
      "Total Random of the subject: 73\n",
      "Reading G:\\共用雲端硬碟\\CNElab_陳昱祺\\source localization\\test_data\\ROI\\Desikan_Kilianny_with_3pca\\processed_200_ICA_DLtrain.fdt\n",
      "Reading 0 ... 83916  =      0.000 ...   327.797 secs...\n",
      "Total Nan of the subject: 0\n",
      "Total Random of the subject: 110\n",
      "\n",
      "\n",
      "================================================\n",
      "\n",
      "Total dataset size: 19105\n",
      "\n",
      "================================================\n",
      "\n",
      "\n",
      "['202', '203', '204', '205', '206', '207', '208', '209', '210', '211', '212', '213', '214', '215', '216', '217', '218', '219', '220', '221', '222', '223', '224', '225', '226', '227', '228', '229', '230', '231', '232', '233', '234', '235', '236', '237', '238', '239', '240']\n",
      "Reading G:\\共用雲端硬碟\\CNElab_陳昱祺\\source localization\\test_data\\ROI\\Desikan_Kilianny_with_3pca\\processed_202_ICA_DLtrain.fdt\n",
      "Reading 0 ... 60499  =      0.000 ...   236.324 secs...\n"
     ]
    },
    {
     "name": "stderr",
     "output_type": "stream",
     "text": [
      "G:\\共用雲端硬碟\\CNElab_陳昱祺\\multi-modal\\Dataloader\\SLT_dataloader.py:192: RuntimeWarning: The data contains 'boundary' events, indicating data discontinuities. Be cautious of filtering and epoching around these events.\n",
      "  eeg_data = mne.io.read_raw_eeglab(eeg_path, preload=True).get_data()\n"
     ]
    },
    {
     "name": "stdout",
     "output_type": "stream",
     "text": [
      "Total Nan of the subject: 0\n",
      "Total Random of the subject: 73\n",
      "Reading G:\\共用雲端硬碟\\CNElab_陳昱祺\\source localization\\test_data\\ROI\\Desikan_Kilianny_with_3pca\\processed_203_ICA_DLtrain.fdt\n",
      "Reading 0 ... 77281  =      0.000 ...   301.879 secs...\n",
      "Total Nan of the subject: 0\n",
      "Total Random of the subject: 98\n",
      "Reading G:\\共用雲端硬碟\\CNElab_陳昱祺\\source localization\\test_data\\ROI\\Desikan_Kilianny_with_3pca\\processed_204_ICA_DLtrain.fdt\n",
      "Reading 0 ... 68445  =      0.000 ...   267.363 secs...\n"
     ]
    },
    {
     "name": "stderr",
     "output_type": "stream",
     "text": [
      "G:\\共用雲端硬碟\\CNElab_陳昱祺\\multi-modal\\Dataloader\\SLT_dataloader.py:192: RuntimeWarning: The data contains 'boundary' events, indicating data discontinuities. Be cautious of filtering and epoching around these events.\n",
      "  eeg_data = mne.io.read_raw_eeglab(eeg_path, preload=True).get_data()\n"
     ]
    },
    {
     "name": "stdout",
     "output_type": "stream",
     "text": [
      "Total Nan of the subject: 0\n",
      "Total Random of the subject: 91\n",
      "Reading G:\\共用雲端硬碟\\CNElab_陳昱祺\\source localization\\test_data\\ROI\\Desikan_Kilianny_with_3pca\\processed_205_ICA_DLtrain.fdt\n",
      "Reading 0 ... 58440  =      0.000 ...   228.281 secs...\n"
     ]
    },
    {
     "name": "stderr",
     "output_type": "stream",
     "text": [
      "G:\\共用雲端硬碟\\CNElab_陳昱祺\\multi-modal\\Dataloader\\SLT_dataloader.py:192: RuntimeWarning: The data contains 'boundary' events, indicating data discontinuities. Be cautious of filtering and epoching around these events.\n",
      "  eeg_data = mne.io.read_raw_eeglab(eeg_path, preload=True).get_data()\n"
     ]
    },
    {
     "name": "stdout",
     "output_type": "stream",
     "text": [
      "Total Nan of the subject: 0\n",
      "Total Random of the subject: 76\n",
      "Reading G:\\共用雲端硬碟\\CNElab_陳昱祺\\source localization\\test_data\\ROI\\Desikan_Kilianny_with_3pca\\processed_206_ICA_DLtrain.fdt\n",
      "Reading 0 ... 61082  =      0.000 ...   238.602 secs...\n"
     ]
    },
    {
     "name": "stderr",
     "output_type": "stream",
     "text": [
      "G:\\共用雲端硬碟\\CNElab_陳昱祺\\multi-modal\\Dataloader\\SLT_dataloader.py:192: RuntimeWarning: The data contains 'boundary' events, indicating data discontinuities. Be cautious of filtering and epoching around these events.\n",
      "  eeg_data = mne.io.read_raw_eeglab(eeg_path, preload=True).get_data()\n"
     ]
    },
    {
     "name": "stdout",
     "output_type": "stream",
     "text": [
      "Total Nan of the subject: 0\n",
      "Total Random of the subject: 74\n",
      "Reading G:\\共用雲端硬碟\\CNElab_陳昱祺\\source localization\\test_data\\ROI\\Desikan_Kilianny_with_3pca\\processed_207_ICA_DLtrain.fdt\n",
      "Reading 0 ... 78428  =      0.000 ...   306.359 secs...\n",
      "Total Nan of the subject: 0\n",
      "Total Random of the subject: 100\n",
      "Reading G:\\共用雲端硬碟\\CNElab_陳昱祺\\source localization\\test_data\\ROI\\Desikan_Kilianny_with_3pca\\processed_208_ICA_DLtrain.fdt\n",
      "Reading 0 ... 78346  =      0.000 ...   306.039 secs...\n",
      "Total Nan of the subject: 0\n",
      "Total Random of the subject: 102\n",
      "Reading G:\\共用雲端硬碟\\CNElab_陳昱祺\\source localization\\test_data\\ROI\\Desikan_Kilianny_with_3pca\\processed_209_ICA_DLtrain.fdt\n",
      "Reading 0 ... 77465  =      0.000 ...   302.598 secs...\n",
      "Total Nan of the subject: 0\n",
      "Total Random of the subject: 108\n",
      "Reading G:\\共用雲端硬碟\\CNElab_陳昱祺\\source localization\\test_data\\ROI\\Desikan_Kilianny_with_3pca\\processed_210_ICA_DLtrain.fdt\n",
      "Reading 0 ... 80547  =      0.000 ...   314.637 secs...\n",
      "Total Nan of the subject: 0\n",
      "Total Random of the subject: 110\n",
      "Reading G:\\共用雲端硬碟\\CNElab_陳昱祺\\source localization\\test_data\\ROI\\Desikan_Kilianny_with_3pca\\processed_211_ICA_DLtrain.fdt\n",
      "Reading 0 ... 60673  =      0.000 ...   237.004 secs...\n"
     ]
    },
    {
     "name": "stderr",
     "output_type": "stream",
     "text": [
      "G:\\共用雲端硬碟\\CNElab_陳昱祺\\multi-modal\\Dataloader\\SLT_dataloader.py:192: RuntimeWarning: The data contains 'boundary' events, indicating data discontinuities. Be cautious of filtering and epoching around these events.\n",
      "  eeg_data = mne.io.read_raw_eeglab(eeg_path, preload=True).get_data()\n"
     ]
    },
    {
     "name": "stdout",
     "output_type": "stream",
     "text": [
      "Total Nan of the subject: 0\n",
      "Total Random of the subject: 79\n",
      "Reading G:\\共用雲端硬碟\\CNElab_陳昱祺\\source localization\\test_data\\ROI\\Desikan_Kilianny_with_3pca\\processed_212_ICA_DLtrain.fdt\n",
      "Reading 0 ... 77578  =      0.000 ...   303.039 secs...\n",
      "Total Nan of the subject: 0\n",
      "Total Random of the subject: 91\n",
      "Reading G:\\共用雲端硬碟\\CNElab_陳昱祺\\source localization\\test_data\\ROI\\Desikan_Kilianny_with_3pca\\processed_213_ICA_DLtrain.fdt\n",
      "Reading 0 ... 78950  =      0.000 ...   308.398 secs...\n",
      "Total Nan of the subject: 0\n",
      "Total Random of the subject: 104\n",
      "Reading G:\\共用雲端硬碟\\CNElab_陳昱祺\\source localization\\test_data\\ROI\\Desikan_Kilianny_with_3pca\\processed_214_ICA_DLtrain.fdt\n",
      "Reading 0 ... 77629  =      0.000 ...   303.238 secs...\n",
      "Total Nan of the subject: 0\n",
      "Total Random of the subject: 95\n",
      "Reading G:\\共用雲端硬碟\\CNElab_陳昱祺\\source localization\\test_data\\ROI\\Desikan_Kilianny_with_3pca\\processed_215_ICA_DLtrain.fdt\n",
      "Reading 0 ... 87869  =      0.000 ...   343.238 secs...\n",
      "Total Nan of the subject: 0\n",
      "Total Random of the subject: 114\n",
      "Reading G:\\共用雲端硬碟\\CNElab_陳昱祺\\source localization\\test_data\\ROI\\Desikan_Kilianny_with_3pca\\processed_216_ICA_DLtrain.fdt\n",
      "Reading 0 ... 77271  =      0.000 ...   301.840 secs...\n",
      "Total Nan of the subject: 0\n",
      "Total Random of the subject: 93\n",
      "Reading G:\\共用雲端硬碟\\CNElab_陳昱祺\\source localization\\test_data\\ROI\\Desikan_Kilianny_with_3pca\\processed_217_ICA_DLtrain.fdt\n",
      "Reading 0 ... 77864  =      0.000 ...   304.156 secs...\n",
      "Total Nan of the subject: 0\n",
      "Total Random of the subject: 101\n",
      "Reading G:\\共用雲端硬碟\\CNElab_陳昱祺\\source localization\\test_data\\ROI\\Desikan_Kilianny_with_3pca\\processed_218_ICA_DLtrain.fdt\n",
      "Reading 0 ... 72335  =      0.000 ...   282.559 secs...\n"
     ]
    },
    {
     "name": "stderr",
     "output_type": "stream",
     "text": [
      "G:\\共用雲端硬碟\\CNElab_陳昱祺\\multi-modal\\Dataloader\\SLT_dataloader.py:192: RuntimeWarning: The data contains 'boundary' events, indicating data discontinuities. Be cautious of filtering and epoching around these events.\n",
      "  eeg_data = mne.io.read_raw_eeglab(eeg_path, preload=True).get_data()\n"
     ]
    },
    {
     "name": "stdout",
     "output_type": "stream",
     "text": [
      "Total Nan of the subject: 0\n",
      "Total Random of the subject: 93\n",
      "Reading G:\\共用雲端硬碟\\CNElab_陳昱祺\\source localization\\test_data\\ROI\\Desikan_Kilianny_with_3pca\\processed_219_ICA_DLtrain.fdt\n",
      "Reading 0 ... 83609  =      0.000 ...   326.598 secs...\n",
      "Total Nan of the subject: 0\n",
      "Total Random of the subject: 109\n",
      "Reading G:\\共用雲端硬碟\\CNElab_陳昱祺\\source localization\\test_data\\ROI\\Desikan_Kilianny_with_3pca\\processed_220_ICA_DLtrain.fdt\n",
      "Reading 0 ... 81459  =      0.000 ...   318.199 secs...\n",
      "Total Nan of the subject: 0\n",
      "Total Random of the subject: 100\n",
      "Reading G:\\共用雲端硬碟\\CNElab_陳昱祺\\source localization\\test_data\\ROI\\Desikan_Kilianny_with_3pca\\processed_221_ICA_DLtrain.fdt\n",
      "Reading 0 ... 65527  =      0.000 ...   255.965 secs...\n"
     ]
    },
    {
     "name": "stderr",
     "output_type": "stream",
     "text": [
      "G:\\共用雲端硬碟\\CNElab_陳昱祺\\multi-modal\\Dataloader\\SLT_dataloader.py:192: RuntimeWarning: The data contains 'boundary' events, indicating data discontinuities. Be cautious of filtering and epoching around these events.\n",
      "  eeg_data = mne.io.read_raw_eeglab(eeg_path, preload=True).get_data()\n"
     ]
    },
    {
     "name": "stdout",
     "output_type": "stream",
     "text": [
      "Total Nan of the subject: 0\n",
      "Total Random of the subject: 77\n",
      "Reading G:\\共用雲端硬碟\\CNElab_陳昱祺\\source localization\\test_data\\ROI\\Desikan_Kilianny_with_3pca\\processed_222_ICA_DLtrain.fdt\n",
      "Reading 0 ... 82268  =      0.000 ...   321.359 secs...\n",
      "Total Nan of the subject: 0\n",
      "Total Random of the subject: 109\n",
      "Reading G:\\共用雲端硬碟\\CNElab_陳昱祺\\source localization\\test_data\\ROI\\Desikan_Kilianny_with_3pca\\processed_223_ICA_DLtrain.fdt\n",
      "Reading 0 ... 80742  =      0.000 ...   315.398 secs...\n",
      "Total Nan of the subject: 0\n",
      "Total Random of the subject: 92\n",
      "Reading G:\\共用雲端硬碟\\CNElab_陳昱祺\\source localization\\test_data\\ROI\\Desikan_Kilianny_with_3pca\\processed_224_ICA_DLtrain.fdt\n",
      "Reading 0 ... 77373  =      0.000 ...   302.238 secs...\n",
      "Total Nan of the subject: 0\n",
      "Total Random of the subject: 108\n",
      "Reading G:\\共用雲端硬碟\\CNElab_陳昱祺\\source localization\\test_data\\ROI\\Desikan_Kilianny_with_3pca\\processed_225_ICA_DLtrain.fdt\n",
      "Reading 0 ... 80814  =      0.000 ...   315.680 secs...\n",
      "Total Nan of the subject: 0\n",
      "Total Random of the subject: 107\n",
      "Reading G:\\共用雲端硬碟\\CNElab_陳昱祺\\source localization\\test_data\\ROI\\Desikan_Kilianny_with_3pca\\processed_226_ICA_DLtrain.fdt\n",
      "Reading 0 ... 76974  =      0.000 ...   300.680 secs...\n",
      "Total Nan of the subject: 0\n",
      "Total Random of the subject: 97\n",
      "Reading G:\\共用雲端硬碟\\CNElab_陳昱祺\\source localization\\test_data\\ROI\\Desikan_Kilianny_with_3pca\\processed_227_ICA_DLtrain.fdt\n",
      "Reading 0 ... 61614  =      0.000 ...   240.680 secs...\n"
     ]
    },
    {
     "name": "stderr",
     "output_type": "stream",
     "text": [
      "G:\\共用雲端硬碟\\CNElab_陳昱祺\\multi-modal\\Dataloader\\SLT_dataloader.py:192: RuntimeWarning: The data contains 'boundary' events, indicating data discontinuities. Be cautious of filtering and epoching around these events.\n",
      "  eeg_data = mne.io.read_raw_eeglab(eeg_path, preload=True).get_data()\n"
     ]
    },
    {
     "name": "stdout",
     "output_type": "stream",
     "text": [
      "Total Nan of the subject: 0\n",
      "Total Random of the subject: 73\n",
      "Reading G:\\共用雲端硬碟\\CNElab_陳昱祺\\source localization\\test_data\\ROI\\Desikan_Kilianny_with_3pca\\processed_228_ICA_DLtrain.fdt\n",
      "Reading 0 ... 73195  =      0.000 ...   285.918 secs...\n",
      "Total Nan of the subject: 0\n",
      "Total Random of the subject: 96\n",
      "Reading G:\\共用雲端硬碟\\CNElab_陳昱祺\\source localization\\test_data\\ROI\\Desikan_Kilianny_with_3pca\\processed_229_ICA_DLtrain.fdt\n",
      "Reading 0 ... 59127  =      0.000 ...   230.965 secs...\n"
     ]
    },
    {
     "name": "stderr",
     "output_type": "stream",
     "text": [
      "G:\\共用雲端硬碟\\CNElab_陳昱祺\\multi-modal\\Dataloader\\SLT_dataloader.py:192: RuntimeWarning: The data contains 'boundary' events, indicating data discontinuities. Be cautious of filtering and epoching around these events.\n",
      "  eeg_data = mne.io.read_raw_eeglab(eeg_path, preload=True).get_data()\n"
     ]
    },
    {
     "name": "stdout",
     "output_type": "stream",
     "text": [
      "Total Nan of the subject: 0\n",
      "Total Random of the subject: 72\n",
      "Reading G:\\共用雲端硬碟\\CNElab_陳昱祺\\source localization\\test_data\\ROI\\Desikan_Kilianny_with_3pca\\processed_230_ICA_DLtrain.fdt\n",
      "Reading 0 ... 81520  =      0.000 ...   318.438 secs...\n",
      "Total Nan of the subject: 0\n",
      "Total Random of the subject: 97\n",
      "Reading G:\\共用雲端硬碟\\CNElab_陳昱祺\\source localization\\test_data\\ROI\\Desikan_Kilianny_with_3pca\\processed_231_ICA_DLtrain.fdt\n",
      "Reading 0 ... 77701  =      0.000 ...   303.520 secs...\n",
      "Total Nan of the subject: 0\n",
      "Total Random of the subject: 103\n",
      "Reading G:\\共用雲端硬碟\\CNElab_陳昱祺\\source localization\\test_data\\ROI\\Desikan_Kilianny_with_3pca\\processed_232_ICA_DLtrain.fdt\n",
      "Reading 0 ... 78028  =      0.000 ...   304.797 secs...\n",
      "Total Nan of the subject: 0\n",
      "Total Random of the subject: 104\n",
      "Reading G:\\共用雲端硬碟\\CNElab_陳昱祺\\source localization\\test_data\\ROI\\Desikan_Kilianny_with_3pca\\processed_233_ICA_DLtrain.fdt\n",
      "Reading 0 ... 79114  =      0.000 ...   309.039 secs...\n",
      "Total Nan of the subject: 0\n",
      "Total Random of the subject: 94\n",
      "Reading G:\\共用雲端硬碟\\CNElab_陳昱祺\\source localization\\test_data\\ROI\\Desikan_Kilianny_with_3pca\\processed_234_ICA_DLtrain.fdt\n",
      "Reading 0 ... 78571  =      0.000 ...   306.918 secs...\n",
      "Total Nan of the subject: 0\n",
      "Total Random of the subject: 99\n",
      "Reading G:\\共用雲端硬碟\\CNElab_陳昱祺\\source localization\\test_data\\ROI\\Desikan_Kilianny_with_3pca\\processed_235_ICA_DLtrain.fdt\n",
      "Reading 0 ... 58256  =      0.000 ...   227.562 secs...\n"
     ]
    },
    {
     "name": "stderr",
     "output_type": "stream",
     "text": [
      "G:\\共用雲端硬碟\\CNElab_陳昱祺\\multi-modal\\Dataloader\\SLT_dataloader.py:192: RuntimeWarning: The data contains 'boundary' events, indicating data discontinuities. Be cautious of filtering and epoching around these events.\n",
      "  eeg_data = mne.io.read_raw_eeglab(eeg_path, preload=True).get_data()\n"
     ]
    },
    {
     "name": "stdout",
     "output_type": "stream",
     "text": [
      "Total Nan of the subject: 0\n",
      "Total Random of the subject: 75\n",
      "Reading G:\\共用雲端硬碟\\CNElab_陳昱祺\\source localization\\test_data\\ROI\\Desikan_Kilianny_with_3pca\\processed_236_ICA_DLtrain.fdt\n",
      "Reading 0 ... 77301  =      0.000 ...   301.957 secs...\n",
      "Total Nan of the subject: 0\n",
      "Total Random of the subject: 102\n",
      "Reading G:\\共用雲端硬碟\\CNElab_陳昱祺\\source localization\\test_data\\ROI\\Desikan_Kilianny_with_3pca\\processed_237_ICA_DLtrain.fdt\n",
      "Reading 0 ... 90818  =      0.000 ...   354.758 secs...\n",
      "Total Nan of the subject: 0\n",
      "Total Random of the subject: 120\n",
      "Reading G:\\共用雲端硬碟\\CNElab_陳昱祺\\source localization\\test_data\\ROI\\Desikan_Kilianny_with_3pca\\processed_238_ICA_DLtrain.fdt\n",
      "Reading 0 ... 81612  =      0.000 ...   318.797 secs...\n",
      "Total Nan of the subject: 0\n",
      "Total Random of the subject: 119\n",
      "Reading G:\\共用雲端硬碟\\CNElab_陳昱祺\\source localization\\test_data\\ROI\\Desikan_Kilianny_with_3pca\\processed_239_ICA_DLtrain.fdt\n",
      "Reading 0 ... 81315  =      0.000 ...   317.637 secs...\n",
      "Total Nan of the subject: 0\n",
      "Total Random of the subject: 102\n",
      "Reading G:\\共用雲端硬碟\\CNElab_陳昱祺\\source localization\\test_data\\ROI\\Desikan_Kilianny_with_3pca\\processed_240_ICA_DLtrain.fdt\n",
      "Reading 0 ... 77107  =      0.000 ...   301.199 secs...\n",
      "Total Nan of the subject: 0\n",
      "Total Random of the subject: 105\n",
      "\n",
      "================================================\n",
      "\n",
      "Total eval dataset size: 3762\n"
     ]
    }
   ],
   "source": [
    "import sys\n",
    "sys.path.insert(0, './Dataloader')\n",
    "from SLT_dataloader import EEGROIDataset, SignalDataCollator\n",
    "\n",
    "# Usage example\n",
    "roi_folder = \"G:\\\\共用雲端硬碟\\\\CNElab_陳昱祺\\\\source localization\\\\test_data\\\\ROI\\\\Desikan_Kilianny_with_3pca\"\n",
    "eeg_folder = \"G:\\\\共用雲端硬碟\\\\CNElab_陳昱祺\\\\source localization\\\\test_data\\\\ROI\\\\Desikan_Kilianny_with_3pca\"\n",
    "group_file = \"./Dataloader/subject_groups.json\"\n",
    "# segment_file = \"G:\\\\共用雲端硬碟\\\\CNElab_陳昱祺\\\\source localization\\\\test_data\\\\RO\\I\\Desikan_Kilianny_with_3pca\\\\roi_removal_segment.txt\"\n",
    "\n",
    "# Create dataset\n",
    "train_dataset = EEGROIDataset(roi_folder, eeg_folder, group_file, \"train_dataset\" )\n",
    "print(f\"\\n\\n================================================\\n\")\n",
    "print(f\"Total dataset size: {len(train_dataset)}\")\n",
    "print(f\"\\n================================================\\n\\n\")\n",
    "# Create dataset\n",
    "test_dataset = EEGROIDataset(roi_folder, eeg_folder, group_file, \"test_eval\")\n",
    "print(f\"\\n================================================\\n\")\n",
    "print(f\"Total eval dataset size: {len(test_dataset)}\")"
   ]
  },
  {
   "cell_type": "markdown",
   "metadata": {},
   "source": [
    "#### Model"
   ]
  },
  {
   "cell_type": "code",
   "execution_count": null,
   "metadata": {
    "scrolled": true
   },
   "outputs": [
    {
     "name": "stderr",
     "output_type": "stream",
     "text": [
      "\u001b[34m\u001b[1mwandb\u001b[0m: \u001b[33mWARNING\u001b[0m The `run_name` is currently set to the same value as `TrainingArguments.output_dir`. If this was not intended, please specify a different run name by setting the `TrainingArguments.run_name` parameter.\n",
      "wandb: Using wandb-core as the SDK backend.  Please refer to https://wandb.me/wandb-core for more information.\n",
      "wandb: Currently logged in as: richielp700 (richielp700-national-tsing-hua-university). Use `wandb login --relogin` to force relogin\n"
     ]
    },
    {
     "data": {
      "text/html": [
       "Tracking run with wandb version 0.19.1"
      ],
      "text/plain": [
       "<IPython.core.display.HTML object>"
      ]
     },
     "metadata": {},
     "output_type": "display_data"
    },
    {
     "data": {
      "text/html": [
       "Run data is saved locally in <code>G:\\共用雲端硬碟\\CNElab_陳昱祺\\multi-modal\\wandb\\run-20250206_155506-eof547m9</code>"
      ],
      "text/plain": [
       "<IPython.core.display.HTML object>"
      ]
     },
     "metadata": {},
     "output_type": "display_data"
    },
    {
     "data": {
      "text/html": [
       "Syncing run <strong><a href='https://wandb.ai/richielp700-national-tsing-hua-university/huggingface/runs/eof547m9' target=\"_blank\">./results_3pca/model_ver1_attention_block_8_20250206_155503</a></strong> to <a href='https://wandb.ai/richielp700-national-tsing-hua-university/huggingface' target=\"_blank\">Weights & Biases</a> (<a href='https://wandb.me/developer-guide' target=\"_blank\">docs</a>)<br>"
      ],
      "text/plain": [
       "<IPython.core.display.HTML object>"
      ]
     },
     "metadata": {},
     "output_type": "display_data"
    },
    {
     "data": {
      "text/html": [
       " View project at <a href='https://wandb.ai/richielp700-national-tsing-hua-university/huggingface' target=\"_blank\">https://wandb.ai/richielp700-national-tsing-hua-university/huggingface</a>"
      ],
      "text/plain": [
       "<IPython.core.display.HTML object>"
      ]
     },
     "metadata": {},
     "output_type": "display_data"
    },
    {
     "data": {
      "text/html": [
       " View run at <a href='https://wandb.ai/richielp700-national-tsing-hua-university/huggingface/runs/eof547m9' target=\"_blank\">https://wandb.ai/richielp700-national-tsing-hua-university/huggingface/runs/eof547m9</a>"
      ],
      "text/plain": [
       "<IPython.core.display.HTML object>"
      ]
     },
     "metadata": {},
     "output_type": "display_data"
    },
    {
     "name": "stderr",
     "output_type": "stream",
     "text": [
      "Could not estimate the number of tokens of the input, floating-point operations will not be computed\n"
     ]
    },
    {
     "data": {
      "text/html": [
       "\n",
       "    <div>\n",
       "      \n",
       "      <progress value='4558' max='7500' style='width:300px; height:20px; vertical-align: middle;'></progress>\n",
       "      [4558/7500 76:15:00 < 49:14:16, 0.02 it/s, Epoch 60.76/100]\n",
       "    </div>\n",
       "    <table border=\"1\" class=\"dataframe\">\n",
       "  <thead>\n",
       " <tr style=\"text-align: left;\">\n",
       "      <th>Step</th>\n",
       "      <th>Training Loss</th>\n",
       "      <th>Validation Loss</th>\n",
       "      <th>Mse</th>\n",
       "    </tr>\n",
       "  </thead>\n",
       "  <tbody>\n",
       "    <tr>\n",
       "      <td>50</td>\n",
       "      <td>1.992100</td>\n",
       "      <td>1.992232</td>\n",
       "      <td>1.968754</td>\n",
       "    </tr>\n",
       "    <tr>\n",
       "      <td>100</td>\n",
       "      <td>1.987700</td>\n",
       "      <td>1.992342</td>\n",
       "      <td>1.968812</td>\n",
       "    </tr>\n",
       "    <tr>\n",
       "      <td>150</td>\n",
       "      <td>1.988000</td>\n",
       "      <td>1.992467</td>\n",
       "      <td>1.968850</td>\n",
       "    </tr>\n",
       "    <tr>\n",
       "      <td>200</td>\n",
       "      <td>1.980200</td>\n",
       "      <td>1.992430</td>\n",
       "      <td>1.968855</td>\n",
       "    </tr>\n",
       "    <tr>\n",
       "      <td>250</td>\n",
       "      <td>1.975500</td>\n",
       "      <td>1.993180</td>\n",
       "      <td>1.969421</td>\n",
       "    </tr>\n",
       "    <tr>\n",
       "      <td>300</td>\n",
       "      <td>1.972500</td>\n",
       "      <td>1.993068</td>\n",
       "      <td>1.969266</td>\n",
       "    </tr>\n",
       "    <tr>\n",
       "      <td>350</td>\n",
       "      <td>1.957800</td>\n",
       "      <td>1.992710</td>\n",
       "      <td>1.969120</td>\n",
       "    </tr>\n",
       "    <tr>\n",
       "      <td>400</td>\n",
       "      <td>1.943600</td>\n",
       "      <td>1.994563</td>\n",
       "      <td>1.970129</td>\n",
       "    </tr>\n",
       "    <tr>\n",
       "      <td>450</td>\n",
       "      <td>1.954500</td>\n",
       "      <td>1.992423</td>\n",
       "      <td>1.968727</td>\n",
       "    </tr>\n",
       "    <tr>\n",
       "      <td>500</td>\n",
       "      <td>1.935300</td>\n",
       "      <td>1.990974</td>\n",
       "      <td>1.967012</td>\n",
       "    </tr>\n",
       "    <tr>\n",
       "      <td>550</td>\n",
       "      <td>1.927700</td>\n",
       "      <td>1.992711</td>\n",
       "      <td>1.968717</td>\n",
       "    </tr>\n",
       "    <tr>\n",
       "      <td>600</td>\n",
       "      <td>1.929200</td>\n",
       "      <td>1.992677</td>\n",
       "      <td>1.969223</td>\n",
       "    </tr>\n",
       "    <tr>\n",
       "      <td>650</td>\n",
       "      <td>1.895600</td>\n",
       "      <td>1.992273</td>\n",
       "      <td>1.968698</td>\n",
       "    </tr>\n",
       "    <tr>\n",
       "      <td>700</td>\n",
       "      <td>1.865100</td>\n",
       "      <td>1.993240</td>\n",
       "      <td>1.968952</td>\n",
       "    </tr>\n",
       "    <tr>\n",
       "      <td>750</td>\n",
       "      <td>1.894100</td>\n",
       "      <td>1.992262</td>\n",
       "      <td>1.967997</td>\n",
       "    </tr>\n",
       "    <tr>\n",
       "      <td>800</td>\n",
       "      <td>1.879500</td>\n",
       "      <td>1.992952</td>\n",
       "      <td>1.969013</td>\n",
       "    </tr>\n",
       "    <tr>\n",
       "      <td>850</td>\n",
       "      <td>1.853100</td>\n",
       "      <td>1.993623</td>\n",
       "      <td>1.969590</td>\n",
       "    </tr>\n",
       "    <tr>\n",
       "      <td>900</td>\n",
       "      <td>1.837200</td>\n",
       "      <td>1.992531</td>\n",
       "      <td>1.969037</td>\n",
       "    </tr>\n",
       "    <tr>\n",
       "      <td>950</td>\n",
       "      <td>1.828000</td>\n",
       "      <td>1.993075</td>\n",
       "      <td>1.969222</td>\n",
       "    </tr>\n",
       "    <tr>\n",
       "      <td>1000</td>\n",
       "      <td>1.823400</td>\n",
       "      <td>1.994371</td>\n",
       "      <td>1.970143</td>\n",
       "    </tr>\n",
       "    <tr>\n",
       "      <td>1050</td>\n",
       "      <td>1.803300</td>\n",
       "      <td>1.994027</td>\n",
       "      <td>1.970266</td>\n",
       "    </tr>\n",
       "    <tr>\n",
       "      <td>1100</td>\n",
       "      <td>1.776400</td>\n",
       "      <td>1.993534</td>\n",
       "      <td>1.969785</td>\n",
       "    </tr>\n",
       "    <tr>\n",
       "      <td>1150</td>\n",
       "      <td>1.794100</td>\n",
       "      <td>1.992230</td>\n",
       "      <td>1.968478</td>\n",
       "    </tr>\n",
       "    <tr>\n",
       "      <td>1200</td>\n",
       "      <td>1.769400</td>\n",
       "      <td>1.992152</td>\n",
       "      <td>1.968721</td>\n",
       "    </tr>\n",
       "    <tr>\n",
       "      <td>1250</td>\n",
       "      <td>1.727300</td>\n",
       "      <td>1.991768</td>\n",
       "      <td>1.968527</td>\n",
       "    </tr>\n",
       "    <tr>\n",
       "      <td>1300</td>\n",
       "      <td>1.713200</td>\n",
       "      <td>1.992811</td>\n",
       "      <td>1.968609</td>\n",
       "    </tr>\n",
       "    <tr>\n",
       "      <td>1350</td>\n",
       "      <td>1.768400</td>\n",
       "      <td>1.992318</td>\n",
       "      <td>1.968735</td>\n",
       "    </tr>\n",
       "    <tr>\n",
       "      <td>1400</td>\n",
       "      <td>1.727900</td>\n",
       "      <td>1.993606</td>\n",
       "      <td>1.969770</td>\n",
       "    </tr>\n",
       "    <tr>\n",
       "      <td>1450</td>\n",
       "      <td>1.709600</td>\n",
       "      <td>1.992741</td>\n",
       "      <td>1.969265</td>\n",
       "    </tr>\n",
       "    <tr>\n",
       "      <td>1500</td>\n",
       "      <td>1.753800</td>\n",
       "      <td>1.992374</td>\n",
       "      <td>1.969519</td>\n",
       "    </tr>\n",
       "    <tr>\n",
       "      <td>1550</td>\n",
       "      <td>1.707200</td>\n",
       "      <td>1.993220</td>\n",
       "      <td>1.969217</td>\n",
       "    </tr>\n",
       "    <tr>\n",
       "      <td>1600</td>\n",
       "      <td>1.711300</td>\n",
       "      <td>1.993379</td>\n",
       "      <td>1.969861</td>\n",
       "    </tr>\n",
       "    <tr>\n",
       "      <td>1650</td>\n",
       "      <td>1.673100</td>\n",
       "      <td>1.993178</td>\n",
       "      <td>1.969676</td>\n",
       "    </tr>\n",
       "    <tr>\n",
       "      <td>1700</td>\n",
       "      <td>1.670000</td>\n",
       "      <td>1.995810</td>\n",
       "      <td>1.971912</td>\n",
       "    </tr>\n",
       "    <tr>\n",
       "      <td>1750</td>\n",
       "      <td>1.685600</td>\n",
       "      <td>1.993366</td>\n",
       "      <td>1.969808</td>\n",
       "    </tr>\n",
       "    <tr>\n",
       "      <td>1800</td>\n",
       "      <td>1.655000</td>\n",
       "      <td>1.991987</td>\n",
       "      <td>1.968708</td>\n",
       "    </tr>\n",
       "    <tr>\n",
       "      <td>1850</td>\n",
       "      <td>1.657200</td>\n",
       "      <td>1.991824</td>\n",
       "      <td>1.968320</td>\n",
       "    </tr>\n",
       "    <tr>\n",
       "      <td>1900</td>\n",
       "      <td>1.647500</td>\n",
       "      <td>1.993417</td>\n",
       "      <td>1.970020</td>\n",
       "    </tr>\n",
       "    <tr>\n",
       "      <td>1950</td>\n",
       "      <td>1.615300</td>\n",
       "      <td>1.992151</td>\n",
       "      <td>1.969263</td>\n",
       "    </tr>\n",
       "    <tr>\n",
       "      <td>2000</td>\n",
       "      <td>1.624900</td>\n",
       "      <td>1.991546</td>\n",
       "      <td>1.968788</td>\n",
       "    </tr>\n",
       "    <tr>\n",
       "      <td>2050</td>\n",
       "      <td>1.578600</td>\n",
       "      <td>1.993279</td>\n",
       "      <td>1.969490</td>\n",
       "    </tr>\n",
       "    <tr>\n",
       "      <td>2100</td>\n",
       "      <td>1.617900</td>\n",
       "      <td>1.993518</td>\n",
       "      <td>1.970257</td>\n",
       "    </tr>\n",
       "    <tr>\n",
       "      <td>2150</td>\n",
       "      <td>1.592300</td>\n",
       "      <td>1.993101</td>\n",
       "      <td>1.970021</td>\n",
       "    </tr>\n",
       "    <tr>\n",
       "      <td>2200</td>\n",
       "      <td>1.590700</td>\n",
       "      <td>1.992816</td>\n",
       "      <td>1.969789</td>\n",
       "    </tr>\n",
       "    <tr>\n",
       "      <td>2250</td>\n",
       "      <td>1.630100</td>\n",
       "      <td>1.992018</td>\n",
       "      <td>1.968847</td>\n",
       "    </tr>\n",
       "    <tr>\n",
       "      <td>2300</td>\n",
       "      <td>1.623500</td>\n",
       "      <td>1.992485</td>\n",
       "      <td>1.969121</td>\n",
       "    </tr>\n",
       "    <tr>\n",
       "      <td>2350</td>\n",
       "      <td>1.602600</td>\n",
       "      <td>1.992170</td>\n",
       "      <td>1.968998</td>\n",
       "    </tr>\n",
       "    <tr>\n",
       "      <td>2400</td>\n",
       "      <td>1.575400</td>\n",
       "      <td>1.991363</td>\n",
       "      <td>1.968186</td>\n",
       "    </tr>\n",
       "    <tr>\n",
       "      <td>2450</td>\n",
       "      <td>1.555500</td>\n",
       "      <td>1.991763</td>\n",
       "      <td>1.969384</td>\n",
       "    </tr>\n",
       "    <tr>\n",
       "      <td>2500</td>\n",
       "      <td>1.563100</td>\n",
       "      <td>1.991775</td>\n",
       "      <td>1.968638</td>\n",
       "    </tr>\n",
       "    <tr>\n",
       "      <td>2550</td>\n",
       "      <td>1.547600</td>\n",
       "      <td>1.990978</td>\n",
       "      <td>1.967955</td>\n",
       "    </tr>\n",
       "    <tr>\n",
       "      <td>2600</td>\n",
       "      <td>1.572500</td>\n",
       "      <td>1.991231</td>\n",
       "      <td>1.967912</td>\n",
       "    </tr>\n",
       "    <tr>\n",
       "      <td>2650</td>\n",
       "      <td>1.541300</td>\n",
       "      <td>1.991801</td>\n",
       "      <td>1.968332</td>\n",
       "    </tr>\n",
       "    <tr>\n",
       "      <td>2700</td>\n",
       "      <td>1.562600</td>\n",
       "      <td>1.992493</td>\n",
       "      <td>1.969207</td>\n",
       "    </tr>\n",
       "    <tr>\n",
       "      <td>2750</td>\n",
       "      <td>1.556700</td>\n",
       "      <td>1.994133</td>\n",
       "      <td>1.970497</td>\n",
       "    </tr>\n",
       "    <tr>\n",
       "      <td>2800</td>\n",
       "      <td>1.516600</td>\n",
       "      <td>1.992978</td>\n",
       "      <td>1.969318</td>\n",
       "    </tr>\n",
       "    <tr>\n",
       "      <td>2850</td>\n",
       "      <td>1.526200</td>\n",
       "      <td>1.992981</td>\n",
       "      <td>1.969536</td>\n",
       "    </tr>\n",
       "    <tr>\n",
       "      <td>2900</td>\n",
       "      <td>1.527500</td>\n",
       "      <td>1.993044</td>\n",
       "      <td>1.969533</td>\n",
       "    </tr>\n",
       "    <tr>\n",
       "      <td>2950</td>\n",
       "      <td>1.532300</td>\n",
       "      <td>1.995455</td>\n",
       "      <td>1.971930</td>\n",
       "    </tr>\n",
       "    <tr>\n",
       "      <td>3000</td>\n",
       "      <td>1.508800</td>\n",
       "      <td>1.993895</td>\n",
       "      <td>1.970391</td>\n",
       "    </tr>\n",
       "    <tr>\n",
       "      <td>3050</td>\n",
       "      <td>1.484300</td>\n",
       "      <td>1.992017</td>\n",
       "      <td>1.969186</td>\n",
       "    </tr>\n",
       "    <tr>\n",
       "      <td>3100</td>\n",
       "      <td>1.491200</td>\n",
       "      <td>1.992256</td>\n",
       "      <td>1.969172</td>\n",
       "    </tr>\n",
       "    <tr>\n",
       "      <td>3150</td>\n",
       "      <td>1.486000</td>\n",
       "      <td>1.991215</td>\n",
       "      <td>1.968266</td>\n",
       "    </tr>\n",
       "    <tr>\n",
       "      <td>3200</td>\n",
       "      <td>1.470700</td>\n",
       "      <td>1.991879</td>\n",
       "      <td>1.968761</td>\n",
       "    </tr>\n",
       "    <tr>\n",
       "      <td>3250</td>\n",
       "      <td>1.521900</td>\n",
       "      <td>1.991965</td>\n",
       "      <td>1.968914</td>\n",
       "    </tr>\n",
       "    <tr>\n",
       "      <td>3300</td>\n",
       "      <td>1.464400</td>\n",
       "      <td>1.991520</td>\n",
       "      <td>1.968344</td>\n",
       "    </tr>\n",
       "    <tr>\n",
       "      <td>3350</td>\n",
       "      <td>1.495300</td>\n",
       "      <td>1.990009</td>\n",
       "      <td>1.966887</td>\n",
       "    </tr>\n",
       "    <tr>\n",
       "      <td>3400</td>\n",
       "      <td>1.444400</td>\n",
       "      <td>1.992499</td>\n",
       "      <td>1.969146</td>\n",
       "    </tr>\n",
       "    <tr>\n",
       "      <td>3450</td>\n",
       "      <td>1.501600</td>\n",
       "      <td>1.992746</td>\n",
       "      <td>1.969851</td>\n",
       "    </tr>\n",
       "    <tr>\n",
       "      <td>3500</td>\n",
       "      <td>1.476000</td>\n",
       "      <td>1.993994</td>\n",
       "      <td>1.970491</td>\n",
       "    </tr>\n",
       "    <tr>\n",
       "      <td>3550</td>\n",
       "      <td>1.467500</td>\n",
       "      <td>1.991329</td>\n",
       "      <td>1.968162</td>\n",
       "    </tr>\n",
       "    <tr>\n",
       "      <td>3600</td>\n",
       "      <td>1.488400</td>\n",
       "      <td>1.992277</td>\n",
       "      <td>1.969232</td>\n",
       "    </tr>\n",
       "    <tr>\n",
       "      <td>3650</td>\n",
       "      <td>1.448900</td>\n",
       "      <td>1.992198</td>\n",
       "      <td>1.968833</td>\n",
       "    </tr>\n",
       "    <tr>\n",
       "      <td>3700</td>\n",
       "      <td>1.473700</td>\n",
       "      <td>1.992225</td>\n",
       "      <td>1.968985</td>\n",
       "    </tr>\n",
       "    <tr>\n",
       "      <td>3750</td>\n",
       "      <td>1.428700</td>\n",
       "      <td>1.990894</td>\n",
       "      <td>1.967805</td>\n",
       "    </tr>\n",
       "    <tr>\n",
       "      <td>3800</td>\n",
       "      <td>1.440800</td>\n",
       "      <td>1.991987</td>\n",
       "      <td>1.968815</td>\n",
       "    </tr>\n",
       "    <tr>\n",
       "      <td>3850</td>\n",
       "      <td>1.443500</td>\n",
       "      <td>1.991752</td>\n",
       "      <td>1.968574</td>\n",
       "    </tr>\n",
       "    <tr>\n",
       "      <td>3900</td>\n",
       "      <td>1.443300</td>\n",
       "      <td>1.990900</td>\n",
       "      <td>1.968206</td>\n",
       "    </tr>\n",
       "    <tr>\n",
       "      <td>3950</td>\n",
       "      <td>1.475100</td>\n",
       "      <td>1.992163</td>\n",
       "      <td>1.968840</td>\n",
       "    </tr>\n",
       "    <tr>\n",
       "      <td>4000</td>\n",
       "      <td>1.449600</td>\n",
       "      <td>1.992375</td>\n",
       "      <td>1.969042</td>\n",
       "    </tr>\n",
       "    <tr>\n",
       "      <td>4050</td>\n",
       "      <td>1.416900</td>\n",
       "      <td>1.991264</td>\n",
       "      <td>1.967968</td>\n",
       "    </tr>\n",
       "    <tr>\n",
       "      <td>4100</td>\n",
       "      <td>1.414300</td>\n",
       "      <td>1.991404</td>\n",
       "      <td>1.967720</td>\n",
       "    </tr>\n",
       "    <tr>\n",
       "      <td>4150</td>\n",
       "      <td>1.452900</td>\n",
       "      <td>1.991885</td>\n",
       "      <td>1.968595</td>\n",
       "    </tr>\n",
       "    <tr>\n",
       "      <td>4200</td>\n",
       "      <td>1.471500</td>\n",
       "      <td>1.991832</td>\n",
       "      <td>1.968174</td>\n",
       "    </tr>\n",
       "    <tr>\n",
       "      <td>4250</td>\n",
       "      <td>1.460100</td>\n",
       "      <td>1.990705</td>\n",
       "      <td>1.967207</td>\n",
       "    </tr>\n",
       "    <tr>\n",
       "      <td>4300</td>\n",
       "      <td>1.387000</td>\n",
       "      <td>1.990356</td>\n",
       "      <td>1.967170</td>\n",
       "    </tr>\n",
       "    <tr>\n",
       "      <td>4350</td>\n",
       "      <td>1.407600</td>\n",
       "      <td>1.992288</td>\n",
       "      <td>1.968979</td>\n",
       "    </tr>\n",
       "    <tr>\n",
       "      <td>4400</td>\n",
       "      <td>1.413100</td>\n",
       "      <td>1.990937</td>\n",
       "      <td>1.967759</td>\n",
       "    </tr>\n",
       "    <tr>\n",
       "      <td>4450</td>\n",
       "      <td>1.413300</td>\n",
       "      <td>1.991494</td>\n",
       "      <td>1.968276</td>\n",
       "    </tr>\n",
       "    <tr>\n",
       "      <td>4500</td>\n",
       "      <td>1.387300</td>\n",
       "      <td>1.989251</td>\n",
       "      <td>1.966846</td>\n",
       "    </tr>\n",
       "    <tr>\n",
       "      <td>4550</td>\n",
       "      <td>1.403900</td>\n",
       "      <td>1.991314</td>\n",
       "      <td>1.968060</td>\n",
       "    </tr>\n",
       "  </tbody>\n",
       "</table><p>"
      ],
      "text/plain": [
       "<IPython.core.display.HTML object>"
      ]
     },
     "metadata": {},
     "output_type": "display_data"
    },
    {
     "name": "stderr",
     "output_type": "stream",
     "text": [
      "C:\\Users\\user\\anaconda3\\envs\\huggingface\\Lib\\site-packages\\transformers\\trainer.py:3683: RuntimeWarning: More than 20 figures have been opened. Figures created through the pyplot interface (`matplotlib.pyplot.figure`) are retained until explicitly closed and may consume too much memory. (To control this warning, see the rcParam `figure.max_open_warning`). Consider using `matplotlib.pyplot.close()`.\n",
      "  fig, axs = plt.subplots(len(channels), 1, figsize=(20, 15), sharex=True)\n"
     ]
    }
   ],
   "source": [
    "import sys\n",
    "sys.path.insert(0, './FirstMultiModel/EEGART')\n",
    "from transformers import Trainer, TrainingArguments\n",
    "import torch\n",
    "import torch.nn as nn\n",
    "import numpy as np\n",
    "\n",
    "import torch\n",
    "from torch.utils.data import Dataset, DataLoader\n",
    "from SLT_dataloader import SignalDataCollator\n",
    "\n",
    "from tf_config import SLTConfig\n",
    "from tf_model import SLTModel, SLTModel_ver2\n",
    "from datetime import datetime\n",
    "\n",
    "# 获取当前日期时间，并格式化为 YYYYMMDD\n",
    "current_date = datetime.now().strftime(\"%Y%m%d_%H%M%S\")\n",
    "\n",
    "# 替换路径中的日期\n",
    "output_dir = f\"./results_3pca/model_ver1_attention_block_8_{current_date}\"\n",
    "\n",
    "# 假設你的設備是 GPU\n",
    "device = torch.device(\"cuda:0\" if torch.cuda.is_available() else \"cpu\")\n",
    "    \n",
    "def compute_metrics(eval_preds, batch_size=64):\n",
    "    predictions, targets = eval_preds\n",
    "    \n",
    "    loss_fct = nn.MSELoss()\n",
    "    num_samples = predictions.shape[0]\n",
    "    mse_sum = 0.0\n",
    "    num_batches = 0\n",
    "\n",
    "    for start_idx in range(0, num_samples, batch_size):\n",
    "        end_idx = min(start_idx + batch_size, num_samples)\n",
    "        logits_batch = predictions[start_idx:end_idx]\n",
    "        labels_batch = targets[start_idx:end_idx]\n",
    "        logits = torch.tensor(logits_batch, dtype=torch.float32)\n",
    "        labels = torch.tensor(labels_batch, dtype=torch.float32)\n",
    "        # Compute the z-scores for the batch\n",
    "        logits_mean = torch.mean(logits, dim=0, keepdim=True)\n",
    "        logits_std = torch.std(logits, dim=0, keepdim=True)\n",
    "        logits_norm = (logits - logits_mean) / (logits_std + 1e-10)\n",
    "        \n",
    "        labels_mean = torch.mean(labels, dim=0, keepdim=True)\n",
    "        labels_std = torch.std(labels,  dim=0, keepdim=True)\n",
    "        labels_norm = (labels - labels_mean) / (labels_std + 1e-10)\n",
    "\n",
    "        if torch.isnan(logits_norm).any() or torch.isinf(logits_norm).any():\n",
    "            print(\"logits_norm contains nan or inf\")\n",
    "        if torch.isnan(labels_norm).any() or torch.isinf(labels_norm).any():\n",
    "            print(\"labels_norm contains nan or inf\")\n",
    "        \n",
    "        # Compute batch MSE\n",
    "        mse_sum += loss_fct(logits_norm, labels_norm).item()\n",
    "        num_batches += 1\n",
    "\n",
    "    # Return the average MSE\n",
    "    avg_mse = mse_sum / num_batches\n",
    "    \n",
    "    del logits, labels, logits_norm, labels_norm\n",
    "    torch.cuda.empty_cache()\n",
    "    \n",
    "    return {\"mse\": avg_mse}\n",
    "\n",
    "# 包裝自定義的初始化方法\n",
    "def huggingface_model_init():\n",
    "    slt_config = SLTConfig(src_channel_size=30, tgt_channel_size=204, N=8)\n",
    "    slt_config.save_pretrained(\"test_slt_confit\")\n",
    "    slt_model = SLTModel(slt_config)\n",
    "    slt_model = slt_model.to(device)\n",
    "    for p in slt_model.parameters():\n",
    "        if p.dim() > 1:\n",
    "            torch.nn.init.xavier_uniform_(p)\n",
    "    return slt_model\n",
    "\n",
    "\n",
    "\n",
    "training_args = TrainingArguments(\n",
    "    output_dir=output_dir,\n",
    "    eval_strategy=\"steps\",\n",
    "    eval_steps=50,\n",
    "    per_device_train_batch_size=256,\n",
    "    per_device_eval_batch_size=256,\n",
    "    eval_accumulation_steps=10,\n",
    "    num_train_epochs=100,\n",
    "    weight_decay=0.01,\n",
    "    learning_rate = 0.001,\n",
    "    # lr_scheduler_type = \"constant\",\n",
    "    # fp16=True,\n",
    "    save_strategy=\"epoch\",\n",
    "    logging_dir=\"./logs\",\n",
    "    logging_steps=20,\n",
    "    report_to=\"wandb\",\n",
    ")\n",
    "\n",
    "# 初始化模型和 Trainer\n",
    "trainer = Trainer(\n",
    "    # model=slt_model,\n",
    "    model_init=huggingface_model_init,\n",
    "    args=training_args,\n",
    "    train_dataset=train_dataset,\n",
    "    eval_dataset=test_dataset,\n",
    "    data_collator=SignalDataCollator(),\n",
    "    compute_metrics=compute_metrics,\n",
    ")\n",
    "\n",
    "# 开始训练\n",
    "trainer.train()"
   ]
  },
  {
   "cell_type": "code",
   "execution_count": null,
   "metadata": {},
   "outputs": [],
   "source": []
  }
 ],
 "metadata": {
  "kernelspec": {
   "display_name": "Python 3 (ipykernel)",
   "language": "python",
   "name": "python3"
  },
  "language_info": {
   "codemirror_mode": {
    "name": "ipython",
    "version": 3
   },
   "file_extension": ".py",
   "mimetype": "text/x-python",
   "name": "python",
   "nbconvert_exporter": "python",
   "pygments_lexer": "ipython3",
   "version": "3.12.7"
  }
 },
 "nbformat": 4,
 "nbformat_minor": 4
}
