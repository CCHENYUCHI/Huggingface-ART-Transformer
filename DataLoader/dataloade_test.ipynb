{
 "cells": [
  {
   "cell_type": "markdown",
   "metadata": {},
   "source": [
    "## Load Dataset"
   ]
  },
  {
   "cell_type": "code",
   "execution_count": 9,
   "metadata": {},
   "outputs": [
    {
     "name": "stdout",
     "output_type": "stream",
     "text": [
      "dict_keys(['__header__', '__version__', '__globals__', 'setname', 'filename', 'filepath', 'subject', 'group', 'condition', 'session', 'comments', 'nbchan', 'trials', 'pnts', 'srate', 'xmin', 'xmax', 'times', 'data', 'icaact', 'icawinv', 'icasphere', 'icaweights', 'icachansind', 'chanlocs', 'urchanlocs', 'chaninfo', 'ref', 'event', 'urevent', 'eventdescription', 'epoch', 'epochdescription', 'reject', 'stats', 'specdata', 'specicaact', 'splinefile', 'icasplinefile', 'dipfit', 'history', 'saved', 'etc', 'run', 'datfile'])\n"
     ]
    }
   ],
   "source": [
    "print(eeg_data.keys())"
   ]
  },
  {
   "cell_type": "code",
   "execution_count": 31,
   "metadata": {},
   "outputs": [
    {
     "name": "stdout",
     "output_type": "stream",
     "text": [
      "(3, 5003, 30200)\n",
      "Reading G:\\共用雲端硬碟\\CNElab_黎承宣&賴璁毅_EEG_ROI\\A.Dataset\\setfile\\0_ICA_DLtrain.fdt\n",
      "Reading 0 ... 77496  =      0.000 ...   302.719 secs...\n",
      "<Info | 8 non-empty values\n",
      " bads: []\n",
      " ch_names: FP1, FP2, F7, F3, FZ, F4, F8, FT7, FC3, FCZ, FC4, FT8, T3, C3, ...\n",
      " chs: 30 EEG\n",
      " custom_ref_applied: False\n",
      " dig: 33 items (3 Cardinal, 30 EEG)\n",
      " highpass: 0.0 Hz\n",
      " lowpass: 128.0 Hz\n",
      " meas_date: unspecified\n",
      " nchan: 30\n",
      " projs: []\n",
      " sfreq: 256.0 Hz\n",
      ">\n"
     ]
    }
   ],
   "source": [
    "import h5py\n",
    "import mne \n",
    "\n",
    "file_roi = \"G:\\\\共用雲端硬碟\\\\CNElab_黎承宣&賴璁毅_EEG_ROI\\\\A.Dataset\\\\processed_setfile\\\\processed_0_ICA_DLtrain.set\"\n",
    "file_eeg = \"G:\\\\共用雲端硬碟\\\\CNElab_黎承宣&賴璁毅_EEG_ROI\\\\A.Dataset\\\\setfile\\\\0_ICA_DLtrain.set\"\n",
    "\n",
    "with h5py.File(file_roi, 'r') as f:\n",
    "    if 'roi' in f:\n",
    "        ROI = f['roi']['source_voxel_data'][:]\n",
    "        print(ROI.shape)\n",
    "\n",
    "EEG = mne.io.read_raw_eeglab(file_eeg, preload=True)\n",
    "print(EEG.info)"
   ]
  },
  {
   "cell_type": "code",
   "execution_count": null,
   "metadata": {},
   "outputs": [
    {
     "name": "stdout",
     "output_type": "stream",
     "text": [
      "Reading G:\\共用雲端硬碟\\CNElab_黎承宣&賴璁毅_EEG_ROI\\A.Dataset\\setfile\\92_ICA_DLtrain.fdt\n",
      "Reading 0 ... 80158  =      0.000 ...   313.117 secs...\n",
      "Reading G:\\共用雲端硬碟\\CNElab_黎承宣&賴璁毅_EEG_ROI\\A.Dataset\\setfile\\489_ICA_DLtrain.fdt\n",
      "Reading 0 ... 87111  =      0.000 ...   340.277 secs...\n"
     ]
    }
   ],
   "source": [
    "import os\n",
    "import numpy as np\n",
    "import h5py\n",
    "import mne\n",
    "from torch.utils.data import Dataset\n",
    "\n",
    "class EEGROIDataset(Dataset):\n",
    "    def __init__(self, roi_folder, eeg_folder, overlap=0.5, window_size=500):\n",
    "        \"\"\"\n",
    "        Args:\n",
    "            roi_folder (str): Path to the folder containing ROI .set files.\n",
    "            eeg_folder (str): Path to the folder containing EEG .set files.\n",
    "            overlap (float): Fraction of overlap between consecutive windows (0 <= overlap < 1).\n",
    "            window_size (int): Number of samples in each window.\n",
    "        \"\"\"\n",
    "        self.roi_folder = roi_folder\n",
    "        self.eeg_folder = eeg_folder\n",
    "        self.overlap = overlap\n",
    "        self.window_size = window_size\n",
    "        self.subjects = self._get_subject_list()\n",
    "\n",
    "        self.data = []  # Will store tuples of (ROI segment, EEG segment)\n",
    "        self._prepare_dataset()\n",
    "\n",
    "    def _get_subject_list(self):\n",
    "        \"\"\"Gets the list of subjects based on file names in the ROI folder.\"\"\"\n",
    "        return [f.split('_')[1] for f in os.listdir(self.roi_folder) if f.endswith('.set')]\n",
    "\n",
    "    def _prepare_dataset(self):\n",
    "        \"\"\"Reads and processes data for all subjects.\"\"\"\n",
    "        for subject in self.subjects:\n",
    "            roi_path = os.path.join(self.roi_folder, f\"processed_{subject}_ICA_DLtrain.set\")\n",
    "            eeg_path = os.path.join(self.eeg_folder, f\"{subject}_ICA_DLtrain.set\")\n",
    "\n",
    "            # Load ROI data\n",
    "            with h5py.File(roi_path, 'r') as f:\n",
    "                if 'roi' in f:\n",
    "                    roi_data = f['roi']['source_voxel_data'][:]\n",
    "\n",
    "            # Load EEG data\n",
    "            eeg_data = mne.io.read_raw_eeglab(eeg_path, preload=True).get_data()\n",
    "\n",
    "            # Verify dimensions\n",
    "            assert roi_data.shape[0] == 3, f\"Unexpected ROI shape: {roi_data.shape}\"\n",
    "            assert roi_data.shape[1] == 5003, f\"Unexpected ROI shape: {roi_data.shape}\"\n",
    "            assert eeg_data.shape[0] == 30, f\"Unexpected EEG shape: {eeg_data.shape}\"\n",
    "\n",
    "            # Process and overlap data\n",
    "            self._process_subject_data(roi_data, eeg_data)\n",
    "\n",
    "    def _process_subject_data(self, roi_data, eeg_data):\n",
    "        \"\"\"Segments and overlaps data for a single subject.\"\"\"\n",
    "        step = int(self.window_size * (1 - self.overlap))\n",
    "\n",
    "        for start_idx in range(0, roi_data.shape[1] - self.window_size + 1, step):\n",
    "            roi_segment = roi_data[:, start_idx:start_idx + self.window_size, :]\n",
    "            eeg_segment = eeg_data[:, start_idx:start_idx + self.window_size]\n",
    "\n",
    "            if roi_segment.shape[1] == self.window_size and eeg_segment.shape[1] == self.window_size:\n",
    "                self.data.append((roi_segment, eeg_segment))\n",
    "\n",
    "    def __len__(self):\n",
    "        return len(self.data)\n",
    "\n",
    "    def __getitem__(self, idx):\n",
    "        return self.data[idx]\n",
    "\n",
    "# Usage example\n",
    "roi_folder = \"G:\\\\共用雲端硬碟\\\\CNElab_黎承宣&賴璁毅_EEG_ROI\\\\A.Dataset\\\\processed_setfile\"\n",
    "eeg_folder = \"G:\\\\共用雲端硬碟\\\\CNElab_黎承宣&賴璁毅_EEG_ROI\\\\A.Dataset\\\\setfile\"\n",
    "\n",
    "overlap = 0.5  # 50% overlap\n",
    "window_size = 500\n",
    "\n",
    "# Create dataset\n",
    "dataset = EEGROIDataset(roi_folder, eeg_folder, overlap, window_size)\n",
    "print(f\"Total dataset size: {len(dataset)}\")\n",
    "\n",
    "\"\"\"\n",
    "77497/30200 = 2.5660\n",
    "78879/30800 = 2.5610\n",
    "77005/30000 = 2.5668\n",
    "\"\"\""
   ]
  },
  {
   "cell_type": "code",
   "execution_count": null,
   "metadata": {},
   "outputs": [
    {
     "ename": "NameError",
     "evalue": "name 'h5py' is not defined",
     "output_type": "error",
     "traceback": [
      "\u001b[1;31m---------------------------------------------------------------------------\u001b[0m",
      "\u001b[1;31mNameError\u001b[0m                                 Traceback (most recent call last)",
      "Cell \u001b[1;32mIn[3], line 13\u001b[0m\n\u001b[0;32m     11\u001b[0m eeg_path \u001b[38;5;241m=\u001b[39m os\u001b[38;5;241m.\u001b[39mpath\u001b[38;5;241m.\u001b[39mjoin(eeg_folder, \u001b[38;5;124mf\u001b[39m\u001b[38;5;124m\"\u001b[39m\u001b[38;5;132;01m{\u001b[39;00msubject\u001b[38;5;132;01m}\u001b[39;00m\u001b[38;5;124m_ICA_DLtrain.set\u001b[39m\u001b[38;5;124m\"\u001b[39m)\n\u001b[0;32m     12\u001b[0m \u001b[38;5;66;03m# Load ROI data\u001b[39;00m\n\u001b[1;32m---> 13\u001b[0m \u001b[38;5;28;01mwith\u001b[39;00m \u001b[43mh5py\u001b[49m\u001b[38;5;241m.\u001b[39mFile(roi_path, \u001b[38;5;124m'\u001b[39m\u001b[38;5;124mr\u001b[39m\u001b[38;5;124m'\u001b[39m) \u001b[38;5;28;01mas\u001b[39;00m f:\n\u001b[0;32m     14\u001b[0m     \u001b[38;5;28;01mif\u001b[39;00m \u001b[38;5;124m'\u001b[39m\u001b[38;5;124mroi\u001b[39m\u001b[38;5;124m'\u001b[39m \u001b[38;5;129;01min\u001b[39;00m f:\n\u001b[0;32m     15\u001b[0m         roi_data \u001b[38;5;241m=\u001b[39m f[\u001b[38;5;124m'\u001b[39m\u001b[38;5;124mroi\u001b[39m\u001b[38;5;124m'\u001b[39m][\u001b[38;5;124m'\u001b[39m\u001b[38;5;124msource_voxel_data\u001b[39m\u001b[38;5;124m'\u001b[39m][:]\n",
      "\u001b[1;31mNameError\u001b[0m: name 'h5py' is not defined"
     ]
    }
   ],
   "source": [
    "import os\n",
    "import numpy as np\n",
    "import h5py\n",
    "import mne\n",
    "from torch.utils.data import Dataset\n",
    "\n",
    "roi_folder = \"G:\\\\共用雲端硬碟\\\\CNElab_黎承宣&賴璁毅_EEG_ROI\\\\A.Dataset\\\\processed_setfile\"\n",
    "eeg_folder = \"G:\\\\共用雲端硬碟\\\\CNElab_黎承宣&賴璁毅_EEG_ROI\\\\A.Dataset\\\\setfile\"\n",
    "roi_folder_ls = [f.split('_')[1] for f in os.listdir(roi_folder) if f.endswith('.set')]\n",
    "\n",
    "shape_list = []\n",
    "\n",
    "for subject in roi_folder_ls:\n",
    "    roi_path = os.path.join(roi_folder, f\"processed_{subject}_ICA_DLtrain.set\")\n",
    "    eeg_path = os.path.join(eeg_folder, f\"{subject}_ICA_DLtrain.set\")\n",
    "    # Load ROI data\n",
    "    with h5py.File(roi_path, 'r') as f:\n",
    "        if 'roi' in f:\n",
    "            roi_data = f['roi']['source_voxel_data'][:]\n",
    "            print(roi_data.shape)\n",
    "\n",
    "    # Load EEG data\n",
    "    eeg_data = mne.io.read_raw_eeglab(eeg_path, preload=True).get_data()\n",
    "    print(eeg_data.shape)\n",
    "    shape_list.append((roi_data.shape, eeg_data.shape))"
   ]
  }
 ],
 "metadata": {
  "kernelspec": {
   "display_name": "huggingface",
   "language": "python",
   "name": "python3"
  },
  "language_info": {
   "codemirror_mode": {
    "name": "ipython",
    "version": 3
   },
   "file_extension": ".py",
   "mimetype": "text/x-python",
   "name": "python",
   "nbconvert_exporter": "python",
   "pygments_lexer": "ipython3",
   "version": "3.12.7"
  }
 },
 "nbformat": 4,
 "nbformat_minor": 2
}
